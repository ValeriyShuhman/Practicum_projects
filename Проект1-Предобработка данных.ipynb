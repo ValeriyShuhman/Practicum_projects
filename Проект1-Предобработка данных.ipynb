{
 "cells": [
  {
   "cell_type": "markdown",
   "id": "e68cc74f",
   "metadata": {
    "deletable": false,
    "editable": false,
    "id": "c81daeeb"
   },
   "source": [
    "# Исследование надежности заемщиков\n"
   ]
  },
  {
   "cell_type": "markdown",
   "id": "189b9ab5",
   "metadata": {
    "deletable": false,
    "editable": false,
    "id": "827c20bf"
   },
   "source": [
    "Во второй части проекта вы выполните шаги 3 и 4. Их вручную проверит ревьюер.\n",
    "Чтобы вам не пришлось писать код заново для шагов 1 и 2, мы добавили авторские решения в ячейки с кодом. \n",
    "\n"
   ]
  },
  {
   "cell_type": "markdown",
   "id": "fe23c543",
   "metadata": {
    "deletable": false,
    "editable": false,
    "id": "744d7639"
   },
   "source": [
    "## Откройте таблицу и изучите общую информацию о данных"
   ]
  },
  {
   "cell_type": "markdown",
   "id": "a3013578",
   "metadata": {
    "deletable": false,
    "editable": false,
    "id": "e7a14c31"
   },
   "source": [
    "**Задание 1. Импортируйте библиотеку pandas. Считайте данные из csv-файла в датафрейм и сохраните в переменную `data`. Путь к файлу:**\n",
    "\n",
    "`/datasets/data.csv`"
   ]
  },
  {
   "cell_type": "code",
   "execution_count": 1,
   "id": "beca2285",
   "metadata": {
    "deletable": false,
    "id": "7bcf75c9"
   },
   "outputs": [],
   "source": [
    "import pandas as pd\n",
    "\n",
    "try:\n",
    "    data = pd.read_csv('/datasets/data.csv')\n",
    "except:\n",
    "    data = pd.read_csv('https://code.s3.yandex.net/datasets/data.csv')"
   ]
  },
  {
   "cell_type": "markdown",
   "id": "eafd49e2",
   "metadata": {
    "deletable": false,
    "editable": false,
    "id": "b8038fe3"
   },
   "source": [
    "**Задание 2. Выведите первые 20 строчек датафрейма `data` на экран.**"
   ]
  },
  {
   "cell_type": "code",
   "execution_count": 2,
   "id": "a28728b0",
   "metadata": {
    "deletable": false,
    "id": "2a7cab99",
    "outputId": "1a8f3ef2-d323-4ec2-ddf7-89670b5944c4"
   },
   "outputs": [
    {
     "data": {
      "text/html": [
       "<div>\n",
       "<style scoped>\n",
       "    .dataframe tbody tr th:only-of-type {\n",
       "        vertical-align: middle;\n",
       "    }\n",
       "\n",
       "    .dataframe tbody tr th {\n",
       "        vertical-align: top;\n",
       "    }\n",
       "\n",
       "    .dataframe thead th {\n",
       "        text-align: right;\n",
       "    }\n",
       "</style>\n",
       "<table border=\"1\" class=\"dataframe\">\n",
       "  <thead>\n",
       "    <tr style=\"text-align: right;\">\n",
       "      <th></th>\n",
       "      <th>children</th>\n",
       "      <th>days_employed</th>\n",
       "      <th>dob_years</th>\n",
       "      <th>education</th>\n",
       "      <th>education_id</th>\n",
       "      <th>family_status</th>\n",
       "      <th>family_status_id</th>\n",
       "      <th>gender</th>\n",
       "      <th>income_type</th>\n",
       "      <th>debt</th>\n",
       "      <th>total_income</th>\n",
       "      <th>purpose</th>\n",
       "    </tr>\n",
       "  </thead>\n",
       "  <tbody>\n",
       "    <tr>\n",
       "      <th>0</th>\n",
       "      <td>1</td>\n",
       "      <td>-8437.673028</td>\n",
       "      <td>42</td>\n",
       "      <td>высшее</td>\n",
       "      <td>0</td>\n",
       "      <td>женат / замужем</td>\n",
       "      <td>0</td>\n",
       "      <td>F</td>\n",
       "      <td>сотрудник</td>\n",
       "      <td>0</td>\n",
       "      <td>253875.639453</td>\n",
       "      <td>покупка жилья</td>\n",
       "    </tr>\n",
       "    <tr>\n",
       "      <th>1</th>\n",
       "      <td>1</td>\n",
       "      <td>-4024.803754</td>\n",
       "      <td>36</td>\n",
       "      <td>среднее</td>\n",
       "      <td>1</td>\n",
       "      <td>женат / замужем</td>\n",
       "      <td>0</td>\n",
       "      <td>F</td>\n",
       "      <td>сотрудник</td>\n",
       "      <td>0</td>\n",
       "      <td>112080.014102</td>\n",
       "      <td>приобретение автомобиля</td>\n",
       "    </tr>\n",
       "    <tr>\n",
       "      <th>2</th>\n",
       "      <td>0</td>\n",
       "      <td>-5623.422610</td>\n",
       "      <td>33</td>\n",
       "      <td>Среднее</td>\n",
       "      <td>1</td>\n",
       "      <td>женат / замужем</td>\n",
       "      <td>0</td>\n",
       "      <td>M</td>\n",
       "      <td>сотрудник</td>\n",
       "      <td>0</td>\n",
       "      <td>145885.952297</td>\n",
       "      <td>покупка жилья</td>\n",
       "    </tr>\n",
       "    <tr>\n",
       "      <th>3</th>\n",
       "      <td>3</td>\n",
       "      <td>-4124.747207</td>\n",
       "      <td>32</td>\n",
       "      <td>среднее</td>\n",
       "      <td>1</td>\n",
       "      <td>женат / замужем</td>\n",
       "      <td>0</td>\n",
       "      <td>M</td>\n",
       "      <td>сотрудник</td>\n",
       "      <td>0</td>\n",
       "      <td>267628.550329</td>\n",
       "      <td>дополнительное образование</td>\n",
       "    </tr>\n",
       "    <tr>\n",
       "      <th>4</th>\n",
       "      <td>0</td>\n",
       "      <td>340266.072047</td>\n",
       "      <td>53</td>\n",
       "      <td>среднее</td>\n",
       "      <td>1</td>\n",
       "      <td>гражданский брак</td>\n",
       "      <td>1</td>\n",
       "      <td>F</td>\n",
       "      <td>пенсионер</td>\n",
       "      <td>0</td>\n",
       "      <td>158616.077870</td>\n",
       "      <td>сыграть свадьбу</td>\n",
       "    </tr>\n",
       "    <tr>\n",
       "      <th>5</th>\n",
       "      <td>0</td>\n",
       "      <td>-926.185831</td>\n",
       "      <td>27</td>\n",
       "      <td>высшее</td>\n",
       "      <td>0</td>\n",
       "      <td>гражданский брак</td>\n",
       "      <td>1</td>\n",
       "      <td>M</td>\n",
       "      <td>компаньон</td>\n",
       "      <td>0</td>\n",
       "      <td>255763.565419</td>\n",
       "      <td>покупка жилья</td>\n",
       "    </tr>\n",
       "    <tr>\n",
       "      <th>6</th>\n",
       "      <td>0</td>\n",
       "      <td>-2879.202052</td>\n",
       "      <td>43</td>\n",
       "      <td>высшее</td>\n",
       "      <td>0</td>\n",
       "      <td>женат / замужем</td>\n",
       "      <td>0</td>\n",
       "      <td>F</td>\n",
       "      <td>компаньон</td>\n",
       "      <td>0</td>\n",
       "      <td>240525.971920</td>\n",
       "      <td>операции с жильем</td>\n",
       "    </tr>\n",
       "    <tr>\n",
       "      <th>7</th>\n",
       "      <td>0</td>\n",
       "      <td>-152.779569</td>\n",
       "      <td>50</td>\n",
       "      <td>СРЕДНЕЕ</td>\n",
       "      <td>1</td>\n",
       "      <td>женат / замужем</td>\n",
       "      <td>0</td>\n",
       "      <td>M</td>\n",
       "      <td>сотрудник</td>\n",
       "      <td>0</td>\n",
       "      <td>135823.934197</td>\n",
       "      <td>образование</td>\n",
       "    </tr>\n",
       "    <tr>\n",
       "      <th>8</th>\n",
       "      <td>2</td>\n",
       "      <td>-6929.865299</td>\n",
       "      <td>35</td>\n",
       "      <td>ВЫСШЕЕ</td>\n",
       "      <td>0</td>\n",
       "      <td>гражданский брак</td>\n",
       "      <td>1</td>\n",
       "      <td>F</td>\n",
       "      <td>сотрудник</td>\n",
       "      <td>0</td>\n",
       "      <td>95856.832424</td>\n",
       "      <td>на проведение свадьбы</td>\n",
       "    </tr>\n",
       "    <tr>\n",
       "      <th>9</th>\n",
       "      <td>0</td>\n",
       "      <td>-2188.756445</td>\n",
       "      <td>41</td>\n",
       "      <td>среднее</td>\n",
       "      <td>1</td>\n",
       "      <td>женат / замужем</td>\n",
       "      <td>0</td>\n",
       "      <td>M</td>\n",
       "      <td>сотрудник</td>\n",
       "      <td>0</td>\n",
       "      <td>144425.938277</td>\n",
       "      <td>покупка жилья для семьи</td>\n",
       "    </tr>\n",
       "    <tr>\n",
       "      <th>10</th>\n",
       "      <td>2</td>\n",
       "      <td>-4171.483647</td>\n",
       "      <td>36</td>\n",
       "      <td>высшее</td>\n",
       "      <td>0</td>\n",
       "      <td>женат / замужем</td>\n",
       "      <td>0</td>\n",
       "      <td>M</td>\n",
       "      <td>компаньон</td>\n",
       "      <td>0</td>\n",
       "      <td>113943.491460</td>\n",
       "      <td>покупка недвижимости</td>\n",
       "    </tr>\n",
       "    <tr>\n",
       "      <th>11</th>\n",
       "      <td>0</td>\n",
       "      <td>-792.701887</td>\n",
       "      <td>40</td>\n",
       "      <td>среднее</td>\n",
       "      <td>1</td>\n",
       "      <td>женат / замужем</td>\n",
       "      <td>0</td>\n",
       "      <td>F</td>\n",
       "      <td>сотрудник</td>\n",
       "      <td>0</td>\n",
       "      <td>77069.234271</td>\n",
       "      <td>покупка коммерческой недвижимости</td>\n",
       "    </tr>\n",
       "    <tr>\n",
       "      <th>12</th>\n",
       "      <td>0</td>\n",
       "      <td>NaN</td>\n",
       "      <td>65</td>\n",
       "      <td>среднее</td>\n",
       "      <td>1</td>\n",
       "      <td>гражданский брак</td>\n",
       "      <td>1</td>\n",
       "      <td>M</td>\n",
       "      <td>пенсионер</td>\n",
       "      <td>0</td>\n",
       "      <td>NaN</td>\n",
       "      <td>сыграть свадьбу</td>\n",
       "    </tr>\n",
       "    <tr>\n",
       "      <th>13</th>\n",
       "      <td>0</td>\n",
       "      <td>-1846.641941</td>\n",
       "      <td>54</td>\n",
       "      <td>неоконченное высшее</td>\n",
       "      <td>2</td>\n",
       "      <td>женат / замужем</td>\n",
       "      <td>0</td>\n",
       "      <td>F</td>\n",
       "      <td>сотрудник</td>\n",
       "      <td>0</td>\n",
       "      <td>130458.228857</td>\n",
       "      <td>приобретение автомобиля</td>\n",
       "    </tr>\n",
       "    <tr>\n",
       "      <th>14</th>\n",
       "      <td>0</td>\n",
       "      <td>-1844.956182</td>\n",
       "      <td>56</td>\n",
       "      <td>высшее</td>\n",
       "      <td>0</td>\n",
       "      <td>гражданский брак</td>\n",
       "      <td>1</td>\n",
       "      <td>F</td>\n",
       "      <td>компаньон</td>\n",
       "      <td>1</td>\n",
       "      <td>165127.911772</td>\n",
       "      <td>покупка жилой недвижимости</td>\n",
       "    </tr>\n",
       "    <tr>\n",
       "      <th>15</th>\n",
       "      <td>1</td>\n",
       "      <td>-972.364419</td>\n",
       "      <td>26</td>\n",
       "      <td>среднее</td>\n",
       "      <td>1</td>\n",
       "      <td>женат / замужем</td>\n",
       "      <td>0</td>\n",
       "      <td>F</td>\n",
       "      <td>сотрудник</td>\n",
       "      <td>0</td>\n",
       "      <td>116820.904450</td>\n",
       "      <td>строительство собственной недвижимости</td>\n",
       "    </tr>\n",
       "    <tr>\n",
       "      <th>16</th>\n",
       "      <td>0</td>\n",
       "      <td>-1719.934226</td>\n",
       "      <td>35</td>\n",
       "      <td>среднее</td>\n",
       "      <td>1</td>\n",
       "      <td>женат / замужем</td>\n",
       "      <td>0</td>\n",
       "      <td>F</td>\n",
       "      <td>сотрудник</td>\n",
       "      <td>0</td>\n",
       "      <td>289202.704229</td>\n",
       "      <td>недвижимость</td>\n",
       "    </tr>\n",
       "    <tr>\n",
       "      <th>17</th>\n",
       "      <td>0</td>\n",
       "      <td>-2369.999720</td>\n",
       "      <td>33</td>\n",
       "      <td>высшее</td>\n",
       "      <td>0</td>\n",
       "      <td>гражданский брак</td>\n",
       "      <td>1</td>\n",
       "      <td>M</td>\n",
       "      <td>сотрудник</td>\n",
       "      <td>0</td>\n",
       "      <td>90410.586745</td>\n",
       "      <td>строительство недвижимости</td>\n",
       "    </tr>\n",
       "    <tr>\n",
       "      <th>18</th>\n",
       "      <td>0</td>\n",
       "      <td>400281.136913</td>\n",
       "      <td>53</td>\n",
       "      <td>среднее</td>\n",
       "      <td>1</td>\n",
       "      <td>вдовец / вдова</td>\n",
       "      <td>2</td>\n",
       "      <td>F</td>\n",
       "      <td>пенсионер</td>\n",
       "      <td>0</td>\n",
       "      <td>56823.777243</td>\n",
       "      <td>на покупку подержанного автомобиля</td>\n",
       "    </tr>\n",
       "    <tr>\n",
       "      <th>19</th>\n",
       "      <td>0</td>\n",
       "      <td>-10038.818549</td>\n",
       "      <td>48</td>\n",
       "      <td>СРЕДНЕЕ</td>\n",
       "      <td>1</td>\n",
       "      <td>в разводе</td>\n",
       "      <td>3</td>\n",
       "      <td>F</td>\n",
       "      <td>сотрудник</td>\n",
       "      <td>0</td>\n",
       "      <td>242831.107982</td>\n",
       "      <td>на покупку своего автомобиля</td>\n",
       "    </tr>\n",
       "  </tbody>\n",
       "</table>\n",
       "</div>"
      ],
      "text/plain": [
       "    children  days_employed  dob_years            education  education_id  \\\n",
       "0          1   -8437.673028         42               высшее             0   \n",
       "1          1   -4024.803754         36              среднее             1   \n",
       "2          0   -5623.422610         33              Среднее             1   \n",
       "3          3   -4124.747207         32              среднее             1   \n",
       "4          0  340266.072047         53              среднее             1   \n",
       "5          0    -926.185831         27               высшее             0   \n",
       "6          0   -2879.202052         43               высшее             0   \n",
       "7          0    -152.779569         50              СРЕДНЕЕ             1   \n",
       "8          2   -6929.865299         35               ВЫСШЕЕ             0   \n",
       "9          0   -2188.756445         41              среднее             1   \n",
       "10         2   -4171.483647         36               высшее             0   \n",
       "11         0    -792.701887         40              среднее             1   \n",
       "12         0            NaN         65              среднее             1   \n",
       "13         0   -1846.641941         54  неоконченное высшее             2   \n",
       "14         0   -1844.956182         56               высшее             0   \n",
       "15         1    -972.364419         26              среднее             1   \n",
       "16         0   -1719.934226         35              среднее             1   \n",
       "17         0   -2369.999720         33               высшее             0   \n",
       "18         0  400281.136913         53              среднее             1   \n",
       "19         0  -10038.818549         48              СРЕДНЕЕ             1   \n",
       "\n",
       "       family_status  family_status_id gender income_type  debt  \\\n",
       "0    женат / замужем                 0      F   сотрудник     0   \n",
       "1    женат / замужем                 0      F   сотрудник     0   \n",
       "2    женат / замужем                 0      M   сотрудник     0   \n",
       "3    женат / замужем                 0      M   сотрудник     0   \n",
       "4   гражданский брак                 1      F   пенсионер     0   \n",
       "5   гражданский брак                 1      M   компаньон     0   \n",
       "6    женат / замужем                 0      F   компаньон     0   \n",
       "7    женат / замужем                 0      M   сотрудник     0   \n",
       "8   гражданский брак                 1      F   сотрудник     0   \n",
       "9    женат / замужем                 0      M   сотрудник     0   \n",
       "10   женат / замужем                 0      M   компаньон     0   \n",
       "11   женат / замужем                 0      F   сотрудник     0   \n",
       "12  гражданский брак                 1      M   пенсионер     0   \n",
       "13   женат / замужем                 0      F   сотрудник     0   \n",
       "14  гражданский брак                 1      F   компаньон     1   \n",
       "15   женат / замужем                 0      F   сотрудник     0   \n",
       "16   женат / замужем                 0      F   сотрудник     0   \n",
       "17  гражданский брак                 1      M   сотрудник     0   \n",
       "18    вдовец / вдова                 2      F   пенсионер     0   \n",
       "19         в разводе                 3      F   сотрудник     0   \n",
       "\n",
       "     total_income                                 purpose  \n",
       "0   253875.639453                           покупка жилья  \n",
       "1   112080.014102                 приобретение автомобиля  \n",
       "2   145885.952297                           покупка жилья  \n",
       "3   267628.550329              дополнительное образование  \n",
       "4   158616.077870                         сыграть свадьбу  \n",
       "5   255763.565419                           покупка жилья  \n",
       "6   240525.971920                       операции с жильем  \n",
       "7   135823.934197                             образование  \n",
       "8    95856.832424                   на проведение свадьбы  \n",
       "9   144425.938277                 покупка жилья для семьи  \n",
       "10  113943.491460                    покупка недвижимости  \n",
       "11   77069.234271       покупка коммерческой недвижимости  \n",
       "12            NaN                         сыграть свадьбу  \n",
       "13  130458.228857                 приобретение автомобиля  \n",
       "14  165127.911772              покупка жилой недвижимости  \n",
       "15  116820.904450  строительство собственной недвижимости  \n",
       "16  289202.704229                            недвижимость  \n",
       "17   90410.586745              строительство недвижимости  \n",
       "18   56823.777243      на покупку подержанного автомобиля  \n",
       "19  242831.107982            на покупку своего автомобиля  "
      ]
     },
     "execution_count": 2,
     "metadata": {},
     "output_type": "execute_result"
    }
   ],
   "source": [
    "data.head(20)"
   ]
  },
  {
   "cell_type": "markdown",
   "id": "736da372",
   "metadata": {
    "deletable": false,
    "editable": false,
    "id": "1c12e233"
   },
   "source": [
    "**Задание 3. Выведите основную информацию о датафрейме с помощью метода `info()`.**"
   ]
  },
  {
   "cell_type": "code",
   "execution_count": 3,
   "id": "eba2630a",
   "metadata": {
    "deletable": false,
    "id": "2b757bca",
    "outputId": "15376089-8dad-46c9-b520-c05248d43158"
   },
   "outputs": [
    {
     "name": "stdout",
     "output_type": "stream",
     "text": [
      "<class 'pandas.core.frame.DataFrame'>\n",
      "RangeIndex: 21525 entries, 0 to 21524\n",
      "Data columns (total 12 columns):\n",
      " #   Column            Non-Null Count  Dtype  \n",
      "---  ------            --------------  -----  \n",
      " 0   children          21525 non-null  int64  \n",
      " 1   days_employed     19351 non-null  float64\n",
      " 2   dob_years         21525 non-null  int64  \n",
      " 3   education         21525 non-null  object \n",
      " 4   education_id      21525 non-null  int64  \n",
      " 5   family_status     21525 non-null  object \n",
      " 6   family_status_id  21525 non-null  int64  \n",
      " 7   gender            21525 non-null  object \n",
      " 8   income_type       21525 non-null  object \n",
      " 9   debt              21525 non-null  int64  \n",
      " 10  total_income      19351 non-null  float64\n",
      " 11  purpose           21525 non-null  object \n",
      "dtypes: float64(2), int64(5), object(5)\n",
      "memory usage: 2.0+ MB\n"
     ]
    }
   ],
   "source": [
    "data.info()"
   ]
  },
  {
   "cell_type": "markdown",
   "id": "94af8c69",
   "metadata": {
    "deletable": false,
    "editable": false,
    "id": "333ec665"
   },
   "source": [
    "## Предобработка данных"
   ]
  },
  {
   "cell_type": "markdown",
   "id": "c00f01ed",
   "metadata": {
    "deletable": false,
    "editable": false,
    "id": "02d92d53"
   },
   "source": [
    "### Удаление пропусков"
   ]
  },
  {
   "cell_type": "markdown",
   "id": "341f9394",
   "metadata": {
    "deletable": false,
    "editable": false,
    "id": "cd84967c"
   },
   "source": [
    "**Задание 4. Выведите количество пропущенных значений для каждого столбца. Используйте комбинацию двух методов.**"
   ]
  },
  {
   "cell_type": "code",
   "execution_count": 4,
   "id": "a858e1b8",
   "metadata": {
    "deletable": false,
    "id": "7f9b2309",
    "outputId": "81f4d817-781c-465c-ed15-91ce4446810d"
   },
   "outputs": [
    {
     "data": {
      "text/plain": [
       "children               0\n",
       "days_employed       2174\n",
       "dob_years              0\n",
       "education              0\n",
       "education_id           0\n",
       "family_status          0\n",
       "family_status_id       0\n",
       "gender                 0\n",
       "income_type            0\n",
       "debt                   0\n",
       "total_income        2174\n",
       "purpose                0\n",
       "dtype: int64"
      ]
     },
     "execution_count": 4,
     "metadata": {},
     "output_type": "execute_result"
    }
   ],
   "source": [
    "data.isna().sum()"
   ]
  },
  {
   "cell_type": "markdown",
   "id": "6be9b439",
   "metadata": {
    "deletable": false,
    "editable": false,
    "id": "db86e27b"
   },
   "source": [
    "**Задание 5. В двух столбцах есть пропущенные значения. Один из них — `days_employed`. Пропуски в этом столбце вы обработаете на следующем этапе. Другой столбец с пропущенными значениями — `total_income` — хранит данные о доходах. На сумму дохода сильнее всего влияет тип занятости, поэтому заполнить пропуски в этом столбце нужно медианным значением по каждому типу из столбца `income_type`. Например, у человека с типом занятости `сотрудник` пропуск в столбце `total_income` должен быть заполнен медианным доходом среди всех записей с тем же типом.**"
   ]
  },
  {
   "cell_type": "code",
   "execution_count": 5,
   "id": "28af51af",
   "metadata": {
    "deletable": false,
    "id": "42006a93"
   },
   "outputs": [],
   "source": [
    "for t in data['income_type'].unique():\n",
    "    data.loc[(data['income_type'] == t) & (data['total_income'].isna()), 'total_income'] = \\\n",
    "    data.loc[(data['income_type'] == t), 'total_income'].median()"
   ]
  },
  {
   "cell_type": "markdown",
   "id": "d53f3f18",
   "metadata": {
    "deletable": false,
    "editable": false,
    "id": "89da5ece"
   },
   "source": [
    "### Обработка аномальных значений"
   ]
  },
  {
   "cell_type": "markdown",
   "id": "f5c461f3",
   "metadata": {
    "deletable": false,
    "editable": false,
    "id": "57964554"
   },
   "source": [
    "**Задание 6. В данных могут встречаться артефакты (аномалии) — значения, которые не отражают действительность и появились по какой-то ошибке. таким артефактом будет отрицательное количество дней трудового стажа в столбце `days_employed`. Для реальных данных это нормально. Обработайте значения в этом столбце: замените все отрицательные значения положительными с помощью метода `abs()`.**"
   ]
  },
  {
   "cell_type": "code",
   "execution_count": 6,
   "id": "9abad963",
   "metadata": {
    "deletable": false,
    "id": "f6f055bf"
   },
   "outputs": [],
   "source": [
    "data['days_employed'] = data['days_employed'].abs()"
   ]
  },
  {
   "cell_type": "markdown",
   "id": "6dd149e3",
   "metadata": {
    "deletable": false,
    "editable": false,
    "id": "6107dd2f"
   },
   "source": [
    "**Задание 7. Для каждого типа занятости выведите медианное значение трудового стажа `days_employed` в днях.**"
   ]
  },
  {
   "cell_type": "code",
   "execution_count": 7,
   "id": "ec5b92c7",
   "metadata": {
    "deletable": false,
    "id": "85a5faf6",
    "outputId": "801ef80e-522b-4668-f34e-565af7432bcf"
   },
   "outputs": [
    {
     "data": {
      "text/plain": [
       "income_type\n",
       "безработный        366413.652744\n",
       "в декрете            3296.759962\n",
       "госслужащий          2689.368353\n",
       "компаньон            1547.382223\n",
       "пенсионер          365213.306266\n",
       "предприниматель       520.848083\n",
       "сотрудник            1574.202821\n",
       "студент               578.751554\n",
       "Name: days_employed, dtype: float64"
      ]
     },
     "execution_count": 7,
     "metadata": {},
     "output_type": "execute_result"
    }
   ],
   "source": [
    "data.groupby('income_type')['days_employed'].agg('median')"
   ]
  },
  {
   "cell_type": "markdown",
   "id": "9b060458",
   "metadata": {
    "deletable": false,
    "editable": false,
    "id": "38d1a030"
   },
   "source": [
    "У двух типов (безработные и пенсионеры) получатся аномально большие значения. Исправить такие значения сложно, поэтому оставьте их как есть. Тем более этот столбец не понадобится вам для исследования."
   ]
  },
  {
   "cell_type": "markdown",
   "id": "e7e6075b",
   "metadata": {
    "deletable": false,
    "editable": false,
    "id": "d8a9f147"
   },
   "source": [
    "**Задание 8. Выведите перечень уникальных значений столбца `children`.**"
   ]
  },
  {
   "cell_type": "code",
   "execution_count": 8,
   "id": "fc774476",
   "metadata": {
    "deletable": false,
    "id": "ef5056eb",
    "outputId": "6975b15c-7f95-4697-d16d-a0c79b657b03"
   },
   "outputs": [
    {
     "data": {
      "text/plain": [
       "array([ 1,  0,  3,  2, -1,  4, 20,  5])"
      ]
     },
     "execution_count": 8,
     "metadata": {},
     "output_type": "execute_result"
    }
   ],
   "source": [
    "data['children'].unique()"
   ]
  },
  {
   "cell_type": "markdown",
   "id": "ae756f0c",
   "metadata": {
    "deletable": false,
    "editable": false,
    "id": "40b9ebf2"
   },
   "source": [
    "**Задание 9. В столбце `children` есть два аномальных значения. Удалите строки, в которых встречаются такие аномальные значения из датафрейма `data`.**"
   ]
  },
  {
   "cell_type": "code",
   "execution_count": 9,
   "id": "f438baf3",
   "metadata": {
    "deletable": false,
    "id": "3ff9801d"
   },
   "outputs": [],
   "source": [
    "data = data[(data['children'] != -1) & (data['children'] != 20)]"
   ]
  },
  {
   "cell_type": "markdown",
   "id": "202b2ee5",
   "metadata": {
    "deletable": false,
    "editable": false,
    "id": "bbc4d0ce"
   },
   "source": [
    "**Задание 10. Ещё раз выведите перечень уникальных значений столбца `children`, чтобы убедиться, что артефакты удалены.**"
   ]
  },
  {
   "cell_type": "code",
   "execution_count": 10,
   "id": "c91497e1",
   "metadata": {
    "deletable": false,
    "id": "ad4fa8b7",
    "outputId": "b2097101-d49d-44d9-901b-32a65c9463d1"
   },
   "outputs": [
    {
     "data": {
      "text/plain": [
       "array([1, 0, 3, 2, 4, 5])"
      ]
     },
     "execution_count": 10,
     "metadata": {},
     "output_type": "execute_result"
    }
   ],
   "source": [
    "data['children'].unique()"
   ]
  },
  {
   "cell_type": "markdown",
   "id": "52622e29",
   "metadata": {
    "deletable": false,
    "editable": false,
    "id": "75440b63"
   },
   "source": [
    "### Удаление пропусков (продолжение)"
   ]
  },
  {
   "cell_type": "markdown",
   "id": "c79c42ce",
   "metadata": {
    "deletable": false,
    "editable": false,
    "id": "f4ea573f"
   },
   "source": [
    "**Задание 11. Заполните пропуски в столбце `days_employed` медианными значениями по каждого типа занятости `income_type`.**"
   ]
  },
  {
   "cell_type": "code",
   "execution_count": 11,
   "id": "efb07c94",
   "metadata": {
    "deletable": false,
    "id": "af6b1a7e"
   },
   "outputs": [],
   "source": [
    "for t in data['income_type'].unique():\n",
    "    data.loc[(data['income_type'] == t) & (data['days_employed'].isna()), 'days_employed'] = \\\n",
    "    data.loc[(data['income_type'] == t), 'days_employed'].median()"
   ]
  },
  {
   "cell_type": "markdown",
   "id": "3483d639",
   "metadata": {
    "deletable": false,
    "editable": false,
    "id": "2753f40d"
   },
   "source": [
    "**Задание 12. Убедитесь, что все пропуски заполнены. Проверьте себя и ещё раз выведите количество пропущенных значений для каждого столбца с помощью двух методов.**"
   ]
  },
  {
   "cell_type": "code",
   "execution_count": 12,
   "id": "c839d7b0",
   "metadata": {
    "deletable": false,
    "id": "55f78bc2",
    "outputId": "8da1e4e1-358e-4e87-98c9-f261bce0a7b2"
   },
   "outputs": [
    {
     "data": {
      "text/plain": [
       "children            0\n",
       "days_employed       0\n",
       "dob_years           0\n",
       "education           0\n",
       "education_id        0\n",
       "family_status       0\n",
       "family_status_id    0\n",
       "gender              0\n",
       "income_type         0\n",
       "debt                0\n",
       "total_income        0\n",
       "purpose             0\n",
       "dtype: int64"
      ]
     },
     "execution_count": 12,
     "metadata": {},
     "output_type": "execute_result"
    }
   ],
   "source": [
    "data.isna().sum()"
   ]
  },
  {
   "cell_type": "markdown",
   "id": "78dbbe21",
   "metadata": {
    "deletable": false,
    "editable": false,
    "id": "ddc81e43"
   },
   "source": [
    "### Изменение типов данных"
   ]
  },
  {
   "cell_type": "markdown",
   "id": "2df7a391",
   "metadata": {
    "deletable": false,
    "editable": false,
    "id": "42d19d24"
   },
   "source": [
    "**Задание 13. Замените вещественный тип данных в столбце `total_income` на целочисленный с помощью метода `astype()`.**"
   ]
  },
  {
   "cell_type": "code",
   "execution_count": 13,
   "id": "46409605",
   "metadata": {
    "deletable": false,
    "id": "920b65ad"
   },
   "outputs": [],
   "source": [
    "data['total_income'] = data['total_income'].astype(int)"
   ]
  },
  {
   "cell_type": "markdown",
   "id": "c57d45ea",
   "metadata": {
    "deletable": false,
    "editable": false,
    "id": "80c420ba"
   },
   "source": [
    "### Обработка дубликатов"
   ]
  },
  {
   "cell_type": "markdown",
   "id": "dec26ff5",
   "metadata": {
    "deletable": false,
    "editable": false
   },
   "source": [
    "**Задание 14. Обработайте неявные дубликаты в столбце `education`. В этом столбце есть одни и те же значения, но записанные по-разному: с использованием заглавных и строчных букв. Приведите их к нижнему регистру. Проверьте остальные столбцы.**"
   ]
  },
  {
   "cell_type": "code",
   "execution_count": 14,
   "id": "cd0bf9f4",
   "metadata": {
    "deletable": false
   },
   "outputs": [],
   "source": [
    "data['education'] = data['education'].str.lower()"
   ]
  },
  {
   "cell_type": "markdown",
   "id": "4d7d2b07",
   "metadata": {
    "deletable": false,
    "editable": false,
    "id": "dc587695"
   },
   "source": [
    "**Задание 15. Выведите на экран количество строк-дубликатов в данных. Если такие строки присутствуют, удалите их.**"
   ]
  },
  {
   "cell_type": "code",
   "execution_count": 15,
   "id": "10efa71d",
   "metadata": {
    "deletable": false,
    "id": "3ee445e4",
    "outputId": "9684deba-1934-42d1-99e1-cda61740f822"
   },
   "outputs": [
    {
     "data": {
      "text/plain": [
       "71"
      ]
     },
     "execution_count": 15,
     "metadata": {},
     "output_type": "execute_result"
    }
   ],
   "source": [
    "data.duplicated().sum()"
   ]
  },
  {
   "cell_type": "code",
   "execution_count": 16,
   "id": "455c7568",
   "metadata": {
    "deletable": false,
    "id": "8575fe05"
   },
   "outputs": [],
   "source": [
    "data = data.drop_duplicates()"
   ]
  },
  {
   "cell_type": "markdown",
   "id": "cdb4e845",
   "metadata": {
    "deletable": false,
    "editable": false,
    "id": "9904cf55"
   },
   "source": [
    "### Категоризация данных"
   ]
  },
  {
   "cell_type": "markdown",
   "id": "3e3698e1",
   "metadata": {
    "deletable": false,
    "editable": false,
    "id": "72fcc8a2"
   },
   "source": [
    "**Задание 16. На основании диапазонов, указанных ниже, создайте в датафрейме `data` столбец `total_income_category` с категориями:**\n",
    "\n",
    "- 0–30000 — `'E'`;\n",
    "- 30001–50000 — `'D'`;\n",
    "- 50001–200000 — `'C'`;\n",
    "- 200001–1000000 — `'B'`;\n",
    "- 1000001 и выше — `'A'`.\n",
    "\n",
    "\n",
    "**Например, кредитополучателю с доходом 25000 нужно назначить категорию `'E'`, а клиенту, получающему 235000, — `'B'`. Используйте собственную функцию с именем `categorize_income()` и метод `apply()`.**"
   ]
  },
  {
   "cell_type": "code",
   "execution_count": 17,
   "id": "4d82ca61",
   "metadata": {
    "deletable": false,
    "id": "e1771346"
   },
   "outputs": [],
   "source": [
    "def categorize_income(income):\n",
    "    try:\n",
    "        if 0 <= income <= 30000:\n",
    "            return 'E'\n",
    "        elif 30001 <= income <= 50000:\n",
    "            return 'D'\n",
    "        elif 50001 <= income <= 200000:\n",
    "            return 'C'\n",
    "        elif 200001 <= income <= 1000000:\n",
    "            return 'B'\n",
    "        elif income >= 1000001:\n",
    "            return 'A'\n",
    "    except:\n",
    "        pass"
   ]
  },
  {
   "cell_type": "code",
   "execution_count": 18,
   "id": "624950b8",
   "metadata": {
    "deletable": false,
    "id": "d5f3586d"
   },
   "outputs": [],
   "source": [
    "data['total_income_category'] = data['total_income'].apply(categorize_income)"
   ]
  },
  {
   "cell_type": "markdown",
   "id": "d9bcb273",
   "metadata": {
    "deletable": false,
    "editable": false,
    "id": "dde49b5c"
   },
   "source": [
    "**Задание 17. Выведите на экран перечень уникальных целей взятия кредита из столбца `purpose`.**"
   ]
  },
  {
   "cell_type": "code",
   "execution_count": 19,
   "id": "07bebb77",
   "metadata": {
    "deletable": false,
    "id": "f67ce9b3",
    "outputId": "673c12d9-7d7e-4ae0-9812-c622c89dd244"
   },
   "outputs": [
    {
     "data": {
      "text/plain": [
       "array(['покупка жилья', 'приобретение автомобиля',\n",
       "       'дополнительное образование', 'сыграть свадьбу',\n",
       "       'операции с жильем', 'образование', 'на проведение свадьбы',\n",
       "       'покупка жилья для семьи', 'покупка недвижимости',\n",
       "       'покупка коммерческой недвижимости', 'покупка жилой недвижимости',\n",
       "       'строительство собственной недвижимости', 'недвижимость',\n",
       "       'строительство недвижимости', 'на покупку подержанного автомобиля',\n",
       "       'на покупку своего автомобиля',\n",
       "       'операции с коммерческой недвижимостью',\n",
       "       'строительство жилой недвижимости', 'жилье',\n",
       "       'операции со своей недвижимостью', 'автомобили',\n",
       "       'заняться образованием', 'сделка с подержанным автомобилем',\n",
       "       'получение образования', 'автомобиль', 'свадьба',\n",
       "       'получение дополнительного образования', 'покупка своего жилья',\n",
       "       'операции с недвижимостью', 'получение высшего образования',\n",
       "       'свой автомобиль', 'сделка с автомобилем',\n",
       "       'профильное образование', 'высшее образование',\n",
       "       'покупка жилья для сдачи', 'на покупку автомобиля', 'ремонт жилью',\n",
       "       'заняться высшим образованием'], dtype=object)"
      ]
     },
     "execution_count": 19,
     "metadata": {},
     "output_type": "execute_result"
    }
   ],
   "source": [
    "data['purpose'].unique()"
   ]
  },
  {
   "cell_type": "markdown",
   "id": "066e69af",
   "metadata": {
    "deletable": false,
    "editable": false,
    "id": "85d0aef0"
   },
   "source": [
    "**Задание 18. Создайте функцию, которая на основании данных из столбца `purpose` сформирует новый столбец `purpose_category`, в который войдут следующие категории:**\n",
    "\n",
    "- `'операции с автомобилем'`,\n",
    "- `'операции с недвижимостью'`,\n",
    "- `'проведение свадьбы'`,\n",
    "- `'получение образования'`.\n",
    "\n",
    "**Например, если в столбце `purpose` находится подстрока `'на покупку автомобиля'`, то в столбце `purpose_category` должна появиться строка `'операции с автомобилем'`.**\n",
    "\n",
    "**Используйте собственную функцию с именем `categorize_purpose()` и метод `apply()`. Изучите данные в столбце `purpose` и определите, какие подстроки помогут вам правильно определить категорию.**"
   ]
  },
  {
   "cell_type": "code",
   "execution_count": 20,
   "id": "9216995c",
   "metadata": {
    "deletable": false,
    "id": "e149fab4"
   },
   "outputs": [],
   "source": [
    "def categorize_purpose(row):\n",
    "    try:\n",
    "        if 'автом' in row:\n",
    "            return 'операции с автомобилем'\n",
    "        elif 'жил' in row or 'недвиж' in row:\n",
    "            return 'операции с недвижимостью'\n",
    "        elif 'свад' in row:\n",
    "            return 'проведение свадьбы'\n",
    "        elif 'образов' in row:\n",
    "            return 'получение образования'\n",
    "    except:\n",
    "        return 'нет категории'"
   ]
  },
  {
   "cell_type": "code",
   "execution_count": 21,
   "id": "b2f80d44",
   "metadata": {
    "deletable": false,
    "id": "bf36e69b"
   },
   "outputs": [],
   "source": [
    "data['purpose_category'] = data['purpose'].apply(categorize_purpose)"
   ]
  },
  {
   "cell_type": "markdown",
   "id": "2c2ed71b",
   "metadata": {
    "deletable": false,
    "editable": false,
    "id": "09b242bf"
   },
   "source": [
    "### Шаг 3. Исследуйте данные и ответьте на вопросы"
   ]
  },
  {
   "cell_type": "markdown",
   "id": "ffe78b2f",
   "metadata": {
    "deletable": false,
    "editable": false,
    "id": "c5d66278"
   },
   "source": [
    "#### 3.1 Есть ли зависимость между количеством детей и возвратом кредита в срок?"
   ]
  },
  {
   "cell_type": "code",
   "execution_count": 22,
   "id": "af42d554",
   "metadata": {},
   "outputs": [],
   "source": [
    "#Импортируем библиотеку для создания визуализации\n",
    "import matplotlib.pyplot as plt"
   ]
  },
  {
   "cell_type": "code",
   "execution_count": 23,
   "id": "c3168a80",
   "metadata": {
    "deletable": false,
    "id": "2cacfc4a"
   },
   "outputs": [
    {
     "data": {
      "text/html": [
       "<div>\n",
       "<style scoped>\n",
       "    .dataframe tbody tr th:only-of-type {\n",
       "        vertical-align: middle;\n",
       "    }\n",
       "\n",
       "    .dataframe tbody tr th {\n",
       "        vertical-align: top;\n",
       "    }\n",
       "\n",
       "    .dataframe thead th {\n",
       "        text-align: right;\n",
       "    }\n",
       "</style>\n",
       "<table border=\"1\" class=\"dataframe\">\n",
       "  <thead>\n",
       "    <tr style=\"text-align: right;\">\n",
       "      <th></th>\n",
       "      <th>Количество заемщиков</th>\n",
       "      <th>Доля должников</th>\n",
       "    </tr>\n",
       "    <tr>\n",
       "      <th>children</th>\n",
       "      <th></th>\n",
       "      <th></th>\n",
       "    </tr>\n",
       "  </thead>\n",
       "  <tbody>\n",
       "    <tr>\n",
       "      <th>0</th>\n",
       "      <td>14091</td>\n",
       "      <td>0.075438</td>\n",
       "    </tr>\n",
       "    <tr>\n",
       "      <th>1</th>\n",
       "      <td>4808</td>\n",
       "      <td>0.092346</td>\n",
       "    </tr>\n",
       "    <tr>\n",
       "      <th>2</th>\n",
       "      <td>2052</td>\n",
       "      <td>0.094542</td>\n",
       "    </tr>\n",
       "    <tr>\n",
       "      <th>3</th>\n",
       "      <td>330</td>\n",
       "      <td>0.081818</td>\n",
       "    </tr>\n",
       "    <tr>\n",
       "      <th>4</th>\n",
       "      <td>41</td>\n",
       "      <td>0.097561</td>\n",
       "    </tr>\n",
       "    <tr>\n",
       "      <th>5</th>\n",
       "      <td>9</td>\n",
       "      <td>0.000000</td>\n",
       "    </tr>\n",
       "  </tbody>\n",
       "</table>\n",
       "</div>"
      ],
      "text/plain": [
       "          Количество заемщиков  Доля должников\n",
       "children                                      \n",
       "0                        14091        0.075438\n",
       "1                         4808        0.092346\n",
       "2                         2052        0.094542\n",
       "3                          330        0.081818\n",
       "4                           41        0.097561\n",
       "5                            9        0.000000"
      ]
     },
     "metadata": {},
     "output_type": "display_data"
    },
    {
     "data": {
      "image/png": "[encoded data removed]",
      "text/plain": [
       "<Figure size 432x288 with 1 Axes>"
      ]
     },
     "metadata": {
      "needs_background": "light"
     },
     "output_type": "display_data"
    }
   ],
   "source": [
    "#Посчитаем общее количество должников для каждого количества детей и долю должников\n",
    "data_children = data.groupby('children').agg({'debt': ['count', 'mean']})\n",
    "#Переименуем столбцы для удобства\n",
    "data_children.columns = ['Количество заемщиков', 'Доля должников']\n",
    "#Выведем таблицу на экран\n",
    "display(data_children)\n",
    "#Построим график по значению из столбца 'Доля должников' от 0 до 2-х детей\n",
    "x_bar = ['0', '1', '2']\n",
    "y_bar = data_children.loc[0:2, 'Доля должников']\n",
    "plt.bar(x_bar, y_bar)\n",
    "#Добавим подписи для осей\n",
    "plt.xlabel('Количество детей')\n",
    "plt.ylabel('Доля должников')\n",
    "plt.show()"
   ]
  },
  {
   "cell_type": "markdown",
   "id": "34b8e9fc",
   "metadata": {
    "deletable": false,
    "id": "3a6b99ec"
   },
   "source": [
    "**Вывод:** Для 3-х и более детей мы не можем делать выводы о доле должников, так как выборка слишком мала(для 5 детей - всего 9 человек, и ни одного должника). Тем не менее мы можем проанализировать количество должников в группах от 0 до 2-х детей. В этих группах с возрастанием количества детей увеличивается и доля должников. Значит есть прямая зависимость - чем больше детей, тем больше вероятность не вернуть кредит в срок."
   ]
  },
  {
   "cell_type": "markdown",
   "id": "29766258",
   "metadata": {
    "deletable": false,
    "editable": false,
    "id": "97be82ca"
   },
   "source": [
    "#### 3.2 Есть ли зависимость между семейным положением и возвратом кредита в срок?"
   ]
  },
  {
   "cell_type": "code",
   "execution_count": 24,
   "id": "2d2a9812",
   "metadata": {
    "deletable": false,
    "id": "dc3f7ee8"
   },
   "outputs": [
    {
     "data": {
      "text/html": [
       "<div>\n",
       "<style scoped>\n",
       "    .dataframe tbody tr th:only-of-type {\n",
       "        vertical-align: middle;\n",
       "    }\n",
       "\n",
       "    .dataframe tbody tr th {\n",
       "        vertical-align: top;\n",
       "    }\n",
       "\n",
       "    .dataframe thead th {\n",
       "        text-align: right;\n",
       "    }\n",
       "</style>\n",
       "<table border=\"1\" class=\"dataframe\">\n",
       "  <thead>\n",
       "    <tr style=\"text-align: right;\">\n",
       "      <th></th>\n",
       "      <th>Количество заемщиков</th>\n",
       "      <th>Доля должников</th>\n",
       "    </tr>\n",
       "    <tr>\n",
       "      <th>family_status</th>\n",
       "      <th></th>\n",
       "      <th></th>\n",
       "    </tr>\n",
       "  </thead>\n",
       "  <tbody>\n",
       "    <tr>\n",
       "      <th>Не женат / не замужем</th>\n",
       "      <td>2796</td>\n",
       "      <td>0.097639</td>\n",
       "    </tr>\n",
       "    <tr>\n",
       "      <th>гражданский брак</th>\n",
       "      <td>4134</td>\n",
       "      <td>0.093130</td>\n",
       "    </tr>\n",
       "    <tr>\n",
       "      <th>женат / замужем</th>\n",
       "      <td>12261</td>\n",
       "      <td>0.075606</td>\n",
       "    </tr>\n",
       "    <tr>\n",
       "      <th>в разводе</th>\n",
       "      <td>1189</td>\n",
       "      <td>0.070648</td>\n",
       "    </tr>\n",
       "    <tr>\n",
       "      <th>вдовец / вдова</th>\n",
       "      <td>951</td>\n",
       "      <td>0.066246</td>\n",
       "    </tr>\n",
       "  </tbody>\n",
       "</table>\n",
       "</div>"
      ],
      "text/plain": [
       "                       Количество заемщиков  Доля должников\n",
       "family_status                                              \n",
       "Не женат / не замужем                  2796        0.097639\n",
       "гражданский брак                       4134        0.093130\n",
       "женат / замужем                       12261        0.075606\n",
       "в разводе                              1189        0.070648\n",
       "вдовец / вдова                          951        0.066246"
      ]
     },
     "metadata": {},
     "output_type": "display_data"
    },
    {
     "data": {
      "image/png": "[encoded data removed]",
      "text/plain": [
       "<Figure size 432x288 with 1 Axes>"
      ]
     },
     "metadata": {
      "needs_background": "light"
     },
     "output_type": "display_data"
    }
   ],
   "source": [
    "#Посчитаем общее количество должников для каждого семейного положения и долю должников\n",
    "data_family_status = data.groupby('family_status').agg({'debt': ['count', 'mean']})\n",
    "#Переименуем столбцы для удобства\n",
    "data_family_status.columns = ['Количество заемщиков', 'Доля должников']\n",
    "#Расположим долю должников в порядке убывания\n",
    "data_family_status = data_family_status.sort_values(by='Доля должников', ascending=False)\n",
    "#Выведем таблицу на экран\n",
    "display(data_family_status)\n",
    "#Построим график по значению из столбца 'Доля должников'\n",
    "x_bar = ['Не женат / не замужем', 'гражданский брак', 'женат / замужем', 'в разводе', 'вдовец / вдова']\n",
    "y_bar = data_family_status['Доля должников']\n",
    "plt.bar(x_bar, y_bar)\n",
    "plt.xticks(rotation=90)\n",
    "#Добавим подписи для осей\n",
    "plt.xlabel('Семейное положение')\n",
    "plt.ylabel('Доля должников')\n",
    "plt.show()"
   ]
  },
  {
   "cell_type": "markdown",
   "id": "5fd37c0b",
   "metadata": {
    "deletable": false,
    "id": "1cef7837"
   },
   "source": [
    "**Вывод:** Действительно, из таблицы видно, что если человек женат/замужем или был женат/замужем, то и процент невозврата кредита ниже, чем у остальных групп. Однако, проследить зависимость сложно, ведь среди людей проживающих в гражданском браке процент должников выше, чем у женатых/замужних. Но корреляция между семейным положением и возвратом кредита в срок есть. Скорее всего она связана с более ответственным подходом к финансам у людей бывших в браке."
   ]
  },
  {
   "cell_type": "markdown",
   "id": "637fddc1",
   "metadata": {
    "deletable": false,
    "editable": false,
    "id": "1e8b2fca"
   },
   "source": [
    "#### 3.3 Есть ли зависимость между уровнем дохода и возвратом кредита в срок?"
   ]
  },
  {
   "cell_type": "code",
   "execution_count": 25,
   "id": "9ef3d329",
   "metadata": {
    "deletable": false,
    "id": "cd7e3720"
   },
   "outputs": [
    {
     "data": {
      "text/html": [
       "<div>\n",
       "<style scoped>\n",
       "    .dataframe tbody tr th:only-of-type {\n",
       "        vertical-align: middle;\n",
       "    }\n",
       "\n",
       "    .dataframe tbody tr th {\n",
       "        vertical-align: top;\n",
       "    }\n",
       "\n",
       "    .dataframe thead th {\n",
       "        text-align: right;\n",
       "    }\n",
       "</style>\n",
       "<table border=\"1\" class=\"dataframe\">\n",
       "  <thead>\n",
       "    <tr style=\"text-align: right;\">\n",
       "      <th></th>\n",
       "      <th>Количество заемщиков</th>\n",
       "      <th>Доля должников</th>\n",
       "    </tr>\n",
       "    <tr>\n",
       "      <th>total_income_category</th>\n",
       "      <th></th>\n",
       "      <th></th>\n",
       "    </tr>\n",
       "  </thead>\n",
       "  <tbody>\n",
       "    <tr>\n",
       "      <th>A</th>\n",
       "      <td>25</td>\n",
       "      <td>0.080000</td>\n",
       "    </tr>\n",
       "    <tr>\n",
       "      <th>B</th>\n",
       "      <td>5014</td>\n",
       "      <td>0.070602</td>\n",
       "    </tr>\n",
       "    <tr>\n",
       "      <th>C</th>\n",
       "      <td>15921</td>\n",
       "      <td>0.084982</td>\n",
       "    </tr>\n",
       "    <tr>\n",
       "      <th>D</th>\n",
       "      <td>349</td>\n",
       "      <td>0.060172</td>\n",
       "    </tr>\n",
       "    <tr>\n",
       "      <th>E</th>\n",
       "      <td>22</td>\n",
       "      <td>0.090909</td>\n",
       "    </tr>\n",
       "  </tbody>\n",
       "</table>\n",
       "</div>"
      ],
      "text/plain": [
       "                       Количество заемщиков  Доля должников\n",
       "total_income_category                                      \n",
       "A                                        25        0.080000\n",
       "B                                      5014        0.070602\n",
       "C                                     15921        0.084982\n",
       "D                                       349        0.060172\n",
       "E                                        22        0.090909"
      ]
     },
     "metadata": {},
     "output_type": "display_data"
    },
    {
     "data": {
      "image/png": "[encoded data removed]",
      "text/plain": [
       "<Figure size 432x288 with 1 Axes>"
      ]
     },
     "metadata": {
      "needs_background": "light"
     },
     "output_type": "display_data"
    }
   ],
   "source": [
    "#Посчитаем общее количество должников для каждого уровня дохода и долю должников\n",
    "data_total_income_category = data.groupby('total_income_category').agg({'debt': ['count', 'mean']})\n",
    "#Переименуем столбцы для удобства\n",
    "data_total_income_category.columns = ['Количество заемщиков', 'Доля должников']\n",
    "#Выведем таблицу на экран\n",
    "display(data_total_income_category)\n",
    "#Построим график по значению из столбца 'Доля должников' для категорий B и C\n",
    "x_bar = ['B', 'C']\n",
    "y_bar = data_total_income_category.loc['B':'C', 'Доля должников']\n",
    "plt.bar(x_bar, y_bar)\n",
    "#Добавим подписи для осей\n",
    "plt.xlabel('Категория для уровня дохода')\n",
    "plt.ylabel('Доля должников')\n",
    "plt.show()"
   ]
  },
  {
   "cell_type": "markdown",
   "id": "263bc32d",
   "metadata": {
    "deletable": false,
    "id": "e8593def"
   },
   "source": [
    "**Вывод:** Для A, D и E категорий уровня дохода нет возможности провести анализ, так как выборка не репрезентативна. Мы можем провести анализ только по категориям B и C. Из таблицы видно, что для категории B с уровнем дохода от 200001 до 1000000 процент должников ниже, чем для категории С с более низким доходом. А это значит, что, чем выше доход тем ниже процент невозврата кредита."
   ]
  },
  {
   "cell_type": "markdown",
   "id": "97664a80",
   "metadata": {
    "deletable": false,
    "editable": false,
    "id": "99ecbd1f"
   },
   "source": [
    "#### 3.4 Как разные цели кредита влияют на его возврат в срок?"
   ]
  },
  {
   "cell_type": "code",
   "execution_count": 26,
   "id": "a3b9f694",
   "metadata": {
    "deletable": false,
    "id": "2b687290"
   },
   "outputs": [
    {
     "data": {
      "text/html": [
       "<div>\n",
       "<style scoped>\n",
       "    .dataframe tbody tr th:only-of-type {\n",
       "        vertical-align: middle;\n",
       "    }\n",
       "\n",
       "    .dataframe tbody tr th {\n",
       "        vertical-align: top;\n",
       "    }\n",
       "\n",
       "    .dataframe thead th {\n",
       "        text-align: right;\n",
       "    }\n",
       "</style>\n",
       "<table border=\"1\" class=\"dataframe\">\n",
       "  <thead>\n",
       "    <tr style=\"text-align: right;\">\n",
       "      <th></th>\n",
       "      <th>Количество заемщиков</th>\n",
       "      <th>Доля должников</th>\n",
       "    </tr>\n",
       "    <tr>\n",
       "      <th>purpose_category</th>\n",
       "      <th></th>\n",
       "      <th></th>\n",
       "    </tr>\n",
       "  </thead>\n",
       "  <tbody>\n",
       "    <tr>\n",
       "      <th>операции с автомобилем</th>\n",
       "      <td>4279</td>\n",
       "      <td>0.093480</td>\n",
       "    </tr>\n",
       "    <tr>\n",
       "      <th>получение образования</th>\n",
       "      <td>3988</td>\n",
       "      <td>0.092528</td>\n",
       "    </tr>\n",
       "    <tr>\n",
       "      <th>проведение свадьбы</th>\n",
       "      <td>2313</td>\n",
       "      <td>0.079118</td>\n",
       "    </tr>\n",
       "    <tr>\n",
       "      <th>операции с недвижимостью</th>\n",
       "      <td>10751</td>\n",
       "      <td>0.072551</td>\n",
       "    </tr>\n",
       "  </tbody>\n",
       "</table>\n",
       "</div>"
      ],
      "text/plain": [
       "                          Количество заемщиков  Доля должников\n",
       "purpose_category                                              \n",
       "операции с автомобилем                    4279        0.093480\n",
       "получение образования                     3988        0.092528\n",
       "проведение свадьбы                        2313        0.079118\n",
       "операции с недвижимостью                 10751        0.072551"
      ]
     },
     "metadata": {},
     "output_type": "display_data"
    },
    {
     "data": {
      "image/png": "[encoded data removed]",
      "text/plain": [
       "<Figure size 432x288 with 1 Axes>"
      ]
     },
     "metadata": {
      "needs_background": "light"
     },
     "output_type": "display_data"
    }
   ],
   "source": [
    "#Посчитаем общее количество должников для каждой цели кредита и долю должников\n",
    "data_purpose_category = data.groupby('purpose_category').agg({'debt': ['count', 'mean']})\n",
    "#Переименуем столбцы для удобства\n",
    "data_purpose_category.columns = ['Количество заемщиков', 'Доля должников']\n",
    "#Расположим долю должников в порядке убывания\n",
    "data_purpose_category = data_purpose_category.sort_values(by='Доля должников', ascending=False)\n",
    "#Выведем таблицу на экран\n",
    "display(data_purpose_category)\n",
    "#Построим график по значению из столбца 'Доля должников'\n",
    "x_bar = ['операции с автомобилем', 'получение образования', 'проведение свадьбы', 'операции с недвижимостью']\n",
    "y_bar = data_purpose_category['Доля должников']\n",
    "plt.bar(x_bar, y_bar)\n",
    "plt.xticks(rotation=90)\n",
    "#Добавим подписи для осей\n",
    "plt.xlabel('Цель кредита')\n",
    "plt.ylabel('Доля должников')\n",
    "plt.show()"
   ]
  },
  {
   "cell_type": "markdown",
   "id": "94b72d88",
   "metadata": {
    "deletable": false,
    "id": "b4bb2ce6"
   },
   "source": [
    "**Вывод:** Здесь процент невозврата кредита у операций с автомобилем и получением образования больше, чем у целей проведение свадьбы и операции с недвижимостью. Возможно, это происходит потому, что люди более ответственно подходят к свадьбе и покупке жилья. Или же, это происходит из-за того, что операции с автомобилем связаны с риском поломки автомобиля, а получение образования не гарантирует трудоустройства. "
   ]
  },
  {
   "cell_type": "code",
   "execution_count": 27,
   "id": "5beccef7",
   "metadata": {},
   "outputs": [
    {
     "data": {
      "image/png": "[encoded data removed]",
      "text/plain": [
       "<Figure size 432x288 with 1 Axes>"
      ]
     },
     "metadata": {
      "needs_background": "light"
     },
     "output_type": "display_data"
    }
   ],
   "source": [
    "# Код ревьюера\n",
    "\n",
    "import matplotlib.pyplot as plt\n",
    "\n",
    "# группируем данные по количеству детей ('children'), затем применяем агрегирующие функции к столбцу 'debt'\n",
    "grouped_data = data.groupby('children')['debt'].agg(['count', 'mean', 'sum'])\n",
    "# функция reset_index используется для преобразования индекса в столбец данных\n",
    "grouped_data.reset_index(inplace=True)\n",
    "# используем график к таблице\n",
    "plt.bar(grouped_data['children'], grouped_data['mean']*100) # умножаем на 100, чтобы перевести в проценты\n",
    "# подписываем\n",
    "plt.title(\"Влияние количества детей на процент просроченных кредитов\")\n",
    "plt.xlabel(\"Количество детей у клиента\")\n",
    "plt.ylabel(\"Просрочено платежей, %\")\n",
    "plt.xticks(grouped_data['children'])\n",
    "plt.show()"
   ]
  },
  {
   "cell_type": "markdown",
   "id": "ef79c586",
   "metadata": {
    "deletable": false,
    "editable": false,
    "id": "09c3ac4c"
   },
   "source": [
    "#### 3.5 Приведите возможные причины появления пропусков в исходных данных."
   ]
  },
  {
   "cell_type": "markdown",
   "id": "575a032c",
   "metadata": {
    "deletable": false,
    "id": "9da2ceda"
   },
   "source": [
    "*Ответ:* Пропуски произошли в столбцах с трудовым стажем и уровнем дохода. Они могли произойти потому, что эти люди еще не работали и ,соответственно, не имели ни стажа ни дохода.\n",
    "\n",
    "Так же потеря данных могла произойти из-за технической ошибки на стадии ввода или сохранения данных в базе данных.\n",
    "\n",
    "Одной из причин отсутствия данных может быть человеческий фактор во время заполнения данных.\n",
    "\n",
    "Еще одной причиной может быть техническая ошибка при скачивании файла."
   ]
  },
  {
   "cell_type": "markdown",
   "id": "e0abb80e",
   "metadata": {
    "deletable": false,
    "editable": false,
    "id": "7b0487d6"
   },
   "source": [
    "#### 3.6 Объясните, почему заполнить пропуски медианным значением — лучшее решение для количественных переменных."
   ]
  },
  {
   "cell_type": "markdown",
   "id": "b21d8751",
   "metadata": {
    "deletable": false,
    "id": "7ecf2b8e"
   },
   "source": [
    "*Ответ:* Заполнить пропуски медианным значением лучше потому, что медианное значение более устойчиво к выбросам и аномальным значениям чем среднеарифметическое. Среднее значение сильно реагирует на выбросы, и его может \"увести в сторону\", например, если в отсортированном списке значений встречаются значения на порядок выше чем соседние. Тогда среднеарифметическое покажет больший результат из-за нескольких аномальных значений, которые не отражают всю выборку. Медианное же значение вырастет не сильно или вообще не вырастет из-за того, что берет серединные значения отсортированного столбца, где нет резких скачков в значениях."
   ]
  },
  {
   "cell_type": "markdown",
   "id": "df856fd4",
   "metadata": {
    "deletable": false,
    "editable": false,
    "id": "6db5255a"
   },
   "source": [
    "### Шаг 4: общий вывод."
   ]
  },
  {
   "cell_type": "markdown",
   "id": "4ce4952e",
   "metadata": {
    "deletable": false,
    "id": "bad65432"
   },
   "source": [
    "В ходе исследования мы изучили корреляции в данных, связанные с возвратом кредита в срок и выяснили зависимости между возвратом кредита и кредитными параметрами заемщика. Мы построили сводные таблицы отдельно по каждому вопросу и сравнивали данные на их основе. Для таблиц мы использовали данные из приложенного датасета data.csv. В датасете были описаны различные параметры заемщика, такие как: количество детей в семье, общий трудовой стаж в днях,  семейное положение, имел ли задолженность по возврату кредитов и др. \n",
    "\n",
    "Мы проверили четыре гипотезы и установили:\n",
    "1. Чем больше детей тем меньше вероятность закрыть кредит в срок.\n",
    "2. Если человек состоит или состоял в браке, у него больше вероятность закрыть кредит в срок.\n",
    "3. Чем выше уровень дохода заемщика, тем выше вероятность закрыть кредит в срок.\n",
    "4. Разные цели кредита влияют на вероятность закрыть кредит в срок. Это может быть связано с большей ответственностью клиента для некоторых целей, или с тем, что некоторые цели связаны с непредвиденными тратами или не приносят ожидаемого дахода.\n",
    "\n",
    "Проанализировав эту информацию мы можем составить портреты \"идеального\" и \"нежелательного\" заемщиков.\n",
    "\n",
    "Идеальным заемщиком будет человек без детей, состоящий или состоявший в браке, с максимально возможным уровнем дохода, берущий кредит на операции с недвижимостью.\n",
    "\n",
    "Нежелательным заемщиком будет человек с большим количеством детей, холостой или живущий в гражданском браке, с уровнем дохода ниже среднего и берущий кредит на операции с автомобилем.\n",
    "\n",
    "Можем порекомендовать заказчику ориентироваться на портреты \"идеального\" и \"нежелательного\" заемщиков при выдаче кредитов, выдавать в кредитный займ больше или меньше денежных средств соответственно, а так же собрать больше информации об уровне дохоода выше и ниже среднего для поиска корреляций и более точного анализа."
   ]
  }
 ],
 "metadata": {
  "ExecuteTimeLog": [
   {
    "duration": 48,
    "start_time": "2024-02-16T14:26:26.462Z"
   },
   {
    "duration": 712,
    "start_time": "2024-02-16T14:26:50.963Z"
   },
   {
    "duration": 22,
    "start_time": "2024-02-16T14:26:51.677Z"
   },
   {
    "duration": 15,
    "start_time": "2024-02-16T14:26:51.700Z"
   },
   {
    "duration": 10,
    "start_time": "2024-02-16T14:26:51.717Z"
   },
   {
    "duration": 47,
    "start_time": "2024-02-16T14:26:51.728Z"
   },
   {
    "duration": 3,
    "start_time": "2024-02-16T14:26:51.776Z"
   },
   {
    "duration": 12,
    "start_time": "2024-02-16T14:26:51.781Z"
   },
   {
    "duration": 3,
    "start_time": "2024-02-16T14:26:51.795Z"
   },
   {
    "duration": 8,
    "start_time": "2024-02-16T14:26:51.800Z"
   },
   {
    "duration": 4,
    "start_time": "2024-02-16T14:26:51.811Z"
   },
   {
    "duration": 57,
    "start_time": "2024-02-16T14:26:51.816Z"
   },
   {
    "duration": 10,
    "start_time": "2024-02-16T14:26:51.875Z"
   },
   {
    "duration": 19,
    "start_time": "2024-02-16T14:26:51.886Z"
   },
   {
    "duration": 13,
    "start_time": "2024-02-16T14:26:51.906Z"
   },
   {
    "duration": 30,
    "start_time": "2024-02-16T14:26:51.921Z"
   },
   {
    "duration": 20,
    "start_time": "2024-02-16T14:26:51.952Z"
   },
   {
    "duration": 3,
    "start_time": "2024-02-16T14:26:51.974Z"
   },
   {
    "duration": 12,
    "start_time": "2024-02-16T14:26:51.979Z"
   },
   {
    "duration": 18,
    "start_time": "2024-02-16T14:26:51.993Z"
   },
   {
    "duration": 4,
    "start_time": "2024-02-16T14:26:52.013Z"
   },
   {
    "duration": 14,
    "start_time": "2024-02-16T14:26:52.019Z"
   },
   {
    "duration": 15,
    "start_time": "2024-02-16T14:26:55.242Z"
   },
   {
    "duration": 38,
    "start_time": "2024-02-16T14:27:46.960Z"
   },
   {
    "duration": 41,
    "start_time": "2024-02-16T14:28:35.245Z"
   },
   {
    "duration": 5,
    "start_time": "2024-02-16T14:40:53.222Z"
   },
   {
    "duration": 6,
    "start_time": "2024-02-16T14:41:30.618Z"
   },
   {
    "duration": 11,
    "start_time": "2024-02-16T14:52:49.424Z"
   },
   {
    "duration": 11,
    "start_time": "2024-02-16T14:59:10.147Z"
   },
   {
    "duration": 12,
    "start_time": "2024-02-16T15:16:28.536Z"
   },
   {
    "duration": 51,
    "start_time": "2024-02-18T13:35:19.424Z"
   },
   {
    "duration": 520,
    "start_time": "2024-02-18T13:35:54.129Z"
   },
   {
    "duration": 22,
    "start_time": "2024-02-18T13:35:54.652Z"
   },
   {
    "duration": 16,
    "start_time": "2024-02-18T13:35:54.675Z"
   },
   {
    "duration": 14,
    "start_time": "2024-02-18T13:35:54.693Z"
   },
   {
    "duration": 40,
    "start_time": "2024-02-18T13:35:54.708Z"
   },
   {
    "duration": 4,
    "start_time": "2024-02-18T13:35:54.749Z"
   },
   {
    "duration": 33,
    "start_time": "2024-02-18T13:35:54.754Z"
   },
   {
    "duration": 4,
    "start_time": "2024-02-18T13:35:54.789Z"
   },
   {
    "duration": 14,
    "start_time": "2024-02-18T13:35:54.795Z"
   },
   {
    "duration": 5,
    "start_time": "2024-02-18T13:35:54.810Z"
   },
   {
    "duration": 40,
    "start_time": "2024-02-18T13:35:54.816Z"
   },
   {
    "duration": 24,
    "start_time": "2024-02-18T13:35:54.857Z"
   },
   {
    "duration": 13,
    "start_time": "2024-02-18T13:35:54.882Z"
   },
   {
    "duration": 13,
    "start_time": "2024-02-18T13:35:54.897Z"
   },
   {
    "duration": 23,
    "start_time": "2024-02-18T13:35:54.911Z"
   },
   {
    "duration": 18,
    "start_time": "2024-02-18T13:35:54.936Z"
   },
   {
    "duration": 4,
    "start_time": "2024-02-18T13:35:54.955Z"
   },
   {
    "duration": 29,
    "start_time": "2024-02-18T13:35:54.960Z"
   },
   {
    "duration": 37,
    "start_time": "2024-02-18T13:35:54.990Z"
   },
   {
    "duration": 19,
    "start_time": "2024-02-18T13:35:55.028Z"
   },
   {
    "duration": 23,
    "start_time": "2024-02-18T13:35:55.049Z"
   },
   {
    "duration": 32,
    "start_time": "2024-02-18T13:35:55.074Z"
   },
   {
    "duration": 14,
    "start_time": "2024-02-18T13:36:01.414Z"
   },
   {
    "duration": 13,
    "start_time": "2024-02-18T13:48:53.343Z"
   },
   {
    "duration": 13,
    "start_time": "2024-02-18T13:50:07.703Z"
   },
   {
    "duration": 508,
    "start_time": "2024-02-18T13:51:45.569Z"
   },
   {
    "duration": 15,
    "start_time": "2024-02-18T13:51:58.844Z"
   },
   {
    "duration": 14,
    "start_time": "2024-02-18T13:53:32.387Z"
   },
   {
    "duration": 11,
    "start_time": "2024-02-18T13:54:18.783Z"
   },
   {
    "duration": 18,
    "start_time": "2024-02-18T13:54:23.450Z"
   },
   {
    "duration": 15,
    "start_time": "2024-02-18T13:54:27.729Z"
   },
   {
    "duration": 14,
    "start_time": "2024-02-18T13:54:33.179Z"
   },
   {
    "duration": 15,
    "start_time": "2024-02-18T13:55:36.445Z"
   },
   {
    "duration": 14,
    "start_time": "2024-02-18T13:55:41.759Z"
   },
   {
    "duration": 13,
    "start_time": "2024-02-18T13:55:58.231Z"
   },
   {
    "duration": 14,
    "start_time": "2024-02-18T13:56:47.199Z"
   },
   {
    "duration": 486,
    "start_time": "2024-02-18T16:01:46.530Z"
   },
   {
    "duration": 21,
    "start_time": "2024-02-18T16:01:47.017Z"
   },
   {
    "duration": 27,
    "start_time": "2024-02-18T16:01:47.039Z"
   },
   {
    "duration": 15,
    "start_time": "2024-02-18T16:01:47.068Z"
   },
   {
    "duration": 34,
    "start_time": "2024-02-18T16:01:47.086Z"
   },
   {
    "duration": 11,
    "start_time": "2024-02-18T16:01:47.121Z"
   },
   {
    "duration": 9,
    "start_time": "2024-02-18T16:01:47.134Z"
   },
   {
    "duration": 21,
    "start_time": "2024-02-18T16:01:47.144Z"
   },
   {
    "duration": 9,
    "start_time": "2024-02-18T16:01:47.166Z"
   },
   {
    "duration": 6,
    "start_time": "2024-02-18T16:01:47.177Z"
   },
   {
    "duration": 47,
    "start_time": "2024-02-18T16:01:47.184Z"
   },
   {
    "duration": 9,
    "start_time": "2024-02-18T16:01:47.232Z"
   },
   {
    "duration": 6,
    "start_time": "2024-02-18T16:01:47.243Z"
   },
   {
    "duration": 19,
    "start_time": "2024-02-18T16:01:47.250Z"
   },
   {
    "duration": 18,
    "start_time": "2024-02-18T16:01:47.270Z"
   },
   {
    "duration": 16,
    "start_time": "2024-02-18T16:01:47.289Z"
   },
   {
    "duration": 3,
    "start_time": "2024-02-18T16:01:47.306Z"
   },
   {
    "duration": 12,
    "start_time": "2024-02-18T16:01:47.311Z"
   },
   {
    "duration": 4,
    "start_time": "2024-02-18T16:01:47.325Z"
   },
   {
    "duration": 3,
    "start_time": "2024-02-18T16:01:47.330Z"
   },
   {
    "duration": 35,
    "start_time": "2024-02-18T16:01:47.335Z"
   },
   {
    "duration": 11,
    "start_time": "2024-02-18T16:01:47.372Z"
   },
   {
    "duration": 12,
    "start_time": "2024-02-18T16:01:47.385Z"
   },
   {
    "duration": 12,
    "start_time": "2024-02-18T16:01:47.398Z"
   },
   {
    "duration": 11,
    "start_time": "2024-02-18T16:01:47.412Z"
   },
   {
    "duration": 676,
    "start_time": "2024-02-19T17:48:25.281Z"
   },
   {
    "duration": 67,
    "start_time": "2024-02-19T17:49:15.713Z"
   },
   {
    "duration": 696,
    "start_time": "2024-02-19T17:49:40.028Z"
   },
   {
    "duration": 23,
    "start_time": "2024-02-19T17:49:40.726Z"
   },
   {
    "duration": 17,
    "start_time": "2024-02-19T17:49:40.751Z"
   },
   {
    "duration": 10,
    "start_time": "2024-02-19T17:49:40.769Z"
   },
   {
    "duration": 53,
    "start_time": "2024-02-19T17:49:40.781Z"
   },
   {
    "duration": 3,
    "start_time": "2024-02-19T17:49:40.836Z"
   },
   {
    "duration": 8,
    "start_time": "2024-02-19T17:49:40.841Z"
   },
   {
    "duration": 4,
    "start_time": "2024-02-19T17:49:40.851Z"
   },
   {
    "duration": 9,
    "start_time": "2024-02-19T17:49:40.856Z"
   },
   {
    "duration": 4,
    "start_time": "2024-02-19T17:49:40.866Z"
   },
   {
    "duration": 68,
    "start_time": "2024-02-19T17:49:40.872Z"
   },
   {
    "duration": 10,
    "start_time": "2024-02-19T17:49:40.941Z"
   },
   {
    "duration": 8,
    "start_time": "2024-02-19T17:49:40.953Z"
   },
   {
    "duration": 11,
    "start_time": "2024-02-19T17:49:40.963Z"
   },
   {
    "duration": 19,
    "start_time": "2024-02-19T17:49:40.976Z"
   },
   {
    "duration": 27,
    "start_time": "2024-02-19T17:49:40.997Z"
   },
   {
    "duration": 3,
    "start_time": "2024-02-19T17:49:41.026Z"
   },
   {
    "duration": 19,
    "start_time": "2024-02-19T17:49:41.030Z"
   },
   {
    "duration": 9,
    "start_time": "2024-02-19T17:49:41.050Z"
   },
   {
    "duration": 12,
    "start_time": "2024-02-19T17:49:41.060Z"
   },
   {
    "duration": 29,
    "start_time": "2024-02-19T17:49:41.074Z"
   },
   {
    "duration": 223,
    "start_time": "2024-02-19T17:49:41.104Z"
   },
   {
    "duration": 117,
    "start_time": "2024-02-19T17:49:43.605Z"
   },
   {
    "duration": 120,
    "start_time": "2024-02-19T17:49:58.000Z"
   },
   {
    "duration": 234,
    "start_time": "2024-02-19T17:54:19.344Z"
   },
   {
    "duration": 99,
    "start_time": "2024-02-19T17:54:37.049Z"
   },
   {
    "duration": 122,
    "start_time": "2024-02-19T17:55:26.665Z"
   },
   {
    "duration": 223,
    "start_time": "2024-02-19T17:56:18.423Z"
   },
   {
    "duration": 106,
    "start_time": "2024-02-19T17:56:38.791Z"
   },
   {
    "duration": 108,
    "start_time": "2024-02-19T17:57:16.833Z"
   },
   {
    "duration": 108,
    "start_time": "2024-02-19T17:57:43.924Z"
   },
   {
    "duration": 21,
    "start_time": "2024-02-19T17:59:35.379Z"
   },
   {
    "duration": 25,
    "start_time": "2024-02-19T18:00:56.966Z"
   },
   {
    "duration": 25,
    "start_time": "2024-02-19T18:01:48.270Z"
   },
   {
    "duration": 23,
    "start_time": "2024-02-19T18:01:51.382Z"
   },
   {
    "duration": 27,
    "start_time": "2024-02-19T18:02:15.295Z"
   },
   {
    "duration": 23,
    "start_time": "2024-02-19T18:02:21.944Z"
   },
   {
    "duration": 36,
    "start_time": "2024-02-19T18:02:50.905Z"
   },
   {
    "duration": 244,
    "start_time": "2024-02-19T18:03:25.983Z"
   },
   {
    "duration": 126,
    "start_time": "2024-02-19T18:03:34.664Z"
   },
   {
    "duration": 25,
    "start_time": "2024-02-19T18:05:26.932Z"
   },
   {
    "duration": 23,
    "start_time": "2024-02-19T18:05:33.264Z"
   },
   {
    "duration": 134,
    "start_time": "2024-02-19T18:05:43.024Z"
   },
   {
    "duration": 1276,
    "start_time": "2024-02-19T18:06:22.504Z"
   },
   {
    "duration": 202,
    "start_time": "2024-02-19T18:06:34.025Z"
   },
   {
    "duration": 138,
    "start_time": "2024-02-19T18:06:57.604Z"
   },
   {
    "duration": 130,
    "start_time": "2024-02-19T18:07:41.944Z"
   },
   {
    "duration": 123,
    "start_time": "2024-02-19T18:08:24.625Z"
   },
   {
    "duration": 32,
    "start_time": "2024-02-19T18:08:56.426Z"
   },
   {
    "duration": 24,
    "start_time": "2024-02-19T18:09:23.649Z"
   },
   {
    "duration": 23,
    "start_time": "2024-02-19T18:09:29.560Z"
   },
   {
    "duration": 248,
    "start_time": "2024-02-19T18:16:27.265Z"
   },
   {
    "duration": 111,
    "start_time": "2024-02-19T18:16:40.158Z"
   },
   {
    "duration": 24,
    "start_time": "2024-02-19T18:17:41.149Z"
   },
   {
    "duration": 102,
    "start_time": "2024-02-19T18:18:55.229Z"
   },
   {
    "duration": 117,
    "start_time": "2024-02-19T18:21:15.392Z"
   },
   {
    "duration": 33,
    "start_time": "2024-02-19T18:21:40.219Z"
   },
   {
    "duration": 597,
    "start_time": "2024-02-19T18:22:05.843Z"
   },
   {
    "duration": 1237,
    "start_time": "2024-02-19T18:22:32.882Z"
   },
   {
    "duration": 34,
    "start_time": "2024-02-19T18:24:27.418Z"
   },
   {
    "duration": 603,
    "start_time": "2024-02-19T18:25:14.091Z"
   },
   {
    "duration": 35,
    "start_time": "2024-02-19T18:25:24.713Z"
   },
   {
    "duration": 135,
    "start_time": "2024-02-19T18:25:34.416Z"
   },
   {
    "duration": 23,
    "start_time": "2024-02-19T18:26:31.890Z"
   },
   {
    "duration": 154,
    "start_time": "2024-02-19T18:27:10.615Z"
   },
   {
    "duration": 138,
    "start_time": "2024-02-19T18:30:25.262Z"
   },
   {
    "duration": 105,
    "start_time": "2024-02-19T18:31:10.405Z"
   },
   {
    "duration": 132,
    "start_time": "2024-02-19T18:31:48.485Z"
   },
   {
    "duration": 121,
    "start_time": "2024-02-19T18:32:17.124Z"
   },
   {
    "duration": 112,
    "start_time": "2024-02-19T18:33:01.479Z"
   },
   {
    "duration": 172,
    "start_time": "2024-02-19T18:36:31.931Z"
   },
   {
    "duration": 118,
    "start_time": "2024-02-19T18:36:44.172Z"
   },
   {
    "duration": 122,
    "start_time": "2024-02-19T18:39:05.730Z"
   },
   {
    "duration": 106,
    "start_time": "2024-02-19T18:39:49.445Z"
   },
   {
    "duration": 108,
    "start_time": "2024-02-19T18:40:04.038Z"
   },
   {
    "duration": 117,
    "start_time": "2024-02-19T18:42:56.710Z"
   },
   {
    "duration": 127,
    "start_time": "2024-02-19T18:43:24.531Z"
   },
   {
    "duration": 119,
    "start_time": "2024-02-19T18:43:32.996Z"
   },
   {
    "duration": 137,
    "start_time": "2024-02-19T18:44:53.007Z"
   },
   {
    "duration": 119,
    "start_time": "2024-02-19T18:45:31.036Z"
   },
   {
    "duration": 124,
    "start_time": "2024-02-19T18:47:41.767Z"
   },
   {
    "duration": 203,
    "start_time": "2024-02-19T18:48:14.229Z"
   },
   {
    "duration": 106,
    "start_time": "2024-02-19T18:49:10.997Z"
   },
   {
    "duration": 126,
    "start_time": "2024-02-19T18:49:35.246Z"
   },
   {
    "duration": 107,
    "start_time": "2024-02-19T18:52:01.321Z"
   },
   {
    "duration": 606,
    "start_time": "2024-02-20T12:48:26.119Z"
   },
   {
    "duration": 642,
    "start_time": "2024-02-20T12:48:31.400Z"
   },
   {
    "duration": 22,
    "start_time": "2024-02-20T12:48:32.044Z"
   },
   {
    "duration": 14,
    "start_time": "2024-02-20T12:48:32.068Z"
   },
   {
    "duration": 10,
    "start_time": "2024-02-20T12:48:32.084Z"
   },
   {
    "duration": 37,
    "start_time": "2024-02-20T12:48:32.096Z"
   },
   {
    "duration": 3,
    "start_time": "2024-02-20T12:48:32.135Z"
   },
   {
    "duration": 30,
    "start_time": "2024-02-20T12:48:32.139Z"
   },
   {
    "duration": 3,
    "start_time": "2024-02-20T12:48:32.171Z"
   },
   {
    "duration": 8,
    "start_time": "2024-02-20T12:48:32.176Z"
   },
   {
    "duration": 4,
    "start_time": "2024-02-20T12:48:32.186Z"
   },
   {
    "duration": 36,
    "start_time": "2024-02-20T12:48:32.191Z"
   },
   {
    "duration": 10,
    "start_time": "2024-02-20T12:48:32.228Z"
   },
   {
    "duration": 26,
    "start_time": "2024-02-20T12:48:32.239Z"
   },
   {
    "duration": 11,
    "start_time": "2024-02-20T12:48:32.266Z"
   },
   {
    "duration": 19,
    "start_time": "2024-02-20T12:48:32.278Z"
   },
   {
    "duration": 16,
    "start_time": "2024-02-20T12:48:32.298Z"
   },
   {
    "duration": 3,
    "start_time": "2024-02-20T12:48:32.315Z"
   },
   {
    "duration": 10,
    "start_time": "2024-02-20T12:48:32.319Z"
   },
   {
    "duration": 8,
    "start_time": "2024-02-20T12:48:32.330Z"
   },
   {
    "duration": 26,
    "start_time": "2024-02-20T12:48:32.340Z"
   },
   {
    "duration": 11,
    "start_time": "2024-02-20T12:48:32.367Z"
   },
   {
    "duration": 229,
    "start_time": "2024-02-20T12:48:32.380Z"
   },
   {
    "duration": 121,
    "start_time": "2024-02-20T12:48:32.610Z"
   },
   {
    "duration": 129,
    "start_time": "2024-02-20T12:48:32.732Z"
   },
   {
    "duration": 110,
    "start_time": "2024-02-20T12:48:32.864Z"
   },
   {
    "duration": 120,
    "start_time": "2024-02-20T12:48:32.976Z"
   },
   {
    "duration": 126,
    "start_time": "2024-02-20T12:48:33.098Z"
   }
  ],
  "colab": {
   "name": "dpp_template_part2.ipynb",
   "provenance": []
  },
  "kernelspec": {
   "display_name": "Python 3 (ipykernel)",
   "language": "python",
   "name": "python3"
  },
  "language_info": {
   "codemirror_mode": {
    "name": "ipython",
    "version": 3
   },
   "file_extension": ".py",
   "mimetype": "text/x-python",
   "name": "python",
   "nbconvert_exporter": "python",
   "pygments_lexer": "ipython3",
   "version": "3.9.21"
  },
  "toc": {
   "base_numbering": 1,
   "nav_menu": {},
   "number_sections": true,
   "sideBar": true,
   "skip_h1_title": true,
   "title_cell": "Table of Contents",
   "title_sidebar": "Contents",
   "toc_cell": false,
   "toc_position": {},
   "toc_section_display": true,
   "toc_window_display": false
  }
 },
 "nbformat": 4,
 "nbformat_minor": 5
}
