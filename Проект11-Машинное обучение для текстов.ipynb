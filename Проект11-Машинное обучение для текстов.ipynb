{
 "cells": [
  {
   "cell_type": "markdown",
   "metadata": {
    "toc": true
   },
   "source": [
    "<h1>Содержание<span class=\"tocSkip\"></span></h1>\n",
    "<div class=\"toc\"><ul class=\"toc-item\"><li><span><a href=\"#Подготовка\" data-toc-modified-id=\"Подготовка-1\"><span class=\"toc-item-num\">1&nbsp;&nbsp;</span>Подготовка</a></span><ul class=\"toc-item\"><li><span><a href=\"#Загрузка-данных.\" data-toc-modified-id=\"Загрузка-данных.-1.1\"><span class=\"toc-item-num\">1.1&nbsp;&nbsp;</span>Загрузка данных.</a></span></li><li><span><a href=\"#Предобработка-данных.\" data-toc-modified-id=\"Предобработка-данных.-1.2\"><span class=\"toc-item-num\">1.2&nbsp;&nbsp;</span>Предобработка данных.</a></span></li><li><span><a href=\"#Исследовательский-анализ-данных.\" data-toc-modified-id=\"Исследовательский-анализ-данных.-1.3\"><span class=\"toc-item-num\">1.3&nbsp;&nbsp;</span>Исследовательский анализ данных.</a></span></li><li><span><a href=\"#Лемматизируем-текст.\" data-toc-modified-id=\"Лемматизируем-текст.-1.4\"><span class=\"toc-item-num\">1.4&nbsp;&nbsp;</span>Лемматизируем текст.</a></span></li><li><span><a href=\"#Разделим-датасет-на-выборки.\" data-toc-modified-id=\"Разделим-датасет-на-выборки.-1.5\"><span class=\"toc-item-num\">1.5&nbsp;&nbsp;</span>Разделим датасет на выборки.</a></span></li><li><span><a href=\"#Применим-метод-TF-IDF-к-данным.\" data-toc-modified-id=\"Применим-метод-TF-IDF-к-данным.-1.6\"><span class=\"toc-item-num\">1.6&nbsp;&nbsp;</span>Применим метод TF-IDF к данным.</a></span></li></ul></li><li><span><a href=\"#Обучение\" data-toc-modified-id=\"Обучение-2\"><span class=\"toc-item-num\">2&nbsp;&nbsp;</span>Обучение</a></span><ul class=\"toc-item\"><li><span><a href=\"#Обучим-модель-LogisticRegression.\" data-toc-modified-id=\"Обучим-модель-LogisticRegression.-2.1\"><span class=\"toc-item-num\">2.1&nbsp;&nbsp;</span>Обучим модель LogisticRegression.</a></span></li><li><span><a href=\"#Обучим-модель-DecisionTreeClassifier.\" data-toc-modified-id=\"Обучим-модель-DecisionTreeClassifier.-2.2\"><span class=\"toc-item-num\">2.2&nbsp;&nbsp;</span>Обучим модель DecisionTreeClassifier.</a></span></li><li><span><a href=\"#Обучим-модель-RandomForestClassifier.\" data-toc-modified-id=\"Обучим-модель-RandomForestClassifier.-2.3\"><span class=\"toc-item-num\">2.3&nbsp;&nbsp;</span>Обучим модель RandomForestClassifier.</a></span></li><li><span><a href=\"#Улучшим-показатель-модели-LogisticRegression,-как-лучшей-из-протестированных-нами.\" data-toc-modified-id=\"Улучшим-показатель-модели-LogisticRegression,-как-лучшей-из-протестированных-нами.-2.4\"><span class=\"toc-item-num\">2.4&nbsp;&nbsp;</span>Улучшим показатель модели LogisticRegression, как лучшей из протестированных нами.</a></span></li></ul></li><li><span><a href=\"#Выводы\" data-toc-modified-id=\"Выводы-3\"><span class=\"toc-item-num\">3&nbsp;&nbsp;</span>Выводы</a></span><ul class=\"toc-item\"><li><span><a href=\"#Общий-вывод.\" data-toc-modified-id=\"Общий-вывод.-3.1\"><span class=\"toc-item-num\">3.1&nbsp;&nbsp;</span>Общий вывод.</a></span></li></ul></li>"
   ]
  },
  {
   "cell_type": "markdown",
   "metadata": {},
   "source": [
    "# Проект для «Викишоп»"
   ]
  },
  {
   "cell_type": "markdown",
   "metadata": {},
   "source": [
    "Интернет-магазин «Викишоп» запускает новый сервис. Теперь пользователи могут редактировать и дополнять описания товаров, как в вики-сообществах. То есть клиенты предлагают свои правки и комментируют изменения других. Магазину нужен инструмент, который будет искать токсичные комментарии и отправлять их на модерацию. \n",
    "\n",
    "Обучите модель классифицировать комментарии на позитивные и негативные. В вашем распоряжении набор данных с разметкой о токсичности правок.\n",
    "\n",
    "Постройте модель со значением метрики качества *F1* не меньше 0.75. \n",
    "\n",
    "**Инструкция по выполнению проекта**\n",
    "\n",
    "1. Загрузите и подготовьте данные.\n",
    "2. Обучите разные модели. \n",
    "3. Сделайте выводы.\n",
    "\n",
    "Для выполнения проекта применять *BERT* необязательно, но вы можете попробовать.\n",
    "\n",
    "**Описание данных**\n",
    "\n",
    "Данные находятся в файле `toxic_comments.csv`. Столбец *text* в нём содержит текст комментария, а *toxic* — целевой признак."
   ]
  },
  {
   "cell_type": "markdown",
   "metadata": {},
   "source": [
    "## Подготовка"
   ]
  },
  {
   "cell_type": "markdown",
   "metadata": {},
   "source": [
    "### Загрузка данных."
   ]
  },
  {
   "cell_type": "markdown",
   "metadata": {},
   "source": [
    "**Импортируем нужные библиотеки.**"
   ]
  },
  {
   "cell_type": "code",
   "execution_count": 1,
   "metadata": {},
   "outputs": [
    {
     "name": "stderr",
     "output_type": "stream",
     "text": [
      "[nltk_data] Downloading package wordnet to /home/jovyan/nltk_data...\n",
      "[nltk_data]   Package wordnet is already up-to-date!\n",
      "[nltk_data] Downloading package averaged_perceptron_tagger to\n",
      "[nltk_data]     /home/jovyan/nltk_data...\n",
      "[nltk_data]   Package averaged_perceptron_tagger is already up-to-\n",
      "[nltk_data]       date!\n"
     ]
    }
   ],
   "source": [
    "# Импортируем нужные библиотеки\n",
    "import pandas as pd\n",
    "import numpy as np\n",
    "import seaborn as sns\n",
    "import matplotlib.pyplot as plt\n",
    "\n",
    "import warnings\n",
    "warnings.filterwarnings('ignore')\n",
    "\n",
    "from sklearn.model_selection import train_test_split\n",
    "\n",
    "# Импортируем модели из библиотеки sklearn\n",
    "from sklearn.linear_model import LogisticRegression\n",
    "from sklearn.tree import DecisionTreeClassifier\n",
    "from sklearn.ensemble import RandomForestClassifier\n",
    "\n",
    "from tqdm.notebook import tqdm\n",
    "\n",
    "# Импортируем методы для разбиения на выборки и обработки признаков\n",
    "from sklearn.model_selection import GridSearchCV\n",
    "\n",
    "from sklearn.utils import shuffle\n",
    "\n",
    "import time\n",
    "import nltk\n",
    "from nltk.corpus import stopwords\n",
    "from sklearn.feature_extraction.text import TfidfVectorizer \n",
    "\n",
    "import re \n",
    "\n",
    "# Импортируем метрики\n",
    "from sklearn.metrics import precision_score\n",
    "from sklearn.metrics import recall_score\n",
    "from sklearn.metrics import f1_score\n",
    "\n",
    "nltk.download('wordnet')\n",
    "nltk.download('averaged_perceptron_tagger')\n",
    "\n",
    "from nltk.stem import WordNetLemmatizer\n",
    "from nltk.corpus import wordnet\n",
    "\n",
    "RANDOM_STATE = 42"
   ]
  },
  {
   "cell_type": "markdown",
   "metadata": {},
   "source": [
    "**Считаем данные из csv-файла в датафрейм и сохраним в переменную.**"
   ]
  },
  {
   "cell_type": "code",
   "execution_count": 2,
   "metadata": {},
   "outputs": [],
   "source": [
    "try:\n",
    "    data_0 = pd.read_csv('/datasets/toxic_comments.csv')\n",
    "except:\n",
    "    data_0 = pd.read_csv('https://code.s3.yandex.net/datasets/toxic_comments.csv')\n",
    "    print('Таблица /datasets/toxic_comments.csv не была загружена')"
   ]
  },
  {
   "cell_type": "markdown",
   "metadata": {},
   "source": [
    "**Выведем первые 5 строк датасета data и информацию о нём.**"
   ]
  },
  {
   "cell_type": "code",
   "execution_count": 3,
   "metadata": {},
   "outputs": [
    {
     "data": {
      "text/plain": [
       "(159292, 3)"
      ]
     },
     "metadata": {},
     "output_type": "display_data"
    },
    {
     "name": "stdout",
     "output_type": "stream",
     "text": [
      "<class 'pandas.core.frame.DataFrame'>\n",
      "RangeIndex: 159292 entries, 0 to 159291\n",
      "Data columns (total 3 columns):\n",
      " #   Column      Non-Null Count   Dtype \n",
      "---  ------      --------------   ----- \n",
      " 0   Unnamed: 0  159292 non-null  int64 \n",
      " 1   text        159292 non-null  object\n",
      " 2   toxic       159292 non-null  int64 \n",
      "dtypes: int64(2), object(1)\n",
      "memory usage: 3.6+ MB\n"
     ]
    },
    {
     "data": {
      "text/plain": [
       "None"
      ]
     },
     "metadata": {},
     "output_type": "display_data"
    },
    {
     "data": {
      "text/html": [
       "<div>\n",
       "<style scoped>\n",
       "    .dataframe tbody tr th:only-of-type {\n",
       "        vertical-align: middle;\n",
       "    }\n",
       "\n",
       "    .dataframe tbody tr th {\n",
       "        vertical-align: top;\n",
       "    }\n",
       "\n",
       "    .dataframe thead th {\n",
       "        text-align: right;\n",
       "    }\n",
       "</style>\n",
       "<table border=\"1\" class=\"dataframe\">\n",
       "  <thead>\n",
       "    <tr style=\"text-align: right;\">\n",
       "      <th></th>\n",
       "      <th>Unnamed: 0</th>\n",
       "      <th>text</th>\n",
       "      <th>toxic</th>\n",
       "    </tr>\n",
       "  </thead>\n",
       "  <tbody>\n",
       "    <tr>\n",
       "      <th>0</th>\n",
       "      <td>0</td>\n",
       "      <td>Explanation\\nWhy the edits made under my usern...</td>\n",
       "      <td>0</td>\n",
       "    </tr>\n",
       "    <tr>\n",
       "      <th>1</th>\n",
       "      <td>1</td>\n",
       "      <td>D'aww! He matches this background colour I'm s...</td>\n",
       "      <td>0</td>\n",
       "    </tr>\n",
       "    <tr>\n",
       "      <th>2</th>\n",
       "      <td>2</td>\n",
       "      <td>Hey man, I'm really not trying to edit war. It...</td>\n",
       "      <td>0</td>\n",
       "    </tr>\n",
       "    <tr>\n",
       "      <th>3</th>\n",
       "      <td>3</td>\n",
       "      <td>\"\\nMore\\nI can't make any real suggestions on ...</td>\n",
       "      <td>0</td>\n",
       "    </tr>\n",
       "    <tr>\n",
       "      <th>4</th>\n",
       "      <td>4</td>\n",
       "      <td>You, sir, are my hero. Any chance you remember...</td>\n",
       "      <td>0</td>\n",
       "    </tr>\n",
       "  </tbody>\n",
       "</table>\n",
       "</div>"
      ],
      "text/plain": [
       "   Unnamed: 0                                               text  toxic\n",
       "0           0  Explanation\\nWhy the edits made under my usern...      0\n",
       "1           1  D'aww! He matches this background colour I'm s...      0\n",
       "2           2  Hey man, I'm really not trying to edit war. It...      0\n",
       "3           3  \"\\nMore\\nI can't make any real suggestions on ...      0\n",
       "4           4  You, sir, are my hero. Any chance you remember...      0"
      ]
     },
     "execution_count": 3,
     "metadata": {},
     "output_type": "execute_result"
    }
   ],
   "source": [
    "#Сделаем обзор датасета data_0\n",
    "display(data_0.shape)\n",
    "display(data_0.info())\n",
    "data_0.head()"
   ]
  },
  {
   "cell_type": "markdown",
   "metadata": {},
   "source": [
    "**Сделаем выводы по обзору данных:**\n",
    "\n",
    " - В исследовани участвует один датасет.\n",
    " - В датасете не обнаружено пропусков.\n",
    " - В датасете не обнаружено неправильных типов данных.\n",
    " - В датасете есть столбец \"Unnamed: 0\", удалим его в предобработке данных.\n",
    " - Названия нужных столбцов приведены к змеиному регистру."
   ]
  },
  {
   "cell_type": "markdown",
   "metadata": {},
   "source": [
    "### Предобработка данных."
   ]
  },
  {
   "cell_type": "markdown",
   "metadata": {},
   "source": [
    "**Удалим ненужный столбец 'Unnamed: 0'**"
   ]
  },
  {
   "cell_type": "code",
   "execution_count": 4,
   "metadata": {
    "scrolled": true
   },
   "outputs": [
    {
     "data": {
      "text/html": [
       "<div>\n",
       "<style scoped>\n",
       "    .dataframe tbody tr th:only-of-type {\n",
       "        vertical-align: middle;\n",
       "    }\n",
       "\n",
       "    .dataframe tbody tr th {\n",
       "        vertical-align: top;\n",
       "    }\n",
       "\n",
       "    .dataframe thead th {\n",
       "        text-align: right;\n",
       "    }\n",
       "</style>\n",
       "<table border=\"1\" class=\"dataframe\">\n",
       "  <thead>\n",
       "    <tr style=\"text-align: right;\">\n",
       "      <th></th>\n",
       "      <th>text</th>\n",
       "      <th>toxic</th>\n",
       "    </tr>\n",
       "  </thead>\n",
       "  <tbody>\n",
       "    <tr>\n",
       "      <th>0</th>\n",
       "      <td>Explanation\\nWhy the edits made under my usern...</td>\n",
       "      <td>0</td>\n",
       "    </tr>\n",
       "    <tr>\n",
       "      <th>1</th>\n",
       "      <td>D'aww! He matches this background colour I'm s...</td>\n",
       "      <td>0</td>\n",
       "    </tr>\n",
       "    <tr>\n",
       "      <th>2</th>\n",
       "      <td>Hey man, I'm really not trying to edit war. It...</td>\n",
       "      <td>0</td>\n",
       "    </tr>\n",
       "    <tr>\n",
       "      <th>3</th>\n",
       "      <td>\"\\nMore\\nI can't make any real suggestions on ...</td>\n",
       "      <td>0</td>\n",
       "    </tr>\n",
       "    <tr>\n",
       "      <th>4</th>\n",
       "      <td>You, sir, are my hero. Any chance you remember...</td>\n",
       "      <td>0</td>\n",
       "    </tr>\n",
       "  </tbody>\n",
       "</table>\n",
       "</div>"
      ],
      "text/plain": [
       "                                                text  toxic\n",
       "0  Explanation\\nWhy the edits made under my usern...      0\n",
       "1  D'aww! He matches this background colour I'm s...      0\n",
       "2  Hey man, I'm really not trying to edit war. It...      0\n",
       "3  \"\\nMore\\nI can't make any real suggestions on ...      0\n",
       "4  You, sir, are my hero. Any chance you remember...      0"
      ]
     },
     "execution_count": 4,
     "metadata": {},
     "output_type": "execute_result"
    }
   ],
   "source": [
    "data_0 = data_0.drop('Unnamed: 0', axis=1)\n",
    "data_0.head()"
   ]
  },
  {
   "cell_type": "markdown",
   "metadata": {},
   "source": [
    "**Найдем явные дубликаты.**"
   ]
  },
  {
   "cell_type": "code",
   "execution_count": 5,
   "metadata": {},
   "outputs": [
    {
     "name": "stdout",
     "output_type": "stream",
     "text": [
      "Количество явных дубликатов data_0: 0\n"
     ]
    }
   ],
   "source": [
    "#Посчитаем явные дубликаты\n",
    "print('Количество явных дубликатов data_0:', data_0.duplicated().sum())"
   ]
  },
  {
   "cell_type": "markdown",
   "metadata": {},
   "source": [
    "**Сделаем выводы по предобработке данных.**\n",
    "\n",
    " - Явных дубликатов обнаружено не было.\n",
    " - Мы удалили ненужный столбец 'Unnamed: 0'."
   ]
  },
  {
   "cell_type": "markdown",
   "metadata": {},
   "source": [
    "### Исследовательский анализ данных."
   ]
  },
  {
   "cell_type": "markdown",
   "metadata": {},
   "source": [
    "**Посмотрим на распределение значений целевого признака.**"
   ]
  },
  {
   "cell_type": "code",
   "execution_count": 6,
   "metadata": {},
   "outputs": [
    {
     "data": {
      "text/plain": [
       "toxic\n",
       "0    143106\n",
       "1     16186\n",
       "Name: toxic, dtype: int64"
      ]
     },
     "metadata": {},
     "output_type": "display_data"
    },
    {
     "data": {
      "image/png": "[encoded data removed]",
      "text/plain": [
       "<Figure size 576x576 with 1 Axes>"
      ]
     },
     "metadata": {},
     "output_type": "display_data"
    }
   ],
   "source": [
    "#Проверим распределение показателей и построим график для столбца 'toxic'\n",
    "display(data_0.groupby('toxic')['toxic'].count())\n",
    "\n",
    "data_0_toxic = data_0['toxic'].value_counts()\n",
    "\n",
    "data_0_toxic.plot(kind='pie', autopct='%1.2f%%', figsize=(8, 8), labels=['Не токсичный отзыв, класс 0','Токсичный отзыв, класс 1'])\n",
    "plt.title('Распределение токсичности отзывов');"
   ]
  },
  {
   "cell_type": "markdown",
   "metadata": {},
   "source": [
    "**Вывод:** Распределение токсичности отзывов представлено двумя категориями - '0' и '1'. Класс токсичности отзыва: '0' - 89,84%, '1' - 10,16%."
   ]
  },
  {
   "cell_type": "markdown",
   "metadata": {},
   "source": [
    "**Вывод:** \n",
    "- В датасете не было обнаружено аномальных значений. \n",
    "- В датасете мы не обнаружили выбросы в данных.\n",
    "- В целевом признаке мы обнаружили дисбаланс классов."
   ]
  },
  {
   "cell_type": "markdown",
   "metadata": {},
   "source": [
    "### Лемматизируем текст."
   ]
  },
  {
   "cell_type": "markdown",
   "metadata": {},
   "source": [
    "**Создадим корпус слов.**"
   ]
  },
  {
   "cell_type": "code",
   "execution_count": 7,
   "metadata": {},
   "outputs": [],
   "source": [
    "corpus = list(data_0['text'])"
   ]
  },
  {
   "cell_type": "code",
   "execution_count": 8,
   "metadata": {},
   "outputs": [],
   "source": [
    "lemmatizer = WordNetLemmatizer()"
   ]
  },
  {
   "cell_type": "markdown",
   "metadata": {},
   "source": [
    "**Напишем функцию для очистки данных.**"
   ]
  },
  {
   "cell_type": "code",
   "execution_count": 9,
   "metadata": {},
   "outputs": [],
   "source": [
    "def clean_t(text):\n",
    "    a = re.sub(r\"[^'a-zA-Z ]\", ' ', text) \n",
    "    b = \" \".join(a.split())\n",
    "    return b"
   ]
  },
  {
   "cell_type": "code",
   "execution_count": 10,
   "metadata": {},
   "outputs": [],
   "source": [
    "def get_wordnet_pos(word):\n",
    "    m = nltk.pos_tag([word])[0][1][0].upper()\n",
    "    m_dict = {\"J\": wordnet.ADJ,\n",
    "                \"V\": wordnet.VERB,\n",
    "                \"N\": wordnet.NOUN,\n",
    "                \"R\": wordnet.ADV}\n",
    "    \n",
    "    return m_dict.get(m, wordnet.NOUN)"
   ]
  },
  {
   "cell_type": "code",
   "execution_count": 11,
   "metadata": {},
   "outputs": [
    {
     "name": "stdout",
     "output_type": "stream",
     "text": [
      "['Hey', 'man', ',', 'I', \"'m\", 'really', 'not', 'try', 'to', 'edit', 'war', '.', 'It', \"'s\", 'just', 'that', 'this', 'guy', 'be', 'constantly', 'remove', 'relevant', 'information', 'and', 'talk', 'to', 'me', 'through', 'edits', 'instead', 'of', 'my', 'talk', 'page', '.', 'He', 'seem', 'to', 'care', 'more', 'about', 'the', 'format', 'than', 'the', 'actual', 'info', '.']\n"
     ]
    }
   ],
   "source": [
    "#Протестируем функцию\n",
    "print([lemmatizer.lemmatize(i, get_wordnet_pos(i)) for i in nltk.word_tokenize(corpus[2])])"
   ]
  },
  {
   "cell_type": "markdown",
   "metadata": {},
   "source": [
    "**Лематизируем датасет.**"
   ]
  },
  {
   "cell_type": "code",
   "execution_count": 12,
   "metadata": {},
   "outputs": [
    {
     "data": {
      "application/vnd.jupyter.widget-view+json": {
       "model_id": "adee9198de524975ad8c83d329c8e27c",
       "version_major": 2,
       "version_minor": 0
      },
      "text/plain": [
       "  0%|          | 0/159292 [00:00<?, ?it/s]"
      ]
     },
     "metadata": {},
     "output_type": "display_data"
    },
    {
     "name": "stdout",
     "output_type": "stream",
     "text": [
      "CPU times: user 20min 3s, sys: 1min 54s, total: 21min 58s\n",
      "Wall time: 22min 29s\n"
     ]
    }
   ],
   "source": [
    "%%time\n",
    "\n",
    "def lemmat_func(text):\n",
    "    d = []\n",
    "    for i in nltk.word_tokenize(text):\n",
    "        a = lemmatizer.lemmatize(i, get_wordnet_pos(i))\n",
    "        d.append(a)\n",
    "    return ' '.join(d)\n",
    "\n",
    "tqdm.pandas()\n",
    "data_0['lemmat_text'] = data_0['text'].progress_apply(lemmat_func)"
   ]
  },
  {
   "cell_type": "code",
   "execution_count": 13,
   "metadata": {},
   "outputs": [
    {
     "data": {
      "text/plain": [
       "\"Explanation Why the edits make under my username Hardcore Metallica Fan be revert ? They be n't vandalism , just closure on some GAs after I vote at New York Dolls FAC . And please do n't remove the template from the talk page since I 'm retire now.89.205.38.27\""
      ]
     },
     "metadata": {},
     "output_type": "display_data"
    }
   ],
   "source": [
    "#Проверим результат работы функции\n",
    "display(data_0['lemmat_text'][0])"
   ]
  },
  {
   "cell_type": "markdown",
   "metadata": {},
   "source": [
    "### Разделим датасет на выборки."
   ]
  },
  {
   "cell_type": "code",
   "execution_count": 14,
   "metadata": {},
   "outputs": [],
   "source": [
    "X = data_0.drop('toxic',axis=1)\n",
    "y = data_0['toxic']\n",
    "\n",
    "X_train, X_test, y_train, y_test = train_test_split(X, y, test_size=0.25, \n",
    "                                                    random_state=RANDOM_STATE, \n",
    "                                                    stratify=y)"
   ]
  },
  {
   "cell_type": "markdown",
   "metadata": {},
   "source": [
    "### Применим метод TF-IDF к данным."
   ]
  },
  {
   "cell_type": "code",
   "execution_count": 15,
   "metadata": {},
   "outputs": [
    {
     "name": "stderr",
     "output_type": "stream",
     "text": [
      "[nltk_data] Downloading package stopwords to /home/jovyan/nltk_data...\n",
      "[nltk_data]   Package stopwords is already up-to-date!\n"
     ]
    }
   ],
   "source": [
    "#Получим стоп-слова для английского языка\n",
    "nltk.download('stopwords') \n",
    "stop_words = set(stopwords.words('english')) "
   ]
  },
  {
   "cell_type": "code",
   "execution_count": 16,
   "metadata": {},
   "outputs": [],
   "source": [
    "corpus_lemmat_train = X_train['lemmat_text']"
   ]
  },
  {
   "cell_type": "code",
   "execution_count": 17,
   "metadata": {},
   "outputs": [],
   "source": [
    "corpus_lemmat_test = X_test['lemmat_text']"
   ]
  },
  {
   "cell_type": "code",
   "execution_count": 18,
   "metadata": {},
   "outputs": [],
   "source": [
    "#Обучим TfidfVectorizer\n",
    "count_tf_idf = TfidfVectorizer(stop_words=list(stop_words)) \n",
    "tf_idf = count_tf_idf.fit(corpus_lemmat_train)"
   ]
  },
  {
   "cell_type": "code",
   "execution_count": 19,
   "metadata": {},
   "outputs": [],
   "source": [
    "#Получми TF-IDF для корпуса текста\n",
    "tf_idf = count_tf_idf.transform(corpus_lemmat_train)\n",
    "tf_idf_test = count_tf_idf.transform(corpus_lemmat_test)"
   ]
  },
  {
   "cell_type": "markdown",
   "metadata": {},
   "source": [
    "**Вывод:**\n",
    "\n",
    " - Мы создали корпус слов, отчистили данные и лемматизировали датасет.\n",
    " - Так же мы применили метод TF-IDF к данным."
   ]
  },
  {
   "cell_type": "markdown",
   "metadata": {},
   "source": [
    "## Обучение"
   ]
  },
  {
   "cell_type": "markdown",
   "metadata": {},
   "source": [
    "### Обучим модель LogisticRegression."
   ]
  },
  {
   "cell_type": "code",
   "execution_count": 20,
   "metadata": {},
   "outputs": [
    {
     "name": "stdout",
     "output_type": "stream",
     "text": [
      "CPU times: user 5min 57s, sys: 0 ns, total: 5min 57s\n",
      "Wall time: 5min 57s\n"
     ]
    },
    {
     "data": {
      "text/plain": [
       "{'C': 10, 'max_iter': 22}"
      ]
     },
     "execution_count": 20,
     "metadata": {},
     "output_type": "execute_result"
    }
   ],
   "source": [
    "%%time\n",
    "\n",
    "model_lr = LogisticRegression(random_state=RANDOM_STATE, \n",
    "                              solver='sag',\n",
    "                              class_weight='balanced')\n",
    "\n",
    "param_lr = {'C': range (5, 15),\n",
    "             'max_iter': range (2,25,2),\n",
    "            }\n",
    "\n",
    "grid_lr = GridSearchCV(model_lr, \n",
    "                       param_lr, \n",
    "                       cv=3,\n",
    "                       scoring='f1')\n",
    "\n",
    "grid_lr.fit(tf_idf, y_train)\n",
    "grid_lr.best_params_"
   ]
  },
  {
   "cell_type": "code",
   "execution_count": 21,
   "metadata": {},
   "outputs": [
    {
     "name": "stdout",
     "output_type": "stream",
     "text": [
      "Метрика F1 на модели \"LogisticRegression\" равна: 0.7579924693753499\n"
     ]
    }
   ],
   "source": [
    "print('Метрика F1 на модели \"LogisticRegression\" равна:', grid_lr.best_score_)"
   ]
  },
  {
   "cell_type": "markdown",
   "metadata": {},
   "source": [
    "### Обучим модель DecisionTreeClassifier."
   ]
  },
  {
   "cell_type": "code",
   "execution_count": 22,
   "metadata": {},
   "outputs": [
    {
     "name": "stdout",
     "output_type": "stream",
     "text": [
      "CPU times: user 17min 55s, sys: 113 ms, total: 17min 55s\n",
      "Wall time: 17min 56s\n"
     ]
    },
    {
     "data": {
      "text/plain": [
       "GridSearchCV(cv=3,\n",
       "             estimator=DecisionTreeClassifier(class_weight='balanced',\n",
       "                                              random_state=42),\n",
       "             param_grid={'max_depth': range(1, 40, 2)}, scoring='f1')"
      ]
     },
     "execution_count": 22,
     "metadata": {},
     "output_type": "execute_result"
    }
   ],
   "source": [
    "%%time\n",
    "\n",
    "# Обучим модель DecisionTreeClassifier()\n",
    "model_dtc = DecisionTreeClassifier(random_state=RANDOM_STATE,\n",
    "                                      class_weight='balanced')\n",
    "# Задаём параметры\n",
    "dtc_param = {'max_depth': range(1, 40, 2)}\n",
    "\n",
    "dtc_grid = GridSearchCV(model_dtc,\n",
    "                        dtc_param, \n",
    "                        scoring='f1', \n",
    "                        cv=3)\n",
    "\n",
    "dtc_grid.fit(tf_idf, y_train)"
   ]
  },
  {
   "cell_type": "code",
   "execution_count": 23,
   "metadata": {},
   "outputs": [
    {
     "name": "stdout",
     "output_type": "stream",
     "text": [
      "Метрика F1 на лучшей модели \"DecisionTreeClassifier\": 0.6351996850970942\n"
     ]
    }
   ],
   "source": [
    "print('Метрика F1 на лучшей модели \"DecisionTreeClassifier\":', dtc_grid.best_score_)"
   ]
  },
  {
   "cell_type": "markdown",
   "metadata": {},
   "source": [
    "### Обучим модель RandomForestClassifier."
   ]
  },
  {
   "cell_type": "code",
   "execution_count": 24,
   "metadata": {},
   "outputs": [
    {
     "name": "stdout",
     "output_type": "stream",
     "text": [
      "CPU times: user 8min 40s, sys: 126 ms, total: 8min 40s\n",
      "Wall time: 8min 40s\n"
     ]
    },
    {
     "data": {
      "text/plain": [
       "GridSearchCV(cv=3,\n",
       "             estimator=RandomForestClassifier(class_weight='balanced_subsample',\n",
       "                                              random_state=42),\n",
       "             param_grid={'n_estimators': range(1, 10, 2)}, scoring='f1')"
      ]
     },
     "execution_count": 24,
     "metadata": {},
     "output_type": "execute_result"
    }
   ],
   "source": [
    "%%time\n",
    "\n",
    "# Обучим модель RandomForestClassifier()\n",
    "model_rfc = RandomForestClassifier(random_state=RANDOM_STATE, \n",
    "                                      \n",
    "                                      class_weight='balanced_subsample')\n",
    "# Задаём параметрыы\n",
    "rfc_param = {'n_estimators': range(1, 10, 2)}\n",
    "\n",
    "rfc_grid = GridSearchCV(model_rfc,\n",
    "                        rfc_param, \n",
    "                        scoring='f1', \n",
    "                        cv=3)\n",
    "\n",
    "rfc_grid.fit(tf_idf, y_train)"
   ]
  },
  {
   "cell_type": "code",
   "execution_count": 25,
   "metadata": {},
   "outputs": [
    {
     "name": "stdout",
     "output_type": "stream",
     "text": [
      "Метрика F1 на лучшей модели \"RandomForestClassifier\": 0.5949735145122833\n"
     ]
    }
   ],
   "source": [
    "print('Метрика F1 на лучшей модели \"RandomForestClassifier\":', rfc_grid.best_score_)"
   ]
  },
  {
   "cell_type": "markdown",
   "metadata": {},
   "source": [
    "**Вывод:** Наилучший результат на метрике F1 показала модель - LogisticRegression, с параметрами: {'C': 10, 'max_iter': 22}. Она показала качество F1 - 0.75799, что выше до нужного нам показателя в 0.75. Еще улучшим её результат подобрав порог классификации."
   ]
  },
  {
   "cell_type": "markdown",
   "metadata": {},
   "source": [
    "**Измерим метрику F1 лучшей модели на тестовой выборке.**"
   ]
  },
  {
   "cell_type": "code",
   "execution_count": 26,
   "metadata": {},
   "outputs": [
    {
     "name": "stdout",
     "output_type": "stream",
     "text": [
      "Метрика F1 модели \"LogisticRegression\" на тестовой выборке равна: 0.7560050568900126\n"
     ]
    }
   ],
   "source": [
    "pred_lr= grid_lr.predict(tf_idf_test)\n",
    "\n",
    "f1_lr = f1_score(y_test, pred_lr)\n",
    "print('Метрика F1 модели \"LogisticRegression\" на тестовой выборке равна:', f1_lr)"
   ]
  },
  {
   "cell_type": "markdown",
   "metadata": {},
   "source": [
    "### Улучшим показатель модели LogisticRegression, как лучшей из протестированных нами."
   ]
  },
  {
   "cell_type": "code",
   "execution_count": 27,
   "metadata": {
    "scrolled": true
   },
   "outputs": [
    {
     "name": "stdout",
     "output_type": "stream",
     "text": [
      "Порог = 0.20, Precision = 0.520, Recall = 0.890, F1 = 0.65634\n",
      "Порог = 0.22, Precision = 0.539, Recall = 0.883, F1 = 0.66960\n",
      "Порог = 0.24, Precision = 0.556, Recall = 0.875, F1 = 0.68005\n",
      "Порог = 0.26, Precision = 0.571, Recall = 0.869, F1 = 0.68881\n",
      "Порог = 0.28, Precision = 0.586, Recall = 0.865, F1 = 0.69834\n",
      "Порог = 0.30, Precision = 0.601, Recall = 0.861, F1 = 0.70772\n",
      "Порог = 0.32, Precision = 0.612, Recall = 0.856, F1 = 0.71356\n",
      "Порог = 0.34, Precision = 0.624, Recall = 0.853, F1 = 0.72055\n",
      "Порог = 0.36, Precision = 0.636, Recall = 0.846, F1 = 0.72635\n",
      "Порог = 0.38, Precision = 0.649, Recall = 0.843, F1 = 0.73371\n",
      "Порог = 0.40, Precision = 0.659, Recall = 0.838, F1 = 0.73786\n",
      "Порог = 0.42, Precision = 0.669, Recall = 0.833, F1 = 0.74240\n",
      "Порог = 0.44, Precision = 0.682, Recall = 0.829, F1 = 0.74827\n",
      "Порог = 0.46, Precision = 0.690, Recall = 0.823, F1 = 0.75054\n",
      "Порог = 0.48, Precision = 0.698, Recall = 0.819, F1 = 0.75373\n",
      "Порог = 0.50, Precision = 0.707, Recall = 0.813, F1 = 0.75601\n",
      "Порог = 0.52, Precision = 0.717, Recall = 0.808, F1 = 0.75976\n",
      "Порог = 0.54, Precision = 0.726, Recall = 0.803, F1 = 0.76241\n",
      "Порог = 0.56, Precision = 0.734, Recall = 0.796, F1 = 0.76414\n",
      "Порог = 0.58, Precision = 0.743, Recall = 0.791, F1 = 0.76619\n",
      "Порог = 0.60, Precision = 0.753, Recall = 0.786, F1 = 0.76917\n",
      "Порог = 0.62, Precision = 0.763, Recall = 0.781, F1 = 0.77205\n",
      "Порог = 0.64, Precision = 0.772, Recall = 0.775, F1 = 0.77335\n",
      "Порог = 0.66, Precision = 0.779, Recall = 0.768, F1 = 0.77352\n",
      "Порог = 0.68, Precision = 0.790, Recall = 0.762, F1 = 0.77610\n",
      "Порог = 0.70, Precision = 0.799, Recall = 0.757, F1 = 0.77741\n",
      "Порог = 0.72, Precision = 0.806, Recall = 0.749, F1 = 0.77637\n",
      "Порог = 0.74, Precision = 0.814, Recall = 0.744, F1 = 0.77742\n",
      "Порог = 0.76, Precision = 0.824, Recall = 0.734, F1 = 0.77621\n",
      "Порог = 0.78, Precision = 0.831, Recall = 0.723, F1 = 0.77326\n",
      "Порог = 0.80, Precision = 0.837, Recall = 0.713, F1 = 0.76999\n",
      "Порог = 0.82, Precision = 0.847, Recall = 0.702, F1 = 0.76784\n",
      "Порог = 0.84, Precision = 0.857, Recall = 0.695, F1 = 0.76757\n",
      "Порог = 0.86, Precision = 0.866, Recall = 0.683, F1 = 0.76392\n",
      "Порог = 0.88, Precision = 0.880, Recall = 0.672, F1 = 0.76198\n",
      "Порог = 0.90, Precision = 0.890, Recall = 0.656, F1 = 0.75519\n",
      "Порог = 0.92, Precision = 0.899, Recall = 0.637, F1 = 0.74537\n",
      "Порог = 0.94, Precision = 0.913, Recall = 0.617, F1 = 0.73676\n",
      "Порог = 0.96, Precision = 0.932, Recall = 0.587, F1 = 0.71985\n",
      "Порог = 0.98, Precision = 0.953, Recall = 0.542, F1 = 0.69072\n"
     ]
    }
   ],
   "source": [
    "#Переберём значения F1, precision, recall в цикле и выберем порог классификации\n",
    "proba = grid_lr.predict_proba(tf_idf_test)\n",
    "proba = proba[:, 1]\n",
    "\n",
    "for threshold in np.arange(0.2, 1, 0.02):\n",
    "    pred = proba > threshold\n",
    "    precision = precision_score(y_test, pred)\n",
    "    recall = recall_score(y_test, pred) \n",
    "    f1 = f1_score(y_test, pred)\n",
    "    \n",
    "    print(f'Порог = {threshold:.2f}, Precision = {precision:.3f}, Recall = {recall:.3f}, F1 = {f1:.5f}')"
   ]
  },
  {
   "cell_type": "markdown",
   "metadata": {},
   "source": [
    "**Выберем пороговое значение, равное 0.74, как наиболее подходящее для метрики F1.**"
   ]
  },
  {
   "cell_type": "code",
   "execution_count": 28,
   "metadata": {},
   "outputs": [
    {
     "name": "stdout",
     "output_type": "stream",
     "text": [
      "Метрика качества F1 с порогом классификации 0.74 для модели LogisticRegression: 0.7774189381216896\n"
     ]
    }
   ],
   "source": [
    "pred_test = (grid_lr.predict_proba(tf_idf_test)[:,1] > 0.74)\n",
    "f1_lr = f1_score(y_test, pred_test)\n",
    "\n",
    "print('Метрика качества F1 с порогом классификации 0.74 для модели LogisticRegression:', f1_lr)"
   ]
  },
  {
   "cell_type": "markdown",
   "metadata": {},
   "source": [
    "**Выведем значения метрики F1 всех протестированных нами моделей.**"
   ]
  },
  {
   "cell_type": "code",
   "execution_count": 29,
   "metadata": {},
   "outputs": [
    {
     "data": {
      "text/plain": [
       "{'Модель                ': 'F1',\n",
       " 'DecisionTreeClassifier': 0.6351996850970942,\n",
       " 'RandomForestClassifier': 0.5949735145122833,\n",
       " 'LogisticRegression    ': 0.7774189381216896}"
      ]
     },
     "execution_count": 29,
     "metadata": {},
     "output_type": "execute_result"
    }
   ],
   "source": [
    "res = {'Модель                ':'F1',\n",
    "       'DecisionTreeClassifier': dtc_grid.best_score_,\n",
    "       'RandomForestClassifier': rfc_grid.best_score_,\n",
    "       'LogisticRegression    ': f1_lr}\n",
    "res"
   ]
  },
  {
   "cell_type": "markdown",
   "metadata": {},
   "source": [
    "**Вывод:** Модель LogisticRegression показала наилучший результат и с помощью подбора порога классификации - 0.74 смогла превысить значение 0.75. "
   ]
  },
  {
   "cell_type": "markdown",
   "metadata": {},
   "source": [
    "## Выводы"
   ]
  },
  {
   "cell_type": "markdown",
   "metadata": {},
   "source": [
    "### Общий вывод."
   ]
  },
  {
   "cell_type": "markdown",
   "metadata": {},
   "source": [
    "**Сделаем общий вывод по проделанному исследованию.**\n",
    "\n",
    "Мы исследовали датасет интернет-магазина «Викишоп». Компании нужно было построить модель, которая будет искать \"токсичные\" комментарии, для дальнейшей отправки на модерацию. Критерием качества этой модели было значение метрики F1 не меньше 0.75.\n",
    "\n",
    "**Сделаем выводы по обзору данных:**\n",
    "\n",
    " - В исследовани участвует один датасет.\n",
    " - В датасете не обнаружено пропусков.\n",
    " - В датасете не обнаружено неправильных типов данных.\n",
    " - В датасете есть столбец \"Unnamed: 0\", удалим его в предобработке данных.\n",
    " - Названия нужных столбцов приведены к змеиному регистру.\n",
    "\n",
    "**Сделаем выводы по предобработке данных.**\n",
    "\n",
    " - Явных дубликатов обнаружено не было.\n",
    " - Мы удалили ненужный столбец 'Unnamed: 0'.\n",
    " \n",
    "**Сделаем вывод по исследовательскому анализу данных:**\n",
    "\n",
    "- В датасете не было обнаружено аномальных значений. \n",
    "- В датасете мы не обнаружили выбросы в данных.\n",
    "- В целевом признаке мы обнаружили дисбаланс классов.\n",
    "- Распределение токсичности отзывов представлено двумя категориями - '0' и '1'. Класс токсичности отзыва: '0' - 89,84%, '1' - 10,16%.\n",
    "\n",
    "**Сделаем вывод по подготовке данных к моделированию:**\n",
    "\n",
    " - Мы создали корпус слов, отчистили данные и лемматизировали датасет.\n",
    " - Так же мы применили метод TF-IDF к данным.\n",
    " \n",
    "**Сделаем вывод по обучению моделей:**\n",
    "\n",
    "Наилучший результат на метрике F1 показала модель - LogisticRegression, с параметрами: {'C': 10, 'max_iter': 22}. Она показала качество F1 - 0.75799, что выше до нужного нам показателя в 0.75. Еще улучшим её результат подобрав порог классификации.\n",
    "\n",
    "**Сделаем вывод по доработке модели:**\n",
    "\n",
    "Модель LogisticRegression показала наилучший результат и с помощью подбора порога классификации - 0.74 смогла превысить значение 0.75, что и требовалось от исследования."
   ]
  }
 ],
 "metadata": {
  "ExecuteTimeLog": [
   {
    "duration": 55,
    "start_time": "2025-02-17T13:51:22.858Z"
   },
   {
    "duration": 6286,
    "start_time": "2025-02-17T13:51:24.179Z"
   },
   {
    "duration": 859,
    "start_time": "2025-02-17T13:51:30.467Z"
   },
   {
    "duration": 951,
    "start_time": "2025-02-17T14:01:33.000Z"
   },
   {
    "duration": 46,
    "start_time": "2025-02-17T14:01:34.944Z"
   },
   {
    "duration": 1794,
    "start_time": "2025-02-17T14:25:59.605Z"
   },
   {
    "duration": 0,
    "start_time": "2025-02-17T14:26:01.401Z"
   },
   {
    "duration": 0,
    "start_time": "2025-02-17T14:26:01.402Z"
   },
   {
    "duration": 260,
    "start_time": "2025-02-17T14:26:49.505Z"
   },
   {
    "duration": 1749,
    "start_time": "2025-02-17T14:27:06.865Z"
   },
   {
    "duration": 973,
    "start_time": "2025-02-17T14:27:08.616Z"
   },
   {
    "duration": 59,
    "start_time": "2025-02-17T14:27:09.591Z"
   },
   {
    "duration": 18,
    "start_time": "2025-02-17T14:43:52.127Z"
   },
   {
    "duration": 147,
    "start_time": "2025-02-17T14:44:03.647Z"
   },
   {
    "duration": 1646,
    "start_time": "2025-02-17T14:44:47.236Z"
   },
   {
    "duration": 844,
    "start_time": "2025-02-17T14:44:48.884Z"
   },
   {
    "duration": 36,
    "start_time": "2025-02-17T14:44:49.730Z"
   },
   {
    "duration": 13,
    "start_time": "2025-02-17T14:44:49.767Z"
   },
   {
    "duration": 226,
    "start_time": "2025-02-17T14:45:10.465Z"
   },
   {
    "duration": 125,
    "start_time": "2025-02-17T15:39:34.270Z"
   },
   {
    "duration": 102,
    "start_time": "2025-02-17T15:40:29.249Z"
   },
   {
    "duration": 5,
    "start_time": "2025-02-17T15:42:18.191Z"
   },
   {
    "duration": 126,
    "start_time": "2025-02-17T15:42:44.193Z"
   },
   {
    "duration": 120,
    "start_time": "2025-02-17T15:43:25.611Z"
   },
   {
    "duration": 126,
    "start_time": "2025-02-17T15:43:33.309Z"
   },
   {
    "duration": 133,
    "start_time": "2025-02-17T15:43:37.413Z"
   },
   {
    "duration": 131,
    "start_time": "2025-02-17T15:43:42.236Z"
   },
   {
    "duration": 117,
    "start_time": "2025-02-17T15:43:50.645Z"
   },
   {
    "duration": 123,
    "start_time": "2025-02-17T15:48:48.247Z"
   },
   {
    "duration": 2701,
    "start_time": "2025-02-18T15:32:01.291Z"
   },
   {
    "duration": 958,
    "start_time": "2025-02-18T15:32:03.995Z"
   },
   {
    "duration": 47,
    "start_time": "2025-02-18T15:32:04.955Z"
   },
   {
    "duration": 36,
    "start_time": "2025-02-18T15:32:05.004Z"
   },
   {
    "duration": 252,
    "start_time": "2025-02-18T15:32:05.042Z"
   },
   {
    "duration": 158,
    "start_time": "2025-02-18T15:32:05.296Z"
   },
   {
    "duration": 32,
    "start_time": "2025-02-18T15:32:58.203Z"
   },
   {
    "duration": 3,
    "start_time": "2025-02-18T15:36:49.825Z"
   },
   {
    "duration": 3,
    "start_time": "2025-02-18T15:40:07.852Z"
   },
   {
    "duration": 20,
    "start_time": "2025-02-18T15:42:35.246Z"
   },
   {
    "duration": 3,
    "start_time": "2025-02-18T15:50:27.874Z"
   },
   {
    "duration": 1502,
    "start_time": "2025-02-18T15:51:04.643Z"
   },
   {
    "duration": 10,
    "start_time": "2025-02-18T15:52:03.527Z"
   },
   {
    "duration": 11,
    "start_time": "2025-02-18T15:52:14.686Z"
   },
   {
    "duration": 10,
    "start_time": "2025-02-18T15:52:39.896Z"
   },
   {
    "duration": 9,
    "start_time": "2025-02-18T15:54:08.606Z"
   },
   {
    "duration": 294,
    "start_time": "2025-02-18T15:58:51.566Z"
   },
   {
    "duration": 219,
    "start_time": "2025-02-18T15:59:10.936Z"
   },
   {
    "duration": 156,
    "start_time": "2025-02-18T15:59:22.321Z"
   },
   {
    "duration": 3,
    "start_time": "2025-02-18T15:59:27.280Z"
   },
   {
    "duration": 4,
    "start_time": "2025-02-18T15:59:28.848Z"
   },
   {
    "duration": 10,
    "start_time": "2025-02-18T15:59:30.241Z"
   },
   {
    "duration": 154,
    "start_time": "2025-02-18T15:59:32.065Z"
   },
   {
    "duration": 3,
    "start_time": "2025-02-18T16:00:19.468Z"
   },
   {
    "duration": 4,
    "start_time": "2025-02-18T16:00:20.619Z"
   },
   {
    "duration": 9,
    "start_time": "2025-02-18T16:00:21.420Z"
   },
   {
    "duration": 652282,
    "start_time": "2025-02-18T16:00:27.013Z"
   },
   {
    "duration": 1252669,
    "start_time": "2025-02-18T16:12:47.769Z"
   },
   {
    "duration": 11,
    "start_time": "2025-02-18T16:34:34.718Z"
   },
   {
    "duration": 50,
    "start_time": "2025-02-18T16:34:44.581Z"
   },
   {
    "duration": 13,
    "start_time": "2025-02-18T16:35:36.057Z"
   },
   {
    "duration": 5,
    "start_time": "2025-02-18T16:36:59.109Z"
   },
   {
    "duration": 4,
    "start_time": "2025-02-18T16:37:34.497Z"
   },
   {
    "duration": 329,
    "start_time": "2025-02-18T16:45:51.807Z"
   },
   {
    "duration": 13,
    "start_time": "2025-02-18T18:24:54.739Z"
   },
   {
    "duration": 108,
    "start_time": "2025-02-18T18:24:58.467Z"
   },
   {
    "duration": 43,
    "start_time": "2025-02-18T18:25:00.835Z"
   },
   {
    "duration": 95,
    "start_time": "2025-02-18T18:25:18.429Z"
   },
   {
    "duration": 17,
    "start_time": "2025-02-18T18:31:41.286Z"
   },
   {
    "duration": 114,
    "start_time": "2025-02-18T18:32:09.616Z"
   },
   {
    "duration": 64,
    "start_time": "2025-02-18T18:32:20.793Z"
   },
   {
    "duration": 108,
    "start_time": "2025-02-18T18:32:22.353Z"
   },
   {
    "duration": 88,
    "start_time": "2025-02-18T18:32:29.360Z"
   },
   {
    "duration": 107,
    "start_time": "2025-02-18T18:32:30.137Z"
   },
   {
    "duration": 102,
    "start_time": "2025-02-18T18:32:35.962Z"
   },
   {
    "duration": 113,
    "start_time": "2025-02-18T18:32:37.121Z"
   },
   {
    "duration": 93,
    "start_time": "2025-02-18T18:32:42.506Z"
   },
   {
    "duration": 123,
    "start_time": "2025-02-18T18:32:43.874Z"
   },
   {
    "duration": 107,
    "start_time": "2025-02-18T18:32:48.893Z"
   },
   {
    "duration": 111,
    "start_time": "2025-02-18T18:32:49.978Z"
   },
   {
    "duration": 91,
    "start_time": "2025-02-18T18:32:54.803Z"
   },
   {
    "duration": 107,
    "start_time": "2025-02-18T18:32:55.562Z"
   },
   {
    "duration": 90,
    "start_time": "2025-02-18T18:34:29.849Z"
   },
   {
    "duration": 112,
    "start_time": "2025-02-18T18:34:30.833Z"
   },
   {
    "duration": 89,
    "start_time": "2025-02-18T18:34:34.633Z"
   },
   {
    "duration": 277,
    "start_time": "2025-02-18T18:34:35.593Z"
   },
   {
    "duration": 87,
    "start_time": "2025-02-18T18:34:38.178Z"
   },
   {
    "duration": 109,
    "start_time": "2025-02-18T18:34:39.114Z"
   },
   {
    "duration": 108,
    "start_time": "2025-02-18T18:35:00.235Z"
   },
   {
    "duration": 93,
    "start_time": "2025-02-18T18:35:04.050Z"
   },
   {
    "duration": 107,
    "start_time": "2025-02-18T18:35:05.043Z"
   },
   {
    "duration": 87,
    "start_time": "2025-02-18T18:35:08.827Z"
   },
   {
    "duration": 107,
    "start_time": "2025-02-18T18:35:11.796Z"
   },
   {
    "duration": 95,
    "start_time": "2025-02-18T18:35:15.844Z"
   },
   {
    "duration": 105,
    "start_time": "2025-02-18T18:35:16.948Z"
   },
   {
    "duration": 109,
    "start_time": "2025-02-18T18:35:20.701Z"
   },
   {
    "duration": 92,
    "start_time": "2025-02-18T18:35:22.301Z"
   },
   {
    "duration": 4739,
    "start_time": "2025-02-18T19:04:14.935Z"
   },
   {
    "duration": 216,
    "start_time": "2025-02-18T19:04:49.521Z"
   },
   {
    "duration": 9,
    "start_time": "2025-02-18T19:05:49.381Z"
   },
   {
    "duration": 1969,
    "start_time": "2025-02-18T19:08:53.680Z"
   },
   {
    "duration": 6868,
    "start_time": "2025-02-18T19:18:34.780Z"
   },
   {
    "duration": 919,
    "start_time": "2025-02-18T19:20:59.565Z"
   },
   {
    "duration": 2402,
    "start_time": "2025-02-18T19:22:21.610Z"
   },
   {
    "duration": 1903,
    "start_time": "2025-02-18T20:54:28.655Z"
   },
   {
    "duration": 962,
    "start_time": "2025-02-18T20:54:30.560Z"
   },
   {
    "duration": 50,
    "start_time": "2025-02-18T20:54:31.524Z"
   },
   {
    "duration": 16,
    "start_time": "2025-02-18T20:54:31.576Z"
   },
   {
    "duration": 267,
    "start_time": "2025-02-18T20:54:31.595Z"
   },
   {
    "duration": 159,
    "start_time": "2025-02-18T20:54:31.864Z"
   },
   {
    "duration": 33,
    "start_time": "2025-02-18T20:54:32.024Z"
   },
   {
    "duration": 25,
    "start_time": "2025-02-18T20:54:32.059Z"
   },
   {
    "duration": 49,
    "start_time": "2025-02-18T20:54:32.085Z"
   },
   {
    "duration": 47,
    "start_time": "2025-02-18T20:54:32.135Z"
   },
   {
    "duration": 1471,
    "start_time": "2025-02-18T20:54:32.184Z"
   },
   {
    "duration": 1253579,
    "start_time": "2025-02-18T20:54:33.657Z"
   },
   {
    "duration": 50,
    "start_time": "2025-02-18T21:15:27.238Z"
   },
   {
    "duration": 17,
    "start_time": "2025-02-18T21:15:27.291Z"
   },
   {
    "duration": 123,
    "start_time": "2025-02-18T21:15:27.309Z"
   },
   {
    "duration": 100,
    "start_time": "2025-02-18T21:15:27.434Z"
   },
   {
    "duration": 141,
    "start_time": "2025-02-18T21:15:27.536Z"
   },
   {
    "duration": 5,
    "start_time": "2025-02-18T21:15:27.679Z"
   },
   {
    "duration": 41,
    "start_time": "2025-02-18T21:15:27.686Z"
   },
   {
    "duration": 1849,
    "start_time": "2025-02-18T21:15:27.729Z"
   },
   {
    "duration": 6820,
    "start_time": "2025-02-18T21:15:29.580Z"
   },
   {
    "duration": 996,
    "start_time": "2025-02-18T21:15:36.401Z"
   },
   {
    "duration": 2349,
    "start_time": "2025-02-18T21:15:37.398Z"
   },
   {
    "duration": 6,
    "start_time": "2025-02-18T21:17:46.376Z"
   },
   {
    "duration": 4,
    "start_time": "2025-02-18T21:18:05.072Z"
   },
   {
    "duration": 2,
    "start_time": "2025-02-18T21:18:13.697Z"
   },
   {
    "duration": 141,
    "start_time": "2025-02-18T21:20:36.778Z"
   },
   {
    "duration": 16,
    "start_time": "2025-02-18T21:21:34.302Z"
   },
   {
    "duration": 8424,
    "start_time": "2025-02-18T21:22:14.287Z"
   },
   {
    "duration": 20,
    "start_time": "2025-02-18T21:24:07.415Z"
   },
   {
    "duration": 18,
    "start_time": "2025-02-18T21:24:09.550Z"
   },
   {
    "duration": 81,
    "start_time": "2025-02-18T21:27:31.106Z"
   },
   {
    "duration": 3423,
    "start_time": "2025-02-18T21:27:36.883Z"
   },
   {
    "duration": 8,
    "start_time": "2025-02-18T21:28:46.744Z"
   },
   {
    "duration": 5,
    "start_time": "2025-02-18T21:29:21.418Z"
   },
   {
    "duration": 4,
    "start_time": "2025-02-18T21:29:23.457Z"
   },
   {
    "duration": 2,
    "start_time": "2025-02-18T21:29:24.313Z"
   },
   {
    "duration": 17,
    "start_time": "2025-02-18T21:29:31.362Z"
   },
   {
    "duration": 16,
    "start_time": "2025-02-18T21:30:30.894Z"
   },
   {
    "duration": 8,
    "start_time": "2025-02-18T21:31:34.193Z"
   },
   {
    "duration": 5,
    "start_time": "2025-02-18T21:31:51.458Z"
   },
   {
    "duration": 16,
    "start_time": "2025-02-18T21:31:59.042Z"
   },
   {
    "duration": 5,
    "start_time": "2025-02-18T21:32:12.620Z"
   },
   {
    "duration": 18,
    "start_time": "2025-02-18T21:32:15.956Z"
   },
   {
    "duration": 4,
    "start_time": "2025-02-18T21:32:32.661Z"
   },
   {
    "duration": 18,
    "start_time": "2025-02-18T21:32:35.693Z"
   },
   {
    "duration": 18,
    "start_time": "2025-02-18T21:37:37.130Z"
   },
   {
    "duration": 5,
    "start_time": "2025-02-18T21:37:55.353Z"
   },
   {
    "duration": 17,
    "start_time": "2025-02-18T21:37:58.257Z"
   },
   {
    "duration": 5,
    "start_time": "2025-02-18T21:39:11.669Z"
   },
   {
    "duration": 20,
    "start_time": "2025-02-18T21:39:13.893Z"
   },
   {
    "duration": 5,
    "start_time": "2025-02-18T21:44:38.185Z"
   },
   {
    "duration": 50,
    "start_time": "2025-02-18T21:44:40.029Z"
   },
   {
    "duration": 26,
    "start_time": "2025-02-18T21:49:27.380Z"
   },
   {
    "duration": 280,
    "start_time": "2025-02-18T21:55:01.847Z"
   },
   {
    "duration": 1834,
    "start_time": "2025-02-18T21:59:41.146Z"
   },
   {
    "duration": 957,
    "start_time": "2025-02-18T21:59:42.982Z"
   },
   {
    "duration": 47,
    "start_time": "2025-02-18T21:59:43.941Z"
   },
   {
    "duration": 15,
    "start_time": "2025-02-18T21:59:43.990Z"
   },
   {
    "duration": 269,
    "start_time": "2025-02-18T21:59:44.007Z"
   },
   {
    "duration": 159,
    "start_time": "2025-02-18T21:59:44.278Z"
   },
   {
    "duration": 33,
    "start_time": "2025-02-18T21:59:44.439Z"
   },
   {
    "duration": 17,
    "start_time": "2025-02-18T21:59:44.474Z"
   },
   {
    "duration": 19,
    "start_time": "2025-02-18T21:59:44.493Z"
   },
   {
    "duration": 14,
    "start_time": "2025-02-18T21:59:44.515Z"
   },
   {
    "duration": 1457,
    "start_time": "2025-02-18T21:59:44.531Z"
   },
   {
    "duration": 1245478,
    "start_time": "2025-02-18T21:59:45.989Z"
   },
   {
    "duration": 64,
    "start_time": "2025-02-18T22:20:31.469Z"
   },
   {
    "duration": 8,
    "start_time": "2025-02-18T22:20:31.534Z"
   },
   {
    "duration": 150,
    "start_time": "2025-02-18T22:20:31.544Z"
   },
   {
    "duration": 99,
    "start_time": "2025-02-18T22:20:31.696Z"
   },
   {
    "duration": 136,
    "start_time": "2025-02-18T22:20:31.796Z"
   },
   {
    "duration": 6,
    "start_time": "2025-02-18T22:20:31.934Z"
   },
   {
    "duration": 20,
    "start_time": "2025-02-18T22:20:31.941Z"
   },
   {
    "duration": 1808,
    "start_time": "2025-02-18T22:20:31.962Z"
   },
   {
    "duration": 144,
    "start_time": "2025-02-18T22:20:33.772Z"
   },
   {
    "duration": 0,
    "start_time": "2025-02-18T22:20:33.918Z"
   },
   {
    "duration": 0,
    "start_time": "2025-02-18T22:20:33.919Z"
   },
   {
    "duration": 57,
    "start_time": "2025-02-18T22:22:56.024Z"
   },
   {
    "duration": 8,
    "start_time": "2025-02-18T22:24:14.844Z"
   },
   {
    "duration": 8,
    "start_time": "2025-02-18T22:24:54.637Z"
   },
   {
    "duration": 2669,
    "start_time": "2025-02-18T22:25:19.389Z"
   },
   {
    "duration": 931,
    "start_time": "2025-02-18T22:25:22.060Z"
   },
   {
    "duration": 53,
    "start_time": "2025-02-18T22:25:22.993Z"
   },
   {
    "duration": 15,
    "start_time": "2025-02-18T22:25:23.048Z"
   },
   {
    "duration": 258,
    "start_time": "2025-02-18T22:25:23.065Z"
   },
   {
    "duration": 146,
    "start_time": "2025-02-18T22:25:23.332Z"
   },
   {
    "duration": 33,
    "start_time": "2025-02-18T22:25:23.480Z"
   },
   {
    "duration": 18,
    "start_time": "2025-02-18T22:25:23.515Z"
   },
   {
    "duration": 13,
    "start_time": "2025-02-18T22:25:23.535Z"
   },
   {
    "duration": 10,
    "start_time": "2025-02-18T22:25:23.551Z"
   },
   {
    "duration": 1462,
    "start_time": "2025-02-18T22:25:23.563Z"
   },
   {
    "duration": 1253005,
    "start_time": "2025-02-18T22:25:25.032Z"
   },
   {
    "duration": 53,
    "start_time": "2025-02-18T22:46:21.442Z"
   },
   {
    "duration": 5,
    "start_time": "2025-02-18T22:46:22.298Z"
   },
   {
    "duration": 114,
    "start_time": "2025-02-18T22:46:23.819Z"
   },
   {
    "duration": 92,
    "start_time": "2025-02-18T22:46:25.058Z"
   },
   {
    "duration": 109,
    "start_time": "2025-02-18T22:46:26.499Z"
   },
   {
    "duration": 27,
    "start_time": "2025-02-18T22:46:28.514Z"
   },
   {
    "duration": 10,
    "start_time": "2025-02-18T22:46:29.650Z"
   },
   {
    "duration": 1781,
    "start_time": "2025-02-18T22:46:31.083Z"
   },
   {
    "duration": 171,
    "start_time": "2025-02-18T22:46:33.530Z"
   },
   {
    "duration": 12,
    "start_time": "2025-02-18T22:47:17.662Z"
   },
   {
    "duration": 11,
    "start_time": "2025-02-18T22:47:36.967Z"
   },
   {
    "duration": 15,
    "start_time": "2025-02-18T22:47:46.087Z"
   },
   {
    "duration": 8,
    "start_time": "2025-02-18T22:49:29.342Z"
   },
   {
    "duration": 5,
    "start_time": "2025-02-18T22:49:50.703Z"
   },
   {
    "duration": 51,
    "start_time": "2025-02-18T22:49:57.333Z"
   },
   {
    "duration": 7,
    "start_time": "2025-02-18T22:50:51.298Z"
   },
   {
    "duration": 2616,
    "start_time": "2025-02-18T22:51:14.564Z"
   },
   {
    "duration": 99,
    "start_time": "2025-02-18T22:51:27.421Z"
   },
   {
    "duration": 13,
    "start_time": "2025-02-18T22:51:32.361Z"
   },
   {
    "duration": 1910,
    "start_time": "2025-02-18T22:53:55.090Z"
   },
   {
    "duration": 977,
    "start_time": "2025-02-18T22:53:57.002Z"
   },
   {
    "duration": 59,
    "start_time": "2025-02-18T22:53:57.981Z"
   },
   {
    "duration": 15,
    "start_time": "2025-02-18T22:53:58.042Z"
   },
   {
    "duration": 253,
    "start_time": "2025-02-18T22:53:58.059Z"
   },
   {
    "duration": 149,
    "start_time": "2025-02-18T22:53:58.314Z"
   },
   {
    "duration": 32,
    "start_time": "2025-02-18T22:53:58.464Z"
   },
   {
    "duration": 4,
    "start_time": "2025-02-18T22:53:58.498Z"
   },
   {
    "duration": 4,
    "start_time": "2025-02-18T22:53:58.504Z"
   },
   {
    "duration": 23,
    "start_time": "2025-02-18T22:53:58.511Z"
   },
   {
    "duration": 1449,
    "start_time": "2025-02-18T22:53:58.536Z"
   },
   {
    "duration": 1825,
    "start_time": "2025-02-18T22:54:22.679Z"
   },
   {
    "duration": 957,
    "start_time": "2025-02-18T22:54:24.506Z"
   },
   {
    "duration": 47,
    "start_time": "2025-02-18T22:54:25.465Z"
   },
   {
    "duration": 35,
    "start_time": "2025-02-18T22:54:25.514Z"
   },
   {
    "duration": 260,
    "start_time": "2025-02-18T22:54:25.551Z"
   },
   {
    "duration": 157,
    "start_time": "2025-02-18T22:54:25.812Z"
   },
   {
    "duration": 34,
    "start_time": "2025-02-18T22:54:25.971Z"
   },
   {
    "duration": 6,
    "start_time": "2025-02-18T22:54:26.006Z"
   },
   {
    "duration": 19,
    "start_time": "2025-02-18T22:54:26.014Z"
   },
   {
    "duration": 8,
    "start_time": "2025-02-18T22:54:26.034Z"
   },
   {
    "duration": 1452,
    "start_time": "2025-02-18T22:54:26.043Z"
   },
   {
    "duration": 1232060,
    "start_time": "2025-02-18T22:54:27.497Z"
   },
   {
    "duration": 53,
    "start_time": "2025-02-18T23:15:04.297Z"
   },
   {
    "duration": 5,
    "start_time": "2025-02-18T23:15:05.505Z"
   },
   {
    "duration": 110,
    "start_time": "2025-02-18T23:15:20.369Z"
   },
   {
    "duration": 97,
    "start_time": "2025-02-18T23:18:19.373Z"
   },
   {
    "duration": 120,
    "start_time": "2025-02-18T23:18:21.180Z"
   },
   {
    "duration": 7,
    "start_time": "2025-02-18T23:18:28.645Z"
   },
   {
    "duration": 1882,
    "start_time": "2025-02-18T23:18:46.262Z"
   },
   {
    "duration": 149,
    "start_time": "2025-02-18T23:18:50.406Z"
   },
   {
    "duration": 13,
    "start_time": "2025-02-18T23:32:54.479Z"
   },
   {
    "duration": 13,
    "start_time": "2025-02-18T23:33:05.832Z"
   },
   {
    "duration": 6,
    "start_time": "2025-02-18T23:34:20.060Z"
   },
   {
    "duration": 5,
    "start_time": "2025-02-18T23:34:28.188Z"
   },
   {
    "duration": 59,
    "start_time": "2025-02-18T23:34:36.509Z"
   },
   {
    "duration": 2649,
    "start_time": "2025-02-18T23:44:50.582Z"
   },
   {
    "duration": 950,
    "start_time": "2025-02-18T23:44:53.232Z"
   },
   {
    "duration": 56,
    "start_time": "2025-02-18T23:44:54.184Z"
   },
   {
    "duration": 16,
    "start_time": "2025-02-18T23:44:54.242Z"
   },
   {
    "duration": 260,
    "start_time": "2025-02-18T23:44:54.260Z"
   },
   {
    "duration": 151,
    "start_time": "2025-02-18T23:44:54.522Z"
   },
   {
    "duration": 35,
    "start_time": "2025-02-18T23:44:54.674Z"
   },
   {
    "duration": 14,
    "start_time": "2025-02-18T23:44:54.711Z"
   },
   {
    "duration": 10,
    "start_time": "2025-02-18T23:44:54.732Z"
   },
   {
    "duration": 25,
    "start_time": "2025-02-18T23:44:54.744Z"
   },
   {
    "duration": 1475,
    "start_time": "2025-02-18T23:44:54.771Z"
   },
   {
    "duration": 1219417,
    "start_time": "2025-02-18T23:44:56.248Z"
   },
   {
    "duration": 50,
    "start_time": "2025-02-19T00:05:15.667Z"
   },
   {
    "duration": 8,
    "start_time": "2025-02-19T00:05:15.732Z"
   },
   {
    "duration": 125,
    "start_time": "2025-02-19T00:05:15.742Z"
   },
   {
    "duration": 109,
    "start_time": "2025-02-19T00:05:15.869Z"
   },
   {
    "duration": 143,
    "start_time": "2025-02-19T00:36:52.768Z"
   },
   {
    "duration": 113,
    "start_time": "2025-02-19T00:37:11.410Z"
   },
   {
    "duration": 6,
    "start_time": "2025-02-19T00:40:10.949Z"
   },
   {
    "duration": 1880,
    "start_time": "2025-02-19T00:42:19.045Z"
   },
   {
    "duration": 2493,
    "start_time": "2025-02-19T00:43:11.487Z"
   },
   {
    "duration": 933,
    "start_time": "2025-02-19T00:43:13.982Z"
   },
   {
    "duration": 53,
    "start_time": "2025-02-19T00:43:14.917Z"
   },
   {
    "duration": 15,
    "start_time": "2025-02-19T00:43:14.972Z"
   },
   {
    "duration": 260,
    "start_time": "2025-02-19T00:43:14.989Z"
   },
   {
    "duration": 159,
    "start_time": "2025-02-19T00:43:15.252Z"
   },
   {
    "duration": 37,
    "start_time": "2025-02-19T00:43:15.413Z"
   },
   {
    "duration": 7,
    "start_time": "2025-02-19T00:43:15.451Z"
   },
   {
    "duration": 9,
    "start_time": "2025-02-19T00:43:15.459Z"
   },
   {
    "duration": 28,
    "start_time": "2025-02-19T00:43:15.470Z"
   },
   {
    "duration": 1462,
    "start_time": "2025-02-19T00:43:15.500Z"
   },
   {
    "duration": 1231771,
    "start_time": "2025-02-19T00:43:16.964Z"
   },
   {
    "duration": 52,
    "start_time": "2025-02-19T01:03:48.736Z"
   },
   {
    "duration": 4,
    "start_time": "2025-02-19T01:03:48.791Z"
   },
   {
    "duration": 140,
    "start_time": "2025-02-19T01:03:48.797Z"
   },
   {
    "duration": 101,
    "start_time": "2025-02-19T01:03:48.939Z"
   },
   {
    "duration": 125,
    "start_time": "2025-02-19T01:03:49.041Z"
   },
   {
    "duration": 8,
    "start_time": "2025-02-19T01:03:49.168Z"
   },
   {
    "duration": 1866,
    "start_time": "2025-02-19T01:03:49.177Z"
   },
   {
    "duration": 151,
    "start_time": "2025-02-19T01:16:04.048Z"
   },
   {
    "duration": 15,
    "start_time": "2025-02-19T01:16:25.537Z"
   },
   {
    "duration": 13,
    "start_time": "2025-02-19T01:17:22.916Z"
   },
   {
    "duration": 14,
    "start_time": "2025-02-19T01:17:31.133Z"
   },
   {
    "duration": 6812,
    "start_time": "2025-02-19T01:20:06.590Z"
   },
   {
    "duration": 632,
    "start_time": "2025-02-19T01:22:22.542Z"
   },
   {
    "duration": 2374,
    "start_time": "2025-02-19T01:22:37.191Z"
   },
   {
    "duration": 88,
    "start_time": "2025-02-19T01:26:25.421Z"
   },
   {
    "duration": 93,
    "start_time": "2025-02-19T01:26:52.326Z"
   },
   {
    "duration": 79754,
    "start_time": "2025-02-19T01:27:05.688Z"
   },
   {
    "duration": 252688,
    "start_time": "2025-02-19T01:30:27.347Z"
   },
   {
    "duration": 11,
    "start_time": "2025-02-19T01:37:54.038Z"
   },
   {
    "duration": 18,
    "start_time": "2025-02-19T01:38:45.729Z"
   },
   {
    "duration": 18,
    "start_time": "2025-02-19T01:39:51.692Z"
   },
   {
    "duration": 18,
    "start_time": "2025-02-19T01:40:36.012Z"
   },
   {
    "duration": 27,
    "start_time": "2025-02-19T01:40:49.159Z"
   },
   {
    "duration": 25,
    "start_time": "2025-02-19T01:41:12.833Z"
   },
   {
    "duration": 26,
    "start_time": "2025-02-19T01:41:26.538Z"
   },
   {
    "duration": 17,
    "start_time": "2025-02-19T01:41:39.547Z"
   },
   {
    "duration": 26,
    "start_time": "2025-02-19T01:42:13.949Z"
   },
   {
    "duration": 22,
    "start_time": "2025-02-19T01:42:56.199Z"
   },
   {
    "duration": 505236,
    "start_time": "2025-02-19T01:43:33.074Z"
   },
   {
    "duration": 18,
    "start_time": "2025-02-19T01:52:03.905Z"
   },
   {
    "duration": 17,
    "start_time": "2025-02-19T01:52:12.946Z"
   },
   {
    "duration": 127,
    "start_time": "2025-02-19T01:58:05.047Z"
   },
   {
    "duration": 57431,
    "start_time": "2025-02-19T01:58:57.907Z"
   },
   {
    "duration": 57745,
    "start_time": "2025-02-19T02:00:18.464Z"
   },
   {
    "duration": 57841,
    "start_time": "2025-02-19T02:01:26.892Z"
   },
   {
    "duration": 284103,
    "start_time": "2025-02-19T02:22:42.123Z"
   },
   {
    "duration": 129,
    "start_time": "2025-02-19T02:35:32.373Z"
   },
   {
    "duration": 787132,
    "start_time": "2025-02-19T02:35:40.117Z"
   },
   {
    "duration": 750113,
    "start_time": "2025-02-19T02:49:05.077Z"
   },
   {
    "duration": 12,
    "start_time": "2025-02-19T03:07:49.727Z"
   },
   {
    "duration": 10,
    "start_time": "2025-02-19T03:08:03.871Z"
   },
   {
    "duration": 675,
    "start_time": "2025-02-19T03:08:14.889Z"
   },
   {
    "duration": 142,
    "start_time": "2025-02-19T03:09:14.204Z"
   },
   {
    "duration": 161,
    "start_time": "2025-02-19T03:11:11.363Z"
   },
   {
    "duration": 143,
    "start_time": "2025-02-19T03:11:19.667Z"
   },
   {
    "duration": 8,
    "start_time": "2025-02-19T03:14:23.476Z"
   },
   {
    "duration": 954,
    "start_time": "2025-02-19T03:15:36.714Z"
   },
   {
    "duration": 2793,
    "start_time": "2025-02-19T03:17:18.976Z"
   },
   {
    "duration": 926,
    "start_time": "2025-02-19T03:17:34.298Z"
   },
   {
    "duration": 1087,
    "start_time": "2025-02-19T03:17:52.603Z"
   },
   {
    "duration": 9,
    "start_time": "2025-02-19T03:19:25.008Z"
   },
   {
    "duration": 8,
    "start_time": "2025-02-19T03:19:40.770Z"
   },
   {
    "duration": 9,
    "start_time": "2025-02-19T03:19:52.642Z"
   },
   {
    "duration": 8,
    "start_time": "2025-02-19T03:19:59.458Z"
   },
   {
    "duration": 1106,
    "start_time": "2025-02-19T03:23:41.359Z"
   },
   {
    "duration": 128,
    "start_time": "2025-02-19T03:24:02.440Z"
   },
   {
    "duration": 79,
    "start_time": "2025-02-19T03:24:12.210Z"
   },
   {
    "duration": 1113,
    "start_time": "2025-02-19T03:24:23.319Z"
   },
   {
    "duration": 1100,
    "start_time": "2025-02-19T03:24:39.323Z"
   },
   {
    "duration": 1147,
    "start_time": "2025-02-19T03:24:47.562Z"
   },
   {
    "duration": 1110,
    "start_time": "2025-02-19T03:25:25.158Z"
   },
   {
    "duration": 18,
    "start_time": "2025-02-19T03:31:57.294Z"
   },
   {
    "duration": 1091,
    "start_time": "2025-02-19T03:36:23.287Z"
   },
   {
    "duration": 18,
    "start_time": "2025-02-19T03:36:44.454Z"
   },
   {
    "duration": 1095,
    "start_time": "2025-02-19T03:37:02.808Z"
   },
   {
    "duration": 18,
    "start_time": "2025-02-19T03:48:52.890Z"
   },
   {
    "duration": 4,
    "start_time": "2025-02-19T03:56:33.406Z"
   },
   {
    "duration": 4,
    "start_time": "2025-02-19T03:58:29.780Z"
   },
   {
    "duration": 4,
    "start_time": "2025-02-19T03:58:36.421Z"
   },
   {
    "duration": 5,
    "start_time": "2025-02-19T04:00:12.386Z"
   },
   {
    "duration": 5,
    "start_time": "2025-02-19T04:00:21.883Z"
   },
   {
    "duration": 4,
    "start_time": "2025-02-19T04:00:24.716Z"
   },
   {
    "duration": 1955,
    "start_time": "2025-02-19T04:32:04.315Z"
   },
   {
    "duration": 961,
    "start_time": "2025-02-19T04:32:06.272Z"
   },
   {
    "duration": 47,
    "start_time": "2025-02-19T04:32:07.235Z"
   },
   {
    "duration": 33,
    "start_time": "2025-02-19T04:32:07.283Z"
   },
   {
    "duration": 277,
    "start_time": "2025-02-19T04:32:07.318Z"
   },
   {
    "duration": 247,
    "start_time": "2025-02-19T04:32:07.597Z"
   },
   {
    "duration": 33,
    "start_time": "2025-02-19T04:32:07.846Z"
   },
   {
    "duration": 34,
    "start_time": "2025-02-19T04:32:07.881Z"
   },
   {
    "duration": 8,
    "start_time": "2025-02-19T04:32:07.917Z"
   },
   {
    "duration": 22,
    "start_time": "2025-02-19T04:32:07.926Z"
   },
   {
    "duration": 1495,
    "start_time": "2025-02-19T04:32:07.950Z"
   },
   {
    "duration": 1231495,
    "start_time": "2025-02-19T04:32:09.447Z"
   },
   {
    "duration": 49,
    "start_time": "2025-02-19T04:52:40.944Z"
   },
   {
    "duration": 4,
    "start_time": "2025-02-19T04:52:40.996Z"
   },
   {
    "duration": 135,
    "start_time": "2025-02-19T04:52:41.001Z"
   },
   {
    "duration": 99,
    "start_time": "2025-02-19T04:52:41.138Z"
   },
   {
    "duration": 119,
    "start_time": "2025-02-19T04:52:41.239Z"
   },
   {
    "duration": 5,
    "start_time": "2025-02-19T04:52:41.360Z"
   },
   {
    "duration": 1869,
    "start_time": "2025-02-19T04:52:41.367Z"
   },
   {
    "duration": 6785,
    "start_time": "2025-02-19T04:52:43.238Z"
   },
   {
    "duration": 601,
    "start_time": "2025-02-19T04:52:50.024Z"
   },
   {
    "duration": 2279,
    "start_time": "2025-02-19T04:52:50.632Z"
   },
   {
    "duration": 485553,
    "start_time": "2025-02-19T04:52:52.912Z"
   },
   {
    "duration": 19,
    "start_time": "2025-02-19T05:00:58.467Z"
   },
   {
    "duration": 295846,
    "start_time": "2025-02-19T05:00:58.488Z"
   },
   {
    "duration": 759718,
    "start_time": "2025-02-19T05:05:54.336Z"
   },
   {
    "duration": 1137,
    "start_time": "2025-02-19T05:18:34.056Z"
   },
   {
    "duration": 18,
    "start_time": "2025-02-19T05:18:35.194Z"
   },
   {
    "duration": 21,
    "start_time": "2025-02-19T05:18:35.213Z"
   },
   {
    "duration": 50,
    "start_time": "2025-02-20T15:59:35.169Z"
   },
   {
    "duration": 15128,
    "start_time": "2025-02-20T16:58:03.413Z"
   },
   {
    "duration": 884,
    "start_time": "2025-02-20T16:58:18.543Z"
   },
   {
    "duration": 42,
    "start_time": "2025-02-20T16:58:19.429Z"
   },
   {
    "duration": 15,
    "start_time": "2025-02-20T16:58:19.473Z"
   },
   {
    "duration": 246,
    "start_time": "2025-02-20T16:58:19.490Z"
   },
   {
    "duration": 226,
    "start_time": "2025-02-20T16:58:19.738Z"
   },
   {
    "duration": 31,
    "start_time": "2025-02-20T16:58:19.965Z"
   },
   {
    "duration": 13,
    "start_time": "2025-02-20T16:58:19.998Z"
   },
   {
    "duration": 21,
    "start_time": "2025-02-20T16:58:20.014Z"
   },
   {
    "duration": 3,
    "start_time": "2025-02-20T16:58:20.037Z"
   },
   {
    "duration": 1349,
    "start_time": "2025-02-20T16:58:20.042Z"
   },
   {
    "duration": 1216162,
    "start_time": "2025-02-20T16:58:21.393Z"
   },
   {
    "duration": 59,
    "start_time": "2025-02-20T17:18:37.557Z"
   },
   {
    "duration": 4,
    "start_time": "2025-02-20T17:18:37.619Z"
   },
   {
    "duration": 112,
    "start_time": "2025-02-20T17:18:37.625Z"
   },
   {
    "duration": 352,
    "start_time": "2025-02-20T17:18:37.738Z"
   },
   {
    "duration": 6,
    "start_time": "2025-02-20T17:18:38.092Z"
   },
   {
    "duration": 40,
    "start_time": "2025-02-20T17:18:38.100Z"
   },
   {
    "duration": 289,
    "start_time": "2025-02-20T17:18:38.142Z"
   },
   {
    "duration": 11,
    "start_time": "2025-02-20T17:18:38.433Z"
   },
   {
    "duration": 148,
    "start_time": "2025-02-20T17:27:13.992Z"
   },
   {
    "duration": 6,
    "start_time": "2025-02-20T17:32:19.802Z"
   },
   {
    "duration": 85,
    "start_time": "2025-02-20T17:47:56.783Z"
   },
   {
    "duration": 5,
    "start_time": "2025-02-20T17:48:14.322Z"
   },
   {
    "duration": 91,
    "start_time": "2025-02-20T17:51:38.070Z"
   },
   {
    "duration": 4,
    "start_time": "2025-02-20T17:58:52.671Z"
   },
   {
    "duration": 4,
    "start_time": "2025-02-20T18:02:37.437Z"
   },
   {
    "duration": 1967,
    "start_time": "2025-02-20T18:11:15.396Z"
   },
   {
    "duration": 960,
    "start_time": "2025-02-20T18:11:17.366Z"
   },
   {
    "duration": 48,
    "start_time": "2025-02-20T18:11:18.328Z"
   },
   {
    "duration": 37,
    "start_time": "2025-02-20T18:11:18.378Z"
   },
   {
    "duration": 267,
    "start_time": "2025-02-20T18:11:18.417Z"
   },
   {
    "duration": 258,
    "start_time": "2025-02-20T18:11:18.686Z"
   },
   {
    "duration": 34,
    "start_time": "2025-02-20T18:11:18.946Z"
   },
   {
    "duration": 72,
    "start_time": "2025-02-20T18:11:18.982Z"
   },
   {
    "duration": 3,
    "start_time": "2025-02-20T18:11:19.056Z"
   },
   {
    "duration": 4,
    "start_time": "2025-02-20T18:11:19.062Z"
   },
   {
    "duration": 1456,
    "start_time": "2025-02-20T18:11:19.067Z"
   },
   {
    "duration": 1807,
    "start_time": "2025-02-20T18:14:37.536Z"
   },
   {
    "duration": 870,
    "start_time": "2025-02-20T18:14:39.345Z"
   },
   {
    "duration": 43,
    "start_time": "2025-02-20T18:14:41.507Z"
   },
   {
    "duration": 3434,
    "start_time": "2025-02-20T18:15:47.307Z"
   },
   {
    "duration": 857,
    "start_time": "2025-02-20T18:15:50.743Z"
   },
   {
    "duration": 49,
    "start_time": "2025-02-20T18:15:51.602Z"
   },
   {
    "duration": 15,
    "start_time": "2025-02-20T18:15:51.654Z"
   },
   {
    "duration": 244,
    "start_time": "2025-02-20T18:15:51.670Z"
   },
   {
    "duration": 221,
    "start_time": "2025-02-20T18:15:51.915Z"
   },
   {
    "duration": 32,
    "start_time": "2025-02-20T18:15:52.138Z"
   },
   {
    "duration": 2,
    "start_time": "2025-02-20T18:15:52.173Z"
   },
   {
    "duration": 4,
    "start_time": "2025-02-20T18:15:52.177Z"
   },
   {
    "duration": 11,
    "start_time": "2025-02-20T18:15:52.183Z"
   },
   {
    "duration": 1400,
    "start_time": "2025-02-20T18:15:52.195Z"
   },
   {
    "duration": 212,
    "start_time": "2025-02-20T18:15:53.597Z"
   },
   {
    "duration": 1314,
    "start_time": "2025-02-20T18:15:53.811Z"
   },
   {
    "duration": 88,
    "start_time": "2025-02-20T18:16:30.098Z"
   },
   {
    "duration": 1345471,
    "start_time": "2025-02-20T18:17:53.119Z"
   },
   {
    "duration": 4,
    "start_time": "2025-02-20T18:44:30.369Z"
   },
   {
    "duration": 4,
    "start_time": "2025-02-20T18:45:16.425Z"
   },
   {
    "duration": 5,
    "start_time": "2025-02-20T18:45:37.978Z"
   },
   {
    "duration": 112,
    "start_time": "2025-02-20T18:46:17.901Z"
   },
   {
    "duration": 5,
    "start_time": "2025-02-20T18:46:20.053Z"
   },
   {
    "duration": 8,
    "start_time": "2025-02-20T18:46:21.821Z"
   },
   {
    "duration": 4,
    "start_time": "2025-02-20T18:46:23.092Z"
   },
   {
    "duration": 92,
    "start_time": "2025-02-20T18:46:27.501Z"
   },
   {
    "duration": 4,
    "start_time": "2025-02-20T18:48:55.230Z"
   },
   {
    "duration": 4,
    "start_time": "2025-02-20T18:49:19.895Z"
   },
   {
    "duration": 348,
    "start_time": "2025-02-20T18:49:23.992Z"
   },
   {
    "duration": 92,
    "start_time": "2025-02-20T18:49:35.041Z"
   },
   {
    "duration": 86,
    "start_time": "2025-02-20T18:52:41.179Z"
   },
   {
    "duration": 3,
    "start_time": "2025-02-20T18:53:50.804Z"
   },
   {
    "duration": 5228,
    "start_time": "2025-02-20T18:53:55.967Z"
   },
   {
    "duration": 193590,
    "start_time": "2025-02-20T18:55:23.278Z"
   },
   {
    "duration": 3,
    "start_time": "2025-02-20T19:04:32.746Z"
   },
   {
    "duration": 3,
    "start_time": "2025-02-20T19:06:12.782Z"
   },
   {
    "duration": 5646,
    "start_time": "2025-02-20T19:06:14.093Z"
   },
   {
    "duration": 232881,
    "start_time": "2025-02-20T19:06:31.206Z"
   },
   {
    "duration": 3,
    "start_time": "2025-02-20T19:30:30.343Z"
   },
   {
    "duration": 482339,
    "start_time": "2025-02-20T19:30:41.382Z"
   },
   {
    "duration": 4,
    "start_time": "2025-02-20T19:39:15.456Z"
   },
   {
    "duration": 757,
    "start_time": "2025-02-20T19:41:30.144Z"
   },
   {
    "duration": 1215,
    "start_time": "2025-02-20T19:43:02.624Z"
   },
   {
    "duration": 1114568,
    "start_time": "2025-02-20T19:52:58.405Z"
   },
   {
    "duration": 4,
    "start_time": "2025-02-20T20:13:28.485Z"
   },
   {
    "duration": 3,
    "start_time": "2025-02-20T20:22:19.777Z"
   },
   {
    "duration": 5548,
    "start_time": "2025-02-20T20:22:23.930Z"
   },
   {
    "duration": 7287,
    "start_time": "2025-02-20T20:22:30.731Z"
   },
   {
    "duration": 1408,
    "start_time": "2025-02-20T20:26:28.868Z"
   },
   {
    "duration": 20,
    "start_time": "2025-02-20T20:27:42.542Z"
   },
   {
    "duration": 536940,
    "start_time": "2025-02-20T20:28:13.639Z"
   },
   {
    "duration": 4,
    "start_time": "2025-02-20T20:37:25.367Z"
   },
   {
    "duration": 5,
    "start_time": "2025-02-20T20:38:34.373Z"
   },
   {
    "duration": 21,
    "start_time": "2025-02-20T20:44:26.720Z"
   },
   {
    "duration": 1802,
    "start_time": "2025-02-20T20:50:42.992Z"
   },
   {
    "duration": 932,
    "start_time": "2025-02-20T20:50:44.796Z"
   },
   {
    "duration": 44,
    "start_time": "2025-02-20T20:50:45.730Z"
   },
   {
    "duration": 39,
    "start_time": "2025-02-20T20:50:45.776Z"
   },
   {
    "duration": 243,
    "start_time": "2025-02-20T20:50:45.816Z"
   },
   {
    "duration": 221,
    "start_time": "2025-02-20T20:50:46.061Z"
   },
   {
    "duration": 36,
    "start_time": "2025-02-20T20:50:46.283Z"
   },
   {
    "duration": 4,
    "start_time": "2025-02-20T20:50:46.321Z"
   },
   {
    "duration": 6,
    "start_time": "2025-02-20T20:50:46.327Z"
   },
   {
    "duration": 86,
    "start_time": "2025-02-20T20:50:46.335Z"
   },
   {
    "duration": 1402,
    "start_time": "2025-02-20T20:50:46.422Z"
   },
   {
    "duration": 1349062,
    "start_time": "2025-02-20T20:50:47.826Z"
   },
   {
    "duration": 4,
    "start_time": "2025-02-20T21:13:16.889Z"
   },
   {
    "duration": 119,
    "start_time": "2025-02-20T21:13:16.894Z"
   },
   {
    "duration": 4,
    "start_time": "2025-02-20T21:13:17.015Z"
   },
   {
    "duration": 2,
    "start_time": "2025-02-20T21:13:17.021Z"
   },
   {
    "duration": 3,
    "start_time": "2025-02-20T21:13:17.025Z"
   },
   {
    "duration": 5780,
    "start_time": "2025-02-20T21:13:17.029Z"
   },
   {
    "duration": 7472,
    "start_time": "2025-02-20T21:13:22.811Z"
   },
   {
    "duration": 357873,
    "start_time": "2025-02-20T21:13:30.285Z"
   },
   {
    "duration": 2,
    "start_time": "2025-02-20T21:19:28.160Z"
   },
   {
    "duration": 1076688,
    "start_time": "2025-02-20T21:19:28.164Z"
   },
   {
    "duration": 3,
    "start_time": "2025-02-20T21:37:24.854Z"
   },
   {
    "duration": 520595,
    "start_time": "2025-02-20T21:37:24.859Z"
   },
   {
    "duration": 3,
    "start_time": "2025-02-20T21:46:05.455Z"
   },
   {
    "duration": 32,
    "start_time": "2025-02-20T21:46:05.460Z"
   },
   {
    "duration": 1508,
    "start_time": "2025-02-20T21:46:05.494Z"
   },
   {
    "duration": 25,
    "start_time": "2025-02-20T21:46:07.005Z"
   },
   {
    "duration": 5,
    "start_time": "2025-02-20T21:46:07.032Z"
   }
  ],
  "kernelspec": {
   "display_name": "Python 3 (ipykernel)",
   "language": "python",
   "name": "python3"
  },
  "language_info": {
   "codemirror_mode": {
    "name": "ipython",
    "version": 3
   },
   "file_extension": ".py",
   "mimetype": "text/x-python",
   "name": "python",
   "nbconvert_exporter": "python",
   "pygments_lexer": "ipython3",
   "version": "3.9.21"
  },
  "toc": {
   "base_numbering": 1,
   "nav_menu": {},
   "number_sections": true,
   "sideBar": true,
   "skip_h1_title": true,
   "title_cell": "Содержание",
   "title_sidebar": "Contents",
   "toc_cell": true,
   "toc_position": {
    "height": "calc(100% - 180px)",
    "left": "10px",
    "top": "150px",
    "width": "268px"
   },
   "toc_section_display": true,
   "toc_window_display": true
  }
 },
 "nbformat": 4,
 "nbformat_minor": 4
}
