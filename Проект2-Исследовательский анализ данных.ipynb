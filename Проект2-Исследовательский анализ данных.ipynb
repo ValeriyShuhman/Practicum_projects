{
 "cells": [
  {
   "cell_type": "markdown",
   "metadata": {
    "id": "-VFbjcb3Awb7"
   },
   "source": [
    "# Исследование объявлений о продаже квартир\n",
    "\n",
    "В вашем распоряжении данные сервиса Яндекс Недвижимость — архив объявлений о продаже квартир в Санкт-Петербурге и соседних населённых пунктах за несколько лет. Вам нужно научиться определять рыночную стоимость объектов недвижимости. Для этого проведите исследовательский анализ данных и установите параметры, влияющие на цену объектов. Это позволит построить автоматизированную систему: она отследит аномалии и мошенническую деятельность.\n",
    "\n",
    "По каждой квартире на продажу доступны два вида данных. Первые вписаны пользователем, вторые — получены автоматически на основе картографических данных. Например, расстояние до центра, аэропорта и других объектов — эти данные автоматически получены из геосервисов. Количество парков и водоёмов также заполняется без участия пользователя."
   ]
  },
  {
   "cell_type": "markdown",
   "metadata": {
    "id": "aeFLH07FAwb9"
   },
   "source": [
    "### Откройте файл с данными и изучите общую информацию"
   ]
  },
  {
   "cell_type": "markdown",
   "metadata": {},
   "source": [
    "**Импортируем библиотеку pandas и библиотеку matplotlib. Считываем данные из csv-файла в датафрейм и сохраняем в переменную `data`.**"
   ]
  },
  {
   "cell_type": "code",
   "execution_count": 1,
   "metadata": {
    "id": "7MZxY65pAwb9"
   },
   "outputs": [],
   "source": [
    "import pandas as pd\n",
    "import matplotlib.pyplot as plt\n",
    "\n",
    "data = pd.read_csv('/datasets/real_estate_data.csv', sep='\\t')"
   ]
  },
  {
   "cell_type": "markdown",
   "metadata": {},
   "source": [
    "**Выводим первые 20 строчек датафрейма `data` на экран.**"
   ]
  },
  {
   "cell_type": "code",
   "execution_count": 2,
   "metadata": {},
   "outputs": [
    {
     "data": {
      "text/html": [
       "<div>\n",
       "<style scoped>\n",
       "    .dataframe tbody tr th:only-of-type {\n",
       "        vertical-align: middle;\n",
       "    }\n",
       "\n",
       "    .dataframe tbody tr th {\n",
       "        vertical-align: top;\n",
       "    }\n",
       "\n",
       "    .dataframe thead th {\n",
       "        text-align: right;\n",
       "    }\n",
       "</style>\n",
       "<table border=\"1\" class=\"dataframe\">\n",
       "  <thead>\n",
       "    <tr style=\"text-align: right;\">\n",
       "      <th></th>\n",
       "      <th>total_images</th>\n",
       "      <th>last_price</th>\n",
       "      <th>total_area</th>\n",
       "      <th>first_day_exposition</th>\n",
       "      <th>rooms</th>\n",
       "      <th>ceiling_height</th>\n",
       "      <th>floors_total</th>\n",
       "      <th>living_area</th>\n",
       "      <th>floor</th>\n",
       "      <th>is_apartment</th>\n",
       "      <th>...</th>\n",
       "      <th>kitchen_area</th>\n",
       "      <th>balcony</th>\n",
       "      <th>locality_name</th>\n",
       "      <th>airports_nearest</th>\n",
       "      <th>cityCenters_nearest</th>\n",
       "      <th>parks_around3000</th>\n",
       "      <th>parks_nearest</th>\n",
       "      <th>ponds_around3000</th>\n",
       "      <th>ponds_nearest</th>\n",
       "      <th>days_exposition</th>\n",
       "    </tr>\n",
       "  </thead>\n",
       "  <tbody>\n",
       "    <tr>\n",
       "      <th>0</th>\n",
       "      <td>20</td>\n",
       "      <td>13000000.0</td>\n",
       "      <td>108.00</td>\n",
       "      <td>2019-03-07T00:00:00</td>\n",
       "      <td>3</td>\n",
       "      <td>2.70</td>\n",
       "      <td>16.0</td>\n",
       "      <td>51.00</td>\n",
       "      <td>8</td>\n",
       "      <td>NaN</td>\n",
       "      <td>...</td>\n",
       "      <td>25.00</td>\n",
       "      <td>NaN</td>\n",
       "      <td>Санкт-Петербург</td>\n",
       "      <td>18863.0</td>\n",
       "      <td>16028.0</td>\n",
       "      <td>1.0</td>\n",
       "      <td>482.0</td>\n",
       "      <td>2.0</td>\n",
       "      <td>755.0</td>\n",
       "      <td>NaN</td>\n",
       "    </tr>\n",
       "    <tr>\n",
       "      <th>1</th>\n",
       "      <td>7</td>\n",
       "      <td>3350000.0</td>\n",
       "      <td>40.40</td>\n",
       "      <td>2018-12-04T00:00:00</td>\n",
       "      <td>1</td>\n",
       "      <td>NaN</td>\n",
       "      <td>11.0</td>\n",
       "      <td>18.60</td>\n",
       "      <td>1</td>\n",
       "      <td>NaN</td>\n",
       "      <td>...</td>\n",
       "      <td>11.00</td>\n",
       "      <td>2.0</td>\n",
       "      <td>посёлок Шушары</td>\n",
       "      <td>12817.0</td>\n",
       "      <td>18603.0</td>\n",
       "      <td>0.0</td>\n",
       "      <td>NaN</td>\n",
       "      <td>0.0</td>\n",
       "      <td>NaN</td>\n",
       "      <td>81.0</td>\n",
       "    </tr>\n",
       "    <tr>\n",
       "      <th>2</th>\n",
       "      <td>10</td>\n",
       "      <td>5196000.0</td>\n",
       "      <td>56.00</td>\n",
       "      <td>2015-08-20T00:00:00</td>\n",
       "      <td>2</td>\n",
       "      <td>NaN</td>\n",
       "      <td>5.0</td>\n",
       "      <td>34.30</td>\n",
       "      <td>4</td>\n",
       "      <td>NaN</td>\n",
       "      <td>...</td>\n",
       "      <td>8.30</td>\n",
       "      <td>0.0</td>\n",
       "      <td>Санкт-Петербург</td>\n",
       "      <td>21741.0</td>\n",
       "      <td>13933.0</td>\n",
       "      <td>1.0</td>\n",
       "      <td>90.0</td>\n",
       "      <td>2.0</td>\n",
       "      <td>574.0</td>\n",
       "      <td>558.0</td>\n",
       "    </tr>\n",
       "    <tr>\n",
       "      <th>3</th>\n",
       "      <td>0</td>\n",
       "      <td>64900000.0</td>\n",
       "      <td>159.00</td>\n",
       "      <td>2015-07-24T00:00:00</td>\n",
       "      <td>3</td>\n",
       "      <td>NaN</td>\n",
       "      <td>14.0</td>\n",
       "      <td>NaN</td>\n",
       "      <td>9</td>\n",
       "      <td>NaN</td>\n",
       "      <td>...</td>\n",
       "      <td>NaN</td>\n",
       "      <td>0.0</td>\n",
       "      <td>Санкт-Петербург</td>\n",
       "      <td>28098.0</td>\n",
       "      <td>6800.0</td>\n",
       "      <td>2.0</td>\n",
       "      <td>84.0</td>\n",
       "      <td>3.0</td>\n",
       "      <td>234.0</td>\n",
       "      <td>424.0</td>\n",
       "    </tr>\n",
       "    <tr>\n",
       "      <th>4</th>\n",
       "      <td>2</td>\n",
       "      <td>10000000.0</td>\n",
       "      <td>100.00</td>\n",
       "      <td>2018-06-19T00:00:00</td>\n",
       "      <td>2</td>\n",
       "      <td>3.03</td>\n",
       "      <td>14.0</td>\n",
       "      <td>32.00</td>\n",
       "      <td>13</td>\n",
       "      <td>NaN</td>\n",
       "      <td>...</td>\n",
       "      <td>41.00</td>\n",
       "      <td>NaN</td>\n",
       "      <td>Санкт-Петербург</td>\n",
       "      <td>31856.0</td>\n",
       "      <td>8098.0</td>\n",
       "      <td>2.0</td>\n",
       "      <td>112.0</td>\n",
       "      <td>1.0</td>\n",
       "      <td>48.0</td>\n",
       "      <td>121.0</td>\n",
       "    </tr>\n",
       "    <tr>\n",
       "      <th>5</th>\n",
       "      <td>10</td>\n",
       "      <td>2890000.0</td>\n",
       "      <td>30.40</td>\n",
       "      <td>2018-09-10T00:00:00</td>\n",
       "      <td>1</td>\n",
       "      <td>NaN</td>\n",
       "      <td>12.0</td>\n",
       "      <td>14.40</td>\n",
       "      <td>5</td>\n",
       "      <td>NaN</td>\n",
       "      <td>...</td>\n",
       "      <td>9.10</td>\n",
       "      <td>NaN</td>\n",
       "      <td>городской посёлок Янино-1</td>\n",
       "      <td>NaN</td>\n",
       "      <td>NaN</td>\n",
       "      <td>NaN</td>\n",
       "      <td>NaN</td>\n",
       "      <td>NaN</td>\n",
       "      <td>NaN</td>\n",
       "      <td>55.0</td>\n",
       "    </tr>\n",
       "    <tr>\n",
       "      <th>6</th>\n",
       "      <td>6</td>\n",
       "      <td>3700000.0</td>\n",
       "      <td>37.30</td>\n",
       "      <td>2017-11-02T00:00:00</td>\n",
       "      <td>1</td>\n",
       "      <td>NaN</td>\n",
       "      <td>26.0</td>\n",
       "      <td>10.60</td>\n",
       "      <td>6</td>\n",
       "      <td>NaN</td>\n",
       "      <td>...</td>\n",
       "      <td>14.40</td>\n",
       "      <td>1.0</td>\n",
       "      <td>посёлок Парголово</td>\n",
       "      <td>52996.0</td>\n",
       "      <td>19143.0</td>\n",
       "      <td>0.0</td>\n",
       "      <td>NaN</td>\n",
       "      <td>0.0</td>\n",
       "      <td>NaN</td>\n",
       "      <td>155.0</td>\n",
       "    </tr>\n",
       "    <tr>\n",
       "      <th>7</th>\n",
       "      <td>5</td>\n",
       "      <td>7915000.0</td>\n",
       "      <td>71.60</td>\n",
       "      <td>2019-04-18T00:00:00</td>\n",
       "      <td>2</td>\n",
       "      <td>NaN</td>\n",
       "      <td>24.0</td>\n",
       "      <td>NaN</td>\n",
       "      <td>22</td>\n",
       "      <td>NaN</td>\n",
       "      <td>...</td>\n",
       "      <td>18.90</td>\n",
       "      <td>2.0</td>\n",
       "      <td>Санкт-Петербург</td>\n",
       "      <td>23982.0</td>\n",
       "      <td>11634.0</td>\n",
       "      <td>0.0</td>\n",
       "      <td>NaN</td>\n",
       "      <td>0.0</td>\n",
       "      <td>NaN</td>\n",
       "      <td>NaN</td>\n",
       "    </tr>\n",
       "    <tr>\n",
       "      <th>8</th>\n",
       "      <td>20</td>\n",
       "      <td>2900000.0</td>\n",
       "      <td>33.16</td>\n",
       "      <td>2018-05-23T00:00:00</td>\n",
       "      <td>1</td>\n",
       "      <td>NaN</td>\n",
       "      <td>27.0</td>\n",
       "      <td>15.43</td>\n",
       "      <td>26</td>\n",
       "      <td>NaN</td>\n",
       "      <td>...</td>\n",
       "      <td>8.81</td>\n",
       "      <td>NaN</td>\n",
       "      <td>посёлок Мурино</td>\n",
       "      <td>NaN</td>\n",
       "      <td>NaN</td>\n",
       "      <td>NaN</td>\n",
       "      <td>NaN</td>\n",
       "      <td>NaN</td>\n",
       "      <td>NaN</td>\n",
       "      <td>189.0</td>\n",
       "    </tr>\n",
       "    <tr>\n",
       "      <th>9</th>\n",
       "      <td>18</td>\n",
       "      <td>5400000.0</td>\n",
       "      <td>61.00</td>\n",
       "      <td>2017-02-26T00:00:00</td>\n",
       "      <td>3</td>\n",
       "      <td>2.50</td>\n",
       "      <td>9.0</td>\n",
       "      <td>43.60</td>\n",
       "      <td>7</td>\n",
       "      <td>NaN</td>\n",
       "      <td>...</td>\n",
       "      <td>6.50</td>\n",
       "      <td>2.0</td>\n",
       "      <td>Санкт-Петербург</td>\n",
       "      <td>50898.0</td>\n",
       "      <td>15008.0</td>\n",
       "      <td>0.0</td>\n",
       "      <td>NaN</td>\n",
       "      <td>0.0</td>\n",
       "      <td>NaN</td>\n",
       "      <td>289.0</td>\n",
       "    </tr>\n",
       "    <tr>\n",
       "      <th>10</th>\n",
       "      <td>5</td>\n",
       "      <td>5050000.0</td>\n",
       "      <td>39.60</td>\n",
       "      <td>2017-11-16T00:00:00</td>\n",
       "      <td>1</td>\n",
       "      <td>2.67</td>\n",
       "      <td>12.0</td>\n",
       "      <td>20.30</td>\n",
       "      <td>3</td>\n",
       "      <td>NaN</td>\n",
       "      <td>...</td>\n",
       "      <td>8.50</td>\n",
       "      <td>NaN</td>\n",
       "      <td>Санкт-Петербург</td>\n",
       "      <td>38357.0</td>\n",
       "      <td>13878.0</td>\n",
       "      <td>1.0</td>\n",
       "      <td>310.0</td>\n",
       "      <td>2.0</td>\n",
       "      <td>553.0</td>\n",
       "      <td>137.0</td>\n",
       "    </tr>\n",
       "    <tr>\n",
       "      <th>11</th>\n",
       "      <td>9</td>\n",
       "      <td>3300000.0</td>\n",
       "      <td>44.00</td>\n",
       "      <td>2018-08-27T00:00:00</td>\n",
       "      <td>2</td>\n",
       "      <td>NaN</td>\n",
       "      <td>5.0</td>\n",
       "      <td>31.00</td>\n",
       "      <td>4</td>\n",
       "      <td>False</td>\n",
       "      <td>...</td>\n",
       "      <td>6.00</td>\n",
       "      <td>1.0</td>\n",
       "      <td>Ломоносов</td>\n",
       "      <td>48252.0</td>\n",
       "      <td>51677.0</td>\n",
       "      <td>0.0</td>\n",
       "      <td>NaN</td>\n",
       "      <td>0.0</td>\n",
       "      <td>NaN</td>\n",
       "      <td>7.0</td>\n",
       "    </tr>\n",
       "    <tr>\n",
       "      <th>12</th>\n",
       "      <td>10</td>\n",
       "      <td>3890000.0</td>\n",
       "      <td>54.00</td>\n",
       "      <td>2016-06-30T00:00:00</td>\n",
       "      <td>2</td>\n",
       "      <td>NaN</td>\n",
       "      <td>5.0</td>\n",
       "      <td>30.00</td>\n",
       "      <td>5</td>\n",
       "      <td>NaN</td>\n",
       "      <td>...</td>\n",
       "      <td>9.00</td>\n",
       "      <td>0.0</td>\n",
       "      <td>Сертолово</td>\n",
       "      <td>NaN</td>\n",
       "      <td>NaN</td>\n",
       "      <td>NaN</td>\n",
       "      <td>NaN</td>\n",
       "      <td>NaN</td>\n",
       "      <td>NaN</td>\n",
       "      <td>90.0</td>\n",
       "    </tr>\n",
       "    <tr>\n",
       "      <th>13</th>\n",
       "      <td>20</td>\n",
       "      <td>3550000.0</td>\n",
       "      <td>42.80</td>\n",
       "      <td>2017-07-01T00:00:00</td>\n",
       "      <td>2</td>\n",
       "      <td>2.56</td>\n",
       "      <td>5.0</td>\n",
       "      <td>27.00</td>\n",
       "      <td>5</td>\n",
       "      <td>NaN</td>\n",
       "      <td>...</td>\n",
       "      <td>5.20</td>\n",
       "      <td>1.0</td>\n",
       "      <td>Петергоф</td>\n",
       "      <td>37868.0</td>\n",
       "      <td>33058.0</td>\n",
       "      <td>1.0</td>\n",
       "      <td>294.0</td>\n",
       "      <td>3.0</td>\n",
       "      <td>298.0</td>\n",
       "      <td>366.0</td>\n",
       "    </tr>\n",
       "    <tr>\n",
       "      <th>14</th>\n",
       "      <td>1</td>\n",
       "      <td>4400000.0</td>\n",
       "      <td>36.00</td>\n",
       "      <td>2016-06-23T00:00:00</td>\n",
       "      <td>1</td>\n",
       "      <td>NaN</td>\n",
       "      <td>6.0</td>\n",
       "      <td>17.00</td>\n",
       "      <td>1</td>\n",
       "      <td>NaN</td>\n",
       "      <td>...</td>\n",
       "      <td>8.00</td>\n",
       "      <td>0.0</td>\n",
       "      <td>Пушкин</td>\n",
       "      <td>20782.0</td>\n",
       "      <td>30759.0</td>\n",
       "      <td>0.0</td>\n",
       "      <td>NaN</td>\n",
       "      <td>1.0</td>\n",
       "      <td>96.0</td>\n",
       "      <td>203.0</td>\n",
       "    </tr>\n",
       "    <tr>\n",
       "      <th>15</th>\n",
       "      <td>16</td>\n",
       "      <td>4650000.0</td>\n",
       "      <td>39.00</td>\n",
       "      <td>2017-11-18T00:00:00</td>\n",
       "      <td>1</td>\n",
       "      <td>NaN</td>\n",
       "      <td>14.0</td>\n",
       "      <td>20.50</td>\n",
       "      <td>5</td>\n",
       "      <td>NaN</td>\n",
       "      <td>...</td>\n",
       "      <td>7.60</td>\n",
       "      <td>1.0</td>\n",
       "      <td>Санкт-Петербург</td>\n",
       "      <td>12900.0</td>\n",
       "      <td>14259.0</td>\n",
       "      <td>1.0</td>\n",
       "      <td>590.0</td>\n",
       "      <td>1.0</td>\n",
       "      <td>296.0</td>\n",
       "      <td>19.0</td>\n",
       "    </tr>\n",
       "    <tr>\n",
       "      <th>16</th>\n",
       "      <td>11</td>\n",
       "      <td>6700000.0</td>\n",
       "      <td>82.00</td>\n",
       "      <td>2017-11-23T00:00:00</td>\n",
       "      <td>3</td>\n",
       "      <td>3.05</td>\n",
       "      <td>5.0</td>\n",
       "      <td>55.60</td>\n",
       "      <td>1</td>\n",
       "      <td>NaN</td>\n",
       "      <td>...</td>\n",
       "      <td>9.00</td>\n",
       "      <td>NaN</td>\n",
       "      <td>Санкт-Петербург</td>\n",
       "      <td>22108.0</td>\n",
       "      <td>10698.0</td>\n",
       "      <td>3.0</td>\n",
       "      <td>420.0</td>\n",
       "      <td>0.0</td>\n",
       "      <td>NaN</td>\n",
       "      <td>397.0</td>\n",
       "    </tr>\n",
       "    <tr>\n",
       "      <th>17</th>\n",
       "      <td>6</td>\n",
       "      <td>4180000.0</td>\n",
       "      <td>36.00</td>\n",
       "      <td>2016-09-09T00:00:00</td>\n",
       "      <td>1</td>\n",
       "      <td>NaN</td>\n",
       "      <td>17.0</td>\n",
       "      <td>16.50</td>\n",
       "      <td>7</td>\n",
       "      <td>NaN</td>\n",
       "      <td>...</td>\n",
       "      <td>11.00</td>\n",
       "      <td>1.0</td>\n",
       "      <td>Санкт-Петербург</td>\n",
       "      <td>33564.0</td>\n",
       "      <td>14616.0</td>\n",
       "      <td>0.0</td>\n",
       "      <td>NaN</td>\n",
       "      <td>1.0</td>\n",
       "      <td>859.0</td>\n",
       "      <td>571.0</td>\n",
       "    </tr>\n",
       "    <tr>\n",
       "      <th>18</th>\n",
       "      <td>8</td>\n",
       "      <td>3250000.0</td>\n",
       "      <td>31.00</td>\n",
       "      <td>2017-01-27T00:00:00</td>\n",
       "      <td>1</td>\n",
       "      <td>2.50</td>\n",
       "      <td>5.0</td>\n",
       "      <td>19.40</td>\n",
       "      <td>2</td>\n",
       "      <td>NaN</td>\n",
       "      <td>...</td>\n",
       "      <td>5.60</td>\n",
       "      <td>1.0</td>\n",
       "      <td>Санкт-Петербург</td>\n",
       "      <td>44060.0</td>\n",
       "      <td>10842.0</td>\n",
       "      <td>1.0</td>\n",
       "      <td>759.0</td>\n",
       "      <td>0.0</td>\n",
       "      <td>NaN</td>\n",
       "      <td>168.0</td>\n",
       "    </tr>\n",
       "    <tr>\n",
       "      <th>19</th>\n",
       "      <td>16</td>\n",
       "      <td>14200000.0</td>\n",
       "      <td>121.00</td>\n",
       "      <td>2019-01-09T00:00:00</td>\n",
       "      <td>3</td>\n",
       "      <td>2.75</td>\n",
       "      <td>16.0</td>\n",
       "      <td>76.00</td>\n",
       "      <td>8</td>\n",
       "      <td>NaN</td>\n",
       "      <td>...</td>\n",
       "      <td>12.00</td>\n",
       "      <td>NaN</td>\n",
       "      <td>Санкт-Петербург</td>\n",
       "      <td>38900.0</td>\n",
       "      <td>12843.0</td>\n",
       "      <td>0.0</td>\n",
       "      <td>NaN</td>\n",
       "      <td>0.0</td>\n",
       "      <td>NaN</td>\n",
       "      <td>97.0</td>\n",
       "    </tr>\n",
       "  </tbody>\n",
       "</table>\n",
       "<p>20 rows × 22 columns</p>\n",
       "</div>"
      ],
      "text/plain": [
       "    total_images  last_price  total_area first_day_exposition  rooms  \\\n",
       "0             20  13000000.0      108.00  2019-03-07T00:00:00      3   \n",
       "1              7   3350000.0       40.40  2018-12-04T00:00:00      1   \n",
       "2             10   5196000.0       56.00  2015-08-20T00:00:00      2   \n",
       "3              0  64900000.0      159.00  2015-07-24T00:00:00      3   \n",
       "4              2  10000000.0      100.00  2018-06-19T00:00:00      2   \n",
       "5             10   2890000.0       30.40  2018-09-10T00:00:00      1   \n",
       "6              6   3700000.0       37.30  2017-11-02T00:00:00      1   \n",
       "7              5   7915000.0       71.60  2019-04-18T00:00:00      2   \n",
       "8             20   2900000.0       33.16  2018-05-23T00:00:00      1   \n",
       "9             18   5400000.0       61.00  2017-02-26T00:00:00      3   \n",
       "10             5   5050000.0       39.60  2017-11-16T00:00:00      1   \n",
       "11             9   3300000.0       44.00  2018-08-27T00:00:00      2   \n",
       "12            10   3890000.0       54.00  2016-06-30T00:00:00      2   \n",
       "13            20   3550000.0       42.80  2017-07-01T00:00:00      2   \n",
       "14             1   4400000.0       36.00  2016-06-23T00:00:00      1   \n",
       "15            16   4650000.0       39.00  2017-11-18T00:00:00      1   \n",
       "16            11   6700000.0       82.00  2017-11-23T00:00:00      3   \n",
       "17             6   4180000.0       36.00  2016-09-09T00:00:00      1   \n",
       "18             8   3250000.0       31.00  2017-01-27T00:00:00      1   \n",
       "19            16  14200000.0      121.00  2019-01-09T00:00:00      3   \n",
       "\n",
       "    ceiling_height  floors_total  living_area  floor is_apartment  ...  \\\n",
       "0             2.70          16.0        51.00      8          NaN  ...   \n",
       "1              NaN          11.0        18.60      1          NaN  ...   \n",
       "2              NaN           5.0        34.30      4          NaN  ...   \n",
       "3              NaN          14.0          NaN      9          NaN  ...   \n",
       "4             3.03          14.0        32.00     13          NaN  ...   \n",
       "5              NaN          12.0        14.40      5          NaN  ...   \n",
       "6              NaN          26.0        10.60      6          NaN  ...   \n",
       "7              NaN          24.0          NaN     22          NaN  ...   \n",
       "8              NaN          27.0        15.43     26          NaN  ...   \n",
       "9             2.50           9.0        43.60      7          NaN  ...   \n",
       "10            2.67          12.0        20.30      3          NaN  ...   \n",
       "11             NaN           5.0        31.00      4        False  ...   \n",
       "12             NaN           5.0        30.00      5          NaN  ...   \n",
       "13            2.56           5.0        27.00      5          NaN  ...   \n",
       "14             NaN           6.0        17.00      1          NaN  ...   \n",
       "15             NaN          14.0        20.50      5          NaN  ...   \n",
       "16            3.05           5.0        55.60      1          NaN  ...   \n",
       "17             NaN          17.0        16.50      7          NaN  ...   \n",
       "18            2.50           5.0        19.40      2          NaN  ...   \n",
       "19            2.75          16.0        76.00      8          NaN  ...   \n",
       "\n",
       "    kitchen_area  balcony              locality_name  airports_nearest  \\\n",
       "0          25.00      NaN            Санкт-Петербург           18863.0   \n",
       "1          11.00      2.0             посёлок Шушары           12817.0   \n",
       "2           8.30      0.0            Санкт-Петербург           21741.0   \n",
       "3            NaN      0.0            Санкт-Петербург           28098.0   \n",
       "4          41.00      NaN            Санкт-Петербург           31856.0   \n",
       "5           9.10      NaN  городской посёлок Янино-1               NaN   \n",
       "6          14.40      1.0          посёлок Парголово           52996.0   \n",
       "7          18.90      2.0            Санкт-Петербург           23982.0   \n",
       "8           8.81      NaN             посёлок Мурино               NaN   \n",
       "9           6.50      2.0            Санкт-Петербург           50898.0   \n",
       "10          8.50      NaN            Санкт-Петербург           38357.0   \n",
       "11          6.00      1.0                  Ломоносов           48252.0   \n",
       "12          9.00      0.0                  Сертолово               NaN   \n",
       "13          5.20      1.0                   Петергоф           37868.0   \n",
       "14          8.00      0.0                     Пушкин           20782.0   \n",
       "15          7.60      1.0            Санкт-Петербург           12900.0   \n",
       "16          9.00      NaN            Санкт-Петербург           22108.0   \n",
       "17         11.00      1.0            Санкт-Петербург           33564.0   \n",
       "18          5.60      1.0            Санкт-Петербург           44060.0   \n",
       "19         12.00      NaN            Санкт-Петербург           38900.0   \n",
       "\n",
       "   cityCenters_nearest  parks_around3000  parks_nearest  ponds_around3000  \\\n",
       "0              16028.0               1.0          482.0               2.0   \n",
       "1              18603.0               0.0            NaN               0.0   \n",
       "2              13933.0               1.0           90.0               2.0   \n",
       "3               6800.0               2.0           84.0               3.0   \n",
       "4               8098.0               2.0          112.0               1.0   \n",
       "5                  NaN               NaN            NaN               NaN   \n",
       "6              19143.0               0.0            NaN               0.0   \n",
       "7              11634.0               0.0            NaN               0.0   \n",
       "8                  NaN               NaN            NaN               NaN   \n",
       "9              15008.0               0.0            NaN               0.0   \n",
       "10             13878.0               1.0          310.0               2.0   \n",
       "11             51677.0               0.0            NaN               0.0   \n",
       "12                 NaN               NaN            NaN               NaN   \n",
       "13             33058.0               1.0          294.0               3.0   \n",
       "14             30759.0               0.0            NaN               1.0   \n",
       "15             14259.0               1.0          590.0               1.0   \n",
       "16             10698.0               3.0          420.0               0.0   \n",
       "17             14616.0               0.0            NaN               1.0   \n",
       "18             10842.0               1.0          759.0               0.0   \n",
       "19             12843.0               0.0            NaN               0.0   \n",
       "\n",
       "    ponds_nearest  days_exposition  \n",
       "0           755.0              NaN  \n",
       "1             NaN             81.0  \n",
       "2           574.0            558.0  \n",
       "3           234.0            424.0  \n",
       "4            48.0            121.0  \n",
       "5             NaN             55.0  \n",
       "6             NaN            155.0  \n",
       "7             NaN              NaN  \n",
       "8             NaN            189.0  \n",
       "9             NaN            289.0  \n",
       "10          553.0            137.0  \n",
       "11            NaN              7.0  \n",
       "12            NaN             90.0  \n",
       "13          298.0            366.0  \n",
       "14           96.0            203.0  \n",
       "15          296.0             19.0  \n",
       "16            NaN            397.0  \n",
       "17          859.0            571.0  \n",
       "18            NaN            168.0  \n",
       "19            NaN             97.0  \n",
       "\n",
       "[20 rows x 22 columns]"
      ]
     },
     "execution_count": 2,
     "metadata": {},
     "output_type": "execute_result"
    }
   ],
   "source": [
    "data.head(20)"
   ]
  },
  {
   "cell_type": "markdown",
   "metadata": {},
   "source": [
    "**Выводим основную информацию о датафрейме с помощью метода `info()`.**"
   ]
  },
  {
   "cell_type": "code",
   "execution_count": 3,
   "metadata": {},
   "outputs": [
    {
     "name": "stdout",
     "output_type": "stream",
     "text": [
      "<class 'pandas.core.frame.DataFrame'>\n",
      "RangeIndex: 23699 entries, 0 to 23698\n",
      "Data columns (total 22 columns):\n",
      " #   Column                Non-Null Count  Dtype  \n",
      "---  ------                --------------  -----  \n",
      " 0   total_images          23699 non-null  int64  \n",
      " 1   last_price            23699 non-null  float64\n",
      " 2   total_area            23699 non-null  float64\n",
      " 3   first_day_exposition  23699 non-null  object \n",
      " 4   rooms                 23699 non-null  int64  \n",
      " 5   ceiling_height        14504 non-null  float64\n",
      " 6   floors_total          23613 non-null  float64\n",
      " 7   living_area           21796 non-null  float64\n",
      " 8   floor                 23699 non-null  int64  \n",
      " 9   is_apartment          2775 non-null   object \n",
      " 10  studio                23699 non-null  bool   \n",
      " 11  open_plan             23699 non-null  bool   \n",
      " 12  kitchen_area          21421 non-null  float64\n",
      " 13  balcony               12180 non-null  float64\n",
      " 14  locality_name         23650 non-null  object \n",
      " 15  airports_nearest      18157 non-null  float64\n",
      " 16  cityCenters_nearest   18180 non-null  float64\n",
      " 17  parks_around3000      18181 non-null  float64\n",
      " 18  parks_nearest         8079 non-null   float64\n",
      " 19  ponds_around3000      18181 non-null  float64\n",
      " 20  ponds_nearest         9110 non-null   float64\n",
      " 21  days_exposition       20518 non-null  float64\n",
      "dtypes: bool(2), float64(14), int64(3), object(3)\n",
      "memory usage: 3.7+ MB\n"
     ]
    }
   ],
   "source": [
    "data.info()"
   ]
  },
  {
   "cell_type": "markdown",
   "metadata": {},
   "source": [
    "**Cтроим гистограмму для всех числовых столбцов таблицы.**"
   ]
  },
  {
   "cell_type": "code",
   "execution_count": 4,
   "metadata": {},
   "outputs": [
    {
     "data": {
      "text/plain": [
       "array([[<AxesSubplot:title={'center':'total_images'}>,\n",
       "        <AxesSubplot:title={'center':'last_price'}>,\n",
       "        <AxesSubplot:title={'center':'total_area'}>,\n",
       "        <AxesSubplot:title={'center':'rooms'}>],\n",
       "       [<AxesSubplot:title={'center':'ceiling_height'}>,\n",
       "        <AxesSubplot:title={'center':'floors_total'}>,\n",
       "        <AxesSubplot:title={'center':'living_area'}>,\n",
       "        <AxesSubplot:title={'center':'floor'}>],\n",
       "       [<AxesSubplot:title={'center':'kitchen_area'}>,\n",
       "        <AxesSubplot:title={'center':'balcony'}>,\n",
       "        <AxesSubplot:title={'center':'airports_nearest'}>,\n",
       "        <AxesSubplot:title={'center':'cityCenters_nearest'}>],\n",
       "       [<AxesSubplot:title={'center':'parks_around3000'}>,\n",
       "        <AxesSubplot:title={'center':'parks_nearest'}>,\n",
       "        <AxesSubplot:title={'center':'ponds_around3000'}>,\n",
       "        <AxesSubplot:title={'center':'ponds_nearest'}>],\n",
       "       [<AxesSubplot:title={'center':'days_exposition'}>, <AxesSubplot:>,\n",
       "        <AxesSubplot:>, <AxesSubplot:>]], dtype=object)"
      ]
     },
     "execution_count": 4,
     "metadata": {},
     "output_type": "execute_result"
    },
    {
     "data": {
      "image/png": "[encoded data removed]",
      "text/plain": [
       "<Figure size 1080x1440 with 20 Axes>"
      ]
     },
     "metadata": {
      "needs_background": "light"
     },
     "output_type": "display_data"
    }
   ],
   "source": [
    "data.hist(figsize=(15, 20), bins=20)"
   ]
  },
  {
   "cell_type": "markdown",
   "metadata": {
    "id": "-O5NtivEAwb9"
   },
   "source": [
    "### Выполните предобработку данных"
   ]
  },
  {
   "cell_type": "markdown",
   "metadata": {},
   "source": [
    "**Выведем количество явных дубликатов в таблице.**"
   ]
  },
  {
   "cell_type": "code",
   "execution_count": 5,
   "metadata": {},
   "outputs": [
    {
     "data": {
      "text/plain": [
       "0"
      ]
     },
     "execution_count": 5,
     "metadata": {},
     "output_type": "execute_result"
    }
   ],
   "source": [
    "data.duplicated().sum()"
   ]
  },
  {
   "cell_type": "markdown",
   "metadata": {},
   "source": [
    "Явных дубликатов не обнаружено. Перейдем к поиску пропущенных значений."
   ]
  },
  {
   "cell_type": "markdown",
   "metadata": {},
   "source": [
    "**Выведем количество пропущенных значений для каждого столбца.**"
   ]
  },
  {
   "cell_type": "code",
   "execution_count": 6,
   "metadata": {
    "id": "7v3vAeTuAwb-"
   },
   "outputs": [
    {
     "data": {
      "text/plain": [
       "is_apartment            20924\n",
       "parks_nearest           15620\n",
       "ponds_nearest           14589\n",
       "balcony                 11519\n",
       "ceiling_height           9195\n",
       "airports_nearest         5542\n",
       "cityCenters_nearest      5519\n",
       "ponds_around3000         5518\n",
       "parks_around3000         5518\n",
       "days_exposition          3181\n",
       "kitchen_area             2278\n",
       "living_area              1903\n",
       "floors_total               86\n",
       "locality_name              49\n",
       "total_images                0\n",
       "last_price                  0\n",
       "studio                      0\n",
       "floor                       0\n",
       "rooms                       0\n",
       "first_day_exposition        0\n",
       "total_area                  0\n",
       "open_plan                   0\n",
       "dtype: int64"
      ]
     },
     "metadata": {},
     "output_type": "display_data"
    },
    {
     "data": {
      "text/plain": [
       "is_apartment            0.882906\n",
       "parks_nearest           0.659100\n",
       "ponds_nearest           0.615596\n",
       "balcony                 0.486054\n",
       "ceiling_height          0.387991\n",
       "airports_nearest        0.233850\n",
       "cityCenters_nearest     0.232879\n",
       "ponds_around3000        0.232837\n",
       "parks_around3000        0.232837\n",
       "days_exposition         0.134225\n",
       "kitchen_area            0.096122\n",
       "living_area             0.080299\n",
       "floors_total            0.003629\n",
       "locality_name           0.002068\n",
       "total_images            0.000000\n",
       "last_price              0.000000\n",
       "studio                  0.000000\n",
       "floor                   0.000000\n",
       "rooms                   0.000000\n",
       "first_day_exposition    0.000000\n",
       "total_area              0.000000\n",
       "open_plan               0.000000\n",
       "dtype: float64"
      ]
     },
     "execution_count": 6,
     "metadata": {},
     "output_type": "execute_result"
    }
   ],
   "source": [
    "display(data.isna().sum().sort_values(ascending=False))\n",
    "\n",
    "data_relatively = data.isna().sum().sort_values(ascending=False) / 23699\n",
    "data_relatively"
   ]
  },
  {
   "cell_type": "markdown",
   "metadata": {},
   "source": [
    "В столбцах: ceiling_height, floors_total, living_area, is_apartment, kitchen_area, balcony, locality_name, airports_nearest, cityCenters_nearest, parks_around3000, parks_nearest, ponds_around3000, ponds_nearest, days_exposition, - обнаружены пропуски.\n",
    "Заполним пропущенные значения там, где это возможно.\n",
    "\n",
    "Пропущенные значения могли появиться из-за отсутствия значений в данных, например, из-за отсутствия балконов в квартире значение оставили незаполненным.\n",
    "\n",
    "Так же потеря данных могла произойти из-за технической ошибки на стадии ввода или сохранения данных в базе данных.\n",
    "\n",
    "Одной из причин отсутствия данных может быть человеческий фактор во время заполнения данных.\n",
    "\n",
    "Еще одной причиной может быть техническая ошибка при скачивании файла."
   ]
  },
  {
   "cell_type": "code",
   "execution_count": 7,
   "metadata": {},
   "outputs": [
    {
     "data": {
      "text/plain": [
       "array([ 1.,  2.,  3.,  4.,  5.,  6.,  7.,  8.,  9., 10., 11., 12., 13.,\n",
       "       14., 15., 16., 17., 18., 19., 20., 21., 22., 23., 24., 25., 26.,\n",
       "       27., 28., 29., 33., 34., 35., 36., 37., 52., 60., nan])"
      ]
     },
     "execution_count": 7,
     "metadata": {},
     "output_type": "execute_result"
    }
   ],
   "source": [
    "#Заменим пропуски в столбце ceiling_height (высоте потолков) медианным значением высоты потолков\n",
    "data['ceiling_height'] = data['ceiling_height'].fillna(value=data['ceiling_height'].median())\n",
    "\n",
    "#Найдем список уникальных значений столбца floors_total (всего этажей в доме), чтобы определить возможные пропуски\n",
    "data['floors_total'].sort_values().unique()"
   ]
  },
  {
   "cell_type": "code",
   "execution_count": 8,
   "metadata": {},
   "outputs": [
    {
     "data": {
      "text/plain": [
       "array([nan, False, True], dtype=object)"
      ]
     },
     "execution_count": 8,
     "metadata": {},
     "output_type": "execute_result"
    }
   ],
   "source": [
    "#Удалим строки с пропусками в столбце floors_total (всего этажей в доме)\n",
    "data = data.dropna(subset=['floors_total'])\n",
    "\n",
    "#Переведем значения в столбце floors_total (всего этажей в доме) в целочисленный тип\n",
    "data['floors_total'] = data['floors_total'].astype(int)\n",
    "\n",
    "#Найдем список уникальных значений столбца is_apartment (апартаменты), чтобы определить возможные пропуски\n",
    "data['is_apartment'].unique()"
   ]
  },
  {
   "cell_type": "code",
   "execution_count": 9,
   "metadata": {},
   "outputs": [
    {
     "data": {
      "text/plain": [
       "total_images                0\n",
       "last_price                  0\n",
       "total_area                  0\n",
       "first_day_exposition        0\n",
       "rooms                       0\n",
       "ceiling_height              0\n",
       "floors_total                0\n",
       "living_area              1865\n",
       "floor                       0\n",
       "is_apartment                0\n",
       "studio                      0\n",
       "open_plan                   0\n",
       "kitchen_area             2222\n",
       "balcony                     0\n",
       "locality_name               0\n",
       "airports_nearest         5524\n",
       "cityCenters_nearest      5501\n",
       "parks_around3000            0\n",
       "parks_nearest           15535\n",
       "ponds_around3000            0\n",
       "ponds_nearest           14529\n",
       "days_exposition          3171\n",
       "dtype: int64"
      ]
     },
     "execution_count": 9,
     "metadata": {},
     "output_type": "execute_result"
    }
   ],
   "source": [
    "#Заменим пропуски в столбце is_apartment (апартаменты) на значение False\n",
    "data['is_apartment'] = data['is_apartment'].fillna(value=False)\n",
    "\n",
    "#Заменим пропуски в столбце balcony (число балконов) на значение 0, и переведем в целочисленный тип\n",
    "data['balcony'] = data['balcony'].fillna(value=0).astype(int)\n",
    "\n",
    "#Удалим строки с пропусками в столбце locality_name (название населённого пункта)\n",
    "data = data.dropna(subset=['locality_name'])\n",
    "\n",
    "#Заменим пропуски в столбце parks_around3000 (число парков в радиусе 3 км) на значение 0, и переведем в целочисленный тип\n",
    "data['parks_around3000'] = data['parks_around3000'].fillna(value=0).astype(int)\n",
    "\n",
    "#Заменим пропуски в столбце ponds_around3000 (число водоёмов в радиусе 3 км) на значение 0, и переведем в целочисленный тип\n",
    "data['ponds_around3000'] = data['ponds_around3000'].fillna(value=0).astype(int)\n",
    "\n",
    "data.isna().sum()"
   ]
  },
  {
   "cell_type": "markdown",
   "metadata": {},
   "source": [
    "Мы заменили некоторые значения столбцов типа `float` на целочисленный тип потому, что они не могут быть дробными. Например число этажей `floors_total` может быть только целочисленным."
   ]
  },
  {
   "cell_type": "code",
   "execution_count": 10,
   "metadata": {},
   "outputs": [
    {
     "data": {
      "text/plain": [
       "0       2019-03-07\n",
       "1       2018-12-04\n",
       "2       2015-08-20\n",
       "3       2015-07-24\n",
       "4       2018-06-19\n",
       "           ...    \n",
       "23694   2017-03-21\n",
       "23695   2018-01-15\n",
       "23696   2018-02-11\n",
       "23697   2017-03-28\n",
       "23698   2017-07-21\n",
       "Name: first_day_exposition, Length: 23565, dtype: datetime64[ns]"
      ]
     },
     "execution_count": 10,
     "metadata": {},
     "output_type": "execute_result"
    }
   ],
   "source": [
    "data['first_day_exposition'] = pd.to_datetime(data['first_day_exposition'], format='%Y-%m-%dT%H:%M:%S')\n",
    "data['first_day_exposition']"
   ]
  },
  {
   "cell_type": "code",
   "execution_count": 11,
   "metadata": {},
   "outputs": [
    {
     "data": {
      "text/plain": [
       "array(['Бокситогорск', 'Волосово', 'Волхов', 'Всеволожск', 'Выборг',\n",
       "       'Высоцк', 'Гатчина', 'Зеленогорск', 'Ивангород', 'Каменногорск',\n",
       "       'Кингисепп', 'Кириши', 'Кировск', 'Колпино', 'Коммунар',\n",
       "       'Красное Село', 'Кронштадт', 'Кудрово', 'Лодейное Поле',\n",
       "       'Ломоносов', 'Луга', 'Любань', 'Мурино', 'Никольское',\n",
       "       'Новая Ладога', 'Отрадное', 'Павловск', 'Петергоф', 'Пикалёво',\n",
       "       'Подпорожье', 'Приморск', 'Приозерск', 'Пушкин', 'Санкт-Петербург',\n",
       "       'Светогорск', 'Сертолово', 'Сестрорецк', 'Сланцы', 'Сосновый Бор',\n",
       "       'Сясьстрой', 'Тихвин', 'Тосно', 'Шлиссельбург',\n",
       "       'городской поселок Большая Ижора', 'городской поселок Янино-1',\n",
       "       'городской посёлок Будогощь', 'городской посёлок Виллози',\n",
       "       'городской посёлок Лесогорский', 'городской посёлок Мга',\n",
       "       'городской посёлок Назия', 'городской посёлок Новоселье',\n",
       "       'городской посёлок Павлово', 'городской посёлок Рощино',\n",
       "       'городской посёлок Свирьстрой', 'городской посёлок Советский',\n",
       "       'городской посёлок Фёдоровское', 'городской посёлок Янино-1',\n",
       "       'деревня Агалатово', 'деревня Аро', 'деревня Батово',\n",
       "       'деревня Бегуницы', 'деревня Белогорка', 'деревня Большая Вруда',\n",
       "       'деревня Большая Пустомержа', 'деревня Большие Колпаны',\n",
       "       'деревня Большое Рейзино', 'деревня Большой Сабск', 'деревня Бор',\n",
       "       'деревня Борисова Грива', 'деревня Ваганово', 'деревня Вартемяги',\n",
       "       'деревня Вахнова Кара', 'деревня Выскатка', 'деревня Гарболово',\n",
       "       'деревня Глинка', 'деревня Горбунки', 'деревня Гостилицы',\n",
       "       'деревня Заклинье', 'деревня Заневка', 'деревня Зимитицы',\n",
       "       'деревня Извара', 'деревня Иссад', 'деревня Калитино',\n",
       "       'деревня Кальтино', 'деревня Камышовка', 'деревня Каськово',\n",
       "       'деревня Келози', 'деревня Кипень', 'деревня Кисельня',\n",
       "       'деревня Колтуши', 'деревня Коркино', 'деревня Котлы',\n",
       "       'деревня Кривко', 'деревня Кудрово', 'деревня Кузьмолово',\n",
       "       'деревня Курковицы', 'деревня Куровицы', 'деревня Куттузи',\n",
       "       'деревня Лаврики', 'деревня Лаголово', 'деревня Лампово',\n",
       "       'деревня Лесколово', 'деревня Лопухинка', 'деревня Лупполово',\n",
       "       'деревня Малая Романовка', 'деревня Малое Верево',\n",
       "       'деревня Малое Карлино', 'деревня Малые Колпаны',\n",
       "       'деревня Мануйлово', 'деревня Меньково', 'деревня Мины',\n",
       "       'деревня Мистолово', 'деревня Ненимяки', 'деревня Нижние Осельки',\n",
       "       'деревня Нижняя', 'деревня Низино', 'деревня Новое Девяткино',\n",
       "       'деревня Новолисино', 'деревня Нурма', 'деревня Оржицы',\n",
       "       'деревня Парицы', 'деревня Пельгора', 'деревня Пеники',\n",
       "       'деревня Пижма', 'деревня Пикколово', 'деревня Пудомяги',\n",
       "       'деревня Пустынка', 'деревня Пчева', 'деревня Рабитицы',\n",
       "       'деревня Разбегаево', 'деревня Раздолье', 'деревня Разметелево',\n",
       "       'деревня Рапполово', 'деревня Реброво', 'деревня Русско',\n",
       "       'деревня Сижно', 'деревня Снегирёвка', 'деревня Старая',\n",
       "       'деревня Старая Пустошь', 'деревня Старое Хинколово',\n",
       "       'деревня Старополье', 'деревня Старосиверская',\n",
       "       'деревня Старые Бегуницы', 'деревня Суоранда',\n",
       "       'деревня Сяськелево', 'деревня Тарасово', 'деревня Терпилицы',\n",
       "       'деревня Тихковицы', 'деревня Тойворово', 'деревня Торосово',\n",
       "       'деревня Торошковичи', 'деревня Трубников Бор',\n",
       "       'деревня Фалилеево', 'деревня Фёдоровское', 'деревня Хапо-Ое',\n",
       "       'деревня Хязельки', 'деревня Чудской Бор', 'деревня Шпаньково',\n",
       "       'деревня Щеглово', 'деревня Юкки', 'деревня Ялгино',\n",
       "       'деревня Яльгелево', 'деревня Ям-Тесово',\n",
       "       'коттеджный поселок Кивеннапа Север', 'коттеджный поселок Счастье',\n",
       "       'коттеджный посёлок Лесное', 'поселок Аннино', 'поселок Барышево',\n",
       "       'поселок Бугры', 'поселок Возрождение', 'поселок Войсковицы',\n",
       "       'поселок Володарское', 'поселок Гаврилово', 'поселок Гарболово',\n",
       "       'поселок Гладкое', 'поселок Глажево', 'поселок Глебычево',\n",
       "       'поселок Гончарово', 'поселок Громово', 'поселок Дружноселье',\n",
       "       'поселок Елизаветино', 'поселок Жилгородок', 'поселок Жилпосёлок',\n",
       "       'поселок Житково', 'поселок Заводской', 'поселок Запорожское',\n",
       "       'поселок Зимитицы', 'поселок Ильичёво', 'поселок Калитино',\n",
       "       'поселок Каложицы', 'поселок Кингисеппский', 'поселок Кирпичное',\n",
       "       'поселок Кобралово', 'поселок Кобринское', 'поселок Коммунары',\n",
       "       'поселок Коробицыно', 'поселок Котельский',\n",
       "       'поселок Красная Долина', 'поселок Красносельское',\n",
       "       'поселок Лесное', 'поселок Лисий Нос', 'поселок Лукаши',\n",
       "       'поселок Любань', 'поселок Мельниково', 'поселок Мичуринское',\n",
       "       'поселок Молодцово', 'поселок Мурино', 'поселок Новый Свет',\n",
       "       'поселок Новый Учхоз', 'поселок Оредеж',\n",
       "       'поселок Пансионат Зелёный Бор', 'поселок Первомайское',\n",
       "       'поселок Перово', 'поселок Петровское', 'поселок Победа',\n",
       "       'поселок Поляны', 'поселок Почап', 'поселок Починок',\n",
       "       'поселок Пушное', 'поселок Пчевжа', 'поселок Рабитицы',\n",
       "       'поселок Романовка', 'поселок Ромашки', 'поселок Рябово',\n",
       "       'поселок Севастьяново', 'поселок Селезнёво', 'поселок Сельцо',\n",
       "       'поселок Семиозерье', 'поселок Семрино', 'поселок Серебрянский',\n",
       "       'поселок Совхозный', 'поселок Старая Малукса',\n",
       "       'поселок Стеклянный', 'поселок Сумино', 'поселок Суходолье',\n",
       "       'поселок Тельмана', 'поселок Терволово', 'поселок Торковичи',\n",
       "       'поселок Тёсово-4', 'поселок Углово', 'поселок Усть-Луга',\n",
       "       'поселок Ушаки', 'поселок Цвелодубово', 'поселок Цвылёво',\n",
       "       'поселок городского типа Большая Ижора',\n",
       "       'поселок городского типа Вырица',\n",
       "       'поселок городского типа Дружная Горка',\n",
       "       'поселок городского типа Дубровка',\n",
       "       'поселок городского типа Ефимовский',\n",
       "       'поселок городского типа Кондратьево',\n",
       "       'поселок городского типа Красный Бор',\n",
       "       'поселок городского типа Кузьмоловский',\n",
       "       'поселок городского типа Лебяжье',\n",
       "       'поселок городского типа Лесогорский',\n",
       "       'поселок городского типа Назия',\n",
       "       'поселок городского типа Никольский',\n",
       "       'поселок городского типа Приладожский',\n",
       "       'поселок городского типа Рахья', 'поселок городского типа Рощино',\n",
       "       'поселок городского типа Рябово',\n",
       "       'поселок городского типа Синявино',\n",
       "       'поселок городского типа Советский',\n",
       "       'поселок городского типа Токсово',\n",
       "       'поселок городского типа Форносово',\n",
       "       'поселок городского типа имени Свердлова',\n",
       "       'поселок станции Вещево', 'поселок станции Корнево',\n",
       "       'поселок станции Лужайка', 'поселок станции Приветнинское',\n",
       "       'посёлок Александровская', 'посёлок Алексеевка', 'посёлок Аннино',\n",
       "       'посёлок Белоостров', 'посёлок Бугры', 'посёлок Возрождение',\n",
       "       'посёлок Войскорово', 'посёлок Высокоключевой',\n",
       "       'посёлок Гаврилово', 'посёлок Дзержинского', 'посёлок Жилгородок',\n",
       "       'посёлок Ильичёво', 'посёлок Кикерино', 'посёлок Кобралово',\n",
       "       'посёлок Коробицыно', 'посёлок Левашово', 'посёлок Ленинское',\n",
       "       'посёлок Лисий Нос', 'посёлок Мельниково', 'посёлок Металлострой',\n",
       "       'посёлок Мичуринское', 'посёлок Молодёжное', 'посёлок Мурино',\n",
       "       'посёлок Мыза-Ивановка', 'посёлок Новогорелово',\n",
       "       'посёлок Новый Свет', 'посёлок Пансионат Зелёный Бор',\n",
       "       'посёлок Парголово', 'посёлок Перово', 'посёлок Песочный',\n",
       "       'посёлок Петро-Славянка', 'посёлок Петровское',\n",
       "       'посёлок Платформа 69-й километр', 'посёлок Плодовое',\n",
       "       'посёлок Плоское', 'посёлок Победа', 'посёлок Поляны',\n",
       "       'посёлок Понтонный', 'посёлок Пригородный', 'посёлок Пудость',\n",
       "       'посёлок Репино', 'посёлок Ропша', 'посёлок Сапёрное',\n",
       "       'посёлок Сапёрный', 'посёлок Сосново', 'посёлок Старая Малукса',\n",
       "       'посёлок Стеклянный', 'посёлок Стрельна', 'посёлок Суйда',\n",
       "       'посёлок Сумино', 'посёлок Тельмана', 'посёлок Терволово',\n",
       "       'посёлок Торфяное', 'посёлок Усть-Ижора', 'посёлок Усть-Луга',\n",
       "       'посёлок Форт Красная Горка', 'посёлок Шугозеро', 'посёлок Шушары',\n",
       "       'посёлок Щеглово', 'посёлок городского типа Важины',\n",
       "       'посёлок городского типа Вознесенье',\n",
       "       'посёлок городского типа Вырица',\n",
       "       'посёлок городского типа Красный Бор',\n",
       "       'посёлок городского типа Кузнечное',\n",
       "       'посёлок городского типа Кузьмоловский',\n",
       "       'посёлок городского типа Лебяжье', 'посёлок городского типа Мга',\n",
       "       'посёлок городского типа Павлово',\n",
       "       'посёлок городского типа Рощино', 'посёлок городского типа Рябово',\n",
       "       'посёлок городского типа Сиверский',\n",
       "       'посёлок городского типа Тайцы', 'посёлок городского типа Токсово',\n",
       "       'посёлок городского типа Ульяновка',\n",
       "       'посёлок городского типа Форносово',\n",
       "       'посёлок городского типа имени Морозова',\n",
       "       'посёлок городского типа имени Свердлова',\n",
       "       'посёлок при железнодорожной станции Вещево',\n",
       "       'посёлок при железнодорожной станции Приветнинское',\n",
       "       'посёлок станции Громово', 'посёлок станции Свирь',\n",
       "       'садоводческое некоммерческое товарищество Лесная Поляна',\n",
       "       'садовое товарищество Новая Ропша',\n",
       "       'садовое товарищество Приладожский', 'садовое товарищество Рахья',\n",
       "       'садовое товарищество Садко', 'село Копорье', 'село Никольское',\n",
       "       'село Павлово', 'село Паша', 'село Путилово', 'село Рождествено',\n",
       "       'село Русско-Высоцкое', 'село Старая Ладога', 'село Шум'],\n",
       "      dtype=object)"
      ]
     },
     "execution_count": 11,
     "metadata": {},
     "output_type": "execute_result"
    }
   ],
   "source": [
    "#Выведем уникальные значения столбца locality_name (название населённого пункта)\n",
    "data['locality_name'].sort_values().unique()"
   ]
  },
  {
   "cell_type": "code",
   "execution_count": 12,
   "metadata": {},
   "outputs": [],
   "source": [
    "#Устраним неявные дубликаты в столбце locality_name (название населённого пункта)\n",
    "data_dup = ['поселок Рябово', 'посёлок городского типа Рябово']\n",
    "data['locality_name'] = data['locality_name'].replace(data_dup, 'поселок городского типа Рябово')\n",
    "data['locality_name'] = (\n",
    "    data['locality_name']\n",
    "    .str.replace('ё', 'е')\n",
    "    .replace(['посёлок'], 'поселок', regex=True)\n",
    ")"
   ]
  },
  {
   "cell_type": "markdown",
   "metadata": {},
   "source": [
    "Мы устранили неявные дубликаты в названиях населенных пунктов с помощью метода `replace`."
   ]
  },
  {
   "cell_type": "markdown",
   "metadata": {
    "id": "QCcvyY6YAwb-"
   },
   "source": [
    "### Добавьте в таблицу новые столбцы"
   ]
  },
  {
   "cell_type": "code",
   "execution_count": 13,
   "metadata": {
    "id": "Z8eJek3IAwb-"
   },
   "outputs": [
    {
     "data": {
      "text/html": [
       "<div>\n",
       "<style scoped>\n",
       "    .dataframe tbody tr th:only-of-type {\n",
       "        vertical-align: middle;\n",
       "    }\n",
       "\n",
       "    .dataframe tbody tr th {\n",
       "        vertical-align: top;\n",
       "    }\n",
       "\n",
       "    .dataframe thead th {\n",
       "        text-align: right;\n",
       "    }\n",
       "</style>\n",
       "<table border=\"1\" class=\"dataframe\">\n",
       "  <thead>\n",
       "    <tr style=\"text-align: right;\">\n",
       "      <th></th>\n",
       "      <th>total_images</th>\n",
       "      <th>last_price</th>\n",
       "      <th>total_area</th>\n",
       "      <th>first_day_exposition</th>\n",
       "      <th>rooms</th>\n",
       "      <th>ceiling_height</th>\n",
       "      <th>floors_total</th>\n",
       "      <th>living_area</th>\n",
       "      <th>floor</th>\n",
       "      <th>is_apartment</th>\n",
       "      <th>...</th>\n",
       "      <th>ponds_around3000</th>\n",
       "      <th>ponds_nearest</th>\n",
       "      <th>days_exposition</th>\n",
       "      <th>square_meter_price</th>\n",
       "      <th>date</th>\n",
       "      <th>day_of_week</th>\n",
       "      <th>month</th>\n",
       "      <th>year</th>\n",
       "      <th>floor_value</th>\n",
       "      <th>cityCenters_nearest_km</th>\n",
       "    </tr>\n",
       "  </thead>\n",
       "  <tbody>\n",
       "    <tr>\n",
       "      <th>0</th>\n",
       "      <td>20</td>\n",
       "      <td>13000000.0</td>\n",
       "      <td>108.00</td>\n",
       "      <td>2019-03-07</td>\n",
       "      <td>3</td>\n",
       "      <td>2.70</td>\n",
       "      <td>16</td>\n",
       "      <td>51.00</td>\n",
       "      <td>8</td>\n",
       "      <td>False</td>\n",
       "      <td>...</td>\n",
       "      <td>2</td>\n",
       "      <td>755.0</td>\n",
       "      <td>NaN</td>\n",
       "      <td>120370.37</td>\n",
       "      <td>2019-03-07</td>\n",
       "      <td>3</td>\n",
       "      <td>3</td>\n",
       "      <td>2019</td>\n",
       "      <td>другой</td>\n",
       "      <td>16.0</td>\n",
       "    </tr>\n",
       "    <tr>\n",
       "      <th>1</th>\n",
       "      <td>7</td>\n",
       "      <td>3350000.0</td>\n",
       "      <td>40.40</td>\n",
       "      <td>2018-12-04</td>\n",
       "      <td>1</td>\n",
       "      <td>2.65</td>\n",
       "      <td>11</td>\n",
       "      <td>18.60</td>\n",
       "      <td>1</td>\n",
       "      <td>False</td>\n",
       "      <td>...</td>\n",
       "      <td>0</td>\n",
       "      <td>NaN</td>\n",
       "      <td>81.0</td>\n",
       "      <td>82920.79</td>\n",
       "      <td>2018-12-04</td>\n",
       "      <td>1</td>\n",
       "      <td>12</td>\n",
       "      <td>2018</td>\n",
       "      <td>первый</td>\n",
       "      <td>19.0</td>\n",
       "    </tr>\n",
       "    <tr>\n",
       "      <th>2</th>\n",
       "      <td>10</td>\n",
       "      <td>5196000.0</td>\n",
       "      <td>56.00</td>\n",
       "      <td>2015-08-20</td>\n",
       "      <td>2</td>\n",
       "      <td>2.65</td>\n",
       "      <td>5</td>\n",
       "      <td>34.30</td>\n",
       "      <td>4</td>\n",
       "      <td>False</td>\n",
       "      <td>...</td>\n",
       "      <td>2</td>\n",
       "      <td>574.0</td>\n",
       "      <td>558.0</td>\n",
       "      <td>92785.71</td>\n",
       "      <td>2015-08-20</td>\n",
       "      <td>3</td>\n",
       "      <td>8</td>\n",
       "      <td>2015</td>\n",
       "      <td>другой</td>\n",
       "      <td>14.0</td>\n",
       "    </tr>\n",
       "    <tr>\n",
       "      <th>3</th>\n",
       "      <td>0</td>\n",
       "      <td>64900000.0</td>\n",
       "      <td>159.00</td>\n",
       "      <td>2015-07-24</td>\n",
       "      <td>3</td>\n",
       "      <td>2.65</td>\n",
       "      <td>14</td>\n",
       "      <td>NaN</td>\n",
       "      <td>9</td>\n",
       "      <td>False</td>\n",
       "      <td>...</td>\n",
       "      <td>3</td>\n",
       "      <td>234.0</td>\n",
       "      <td>424.0</td>\n",
       "      <td>408176.10</td>\n",
       "      <td>2015-07-24</td>\n",
       "      <td>4</td>\n",
       "      <td>7</td>\n",
       "      <td>2015</td>\n",
       "      <td>другой</td>\n",
       "      <td>7.0</td>\n",
       "    </tr>\n",
       "    <tr>\n",
       "      <th>4</th>\n",
       "      <td>2</td>\n",
       "      <td>10000000.0</td>\n",
       "      <td>100.00</td>\n",
       "      <td>2018-06-19</td>\n",
       "      <td>2</td>\n",
       "      <td>3.03</td>\n",
       "      <td>14</td>\n",
       "      <td>32.00</td>\n",
       "      <td>13</td>\n",
       "      <td>False</td>\n",
       "      <td>...</td>\n",
       "      <td>1</td>\n",
       "      <td>48.0</td>\n",
       "      <td>121.0</td>\n",
       "      <td>100000.00</td>\n",
       "      <td>2018-06-19</td>\n",
       "      <td>1</td>\n",
       "      <td>6</td>\n",
       "      <td>2018</td>\n",
       "      <td>другой</td>\n",
       "      <td>8.0</td>\n",
       "    </tr>\n",
       "    <tr>\n",
       "      <th>5</th>\n",
       "      <td>10</td>\n",
       "      <td>2890000.0</td>\n",
       "      <td>30.40</td>\n",
       "      <td>2018-09-10</td>\n",
       "      <td>1</td>\n",
       "      <td>2.65</td>\n",
       "      <td>12</td>\n",
       "      <td>14.40</td>\n",
       "      <td>5</td>\n",
       "      <td>False</td>\n",
       "      <td>...</td>\n",
       "      <td>0</td>\n",
       "      <td>NaN</td>\n",
       "      <td>55.0</td>\n",
       "      <td>95065.79</td>\n",
       "      <td>2018-09-10</td>\n",
       "      <td>0</td>\n",
       "      <td>9</td>\n",
       "      <td>2018</td>\n",
       "      <td>другой</td>\n",
       "      <td>NaN</td>\n",
       "    </tr>\n",
       "    <tr>\n",
       "      <th>6</th>\n",
       "      <td>6</td>\n",
       "      <td>3700000.0</td>\n",
       "      <td>37.30</td>\n",
       "      <td>2017-11-02</td>\n",
       "      <td>1</td>\n",
       "      <td>2.65</td>\n",
       "      <td>26</td>\n",
       "      <td>10.60</td>\n",
       "      <td>6</td>\n",
       "      <td>False</td>\n",
       "      <td>...</td>\n",
       "      <td>0</td>\n",
       "      <td>NaN</td>\n",
       "      <td>155.0</td>\n",
       "      <td>99195.71</td>\n",
       "      <td>2017-11-02</td>\n",
       "      <td>3</td>\n",
       "      <td>11</td>\n",
       "      <td>2017</td>\n",
       "      <td>другой</td>\n",
       "      <td>19.0</td>\n",
       "    </tr>\n",
       "    <tr>\n",
       "      <th>7</th>\n",
       "      <td>5</td>\n",
       "      <td>7915000.0</td>\n",
       "      <td>71.60</td>\n",
       "      <td>2019-04-18</td>\n",
       "      <td>2</td>\n",
       "      <td>2.65</td>\n",
       "      <td>24</td>\n",
       "      <td>NaN</td>\n",
       "      <td>22</td>\n",
       "      <td>False</td>\n",
       "      <td>...</td>\n",
       "      <td>0</td>\n",
       "      <td>NaN</td>\n",
       "      <td>NaN</td>\n",
       "      <td>110544.69</td>\n",
       "      <td>2019-04-18</td>\n",
       "      <td>3</td>\n",
       "      <td>4</td>\n",
       "      <td>2019</td>\n",
       "      <td>другой</td>\n",
       "      <td>12.0</td>\n",
       "    </tr>\n",
       "    <tr>\n",
       "      <th>8</th>\n",
       "      <td>20</td>\n",
       "      <td>2900000.0</td>\n",
       "      <td>33.16</td>\n",
       "      <td>2018-05-23</td>\n",
       "      <td>1</td>\n",
       "      <td>2.65</td>\n",
       "      <td>27</td>\n",
       "      <td>15.43</td>\n",
       "      <td>26</td>\n",
       "      <td>False</td>\n",
       "      <td>...</td>\n",
       "      <td>0</td>\n",
       "      <td>NaN</td>\n",
       "      <td>189.0</td>\n",
       "      <td>87454.76</td>\n",
       "      <td>2018-05-23</td>\n",
       "      <td>2</td>\n",
       "      <td>5</td>\n",
       "      <td>2018</td>\n",
       "      <td>другой</td>\n",
       "      <td>NaN</td>\n",
       "    </tr>\n",
       "    <tr>\n",
       "      <th>9</th>\n",
       "      <td>18</td>\n",
       "      <td>5400000.0</td>\n",
       "      <td>61.00</td>\n",
       "      <td>2017-02-26</td>\n",
       "      <td>3</td>\n",
       "      <td>2.50</td>\n",
       "      <td>9</td>\n",
       "      <td>43.60</td>\n",
       "      <td>7</td>\n",
       "      <td>False</td>\n",
       "      <td>...</td>\n",
       "      <td>0</td>\n",
       "      <td>NaN</td>\n",
       "      <td>289.0</td>\n",
       "      <td>88524.59</td>\n",
       "      <td>2017-02-26</td>\n",
       "      <td>6</td>\n",
       "      <td>2</td>\n",
       "      <td>2017</td>\n",
       "      <td>другой</td>\n",
       "      <td>15.0</td>\n",
       "    </tr>\n",
       "    <tr>\n",
       "      <th>10</th>\n",
       "      <td>5</td>\n",
       "      <td>5050000.0</td>\n",
       "      <td>39.60</td>\n",
       "      <td>2017-11-16</td>\n",
       "      <td>1</td>\n",
       "      <td>2.67</td>\n",
       "      <td>12</td>\n",
       "      <td>20.30</td>\n",
       "      <td>3</td>\n",
       "      <td>False</td>\n",
       "      <td>...</td>\n",
       "      <td>2</td>\n",
       "      <td>553.0</td>\n",
       "      <td>137.0</td>\n",
       "      <td>127525.25</td>\n",
       "      <td>2017-11-16</td>\n",
       "      <td>3</td>\n",
       "      <td>11</td>\n",
       "      <td>2017</td>\n",
       "      <td>другой</td>\n",
       "      <td>14.0</td>\n",
       "    </tr>\n",
       "    <tr>\n",
       "      <th>11</th>\n",
       "      <td>9</td>\n",
       "      <td>3300000.0</td>\n",
       "      <td>44.00</td>\n",
       "      <td>2018-08-27</td>\n",
       "      <td>2</td>\n",
       "      <td>2.65</td>\n",
       "      <td>5</td>\n",
       "      <td>31.00</td>\n",
       "      <td>4</td>\n",
       "      <td>False</td>\n",
       "      <td>...</td>\n",
       "      <td>0</td>\n",
       "      <td>NaN</td>\n",
       "      <td>7.0</td>\n",
       "      <td>75000.00</td>\n",
       "      <td>2018-08-27</td>\n",
       "      <td>0</td>\n",
       "      <td>8</td>\n",
       "      <td>2018</td>\n",
       "      <td>другой</td>\n",
       "      <td>52.0</td>\n",
       "    </tr>\n",
       "    <tr>\n",
       "      <th>12</th>\n",
       "      <td>10</td>\n",
       "      <td>3890000.0</td>\n",
       "      <td>54.00</td>\n",
       "      <td>2016-06-30</td>\n",
       "      <td>2</td>\n",
       "      <td>2.65</td>\n",
       "      <td>5</td>\n",
       "      <td>30.00</td>\n",
       "      <td>5</td>\n",
       "      <td>False</td>\n",
       "      <td>...</td>\n",
       "      <td>0</td>\n",
       "      <td>NaN</td>\n",
       "      <td>90.0</td>\n",
       "      <td>72037.04</td>\n",
       "      <td>2016-06-30</td>\n",
       "      <td>3</td>\n",
       "      <td>6</td>\n",
       "      <td>2016</td>\n",
       "      <td>последний</td>\n",
       "      <td>NaN</td>\n",
       "    </tr>\n",
       "    <tr>\n",
       "      <th>13</th>\n",
       "      <td>20</td>\n",
       "      <td>3550000.0</td>\n",
       "      <td>42.80</td>\n",
       "      <td>2017-07-01</td>\n",
       "      <td>2</td>\n",
       "      <td>2.56</td>\n",
       "      <td>5</td>\n",
       "      <td>27.00</td>\n",
       "      <td>5</td>\n",
       "      <td>False</td>\n",
       "      <td>...</td>\n",
       "      <td>3</td>\n",
       "      <td>298.0</td>\n",
       "      <td>366.0</td>\n",
       "      <td>82943.93</td>\n",
       "      <td>2017-07-01</td>\n",
       "      <td>5</td>\n",
       "      <td>7</td>\n",
       "      <td>2017</td>\n",
       "      <td>последний</td>\n",
       "      <td>33.0</td>\n",
       "    </tr>\n",
       "    <tr>\n",
       "      <th>14</th>\n",
       "      <td>1</td>\n",
       "      <td>4400000.0</td>\n",
       "      <td>36.00</td>\n",
       "      <td>2016-06-23</td>\n",
       "      <td>1</td>\n",
       "      <td>2.65</td>\n",
       "      <td>6</td>\n",
       "      <td>17.00</td>\n",
       "      <td>1</td>\n",
       "      <td>False</td>\n",
       "      <td>...</td>\n",
       "      <td>1</td>\n",
       "      <td>96.0</td>\n",
       "      <td>203.0</td>\n",
       "      <td>122222.22</td>\n",
       "      <td>2016-06-23</td>\n",
       "      <td>3</td>\n",
       "      <td>6</td>\n",
       "      <td>2016</td>\n",
       "      <td>первый</td>\n",
       "      <td>31.0</td>\n",
       "    </tr>\n",
       "    <tr>\n",
       "      <th>15</th>\n",
       "      <td>16</td>\n",
       "      <td>4650000.0</td>\n",
       "      <td>39.00</td>\n",
       "      <td>2017-11-18</td>\n",
       "      <td>1</td>\n",
       "      <td>2.65</td>\n",
       "      <td>14</td>\n",
       "      <td>20.50</td>\n",
       "      <td>5</td>\n",
       "      <td>False</td>\n",
       "      <td>...</td>\n",
       "      <td>1</td>\n",
       "      <td>296.0</td>\n",
       "      <td>19.0</td>\n",
       "      <td>119230.77</td>\n",
       "      <td>2017-11-18</td>\n",
       "      <td>5</td>\n",
       "      <td>11</td>\n",
       "      <td>2017</td>\n",
       "      <td>другой</td>\n",
       "      <td>14.0</td>\n",
       "    </tr>\n",
       "    <tr>\n",
       "      <th>16</th>\n",
       "      <td>11</td>\n",
       "      <td>6700000.0</td>\n",
       "      <td>82.00</td>\n",
       "      <td>2017-11-23</td>\n",
       "      <td>3</td>\n",
       "      <td>3.05</td>\n",
       "      <td>5</td>\n",
       "      <td>55.60</td>\n",
       "      <td>1</td>\n",
       "      <td>False</td>\n",
       "      <td>...</td>\n",
       "      <td>0</td>\n",
       "      <td>NaN</td>\n",
       "      <td>397.0</td>\n",
       "      <td>81707.32</td>\n",
       "      <td>2017-11-23</td>\n",
       "      <td>3</td>\n",
       "      <td>11</td>\n",
       "      <td>2017</td>\n",
       "      <td>первый</td>\n",
       "      <td>11.0</td>\n",
       "    </tr>\n",
       "    <tr>\n",
       "      <th>17</th>\n",
       "      <td>6</td>\n",
       "      <td>4180000.0</td>\n",
       "      <td>36.00</td>\n",
       "      <td>2016-09-09</td>\n",
       "      <td>1</td>\n",
       "      <td>2.65</td>\n",
       "      <td>17</td>\n",
       "      <td>16.50</td>\n",
       "      <td>7</td>\n",
       "      <td>False</td>\n",
       "      <td>...</td>\n",
       "      <td>1</td>\n",
       "      <td>859.0</td>\n",
       "      <td>571.0</td>\n",
       "      <td>116111.11</td>\n",
       "      <td>2016-09-09</td>\n",
       "      <td>4</td>\n",
       "      <td>9</td>\n",
       "      <td>2016</td>\n",
       "      <td>другой</td>\n",
       "      <td>15.0</td>\n",
       "    </tr>\n",
       "    <tr>\n",
       "      <th>18</th>\n",
       "      <td>8</td>\n",
       "      <td>3250000.0</td>\n",
       "      <td>31.00</td>\n",
       "      <td>2017-01-27</td>\n",
       "      <td>1</td>\n",
       "      <td>2.50</td>\n",
       "      <td>5</td>\n",
       "      <td>19.40</td>\n",
       "      <td>2</td>\n",
       "      <td>False</td>\n",
       "      <td>...</td>\n",
       "      <td>0</td>\n",
       "      <td>NaN</td>\n",
       "      <td>168.0</td>\n",
       "      <td>104838.71</td>\n",
       "      <td>2017-01-27</td>\n",
       "      <td>4</td>\n",
       "      <td>1</td>\n",
       "      <td>2017</td>\n",
       "      <td>другой</td>\n",
       "      <td>11.0</td>\n",
       "    </tr>\n",
       "    <tr>\n",
       "      <th>19</th>\n",
       "      <td>16</td>\n",
       "      <td>14200000.0</td>\n",
       "      <td>121.00</td>\n",
       "      <td>2019-01-09</td>\n",
       "      <td>3</td>\n",
       "      <td>2.75</td>\n",
       "      <td>16</td>\n",
       "      <td>76.00</td>\n",
       "      <td>8</td>\n",
       "      <td>False</td>\n",
       "      <td>...</td>\n",
       "      <td>0</td>\n",
       "      <td>NaN</td>\n",
       "      <td>97.0</td>\n",
       "      <td>117355.37</td>\n",
       "      <td>2019-01-09</td>\n",
       "      <td>2</td>\n",
       "      <td>1</td>\n",
       "      <td>2019</td>\n",
       "      <td>другой</td>\n",
       "      <td>13.0</td>\n",
       "    </tr>\n",
       "  </tbody>\n",
       "</table>\n",
       "<p>20 rows × 29 columns</p>\n",
       "</div>"
      ],
      "text/plain": [
       "    total_images  last_price  total_area first_day_exposition  rooms  \\\n",
       "0             20  13000000.0      108.00           2019-03-07      3   \n",
       "1              7   3350000.0       40.40           2018-12-04      1   \n",
       "2             10   5196000.0       56.00           2015-08-20      2   \n",
       "3              0  64900000.0      159.00           2015-07-24      3   \n",
       "4              2  10000000.0      100.00           2018-06-19      2   \n",
       "5             10   2890000.0       30.40           2018-09-10      1   \n",
       "6              6   3700000.0       37.30           2017-11-02      1   \n",
       "7              5   7915000.0       71.60           2019-04-18      2   \n",
       "8             20   2900000.0       33.16           2018-05-23      1   \n",
       "9             18   5400000.0       61.00           2017-02-26      3   \n",
       "10             5   5050000.0       39.60           2017-11-16      1   \n",
       "11             9   3300000.0       44.00           2018-08-27      2   \n",
       "12            10   3890000.0       54.00           2016-06-30      2   \n",
       "13            20   3550000.0       42.80           2017-07-01      2   \n",
       "14             1   4400000.0       36.00           2016-06-23      1   \n",
       "15            16   4650000.0       39.00           2017-11-18      1   \n",
       "16            11   6700000.0       82.00           2017-11-23      3   \n",
       "17             6   4180000.0       36.00           2016-09-09      1   \n",
       "18             8   3250000.0       31.00           2017-01-27      1   \n",
       "19            16  14200000.0      121.00           2019-01-09      3   \n",
       "\n",
       "    ceiling_height  floors_total  living_area  floor  is_apartment  ...  \\\n",
       "0             2.70            16        51.00      8         False  ...   \n",
       "1             2.65            11        18.60      1         False  ...   \n",
       "2             2.65             5        34.30      4         False  ...   \n",
       "3             2.65            14          NaN      9         False  ...   \n",
       "4             3.03            14        32.00     13         False  ...   \n",
       "5             2.65            12        14.40      5         False  ...   \n",
       "6             2.65            26        10.60      6         False  ...   \n",
       "7             2.65            24          NaN     22         False  ...   \n",
       "8             2.65            27        15.43     26         False  ...   \n",
       "9             2.50             9        43.60      7         False  ...   \n",
       "10            2.67            12        20.30      3         False  ...   \n",
       "11            2.65             5        31.00      4         False  ...   \n",
       "12            2.65             5        30.00      5         False  ...   \n",
       "13            2.56             5        27.00      5         False  ...   \n",
       "14            2.65             6        17.00      1         False  ...   \n",
       "15            2.65            14        20.50      5         False  ...   \n",
       "16            3.05             5        55.60      1         False  ...   \n",
       "17            2.65            17        16.50      7         False  ...   \n",
       "18            2.50             5        19.40      2         False  ...   \n",
       "19            2.75            16        76.00      8         False  ...   \n",
       "\n",
       "    ponds_around3000  ponds_nearest  days_exposition  square_meter_price  \\\n",
       "0                  2          755.0              NaN           120370.37   \n",
       "1                  0            NaN             81.0            82920.79   \n",
       "2                  2          574.0            558.0            92785.71   \n",
       "3                  3          234.0            424.0           408176.10   \n",
       "4                  1           48.0            121.0           100000.00   \n",
       "5                  0            NaN             55.0            95065.79   \n",
       "6                  0            NaN            155.0            99195.71   \n",
       "7                  0            NaN              NaN           110544.69   \n",
       "8                  0            NaN            189.0            87454.76   \n",
       "9                  0            NaN            289.0            88524.59   \n",
       "10                 2          553.0            137.0           127525.25   \n",
       "11                 0            NaN              7.0            75000.00   \n",
       "12                 0            NaN             90.0            72037.04   \n",
       "13                 3          298.0            366.0            82943.93   \n",
       "14                 1           96.0            203.0           122222.22   \n",
       "15                 1          296.0             19.0           119230.77   \n",
       "16                 0            NaN            397.0            81707.32   \n",
       "17                 1          859.0            571.0           116111.11   \n",
       "18                 0            NaN            168.0           104838.71   \n",
       "19                 0            NaN             97.0           117355.37   \n",
       "\n",
       "         date  day_of_week  month  year  floor_value  cityCenters_nearest_km  \n",
       "0  2019-03-07            3      3  2019       другой                    16.0  \n",
       "1  2018-12-04            1     12  2018       первый                    19.0  \n",
       "2  2015-08-20            3      8  2015       другой                    14.0  \n",
       "3  2015-07-24            4      7  2015       другой                     7.0  \n",
       "4  2018-06-19            1      6  2018       другой                     8.0  \n",
       "5  2018-09-10            0      9  2018       другой                     NaN  \n",
       "6  2017-11-02            3     11  2017       другой                    19.0  \n",
       "7  2019-04-18            3      4  2019       другой                    12.0  \n",
       "8  2018-05-23            2      5  2018       другой                     NaN  \n",
       "9  2017-02-26            6      2  2017       другой                    15.0  \n",
       "10 2017-11-16            3     11  2017       другой                    14.0  \n",
       "11 2018-08-27            0      8  2018       другой                    52.0  \n",
       "12 2016-06-30            3      6  2016    последний                     NaN  \n",
       "13 2017-07-01            5      7  2017    последний                    33.0  \n",
       "14 2016-06-23            3      6  2016       первый                    31.0  \n",
       "15 2017-11-18            5     11  2017       другой                    14.0  \n",
       "16 2017-11-23            3     11  2017       первый                    11.0  \n",
       "17 2016-09-09            4      9  2016       другой                    15.0  \n",
       "18 2017-01-27            4      1  2017       другой                    11.0  \n",
       "19 2019-01-09            2      1  2019       другой                    13.0  \n",
       "\n",
       "[20 rows x 29 columns]"
      ]
     },
     "execution_count": 13,
     "metadata": {},
     "output_type": "execute_result"
    }
   ],
   "source": [
    "#Добавим в таблицу столбец square_meter_price (цена одного квадратного метра) и округлим до двух знаков после точки\n",
    "data['square_meter_price'] = data['last_price'] / data['total_area']\n",
    "data['square_meter_price'] = round(data['square_meter_price'], 2)\n",
    "\n",
    "#Создаем столбец с датой\n",
    "data['date'] = pd.to_datetime(data['first_day_exposition'], format='%Y-%m-%dT%H:%M:%S')#2019-03-07T00:00:00\n",
    "\n",
    "#Создаем столбец с днём недели\n",
    "data['day_of_week'] = data['date'].dt.weekday\n",
    "\n",
    "#Создаем столбец с месяцем\n",
    "data['month'] = data['date'].dt.month\n",
    "\n",
    "#Создаем столбец с годом\n",
    "data['year'] = data['date'].dt.year\n",
    "\n",
    "#Напишем функцию для определения значения этажа\n",
    "def floors(floor):\n",
    "    if floor['floor'] == 1:\n",
    "        return 'первый'\n",
    "    elif floor['floor'] == floor['floors_total']:\n",
    "        return 'последний'\n",
    "    else:\n",
    "        return 'другой'\n",
    "    \n",
    "#Создаем столбец со значением этажа\n",
    "data['floor_value'] = data.apply(floors, axis=1)\n",
    "\n",
    "#Создаем столбец с расстоянием до центра в км и округляем до целочисленных значений\n",
    "data['cityCenters_nearest_km'] = data['cityCenters_nearest'] / 1000\n",
    "data['cityCenters_nearest_km'] = round(data['cityCenters_nearest_km'])\n",
    "\n",
    "data.head(20)"
   ]
  },
  {
   "cell_type": "markdown",
   "metadata": {
    "id": "pPyxrKWTAwb-"
   },
   "source": [
    "### Проведите исследовательский анализ данных"
   ]
  },
  {
   "cell_type": "markdown",
   "metadata": {},
   "source": [
    "**1. Изучим параметры объектов и построим отдельные гистограммы для каждого из этих параметров.**"
   ]
  },
  {
   "cell_type": "code",
   "execution_count": 14,
   "metadata": {
    "id": "V2f0D3kLAwb-"
   },
   "outputs": [
    {
     "data": {
      "text/plain": [
       "2159"
      ]
     },
     "metadata": {},
     "output_type": "display_data"
    },
    {
     "data": {
      "text/plain": [
       "array([245.4 , 245.8 , 248.  , 248.7 , 249.  , 249.7 , 249.9 , 250.  ,\n",
       "       250.2 , 250.3 , 251.  , 253.  , 253.7 , 254.  , 255.  , 256.  ,\n",
       "       257.  , 259.2 , 259.6 , 260.  , 263.8 , 266.2 , 267.7 , 268.  ,\n",
       "       270.  , 272.6 , 274.  , 274.65, 275.  , 277.6 , 280.  , 280.3 ,\n",
       "       281.1 , 283.  , 283.3 , 284.  , 285.7 , 287.5 , 288.  , 290.  ,\n",
       "       290.6 , 292.2 , 293.6 , 295.  , 297.5 , 300.  , 301.9 , 304.  ,\n",
       "       307.8 , 309.7 , 310.  , 312.  , 313.  , 315.  , 316.3 , 317.  ,\n",
       "       320.  , 323.  , 327.2 , 336.  , 338.6 , 342.  , 347.  , 347.5 ,\n",
       "       356.  , 363.  , 363.1 , 364.  , 364.7 , 365.  , 371.  , 373.1 ,\n",
       "       374.  , 374.6 , 380.  , 398.  , 399.  , 400.  , 401.  , 402.  ,\n",
       "       410.  , 413.5 , 422.2 , 431.  , 441.98, 460.8 , 470.3 , 483.9 ,\n",
       "       488.  , 491.  , 494.1 , 495.  , 500.  , 507.  , 517.  , 590.  ,\n",
       "       618.  , 631.  , 631.2 , 900.  ])"
      ]
     },
     "metadata": {},
     "output_type": "display_data"
    },
    {
     "data": {
      "text/plain": [
       "Text(0, 0.5, 'Количество квартир')"
      ]
     },
     "execution_count": 14,
     "metadata": {},
     "output_type": "execute_result"
    },
    {
     "data": {
      "image/png": "[encoded data removed]",
      "text/plain": [
       "<Figure size 432x288 with 1 Axes>"
      ]
     },
     "metadata": {
      "needs_background": "light"
     },
     "output_type": "display_data"
    }
   ],
   "source": [
    "#Изучим столбец total_area на наличие аномальных значений и удалим их\n",
    "total_area_uniq = data['total_area'].sort_values().unique()\n",
    "display(len(total_area_uniq))\n",
    "display(total_area_uniq[len(total_area_uniq) - 100:len(total_area_uniq)])\n",
    "data = data[data['total_area'] <= 632]\n",
    "\n",
    "#Изучаем параметр - общая площадь квартир\n",
    "data['total_area'].hist(bins=30, range=(0, 150))\n",
    "plt.title('Общая площадь квартир')\n",
    "plt.xlabel('Количество квадратных метров')\n",
    "plt.ylabel('Количество квартир')"
   ]
  },
  {
   "cell_type": "markdown",
   "metadata": {},
   "source": [
    "**Вывод:** Большинство квартир укладывается в диапазон менее 150 квадратных метров. Наибольшее число квартир в 45 квадратных метров. Почти все квартиры больше 150 квадратных метров укладываются в распределение Пуассона, но их слишком мало для репрезентативной выборки."
   ]
  },
  {
   "cell_type": "code",
   "execution_count": 15,
   "metadata": {},
   "outputs": [
    {
     "data": {
      "text/plain": [
       "1769"
      ]
     },
     "metadata": {},
     "output_type": "display_data"
    },
    {
     "data": {
      "text/plain": [
       "array([145.4, 145.5, 145.9, 147. , 147.2, 148. , 148.6, 149.4, 150. ,\n",
       "       150.4, 150.8, 151. , 151.1, 151.4, 151.6, 152. , 153. , 153.9,\n",
       "       154. , 154.7, 155. , 155.1, 155.5, 157. , 159.2, 159.5, 159.6,\n",
       "       159.9, 160. , 160.1, 160.6, 161.4, 162. , 163.2, 163.5, 164.3,\n",
       "       164.7, 165. , 165.5, 166.7, 167. , 168.3, 170. , 170.8, 171. ,\n",
       "       174. , 174.3, 175. , 176.2, 176.6, 177. , 177.3, 179. , 179.2,\n",
       "       180. , 181.8, 182. , 182.8, 183. , 183.7, 184. , 184.9, 187. ,\n",
       "       187.9, 188.7, 189.4, 190. , 193. , 193.5, 194. , 195. , 198. ,\n",
       "       199. , 200. , 204. , 211. , 216. , 218. , 220. , 222. , 225.9,\n",
       "       230. , 239.4, 248.5, 248.7, 250. , 255.7, 258. , 260. , 264.5,\n",
       "       274. , 279.6, 300. , 301.5, 312.5, 322.3, 332. , 347.5, 409. ,\n",
       "         nan])"
      ]
     },
     "metadata": {},
     "output_type": "display_data"
    },
    {
     "data": {
      "text/plain": [
       "Text(0, 0.5, 'Количество квартир')"
      ]
     },
     "execution_count": 15,
     "metadata": {},
     "output_type": "execute_result"
    },
    {
     "data": {
      "image/png": "[encoded data removed]",
      "text/plain": [
       "<Figure size 432x288 with 1 Axes>"
      ]
     },
     "metadata": {
      "needs_background": "light"
     },
     "output_type": "display_data"
    }
   ],
   "source": [
    "#Изучим столбец living_area на наличие аномальных значений и удалим их\n",
    "living_area_uniq = data['living_area'].sort_values().unique()\n",
    "display(len(living_area_uniq))\n",
    "display(living_area_uniq[len(living_area_uniq) - 100:len(living_area_uniq)])\n",
    "\n",
    "#Изучаем параметр - жилая площадь квартир\n",
    "data['living_area'].hist(bins=30, range=(0, 100))\n",
    "plt.title('Жилая площадь квартир')\n",
    "plt.xlabel('Количество квадратных метров')\n",
    "plt.ylabel('Количество квартир')"
   ]
  },
  {
   "cell_type": "markdown",
   "metadata": {},
   "source": [
    "**Вывод:** На графике жилой площади видны три характерных пика около значений 20, 30 и 40 квадратных метров. Это может быть связано с типовой планировкой помещений. Больше 100 кв.м. жилой площади квартир практически нет."
   ]
  },
  {
   "cell_type": "code",
   "execution_count": 16,
   "metadata": {},
   "outputs": [
    {
     "data": {
      "text/plain": [
       "963"
      ]
     },
     "metadata": {},
     "output_type": "display_data"
    },
    {
     "data": {
      "text/plain": [
       "array([ 34.7 ,  34.78,  34.8 ,  35.  ,  35.05,  35.1 ,  35.35,  35.4 ,\n",
       "        35.5 ,  35.6 ,  35.7 ,  35.9 ,  36.  ,  36.2 ,  36.3 ,  36.4 ,\n",
       "        36.5 ,  36.6 ,  37.  ,  37.5 ,  37.6 ,  37.7 ,  37.78,  37.8 ,\n",
       "        37.9 ,  38.  ,  38.1 ,  38.86,  39.  ,  39.1 ,  39.7 ,  39.9 ,\n",
       "        40.  ,  40.1 ,  40.2 ,  40.3 ,  40.4 ,  40.5 ,  40.7 ,  41.  ,\n",
       "        41.1 ,  41.3 ,  41.9 ,  42.  ,  42.4 ,  42.5 ,  42.6 ,  42.7 ,\n",
       "        42.8 ,  43.  ,  43.2 ,  43.4 ,  43.8 ,  44.  ,  44.7 ,  44.9 ,\n",
       "        45.  ,  45.5 ,  46.  ,  46.8 ,  47.  ,  48.  ,  48.3 ,  48.5 ,\n",
       "        49.2 ,  49.4 ,  50.  ,  50.2 ,  51.  ,  51.8 ,  53.  ,  53.1 ,\n",
       "        54.  ,  54.2 ,  54.3 ,  55.5 ,  55.7 ,  56.  ,  56.2 ,  58.  ,\n",
       "        58.4 ,  60.  ,  62.  ,  62.5 ,  63.  ,  63.4 ,  64.  ,  65.  ,\n",
       "        66.  ,  70.  ,  72.  ,  75.  ,  77.  ,  87.2 ,  93.  ,  93.2 ,\n",
       "       100.  , 100.7 , 107.  ,    nan])"
      ]
     },
     "metadata": {},
     "output_type": "display_data"
    },
    {
     "data": {
      "text/plain": [
       "Text(0, 0.5, 'Количество квартир')"
      ]
     },
     "execution_count": 16,
     "metadata": {},
     "output_type": "execute_result"
    },
    {
     "data": {
      "image/png": "[encoded data removed]",
      "text/plain": [
       "<Figure size 432x288 with 1 Axes>"
      ]
     },
     "metadata": {
      "needs_background": "light"
     },
     "output_type": "display_data"
    }
   ],
   "source": [
    "#Изучим столбец kitchen_area на наличие аномальных значений и удалим их\n",
    "kitchen_area_uniq = data['kitchen_area'].sort_values().unique()\n",
    "display(len(kitchen_area_uniq))\n",
    "display(kitchen_area_uniq[len(kitchen_area_uniq) - 100:len(kitchen_area_uniq)])\n",
    "\n",
    "#Изучаем параметр - площадь кухни\n",
    "data['kitchen_area'].hist(bins=30, range=(0, 30))\n",
    "plt.title('Площадь кухни')\n",
    "plt.xlabel('Количество квадратных метров')\n",
    "plt.ylabel('Количество квартир')"
   ]
  },
  {
   "cell_type": "markdown",
   "metadata": {},
   "source": [
    "**Вывод:** На графике видны три пика около значений 6, 8 и 11 кв.м. Скорее всего это связано с типовой застройкой квартир. Больше всего кухонь в диапазоне от 5 до 15 метров. График урладывается в распределение Пуассона, при этом почти нет значений выше 30 кв.м."
   ]
  },
  {
   "cell_type": "code",
   "execution_count": 17,
   "metadata": {},
   "outputs": [
    {
     "data": {
      "text/plain": [
       "2924"
      ]
     },
     "metadata": {},
     "output_type": "display_data"
    },
    {
     "data": {
      "text/plain": [
       "array([5.0788000e+07, 5.1000000e+07, 5.2000000e+07, 5.3000000e+07,\n",
       "       5.3250000e+07, 5.3800000e+07, 5.4000000e+07, 5.5000000e+07,\n",
       "       5.5800000e+07, 5.5845000e+07, 5.5900000e+07, 5.5969724e+07,\n",
       "       5.6000000e+07, 5.6844500e+07, 5.7000000e+07, 5.7906000e+07,\n",
       "       5.8000000e+07, 5.8500000e+07, 5.9000000e+07, 5.9534892e+07,\n",
       "       5.9800000e+07, 5.9914124e+07, 6.0309900e+07, 6.0999000e+07,\n",
       "       6.2171920e+07, 6.2316000e+07, 6.3900000e+07, 6.4500000e+07,\n",
       "       6.4900000e+07, 6.4990000e+07, 6.5000000e+07, 6.5138176e+07,\n",
       "       6.5850000e+07, 6.6500000e+07, 6.6571000e+07, 6.7000000e+07,\n",
       "       6.8000000e+07, 6.8500000e+07, 7.1000000e+07, 7.2000000e+07,\n",
       "       7.2375000e+07, 7.3884056e+07, 7.3900000e+07, 7.4000000e+07,\n",
       "       7.5000000e+07, 7.6837000e+07, 7.7000000e+07, 7.7349000e+07,\n",
       "       7.7612080e+07, 7.9000000e+07, 7.9339000e+07, 8.0000000e+07,\n",
       "       8.1960000e+07, 8.2000000e+07, 8.2400000e+07, 8.3000000e+07,\n",
       "       8.3820000e+07, 8.4000000e+07, 8.4382000e+07, 8.5000000e+07,\n",
       "       8.6738800e+07, 8.7000000e+07, 8.8000000e+07, 9.0000000e+07,\n",
       "       9.1075000e+07, 9.1500000e+07, 9.5000000e+07, 9.6000000e+07,\n",
       "       9.8000000e+07, 9.9000000e+07, 1.1549000e+08, 1.1800000e+08,\n",
       "       1.1900000e+08, 1.2000000e+08, 1.2200000e+08, 1.2400000e+08,\n",
       "       1.2435000e+08, 1.2448000e+08, 1.2500000e+08, 1.3000000e+08,\n",
       "       1.3027828e+08, 1.3100000e+08, 1.3500000e+08, 1.4000000e+08,\n",
       "       1.4800000e+08, 1.5000000e+08, 1.5500000e+08, 1.5900000e+08,\n",
       "       1.5998400e+08, 1.6000000e+08, 1.8000000e+08, 1.9087000e+08,\n",
       "       2.3000000e+08, 2.4000000e+08, 2.4500000e+08, 2.8923840e+08,\n",
       "       3.0000000e+08, 3.3000000e+08, 4.0130000e+08, 7.6300000e+08])"
      ]
     },
     "metadata": {},
     "output_type": "display_data"
    },
    {
     "data": {
      "text/plain": [
       "Text(0, 0.5, 'Количество квартир')"
      ]
     },
     "execution_count": 17,
     "metadata": {},
     "output_type": "execute_result"
    },
    {
     "data": {
      "image/png": "[encoded data removed]",
      "text/plain": [
       "<Figure size 432x288 with 1 Axes>"
      ]
     },
     "metadata": {
      "needs_background": "light"
     },
     "output_type": "display_data"
    }
   ],
   "source": [
    "#Изучим столбец last_price на наличие аномальных значений и удалим их\n",
    "last_price_uniq = data['last_price'].sort_values().unique()\n",
    "display(len(last_price_uniq))\n",
    "display(last_price_uniq[len(last_price_uniq) - 100:len(last_price_uniq)])\n",
    "data = data[data['last_price'] <= 15000000]\n",
    "\n",
    "#Изучаем параметр - цена объекта\n",
    "data['last_price'].hist(bins=30, range=(0, 10000000))\n",
    "plt.title('Цена объекта')\n",
    "plt.xlabel('Цена')\n",
    "plt.ylabel('Количество квартир')"
   ]
  },
  {
   "cell_type": "markdown",
   "metadata": {},
   "source": [
    "**Вывод:** На графике видно пиковое значение около 4 миллионов. График укладывается в нормальное распределение. Все значения стоимости выше 10 миллионов можно убрать т.к. их очень мало."
   ]
  },
  {
   "cell_type": "code",
   "execution_count": 18,
   "metadata": {},
   "outputs": [
    {
     "data": {
      "text/plain": [
       "8"
      ]
     },
     "metadata": {},
     "output_type": "display_data"
    },
    {
     "data": {
      "text/plain": [
       "array([0, 1, 2, 3, 4, 5, 6, 7])"
      ]
     },
     "metadata": {},
     "output_type": "display_data"
    },
    {
     "data": {
      "text/plain": [
       "Text(0, 0.5, 'Количество квартир')"
      ]
     },
     "execution_count": 18,
     "metadata": {},
     "output_type": "execute_result"
    },
    {
     "data": {
      "image/png": "[encoded data removed]",
      "text/plain": [
       "<Figure size 432x288 with 1 Axes>"
      ]
     },
     "metadata": {
      "needs_background": "light"
     },
     "output_type": "display_data"
    }
   ],
   "source": [
    "#Изучим столбец rooms на наличие аномальных значений и удалим их\n",
    "rooms_uniq = data['rooms'].sort_values().unique()\n",
    "display(len(rooms_uniq))\n",
    "display(rooms_uniq)\n",
    "data = data[(data['rooms'] > 0) & (data['rooms'] <= 6)]\n",
    "\n",
    "#Изучаем параметр - цена объекта\n",
    "data['rooms'].hist(bins=30, range=(1, 3))\n",
    "plt.title('Количество комнат')\n",
    "plt.xlabel('Количество комнат')\n",
    "plt.ylabel('Количество квартир')"
   ]
  },
  {
   "cell_type": "markdown",
   "metadata": {},
   "source": [
    "**Вывод:** В столбце количество комнат чаще всего встречаются значения 1, 2 и 3 комнаты. Квартир с комнатами больше 3 практически нет. Больше всего квартир с одной комнатой, меньше всего - с тремя. "
   ]
  },
  {
   "cell_type": "code",
   "execution_count": 19,
   "metadata": {},
   "outputs": [
    {
     "data": {
      "text/plain": [
       "166"
      ]
     },
     "metadata": {},
     "output_type": "display_data"
    },
    {
     "data": {
      "text/plain": [
       "array([  1.  ,   1.2 ,   1.75,   2.  ,   2.2 ,   2.25,   2.3 ,   2.34,\n",
       "         2.4 ,   2.45,   2.46,   2.47,   2.48,   2.49,   2.5 ,   2.51,\n",
       "         2.52,   2.53,   2.54,   2.55,   2.56,   2.57,   2.58,   2.59,\n",
       "         2.6 ,   2.61,   2.62,   2.63,   2.64,   2.65,   2.66,   2.67,\n",
       "         2.68,   2.69,   2.7 ,   2.71,   2.72,   2.73,   2.74,   2.75,\n",
       "         2.76,   2.77,   2.78,   2.79,   2.8 ,   2.81,   2.82,   2.83,\n",
       "         2.84,   2.85,   2.86,   2.87,   2.88,   2.89,   2.9 ,   2.91,\n",
       "         2.92,   2.93,   2.94,   2.95,   2.96,   2.97,   2.98,   2.99,\n",
       "         3.  ,   3.01,   3.02,   3.03,   3.04,   3.05,   3.06,   3.07,\n",
       "         3.08,   3.09,   3.1 ,   3.11,   3.12,   3.13,   3.14,   3.15,\n",
       "         3.16,   3.17,   3.18,   3.2 ,   3.21,   3.22,   3.23,   3.24,\n",
       "         3.25,   3.26,   3.27,   3.28,   3.3 ,   3.31,   3.32,   3.33,\n",
       "         3.34,   3.35,   3.36,   3.37,   3.38,   3.39,   3.4 ,   3.42,\n",
       "         3.44,   3.45,   3.46,   3.47,   3.48,   3.49,   3.5 ,   3.52,\n",
       "         3.53,   3.54,   3.55,   3.56,   3.57,   3.59,   3.6 ,   3.62,\n",
       "         3.63,   3.65,   3.66,   3.67,   3.68,   3.7 ,   3.75,   3.78,\n",
       "         3.8 ,   3.83,   3.84,   3.85,   3.88,   3.9 ,   3.93,   3.95,\n",
       "         3.98,   4.  ,   4.06,   4.1 ,   4.14,   4.15,   4.19,   4.2 ,\n",
       "         4.25,   4.3 ,   4.37,   4.4 ,   4.5 ,   4.7 ,   4.8 ,   5.  ,\n",
       "         5.3 ,   8.  ,   8.3 ,  10.3 ,  14.  ,  20.  ,  22.6 ,  24.  ,\n",
       "        25.  ,  26.  ,  27.  ,  27.5 ,  32.  , 100.  ])"
      ]
     },
     "metadata": {},
     "output_type": "display_data"
    },
    {
     "data": {
      "text/plain": [
       "Text(0, 0.5, 'Количество квартир')"
      ]
     },
     "execution_count": 19,
     "metadata": {},
     "output_type": "execute_result"
    },
    {
     "data": {
      "image/png": "[encoded data removed]",
      "text/plain": [
       "<Figure size 432x288 with 1 Axes>"
      ]
     },
     "metadata": {
      "needs_background": "light"
     },
     "output_type": "display_data"
    }
   ],
   "source": [
    "#Изучим столбец ceiling_height на наличие аномальных значений и удалим их\n",
    "ceiling_height_uniq = data['ceiling_height'].sort_values().unique()\n",
    "display(len(ceiling_height_uniq))\n",
    "display(ceiling_height_uniq[0:len(ceiling_height_uniq)])\n",
    "\n",
    "#Заменим выбивающиеся значения на реальные и удалим аномальные значения\n",
    "data['ceiling_height'] = data['ceiling_height'].replace(to_replace=24, value=2.4)\n",
    "data['ceiling_height'] = data['ceiling_height'].replace(to_replace=25, value=2.5)\n",
    "data['ceiling_height'] = data['ceiling_height'].replace(to_replace=26, value=2.6)\n",
    "data['ceiling_height'] = data['ceiling_height'].replace(to_replace=27, value=2.7)\n",
    "data = data[(data['ceiling_height'] >= 2.2) & (data['ceiling_height'] <= 5)]\n",
    "\n",
    "#Изучаем параметр - высота потолков\n",
    "data['ceiling_height'].hist(bins=30, range=(2, 4))\n",
    "plt.title('Высота потолков')\n",
    "plt.xlabel('Высота в метрах')\n",
    "plt.ylabel('Количество квартир')"
   ]
  },
  {
   "cell_type": "markdown",
   "metadata": {},
   "source": [
    "**Вывод:** На графике видно три пика около 2.5, 2.6 и 3 метров. Мы удалили аномальные значения меньше 2.2 и больше 5 метров.\n",
    "При этом квартир с высотой потолка 2.6 больше, чем всех остальных. Скорее всего это происходит из-за типовой планировки квартир."
   ]
  },
  {
   "cell_type": "code",
   "execution_count": 20,
   "metadata": {},
   "outputs": [
    {
     "data": {
      "text/plain": [
       "array(['другой', 'первый', 'последний'], dtype=object)"
      ]
     },
     "metadata": {},
     "output_type": "display_data"
    },
    {
     "data": {
      "text/plain": [
       "Text(0, 0.5, 'Количество квартир')"
      ]
     },
     "execution_count": 20,
     "metadata": {},
     "output_type": "execute_result"
    },
    {
     "data": {
      "image/png": "[encoded data removed]",
      "text/plain": [
       "<Figure size 432x288 with 1 Axes>"
      ]
     },
     "metadata": {
      "needs_background": "light"
     },
     "output_type": "display_data"
    }
   ],
   "source": [
    "##Изучим столбец floor_value на наличие аномальных значений и удалим их\n",
    "display(data['floor_value'].unique())\n",
    "\n",
    "#Изучаем параметр - тип этажа квартиры\n",
    "data['floor_value'].hist(bins=30)\n",
    "plt.title('Тип этажа квартиры')\n",
    "plt.xlabel('Тип этажа квартиры')\n",
    "plt.ylabel('Количество квартир')"
   ]
  },
  {
   "cell_type": "markdown",
   "metadata": {},
   "source": [
    "**Вывод:**"
   ]
  },
  {
   "cell_type": "code",
   "execution_count": 21,
   "metadata": {},
   "outputs": [
    {
     "data": {
      "text/plain": [
       "35"
      ]
     },
     "metadata": {},
     "output_type": "display_data"
    },
    {
     "data": {
      "text/plain": [
       "array([ 1,  2,  3,  4,  5,  6,  7,  8,  9, 10, 11, 12, 13, 14, 15, 16, 17,\n",
       "       18, 19, 20, 21, 22, 23, 24, 25, 26, 27, 28, 29, 33, 34, 35, 36, 52,\n",
       "       60])"
      ]
     },
     "metadata": {},
     "output_type": "display_data"
    },
    {
     "data": {
      "text/plain": [
       "Text(0, 0.5, 'Количество квартир')"
      ]
     },
     "execution_count": 21,
     "metadata": {},
     "output_type": "execute_result"
    },
    {
     "data": {
      "image/png": "[encoded data removed]",
      "text/plain": [
       "<Figure size 432x288 with 1 Axes>"
      ]
     },
     "metadata": {
      "needs_background": "light"
     },
     "output_type": "display_data"
    }
   ],
   "source": [
    "#Изучим столбец floors_total на наличие аномальных значений и удалим их\n",
    "floors_total_uniq = data['floors_total'].sort_values().unique()\n",
    "display(len(floors_total_uniq))\n",
    "display(floors_total_uniq[len(floors_total_uniq) - 100:len(floors_total_uniq)])\n",
    "\n",
    "#Изучаем параметр - общее количество этажей в доме\n",
    "data['floors_total'].hist(bins=30, range=(0, 30))\n",
    "plt.title('Этажи')\n",
    "plt.xlabel('Количество этажей в доме')\n",
    "plt.ylabel('Количество квартир')"
   ]
  },
  {
   "cell_type": "markdown",
   "metadata": {},
   "source": [
    "**Вывод:** На графике видны пики соответствующие типовой застройке, т.е. 5, 9, 12, 16, 25 этажные здания. Больше всего пятиэтажных зданий."
   ]
  },
  {
   "cell_type": "code",
   "execution_count": 22,
   "metadata": {},
   "outputs": [
    {
     "data": {
      "text/plain": [
       "7279"
      ]
     },
     "metadata": {},
     "output_type": "display_data"
    },
    {
     "data": {
      "text/plain": [
       "array([51153., 51159., 51175., 51198., 51227., 51308., 51323., 51329.,\n",
       "       51335., 51337., 51341., 51345., 51353., 51368., 51399., 51401.,\n",
       "       51410., 51411., 51413., 51415., 51418., 51440., 51500., 51511.,\n",
       "       51522., 51544., 51626., 51627., 51629., 51677., 51704., 51730.,\n",
       "       51735., 51772., 51818., 51831., 51849., 51865., 51874., 51879.,\n",
       "       51891., 51917., 51926., 51982., 52010., 52024., 52073., 52098.,\n",
       "       52118., 52120., 52136., 52143., 52179., 52206., 52222., 52259.,\n",
       "       52304., 52328., 52334., 52380., 52628., 52696., 52716., 52717.,\n",
       "       52768., 52818., 52858., 52895., 52900., 52943., 52968., 52974.,\n",
       "       53028., 53078., 53088., 53104., 53132., 53138., 53177., 53294.,\n",
       "       53379., 53383., 53568., 54214., 54490., 54646., 54926., 56745.,\n",
       "       59052., 59626., 60223., 61495., 62454., 62706., 64857., 65105.,\n",
       "       65764., 65952., 65968.,    nan])"
      ]
     },
     "metadata": {},
     "output_type": "display_data"
    },
    {
     "data": {
      "text/plain": [
       "Text(0, 0.5, 'Количество квартир')"
      ]
     },
     "execution_count": 22,
     "metadata": {},
     "output_type": "execute_result"
    },
    {
     "data": {
      "image/png": "[encoded data removed]",
      "text/plain": [
       "<Figure size 432x288 with 1 Axes>"
      ]
     },
     "metadata": {
      "needs_background": "light"
     },
     "output_type": "display_data"
    }
   ],
   "source": [
    "#Изучим столбец cityCenters_nearest на наличие аномальных значений и удалим их\n",
    "cityCenters_nearest_uniq = data['cityCenters_nearest'].sort_values().unique()\n",
    "display(len(cityCenters_nearest_uniq))\n",
    "display(cityCenters_nearest_uniq[len(cityCenters_nearest_uniq) - 100:len(cityCenters_nearest_uniq)])\n",
    "\n",
    "#Изучаем параметр - расстояние до центра города в метрах\n",
    "data['cityCenters_nearest'].hist(bins=30, range=(0, 55000))\n",
    "plt.title('Расстояние до центра города')\n",
    "plt.xlabel('Расстояние до центра города в метрах')\n",
    "plt.ylabel('Количество квартир')"
   ]
  },
  {
   "cell_type": "markdown",
   "metadata": {},
   "source": [
    "**Вывод:** На графике виден большой пик около 12000 метров. Большая часть квартир находится в 12 км от центра города. Есть так же небольшие пики в районе 30000 м. и 50000 м."
   ]
  },
  {
   "cell_type": "code",
   "execution_count": 23,
   "metadata": {},
   "outputs": [
    {
     "data": {
      "text/plain": [
       "981"
      ]
     },
     "metadata": {},
     "output_type": "display_data"
    },
    {
     "data": {
      "text/plain": [
       "array([1077., 1079., 1086., 1094., 1097., 1098., 1103., 1114., 1120.,\n",
       "       1133., 1145., 1148., 1150., 1167., 1181., 1186., 1188., 1190.,\n",
       "       1191., 1199., 1200., 1205., 1211., 1213., 1215., 1228., 1248.,\n",
       "       1256., 1262., 1264., 1270., 1272., 1299., 1304., 1312., 1326.,\n",
       "       1342., 1354., 1361., 1362., 1364., 1400., 1416., 1423., 1424.,\n",
       "       1443., 1477., 1481., 1496., 1499., 1501., 1510., 1514., 1564.,\n",
       "       1568., 1586., 1596., 1620., 1648., 1657., 1722., 1731., 1756.,\n",
       "       1767., 1790., 1798., 1802., 1887., 1909., 1942., 1951., 2026.,\n",
       "       2066., 2102., 2131., 2137., 2209., 2245., 2276., 2295., 2348.,\n",
       "       2416., 2427., 2467., 2489., 2532., 2555., 2633., 2665., 2711.,\n",
       "       2747., 2768., 2847., 2880., 2888., 2984., 3013., 3064., 3190.,\n",
       "         nan])"
      ]
     },
     "metadata": {},
     "output_type": "display_data"
    },
    {
     "data": {
      "text/plain": [
       "Text(0, 0.5, 'Количество квартир')"
      ]
     },
     "execution_count": 23,
     "metadata": {},
     "output_type": "execute_result"
    },
    {
     "data": {
      "image/png": "[encoded data removed]",
      "text/plain": [
       "<Figure size 432x288 with 1 Axes>"
      ]
     },
     "metadata": {
      "needs_background": "light"
     },
     "output_type": "display_data"
    }
   ],
   "source": [
    "#Изучим столбец parks_nearest на наличие аномальных значений и удалим их\n",
    "parks_nearest_uniq = data['parks_nearest'].sort_values().unique()\n",
    "display(len(parks_nearest_uniq))\n",
    "display(parks_nearest_uniq[len(parks_nearest_uniq) - 100:len(parks_nearest_uniq)])\n",
    "\n",
    "#Изучаем параметр - расстояние до ближайшего парка\n",
    "data['parks_nearest'].hist(bins=30, range=(0, 1500))\n",
    "plt.title('Ближайший парк')\n",
    "plt.xlabel('Расстояние до ближайшего парка в метрах')\n",
    "plt.ylabel('Количество квартир')"
   ]
  },
  {
   "cell_type": "markdown",
   "metadata": {},
   "source": [
    "**Вывод:** Больше всего квартир с расстоянием до парка в 500 метров. Чаще всего встречаются парки на расстоянии от 200 м. до 700 м. После 900 м. парков почти нет."
   ]
  },
  {
   "cell_type": "code",
   "execution_count": 24,
   "metadata": {},
   "outputs": [
    {
     "data": {
      "text/plain": [
       "0.0657411705135238"
      ]
     },
     "execution_count": 24,
     "metadata": {},
     "output_type": "execute_result"
    }
   ],
   "source": [
    "1 - (data['last_price'].count() / 23699)"
   ]
  },
  {
   "cell_type": "markdown",
   "metadata": {},
   "source": [
    "<div class=\"alert alert-info\">\n",
    "<b>Доля удаленных данных равна 6.5%."
   ]
  },
  {
   "cell_type": "markdown",
   "metadata": {},
   "source": [
    "**2. Изучим, как быстро продавались квартиры.**"
   ]
  },
  {
   "cell_type": "code",
   "execution_count": 37,
   "metadata": {},
   "outputs": [
    {
     "name": "stdout",
     "output_type": "stream",
     "text": [
      "Среднее: 177\n",
      "Медиана: 93\n"
     ]
    },
    {
     "data": {
      "text/plain": [
       "count    19348.000000\n",
       "mean       176.819516\n",
       "std        215.547159\n",
       "min          1.000000\n",
       "25%         44.000000\n",
       "50%         93.000000\n",
       "75%        225.000000\n",
       "max       1580.000000\n",
       "Name: days_exposition, dtype: float64"
      ]
     },
     "execution_count": 37,
     "metadata": {},
     "output_type": "execute_result"
    },
    {
     "data": {
      "image/png": "[encoded data removed]",
      "text/plain": [
       "<Figure size 432x288 with 1 Axes>"
      ]
     },
     "metadata": {
      "needs_background": "light"
     },
     "output_type": "display_data"
    }
   ],
   "source": [
    "#Вычислим среднее и медиану для столбца days_exposition (сколько дней было размещено объявление)\n",
    "print('Среднее:', round(data['days_exposition'].mean()))\n",
    "print('Медиана:', round(data['days_exposition'].median()))\n",
    "\n",
    "#Построим гистограмму для столбца days_exposition (сколько дней было размещено объявление)\n",
    "data['days_exposition'].hist(bins=30, range=(0, 600))\n",
    "plt.title('Сколько дней было размещено объявление')\n",
    "plt.xlabel('Количество дней')\n",
    "plt.ylabel('Количество квартир')\n",
    "data['days_exposition'].describe()"
   ]
  },
  {
   "cell_type": "markdown",
   "metadata": {},
   "source": [
    "<div class=\"alert alert-info\">\n",
    "<b>**Вывод:** Опираясь на квартили определим быстрые и долгие продажи. Чаще всего квартиры продаются за период около 93 дней. Быстрыми можно считать продажи за 44 дней. Медленными можно считать продажи длительнее 225 дней."
   ]
  },
  {
   "cell_type": "markdown",
   "metadata": {},
   "source": [
    "**3. Определим факторы, которые больше всего влияют на общую (полную) стоимость объекта.**"
   ]
  },
  {
   "cell_type": "code",
   "execution_count": 26,
   "metadata": {},
   "outputs": [
    {
     "data": {
      "text/html": [
       "<div>\n",
       "<style scoped>\n",
       "    .dataframe tbody tr th:only-of-type {\n",
       "        vertical-align: middle;\n",
       "    }\n",
       "\n",
       "    .dataframe tbody tr th {\n",
       "        vertical-align: top;\n",
       "    }\n",
       "\n",
       "    .dataframe thead th {\n",
       "        text-align: right;\n",
       "    }\n",
       "</style>\n",
       "<table border=\"1\" class=\"dataframe\">\n",
       "  <thead>\n",
       "    <tr style=\"text-align: right;\">\n",
       "      <th></th>\n",
       "      <th>Цена на момент снятия с публикации</th>\n",
       "    </tr>\n",
       "    <tr>\n",
       "      <th>total_area</th>\n",
       "      <th></th>\n",
       "    </tr>\n",
       "  </thead>\n",
       "  <tbody>\n",
       "    <tr>\n",
       "      <th>28.66</th>\n",
       "      <td>690000.0</td>\n",
       "    </tr>\n",
       "    <tr>\n",
       "      <th>14.00</th>\n",
       "      <td>1190000.0</td>\n",
       "    </tr>\n",
       "    <tr>\n",
       "      <th>25.90</th>\n",
       "      <td>1200000.0</td>\n",
       "    </tr>\n",
       "    <tr>\n",
       "      <th>29.62</th>\n",
       "      <td>1300000.0</td>\n",
       "    </tr>\n",
       "    <tr>\n",
       "      <th>54.33</th>\n",
       "      <td>1300000.0</td>\n",
       "    </tr>\n",
       "    <tr>\n",
       "      <th>...</th>\n",
       "      <td>...</td>\n",
       "    </tr>\n",
       "    <tr>\n",
       "      <th>157.00</th>\n",
       "      <td>14990000.0</td>\n",
       "    </tr>\n",
       "    <tr>\n",
       "      <th>108.80</th>\n",
       "      <td>14990000.0</td>\n",
       "    </tr>\n",
       "    <tr>\n",
       "      <th>187.30</th>\n",
       "      <td>15000000.0</td>\n",
       "    </tr>\n",
       "    <tr>\n",
       "      <th>102.18</th>\n",
       "      <td>15000000.0</td>\n",
       "    </tr>\n",
       "    <tr>\n",
       "      <th>197.20</th>\n",
       "      <td>15000000.0</td>\n",
       "    </tr>\n",
       "  </tbody>\n",
       "</table>\n",
       "<p>1757 rows × 1 columns</p>\n",
       "</div>"
      ],
      "text/plain": [
       "            Цена на момент снятия с публикации\n",
       "total_area                                    \n",
       "28.66                                 690000.0\n",
       "14.00                                1190000.0\n",
       "25.90                                1200000.0\n",
       "29.62                                1300000.0\n",
       "54.33                                1300000.0\n",
       "...                                        ...\n",
       "157.00                              14990000.0\n",
       "108.80                              14990000.0\n",
       "187.30                              15000000.0\n",
       "102.18                              15000000.0\n",
       "197.20                              15000000.0\n",
       "\n",
       "[1757 rows x 1 columns]"
      ]
     },
     "metadata": {},
     "output_type": "display_data"
    },
    {
     "name": "stdout",
     "output_type": "stream",
     "text": [
      "Корреляция: 0.7418180020797558\n"
     ]
    },
    {
     "data": {
      "image/png": "[encoded data removed]",
      "text/plain": [
       "<Figure size 432x288 with 1 Axes>"
      ]
     },
     "metadata": {
      "needs_background": "light"
     },
     "output_type": "display_data"
    }
   ],
   "source": [
    "#Построим сводную таблицу зависимости цены от общей площади\n",
    "price_total_area = data.pivot_table(index='total_area', values='last_price')\n",
    "price_total_area = price_total_area.sort_values('last_price')\n",
    "price_total_area.columns = ['Цена на момент снятия с публикации']\n",
    "display(price_total_area)\n",
    "\n",
    "#Построим график зависимости цены от общей площади\n",
    "price_total_area.plot(style='o', grid=True)\n",
    "plt.title('Зависимость цены от общей площади')\n",
    "plt.xlabel('Общая площадь в квадратных метрах')\n",
    "plt.ylabel('Цена в 10 млн.')\n",
    "\n",
    "#Посчитаем корреляцию цены от общей площади\n",
    "print('Корреляция:', data['total_area'].corr(data['last_price']))"
   ]
  },
  {
   "cell_type": "markdown",
   "metadata": {},
   "source": [
    "**Вывод:** Существует высокая положительная корреляция цены от общей площади квартиры: чем больше площадь, тем выше цена."
   ]
  },
  {
   "cell_type": "code",
   "execution_count": 27,
   "metadata": {},
   "outputs": [
    {
     "data": {
      "text/html": [
       "<div>\n",
       "<style scoped>\n",
       "    .dataframe tbody tr th:only-of-type {\n",
       "        vertical-align: middle;\n",
       "    }\n",
       "\n",
       "    .dataframe tbody tr th {\n",
       "        vertical-align: top;\n",
       "    }\n",
       "\n",
       "    .dataframe thead th {\n",
       "        text-align: right;\n",
       "    }\n",
       "</style>\n",
       "<table border=\"1\" class=\"dataframe\">\n",
       "  <thead>\n",
       "    <tr style=\"text-align: right;\">\n",
       "      <th></th>\n",
       "      <th>Цена на момент снятия с публикации</th>\n",
       "    </tr>\n",
       "    <tr>\n",
       "      <th>living_area</th>\n",
       "      <th></th>\n",
       "    </tr>\n",
       "  </thead>\n",
       "  <tbody>\n",
       "    <tr>\n",
       "      <th>20.97</th>\n",
       "      <td>990000.0</td>\n",
       "    </tr>\n",
       "    <tr>\n",
       "      <th>10.94</th>\n",
       "      <td>1550000.0</td>\n",
       "    </tr>\n",
       "    <tr>\n",
       "      <th>12.81</th>\n",
       "      <td>1690715.0</td>\n",
       "    </tr>\n",
       "    <tr>\n",
       "      <th>18.11</th>\n",
       "      <td>1695000.0</td>\n",
       "    </tr>\n",
       "    <tr>\n",
       "      <th>16.31</th>\n",
       "      <td>1700000.0</td>\n",
       "    </tr>\n",
       "    <tr>\n",
       "      <th>...</th>\n",
       "      <td>...</td>\n",
       "    </tr>\n",
       "    <tr>\n",
       "      <th>94.90</th>\n",
       "      <td>14990000.0</td>\n",
       "    </tr>\n",
       "    <tr>\n",
       "      <th>98.90</th>\n",
       "      <td>14990000.0</td>\n",
       "    </tr>\n",
       "    <tr>\n",
       "      <th>145.40</th>\n",
       "      <td>15000000.0</td>\n",
       "    </tr>\n",
       "    <tr>\n",
       "      <th>112.40</th>\n",
       "      <td>15000000.0</td>\n",
       "    </tr>\n",
       "    <tr>\n",
       "      <th>106.20</th>\n",
       "      <td>15000000.0</td>\n",
       "    </tr>\n",
       "  </tbody>\n",
       "</table>\n",
       "<p>1467 rows × 1 columns</p>\n",
       "</div>"
      ],
      "text/plain": [
       "             Цена на момент снятия с публикации\n",
       "living_area                                    \n",
       "20.97                                  990000.0\n",
       "10.94                                 1550000.0\n",
       "12.81                                 1690715.0\n",
       "18.11                                 1695000.0\n",
       "16.31                                 1700000.0\n",
       "...                                         ...\n",
       "94.90                                14990000.0\n",
       "98.90                                14990000.0\n",
       "145.40                               15000000.0\n",
       "112.40                               15000000.0\n",
       "106.20                               15000000.0\n",
       "\n",
       "[1467 rows x 1 columns]"
      ]
     },
     "metadata": {},
     "output_type": "display_data"
    },
    {
     "name": "stdout",
     "output_type": "stream",
     "text": [
      "Корреляция: 0.6318727705035184\n"
     ]
    },
    {
     "data": {
      "image/png": "[encoded data removed]",
      "text/plain": [
       "<Figure size 432x288 with 1 Axes>"
      ]
     },
     "metadata": {
      "needs_background": "light"
     },
     "output_type": "display_data"
    }
   ],
   "source": [
    "#Построим сводную таблицу зависимости цены от жилой площади\n",
    "price_living_area = data.pivot_table(index='living_area', values='last_price')\n",
    "price_living_area = price_living_area.sort_values('last_price')\n",
    "price_living_area.columns = ['Цена на момент снятия с публикации']\n",
    "display(price_living_area)\n",
    "\n",
    "#Построим график зависимости цены от жилой площади\n",
    "price_living_area.plot(style='o', grid=True)\n",
    "plt.title('Зависимость цены от жилой площади')\n",
    "plt.xlabel('Жилая площадь в квадратных метрах')\n",
    "plt.ylabel('Цена в 10 млн.')\n",
    "\n",
    "#Посчитаем корреляцию цены от жилой площади\n",
    "print('Корреляция:', data['living_area'].corr(data['last_price']))"
   ]
  },
  {
   "cell_type": "markdown",
   "metadata": {},
   "source": [
    "**Вывод:** Мы наблюдаем высокую положительную корреляцию. Чем больше жилая площадь, тем больше цена квартиры."
   ]
  },
  {
   "cell_type": "code",
   "execution_count": 28,
   "metadata": {},
   "outputs": [
    {
     "data": {
      "text/html": [
       "<div>\n",
       "<style scoped>\n",
       "    .dataframe tbody tr th:only-of-type {\n",
       "        vertical-align: middle;\n",
       "    }\n",
       "\n",
       "    .dataframe tbody tr th {\n",
       "        vertical-align: top;\n",
       "    }\n",
       "\n",
       "    .dataframe thead th {\n",
       "        text-align: right;\n",
       "    }\n",
       "</style>\n",
       "<table border=\"1\" class=\"dataframe\">\n",
       "  <thead>\n",
       "    <tr style=\"text-align: right;\">\n",
       "      <th></th>\n",
       "      <th>Цена на момент снятия с публикации</th>\n",
       "    </tr>\n",
       "    <tr>\n",
       "      <th>kitchen_area</th>\n",
       "      <th></th>\n",
       "    </tr>\n",
       "  </thead>\n",
       "  <tbody>\n",
       "    <tr>\n",
       "      <th>40.50</th>\n",
       "      <td>12190.0</td>\n",
       "    </tr>\n",
       "    <tr>\n",
       "      <th>5.91</th>\n",
       "      <td>1300000.0</td>\n",
       "    </tr>\n",
       "    <tr>\n",
       "      <th>6.73</th>\n",
       "      <td>1718857.0</td>\n",
       "    </tr>\n",
       "    <tr>\n",
       "      <th>6.22</th>\n",
       "      <td>1720000.0</td>\n",
       "    </tr>\n",
       "    <tr>\n",
       "      <th>5.14</th>\n",
       "      <td>1800000.0</td>\n",
       "    </tr>\n",
       "    <tr>\n",
       "      <th>...</th>\n",
       "      <td>...</td>\n",
       "    </tr>\n",
       "    <tr>\n",
       "      <th>31.70</th>\n",
       "      <td>14500000.0</td>\n",
       "    </tr>\n",
       "    <tr>\n",
       "      <th>34.30</th>\n",
       "      <td>14500000.0</td>\n",
       "    </tr>\n",
       "    <tr>\n",
       "      <th>3.70</th>\n",
       "      <td>14948000.0</td>\n",
       "    </tr>\n",
       "    <tr>\n",
       "      <th>25.60</th>\n",
       "      <td>14950000.0</td>\n",
       "    </tr>\n",
       "    <tr>\n",
       "      <th>37.80</th>\n",
       "      <td>15000000.0</td>\n",
       "    </tr>\n",
       "  </tbody>\n",
       "</table>\n",
       "<p>818 rows × 1 columns</p>\n",
       "</div>"
      ],
      "text/plain": [
       "              Цена на момент снятия с публикации\n",
       "kitchen_area                                    \n",
       "40.50                                    12190.0\n",
       "5.91                                   1300000.0\n",
       "6.73                                   1718857.0\n",
       "6.22                                   1720000.0\n",
       "5.14                                   1800000.0\n",
       "...                                          ...\n",
       "31.70                                 14500000.0\n",
       "34.30                                 14500000.0\n",
       "3.70                                  14948000.0\n",
       "25.60                                 14950000.0\n",
       "37.80                                 15000000.0\n",
       "\n",
       "[818 rows x 1 columns]"
      ]
     },
     "metadata": {},
     "output_type": "display_data"
    },
    {
     "name": "stdout",
     "output_type": "stream",
     "text": [
      "Корреляция: 0.5342966185883476\n"
     ]
    },
    {
     "data": {
      "image/png": "[encoded data removed]",
      "text/plain": [
       "<Figure size 432x288 with 1 Axes>"
      ]
     },
     "metadata": {
      "needs_background": "light"
     },
     "output_type": "display_data"
    }
   ],
   "source": [
    "#Построим сводную таблицу зависимости цены от площади кухни\n",
    "price_kitchen_area = data.pivot_table(index='kitchen_area', values='last_price')\n",
    "price_kitchen_area = price_kitchen_area.sort_values('last_price')\n",
    "price_kitchen_area.columns = ['Цена на момент снятия с публикации']\n",
    "display(price_kitchen_area)\n",
    "\n",
    "#Построим график зависимости цены от площади кухни\n",
    "price_kitchen_area.plot(style='o', grid=True)\n",
    "plt.title('Зависимость цены от площади кухни')\n",
    "plt.xlabel('Площадь кухни в квадратных метрах')\n",
    "plt.ylabel('Цена в 10 млн.')\n",
    "\n",
    "#Посчитаем корреляцию цены от площади кухни\n",
    "print('Корреляция:', data['kitchen_area'].corr(data['last_price']))"
   ]
  },
  {
   "cell_type": "markdown",
   "metadata": {},
   "source": [
    "**Вывод:** Здесь мы так же видим высокую положительную корреляцию, чем больше площадь кухни, тем больше цена."
   ]
  },
  {
   "cell_type": "code",
   "execution_count": 29,
   "metadata": {},
   "outputs": [
    {
     "data": {
      "text/html": [
       "<div>\n",
       "<style scoped>\n",
       "    .dataframe tbody tr th:only-of-type {\n",
       "        vertical-align: middle;\n",
       "    }\n",
       "\n",
       "    .dataframe tbody tr th {\n",
       "        vertical-align: top;\n",
       "    }\n",
       "\n",
       "    .dataframe thead th {\n",
       "        text-align: right;\n",
       "    }\n",
       "</style>\n",
       "<table border=\"1\" class=\"dataframe\">\n",
       "  <thead>\n",
       "    <tr style=\"text-align: right;\">\n",
       "      <th></th>\n",
       "      <th>Цена на момент снятия с публикации</th>\n",
       "    </tr>\n",
       "    <tr>\n",
       "      <th>rooms</th>\n",
       "      <th></th>\n",
       "    </tr>\n",
       "  </thead>\n",
       "  <tbody>\n",
       "    <tr>\n",
       "      <th>1</th>\n",
       "      <td>3.781534e+06</td>\n",
       "    </tr>\n",
       "    <tr>\n",
       "      <th>2</th>\n",
       "      <td>5.191807e+06</td>\n",
       "    </tr>\n",
       "    <tr>\n",
       "      <th>3</th>\n",
       "      <td>6.556161e+06</td>\n",
       "    </tr>\n",
       "    <tr>\n",
       "      <th>4</th>\n",
       "      <td>7.907017e+06</td>\n",
       "    </tr>\n",
       "    <tr>\n",
       "      <th>5</th>\n",
       "      <td>1.018102e+07</td>\n",
       "    </tr>\n",
       "    <tr>\n",
       "      <th>6</th>\n",
       "      <td>1.155381e+07</td>\n",
       "    </tr>\n",
       "  </tbody>\n",
       "</table>\n",
       "</div>"
      ],
      "text/plain": [
       "       Цена на момент снятия с публикации\n",
       "rooms                                    \n",
       "1                            3.781534e+06\n",
       "2                            5.191807e+06\n",
       "3                            6.556161e+06\n",
       "4                            7.907017e+06\n",
       "5                            1.018102e+07\n",
       "6                            1.155381e+07"
      ]
     },
     "metadata": {},
     "output_type": "display_data"
    },
    {
     "name": "stdout",
     "output_type": "stream",
     "text": [
      "Корреляция: 0.4855867493270532\n"
     ]
    },
    {
     "data": {
      "image/png": "[encoded data removed]",
      "text/plain": [
       "<Figure size 432x288 with 1 Axes>"
      ]
     },
     "metadata": {
      "needs_background": "light"
     },
     "output_type": "display_data"
    }
   ],
   "source": [
    "#Построим сводную таблицу зависимости цены от количества комнат\n",
    "price_rooms = data.pivot_table(index='rooms', values='last_price')\n",
    "price_rooms = price_rooms.sort_values('last_price')\n",
    "price_rooms.columns = ['Цена на момент снятия с публикации']\n",
    "display(price_rooms)\n",
    "\n",
    "#Построим график зависимости цены от количества комнат\n",
    "price_rooms.plot(style='o-', grid=True)\n",
    "plt.title('Зависимость цены от количества комнат')\n",
    "plt.xlabel('Количество комнат')\n",
    "plt.ylabel('Цена в 10 млн.')\n",
    "\n",
    "#Посчитаем корреляцию цены от количества комнат\n",
    "print('Корреляция:', data['rooms'].corr(data['last_price']))"
   ]
  },
  {
   "cell_type": "markdown",
   "metadata": {},
   "source": [
    "**Вывод:** Мы видим высокую положительную корреляцию. Чем больше комнат, тем больше цена квартиры."
   ]
  },
  {
   "cell_type": "code",
   "execution_count": 30,
   "metadata": {},
   "outputs": [
    {
     "data": {
      "text/html": [
       "<div>\n",
       "<style scoped>\n",
       "    .dataframe tbody tr th:only-of-type {\n",
       "        vertical-align: middle;\n",
       "    }\n",
       "\n",
       "    .dataframe tbody tr th {\n",
       "        vertical-align: top;\n",
       "    }\n",
       "\n",
       "    .dataframe thead th {\n",
       "        text-align: right;\n",
       "    }\n",
       "</style>\n",
       "<table border=\"1\" class=\"dataframe\">\n",
       "  <thead>\n",
       "    <tr style=\"text-align: right;\">\n",
       "      <th></th>\n",
       "      <th>Цена на момент снятия с публикации</th>\n",
       "    </tr>\n",
       "    <tr>\n",
       "      <th>floor_value</th>\n",
       "      <th></th>\n",
       "    </tr>\n",
       "  </thead>\n",
       "  <tbody>\n",
       "    <tr>\n",
       "      <th>первый</th>\n",
       "      <td>4.281665e+06</td>\n",
       "    </tr>\n",
       "    <tr>\n",
       "      <th>последний</th>\n",
       "      <td>4.842117e+06</td>\n",
       "    </tr>\n",
       "    <tr>\n",
       "      <th>другой</th>\n",
       "      <td>5.393115e+06</td>\n",
       "    </tr>\n",
       "  </tbody>\n",
       "</table>\n",
       "</div>"
      ],
      "text/plain": [
       "             Цена на момент снятия с публикации\n",
       "floor_value                                    \n",
       "первый                             4.281665e+06\n",
       "последний                          4.842117e+06\n",
       "другой                             5.393115e+06"
      ]
     },
     "metadata": {},
     "output_type": "display_data"
    },
    {
     "data": {
      "text/plain": [
       "Text(0, 0.5, 'Цена в 10 млн.')"
      ]
     },
     "execution_count": 30,
     "metadata": {},
     "output_type": "execute_result"
    },
    {
     "data": {
      "image/png": "[encoded data removed]",
      "text/plain": [
       "<Figure size 432x288 with 1 Axes>"
      ]
     },
     "metadata": {
      "needs_background": "light"
     },
     "output_type": "display_data"
    }
   ],
   "source": [
    "#Построим сводную таблицу зависимости цены от значения этажа\n",
    "price_floor_value = data.pivot_table(index='floor_value', values='last_price')\n",
    "price_floor_value = price_floor_value.sort_values('last_price')\n",
    "price_floor_value.columns = ['Цена на момент снятия с публикации']\n",
    "display(price_floor_value)\n",
    "\n",
    "#Построим график зависимости цены от значения этажа\n",
    "price_floor_value.plot(style='o-', grid=True)\n",
    "plt.title('Зависимость цены от значения этажа')\n",
    "plt.xlabel('Значение этажа')\n",
    "plt.ylabel('Цена в 10 млн.')"
   ]
  },
  {
   "cell_type": "markdown",
   "metadata": {},
   "source": [
    "**Вывод:** Здесь мы можем видеть, что квартиры на первом этаже в среднем дешевле, чем на остальных. Квартиры на других этажах дороже всего. Последний этаж находится в середине ценового диапазона."
   ]
  },
  {
   "cell_type": "markdown",
   "metadata": {},
   "source": [
    "<div class=\"alert alert-info\">\n",
    "<b>Убрал из столбцов со днем недели, месяцем и годом подсчет коэффициента корреляции Пирсона."
   ]
  },
  {
   "cell_type": "code",
   "execution_count": 31,
   "metadata": {},
   "outputs": [
    {
     "data": {
      "text/html": [
       "<div>\n",
       "<style scoped>\n",
       "    .dataframe tbody tr th:only-of-type {\n",
       "        vertical-align: middle;\n",
       "    }\n",
       "\n",
       "    .dataframe tbody tr th {\n",
       "        vertical-align: top;\n",
       "    }\n",
       "\n",
       "    .dataframe thead th {\n",
       "        text-align: right;\n",
       "    }\n",
       "</style>\n",
       "<table border=\"1\" class=\"dataframe\">\n",
       "  <thead>\n",
       "    <tr style=\"text-align: right;\">\n",
       "      <th></th>\n",
       "      <th>Цена на момент снятия с публикации</th>\n",
       "    </tr>\n",
       "    <tr>\n",
       "      <th>day_of_week</th>\n",
       "      <th></th>\n",
       "    </tr>\n",
       "  </thead>\n",
       "  <tbody>\n",
       "    <tr>\n",
       "      <th>0</th>\n",
       "      <td>5.176163e+06</td>\n",
       "    </tr>\n",
       "    <tr>\n",
       "      <th>1</th>\n",
       "      <td>5.246298e+06</td>\n",
       "    </tr>\n",
       "    <tr>\n",
       "      <th>2</th>\n",
       "      <td>5.208271e+06</td>\n",
       "    </tr>\n",
       "    <tr>\n",
       "      <th>3</th>\n",
       "      <td>5.195953e+06</td>\n",
       "    </tr>\n",
       "    <tr>\n",
       "      <th>4</th>\n",
       "      <td>5.143140e+06</td>\n",
       "    </tr>\n",
       "    <tr>\n",
       "      <th>5</th>\n",
       "      <td>5.044942e+06</td>\n",
       "    </tr>\n",
       "    <tr>\n",
       "      <th>6</th>\n",
       "      <td>5.082137e+06</td>\n",
       "    </tr>\n",
       "  </tbody>\n",
       "</table>\n",
       "</div>"
      ],
      "text/plain": [
       "             Цена на момент снятия с публикации\n",
       "day_of_week                                    \n",
       "0                                  5.176163e+06\n",
       "1                                  5.246298e+06\n",
       "2                                  5.208271e+06\n",
       "3                                  5.195953e+06\n",
       "4                                  5.143140e+06\n",
       "5                                  5.044942e+06\n",
       "6                                  5.082137e+06"
      ]
     },
     "metadata": {},
     "output_type": "display_data"
    },
    {
     "name": "stdout",
     "output_type": "stream",
     "text": [
      "Корреляция: -0.01616134554178177\n"
     ]
    },
    {
     "data": {
      "image/png": "[encoded data removed]",
      "text/plain": [
       "<Figure size 432x288 with 1 Axes>"
      ]
     },
     "metadata": {
      "needs_background": "light"
     },
     "output_type": "display_data"
    }
   ],
   "source": [
    "#Построим сводную таблицу зависимости цены от дня недели\n",
    "price_day_of_week = data.pivot_table(index='day_of_week', values='last_price')\n",
    "price_day_of_week.columns = ['Цена на момент снятия с публикации']\n",
    "display(price_day_of_week)\n",
    "\n",
    "#Построим график зависимости цены от дня недели\n",
    "price_day_of_week.plot(style='o-', grid=True)\n",
    "plt.title('Зависимость цены от дня недели')\n",
    "plt.xlabel('День недели')\n",
    "plt.ylabel('Цена в 10 млн.')"
   ]
  },
  {
   "cell_type": "markdown",
   "metadata": {},
   "source": [
    "**Вывод:** Стоимость жилья выставленного на продажу в субботу самая высокая, а в воскресение - самая низкая среди остальных дней недели."
   ]
  },
  {
   "cell_type": "code",
   "execution_count": 32,
   "metadata": {},
   "outputs": [
    {
     "data": {
      "text/html": [
       "<div>\n",
       "<style scoped>\n",
       "    .dataframe tbody tr th:only-of-type {\n",
       "        vertical-align: middle;\n",
       "    }\n",
       "\n",
       "    .dataframe tbody tr th {\n",
       "        vertical-align: top;\n",
       "    }\n",
       "\n",
       "    .dataframe thead th {\n",
       "        text-align: right;\n",
       "    }\n",
       "</style>\n",
       "<table border=\"1\" class=\"dataframe\">\n",
       "  <thead>\n",
       "    <tr style=\"text-align: right;\">\n",
       "      <th></th>\n",
       "      <th>Цена на момент снятия с публикации</th>\n",
       "    </tr>\n",
       "    <tr>\n",
       "      <th>month</th>\n",
       "      <th></th>\n",
       "    </tr>\n",
       "  </thead>\n",
       "  <tbody>\n",
       "    <tr>\n",
       "      <th>1</th>\n",
       "      <td>5.138376e+06</td>\n",
       "    </tr>\n",
       "    <tr>\n",
       "      <th>2</th>\n",
       "      <td>5.147155e+06</td>\n",
       "    </tr>\n",
       "    <tr>\n",
       "      <th>3</th>\n",
       "      <td>5.154972e+06</td>\n",
       "    </tr>\n",
       "    <tr>\n",
       "      <th>4</th>\n",
       "      <td>5.273022e+06</td>\n",
       "    </tr>\n",
       "    <tr>\n",
       "      <th>5</th>\n",
       "      <td>5.145501e+06</td>\n",
       "    </tr>\n",
       "    <tr>\n",
       "      <th>6</th>\n",
       "      <td>4.941048e+06</td>\n",
       "    </tr>\n",
       "    <tr>\n",
       "      <th>7</th>\n",
       "      <td>5.166087e+06</td>\n",
       "    </tr>\n",
       "    <tr>\n",
       "      <th>8</th>\n",
       "      <td>5.195085e+06</td>\n",
       "    </tr>\n",
       "    <tr>\n",
       "      <th>9</th>\n",
       "      <td>5.334782e+06</td>\n",
       "    </tr>\n",
       "    <tr>\n",
       "      <th>10</th>\n",
       "      <td>5.141383e+06</td>\n",
       "    </tr>\n",
       "    <tr>\n",
       "      <th>11</th>\n",
       "      <td>5.247267e+06</td>\n",
       "    </tr>\n",
       "    <tr>\n",
       "      <th>12</th>\n",
       "      <td>5.143017e+06</td>\n",
       "    </tr>\n",
       "  </tbody>\n",
       "</table>\n",
       "</div>"
      ],
      "text/plain": [
       "       Цена на момент снятия с публикации\n",
       "month                                    \n",
       "1                            5.138376e+06\n",
       "2                            5.147155e+06\n",
       "3                            5.154972e+06\n",
       "4                            5.273022e+06\n",
       "5                            5.145501e+06\n",
       "6                            4.941048e+06\n",
       "7                            5.166087e+06\n",
       "8                            5.195085e+06\n",
       "9                            5.334782e+06\n",
       "10                           5.141383e+06\n",
       "11                           5.247267e+06\n",
       "12                           5.143017e+06"
      ]
     },
     "metadata": {},
     "output_type": "display_data"
    },
    {
     "name": "stdout",
     "output_type": "stream",
     "text": [
      "Корреляция: 0.006944079264899223\n"
     ]
    },
    {
     "data": {
      "image/png": "[encoded data removed]",
      "text/plain": [
       "<Figure size 432x288 with 1 Axes>"
      ]
     },
     "metadata": {
      "needs_background": "light"
     },
     "output_type": "display_data"
    }
   ],
   "source": [
    "#Построим сводную таблицу зависимости цены от месяца размещения\n",
    "price_month = data.pivot_table(index='month', values='last_price')\n",
    "price_month.columns = ['Цена на момент снятия с публикации']\n",
    "display(price_month)\n",
    "\n",
    "#Построим график зависимости цены от месяца размещения\n",
    "price_month.plot(style='o-', grid=True)\n",
    "plt.title('Зависимость цены от месяца размещения')\n",
    "plt.xlabel('Месяц')\n",
    "plt.ylabel('Цена в 10 млн.')"
   ]
  },
  {
   "cell_type": "markdown",
   "metadata": {},
   "source": [
    "**Вывод:** Выставленные на продажу в июне квартиры - самые дешевые. Выставленные в декабре - самые дорогие. Корреляции цены от месяца не наблюдается."
   ]
  },
  {
   "cell_type": "code",
   "execution_count": 33,
   "metadata": {},
   "outputs": [
    {
     "data": {
      "text/html": [
       "<div>\n",
       "<style scoped>\n",
       "    .dataframe tbody tr th:only-of-type {\n",
       "        vertical-align: middle;\n",
       "    }\n",
       "\n",
       "    .dataframe tbody tr th {\n",
       "        vertical-align: top;\n",
       "    }\n",
       "\n",
       "    .dataframe thead th {\n",
       "        text-align: right;\n",
       "    }\n",
       "</style>\n",
       "<table border=\"1\" class=\"dataframe\">\n",
       "  <thead>\n",
       "    <tr style=\"text-align: right;\">\n",
       "      <th></th>\n",
       "      <th>Цена на момент снятия с публикации</th>\n",
       "    </tr>\n",
       "    <tr>\n",
       "      <th>year</th>\n",
       "      <th></th>\n",
       "    </tr>\n",
       "  </thead>\n",
       "  <tbody>\n",
       "    <tr>\n",
       "      <th>2014</th>\n",
       "      <td>6.928793e+06</td>\n",
       "    </tr>\n",
       "    <tr>\n",
       "      <th>2015</th>\n",
       "      <td>5.737946e+06</td>\n",
       "    </tr>\n",
       "    <tr>\n",
       "      <th>2016</th>\n",
       "      <td>5.140518e+06</td>\n",
       "    </tr>\n",
       "    <tr>\n",
       "      <th>2017</th>\n",
       "      <td>5.098022e+06</td>\n",
       "    </tr>\n",
       "    <tr>\n",
       "      <th>2018</th>\n",
       "      <td>5.066364e+06</td>\n",
       "    </tr>\n",
       "    <tr>\n",
       "      <th>2019</th>\n",
       "      <td>5.457237e+06</td>\n",
       "    </tr>\n",
       "  </tbody>\n",
       "</table>\n",
       "</div>"
      ],
      "text/plain": [
       "      Цена на момент снятия с публикации\n",
       "year                                    \n",
       "2014                        6.928793e+06\n",
       "2015                        5.737946e+06\n",
       "2016                        5.140518e+06\n",
       "2017                        5.098022e+06\n",
       "2018                        5.066364e+06\n",
       "2019                        5.457237e+06"
      ]
     },
     "metadata": {},
     "output_type": "display_data"
    },
    {
     "name": "stdout",
     "output_type": "stream",
     "text": [
      "Корреляция: -0.016141967457581983\n"
     ]
    },
    {
     "data": {
      "image/png": "[encoded data removed]",
      "text/plain": [
       "<Figure size 432x288 with 1 Axes>"
      ]
     },
     "metadata": {
      "needs_background": "light"
     },
     "output_type": "display_data"
    }
   ],
   "source": [
    "#Построим сводную таблицу зависимости цены от года публикации\n",
    "price_year = data.pivot_table(index='year', values='last_price')\n",
    "price_year.columns = ['Цена на момент снятия с публикации']\n",
    "display(price_year)\n",
    "\n",
    "#Построим график зависимости цены от года публикации\n",
    "price_year.plot(style='o-', grid=True)\n",
    "plt.title('Зависимость цены от года публикации')\n",
    "plt.xlabel('Год публикации')\n",
    "plt.ylabel('Цена в 10 млн.')"
   ]
  },
  {
   "cell_type": "markdown",
   "metadata": {},
   "source": [
    "**Вывод:** Дешевле всего квартиры были в 2016-2017 годах. Дороже всего в 2014 году."
   ]
  },
  {
   "cell_type": "markdown",
   "metadata": {},
   "source": [
    "**4. Посчитаем среднюю цену одного квадратного метра в 10 населённых пунктах с наибольшим числом объявлений.**"
   ]
  },
  {
   "cell_type": "code",
   "execution_count": 34,
   "metadata": {
    "scrolled": true
   },
   "outputs": [
    {
     "data": {
      "text/html": [
       "<div>\n",
       "<style scoped>\n",
       "    .dataframe tbody tr th:only-of-type {\n",
       "        vertical-align: middle;\n",
       "    }\n",
       "\n",
       "    .dataframe tbody tr th {\n",
       "        vertical-align: top;\n",
       "    }\n",
       "\n",
       "    .dataframe thead th {\n",
       "        text-align: right;\n",
       "    }\n",
       "</style>\n",
       "<table border=\"1\" class=\"dataframe\">\n",
       "  <thead>\n",
       "    <tr style=\"text-align: right;\">\n",
       "      <th></th>\n",
       "      <th>square_meter_price</th>\n",
       "    </tr>\n",
       "    <tr>\n",
       "      <th>locality_name</th>\n",
       "      <th></th>\n",
       "    </tr>\n",
       "  </thead>\n",
       "  <tbody>\n",
       "    <tr>\n",
       "      <th>Санкт-Петербург</th>\n",
       "      <td>107121.583413</td>\n",
       "    </tr>\n",
       "    <tr>\n",
       "      <th>Пушкин</th>\n",
       "      <td>101197.271225</td>\n",
       "    </tr>\n",
       "    <tr>\n",
       "      <th>поселок Лисий Нос</th>\n",
       "      <td>100660.816667</td>\n",
       "    </tr>\n",
       "    <tr>\n",
       "      <th>Зеленогорск</th>\n",
       "      <td>100636.524091</td>\n",
       "    </tr>\n",
       "    <tr>\n",
       "      <th>Сестрорецк</th>\n",
       "      <td>100024.179040</td>\n",
       "    </tr>\n",
       "    <tr>\n",
       "      <th>Кудрово</th>\n",
       "      <td>99863.417152</td>\n",
       "    </tr>\n",
       "    <tr>\n",
       "      <th>деревня Мистолово</th>\n",
       "      <td>98549.977273</td>\n",
       "    </tr>\n",
       "    <tr>\n",
       "      <th>поселок Левашово</th>\n",
       "      <td>96997.690000</td>\n",
       "    </tr>\n",
       "    <tr>\n",
       "      <th>Мурино</th>\n",
       "      <td>92479.984848</td>\n",
       "    </tr>\n",
       "    <tr>\n",
       "      <th>деревня Кудрово</th>\n",
       "      <td>92297.218834</td>\n",
       "    </tr>\n",
       "  </tbody>\n",
       "</table>\n",
       "</div>"
      ],
      "text/plain": [
       "                   square_meter_price\n",
       "locality_name                        \n",
       "Санкт-Петербург         107121.583413\n",
       "Пушкин                  101197.271225\n",
       "поселок Лисий Нос       100660.816667\n",
       "Зеленогорск             100636.524091\n",
       "Сестрорецк              100024.179040\n",
       "Кудрово                  99863.417152\n",
       "деревня Мистолово        98549.977273\n",
       "поселок Левашово         96997.690000\n",
       "Мурино                   92479.984848\n",
       "деревня Кудрово          92297.218834"
      ]
     },
     "execution_count": 34,
     "metadata": {},
     "output_type": "execute_result"
    }
   ],
   "source": [
    "#Создадим переменную, в которой отсортируем населенные пункты по числу объявлений\n",
    "data_ten_locality_name = data['locality_name'].value_counts()\n",
    "\n",
    "#Создадим сводную таблицу\n",
    "data_square_meter_price = (data.query('locality_name in @data_ten_locality_name.index')\n",
    "    .pivot_table(index='locality_name', values='square_meter_price')\n",
    ")\n",
    "\n",
    "#Отсортируем таблицу по цене за квадратный метр\n",
    "data_square_meter_price = data_square_meter_price.sort_values(by='square_meter_price', ascending=False)\n",
    "data_square_meter_price.head(10)"
   ]
  },
  {
   "cell_type": "markdown",
   "metadata": {},
   "source": [
    "**Вывод:** Наибольшей является стоимость квадратного метра в Санкт-Петербуре. Скорее всего это происходит потому, что Санкт-Петербург является крупным городом и областным центром. Наименьшая стоимость квадратного метра в Красном Селе."
   ]
  },
  {
   "cell_type": "markdown",
   "metadata": {},
   "source": [
    "**5. Вычислим стоимость квартир в Санкт-Петербурге на разном удалении от центра.**"
   ]
  },
  {
   "cell_type": "code",
   "execution_count": 35,
   "metadata": {},
   "outputs": [
    {
     "data": {
      "text/html": [
       "<div>\n",
       "<style scoped>\n",
       "    .dataframe tbody tr th:only-of-type {\n",
       "        vertical-align: middle;\n",
       "    }\n",
       "\n",
       "    .dataframe tbody tr th {\n",
       "        vertical-align: top;\n",
       "    }\n",
       "\n",
       "    .dataframe thead th {\n",
       "        text-align: right;\n",
       "    }\n",
       "</style>\n",
       "<table border=\"1\" class=\"dataframe\">\n",
       "  <thead>\n",
       "    <tr style=\"text-align: right;\">\n",
       "      <th></th>\n",
       "      <th>Цена</th>\n",
       "    </tr>\n",
       "    <tr>\n",
       "      <th>cityCenters_nearest_km</th>\n",
       "      <th></th>\n",
       "    </tr>\n",
       "  </thead>\n",
       "  <tbody>\n",
       "    <tr>\n",
       "      <th>0.0</th>\n",
       "      <td>9.606154e+06</td>\n",
       "    </tr>\n",
       "    <tr>\n",
       "      <th>1.0</th>\n",
       "      <td>9.269085e+06</td>\n",
       "    </tr>\n",
       "    <tr>\n",
       "      <th>2.0</th>\n",
       "      <td>9.167403e+06</td>\n",
       "    </tr>\n",
       "    <tr>\n",
       "      <th>3.0</th>\n",
       "      <td>8.311321e+06</td>\n",
       "    </tr>\n",
       "    <tr>\n",
       "      <th>4.0</th>\n",
       "      <td>8.572499e+06</td>\n",
       "    </tr>\n",
       "    <tr>\n",
       "      <th>5.0</th>\n",
       "      <td>8.501081e+06</td>\n",
       "    </tr>\n",
       "    <tr>\n",
       "      <th>6.0</th>\n",
       "      <td>7.917677e+06</td>\n",
       "    </tr>\n",
       "    <tr>\n",
       "      <th>7.0</th>\n",
       "      <td>7.276535e+06</td>\n",
       "    </tr>\n",
       "    <tr>\n",
       "      <th>8.0</th>\n",
       "      <td>7.169576e+06</td>\n",
       "    </tr>\n",
       "    <tr>\n",
       "      <th>9.0</th>\n",
       "      <td>6.090129e+06</td>\n",
       "    </tr>\n",
       "    <tr>\n",
       "      <th>10.0</th>\n",
       "      <td>5.801957e+06</td>\n",
       "    </tr>\n",
       "    <tr>\n",
       "      <th>11.0</th>\n",
       "      <td>5.659243e+06</td>\n",
       "    </tr>\n",
       "    <tr>\n",
       "      <th>12.0</th>\n",
       "      <td>5.561946e+06</td>\n",
       "    </tr>\n",
       "    <tr>\n",
       "      <th>13.0</th>\n",
       "      <td>5.853255e+06</td>\n",
       "    </tr>\n",
       "    <tr>\n",
       "      <th>14.0</th>\n",
       "      <td>5.508910e+06</td>\n",
       "    </tr>\n",
       "    <tr>\n",
       "      <th>15.0</th>\n",
       "      <td>5.508770e+06</td>\n",
       "    </tr>\n",
       "    <tr>\n",
       "      <th>16.0</th>\n",
       "      <td>5.220526e+06</td>\n",
       "    </tr>\n",
       "    <tr>\n",
       "      <th>17.0</th>\n",
       "      <td>5.037534e+06</td>\n",
       "    </tr>\n",
       "    <tr>\n",
       "      <th>18.0</th>\n",
       "      <td>4.813131e+06</td>\n",
       "    </tr>\n",
       "    <tr>\n",
       "      <th>19.0</th>\n",
       "      <td>5.081623e+06</td>\n",
       "    </tr>\n",
       "    <tr>\n",
       "      <th>20.0</th>\n",
       "      <td>6.097430e+06</td>\n",
       "    </tr>\n",
       "    <tr>\n",
       "      <th>21.0</th>\n",
       "      <td>5.519275e+06</td>\n",
       "    </tr>\n",
       "    <tr>\n",
       "      <th>22.0</th>\n",
       "      <td>5.257066e+06</td>\n",
       "    </tr>\n",
       "    <tr>\n",
       "      <th>23.0</th>\n",
       "      <td>4.741444e+06</td>\n",
       "    </tr>\n",
       "    <tr>\n",
       "      <th>24.0</th>\n",
       "      <td>3.890687e+06</td>\n",
       "    </tr>\n",
       "    <tr>\n",
       "      <th>25.0</th>\n",
       "      <td>4.052840e+06</td>\n",
       "    </tr>\n",
       "    <tr>\n",
       "      <th>26.0</th>\n",
       "      <td>4.014287e+06</td>\n",
       "    </tr>\n",
       "    <tr>\n",
       "      <th>27.0</th>\n",
       "      <td>8.300000e+06</td>\n",
       "    </tr>\n",
       "    <tr>\n",
       "      <th>28.0</th>\n",
       "      <td>5.026429e+06</td>\n",
       "    </tr>\n",
       "    <tr>\n",
       "      <th>29.0</th>\n",
       "      <td>4.236667e+06</td>\n",
       "    </tr>\n",
       "  </tbody>\n",
       "</table>\n",
       "</div>"
      ],
      "text/plain": [
       "                                Цена\n",
       "cityCenters_nearest_km              \n",
       "0.0                     9.606154e+06\n",
       "1.0                     9.269085e+06\n",
       "2.0                     9.167403e+06\n",
       "3.0                     8.311321e+06\n",
       "4.0                     8.572499e+06\n",
       "5.0                     8.501081e+06\n",
       "6.0                     7.917677e+06\n",
       "7.0                     7.276535e+06\n",
       "8.0                     7.169576e+06\n",
       "9.0                     6.090129e+06\n",
       "10.0                    5.801957e+06\n",
       "11.0                    5.659243e+06\n",
       "12.0                    5.561946e+06\n",
       "13.0                    5.853255e+06\n",
       "14.0                    5.508910e+06\n",
       "15.0                    5.508770e+06\n",
       "16.0                    5.220526e+06\n",
       "17.0                    5.037534e+06\n",
       "18.0                    4.813131e+06\n",
       "19.0                    5.081623e+06\n",
       "20.0                    6.097430e+06\n",
       "21.0                    5.519275e+06\n",
       "22.0                    5.257066e+06\n",
       "23.0                    4.741444e+06\n",
       "24.0                    3.890687e+06\n",
       "25.0                    4.052840e+06\n",
       "26.0                    4.014287e+06\n",
       "27.0                    8.300000e+06\n",
       "28.0                    5.026429e+06\n",
       "29.0                    4.236667e+06"
      ]
     },
     "metadata": {},
     "output_type": "display_data"
    },
    {
     "name": "stdout",
     "output_type": "stream",
     "text": [
      "Корреляция: -0.3958923722756406\n"
     ]
    },
    {
     "data": {
      "text/plain": [
       "Text(0.5, 0, 'Расстояние от центра в километрах')"
      ]
     },
     "execution_count": 35,
     "metadata": {},
     "output_type": "execute_result"
    },
    {
     "data": {
      "image/png": "[encoded data removed]",
      "text/plain": [
       "<Figure size 432x288 with 1 Axes>"
      ]
     },
     "metadata": {
      "needs_background": "light"
     },
     "output_type": "display_data"
    }
   ],
   "source": [
    "#Построим сводную таблицу зависимости цены квартиры от удаления от центра СПб\n",
    "data_spb = data[data['locality_name'] == 'Санкт-Петербург']\n",
    "data_spb_price = data_spb.pivot_table(index='cityCenters_nearest_km', values='last_price')\n",
    "data_spb_price.columns = ['Цена']\n",
    "display(data_spb_price.head(30))\n",
    "\n",
    "#Вычислим корреляцию цены квартиры от удаления от центра СПб\n",
    "print('Корреляция:', data_spb['cityCenters_nearest_km'].corr(data_spb['last_price']))\n",
    "\n",
    "#Построим график зависимость цены от удаления от центра СПб\n",
    "data_spb_price.plot(style='o-', grid=True)\n",
    "plt.title('Зависимость цены от удаления от центра СПб')\n",
    "plt.ylabel('Цена в миллионах рублей')\n",
    "plt.xlabel('Расстояние от центра в километрах')"
   ]
  },
  {
   "cell_type": "markdown",
   "metadata": {},
   "source": [
    "**Вывод:** Существует высокая отрицатьльная корреляция между удалением от центра и ценой квартиры в Санкт-Петербурге. Мы построили график, по которому наглядно видно, что цена в среднем уменьшается при удалении от центра. Существуют аномальные значения на графике: на 20 и 28 километре цена резко подскачила вверх. Скорее всего эти значения являются ценой недвижимости в элитных районах."
   ]
  },
  {
   "cell_type": "markdown",
   "metadata": {
    "id": "h7VpzkIDAwb-"
   },
   "source": [
    "### Напишите общий вывод"
   ]
  },
  {
   "cell_type": "markdown",
   "metadata": {
    "id": "3H4lnp_KAwb-"
   },
   "source": [
    "**Общие выводы из гистограмм:**\n",
    "- Большее число квартир имеет площадь около 45 квадратных метров.\n",
    "- Жилая площадь квартир имеет три пика около значений 20, 30 и 40 квадратных метров.\n",
    "- Площадь кухни имеет три пика около значений 6, 8 и 11 кв.м.\n",
    "- Средняя стоимость квартиры - 4 млн.\n",
    "- Однокомнатных квартир больше всего, трехкомнатных меньше всего.\n",
    "- Квартир с высотой потолка 2.6 больше, чем всех остальных.\n",
    "- Большая часть квартир находится в 12 км от центра города.\n",
    "- Чаще всего квартиры продаются за период около 80 дней. Быстрые продажи - до 10 дней. Медленные - свыше 250 дней.\n",
    "\n",
    "**Факторы, влияющие на полную стоимость:**\n",
    "- Чем выше площадь квартиры, тем выше её цена.\n",
    "- Чем больше комнат, тем выше цена.\n",
    "- Первый этаж дешевле всего, Все этажи кроме последнего дороже всего.\n",
    "\n",
    "**Стоимость квадратного метра в 10 наиболее населённых пунктах:**\n",
    "- В Санкт-Петербуре стоимость кв.м. наибольшая. В Красном Селе наименьшая.\n",
    "\n",
    "**Стоимость квартир на разном удалении от центра СПб.**\n",
    "- Чем дальше квартира от центра, тем выше в среднем её стоимость."
   ]
  }
 ],
 "metadata": {
  "ExecuteTimeLog": [
   {
    "duration": 48,
    "start_time": "2024-03-02T16:08:24.865Z"
   },
   {
    "duration": 658,
    "start_time": "2024-03-02T16:08:27.566Z"
   },
   {
    "duration": 13,
    "start_time": "2024-03-02T16:08:30.755Z"
   },
   {
    "duration": 96,
    "start_time": "2024-03-02T16:09:04.084Z"
   },
   {
    "duration": 37,
    "start_time": "2024-03-02T16:09:07.686Z"
   },
   {
    "duration": 510,
    "start_time": "2024-03-02T16:12:45.007Z"
   },
   {
    "duration": 48,
    "start_time": "2024-03-02T16:12:48.056Z"
   },
   {
    "duration": 14,
    "start_time": "2024-03-02T16:12:55.500Z"
   },
   {
    "duration": 2346,
    "start_time": "2024-03-02T16:31:44.061Z"
   },
   {
    "duration": 2286,
    "start_time": "2024-03-02T16:35:43.654Z"
   },
   {
    "duration": 2054,
    "start_time": "2024-03-02T16:36:59.570Z"
   },
   {
    "duration": 8,
    "start_time": "2024-03-02T16:42:01.980Z"
   },
   {
    "duration": 11,
    "start_time": "2024-03-02T16:42:14.759Z"
   },
   {
    "duration": 10,
    "start_time": "2024-03-02T16:42:30.240Z"
   },
   {
    "duration": 23,
    "start_time": "2024-03-02T17:02:31.092Z"
   },
   {
    "duration": 89,
    "start_time": "2024-03-02T17:03:03.031Z"
   },
   {
    "duration": 6,
    "start_time": "2024-03-02T17:21:20.110Z"
   },
   {
    "duration": 44,
    "start_time": "2024-03-02T17:21:35.716Z"
   },
   {
    "duration": 8,
    "start_time": "2024-03-02T17:24:56.536Z"
   },
   {
    "duration": 78,
    "start_time": "2024-03-02T17:37:35.857Z"
   },
   {
    "duration": 14,
    "start_time": "2024-03-02T17:38:01.787Z"
   },
   {
    "duration": 8,
    "start_time": "2024-03-02T17:40:52.290Z"
   },
   {
    "duration": 10,
    "start_time": "2024-03-02T17:48:26.310Z"
   },
   {
    "duration": 13,
    "start_time": "2024-03-02T17:53:47.822Z"
   },
   {
    "duration": 20,
    "start_time": "2024-03-02T18:00:31.223Z"
   },
   {
    "duration": 18,
    "start_time": "2024-03-02T18:00:49.222Z"
   },
   {
    "duration": 12,
    "start_time": "2024-03-02T18:01:09.229Z"
   },
   {
    "duration": 12,
    "start_time": "2024-03-02T18:08:20.571Z"
   },
   {
    "duration": 12,
    "start_time": "2024-03-02T18:08:36.811Z"
   },
   {
    "duration": 10,
    "start_time": "2024-03-02T18:15:55.117Z"
   },
   {
    "duration": 15,
    "start_time": "2024-03-02T18:17:02.381Z"
   },
   {
    "duration": 10,
    "start_time": "2024-03-02T18:18:22.196Z"
   },
   {
    "duration": 8,
    "start_time": "2024-03-02T18:25:25.339Z"
   },
   {
    "duration": 19,
    "start_time": "2024-03-02T18:38:09.922Z"
   },
   {
    "duration": 53,
    "start_time": "2024-03-04T15:23:10.865Z"
   },
   {
    "duration": 8,
    "start_time": "2024-03-04T15:23:26.883Z"
   },
   {
    "duration": 729,
    "start_time": "2024-03-04T15:23:39.982Z"
   },
   {
    "duration": 53,
    "start_time": "2024-03-04T15:23:40.714Z"
   },
   {
    "duration": 19,
    "start_time": "2024-03-04T15:23:40.769Z"
   },
   {
    "duration": 2816,
    "start_time": "2024-03-04T15:23:40.790Z"
   },
   {
    "duration": 28,
    "start_time": "2024-03-04T15:23:43.608Z"
   },
   {
    "duration": 48,
    "start_time": "2024-03-04T15:23:43.638Z"
   },
   {
    "duration": 128,
    "start_time": "2024-03-04T15:23:43.688Z"
   },
   {
    "duration": 49,
    "start_time": "2024-03-04T15:23:43.818Z"
   },
   {
    "duration": 28,
    "start_time": "2024-03-04T15:23:43.868Z"
   },
   {
    "duration": 52,
    "start_time": "2024-03-04T15:23:51.093Z"
   },
   {
    "duration": 8,
    "start_time": "2024-03-04T15:54:08.208Z"
   },
   {
    "duration": 24,
    "start_time": "2024-03-04T15:57:44.878Z"
   },
   {
    "duration": 36,
    "start_time": "2024-03-04T17:08:16.421Z"
   },
   {
    "duration": 30,
    "start_time": "2024-03-04T17:10:58.770Z"
   },
   {
    "duration": 27,
    "start_time": "2024-03-04T17:11:56.004Z"
   },
   {
    "duration": 86,
    "start_time": "2024-03-04T17:17:48.914Z"
   },
   {
    "duration": 98,
    "start_time": "2024-03-04T17:18:28.433Z"
   },
   {
    "duration": 82,
    "start_time": "2024-03-04T17:19:02.874Z"
   },
   {
    "duration": 154,
    "start_time": "2024-03-04T17:19:12.620Z"
   },
   {
    "duration": 69,
    "start_time": "2024-03-04T17:19:30.577Z"
   },
   {
    "duration": 22,
    "start_time": "2024-03-04T17:19:42.851Z"
   },
   {
    "duration": 36,
    "start_time": "2024-03-04T17:20:26.940Z"
   },
   {
    "duration": 62,
    "start_time": "2024-03-04T17:20:36.536Z"
   },
   {
    "duration": 5,
    "start_time": "2024-03-04T17:47:48.420Z"
   },
   {
    "duration": 5,
    "start_time": "2024-03-04T17:48:47.759Z"
   },
   {
    "duration": 7,
    "start_time": "2024-03-04T17:49:05.579Z"
   },
   {
    "duration": 9,
    "start_time": "2024-03-04T17:49:20.950Z"
   },
   {
    "duration": 8,
    "start_time": "2024-03-04T17:49:26.671Z"
   },
   {
    "duration": 8,
    "start_time": "2024-03-04T17:49:31.974Z"
   },
   {
    "duration": 55,
    "start_time": "2024-03-05T14:48:41.116Z"
   },
   {
    "duration": 542,
    "start_time": "2024-03-05T14:58:05.701Z"
   },
   {
    "duration": 44,
    "start_time": "2024-03-05T14:58:06.245Z"
   },
   {
    "duration": 14,
    "start_time": "2024-03-05T14:58:06.291Z"
   },
   {
    "duration": 2437,
    "start_time": "2024-03-05T14:58:06.307Z"
   },
   {
    "duration": 26,
    "start_time": "2024-03-05T14:58:08.746Z"
   },
   {
    "duration": 9,
    "start_time": "2024-03-05T14:58:08.773Z"
   },
   {
    "duration": 15,
    "start_time": "2024-03-05T14:58:08.784Z"
   },
   {
    "duration": 12,
    "start_time": "2024-03-05T14:58:08.800Z"
   },
   {
    "duration": 22,
    "start_time": "2024-03-05T14:58:08.813Z"
   },
   {
    "duration": 20,
    "start_time": "2024-03-05T14:58:08.836Z"
   },
   {
    "duration": 74,
    "start_time": "2024-03-05T14:58:08.858Z"
   },
   {
    "duration": 42,
    "start_time": "2024-03-05T14:58:19.339Z"
   },
   {
    "duration": 12,
    "start_time": "2024-03-05T15:06:09.258Z"
   },
   {
    "duration": 1713,
    "start_time": "2024-03-05T15:06:29.818Z"
   },
   {
    "duration": 19,
    "start_time": "2024-03-05T15:07:47.681Z"
   },
   {
    "duration": 47,
    "start_time": "2024-03-05T15:08:01.654Z"
   },
   {
    "duration": 18,
    "start_time": "2024-03-05T15:09:54.059Z"
   },
   {
    "duration": 2295,
    "start_time": "2024-03-05T15:23:37.750Z"
   },
   {
    "duration": 354,
    "start_time": "2024-03-05T15:24:23.736Z"
   },
   {
    "duration": 436,
    "start_time": "2024-03-05T15:30:46.454Z"
   },
   {
    "duration": 341,
    "start_time": "2024-03-05T15:31:53.768Z"
   },
   {
    "duration": 384,
    "start_time": "2024-03-05T15:34:01.660Z"
   },
   {
    "duration": 340,
    "start_time": "2024-03-05T15:35:32.109Z"
   },
   {
    "duration": 163,
    "start_time": "2024-03-05T15:51:45.178Z"
   },
   {
    "duration": 217,
    "start_time": "2024-03-05T15:52:55.630Z"
   },
   {
    "duration": 91,
    "start_time": "2024-03-05T15:53:11.580Z"
   },
   {
    "duration": 155,
    "start_time": "2024-03-05T15:53:18.611Z"
   },
   {
    "duration": 161,
    "start_time": "2024-03-05T15:54:56.703Z"
   },
   {
    "duration": 165,
    "start_time": "2024-03-05T15:55:29.594Z"
   },
   {
    "duration": 174,
    "start_time": "2024-03-05T16:18:32.483Z"
   },
   {
    "duration": 173,
    "start_time": "2024-03-05T17:27:03.703Z"
   },
   {
    "duration": 168,
    "start_time": "2024-03-05T17:27:47.262Z"
   },
   {
    "duration": 179,
    "start_time": "2024-03-05T17:29:09.028Z"
   },
   {
    "duration": 195,
    "start_time": "2024-03-05T17:32:18.554Z"
   },
   {
    "duration": 186,
    "start_time": "2024-03-05T17:34:04.125Z"
   },
   {
    "duration": 183,
    "start_time": "2024-03-05T17:34:21.405Z"
   },
   {
    "duration": 280,
    "start_time": "2024-03-05T17:34:48.896Z"
   },
   {
    "duration": 169,
    "start_time": "2024-03-05T17:35:49.011Z"
   },
   {
    "duration": 180,
    "start_time": "2024-03-05T17:37:23.596Z"
   },
   {
    "duration": 190,
    "start_time": "2024-03-05T17:37:40.520Z"
   },
   {
    "duration": 181,
    "start_time": "2024-03-05T17:38:31.220Z"
   },
   {
    "duration": 186,
    "start_time": "2024-03-05T17:39:55.575Z"
   },
   {
    "duration": 198,
    "start_time": "2024-03-05T17:40:35.482Z"
   },
   {
    "duration": 191,
    "start_time": "2024-03-05T17:42:24.390Z"
   },
   {
    "duration": 168,
    "start_time": "2024-03-05T17:43:22.385Z"
   },
   {
    "duration": 221,
    "start_time": "2024-03-05T17:44:54.306Z"
   },
   {
    "duration": 175,
    "start_time": "2024-03-05T17:45:21.153Z"
   },
   {
    "duration": 176,
    "start_time": "2024-03-05T17:50:56.560Z"
   },
   {
    "duration": 284,
    "start_time": "2024-03-05T17:51:31.679Z"
   },
   {
    "duration": 165,
    "start_time": "2024-03-05T17:52:14.190Z"
   },
   {
    "duration": 187,
    "start_time": "2024-03-05T17:52:28.270Z"
   },
   {
    "duration": 185,
    "start_time": "2024-03-05T17:52:45.130Z"
   },
   {
    "duration": 1554,
    "start_time": "2024-03-05T17:54:45.537Z"
   },
   {
    "duration": 1565,
    "start_time": "2024-03-05T17:58:10.908Z"
   },
   {
    "duration": 789,
    "start_time": "2024-03-05T17:58:52.674Z"
   },
   {
    "duration": 41,
    "start_time": "2024-03-05T17:58:53.465Z"
   },
   {
    "duration": 16,
    "start_time": "2024-03-05T17:58:53.508Z"
   },
   {
    "duration": 2194,
    "start_time": "2024-03-05T17:58:53.526Z"
   },
   {
    "duration": 27,
    "start_time": "2024-03-05T17:58:55.723Z"
   },
   {
    "duration": 11,
    "start_time": "2024-03-05T17:58:55.752Z"
   },
   {
    "duration": 23,
    "start_time": "2024-03-05T17:58:55.765Z"
   },
   {
    "duration": 18,
    "start_time": "2024-03-05T17:58:55.789Z"
   },
   {
    "duration": 25,
    "start_time": "2024-03-05T17:58:55.809Z"
   },
   {
    "duration": 20,
    "start_time": "2024-03-05T17:58:55.836Z"
   },
   {
    "duration": 79,
    "start_time": "2024-03-05T17:58:55.858Z"
   },
   {
    "duration": 376,
    "start_time": "2024-03-05T17:58:55.938Z"
   },
   {
    "duration": 186,
    "start_time": "2024-03-05T17:58:56.315Z"
   },
   {
    "duration": 267,
    "start_time": "2024-03-05T17:58:56.503Z"
   },
   {
    "duration": 195,
    "start_time": "2024-03-05T17:58:56.771Z"
   },
   {
    "duration": 203,
    "start_time": "2024-03-05T17:58:56.967Z"
   },
   {
    "duration": 195,
    "start_time": "2024-03-05T17:58:57.172Z"
   },
   {
    "duration": 204,
    "start_time": "2024-03-05T17:58:57.369Z"
   },
   {
    "duration": 164,
    "start_time": "2024-03-05T17:59:03.055Z"
   },
   {
    "duration": 181,
    "start_time": "2024-03-05T18:01:39.070Z"
   },
   {
    "duration": 192,
    "start_time": "2024-03-05T18:02:04.448Z"
   },
   {
    "duration": 177,
    "start_time": "2024-03-05T18:03:57.033Z"
   },
   {
    "duration": 45,
    "start_time": "2024-03-06T14:04:47.930Z"
   },
   {
    "duration": 1110,
    "start_time": "2024-03-06T14:09:29.543Z"
   },
   {
    "duration": 39,
    "start_time": "2024-03-06T14:09:30.656Z"
   },
   {
    "duration": 15,
    "start_time": "2024-03-06T14:09:30.697Z"
   },
   {
    "duration": 2073,
    "start_time": "2024-03-06T14:09:30.718Z"
   },
   {
    "duration": 32,
    "start_time": "2024-03-06T14:09:32.793Z"
   },
   {
    "duration": 10,
    "start_time": "2024-03-06T14:09:32.827Z"
   },
   {
    "duration": 10,
    "start_time": "2024-03-06T14:09:32.839Z"
   },
   {
    "duration": 12,
    "start_time": "2024-03-06T14:09:32.850Z"
   },
   {
    "duration": 23,
    "start_time": "2024-03-06T14:09:32.864Z"
   },
   {
    "duration": 32,
    "start_time": "2024-03-06T14:09:32.918Z"
   },
   {
    "duration": 77,
    "start_time": "2024-03-06T14:09:32.951Z"
   },
   {
    "duration": 362,
    "start_time": "2024-03-06T14:09:33.030Z"
   },
   {
    "duration": 176,
    "start_time": "2024-03-06T14:09:33.394Z"
   },
   {
    "duration": 246,
    "start_time": "2024-03-06T14:09:33.573Z"
   },
   {
    "duration": 188,
    "start_time": "2024-03-06T14:09:33.821Z"
   },
   {
    "duration": 170,
    "start_time": "2024-03-06T14:09:34.010Z"
   },
   {
    "duration": 169,
    "start_time": "2024-03-06T14:09:34.182Z"
   },
   {
    "duration": 167,
    "start_time": "2024-03-06T14:09:34.352Z"
   },
   {
    "duration": 155,
    "start_time": "2024-03-06T14:09:34.521Z"
   },
   {
    "duration": 179,
    "start_time": "2024-03-06T14:09:34.678Z"
   },
   {
    "duration": 168,
    "start_time": "2024-03-06T14:09:40.819Z"
   },
   {
    "duration": 171,
    "start_time": "2024-03-06T14:09:53.799Z"
   },
   {
    "duration": 179,
    "start_time": "2024-03-06T14:09:58.859Z"
   },
   {
    "duration": 169,
    "start_time": "2024-03-06T14:10:11.021Z"
   },
   {
    "duration": 257,
    "start_time": "2024-03-06T14:10:39.520Z"
   },
   {
    "duration": 149,
    "start_time": "2024-03-06T14:11:59.404Z"
   },
   {
    "duration": 161,
    "start_time": "2024-03-06T14:12:12.517Z"
   },
   {
    "duration": 164,
    "start_time": "2024-03-06T14:12:21.160Z"
   },
   {
    "duration": 179,
    "start_time": "2024-03-06T14:12:26.540Z"
   },
   {
    "duration": 205,
    "start_time": "2024-03-06T14:12:40.465Z"
   },
   {
    "duration": 68,
    "start_time": "2024-03-06T14:15:37.302Z"
   },
   {
    "duration": 168,
    "start_time": "2024-03-06T14:15:45.879Z"
   },
   {
    "duration": 11,
    "start_time": "2024-03-06T14:17:13.292Z"
   },
   {
    "duration": 11,
    "start_time": "2024-03-06T14:17:17.717Z"
   },
   {
    "duration": 11,
    "start_time": "2024-03-06T14:17:29.588Z"
   },
   {
    "duration": 183,
    "start_time": "2024-03-06T14:17:52.741Z"
   },
   {
    "duration": 189,
    "start_time": "2024-03-06T14:18:23.617Z"
   },
   {
    "duration": 168,
    "start_time": "2024-03-06T14:19:14.702Z"
   },
   {
    "duration": 181,
    "start_time": "2024-03-06T14:19:49.057Z"
   },
   {
    "duration": 171,
    "start_time": "2024-03-06T14:20:23.887Z"
   },
   {
    "duration": 326,
    "start_time": "2024-03-06T14:23:11.719Z"
   },
   {
    "duration": 342,
    "start_time": "2024-03-06T14:25:12.601Z"
   },
   {
    "duration": 215,
    "start_time": "2024-03-06T14:27:49.122Z"
   },
   {
    "duration": 730,
    "start_time": "2024-03-06T14:28:19.192Z"
   },
   {
    "duration": 36,
    "start_time": "2024-03-06T14:28:19.924Z"
   },
   {
    "duration": 14,
    "start_time": "2024-03-06T14:28:19.961Z"
   },
   {
    "duration": 1955,
    "start_time": "2024-03-06T14:28:19.976Z"
   },
   {
    "duration": 30,
    "start_time": "2024-03-06T14:28:21.932Z"
   },
   {
    "duration": 12,
    "start_time": "2024-03-06T14:28:21.964Z"
   },
   {
    "duration": 9,
    "start_time": "2024-03-06T14:28:21.978Z"
   },
   {
    "duration": 13,
    "start_time": "2024-03-06T14:28:21.988Z"
   },
   {
    "duration": 34,
    "start_time": "2024-03-06T14:28:22.003Z"
   },
   {
    "duration": 20,
    "start_time": "2024-03-06T14:28:22.040Z"
   },
   {
    "duration": 73,
    "start_time": "2024-03-06T14:28:22.063Z"
   },
   {
    "duration": 321,
    "start_time": "2024-03-06T14:28:22.138Z"
   },
   {
    "duration": 182,
    "start_time": "2024-03-06T14:28:38.101Z"
   },
   {
    "duration": 238,
    "start_time": "2024-03-06T14:30:26.943Z"
   },
   {
    "duration": 175,
    "start_time": "2024-03-06T14:42:26.738Z"
   },
   {
    "duration": 170,
    "start_time": "2024-03-06T14:42:34.472Z"
   },
   {
    "duration": 171,
    "start_time": "2024-03-06T14:42:48.128Z"
   },
   {
    "duration": 175,
    "start_time": "2024-03-06T14:42:50.698Z"
   },
   {
    "duration": 170,
    "start_time": "2024-03-06T14:49:07.137Z"
   },
   {
    "duration": 167,
    "start_time": "2024-03-06T14:49:42.291Z"
   },
   {
    "duration": 180,
    "start_time": "2024-03-06T14:51:41.746Z"
   },
   {
    "duration": 162,
    "start_time": "2024-03-06T14:57:46.126Z"
   },
   {
    "duration": 170,
    "start_time": "2024-03-06T14:58:47.059Z"
   },
   {
    "duration": 177,
    "start_time": "2024-03-06T15:00:13.883Z"
   },
   {
    "duration": 283,
    "start_time": "2024-03-06T15:04:38.138Z"
   },
   {
    "duration": 156,
    "start_time": "2024-03-06T15:05:00.749Z"
   },
   {
    "duration": 165,
    "start_time": "2024-03-06T15:05:30.335Z"
   },
   {
    "duration": 161,
    "start_time": "2024-03-06T15:12:12.779Z"
   },
   {
    "duration": 165,
    "start_time": "2024-03-06T15:12:23.522Z"
   },
   {
    "duration": 172,
    "start_time": "2024-03-06T15:12:35.938Z"
   },
   {
    "duration": 164,
    "start_time": "2024-03-06T15:12:55.762Z"
   },
   {
    "duration": 172,
    "start_time": "2024-03-06T15:14:37.616Z"
   },
   {
    "duration": 187,
    "start_time": "2024-03-06T15:14:43.645Z"
   },
   {
    "duration": 159,
    "start_time": "2024-03-06T15:15:06.343Z"
   },
   {
    "duration": 181,
    "start_time": "2024-03-06T15:15:21.802Z"
   },
   {
    "duration": 175,
    "start_time": "2024-03-06T15:16:44.020Z"
   },
   {
    "duration": 294,
    "start_time": "2024-03-06T15:16:50.780Z"
   },
   {
    "duration": 192,
    "start_time": "2024-03-06T15:21:39.515Z"
   },
   {
    "duration": 156,
    "start_time": "2024-03-06T15:21:49.431Z"
   },
   {
    "duration": 165,
    "start_time": "2024-03-06T15:21:57.982Z"
   },
   {
    "duration": 165,
    "start_time": "2024-03-06T15:22:43.982Z"
   },
   {
    "duration": 243,
    "start_time": "2024-03-06T15:26:31.064Z"
   },
   {
    "duration": 187,
    "start_time": "2024-03-06T15:26:34.223Z"
   },
   {
    "duration": 198,
    "start_time": "2024-03-06T15:35:54.287Z"
   },
   {
    "duration": 188,
    "start_time": "2024-03-06T15:36:06.350Z"
   },
   {
    "duration": 72,
    "start_time": "2024-03-06T15:43:44.678Z"
   },
   {
    "duration": 111,
    "start_time": "2024-03-06T15:44:22.887Z"
   },
   {
    "duration": 108,
    "start_time": "2024-03-06T15:44:29.359Z"
   },
   {
    "duration": 752,
    "start_time": "2024-03-06T15:44:55.187Z"
   },
   {
    "duration": 39,
    "start_time": "2024-03-06T15:44:55.940Z"
   },
   {
    "duration": 14,
    "start_time": "2024-03-06T15:44:55.980Z"
   },
   {
    "duration": 1982,
    "start_time": "2024-03-06T15:44:55.995Z"
   },
   {
    "duration": 24,
    "start_time": "2024-03-06T15:44:57.980Z"
   },
   {
    "duration": 8,
    "start_time": "2024-03-06T15:44:58.006Z"
   },
   {
    "duration": 8,
    "start_time": "2024-03-06T15:44:58.016Z"
   },
   {
    "duration": 11,
    "start_time": "2024-03-06T15:44:58.026Z"
   },
   {
    "duration": 20,
    "start_time": "2024-03-06T15:44:58.038Z"
   },
   {
    "duration": 19,
    "start_time": "2024-03-06T15:44:58.060Z"
   },
   {
    "duration": 80,
    "start_time": "2024-03-06T15:44:58.080Z"
   },
   {
    "duration": 341,
    "start_time": "2024-03-06T15:44:58.162Z"
   },
   {
    "duration": 182,
    "start_time": "2024-03-06T15:44:58.504Z"
   },
   {
    "duration": 253,
    "start_time": "2024-03-06T15:44:58.688Z"
   },
   {
    "duration": 183,
    "start_time": "2024-03-06T15:44:58.942Z"
   },
   {
    "duration": 186,
    "start_time": "2024-03-06T15:44:59.127Z"
   },
   {
    "duration": 212,
    "start_time": "2024-03-06T15:44:59.315Z"
   },
   {
    "duration": 263,
    "start_time": "2024-03-06T15:44:59.529Z"
   },
   {
    "duration": 173,
    "start_time": "2024-03-06T15:45:05.049Z"
   },
   {
    "duration": 102,
    "start_time": "2024-03-06T15:47:02.765Z"
   },
   {
    "duration": 110,
    "start_time": "2024-03-06T15:48:00.691Z"
   },
   {
    "duration": 159,
    "start_time": "2024-03-06T15:48:41.043Z"
   },
   {
    "duration": 13,
    "start_time": "2024-03-06T15:51:45.149Z"
   },
   {
    "duration": 293,
    "start_time": "2024-03-06T15:51:59.239Z"
   },
   {
    "duration": 115,
    "start_time": "2024-03-06T15:52:07.071Z"
   },
   {
    "duration": 102,
    "start_time": "2024-03-06T15:52:16.101Z"
   },
   {
    "duration": 23,
    "start_time": "2024-03-06T15:57:16.427Z"
   },
   {
    "duration": 186,
    "start_time": "2024-03-06T16:02:47.379Z"
   },
   {
    "duration": 109,
    "start_time": "2024-03-06T16:02:52.892Z"
   },
   {
    "duration": 722,
    "start_time": "2024-03-06T16:03:43.805Z"
   },
   {
    "duration": 39,
    "start_time": "2024-03-06T16:03:44.528Z"
   },
   {
    "duration": 15,
    "start_time": "2024-03-06T16:03:44.568Z"
   },
   {
    "duration": 2014,
    "start_time": "2024-03-06T16:03:44.585Z"
   },
   {
    "duration": 23,
    "start_time": "2024-03-06T16:03:46.601Z"
   },
   {
    "duration": 10,
    "start_time": "2024-03-06T16:03:46.625Z"
   },
   {
    "duration": 8,
    "start_time": "2024-03-06T16:03:46.636Z"
   },
   {
    "duration": 13,
    "start_time": "2024-03-06T16:03:46.645Z"
   },
   {
    "duration": 27,
    "start_time": "2024-03-06T16:03:46.660Z"
   },
   {
    "duration": 38,
    "start_time": "2024-03-06T16:03:46.689Z"
   },
   {
    "duration": 56,
    "start_time": "2024-03-06T16:03:46.729Z"
   },
   {
    "duration": 344,
    "start_time": "2024-03-06T16:03:46.786Z"
   },
   {
    "duration": 183,
    "start_time": "2024-03-06T16:03:47.131Z"
   },
   {
    "duration": 248,
    "start_time": "2024-03-06T16:03:47.318Z"
   },
   {
    "duration": 191,
    "start_time": "2024-03-06T16:03:47.568Z"
   },
   {
    "duration": 174,
    "start_time": "2024-03-06T16:03:47.761Z"
   },
   {
    "duration": 184,
    "start_time": "2024-03-06T16:03:47.937Z"
   },
   {
    "duration": 195,
    "start_time": "2024-03-06T16:03:51.498Z"
   },
   {
    "duration": 154,
    "start_time": "2024-03-06T16:04:00.994Z"
   },
   {
    "duration": 167,
    "start_time": "2024-03-06T16:04:50.507Z"
   },
   {
    "duration": 172,
    "start_time": "2024-03-06T16:05:31.040Z"
   },
   {
    "duration": 162,
    "start_time": "2024-03-06T16:06:11.302Z"
   },
   {
    "duration": 171,
    "start_time": "2024-03-06T16:06:30.269Z"
   },
   {
    "duration": 171,
    "start_time": "2024-03-06T16:06:53.511Z"
   },
   {
    "duration": 246,
    "start_time": "2024-03-06T16:10:37.320Z"
   },
   {
    "duration": 168,
    "start_time": "2024-03-06T16:11:13.523Z"
   },
   {
    "duration": 146,
    "start_time": "2024-03-06T16:12:32.079Z"
   },
   {
    "duration": 164,
    "start_time": "2024-03-06T16:20:02.507Z"
   },
   {
    "duration": 165,
    "start_time": "2024-03-06T16:21:02.697Z"
   },
   {
    "duration": 176,
    "start_time": "2024-03-06T16:22:02.288Z"
   },
   {
    "duration": 166,
    "start_time": "2024-03-06T16:33:37.003Z"
   },
   {
    "duration": 148,
    "start_time": "2024-03-06T16:34:04.367Z"
   },
   {
    "duration": 165,
    "start_time": "2024-03-06T16:34:51.337Z"
   },
   {
    "duration": 729,
    "start_time": "2024-03-06T16:39:18.603Z"
   },
   {
    "duration": 39,
    "start_time": "2024-03-06T16:39:19.334Z"
   },
   {
    "duration": 14,
    "start_time": "2024-03-06T16:39:19.374Z"
   },
   {
    "duration": 2013,
    "start_time": "2024-03-06T16:39:19.390Z"
   },
   {
    "duration": 24,
    "start_time": "2024-03-06T16:39:21.404Z"
   },
   {
    "duration": 8,
    "start_time": "2024-03-06T16:39:21.429Z"
   },
   {
    "duration": 8,
    "start_time": "2024-03-06T16:39:21.439Z"
   },
   {
    "duration": 13,
    "start_time": "2024-03-06T16:39:21.448Z"
   },
   {
    "duration": 24,
    "start_time": "2024-03-06T16:39:21.463Z"
   },
   {
    "duration": 44,
    "start_time": "2024-03-06T16:39:21.489Z"
   },
   {
    "duration": 54,
    "start_time": "2024-03-06T16:39:21.534Z"
   },
   {
    "duration": 383,
    "start_time": "2024-03-06T16:39:21.589Z"
   },
   {
    "duration": 204,
    "start_time": "2024-03-06T16:39:21.974Z"
   },
   {
    "duration": 241,
    "start_time": "2024-03-06T16:39:22.179Z"
   },
   {
    "duration": 174,
    "start_time": "2024-03-06T16:39:22.421Z"
   },
   {
    "duration": 180,
    "start_time": "2024-03-06T16:39:22.596Z"
   },
   {
    "duration": 194,
    "start_time": "2024-03-06T16:39:22.778Z"
   },
   {
    "duration": 180,
    "start_time": "2024-03-06T16:39:22.974Z"
   },
   {
    "duration": 157,
    "start_time": "2024-03-06T16:39:23.155Z"
   },
   {
    "duration": 152,
    "start_time": "2024-03-06T16:39:23.317Z"
   },
   {
    "duration": 168,
    "start_time": "2024-03-06T16:39:23.470Z"
   },
   {
    "duration": 186,
    "start_time": "2024-03-06T16:39:23.639Z"
   },
   {
    "duration": 190,
    "start_time": "2024-03-06T17:45:02.166Z"
   },
   {
    "duration": 178,
    "start_time": "2024-03-06T17:56:00.600Z"
   },
   {
    "duration": 287,
    "start_time": "2024-03-06T17:56:18.656Z"
   },
   {
    "duration": 239,
    "start_time": "2024-03-06T17:59:03.706Z"
   },
   {
    "duration": 162,
    "start_time": "2024-03-06T18:00:53.878Z"
   },
   {
    "duration": 45,
    "start_time": "2024-03-07T14:06:22.919Z"
   },
   {
    "duration": 955,
    "start_time": "2024-03-07T14:06:38.769Z"
   },
   {
    "duration": 38,
    "start_time": "2024-03-07T14:06:39.726Z"
   },
   {
    "duration": 62,
    "start_time": "2024-03-07T14:06:39.766Z"
   },
   {
    "duration": 2000,
    "start_time": "2024-03-07T14:06:39.830Z"
   },
   {
    "duration": 26,
    "start_time": "2024-03-07T14:06:41.832Z"
   },
   {
    "duration": 43,
    "start_time": "2024-03-07T14:06:41.860Z"
   },
   {
    "duration": 30,
    "start_time": "2024-03-07T14:06:41.905Z"
   },
   {
    "duration": 42,
    "start_time": "2024-03-07T14:06:41.936Z"
   },
   {
    "duration": 36,
    "start_time": "2024-03-07T14:06:41.980Z"
   },
   {
    "duration": 36,
    "start_time": "2024-03-07T14:06:42.018Z"
   },
   {
    "duration": 54,
    "start_time": "2024-03-07T14:06:42.055Z"
   },
   {
    "duration": 337,
    "start_time": "2024-03-07T14:06:42.110Z"
   },
   {
    "duration": 199,
    "start_time": "2024-03-07T14:06:42.449Z"
   },
   {
    "duration": 238,
    "start_time": "2024-03-07T14:06:42.649Z"
   },
   {
    "duration": 176,
    "start_time": "2024-03-07T14:06:42.893Z"
   },
   {
    "duration": 183,
    "start_time": "2024-03-07T14:06:43.070Z"
   },
   {
    "duration": 192,
    "start_time": "2024-03-07T14:06:43.254Z"
   },
   {
    "duration": 186,
    "start_time": "2024-03-07T14:06:43.449Z"
   },
   {
    "duration": 154,
    "start_time": "2024-03-07T14:06:43.637Z"
   },
   {
    "duration": 166,
    "start_time": "2024-03-07T14:06:43.793Z"
   },
   {
    "duration": 178,
    "start_time": "2024-03-07T14:06:43.960Z"
   },
   {
    "duration": 187,
    "start_time": "2024-03-07T14:06:44.139Z"
   },
   {
    "duration": 167,
    "start_time": "2024-03-07T14:06:48.629Z"
   },
   {
    "duration": 171,
    "start_time": "2024-03-07T14:07:20.261Z"
   },
   {
    "duration": 254,
    "start_time": "2024-03-07T14:07:36.359Z"
   },
   {
    "duration": 163,
    "start_time": "2024-03-07T14:09:45.791Z"
   },
   {
    "duration": 169,
    "start_time": "2024-03-07T14:13:38.289Z"
   },
   {
    "duration": 154,
    "start_time": "2024-03-07T14:14:22.535Z"
   },
   {
    "duration": 10,
    "start_time": "2024-03-07T14:33:10.292Z"
   },
   {
    "duration": 14,
    "start_time": "2024-03-07T14:33:17.154Z"
   },
   {
    "duration": 16,
    "start_time": "2024-03-07T14:35:25.012Z"
   },
   {
    "duration": 180,
    "start_time": "2024-03-07T14:36:04.832Z"
   },
   {
    "duration": 177,
    "start_time": "2024-03-07T14:37:19.313Z"
   },
   {
    "duration": 202,
    "start_time": "2024-03-07T14:43:10.495Z"
   },
   {
    "duration": 154,
    "start_time": "2024-03-07T14:44:44.499Z"
   },
   {
    "duration": 1622,
    "start_time": "2024-03-07T14:51:20.818Z"
   },
   {
    "duration": 1605,
    "start_time": "2024-03-07T14:51:52.988Z"
   },
   {
    "duration": 166,
    "start_time": "2024-03-07T14:52:24.301Z"
   },
   {
    "duration": 162,
    "start_time": "2024-03-07T14:52:38.074Z"
   },
   {
    "duration": 168,
    "start_time": "2024-03-07T14:53:16.091Z"
   },
   {
    "duration": 913,
    "start_time": "2024-03-07T14:55:04.345Z"
   },
   {
    "duration": 123,
    "start_time": "2024-03-07T14:55:25.162Z"
   },
   {
    "duration": 262,
    "start_time": "2024-03-07T14:55:40.012Z"
   },
   {
    "duration": 170,
    "start_time": "2024-03-07T14:57:52.674Z"
   },
   {
    "duration": 169,
    "start_time": "2024-03-07T15:03:35.922Z"
   },
   {
    "duration": 166,
    "start_time": "2024-03-07T15:03:55.603Z"
   },
   {
    "duration": 177,
    "start_time": "2024-03-07T15:04:06.367Z"
   },
   {
    "duration": 176,
    "start_time": "2024-03-07T15:06:36.621Z"
   },
   {
    "duration": 164,
    "start_time": "2024-03-07T16:00:25.216Z"
   },
   {
    "duration": 157,
    "start_time": "2024-03-07T16:04:50.991Z"
   },
   {
    "duration": 158,
    "start_time": "2024-03-07T16:12:53.903Z"
   },
   {
    "duration": 163,
    "start_time": "2024-03-07T16:16:25.089Z"
   },
   {
    "duration": 160,
    "start_time": "2024-03-07T16:16:59.873Z"
   },
   {
    "duration": 486,
    "start_time": "2024-03-07T16:18:14.956Z"
   },
   {
    "duration": 157,
    "start_time": "2024-03-07T16:19:56.951Z"
   },
   {
    "duration": 161,
    "start_time": "2024-03-07T16:31:35.996Z"
   },
   {
    "duration": 141,
    "start_time": "2024-03-07T16:32:59.783Z"
   },
   {
    "duration": 160,
    "start_time": "2024-03-07T16:40:42.506Z"
   },
   {
    "duration": 150,
    "start_time": "2024-03-07T16:40:51.975Z"
   },
   {
    "duration": 161,
    "start_time": "2024-03-07T16:49:35.748Z"
   },
   {
    "duration": 164,
    "start_time": "2024-03-07T16:49:45.871Z"
   },
   {
    "duration": 162,
    "start_time": "2024-03-07T17:04:40.984Z"
   },
   {
    "duration": 158,
    "start_time": "2024-03-07T17:05:51.862Z"
   },
   {
    "duration": 51,
    "start_time": "2024-03-08T14:55:17.854Z"
   },
   {
    "duration": 1018,
    "start_time": "2024-03-08T14:56:45.529Z"
   },
   {
    "duration": 46,
    "start_time": "2024-03-08T14:56:46.550Z"
   },
   {
    "duration": 26,
    "start_time": "2024-03-08T14:56:46.597Z"
   },
   {
    "duration": 2295,
    "start_time": "2024-03-08T14:56:46.625Z"
   },
   {
    "duration": 26,
    "start_time": "2024-03-08T14:56:48.922Z"
   },
   {
    "duration": 10,
    "start_time": "2024-03-08T14:56:48.950Z"
   },
   {
    "duration": 14,
    "start_time": "2024-03-08T14:56:48.962Z"
   },
   {
    "duration": 30,
    "start_time": "2024-03-08T14:56:48.978Z"
   },
   {
    "duration": 37,
    "start_time": "2024-03-08T14:56:49.010Z"
   },
   {
    "duration": 20,
    "start_time": "2024-03-08T14:56:49.049Z"
   },
   {
    "duration": 43,
    "start_time": "2024-03-08T14:56:49.071Z"
   },
   {
    "duration": 361,
    "start_time": "2024-03-08T14:56:49.116Z"
   },
   {
    "duration": 202,
    "start_time": "2024-03-08T14:56:49.479Z"
   },
   {
    "duration": 303,
    "start_time": "2024-03-08T14:56:49.684Z"
   },
   {
    "duration": 221,
    "start_time": "2024-03-08T14:56:49.990Z"
   },
   {
    "duration": 201,
    "start_time": "2024-03-08T14:56:50.213Z"
   },
   {
    "duration": 218,
    "start_time": "2024-03-08T14:56:50.416Z"
   },
   {
    "duration": 215,
    "start_time": "2024-03-08T14:56:50.636Z"
   },
   {
    "duration": 180,
    "start_time": "2024-03-08T14:56:50.853Z"
   },
   {
    "duration": 210,
    "start_time": "2024-03-08T14:56:51.035Z"
   },
   {
    "duration": 213,
    "start_time": "2024-03-08T14:56:51.248Z"
   },
   {
    "duration": 205,
    "start_time": "2024-03-08T14:56:51.463Z"
   },
   {
    "duration": 223,
    "start_time": "2024-03-08T14:56:51.670Z"
   },
   {
    "duration": 215,
    "start_time": "2024-03-08T14:56:51.895Z"
   },
   {
    "duration": 295,
    "start_time": "2024-03-08T14:56:52.112Z"
   },
   {
    "duration": 203,
    "start_time": "2024-03-08T14:56:52.409Z"
   },
   {
    "duration": 222,
    "start_time": "2024-03-08T14:56:52.613Z"
   },
   {
    "duration": 217,
    "start_time": "2024-03-08T14:56:52.837Z"
   },
   {
    "duration": 186,
    "start_time": "2024-03-08T14:56:53.056Z"
   },
   {
    "duration": 181,
    "start_time": "2024-03-08T14:56:53.244Z"
   },
   {
    "duration": 196,
    "start_time": "2024-03-08T14:56:53.427Z"
   },
   {
    "duration": 14,
    "start_time": "2024-03-08T14:56:57.723Z"
   },
   {
    "duration": 10,
    "start_time": "2024-03-08T14:58:56.935Z"
   },
   {
    "duration": 9,
    "start_time": "2024-03-08T14:59:03.485Z"
   },
   {
    "duration": 15,
    "start_time": "2024-03-08T14:59:10.051Z"
   },
   {
    "duration": 10,
    "start_time": "2024-03-08T15:21:16.719Z"
   },
   {
    "duration": 101,
    "start_time": "2024-03-08T15:27:37.597Z"
   },
   {
    "duration": 18,
    "start_time": "2024-03-08T15:28:08.333Z"
   },
   {
    "duration": 20,
    "start_time": "2024-03-08T15:31:00.133Z"
   },
   {
    "duration": 18,
    "start_time": "2024-03-08T15:31:11.501Z"
   },
   {
    "duration": 19,
    "start_time": "2024-03-08T15:35:17.327Z"
   },
   {
    "duration": 19,
    "start_time": "2024-03-08T15:35:25.082Z"
   },
   {
    "duration": 19,
    "start_time": "2024-03-08T15:35:33.331Z"
   },
   {
    "duration": 54,
    "start_time": "2024-03-09T14:17:31.732Z"
   },
   {
    "duration": 1102,
    "start_time": "2024-03-09T14:17:45.261Z"
   },
   {
    "duration": 42,
    "start_time": "2024-03-09T14:17:46.366Z"
   },
   {
    "duration": 16,
    "start_time": "2024-03-09T14:17:46.410Z"
   },
   {
    "duration": 1929,
    "start_time": "2024-03-09T14:17:46.427Z"
   },
   {
    "duration": 25,
    "start_time": "2024-03-09T14:17:48.358Z"
   },
   {
    "duration": 9,
    "start_time": "2024-03-09T14:17:48.385Z"
   },
   {
    "duration": 9,
    "start_time": "2024-03-09T14:17:48.395Z"
   },
   {
    "duration": 11,
    "start_time": "2024-03-09T14:17:48.405Z"
   },
   {
    "duration": 20,
    "start_time": "2024-03-09T14:17:48.417Z"
   },
   {
    "duration": 52,
    "start_time": "2024-03-09T14:17:48.439Z"
   },
   {
    "duration": 39,
    "start_time": "2024-03-09T14:17:48.493Z"
   },
   {
    "duration": 348,
    "start_time": "2024-03-09T14:17:48.534Z"
   },
   {
    "duration": 187,
    "start_time": "2024-03-09T14:17:48.884Z"
   },
   {
    "duration": 252,
    "start_time": "2024-03-09T14:17:49.074Z"
   },
   {
    "duration": 176,
    "start_time": "2024-03-09T14:17:49.328Z"
   },
   {
    "duration": 180,
    "start_time": "2024-03-09T14:17:49.506Z"
   },
   {
    "duration": 201,
    "start_time": "2024-03-09T14:17:49.688Z"
   },
   {
    "duration": 179,
    "start_time": "2024-03-09T14:17:49.891Z"
   },
   {
    "duration": 157,
    "start_time": "2024-03-09T14:17:50.072Z"
   },
   {
    "duration": 170,
    "start_time": "2024-03-09T14:17:50.230Z"
   },
   {
    "duration": 165,
    "start_time": "2024-03-09T14:17:50.402Z"
   },
   {
    "duration": 170,
    "start_time": "2024-03-09T14:17:50.569Z"
   },
   {
    "duration": 165,
    "start_time": "2024-03-09T14:17:50.741Z"
   },
   {
    "duration": 169,
    "start_time": "2024-03-09T14:17:50.907Z"
   },
   {
    "duration": 273,
    "start_time": "2024-03-09T14:17:51.078Z"
   },
   {
    "duration": 168,
    "start_time": "2024-03-09T14:17:51.353Z"
   },
   {
    "duration": 170,
    "start_time": "2024-03-09T14:17:51.522Z"
   },
   {
    "duration": 159,
    "start_time": "2024-03-09T14:17:51.694Z"
   },
   {
    "duration": 155,
    "start_time": "2024-03-09T14:17:51.855Z"
   },
   {
    "duration": 161,
    "start_time": "2024-03-09T14:17:52.011Z"
   },
   {
    "duration": 173,
    "start_time": "2024-03-09T14:17:52.174Z"
   },
   {
    "duration": 25,
    "start_time": "2024-03-09T14:17:52.349Z"
   },
   {
    "duration": 15,
    "start_time": "2024-03-09T14:20:38.334Z"
   },
   {
    "duration": 15,
    "start_time": "2024-03-09T14:24:19.554Z"
   },
   {
    "duration": 166,
    "start_time": "2024-03-09T14:26:28.674Z"
   },
   {
    "duration": 122,
    "start_time": "2024-03-09T14:27:30.985Z"
   },
   {
    "duration": 130,
    "start_time": "2024-03-09T14:27:54.864Z"
   },
   {
    "duration": 155,
    "start_time": "2024-03-09T14:28:20.355Z"
   },
   {
    "duration": 130,
    "start_time": "2024-03-09T14:29:06.322Z"
   },
   {
    "duration": 132,
    "start_time": "2024-03-09T14:30:39.404Z"
   },
   {
    "duration": 137,
    "start_time": "2024-03-09T14:31:23.564Z"
   },
   {
    "duration": 150,
    "start_time": "2024-03-09T14:34:18.339Z"
   },
   {
    "duration": 151,
    "start_time": "2024-03-09T14:34:39.322Z"
   },
   {
    "duration": 147,
    "start_time": "2024-03-09T14:54:41.530Z"
   },
   {
    "duration": 146,
    "start_time": "2024-03-09T14:55:11.412Z"
   },
   {
    "duration": 58,
    "start_time": "2024-03-12T15:03:13.772Z"
   },
   {
    "duration": 967,
    "start_time": "2024-03-12T15:03:25.587Z"
   },
   {
    "duration": 42,
    "start_time": "2024-03-12T15:03:26.557Z"
   },
   {
    "duration": 14,
    "start_time": "2024-03-12T15:03:26.600Z"
   },
   {
    "duration": 2145,
    "start_time": "2024-03-12T15:03:26.616Z"
   },
   {
    "duration": 25,
    "start_time": "2024-03-12T15:03:28.763Z"
   },
   {
    "duration": 9,
    "start_time": "2024-03-12T15:03:32.925Z"
   },
   {
    "duration": 10,
    "start_time": "2024-03-12T15:03:47.363Z"
   },
   {
    "duration": 19,
    "start_time": "2024-03-12T15:22:35.043Z"
   },
   {
    "duration": 10,
    "start_time": "2024-03-12T15:23:01.660Z"
   },
   {
    "duration": 15,
    "start_time": "2024-03-12T15:26:31.832Z"
   },
   {
    "duration": 45,
    "start_time": "2024-03-12T15:26:37.124Z"
   },
   {
    "duration": 15,
    "start_time": "2024-03-12T15:27:08.415Z"
   },
   {
    "duration": 16,
    "start_time": "2024-03-12T15:27:26.114Z"
   },
   {
    "duration": 18,
    "start_time": "2024-03-12T15:27:46.523Z"
   },
   {
    "duration": 17,
    "start_time": "2024-03-12T15:28:36.064Z"
   },
   {
    "duration": 6,
    "start_time": "2024-03-12T15:31:30.253Z"
   },
   {
    "duration": 12,
    "start_time": "2024-03-12T15:32:50.273Z"
   },
   {
    "duration": 551,
    "start_time": "2024-03-12T15:33:40.803Z"
   },
   {
    "duration": 789,
    "start_time": "2024-03-12T15:35:14.814Z"
   },
   {
    "duration": 44,
    "start_time": "2024-03-12T15:35:15.606Z"
   },
   {
    "duration": 16,
    "start_time": "2024-03-12T15:35:15.652Z"
   },
   {
    "duration": 2306,
    "start_time": "2024-03-12T15:35:15.679Z"
   },
   {
    "duration": 27,
    "start_time": "2024-03-12T15:35:17.988Z"
   },
   {
    "duration": 19,
    "start_time": "2024-03-12T15:35:18.016Z"
   },
   {
    "duration": 9,
    "start_time": "2024-03-12T15:35:18.037Z"
   },
   {
    "duration": 35,
    "start_time": "2024-03-12T15:35:18.047Z"
   },
   {
    "duration": 24,
    "start_time": "2024-03-12T15:35:18.084Z"
   },
   {
    "duration": 12,
    "start_time": "2024-03-12T15:35:18.109Z"
   },
   {
    "duration": 33,
    "start_time": "2024-03-12T15:35:18.123Z"
   },
   {
    "duration": 58,
    "start_time": "2024-03-12T15:35:18.158Z"
   },
   {
    "duration": 584,
    "start_time": "2024-03-12T15:35:18.218Z"
   },
   {
    "duration": 215,
    "start_time": "2024-03-12T15:35:18.805Z"
   },
   {
    "duration": 209,
    "start_time": "2024-03-12T15:35:19.022Z"
   },
   {
    "duration": 201,
    "start_time": "2024-03-12T15:35:19.233Z"
   },
   {
    "duration": 191,
    "start_time": "2024-03-12T15:35:19.436Z"
   },
   {
    "duration": 211,
    "start_time": "2024-03-12T15:35:19.629Z"
   },
   {
    "duration": 202,
    "start_time": "2024-03-12T15:35:19.842Z"
   },
   {
    "duration": 174,
    "start_time": "2024-03-12T15:35:20.046Z"
   },
   {
    "duration": 177,
    "start_time": "2024-03-12T15:35:20.222Z"
   },
   {
    "duration": 287,
    "start_time": "2024-03-12T15:35:20.401Z"
   },
   {
    "duration": 181,
    "start_time": "2024-03-12T15:35:20.690Z"
   },
   {
    "duration": 4,
    "start_time": "2024-03-12T15:36:36.406Z"
   },
   {
    "duration": 104,
    "start_time": "2024-03-12T15:37:18.273Z"
   },
   {
    "duration": 98,
    "start_time": "2024-03-12T15:37:21.137Z"
   },
   {
    "duration": 219,
    "start_time": "2024-03-12T15:39:00.835Z"
   },
   {
    "duration": 193,
    "start_time": "2024-03-12T15:39:17.576Z"
   },
   {
    "duration": 207,
    "start_time": "2024-03-12T15:40:17.883Z"
   },
   {
    "duration": 189,
    "start_time": "2024-03-12T15:40:50.944Z"
   },
   {
    "duration": 177,
    "start_time": "2024-03-12T15:40:55.824Z"
   },
   {
    "duration": 285,
    "start_time": "2024-03-12T15:42:06.482Z"
   },
   {
    "duration": 273,
    "start_time": "2024-03-12T15:42:23.410Z"
   },
   {
    "duration": 300,
    "start_time": "2024-03-12T15:42:30.022Z"
   },
   {
    "duration": 196,
    "start_time": "2024-03-12T15:43:27.998Z"
   },
   {
    "duration": 449,
    "start_time": "2024-03-12T15:43:56.523Z"
   },
   {
    "duration": 299,
    "start_time": "2024-03-12T15:44:12.612Z"
   },
   {
    "duration": 276,
    "start_time": "2024-03-12T15:44:31.791Z"
   },
   {
    "duration": 281,
    "start_time": "2024-03-12T15:44:48.022Z"
   },
   {
    "duration": 288,
    "start_time": "2024-03-12T15:44:58.875Z"
   },
   {
    "duration": 297,
    "start_time": "2024-03-12T15:45:16.903Z"
   },
   {
    "duration": 277,
    "start_time": "2024-03-12T15:45:50.691Z"
   },
   {
    "duration": 291,
    "start_time": "2024-03-12T15:46:03.564Z"
   },
   {
    "duration": 178,
    "start_time": "2024-03-12T15:47:25.412Z"
   },
   {
    "duration": 107,
    "start_time": "2024-03-12T15:47:42.373Z"
   },
   {
    "duration": 268,
    "start_time": "2024-03-12T15:47:51.098Z"
   },
   {
    "duration": 295,
    "start_time": "2024-03-12T15:48:18.506Z"
   },
   {
    "duration": 283,
    "start_time": "2024-03-12T15:48:48.682Z"
   },
   {
    "duration": 415,
    "start_time": "2024-03-12T15:49:07.654Z"
   },
   {
    "duration": 195,
    "start_time": "2024-03-12T15:50:07.525Z"
   },
   {
    "duration": 287,
    "start_time": "2024-03-12T15:51:30.802Z"
   },
   {
    "duration": 288,
    "start_time": "2024-03-12T15:53:10.370Z"
   },
   {
    "duration": 289,
    "start_time": "2024-03-12T15:54:35.927Z"
   },
   {
    "duration": 280,
    "start_time": "2024-03-12T15:54:44.816Z"
   },
   {
    "duration": 4,
    "start_time": "2024-03-12T15:55:53.835Z"
   },
   {
    "duration": 785,
    "start_time": "2024-03-12T15:56:37.654Z"
   },
   {
    "duration": 51,
    "start_time": "2024-03-12T15:56:38.441Z"
   },
   {
    "duration": 27,
    "start_time": "2024-03-12T15:56:38.494Z"
   },
   {
    "duration": 2168,
    "start_time": "2024-03-12T15:56:38.523Z"
   },
   {
    "duration": 27,
    "start_time": "2024-03-12T15:56:40.693Z"
   },
   {
    "duration": 22,
    "start_time": "2024-03-12T15:56:40.722Z"
   },
   {
    "duration": 10,
    "start_time": "2024-03-12T15:56:40.745Z"
   },
   {
    "duration": 33,
    "start_time": "2024-03-12T15:56:40.757Z"
   },
   {
    "duration": 22,
    "start_time": "2024-03-12T15:56:40.792Z"
   },
   {
    "duration": 10,
    "start_time": "2024-03-12T15:56:40.816Z"
   },
   {
    "duration": 19,
    "start_time": "2024-03-12T15:56:40.828Z"
   },
   {
    "duration": 63,
    "start_time": "2024-03-12T15:56:40.849Z"
   },
   {
    "duration": 529,
    "start_time": "2024-03-12T15:56:40.914Z"
   },
   {
    "duration": 215,
    "start_time": "2024-03-12T15:56:41.446Z"
   },
   {
    "duration": 207,
    "start_time": "2024-03-12T15:56:41.663Z"
   },
   {
    "duration": 202,
    "start_time": "2024-03-12T15:56:41.872Z"
   },
   {
    "duration": 290,
    "start_time": "2024-03-12T15:56:42.076Z"
   },
   {
    "duration": 222,
    "start_time": "2024-03-12T15:56:42.368Z"
   },
   {
    "duration": 228,
    "start_time": "2024-03-12T15:56:42.591Z"
   },
   {
    "duration": 1712,
    "start_time": "2024-03-12T15:56:42.821Z"
   },
   {
    "duration": 0,
    "start_time": "2024-03-12T15:56:44.535Z"
   },
   {
    "duration": 0,
    "start_time": "2024-03-12T15:56:44.537Z"
   },
   {
    "duration": 0,
    "start_time": "2024-03-12T15:56:44.539Z"
   },
   {
    "duration": 1586,
    "start_time": "2024-03-12T15:57:42.888Z"
   },
   {
    "duration": 168,
    "start_time": "2024-03-12T15:58:21.548Z"
   },
   {
    "duration": 173,
    "start_time": "2024-03-12T15:58:34.013Z"
   },
   {
    "duration": 759,
    "start_time": "2024-03-12T15:59:41.823Z"
   },
   {
    "duration": 43,
    "start_time": "2024-03-12T15:59:42.584Z"
   },
   {
    "duration": 15,
    "start_time": "2024-03-12T15:59:42.629Z"
   },
   {
    "duration": 2180,
    "start_time": "2024-03-12T15:59:42.645Z"
   },
   {
    "duration": 25,
    "start_time": "2024-03-12T15:59:44.828Z"
   },
   {
    "duration": 19,
    "start_time": "2024-03-12T15:59:44.855Z"
   },
   {
    "duration": 9,
    "start_time": "2024-03-12T15:59:44.880Z"
   },
   {
    "duration": 10,
    "start_time": "2024-03-12T15:59:44.891Z"
   },
   {
    "duration": 22,
    "start_time": "2024-03-12T15:59:44.903Z"
   },
   {
    "duration": 12,
    "start_time": "2024-03-12T15:59:44.926Z"
   },
   {
    "duration": 47,
    "start_time": "2024-03-12T15:59:44.939Z"
   },
   {
    "duration": 36,
    "start_time": "2024-03-12T15:59:44.987Z"
   },
   {
    "duration": 563,
    "start_time": "2024-03-12T15:59:45.025Z"
   },
   {
    "duration": 211,
    "start_time": "2024-03-12T15:59:45.590Z"
   },
   {
    "duration": 201,
    "start_time": "2024-03-12T15:59:45.803Z"
   },
   {
    "duration": 189,
    "start_time": "2024-03-12T15:59:46.006Z"
   },
   {
    "duration": 206,
    "start_time": "2024-03-12T15:59:46.197Z"
   },
   {
    "duration": 222,
    "start_time": "2024-03-12T15:59:46.405Z"
   },
   {
    "duration": 207,
    "start_time": "2024-03-12T15:59:46.629Z"
   },
   {
    "duration": 187,
    "start_time": "2024-03-12T15:59:46.838Z"
   },
   {
    "duration": 187,
    "start_time": "2024-03-12T15:59:47.027Z"
   },
   {
    "duration": 284,
    "start_time": "2024-03-12T15:59:47.216Z"
   },
   {
    "duration": 194,
    "start_time": "2024-03-12T15:59:47.501Z"
   },
   {
    "duration": 4,
    "start_time": "2024-03-12T15:59:58.694Z"
   },
   {
    "duration": 807,
    "start_time": "2024-03-12T16:01:11.364Z"
   },
   {
    "duration": 43,
    "start_time": "2024-03-12T16:01:12.173Z"
   },
   {
    "duration": 15,
    "start_time": "2024-03-12T16:01:12.217Z"
   },
   {
    "duration": 2308,
    "start_time": "2024-03-12T16:01:12.234Z"
   },
   {
    "duration": 28,
    "start_time": "2024-03-12T16:01:14.567Z"
   },
   {
    "duration": 19,
    "start_time": "2024-03-12T16:01:14.596Z"
   },
   {
    "duration": 9,
    "start_time": "2024-03-12T16:01:14.617Z"
   },
   {
    "duration": 11,
    "start_time": "2024-03-12T16:01:14.627Z"
   },
   {
    "duration": 51,
    "start_time": "2024-03-12T16:01:14.639Z"
   },
   {
    "duration": 11,
    "start_time": "2024-03-12T16:01:14.692Z"
   },
   {
    "duration": 25,
    "start_time": "2024-03-12T16:01:14.704Z"
   },
   {
    "duration": 56,
    "start_time": "2024-03-12T16:01:14.730Z"
   },
   {
    "duration": 518,
    "start_time": "2024-03-12T16:01:14.788Z"
   },
   {
    "duration": 200,
    "start_time": "2024-03-12T16:01:15.308Z"
   },
   {
    "duration": 204,
    "start_time": "2024-03-12T16:01:15.510Z"
   },
   {
    "duration": 188,
    "start_time": "2024-03-12T16:01:15.715Z"
   },
   {
    "duration": 203,
    "start_time": "2024-03-12T16:01:15.904Z"
   },
   {
    "duration": 207,
    "start_time": "2024-03-12T16:01:16.108Z"
   },
   {
    "duration": 212,
    "start_time": "2024-03-12T16:01:16.317Z"
   },
   {
    "duration": 196,
    "start_time": "2024-03-12T16:01:16.531Z"
   },
   {
    "duration": 198,
    "start_time": "2024-03-12T16:01:16.729Z"
   },
   {
    "duration": 296,
    "start_time": "2024-03-12T16:01:16.929Z"
   },
   {
    "duration": 206,
    "start_time": "2024-03-12T16:01:17.227Z"
   },
   {
    "duration": 4,
    "start_time": "2024-03-12T16:01:21.385Z"
   },
   {
    "duration": 751,
    "start_time": "2024-03-12T16:05:45.705Z"
   },
   {
    "duration": 45,
    "start_time": "2024-03-12T16:05:46.458Z"
   },
   {
    "duration": 16,
    "start_time": "2024-03-12T16:05:46.505Z"
   },
   {
    "duration": 2219,
    "start_time": "2024-03-12T16:05:46.522Z"
   },
   {
    "duration": 37,
    "start_time": "2024-03-12T16:05:48.745Z"
   },
   {
    "duration": 25,
    "start_time": "2024-03-12T16:05:48.784Z"
   },
   {
    "duration": 9,
    "start_time": "2024-03-12T16:05:48.811Z"
   },
   {
    "duration": 39,
    "start_time": "2024-03-12T16:05:48.821Z"
   },
   {
    "duration": 36,
    "start_time": "2024-03-12T16:05:48.862Z"
   },
   {
    "duration": 19,
    "start_time": "2024-03-12T16:05:48.900Z"
   },
   {
    "duration": 45,
    "start_time": "2024-03-12T16:05:48.921Z"
   },
   {
    "duration": 46,
    "start_time": "2024-03-12T16:05:48.969Z"
   },
   {
    "duration": 541,
    "start_time": "2024-03-12T16:05:49.017Z"
   },
   {
    "duration": 225,
    "start_time": "2024-03-12T16:05:49.562Z"
   },
   {
    "duration": 203,
    "start_time": "2024-03-12T16:05:49.789Z"
   },
   {
    "duration": 197,
    "start_time": "2024-03-12T16:05:49.993Z"
   },
   {
    "duration": 212,
    "start_time": "2024-03-12T16:05:50.191Z"
   },
   {
    "duration": 233,
    "start_time": "2024-03-12T16:05:50.405Z"
   },
   {
    "duration": 229,
    "start_time": "2024-03-12T16:05:50.640Z"
   },
   {
    "duration": 185,
    "start_time": "2024-03-12T16:05:50.870Z"
   },
   {
    "duration": 185,
    "start_time": "2024-03-12T16:05:51.057Z"
   },
   {
    "duration": 283,
    "start_time": "2024-03-12T16:05:51.243Z"
   },
   {
    "duration": 195,
    "start_time": "2024-03-12T16:05:51.527Z"
   },
   {
    "duration": 4,
    "start_time": "2024-03-12T16:05:56.445Z"
   },
   {
    "duration": 759,
    "start_time": "2024-03-12T16:08:43.417Z"
   },
   {
    "duration": 47,
    "start_time": "2024-03-12T16:08:44.179Z"
   },
   {
    "duration": 17,
    "start_time": "2024-03-12T16:08:44.228Z"
   },
   {
    "duration": 2195,
    "start_time": "2024-03-12T16:08:44.246Z"
   },
   {
    "duration": 27,
    "start_time": "2024-03-12T16:08:46.444Z"
   },
   {
    "duration": 20,
    "start_time": "2024-03-12T16:08:46.473Z"
   },
   {
    "duration": 8,
    "start_time": "2024-03-12T16:08:46.495Z"
   },
   {
    "duration": 12,
    "start_time": "2024-03-12T16:08:46.504Z"
   },
   {
    "duration": 25,
    "start_time": "2024-03-12T16:08:46.517Z"
   },
   {
    "duration": 39,
    "start_time": "2024-03-12T16:08:46.543Z"
   },
   {
    "duration": 24,
    "start_time": "2024-03-12T16:08:46.584Z"
   },
   {
    "duration": 35,
    "start_time": "2024-03-12T16:08:46.609Z"
   },
   {
    "duration": 540,
    "start_time": "2024-03-12T16:08:46.645Z"
   },
   {
    "duration": 204,
    "start_time": "2024-03-12T16:08:47.187Z"
   },
   {
    "duration": 206,
    "start_time": "2024-03-12T16:08:47.392Z"
   },
   {
    "duration": 186,
    "start_time": "2024-03-12T16:08:47.599Z"
   },
   {
    "duration": 196,
    "start_time": "2024-03-12T16:08:47.786Z"
   },
   {
    "duration": 216,
    "start_time": "2024-03-12T16:08:47.983Z"
   },
   {
    "duration": 200,
    "start_time": "2024-03-12T16:08:48.200Z"
   },
   {
    "duration": 179,
    "start_time": "2024-03-12T16:08:48.402Z"
   },
   {
    "duration": 222,
    "start_time": "2024-03-12T16:08:48.583Z"
   },
   {
    "duration": 290,
    "start_time": "2024-03-12T16:08:48.807Z"
   },
   {
    "duration": 198,
    "start_time": "2024-03-12T16:08:49.099Z"
   },
   {
    "duration": 5,
    "start_time": "2024-03-12T16:09:04.566Z"
   },
   {
    "duration": 790,
    "start_time": "2024-03-12T16:10:39.001Z"
   },
   {
    "duration": 41,
    "start_time": "2024-03-12T16:10:39.793Z"
   },
   {
    "duration": 15,
    "start_time": "2024-03-12T16:10:39.835Z"
   },
   {
    "duration": 2288,
    "start_time": "2024-03-12T16:10:39.851Z"
   },
   {
    "duration": 29,
    "start_time": "2024-03-12T16:10:42.142Z"
   },
   {
    "duration": 19,
    "start_time": "2024-03-12T16:10:42.172Z"
   },
   {
    "duration": 12,
    "start_time": "2024-03-12T16:10:42.193Z"
   },
   {
    "duration": 21,
    "start_time": "2024-03-12T16:10:42.207Z"
   },
   {
    "duration": 28,
    "start_time": "2024-03-12T16:10:42.230Z"
   },
   {
    "duration": 12,
    "start_time": "2024-03-12T16:10:42.280Z"
   },
   {
    "duration": 32,
    "start_time": "2024-03-12T16:10:42.294Z"
   },
   {
    "duration": 52,
    "start_time": "2024-03-12T16:10:42.328Z"
   },
   {
    "duration": 580,
    "start_time": "2024-03-12T16:10:42.382Z"
   },
   {
    "duration": 208,
    "start_time": "2024-03-12T16:10:42.965Z"
   },
   {
    "duration": 208,
    "start_time": "2024-03-12T16:10:43.175Z"
   },
   {
    "duration": 227,
    "start_time": "2024-03-12T16:10:43.384Z"
   },
   {
    "duration": 213,
    "start_time": "2024-03-12T16:10:43.614Z"
   },
   {
    "duration": 259,
    "start_time": "2024-03-12T16:10:43.829Z"
   },
   {
    "duration": 237,
    "start_time": "2024-03-12T16:10:44.090Z"
   },
   {
    "duration": 191,
    "start_time": "2024-03-12T16:10:44.329Z"
   },
   {
    "duration": 203,
    "start_time": "2024-03-12T16:10:44.522Z"
   },
   {
    "duration": 295,
    "start_time": "2024-03-12T16:10:44.727Z"
   },
   {
    "duration": 221,
    "start_time": "2024-03-12T16:10:45.026Z"
   },
   {
    "duration": 4,
    "start_time": "2024-03-12T16:10:48.275Z"
   },
   {
    "duration": 780,
    "start_time": "2024-03-12T16:11:20.884Z"
   },
   {
    "duration": 45,
    "start_time": "2024-03-12T16:11:21.666Z"
   },
   {
    "duration": 16,
    "start_time": "2024-03-12T16:11:21.713Z"
   },
   {
    "duration": 2294,
    "start_time": "2024-03-12T16:11:21.731Z"
   },
   {
    "duration": 26,
    "start_time": "2024-03-12T16:11:24.027Z"
   },
   {
    "duration": 19,
    "start_time": "2024-03-12T16:11:24.055Z"
   },
   {
    "duration": 11,
    "start_time": "2024-03-12T16:11:24.075Z"
   },
   {
    "duration": 14,
    "start_time": "2024-03-12T16:11:24.088Z"
   },
   {
    "duration": 23,
    "start_time": "2024-03-12T16:11:24.104Z"
   },
   {
    "duration": 10,
    "start_time": "2024-03-12T16:11:24.128Z"
   },
   {
    "duration": 46,
    "start_time": "2024-03-12T16:11:24.140Z"
   },
   {
    "duration": 37,
    "start_time": "2024-03-12T16:11:24.188Z"
   },
   {
    "duration": 559,
    "start_time": "2024-03-12T16:11:24.227Z"
   },
   {
    "duration": 201,
    "start_time": "2024-03-12T16:11:24.789Z"
   },
   {
    "duration": 191,
    "start_time": "2024-03-12T16:11:24.991Z"
   },
   {
    "duration": 187,
    "start_time": "2024-03-12T16:11:25.184Z"
   },
   {
    "duration": 194,
    "start_time": "2024-03-12T16:11:25.373Z"
   },
   {
    "duration": 221,
    "start_time": "2024-03-12T16:11:25.569Z"
   },
   {
    "duration": 215,
    "start_time": "2024-03-12T16:11:25.791Z"
   },
   {
    "duration": 190,
    "start_time": "2024-03-12T16:11:26.008Z"
   },
   {
    "duration": 192,
    "start_time": "2024-03-12T16:11:26.199Z"
   },
   {
    "duration": 279,
    "start_time": "2024-03-12T16:11:26.392Z"
   },
   {
    "duration": 193,
    "start_time": "2024-03-12T16:11:26.680Z"
   },
   {
    "duration": 4,
    "start_time": "2024-03-12T16:11:29.693Z"
   },
   {
    "duration": 11,
    "start_time": "2024-03-12T16:12:07.347Z"
   },
   {
    "duration": 6,
    "start_time": "2024-03-12T16:12:56.908Z"
   },
   {
    "duration": 4,
    "start_time": "2024-03-12T16:13:30.635Z"
   },
   {
    "duration": 752,
    "start_time": "2024-03-12T16:15:46.209Z"
   },
   {
    "duration": 42,
    "start_time": "2024-03-12T16:15:46.963Z"
   },
   {
    "duration": 15,
    "start_time": "2024-03-12T16:15:47.007Z"
   },
   {
    "duration": 2243,
    "start_time": "2024-03-12T16:15:47.030Z"
   },
   {
    "duration": 27,
    "start_time": "2024-03-12T16:15:49.276Z"
   },
   {
    "duration": 18,
    "start_time": "2024-03-12T16:15:49.304Z"
   },
   {
    "duration": 16,
    "start_time": "2024-03-12T16:15:49.324Z"
   },
   {
    "duration": 11,
    "start_time": "2024-03-12T16:15:49.341Z"
   },
   {
    "duration": 51,
    "start_time": "2024-03-12T16:15:49.354Z"
   },
   {
    "duration": 13,
    "start_time": "2024-03-12T16:15:49.407Z"
   },
   {
    "duration": 28,
    "start_time": "2024-03-12T16:15:49.421Z"
   },
   {
    "duration": 42,
    "start_time": "2024-03-12T16:15:49.450Z"
   },
   {
    "duration": 501,
    "start_time": "2024-03-12T16:15:49.493Z"
   },
   {
    "duration": 198,
    "start_time": "2024-03-12T16:15:49.997Z"
   },
   {
    "duration": 202,
    "start_time": "2024-03-12T16:15:50.196Z"
   },
   {
    "duration": 194,
    "start_time": "2024-03-12T16:15:50.399Z"
   },
   {
    "duration": 209,
    "start_time": "2024-03-12T16:15:50.594Z"
   },
   {
    "duration": 209,
    "start_time": "2024-03-12T16:15:50.805Z"
   },
   {
    "duration": 201,
    "start_time": "2024-03-12T16:15:51.016Z"
   },
   {
    "duration": 178,
    "start_time": "2024-03-12T16:15:51.218Z"
   },
   {
    "duration": 180,
    "start_time": "2024-03-12T16:15:51.397Z"
   },
   {
    "duration": 278,
    "start_time": "2024-03-12T16:15:51.580Z"
   },
   {
    "duration": 207,
    "start_time": "2024-03-12T16:15:51.860Z"
   },
   {
    "duration": 14,
    "start_time": "2024-03-12T16:15:52.068Z"
   },
   {
    "duration": 199,
    "start_time": "2024-03-12T16:15:52.084Z"
   },
   {
    "duration": 214,
    "start_time": "2024-03-12T16:15:52.284Z"
   },
   {
    "duration": 203,
    "start_time": "2024-03-12T16:15:52.499Z"
   },
   {
    "duration": 193,
    "start_time": "2024-03-12T16:15:52.703Z"
   },
   {
    "duration": 184,
    "start_time": "2024-03-12T16:15:52.898Z"
   },
   {
    "duration": 181,
    "start_time": "2024-03-12T16:15:53.084Z"
   },
   {
    "duration": 202,
    "start_time": "2024-03-12T16:15:53.267Z"
   },
   {
    "duration": 215,
    "start_time": "2024-03-12T16:15:53.472Z"
   },
   {
    "duration": 207,
    "start_time": "2024-03-12T16:15:53.689Z"
   },
   {
    "duration": 28,
    "start_time": "2024-03-12T16:15:53.898Z"
   },
   {
    "duration": 198,
    "start_time": "2024-03-12T16:15:53.928Z"
   },
   {
    "duration": 247,
    "start_time": "2024-03-12T16:17:01.435Z"
   },
   {
    "duration": 213,
    "start_time": "2024-03-12T16:20:28.478Z"
   }
  ],
  "colab": {
   "provenance": []
  },
  "kernelspec": {
   "display_name": "Python 3 (ipykernel)",
   "language": "python",
   "name": "python3"
  },
  "language_info": {
   "codemirror_mode": {
    "name": "ipython",
    "version": 3
   },
   "file_extension": ".py",
   "mimetype": "text/x-python",
   "name": "python",
   "nbconvert_exporter": "python",
   "pygments_lexer": "ipython3",
   "version": "3.9.21"
  },
  "toc": {
   "base_numbering": 1,
   "nav_menu": {
    "height": "12px",
    "width": "160px"
   },
   "number_sections": true,
   "sideBar": true,
   "skip_h1_title": true,
   "title_cell": "Table of Contents",
   "title_sidebar": "Contents",
   "toc_cell": false,
   "toc_position": {},
   "toc_section_display": true,
   "toc_window_display": false
  }
 },
 "nbformat": 4,
 "nbformat_minor": 4
}
