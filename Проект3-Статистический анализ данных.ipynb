{
 "cells": [
  {
   "cell_type": "markdown",
   "id": "684b3187",
   "metadata": {},
   "source": [
    "<div class=\"alert alert-info\"> <b>Проект: Статистический анализ данных</b>.\n",
    "    \n",
    "\n",
    "    Вы аналитик популярного сервиса аренды самокатов GoFast. Вам передали данные о некоторых пользователях из нескольких городов, а также об их поездках. Проанализируйте данные и проверьте некоторые гипотезы, которые могут помочь бизнесу вырасти.\n",
    "    Чтобы совершать поездки по городу, пользователи сервиса GoFast пользуются мобильным приложением.\n",
    "    \n",
    "    Сервисом можно пользоваться:\n",
    "    без подписки\n",
    "    - абонентская плата отсутствует;\n",
    "    - стоимость одной минуты поездки — 8 рублей;\n",
    "    - стоимость старта (начала поездки) — 50 рублей;\n",
    "    \n",
    "    с подпиской Ultra\n",
    "    - абонентская плата — 199 рублей в месяц;\n",
    "    - стоимость одной минуты поездки — 6 рублей;\n",
    "    - стоимость старта — бесплатно.\n",
    "\n",
    "    Описание данных:\n",
    "    \n",
    "    Пользователи — users_go.csv\n",
    "    'user_id'\t- уникальный идентификатор пользователя\n",
    "    'name' - имя пользователя\n",
    "    'age' - возраст\n",
    "    'city' - город\n",
    "    'subscription_type' - тип подписки (free, ultra)\n",
    "    \n",
    "    Поездки — rides_go.csv\n",
    "    'user_id' - уникальный идентификатор пользователя\n",
    "    'distance' - расстояние, которое пользователь проехал в текущей сессии (в метрах)\n",
    "    'duration' - продолжительность сессии (в минутах) — время с того момента, как пользователь нажал кнопку «Начать поездку» до момента, как он нажал кнопку «Завершить поездку»\n",
    "    'date' - дата совершения поездки\n",
    "    \n",
    "    Подписки — subscriptions_go.csv\n",
    "    'subscription_type' - тип подписки\n",
    "    'minute_price' - стоимость одной минуты поездки по данной подписке\n",
    "    'start_ride_price' - стоимость начала поездки\n",
    "    'subscription_fee' - стоимость ежемесячного платежа\n",
    "    \n",
    "    Цель исследования: подсчитать выручку и проверить гипотезы.\n",
    "</div>"
   ]
  },
  {
   "cell_type": "markdown",
   "id": "95a69e29",
   "metadata": {},
   "source": [
    "**План работы:**\n",
    "\n",
    "    - Загрузка данных.\n",
    "        - Считываем данные из csv-файлов в датафреймы и сохраним в переменные dt_users, dt_rides, dt_sub..\n",
    "        - Выведем первые 20 строк датасетов dt_users, dt_rides, dt_sub. и информацию о них.\n",
    "    - Предобработка данных.\n",
    "        - Приведём столбец date к типу даты pandas.\n",
    "        - Создадим новый столбец с номером месяца на основе столбца date.\n",
    "        - Проверим наличие пропущенных значений и дубликатов в датафреймах.\n",
    "        - Удалим явные дубликаты.\n",
    "    - Исследовательский анализ данных.\n",
    "        - Опишем и визуализируем общую информацию о пользователях и поездках.\n",
    "        - Рассмотрим частоту встречаемости городов.\n",
    "        - Рассмотрим соотношение пользователей с подпиской и без подписки.\n",
    "        - Рассмотрим возраст пользователей.\n",
    "        - Рассмотрим расстояние, которое пользователь преодолевает за одну поездку.\n",
    "        - Рассмотрим продолжительность поездок.\n",
    "    - Объединение данных.\n",
    "        - Объединим данные о пользователях, поездках и подписках в один датафрейм.\n",
    "        - Создадим ещё два датафрейма c данными о пользователях без подписки; с данными о пользователях с подпиской.\n",
    "        - Визуализируем информацию о расстоянии.\n",
    "        - Визуализируем информацию о времени поездок.\n",
    "    - Подсчёт выручки.\n",
    "        - Создадим датафрейм с агрегированными данными о поездках.\n",
    "        - Добавим столбец с помесячной выручкой, которую принёс каждый пользователь.\n",
    "    - Проверка гипотез\n",
    "        - Проверим гипотезу: Тратят ли пользователи с подпиской больше времени на поездки?\n",
    "        - Проверим гипотезу: Можно ли сказать, что среднее расстояние, которое проезжают пользователи с подпиской за одну       поездку, не превышает 3130 метров?\n",
    "        - Проверьте гипотезу: Будет ли помесячная выручка от пользователей с подпиской по месяцам выше, чем выручка от пользователей без подписки?\n",
    "        - Дадим ответ на вопрос: Какой тест вам понадобился бы для проверки этой гипотезы?\n",
    "\n"
   ]
  },
  {
   "cell_type": "markdown",
   "id": "d7ef308d",
   "metadata": {},
   "source": []
  },
  {
   "cell_type": "code",
   "execution_count": 1,
   "id": "72576667",
   "metadata": {},
   "outputs": [],
   "source": [
    "#Импортируем библиотеку pandas\n",
    "import pandas as pd\n",
    "#Импортируем библиотеку matplotlib\n",
    "import matplotlib.pyplot as plt\n",
    "#Импортируем библиотеку numpy\n",
    "import numpy as np\n",
    "#Импортируем метод stats из библиотеки scipy\n",
    "from scipy import stats as st"
   ]
  },
  {
   "cell_type": "markdown",
   "id": "c42cbe00",
   "metadata": {},
   "source": [
    "#### Шаг 1. Загрузка данных"
   ]
  },
  {
   "cell_type": "markdown",
   "id": "60f45168",
   "metadata": {},
   "source": [
    "**Считываем данные из csv-файлов в датафреймы и сохраним в переменные dt_users, dt_rides, dt_sub.**"
   ]
  },
  {
   "cell_type": "code",
   "execution_count": 2,
   "id": "eff9f206",
   "metadata": {},
   "outputs": [],
   "source": [
    "#Сохраним данные из датасетов в переменные\n",
    "dt_users = pd.read_csv('/datasets/users_go.csv')\n",
    "\n",
    "dt_rides = pd.read_csv('/datasets/rides_go.csv')\n",
    "\n",
    "dt_sub = pd.read_csv('/datasets/subscriptions_go.csv')"
   ]
  },
  {
   "cell_type": "markdown",
   "id": "40040bf5",
   "metadata": {},
   "source": [
    "**Выведем первые 20 строк датасета dt_users и информацию о нём.**"
   ]
  },
  {
   "cell_type": "code",
   "execution_count": 3,
   "id": "a2a9a7e1",
   "metadata": {},
   "outputs": [
    {
     "name": "stdout",
     "output_type": "stream",
     "text": [
      "<class 'pandas.core.frame.DataFrame'>\n",
      "RangeIndex: 1565 entries, 0 to 1564\n",
      "Data columns (total 5 columns):\n",
      " #   Column             Non-Null Count  Dtype \n",
      "---  ------             --------------  ----- \n",
      " 0   user_id            1565 non-null   int64 \n",
      " 1   name               1565 non-null   object\n",
      " 2   age                1565 non-null   int64 \n",
      " 3   city               1565 non-null   object\n",
      " 4   subscription_type  1565 non-null   object\n",
      "dtypes: int64(2), object(3)\n",
      "memory usage: 61.3+ KB\n"
     ]
    },
    {
     "data": {
      "text/plain": [
       "None"
      ]
     },
     "metadata": {},
     "output_type": "display_data"
    },
    {
     "data": {
      "text/html": [
       "<div>\n",
       "<style scoped>\n",
       "    .dataframe tbody tr th:only-of-type {\n",
       "        vertical-align: middle;\n",
       "    }\n",
       "\n",
       "    .dataframe tbody tr th {\n",
       "        vertical-align: top;\n",
       "    }\n",
       "\n",
       "    .dataframe thead th {\n",
       "        text-align: right;\n",
       "    }\n",
       "</style>\n",
       "<table border=\"1\" class=\"dataframe\">\n",
       "  <thead>\n",
       "    <tr style=\"text-align: right;\">\n",
       "      <th></th>\n",
       "      <th>user_id</th>\n",
       "      <th>name</th>\n",
       "      <th>age</th>\n",
       "      <th>city</th>\n",
       "      <th>subscription_type</th>\n",
       "    </tr>\n",
       "  </thead>\n",
       "  <tbody>\n",
       "    <tr>\n",
       "      <th>0</th>\n",
       "      <td>1</td>\n",
       "      <td>Кира</td>\n",
       "      <td>22</td>\n",
       "      <td>Тюмень</td>\n",
       "      <td>ultra</td>\n",
       "    </tr>\n",
       "    <tr>\n",
       "      <th>1</th>\n",
       "      <td>2</td>\n",
       "      <td>Станислав</td>\n",
       "      <td>31</td>\n",
       "      <td>Омск</td>\n",
       "      <td>ultra</td>\n",
       "    </tr>\n",
       "    <tr>\n",
       "      <th>2</th>\n",
       "      <td>3</td>\n",
       "      <td>Алексей</td>\n",
       "      <td>20</td>\n",
       "      <td>Москва</td>\n",
       "      <td>ultra</td>\n",
       "    </tr>\n",
       "    <tr>\n",
       "      <th>3</th>\n",
       "      <td>4</td>\n",
       "      <td>Константин</td>\n",
       "      <td>26</td>\n",
       "      <td>Ростов-на-Дону</td>\n",
       "      <td>ultra</td>\n",
       "    </tr>\n",
       "    <tr>\n",
       "      <th>4</th>\n",
       "      <td>5</td>\n",
       "      <td>Адель</td>\n",
       "      <td>28</td>\n",
       "      <td>Омск</td>\n",
       "      <td>ultra</td>\n",
       "    </tr>\n",
       "    <tr>\n",
       "      <th>5</th>\n",
       "      <td>6</td>\n",
       "      <td>Регина</td>\n",
       "      <td>25</td>\n",
       "      <td>Краснодар</td>\n",
       "      <td>ultra</td>\n",
       "    </tr>\n",
       "    <tr>\n",
       "      <th>6</th>\n",
       "      <td>7</td>\n",
       "      <td>Игорь</td>\n",
       "      <td>23</td>\n",
       "      <td>Омск</td>\n",
       "      <td>ultra</td>\n",
       "    </tr>\n",
       "    <tr>\n",
       "      <th>7</th>\n",
       "      <td>8</td>\n",
       "      <td>Юрий</td>\n",
       "      <td>23</td>\n",
       "      <td>Краснодар</td>\n",
       "      <td>ultra</td>\n",
       "    </tr>\n",
       "    <tr>\n",
       "      <th>8</th>\n",
       "      <td>9</td>\n",
       "      <td>Ян</td>\n",
       "      <td>21</td>\n",
       "      <td>Пятигорск</td>\n",
       "      <td>ultra</td>\n",
       "    </tr>\n",
       "    <tr>\n",
       "      <th>9</th>\n",
       "      <td>10</td>\n",
       "      <td>Валерий</td>\n",
       "      <td>18</td>\n",
       "      <td>Екатеринбург</td>\n",
       "      <td>ultra</td>\n",
       "    </tr>\n",
       "    <tr>\n",
       "      <th>10</th>\n",
       "      <td>11</td>\n",
       "      <td>Агата</td>\n",
       "      <td>31</td>\n",
       "      <td>Краснодар</td>\n",
       "      <td>ultra</td>\n",
       "    </tr>\n",
       "    <tr>\n",
       "      <th>11</th>\n",
       "      <td>12</td>\n",
       "      <td>Марк</td>\n",
       "      <td>27</td>\n",
       "      <td>Тюмень</td>\n",
       "      <td>ultra</td>\n",
       "    </tr>\n",
       "    <tr>\n",
       "      <th>12</th>\n",
       "      <td>13</td>\n",
       "      <td>Ева</td>\n",
       "      <td>24</td>\n",
       "      <td>Краснодар</td>\n",
       "      <td>ultra</td>\n",
       "    </tr>\n",
       "    <tr>\n",
       "      <th>13</th>\n",
       "      <td>14</td>\n",
       "      <td>Антонина</td>\n",
       "      <td>18</td>\n",
       "      <td>Пятигорск</td>\n",
       "      <td>ultra</td>\n",
       "    </tr>\n",
       "    <tr>\n",
       "      <th>14</th>\n",
       "      <td>15</td>\n",
       "      <td>Валерия</td>\n",
       "      <td>24</td>\n",
       "      <td>Тюмень</td>\n",
       "      <td>ultra</td>\n",
       "    </tr>\n",
       "    <tr>\n",
       "      <th>15</th>\n",
       "      <td>16</td>\n",
       "      <td>Амалия</td>\n",
       "      <td>27</td>\n",
       "      <td>Краснодар</td>\n",
       "      <td>ultra</td>\n",
       "    </tr>\n",
       "    <tr>\n",
       "      <th>16</th>\n",
       "      <td>17</td>\n",
       "      <td>Даниил</td>\n",
       "      <td>29</td>\n",
       "      <td>Москва</td>\n",
       "      <td>ultra</td>\n",
       "    </tr>\n",
       "    <tr>\n",
       "      <th>17</th>\n",
       "      <td>18</td>\n",
       "      <td>Аделина</td>\n",
       "      <td>24</td>\n",
       "      <td>Сочи</td>\n",
       "      <td>ultra</td>\n",
       "    </tr>\n",
       "    <tr>\n",
       "      <th>18</th>\n",
       "      <td>19</td>\n",
       "      <td>Регина</td>\n",
       "      <td>32</td>\n",
       "      <td>Тюмень</td>\n",
       "      <td>ultra</td>\n",
       "    </tr>\n",
       "    <tr>\n",
       "      <th>19</th>\n",
       "      <td>20</td>\n",
       "      <td>Игорь</td>\n",
       "      <td>23</td>\n",
       "      <td>Омск</td>\n",
       "      <td>ultra</td>\n",
       "    </tr>\n",
       "  </tbody>\n",
       "</table>\n",
       "</div>"
      ],
      "text/plain": [
       "    user_id        name  age            city subscription_type\n",
       "0         1        Кира   22          Тюмень             ultra\n",
       "1         2   Станислав   31            Омск             ultra\n",
       "2         3     Алексей   20          Москва             ultra\n",
       "3         4  Константин   26  Ростов-на-Дону             ultra\n",
       "4         5       Адель   28            Омск             ultra\n",
       "5         6      Регина   25       Краснодар             ultra\n",
       "6         7       Игорь   23            Омск             ultra\n",
       "7         8        Юрий   23       Краснодар             ultra\n",
       "8         9          Ян   21       Пятигорск             ultra\n",
       "9        10     Валерий   18    Екатеринбург             ultra\n",
       "10       11       Агата   31       Краснодар             ultra\n",
       "11       12        Марк   27          Тюмень             ultra\n",
       "12       13         Ева   24       Краснодар             ultra\n",
       "13       14    Антонина   18       Пятигорск             ultra\n",
       "14       15     Валерия   24          Тюмень             ultra\n",
       "15       16      Амалия   27       Краснодар             ultra\n",
       "16       17      Даниил   29          Москва             ultra\n",
       "17       18     Аделина   24            Сочи             ultra\n",
       "18       19      Регина   32          Тюмень             ultra\n",
       "19       20       Игорь   23            Омск             ultra"
      ]
     },
     "execution_count": 3,
     "metadata": {},
     "output_type": "execute_result"
    }
   ],
   "source": [
    "dt_users#Сделаем обзор датасета data_users\n",
    "display(dt_users.info())\n",
    "dt_users.head(20)"
   ]
  },
  {
   "cell_type": "markdown",
   "id": "8bffe837",
   "metadata": {},
   "source": [
    "**Выведем первые 20 строк датасета dt_rides и информацию о нём.**"
   ]
  },
  {
   "cell_type": "code",
   "execution_count": 4,
   "id": "0a98d993",
   "metadata": {},
   "outputs": [
    {
     "name": "stdout",
     "output_type": "stream",
     "text": [
      "<class 'pandas.core.frame.DataFrame'>\n",
      "RangeIndex: 18068 entries, 0 to 18067\n",
      "Data columns (total 4 columns):\n",
      " #   Column    Non-Null Count  Dtype  \n",
      "---  ------    --------------  -----  \n",
      " 0   user_id   18068 non-null  int64  \n",
      " 1   distance  18068 non-null  float64\n",
      " 2   duration  18068 non-null  float64\n",
      " 3   date      18068 non-null  object \n",
      "dtypes: float64(2), int64(1), object(1)\n",
      "memory usage: 564.8+ KB\n"
     ]
    },
    {
     "data": {
      "text/plain": [
       "None"
      ]
     },
     "metadata": {},
     "output_type": "display_data"
    },
    {
     "data": {
      "text/html": [
       "<div>\n",
       "<style scoped>\n",
       "    .dataframe tbody tr th:only-of-type {\n",
       "        vertical-align: middle;\n",
       "    }\n",
       "\n",
       "    .dataframe tbody tr th {\n",
       "        vertical-align: top;\n",
       "    }\n",
       "\n",
       "    .dataframe thead th {\n",
       "        text-align: right;\n",
       "    }\n",
       "</style>\n",
       "<table border=\"1\" class=\"dataframe\">\n",
       "  <thead>\n",
       "    <tr style=\"text-align: right;\">\n",
       "      <th></th>\n",
       "      <th>user_id</th>\n",
       "      <th>distance</th>\n",
       "      <th>duration</th>\n",
       "      <th>date</th>\n",
       "    </tr>\n",
       "  </thead>\n",
       "  <tbody>\n",
       "    <tr>\n",
       "      <th>0</th>\n",
       "      <td>1</td>\n",
       "      <td>4409.919140</td>\n",
       "      <td>25.599769</td>\n",
       "      <td>2021-01-01</td>\n",
       "    </tr>\n",
       "    <tr>\n",
       "      <th>1</th>\n",
       "      <td>1</td>\n",
       "      <td>2617.592153</td>\n",
       "      <td>15.816871</td>\n",
       "      <td>2021-01-18</td>\n",
       "    </tr>\n",
       "    <tr>\n",
       "      <th>2</th>\n",
       "      <td>1</td>\n",
       "      <td>754.159807</td>\n",
       "      <td>6.232113</td>\n",
       "      <td>2021-04-20</td>\n",
       "    </tr>\n",
       "    <tr>\n",
       "      <th>3</th>\n",
       "      <td>1</td>\n",
       "      <td>2694.783254</td>\n",
       "      <td>18.511000</td>\n",
       "      <td>2021-08-11</td>\n",
       "    </tr>\n",
       "    <tr>\n",
       "      <th>4</th>\n",
       "      <td>1</td>\n",
       "      <td>4028.687306</td>\n",
       "      <td>26.265803</td>\n",
       "      <td>2021-08-28</td>\n",
       "    </tr>\n",
       "    <tr>\n",
       "      <th>5</th>\n",
       "      <td>1</td>\n",
       "      <td>2770.890808</td>\n",
       "      <td>16.650138</td>\n",
       "      <td>2021-10-09</td>\n",
       "    </tr>\n",
       "    <tr>\n",
       "      <th>6</th>\n",
       "      <td>1</td>\n",
       "      <td>3039.020292</td>\n",
       "      <td>14.927879</td>\n",
       "      <td>2021-10-19</td>\n",
       "    </tr>\n",
       "    <tr>\n",
       "      <th>7</th>\n",
       "      <td>1</td>\n",
       "      <td>2842.118050</td>\n",
       "      <td>23.117468</td>\n",
       "      <td>2021-11-06</td>\n",
       "    </tr>\n",
       "    <tr>\n",
       "      <th>8</th>\n",
       "      <td>1</td>\n",
       "      <td>3412.690668</td>\n",
       "      <td>15.238072</td>\n",
       "      <td>2021-11-14</td>\n",
       "    </tr>\n",
       "    <tr>\n",
       "      <th>9</th>\n",
       "      <td>1</td>\n",
       "      <td>748.690645</td>\n",
       "      <td>15.041884</td>\n",
       "      <td>2021-11-22</td>\n",
       "    </tr>\n",
       "    <tr>\n",
       "      <th>10</th>\n",
       "      <td>1</td>\n",
       "      <td>4031.020195</td>\n",
       "      <td>17.674448</td>\n",
       "      <td>2021-12-14</td>\n",
       "    </tr>\n",
       "    <tr>\n",
       "      <th>11</th>\n",
       "      <td>1</td>\n",
       "      <td>2720.609748</td>\n",
       "      <td>9.529463</td>\n",
       "      <td>2021-12-22</td>\n",
       "    </tr>\n",
       "    <tr>\n",
       "      <th>12</th>\n",
       "      <td>2</td>\n",
       "      <td>3105.086678</td>\n",
       "      <td>24.307514</td>\n",
       "      <td>2021-03-15</td>\n",
       "    </tr>\n",
       "    <tr>\n",
       "      <th>13</th>\n",
       "      <td>2</td>\n",
       "      <td>3053.519401</td>\n",
       "      <td>11.543256</td>\n",
       "      <td>2021-03-18</td>\n",
       "    </tr>\n",
       "    <tr>\n",
       "      <th>14</th>\n",
       "      <td>2</td>\n",
       "      <td>4029.116927</td>\n",
       "      <td>25.109188</td>\n",
       "      <td>2021-03-23</td>\n",
       "    </tr>\n",
       "    <tr>\n",
       "      <th>15</th>\n",
       "      <td>2</td>\n",
       "      <td>2805.786329</td>\n",
       "      <td>20.652145</td>\n",
       "      <td>2021-04-08</td>\n",
       "    </tr>\n",
       "    <tr>\n",
       "      <th>16</th>\n",
       "      <td>2</td>\n",
       "      <td>3358.595495</td>\n",
       "      <td>18.396489</td>\n",
       "      <td>2021-04-13</td>\n",
       "    </tr>\n",
       "    <tr>\n",
       "      <th>17</th>\n",
       "      <td>2</td>\n",
       "      <td>3255.338202</td>\n",
       "      <td>13.851127</td>\n",
       "      <td>2021-06-20</td>\n",
       "    </tr>\n",
       "    <tr>\n",
       "      <th>18</th>\n",
       "      <td>2</td>\n",
       "      <td>3942.817648</td>\n",
       "      <td>20.142725</td>\n",
       "      <td>2021-07-02</td>\n",
       "    </tr>\n",
       "    <tr>\n",
       "      <th>19</th>\n",
       "      <td>2</td>\n",
       "      <td>2837.905316</td>\n",
       "      <td>26.027432</td>\n",
       "      <td>2021-07-18</td>\n",
       "    </tr>\n",
       "  </tbody>\n",
       "</table>\n",
       "</div>"
      ],
      "text/plain": [
       "    user_id     distance   duration        date\n",
       "0         1  4409.919140  25.599769  2021-01-01\n",
       "1         1  2617.592153  15.816871  2021-01-18\n",
       "2         1   754.159807   6.232113  2021-04-20\n",
       "3         1  2694.783254  18.511000  2021-08-11\n",
       "4         1  4028.687306  26.265803  2021-08-28\n",
       "5         1  2770.890808  16.650138  2021-10-09\n",
       "6         1  3039.020292  14.927879  2021-10-19\n",
       "7         1  2842.118050  23.117468  2021-11-06\n",
       "8         1  3412.690668  15.238072  2021-11-14\n",
       "9         1   748.690645  15.041884  2021-11-22\n",
       "10        1  4031.020195  17.674448  2021-12-14\n",
       "11        1  2720.609748   9.529463  2021-12-22\n",
       "12        2  3105.086678  24.307514  2021-03-15\n",
       "13        2  3053.519401  11.543256  2021-03-18\n",
       "14        2  4029.116927  25.109188  2021-03-23\n",
       "15        2  2805.786329  20.652145  2021-04-08\n",
       "16        2  3358.595495  18.396489  2021-04-13\n",
       "17        2  3255.338202  13.851127  2021-06-20\n",
       "18        2  3942.817648  20.142725  2021-07-02\n",
       "19        2  2837.905316  26.027432  2021-07-18"
      ]
     },
     "execution_count": 4,
     "metadata": {},
     "output_type": "execute_result"
    }
   ],
   "source": [
    "#Сделаем обзор датасета data_rides\n",
    "display(dt_rides.info())\n",
    "dt_rides.head(20)"
   ]
  },
  {
   "cell_type": "markdown",
   "id": "ba528e86",
   "metadata": {},
   "source": [
    "**Выведем первые 20 строк датасета dt_sub и информацию о нём.**"
   ]
  },
  {
   "cell_type": "code",
   "execution_count": 5,
   "id": "3bf84c5e",
   "metadata": {},
   "outputs": [
    {
     "name": "stdout",
     "output_type": "stream",
     "text": [
      "<class 'pandas.core.frame.DataFrame'>\n",
      "RangeIndex: 2 entries, 0 to 1\n",
      "Data columns (total 4 columns):\n",
      " #   Column             Non-Null Count  Dtype \n",
      "---  ------             --------------  ----- \n",
      " 0   subscription_type  2 non-null      object\n",
      " 1   minute_price       2 non-null      int64 \n",
      " 2   start_ride_price   2 non-null      int64 \n",
      " 3   subscription_fee   2 non-null      int64 \n",
      "dtypes: int64(3), object(1)\n",
      "memory usage: 192.0+ bytes\n"
     ]
    },
    {
     "data": {
      "text/plain": [
       "None"
      ]
     },
     "metadata": {},
     "output_type": "display_data"
    },
    {
     "data": {
      "text/html": [
       "<div>\n",
       "<style scoped>\n",
       "    .dataframe tbody tr th:only-of-type {\n",
       "        vertical-align: middle;\n",
       "    }\n",
       "\n",
       "    .dataframe tbody tr th {\n",
       "        vertical-align: top;\n",
       "    }\n",
       "\n",
       "    .dataframe thead th {\n",
       "        text-align: right;\n",
       "    }\n",
       "</style>\n",
       "<table border=\"1\" class=\"dataframe\">\n",
       "  <thead>\n",
       "    <tr style=\"text-align: right;\">\n",
       "      <th></th>\n",
       "      <th>subscription_type</th>\n",
       "      <th>minute_price</th>\n",
       "      <th>start_ride_price</th>\n",
       "      <th>subscription_fee</th>\n",
       "    </tr>\n",
       "  </thead>\n",
       "  <tbody>\n",
       "    <tr>\n",
       "      <th>0</th>\n",
       "      <td>free</td>\n",
       "      <td>8</td>\n",
       "      <td>50</td>\n",
       "      <td>0</td>\n",
       "    </tr>\n",
       "    <tr>\n",
       "      <th>1</th>\n",
       "      <td>ultra</td>\n",
       "      <td>6</td>\n",
       "      <td>0</td>\n",
       "      <td>199</td>\n",
       "    </tr>\n",
       "  </tbody>\n",
       "</table>\n",
       "</div>"
      ],
      "text/plain": [
       "  subscription_type  minute_price  start_ride_price  subscription_fee\n",
       "0              free             8                50                 0\n",
       "1             ultra             6                 0               199"
      ]
     },
     "execution_count": 5,
     "metadata": {},
     "output_type": "execute_result"
    }
   ],
   "source": [
    "#Сделаем обзор датасета data_sub\n",
    "display(dt_sub.info())\n",
    "dt_sub.head(20)"
   ]
  },
  {
   "cell_type": "markdown",
   "id": "339aaf53",
   "metadata": {},
   "source": [
    "**Сделаем выводы по обзору данных:**\n",
    " - В датасетах не обнаружено пропусков.\n",
    " - Все датасеты разных размеров.\n",
    " "
   ]
  },
  {
   "cell_type": "markdown",
   "id": "e95ebca7",
   "metadata": {},
   "source": [
    "#### Шаг 2. Предобработка данных"
   ]
  },
  {
   "cell_type": "markdown",
   "id": "3b9af8a5",
   "metadata": {},
   "source": [
    "**Приведём столбец date к типу даты pandas.**"
   ]
  },
  {
   "cell_type": "code",
   "execution_count": 6,
   "id": "af6d202c",
   "metadata": {},
   "outputs": [],
   "source": [
    "dt_rides['date'] = pd.to_datetime(dt_rides['date'], format='%Y-%m-%d')"
   ]
  },
  {
   "cell_type": "markdown",
   "id": "5c1f55ce",
   "metadata": {},
   "source": [
    "**Создадим новый столбец с номером месяца на основе столбца date.**"
   ]
  },
  {
   "cell_type": "code",
   "execution_count": 7,
   "id": "cf5a5981",
   "metadata": {},
   "outputs": [
    {
     "data": {
      "text/html": [
       "<div>\n",
       "<style scoped>\n",
       "    .dataframe tbody tr th:only-of-type {\n",
       "        vertical-align: middle;\n",
       "    }\n",
       "\n",
       "    .dataframe tbody tr th {\n",
       "        vertical-align: top;\n",
       "    }\n",
       "\n",
       "    .dataframe thead th {\n",
       "        text-align: right;\n",
       "    }\n",
       "</style>\n",
       "<table border=\"1\" class=\"dataframe\">\n",
       "  <thead>\n",
       "    <tr style=\"text-align: right;\">\n",
       "      <th></th>\n",
       "      <th>user_id</th>\n",
       "      <th>distance</th>\n",
       "      <th>duration</th>\n",
       "      <th>date</th>\n",
       "      <th>month</th>\n",
       "    </tr>\n",
       "  </thead>\n",
       "  <tbody>\n",
       "    <tr>\n",
       "      <th>0</th>\n",
       "      <td>1</td>\n",
       "      <td>4409.919140</td>\n",
       "      <td>25.599769</td>\n",
       "      <td>2021-01-01</td>\n",
       "      <td>1</td>\n",
       "    </tr>\n",
       "    <tr>\n",
       "      <th>1</th>\n",
       "      <td>1</td>\n",
       "      <td>2617.592153</td>\n",
       "      <td>15.816871</td>\n",
       "      <td>2021-01-18</td>\n",
       "      <td>1</td>\n",
       "    </tr>\n",
       "    <tr>\n",
       "      <th>2</th>\n",
       "      <td>1</td>\n",
       "      <td>754.159807</td>\n",
       "      <td>6.232113</td>\n",
       "      <td>2021-04-20</td>\n",
       "      <td>4</td>\n",
       "    </tr>\n",
       "    <tr>\n",
       "      <th>3</th>\n",
       "      <td>1</td>\n",
       "      <td>2694.783254</td>\n",
       "      <td>18.511000</td>\n",
       "      <td>2021-08-11</td>\n",
       "      <td>8</td>\n",
       "    </tr>\n",
       "    <tr>\n",
       "      <th>4</th>\n",
       "      <td>1</td>\n",
       "      <td>4028.687306</td>\n",
       "      <td>26.265803</td>\n",
       "      <td>2021-08-28</td>\n",
       "      <td>8</td>\n",
       "    </tr>\n",
       "    <tr>\n",
       "      <th>5</th>\n",
       "      <td>1</td>\n",
       "      <td>2770.890808</td>\n",
       "      <td>16.650138</td>\n",
       "      <td>2021-10-09</td>\n",
       "      <td>10</td>\n",
       "    </tr>\n",
       "    <tr>\n",
       "      <th>6</th>\n",
       "      <td>1</td>\n",
       "      <td>3039.020292</td>\n",
       "      <td>14.927879</td>\n",
       "      <td>2021-10-19</td>\n",
       "      <td>10</td>\n",
       "    </tr>\n",
       "    <tr>\n",
       "      <th>7</th>\n",
       "      <td>1</td>\n",
       "      <td>2842.118050</td>\n",
       "      <td>23.117468</td>\n",
       "      <td>2021-11-06</td>\n",
       "      <td>11</td>\n",
       "    </tr>\n",
       "    <tr>\n",
       "      <th>8</th>\n",
       "      <td>1</td>\n",
       "      <td>3412.690668</td>\n",
       "      <td>15.238072</td>\n",
       "      <td>2021-11-14</td>\n",
       "      <td>11</td>\n",
       "    </tr>\n",
       "    <tr>\n",
       "      <th>9</th>\n",
       "      <td>1</td>\n",
       "      <td>748.690645</td>\n",
       "      <td>15.041884</td>\n",
       "      <td>2021-11-22</td>\n",
       "      <td>11</td>\n",
       "    </tr>\n",
       "  </tbody>\n",
       "</table>\n",
       "</div>"
      ],
      "text/plain": [
       "   user_id     distance   duration       date  month\n",
       "0        1  4409.919140  25.599769 2021-01-01      1\n",
       "1        1  2617.592153  15.816871 2021-01-18      1\n",
       "2        1   754.159807   6.232113 2021-04-20      4\n",
       "3        1  2694.783254  18.511000 2021-08-11      8\n",
       "4        1  4028.687306  26.265803 2021-08-28      8\n",
       "5        1  2770.890808  16.650138 2021-10-09     10\n",
       "6        1  3039.020292  14.927879 2021-10-19     10\n",
       "7        1  2842.118050  23.117468 2021-11-06     11\n",
       "8        1  3412.690668  15.238072 2021-11-14     11\n",
       "9        1   748.690645  15.041884 2021-11-22     11"
      ]
     },
     "metadata": {},
     "output_type": "display_data"
    },
    {
     "data": {
      "text/plain": [
       "Timestamp('2021-01-01 00:00:00')"
      ]
     },
     "metadata": {},
     "output_type": "display_data"
    },
    {
     "data": {
      "text/plain": [
       "Timestamp('2021-12-30 00:00:00')"
      ]
     },
     "execution_count": 7,
     "metadata": {},
     "output_type": "execute_result"
    }
   ],
   "source": [
    "dt_rides['month'] = dt_rides['date'].dt.month\n",
    "#Выведем обновленный датасет\n",
    "display(dt_rides.head(10))\n",
    "display(dt_rides['date'].min())\n",
    "dt_rides['date'].max()"
   ]
  },
  {
   "cell_type": "markdown",
   "id": "327259d7",
   "metadata": {},
   "source": [
    "**Проверим наличие пропущенных значений и дубликатов в датафреймах.**"
   ]
  },
  {
   "cell_type": "code",
   "execution_count": 8,
   "id": "cdd493b5",
   "metadata": {},
   "outputs": [
    {
     "data": {
      "text/plain": [
       "31"
      ]
     },
     "execution_count": 8,
     "metadata": {},
     "output_type": "execute_result"
    }
   ],
   "source": [
    "#Проверим наличие явных дубликатов в датасете data_users\n",
    "dt_users.duplicated().sum()"
   ]
  },
  {
   "cell_type": "code",
   "execution_count": 9,
   "id": "d8d1f837",
   "metadata": {},
   "outputs": [
    {
     "data": {
      "text/plain": [
       "0"
      ]
     },
     "execution_count": 9,
     "metadata": {},
     "output_type": "execute_result"
    }
   ],
   "source": [
    "#Проверим наличие явных дубликатов в датасете data_rides\n",
    "dt_rides.duplicated().sum()"
   ]
  },
  {
   "cell_type": "code",
   "execution_count": 10,
   "id": "edf44df3",
   "metadata": {},
   "outputs": [
    {
     "data": {
      "text/plain": [
       "0"
      ]
     },
     "execution_count": 10,
     "metadata": {},
     "output_type": "execute_result"
    }
   ],
   "source": [
    "#Проверим наличие явных дубликатов в датасете data_sub\n",
    "dt_sub.duplicated().sum()"
   ]
  },
  {
   "cell_type": "code",
   "execution_count": 11,
   "id": "f29a1fde",
   "metadata": {},
   "outputs": [
    {
     "data": {
      "text/plain": [
       "user_id              0\n",
       "name                 0\n",
       "age                  0\n",
       "city                 0\n",
       "subscription_type    0\n",
       "dtype: int64"
      ]
     },
     "execution_count": 11,
     "metadata": {},
     "output_type": "execute_result"
    }
   ],
   "source": [
    "#Проверим наличие пропущенных значений в датасете data_users\n",
    "dt_users.isna().sum()"
   ]
  },
  {
   "cell_type": "code",
   "execution_count": 12,
   "id": "5c00ecc9",
   "metadata": {},
   "outputs": [
    {
     "data": {
      "text/plain": [
       "user_id     0\n",
       "distance    0\n",
       "duration    0\n",
       "date        0\n",
       "month       0\n",
       "dtype: int64"
      ]
     },
     "execution_count": 12,
     "metadata": {},
     "output_type": "execute_result"
    }
   ],
   "source": [
    "#Проверим наличие пропущенных значений в датасете data_rides\n",
    "dt_rides.isna().sum()"
   ]
  },
  {
   "cell_type": "markdown",
   "id": "177a4191",
   "metadata": {},
   "source": [
    "**Мы обнаружили явные дубликаты в датасете dt_users. Удалим их.**"
   ]
  },
  {
   "cell_type": "code",
   "execution_count": 13,
   "id": "0aca31be",
   "metadata": {},
   "outputs": [
    {
     "data": {
      "text/plain": [
       "0"
      ]
     },
     "execution_count": 13,
     "metadata": {},
     "output_type": "execute_result"
    }
   ],
   "source": [
    "dt_users = dt_users.drop_duplicates()\n",
    "#Проверим остались ли дубликаты\n",
    "dt_users.duplicated().sum()"
   ]
  },
  {
   "cell_type": "markdown",
   "id": "7989ec85",
   "metadata": {},
   "source": [
    "**Пропущенных значений в датасетах не обнаружено.**"
   ]
  },
  {
   "cell_type": "markdown",
   "id": "212593c7",
   "metadata": {},
   "source": [
    "#### Шаг 3. Исследовательский анализ данных"
   ]
  },
  {
   "cell_type": "markdown",
   "id": "d223ea37",
   "metadata": {},
   "source": [
    "**Опишем и визуализируем общую информацию о пользователях и поездках.**"
   ]
  },
  {
   "cell_type": "markdown",
   "id": "3961f1c7",
   "metadata": {},
   "source": [
    "**Рассмотрим частоту встречаемости городов.**"
   ]
  },
  {
   "cell_type": "code",
   "execution_count": 14,
   "id": "2dc50558",
   "metadata": {},
   "outputs": [
    {
     "data": {
      "text/plain": [
       "Пятигорск         219\n",
       "Екатеринбург      204\n",
       "Ростов-на-Дону    198\n",
       "Краснодар         193\n",
       "Сочи              189\n",
       "Омск              183\n",
       "Тюмень            180\n",
       "Москва            168\n",
       "Name: city, dtype: int64"
      ]
     },
     "execution_count": 14,
     "metadata": {},
     "output_type": "execute_result"
    }
   ],
   "source": [
    "#Выведем частоту встречаемости городов в виде таблицы\n",
    "dt_users['city'].value_counts()"
   ]
  },
  {
   "cell_type": "code",
   "execution_count": 15,
   "id": "adc19641",
   "metadata": {},
   "outputs": [
    {
     "data": {
      "image/png": "[encoded data removed]",
      "text/plain": [
       "<Figure size 432x288 with 1 Axes>"
      ]
     },
     "metadata": {
      "needs_background": "light"
     },
     "output_type": "display_data"
    }
   ],
   "source": [
    "#Построим график частоты встречаемости городов\n",
    "x_bar = ['Пятигорск', 'Екатеринбург', 'Ростов-на-Дону', 'Краснодар', 'Сочи', 'Омск', 'Тюмень', 'Москва']\n",
    "y_bar = dt_users['city'].value_counts()\n",
    "plt.bar(x_bar, y_bar)\n",
    "\n",
    "plt.title('Частота встречаемости городов')\n",
    "plt.xlabel('Города')\n",
    "plt.ylabel('Частота встречаемости')\n",
    "plt.xticks(rotation=90);"
   ]
  },
  {
   "cell_type": "markdown",
   "id": "95f06872",
   "metadata": {},
   "source": [
    "**Вывод:** Наиболее часто встречаемый в датасете город это Пятигорск. Наименее встречаемый город - Москва. Разность в частоте встречаемости не более 25%."
   ]
  },
  {
   "cell_type": "markdown",
   "id": "aee950a9",
   "metadata": {},
   "source": [
    "**Рассмотрим соотношение пользователей с подпиской и без подписки.**"
   ]
  },
  {
   "cell_type": "code",
   "execution_count": 16,
   "id": "a216b9c0",
   "metadata": {},
   "outputs": [
    {
     "data": {
      "text/plain": [
       "free     835\n",
       "ultra    699\n",
       "Name: subscription_type, dtype: int64"
      ]
     },
     "execution_count": 16,
     "metadata": {},
     "output_type": "execute_result"
    }
   ],
   "source": [
    "#Посчитаем количество людей с подпиской и без\n",
    "dt_users_subscription_type = dt_users['subscription_type'].value_counts()\n",
    "dt_users_subscription_type"
   ]
  },
  {
   "cell_type": "code",
   "execution_count": 17,
   "id": "edf0c070",
   "metadata": {},
   "outputs": [
    {
     "data": {
      "image/png": "[encoded data removed]",
      "text/plain": [
       "<Figure size 576x576 with 1 Axes>"
      ]
     },
     "metadata": {},
     "output_type": "display_data"
    }
   ],
   "source": [
    "#Построим круговую диаграмму для наглядности\n",
    "dt_users_subscription_type.plot(kind = 'pie', y = dt_users_subscription_type, autopct='%1.0f%%', figsize=(8, 8))\n",
    "plt.title('Круговая диаграмма соотношения пользователей от наличия подписки');"
   ]
  },
  {
   "cell_type": "markdown",
   "id": "9b1f5811",
   "metadata": {},
   "source": [
    "**Вывод:** На диаграмме видно, что большая часть людей (54%) не пользуется платной подпиской. При это процент пользоватилей с подпиской не сильно ниже (всего на 8%)."
   ]
  },
  {
   "cell_type": "markdown",
   "id": "3f45d88d",
   "metadata": {},
   "source": [
    "**Рассмотрим возраст пользователей.**"
   ]
  },
  {
   "cell_type": "code",
   "execution_count": 18,
   "id": "28740edc",
   "metadata": {},
   "outputs": [
    {
     "data": {
      "text/plain": [
       "array([12, 13, 14, 15, 16, 17, 18, 19, 20, 21, 22, 23, 24, 25, 26, 27, 28,\n",
       "       29, 30, 31, 32, 33, 34, 35, 36, 37, 38, 39, 43])"
      ]
     },
     "execution_count": 18,
     "metadata": {},
     "output_type": "execute_result"
    }
   ],
   "source": [
    "#Рассмотрим все возраста в датасете\n",
    "dt_users['age'].sort_values().unique()"
   ]
  },
  {
   "cell_type": "code",
   "execution_count": 19,
   "id": "d00629f3",
   "metadata": {},
   "outputs": [
    {
     "data": {
      "image/png": "[encoded data removed]",
      "text/plain": [
       "<Figure size 432x288 with 1 Axes>"
      ]
     },
     "metadata": {
      "needs_background": "light"
     },
     "output_type": "display_data"
    }
   ],
   "source": [
    "#Построим график распределения возрастов\n",
    "dt_users['age'].plot(kind='hist', bins=30, grid=True)\n",
    "plt.title('Распределение возрастов пользователей')\n",
    "plt.xlabel('Возраст')\n",
    "plt.ylabel('Количество человек');"
   ]
  },
  {
   "cell_type": "markdown",
   "id": "b81b50ea",
   "metadata": {},
   "source": [
    "**Вывод:** Как видно, график имеет распределение близкое к нормальному. Среднее и наиболее частое значение, это 25 лет. Старшим можно считать возраст выше 35 лет. Младшим - ниже 15 лет."
   ]
  },
  {
   "cell_type": "markdown",
   "id": "a0e69cca",
   "metadata": {},
   "source": [
    "**Рассмотрим расстояние, которое пользователь преодолевает за одну поездку.**"
   ]
  },
  {
   "cell_type": "code",
   "execution_count": 20,
   "id": "55f54420",
   "metadata": {},
   "outputs": [
    {
     "data": {
      "image/png": "[encoded data removed]",
      "text/plain": [
       "<Figure size 432x288 with 1 Axes>"
      ]
     },
     "metadata": {
      "needs_background": "light"
     },
     "output_type": "display_data"
    }
   ],
   "source": [
    "#Построим график расстояния за одну поездку\n",
    "dt_rides['distance'].plot(kind='hist', bins=30, grid=True)\n",
    "plt.title('Расстояние за одну поездку')\n",
    "plt.xlabel('Расстояние в метрах')\n",
    "plt.ylabel('Количество человек');"
   ]
  },
  {
   "cell_type": "code",
   "execution_count": 21,
   "id": "d787988c",
   "metadata": {},
   "outputs": [
    {
     "data": {
      "text/plain": [
       "count    18068.000000\n",
       "mean      3070.659976\n",
       "std       1116.831209\n",
       "min          0.855683\n",
       "25%       2543.226360\n",
       "50%       3133.609994\n",
       "75%       3776.222735\n",
       "max       7211.007745\n",
       "Name: distance, dtype: float64"
      ]
     },
     "execution_count": 21,
     "metadata": {},
     "output_type": "execute_result"
    }
   ],
   "source": [
    "#Посмотрим на квартили поездок\n",
    "dt_rides['distance'].describe()"
   ]
  },
  {
   "cell_type": "markdown",
   "id": "a833bb73",
   "metadata": {},
   "source": [
    "**Вывод:** Медианным растоянием за поездку можно считать значение в 3133 метра. Небольшим расстоянием можно считать 2543 метра. Большим можно считать расстояние выше 3776 метров. Максимальное расстояние 7211 метра. При этом довольно много поездок с расстоянием около 0."
   ]
  },
  {
   "cell_type": "markdown",
   "id": "2e396d49",
   "metadata": {},
   "source": []
  },
  {
   "cell_type": "markdown",
   "id": "280a6109",
   "metadata": {},
   "source": [
    "**Рассмотрим продолжительность поездок.**"
   ]
  },
  {
   "cell_type": "code",
   "execution_count": 22,
   "id": "5843b288",
   "metadata": {},
   "outputs": [
    {
     "data": {
      "image/png": "[encoded data removed]",
      "text/plain": [
       "<Figure size 432x288 with 1 Axes>"
      ]
     },
     "metadata": {
      "needs_background": "light"
     },
     "output_type": "display_data"
    }
   ],
   "source": [
    "#Построим график продолжительности поездок\n",
    "dt_rides['duration'].plot(kind='hist', bins=30, grid=True)\n",
    "plt.title('Продолжительность сессии')\n",
    "plt.xlabel('Время в минутах')\n",
    "plt.ylabel('Количество человек');"
   ]
  },
  {
   "cell_type": "code",
   "execution_count": 23,
   "id": "3ad1b921",
   "metadata": {},
   "outputs": [
    {
     "data": {
      "text/plain": [
       "count    18068.000000\n",
       "mean        17.805011\n",
       "std          6.091051\n",
       "min          0.500000\n",
       "25%         13.597563\n",
       "50%         17.678395\n",
       "75%         21.724800\n",
       "max         40.823963\n",
       "Name: duration, dtype: float64"
      ]
     },
     "execution_count": 23,
     "metadata": {},
     "output_type": "execute_result"
    }
   ],
   "source": [
    "#Посмотрим на квартили времени заездов\n",
    "dt_rides['duration'].describe()"
   ]
  },
  {
   "cell_type": "markdown",
   "id": "81b3429b",
   "metadata": {},
   "source": [
    "**Вывод:** Распределение времени поездок близко к нормальному. Медианным временем поездки можно считать 17 минут. Быстрой поездкой можно считать поездку менее 13 минут. Долгой можно считать поездку более 21 минуты. Максимальное время поездки более 40 минут. Минимальное - 0.5 минуты."
   ]
  },
  {
   "cell_type": "markdown",
   "id": "4ef51331",
   "metadata": {},
   "source": [
    "#### Шаг 4. Объединение данных"
   ]
  },
  {
   "cell_type": "markdown",
   "id": "cdd27f44",
   "metadata": {},
   "source": [
    "**Объединим данные о пользователях, поездках и подписках в один датафрейм.**"
   ]
  },
  {
   "cell_type": "markdown",
   "id": "268ce367",
   "metadata": {},
   "source": [
    "<div class=\"alert alert-info\">Проверим размерность датасетов и размерность результирующего датафрейма.</div>"
   ]
  },
  {
   "cell_type": "code",
   "execution_count": 24,
   "id": "b390d721",
   "metadata": {},
   "outputs": [
    {
     "name": "stdout",
     "output_type": "stream",
     "text": [
      "Размерность датасета dt_users: (1534, 5)\n",
      "Размерность датасета dt_users: (18068, 5)\n",
      "Размерность датасета dt_users: (2, 4)\n"
     ]
    }
   ],
   "source": [
    "print('Размерность датасета dt_users:', dt_users.shape)\n",
    "print('Размерность датасета dt_users:', dt_rides.shape)\n",
    "print('Размерность датасета dt_users:', dt_sub.shape)"
   ]
  },
  {
   "cell_type": "code",
   "execution_count": 25,
   "id": "6bf288b5",
   "metadata": {},
   "outputs": [
    {
     "name": "stdout",
     "output_type": "stream",
     "text": [
      "Размерность датафрейма table_union: (18068, 12)\n"
     ]
    },
    {
     "data": {
      "text/html": [
       "<div>\n",
       "<style scoped>\n",
       "    .dataframe tbody tr th:only-of-type {\n",
       "        vertical-align: middle;\n",
       "    }\n",
       "\n",
       "    .dataframe tbody tr th {\n",
       "        vertical-align: top;\n",
       "    }\n",
       "\n",
       "    .dataframe thead th {\n",
       "        text-align: right;\n",
       "    }\n",
       "</style>\n",
       "<table border=\"1\" class=\"dataframe\">\n",
       "  <thead>\n",
       "    <tr style=\"text-align: right;\">\n",
       "      <th></th>\n",
       "      <th>user_id</th>\n",
       "      <th>name</th>\n",
       "      <th>age</th>\n",
       "      <th>city</th>\n",
       "      <th>subscription_type</th>\n",
       "      <th>distance</th>\n",
       "      <th>duration</th>\n",
       "      <th>date</th>\n",
       "      <th>month</th>\n",
       "      <th>minute_price</th>\n",
       "      <th>start_ride_price</th>\n",
       "      <th>subscription_fee</th>\n",
       "    </tr>\n",
       "  </thead>\n",
       "  <tbody>\n",
       "    <tr>\n",
       "      <th>0</th>\n",
       "      <td>1</td>\n",
       "      <td>Кира</td>\n",
       "      <td>22</td>\n",
       "      <td>Тюмень</td>\n",
       "      <td>ultra</td>\n",
       "      <td>4409.919140</td>\n",
       "      <td>25.599769</td>\n",
       "      <td>2021-01-01</td>\n",
       "      <td>1</td>\n",
       "      <td>6</td>\n",
       "      <td>0</td>\n",
       "      <td>199</td>\n",
       "    </tr>\n",
       "    <tr>\n",
       "      <th>1</th>\n",
       "      <td>1</td>\n",
       "      <td>Кира</td>\n",
       "      <td>22</td>\n",
       "      <td>Тюмень</td>\n",
       "      <td>ultra</td>\n",
       "      <td>2617.592153</td>\n",
       "      <td>15.816871</td>\n",
       "      <td>2021-01-18</td>\n",
       "      <td>1</td>\n",
       "      <td>6</td>\n",
       "      <td>0</td>\n",
       "      <td>199</td>\n",
       "    </tr>\n",
       "    <tr>\n",
       "      <th>2</th>\n",
       "      <td>1</td>\n",
       "      <td>Кира</td>\n",
       "      <td>22</td>\n",
       "      <td>Тюмень</td>\n",
       "      <td>ultra</td>\n",
       "      <td>754.159807</td>\n",
       "      <td>6.232113</td>\n",
       "      <td>2021-04-20</td>\n",
       "      <td>4</td>\n",
       "      <td>6</td>\n",
       "      <td>0</td>\n",
       "      <td>199</td>\n",
       "    </tr>\n",
       "    <tr>\n",
       "      <th>3</th>\n",
       "      <td>1</td>\n",
       "      <td>Кира</td>\n",
       "      <td>22</td>\n",
       "      <td>Тюмень</td>\n",
       "      <td>ultra</td>\n",
       "      <td>2694.783254</td>\n",
       "      <td>18.511000</td>\n",
       "      <td>2021-08-11</td>\n",
       "      <td>8</td>\n",
       "      <td>6</td>\n",
       "      <td>0</td>\n",
       "      <td>199</td>\n",
       "    </tr>\n",
       "    <tr>\n",
       "      <th>4</th>\n",
       "      <td>1</td>\n",
       "      <td>Кира</td>\n",
       "      <td>22</td>\n",
       "      <td>Тюмень</td>\n",
       "      <td>ultra</td>\n",
       "      <td>4028.687306</td>\n",
       "      <td>26.265803</td>\n",
       "      <td>2021-08-28</td>\n",
       "      <td>8</td>\n",
       "      <td>6</td>\n",
       "      <td>0</td>\n",
       "      <td>199</td>\n",
       "    </tr>\n",
       "    <tr>\n",
       "      <th>...</th>\n",
       "      <td>...</td>\n",
       "      <td>...</td>\n",
       "      <td>...</td>\n",
       "      <td>...</td>\n",
       "      <td>...</td>\n",
       "      <td>...</td>\n",
       "      <td>...</td>\n",
       "      <td>...</td>\n",
       "      <td>...</td>\n",
       "      <td>...</td>\n",
       "      <td>...</td>\n",
       "      <td>...</td>\n",
       "    </tr>\n",
       "    <tr>\n",
       "      <th>18063</th>\n",
       "      <td>1534</td>\n",
       "      <td>Альберт</td>\n",
       "      <td>25</td>\n",
       "      <td>Краснодар</td>\n",
       "      <td>free</td>\n",
       "      <td>3781.098080</td>\n",
       "      <td>19.822962</td>\n",
       "      <td>2021-11-04</td>\n",
       "      <td>11</td>\n",
       "      <td>8</td>\n",
       "      <td>50</td>\n",
       "      <td>0</td>\n",
       "    </tr>\n",
       "    <tr>\n",
       "      <th>18064</th>\n",
       "      <td>1534</td>\n",
       "      <td>Альберт</td>\n",
       "      <td>25</td>\n",
       "      <td>Краснодар</td>\n",
       "      <td>free</td>\n",
       "      <td>2840.423057</td>\n",
       "      <td>21.409799</td>\n",
       "      <td>2021-11-16</td>\n",
       "      <td>11</td>\n",
       "      <td>8</td>\n",
       "      <td>50</td>\n",
       "      <td>0</td>\n",
       "    </tr>\n",
       "    <tr>\n",
       "      <th>18065</th>\n",
       "      <td>1534</td>\n",
       "      <td>Альберт</td>\n",
       "      <td>25</td>\n",
       "      <td>Краснодар</td>\n",
       "      <td>free</td>\n",
       "      <td>3826.185507</td>\n",
       "      <td>18.435051</td>\n",
       "      <td>2021-11-18</td>\n",
       "      <td>11</td>\n",
       "      <td>8</td>\n",
       "      <td>50</td>\n",
       "      <td>0</td>\n",
       "    </tr>\n",
       "    <tr>\n",
       "      <th>18066</th>\n",
       "      <td>1534</td>\n",
       "      <td>Альберт</td>\n",
       "      <td>25</td>\n",
       "      <td>Краснодар</td>\n",
       "      <td>free</td>\n",
       "      <td>2902.308661</td>\n",
       "      <td>16.674362</td>\n",
       "      <td>2021-11-27</td>\n",
       "      <td>11</td>\n",
       "      <td>8</td>\n",
       "      <td>50</td>\n",
       "      <td>0</td>\n",
       "    </tr>\n",
       "    <tr>\n",
       "      <th>18067</th>\n",
       "      <td>1534</td>\n",
       "      <td>Альберт</td>\n",
       "      <td>25</td>\n",
       "      <td>Краснодар</td>\n",
       "      <td>free</td>\n",
       "      <td>2371.711192</td>\n",
       "      <td>15.893917</td>\n",
       "      <td>2021-12-29</td>\n",
       "      <td>12</td>\n",
       "      <td>8</td>\n",
       "      <td>50</td>\n",
       "      <td>0</td>\n",
       "    </tr>\n",
       "  </tbody>\n",
       "</table>\n",
       "<p>18068 rows × 12 columns</p>\n",
       "</div>"
      ],
      "text/plain": [
       "       user_id     name  age       city subscription_type     distance  \\\n",
       "0            1     Кира   22     Тюмень             ultra  4409.919140   \n",
       "1            1     Кира   22     Тюмень             ultra  2617.592153   \n",
       "2            1     Кира   22     Тюмень             ultra   754.159807   \n",
       "3            1     Кира   22     Тюмень             ultra  2694.783254   \n",
       "4            1     Кира   22     Тюмень             ultra  4028.687306   \n",
       "...        ...      ...  ...        ...               ...          ...   \n",
       "18063     1534  Альберт   25  Краснодар              free  3781.098080   \n",
       "18064     1534  Альберт   25  Краснодар              free  2840.423057   \n",
       "18065     1534  Альберт   25  Краснодар              free  3826.185507   \n",
       "18066     1534  Альберт   25  Краснодар              free  2902.308661   \n",
       "18067     1534  Альберт   25  Краснодар              free  2371.711192   \n",
       "\n",
       "        duration       date  month  minute_price  start_ride_price  \\\n",
       "0      25.599769 2021-01-01      1             6                 0   \n",
       "1      15.816871 2021-01-18      1             6                 0   \n",
       "2       6.232113 2021-04-20      4             6                 0   \n",
       "3      18.511000 2021-08-11      8             6                 0   \n",
       "4      26.265803 2021-08-28      8             6                 0   \n",
       "...          ...        ...    ...           ...               ...   \n",
       "18063  19.822962 2021-11-04     11             8                50   \n",
       "18064  21.409799 2021-11-16     11             8                50   \n",
       "18065  18.435051 2021-11-18     11             8                50   \n",
       "18066  16.674362 2021-11-27     11             8                50   \n",
       "18067  15.893917 2021-12-29     12             8                50   \n",
       "\n",
       "       subscription_fee  \n",
       "0                   199  \n",
       "1                   199  \n",
       "2                   199  \n",
       "3                   199  \n",
       "4                   199  \n",
       "...                 ...  \n",
       "18063                 0  \n",
       "18064                 0  \n",
       "18065                 0  \n",
       "18066                 0  \n",
       "18067                 0  \n",
       "\n",
       "[18068 rows x 12 columns]"
      ]
     },
     "execution_count": 25,
     "metadata": {},
     "output_type": "execute_result"
    }
   ],
   "source": [
    "#Объединим три датасета в один\n",
    "table_union = dt_users.merge(dt_rides)\n",
    "table_union = table_union.merge(dt_sub)\n",
    "\n",
    "#Проверим размерность результирующего датасета\n",
    "print('Размерность датафрейма table_union:', table_union.shape)\n",
    "\n",
    "#Выведем полученную таблицу\n",
    "table_union"
   ]
  },
  {
   "cell_type": "markdown",
   "id": "d416929b",
   "metadata": {},
   "source": [
    "**Создадим ещё два датафрейма c данными о пользователях без подписки; с данными о пользователях с подпиской.**"
   ]
  },
  {
   "cell_type": "code",
   "execution_count": 26,
   "id": "227a34cf",
   "metadata": {},
   "outputs": [
    {
     "data": {
      "text/html": [
       "<div>\n",
       "<style scoped>\n",
       "    .dataframe tbody tr th:only-of-type {\n",
       "        vertical-align: middle;\n",
       "    }\n",
       "\n",
       "    .dataframe tbody tr th {\n",
       "        vertical-align: top;\n",
       "    }\n",
       "\n",
       "    .dataframe thead th {\n",
       "        text-align: right;\n",
       "    }\n",
       "</style>\n",
       "<table border=\"1\" class=\"dataframe\">\n",
       "  <thead>\n",
       "    <tr style=\"text-align: right;\">\n",
       "      <th></th>\n",
       "      <th>user_id</th>\n",
       "      <th>name</th>\n",
       "      <th>age</th>\n",
       "      <th>city</th>\n",
       "      <th>subscription_type</th>\n",
       "      <th>distance</th>\n",
       "      <th>duration</th>\n",
       "      <th>date</th>\n",
       "      <th>month</th>\n",
       "      <th>minute_price</th>\n",
       "      <th>start_ride_price</th>\n",
       "      <th>subscription_fee</th>\n",
       "    </tr>\n",
       "  </thead>\n",
       "  <tbody>\n",
       "    <tr>\n",
       "      <th>6500</th>\n",
       "      <td>700</td>\n",
       "      <td>Айдар</td>\n",
       "      <td>22</td>\n",
       "      <td>Омск</td>\n",
       "      <td>free</td>\n",
       "      <td>2515.690719</td>\n",
       "      <td>14.944286</td>\n",
       "      <td>2021-01-02</td>\n",
       "      <td>1</td>\n",
       "      <td>8</td>\n",
       "      <td>50</td>\n",
       "      <td>0</td>\n",
       "    </tr>\n",
       "    <tr>\n",
       "      <th>6501</th>\n",
       "      <td>700</td>\n",
       "      <td>Айдар</td>\n",
       "      <td>22</td>\n",
       "      <td>Омск</td>\n",
       "      <td>free</td>\n",
       "      <td>846.932642</td>\n",
       "      <td>16.234663</td>\n",
       "      <td>2021-02-01</td>\n",
       "      <td>2</td>\n",
       "      <td>8</td>\n",
       "      <td>50</td>\n",
       "      <td>0</td>\n",
       "    </tr>\n",
       "    <tr>\n",
       "      <th>6502</th>\n",
       "      <td>700</td>\n",
       "      <td>Айдар</td>\n",
       "      <td>22</td>\n",
       "      <td>Омск</td>\n",
       "      <td>free</td>\n",
       "      <td>4004.434142</td>\n",
       "      <td>20.016628</td>\n",
       "      <td>2021-02-04</td>\n",
       "      <td>2</td>\n",
       "      <td>8</td>\n",
       "      <td>50</td>\n",
       "      <td>0</td>\n",
       "    </tr>\n",
       "    <tr>\n",
       "      <th>6503</th>\n",
       "      <td>700</td>\n",
       "      <td>Айдар</td>\n",
       "      <td>22</td>\n",
       "      <td>Омск</td>\n",
       "      <td>free</td>\n",
       "      <td>1205.911290</td>\n",
       "      <td>9.782872</td>\n",
       "      <td>2021-02-10</td>\n",
       "      <td>2</td>\n",
       "      <td>8</td>\n",
       "      <td>50</td>\n",
       "      <td>0</td>\n",
       "    </tr>\n",
       "    <tr>\n",
       "      <th>6504</th>\n",
       "      <td>700</td>\n",
       "      <td>Айдар</td>\n",
       "      <td>22</td>\n",
       "      <td>Омск</td>\n",
       "      <td>free</td>\n",
       "      <td>3047.379435</td>\n",
       "      <td>17.427673</td>\n",
       "      <td>2021-02-14</td>\n",
       "      <td>2</td>\n",
       "      <td>8</td>\n",
       "      <td>50</td>\n",
       "      <td>0</td>\n",
       "    </tr>\n",
       "    <tr>\n",
       "      <th>...</th>\n",
       "      <td>...</td>\n",
       "      <td>...</td>\n",
       "      <td>...</td>\n",
       "      <td>...</td>\n",
       "      <td>...</td>\n",
       "      <td>...</td>\n",
       "      <td>...</td>\n",
       "      <td>...</td>\n",
       "      <td>...</td>\n",
       "      <td>...</td>\n",
       "      <td>...</td>\n",
       "      <td>...</td>\n",
       "    </tr>\n",
       "    <tr>\n",
       "      <th>18063</th>\n",
       "      <td>1534</td>\n",
       "      <td>Альберт</td>\n",
       "      <td>25</td>\n",
       "      <td>Краснодар</td>\n",
       "      <td>free</td>\n",
       "      <td>3781.098080</td>\n",
       "      <td>19.822962</td>\n",
       "      <td>2021-11-04</td>\n",
       "      <td>11</td>\n",
       "      <td>8</td>\n",
       "      <td>50</td>\n",
       "      <td>0</td>\n",
       "    </tr>\n",
       "    <tr>\n",
       "      <th>18064</th>\n",
       "      <td>1534</td>\n",
       "      <td>Альберт</td>\n",
       "      <td>25</td>\n",
       "      <td>Краснодар</td>\n",
       "      <td>free</td>\n",
       "      <td>2840.423057</td>\n",
       "      <td>21.409799</td>\n",
       "      <td>2021-11-16</td>\n",
       "      <td>11</td>\n",
       "      <td>8</td>\n",
       "      <td>50</td>\n",
       "      <td>0</td>\n",
       "    </tr>\n",
       "    <tr>\n",
       "      <th>18065</th>\n",
       "      <td>1534</td>\n",
       "      <td>Альберт</td>\n",
       "      <td>25</td>\n",
       "      <td>Краснодар</td>\n",
       "      <td>free</td>\n",
       "      <td>3826.185507</td>\n",
       "      <td>18.435051</td>\n",
       "      <td>2021-11-18</td>\n",
       "      <td>11</td>\n",
       "      <td>8</td>\n",
       "      <td>50</td>\n",
       "      <td>0</td>\n",
       "    </tr>\n",
       "    <tr>\n",
       "      <th>18066</th>\n",
       "      <td>1534</td>\n",
       "      <td>Альберт</td>\n",
       "      <td>25</td>\n",
       "      <td>Краснодар</td>\n",
       "      <td>free</td>\n",
       "      <td>2902.308661</td>\n",
       "      <td>16.674362</td>\n",
       "      <td>2021-11-27</td>\n",
       "      <td>11</td>\n",
       "      <td>8</td>\n",
       "      <td>50</td>\n",
       "      <td>0</td>\n",
       "    </tr>\n",
       "    <tr>\n",
       "      <th>18067</th>\n",
       "      <td>1534</td>\n",
       "      <td>Альберт</td>\n",
       "      <td>25</td>\n",
       "      <td>Краснодар</td>\n",
       "      <td>free</td>\n",
       "      <td>2371.711192</td>\n",
       "      <td>15.893917</td>\n",
       "      <td>2021-12-29</td>\n",
       "      <td>12</td>\n",
       "      <td>8</td>\n",
       "      <td>50</td>\n",
       "      <td>0</td>\n",
       "    </tr>\n",
       "  </tbody>\n",
       "</table>\n",
       "<p>11568 rows × 12 columns</p>\n",
       "</div>"
      ],
      "text/plain": [
       "       user_id     name  age       city subscription_type     distance  \\\n",
       "6500       700    Айдар   22       Омск              free  2515.690719   \n",
       "6501       700    Айдар   22       Омск              free   846.932642   \n",
       "6502       700    Айдар   22       Омск              free  4004.434142   \n",
       "6503       700    Айдар   22       Омск              free  1205.911290   \n",
       "6504       700    Айдар   22       Омск              free  3047.379435   \n",
       "...        ...      ...  ...        ...               ...          ...   \n",
       "18063     1534  Альберт   25  Краснодар              free  3781.098080   \n",
       "18064     1534  Альберт   25  Краснодар              free  2840.423057   \n",
       "18065     1534  Альберт   25  Краснодар              free  3826.185507   \n",
       "18066     1534  Альберт   25  Краснодар              free  2902.308661   \n",
       "18067     1534  Альберт   25  Краснодар              free  2371.711192   \n",
       "\n",
       "        duration       date  month  minute_price  start_ride_price  \\\n",
       "6500   14.944286 2021-01-02      1             8                50   \n",
       "6501   16.234663 2021-02-01      2             8                50   \n",
       "6502   20.016628 2021-02-04      2             8                50   \n",
       "6503    9.782872 2021-02-10      2             8                50   \n",
       "6504   17.427673 2021-02-14      2             8                50   \n",
       "...          ...        ...    ...           ...               ...   \n",
       "18063  19.822962 2021-11-04     11             8                50   \n",
       "18064  21.409799 2021-11-16     11             8                50   \n",
       "18065  18.435051 2021-11-18     11             8                50   \n",
       "18066  16.674362 2021-11-27     11             8                50   \n",
       "18067  15.893917 2021-12-29     12             8                50   \n",
       "\n",
       "       subscription_fee  \n",
       "6500                  0  \n",
       "6501                  0  \n",
       "6502                  0  \n",
       "6503                  0  \n",
       "6504                  0  \n",
       "...                 ...  \n",
       "18063                 0  \n",
       "18064                 0  \n",
       "18065                 0  \n",
       "18066                 0  \n",
       "18067                 0  \n",
       "\n",
       "[11568 rows x 12 columns]"
      ]
     },
     "execution_count": 26,
     "metadata": {},
     "output_type": "execute_result"
    }
   ],
   "source": [
    "#Создадим датафрейм с данными о людях без подписки\n",
    "dt_free = table_union[table_union['subscription_type'] == 'free']\n",
    "dt_free"
   ]
  },
  {
   "cell_type": "code",
   "execution_count": 27,
   "id": "28004add",
   "metadata": {},
   "outputs": [
    {
     "data": {
      "text/html": [
       "<div>\n",
       "<style scoped>\n",
       "    .dataframe tbody tr th:only-of-type {\n",
       "        vertical-align: middle;\n",
       "    }\n",
       "\n",
       "    .dataframe tbody tr th {\n",
       "        vertical-align: top;\n",
       "    }\n",
       "\n",
       "    .dataframe thead th {\n",
       "        text-align: right;\n",
       "    }\n",
       "</style>\n",
       "<table border=\"1\" class=\"dataframe\">\n",
       "  <thead>\n",
       "    <tr style=\"text-align: right;\">\n",
       "      <th></th>\n",
       "      <th>user_id</th>\n",
       "      <th>name</th>\n",
       "      <th>age</th>\n",
       "      <th>city</th>\n",
       "      <th>subscription_type</th>\n",
       "      <th>distance</th>\n",
       "      <th>duration</th>\n",
       "      <th>date</th>\n",
       "      <th>month</th>\n",
       "      <th>minute_price</th>\n",
       "      <th>start_ride_price</th>\n",
       "      <th>subscription_fee</th>\n",
       "    </tr>\n",
       "  </thead>\n",
       "  <tbody>\n",
       "    <tr>\n",
       "      <th>0</th>\n",
       "      <td>1</td>\n",
       "      <td>Кира</td>\n",
       "      <td>22</td>\n",
       "      <td>Тюмень</td>\n",
       "      <td>ultra</td>\n",
       "      <td>4409.919140</td>\n",
       "      <td>25.599769</td>\n",
       "      <td>2021-01-01</td>\n",
       "      <td>1</td>\n",
       "      <td>6</td>\n",
       "      <td>0</td>\n",
       "      <td>199</td>\n",
       "    </tr>\n",
       "    <tr>\n",
       "      <th>1</th>\n",
       "      <td>1</td>\n",
       "      <td>Кира</td>\n",
       "      <td>22</td>\n",
       "      <td>Тюмень</td>\n",
       "      <td>ultra</td>\n",
       "      <td>2617.592153</td>\n",
       "      <td>15.816871</td>\n",
       "      <td>2021-01-18</td>\n",
       "      <td>1</td>\n",
       "      <td>6</td>\n",
       "      <td>0</td>\n",
       "      <td>199</td>\n",
       "    </tr>\n",
       "    <tr>\n",
       "      <th>2</th>\n",
       "      <td>1</td>\n",
       "      <td>Кира</td>\n",
       "      <td>22</td>\n",
       "      <td>Тюмень</td>\n",
       "      <td>ultra</td>\n",
       "      <td>754.159807</td>\n",
       "      <td>6.232113</td>\n",
       "      <td>2021-04-20</td>\n",
       "      <td>4</td>\n",
       "      <td>6</td>\n",
       "      <td>0</td>\n",
       "      <td>199</td>\n",
       "    </tr>\n",
       "    <tr>\n",
       "      <th>3</th>\n",
       "      <td>1</td>\n",
       "      <td>Кира</td>\n",
       "      <td>22</td>\n",
       "      <td>Тюмень</td>\n",
       "      <td>ultra</td>\n",
       "      <td>2694.783254</td>\n",
       "      <td>18.511000</td>\n",
       "      <td>2021-08-11</td>\n",
       "      <td>8</td>\n",
       "      <td>6</td>\n",
       "      <td>0</td>\n",
       "      <td>199</td>\n",
       "    </tr>\n",
       "    <tr>\n",
       "      <th>4</th>\n",
       "      <td>1</td>\n",
       "      <td>Кира</td>\n",
       "      <td>22</td>\n",
       "      <td>Тюмень</td>\n",
       "      <td>ultra</td>\n",
       "      <td>4028.687306</td>\n",
       "      <td>26.265803</td>\n",
       "      <td>2021-08-28</td>\n",
       "      <td>8</td>\n",
       "      <td>6</td>\n",
       "      <td>0</td>\n",
       "      <td>199</td>\n",
       "    </tr>\n",
       "    <tr>\n",
       "      <th>...</th>\n",
       "      <td>...</td>\n",
       "      <td>...</td>\n",
       "      <td>...</td>\n",
       "      <td>...</td>\n",
       "      <td>...</td>\n",
       "      <td>...</td>\n",
       "      <td>...</td>\n",
       "      <td>...</td>\n",
       "      <td>...</td>\n",
       "      <td>...</td>\n",
       "      <td>...</td>\n",
       "      <td>...</td>\n",
       "    </tr>\n",
       "    <tr>\n",
       "      <th>6495</th>\n",
       "      <td>699</td>\n",
       "      <td>Оксана</td>\n",
       "      <td>22</td>\n",
       "      <td>Москва</td>\n",
       "      <td>ultra</td>\n",
       "      <td>3973.046497</td>\n",
       "      <td>24.671163</td>\n",
       "      <td>2021-08-29</td>\n",
       "      <td>8</td>\n",
       "      <td>6</td>\n",
       "      <td>0</td>\n",
       "      <td>199</td>\n",
       "    </tr>\n",
       "    <tr>\n",
       "      <th>6496</th>\n",
       "      <td>699</td>\n",
       "      <td>Оксана</td>\n",
       "      <td>22</td>\n",
       "      <td>Москва</td>\n",
       "      <td>ultra</td>\n",
       "      <td>3288.702563</td>\n",
       "      <td>15.892886</td>\n",
       "      <td>2021-09-12</td>\n",
       "      <td>9</td>\n",
       "      <td>6</td>\n",
       "      <td>0</td>\n",
       "      <td>199</td>\n",
       "    </tr>\n",
       "    <tr>\n",
       "      <th>6497</th>\n",
       "      <td>699</td>\n",
       "      <td>Оксана</td>\n",
       "      <td>22</td>\n",
       "      <td>Москва</td>\n",
       "      <td>ultra</td>\n",
       "      <td>3076.159348</td>\n",
       "      <td>14.389525</td>\n",
       "      <td>2021-09-26</td>\n",
       "      <td>9</td>\n",
       "      <td>6</td>\n",
       "      <td>0</td>\n",
       "      <td>199</td>\n",
       "    </tr>\n",
       "    <tr>\n",
       "      <th>6498</th>\n",
       "      <td>699</td>\n",
       "      <td>Оксана</td>\n",
       "      <td>22</td>\n",
       "      <td>Москва</td>\n",
       "      <td>ultra</td>\n",
       "      <td>4707.845501</td>\n",
       "      <td>15.839579</td>\n",
       "      <td>2021-10-17</td>\n",
       "      <td>10</td>\n",
       "      <td>6</td>\n",
       "      <td>0</td>\n",
       "      <td>199</td>\n",
       "    </tr>\n",
       "    <tr>\n",
       "      <th>6499</th>\n",
       "      <td>699</td>\n",
       "      <td>Оксана</td>\n",
       "      <td>22</td>\n",
       "      <td>Москва</td>\n",
       "      <td>ultra</td>\n",
       "      <td>3202.890770</td>\n",
       "      <td>25.217345</td>\n",
       "      <td>2021-12-03</td>\n",
       "      <td>12</td>\n",
       "      <td>6</td>\n",
       "      <td>0</td>\n",
       "      <td>199</td>\n",
       "    </tr>\n",
       "  </tbody>\n",
       "</table>\n",
       "<p>6500 rows × 12 columns</p>\n",
       "</div>"
      ],
      "text/plain": [
       "      user_id    name  age    city subscription_type     distance   duration  \\\n",
       "0           1    Кира   22  Тюмень             ultra  4409.919140  25.599769   \n",
       "1           1    Кира   22  Тюмень             ultra  2617.592153  15.816871   \n",
       "2           1    Кира   22  Тюмень             ultra   754.159807   6.232113   \n",
       "3           1    Кира   22  Тюмень             ultra  2694.783254  18.511000   \n",
       "4           1    Кира   22  Тюмень             ultra  4028.687306  26.265803   \n",
       "...       ...     ...  ...     ...               ...          ...        ...   \n",
       "6495      699  Оксана   22  Москва             ultra  3973.046497  24.671163   \n",
       "6496      699  Оксана   22  Москва             ultra  3288.702563  15.892886   \n",
       "6497      699  Оксана   22  Москва             ultra  3076.159348  14.389525   \n",
       "6498      699  Оксана   22  Москва             ultra  4707.845501  15.839579   \n",
       "6499      699  Оксана   22  Москва             ultra  3202.890770  25.217345   \n",
       "\n",
       "           date  month  minute_price  start_ride_price  subscription_fee  \n",
       "0    2021-01-01      1             6                 0               199  \n",
       "1    2021-01-18      1             6                 0               199  \n",
       "2    2021-04-20      4             6                 0               199  \n",
       "3    2021-08-11      8             6                 0               199  \n",
       "4    2021-08-28      8             6                 0               199  \n",
       "...         ...    ...           ...               ...               ...  \n",
       "6495 2021-08-29      8             6                 0               199  \n",
       "6496 2021-09-12      9             6                 0               199  \n",
       "6497 2021-09-26      9             6                 0               199  \n",
       "6498 2021-10-17     10             6                 0               199  \n",
       "6499 2021-12-03     12             6                 0               199  \n",
       "\n",
       "[6500 rows x 12 columns]"
      ]
     },
     "execution_count": 27,
     "metadata": {},
     "output_type": "execute_result"
    }
   ],
   "source": [
    "#Создадим датафрейм с данными о людях с подпиской\n",
    "dt_ultra = table_union[table_union['subscription_type'] == 'ultra']\n",
    "dt_ultra"
   ]
  },
  {
   "cell_type": "markdown",
   "id": "669dcc49",
   "metadata": {},
   "source": [
    "**Визуализируем информацию о расстоянии.**"
   ]
  },
  {
   "cell_type": "code",
   "execution_count": 28,
   "id": "b65f14b1",
   "metadata": {},
   "outputs": [
    {
     "data": {
      "image/png": "[encoded data removed]",
      "text/plain": [
       "<Figure size 432x288 with 1 Axes>"
      ]
     },
     "metadata": {
      "needs_background": "light"
     },
     "output_type": "display_data"
    }
   ],
   "source": [
    "#Построим график расстояния пройденного за одну поездку для людей без подписки\n",
    "dt_free['distance'].plot(kind='hist', bins=30, grid=True)\n",
    "plt.title('Расстояние заезда')\n",
    "plt.xlabel('Расстояние в метрах')\n",
    "plt.ylabel('Количество человек');"
   ]
  },
  {
   "cell_type": "code",
   "execution_count": 29,
   "id": "a53f9501",
   "metadata": {
    "scrolled": true
   },
   "outputs": [
    {
     "data": {
      "image/png": "[encoded data removed]",
      "text/plain": [
       "<Figure size 432x288 with 1 Axes>"
      ]
     },
     "metadata": {
      "needs_background": "light"
     },
     "output_type": "display_data"
    }
   ],
   "source": [
    "#Построим график расстояния пройденного за одну поездку для людей с подпиской\n",
    "dt_ultra['distance'].plot(kind='hist', bins=30, grid=True)\n",
    "plt.title('Расстояние заезда')\n",
    "plt.xlabel('Расстояние в метрах')\n",
    "plt.ylabel('Количество человек');"
   ]
  },
  {
   "cell_type": "markdown",
   "id": "848d81d0",
   "metadata": {},
   "source": [
    "**Вывод:** На обоих графиках заметны два пика. Люди без подписки часто проезжают большие расстояния, чем люди с подпиской (есть значения более 7000 метров). При этом меньший пик для людей без подписки находится около значения в 500 метров, а для людей с подпиской - около 1000 метров."
   ]
  },
  {
   "cell_type": "markdown",
   "id": "3af30816",
   "metadata": {},
   "source": [
    "**Визуализируем информацию о времени поездок.**"
   ]
  },
  {
   "cell_type": "code",
   "execution_count": 30,
   "id": "5086c3b5",
   "metadata": {},
   "outputs": [
    {
     "data": {
      "text/plain": [
       "count    11568.000000\n",
       "mean        17.390909\n",
       "std          6.326803\n",
       "min          0.500000\n",
       "25%         12.958437\n",
       "50%         17.326890\n",
       "75%         21.594071\n",
       "max         34.948498\n",
       "Name: duration, dtype: float64"
      ]
     },
     "execution_count": 30,
     "metadata": {},
     "output_type": "execute_result"
    },
    {
     "data": {
      "image/png": "[encoded data removed]",
      "text/plain": [
       "<Figure size 432x288 with 1 Axes>"
      ]
     },
     "metadata": {
      "needs_background": "light"
     },
     "output_type": "display_data"
    }
   ],
   "source": [
    "#Построим график времени для одной поездки для людей без подписки\n",
    "dt_free['duration'].plot(kind='hist', bins=30, grid=True)\n",
    "plt.title('Время заезда')\n",
    "plt.xlabel('Время в минутах')\n",
    "plt.ylabel('Количество человек')\n",
    "dt_free['duration'].describe()"
   ]
  },
  {
   "cell_type": "code",
   "execution_count": 31,
   "id": "a8f8622c",
   "metadata": {},
   "outputs": [
    {
     "data": {
      "text/plain": [
       "count    6500.000000\n",
       "mean       18.541985\n",
       "std         5.572048\n",
       "min         3.760353\n",
       "25%        14.524654\n",
       "50%        18.178153\n",
       "75%        21.884129\n",
       "max        40.823963\n",
       "Name: duration, dtype: float64"
      ]
     },
     "execution_count": 31,
     "metadata": {},
     "output_type": "execute_result"
    },
    {
     "data": {
      "image/png": "[encoded data removed]",
      "text/plain": [
       "<Figure size 432x288 with 1 Axes>"
      ]
     },
     "metadata": {
      "needs_background": "light"
     },
     "output_type": "display_data"
    }
   ],
   "source": [
    "#Построим график времени для одной поездки для людей без подписки\n",
    "dt_ultra['duration'].plot(kind='hist', bins=30, grid=True, range = (0, 35))\n",
    "plt.title('Время заезда')\n",
    "plt.xlabel('Время в минутах')\n",
    "plt.ylabel('Количество человек')\n",
    "dt_ultra['duration'].describe()"
   ]
  },
  {
   "cell_type": "markdown",
   "id": "675bf9e2",
   "metadata": {},
   "source": [
    "**Вывод:** Графики для времени заездов для людей с подпиской и без практически идентичны. Графики близки к нормальному распределению. При этом среднее время немного отличается для двух групп людей: для людей без подписки оно равно 17.5 минутам, а для людей с подпиской - 18.5 минутам. Можно сделать вывод, что люди с подпиской совершают более длительные заезды."
   ]
  },
  {
   "cell_type": "markdown",
   "id": "402d620f",
   "metadata": {},
   "source": [
    "#### Шаг 5. Подсчёт выручки"
   ]
  },
  {
   "cell_type": "markdown",
   "id": "6a6bee1f",
   "metadata": {},
   "source": [
    "**Создадим датафрейм с агрегированными данными о поездках.**"
   ]
  },
  {
   "cell_type": "markdown",
   "id": "46abb469",
   "metadata": {},
   "source": [
    "<div class=\"alert alert-info\">Проверим на пропуски в сводную таблицу перед расчетом выручки.</div>"
   ]
  },
  {
   "cell_type": "code",
   "execution_count": 32,
   "id": "a830584d",
   "metadata": {},
   "outputs": [
    {
     "data": {
      "text/plain": [
       "user_id              0\n",
       "name                 0\n",
       "age                  0\n",
       "city                 0\n",
       "subscription_type    0\n",
       "distance             0\n",
       "duration             0\n",
       "date                 0\n",
       "month                0\n",
       "minute_price         0\n",
       "start_ride_price     0\n",
       "subscription_fee     0\n",
       "dtype: int64"
      ]
     },
     "execution_count": 32,
     "metadata": {},
     "output_type": "execute_result"
    }
   ],
   "source": [
    "#Выведем сумму всех пропусков таблицы table_union по всем столбцам\n",
    "table_union.isna().sum()"
   ]
  },
  {
   "cell_type": "code",
   "execution_count": 33,
   "id": "42bd2d47",
   "metadata": {},
   "outputs": [],
   "source": [
    "#Округлим каждое значение из столбца duration до целого в большую сторону\n",
    "table_union['duration'] = np.ceil(table_union['duration'])"
   ]
  },
  {
   "cell_type": "code",
   "execution_count": 34,
   "id": "2b073e45",
   "metadata": {},
   "outputs": [
    {
     "data": {
      "text/html": [
       "<div>\n",
       "<style scoped>\n",
       "    .dataframe tbody tr th:only-of-type {\n",
       "        vertical-align: middle;\n",
       "    }\n",
       "\n",
       "    .dataframe tbody tr th {\n",
       "        vertical-align: top;\n",
       "    }\n",
       "\n",
       "    .dataframe thead th {\n",
       "        text-align: right;\n",
       "    }\n",
       "</style>\n",
       "<table border=\"1\" class=\"dataframe\">\n",
       "  <thead>\n",
       "    <tr style=\"text-align: right;\">\n",
       "      <th></th>\n",
       "      <th></th>\n",
       "      <th>distance</th>\n",
       "      <th>duration</th>\n",
       "      <th>number_of_trips</th>\n",
       "      <th>subscription_type</th>\n",
       "    </tr>\n",
       "    <tr>\n",
       "      <th>user_id</th>\n",
       "      <th>month</th>\n",
       "      <th></th>\n",
       "      <th></th>\n",
       "      <th></th>\n",
       "      <th></th>\n",
       "    </tr>\n",
       "  </thead>\n",
       "  <tbody>\n",
       "    <tr>\n",
       "      <th rowspan=\"5\" valign=\"top\">1</th>\n",
       "      <th>1</th>\n",
       "      <td>7027.511294</td>\n",
       "      <td>42.0</td>\n",
       "      <td>2</td>\n",
       "      <td>ultra</td>\n",
       "    </tr>\n",
       "    <tr>\n",
       "      <th>4</th>\n",
       "      <td>754.159807</td>\n",
       "      <td>7.0</td>\n",
       "      <td>1</td>\n",
       "      <td>ultra</td>\n",
       "    </tr>\n",
       "    <tr>\n",
       "      <th>8</th>\n",
       "      <td>6723.470560</td>\n",
       "      <td>46.0</td>\n",
       "      <td>2</td>\n",
       "      <td>ultra</td>\n",
       "    </tr>\n",
       "    <tr>\n",
       "      <th>10</th>\n",
       "      <td>5809.911100</td>\n",
       "      <td>32.0</td>\n",
       "      <td>2</td>\n",
       "      <td>ultra</td>\n",
       "    </tr>\n",
       "    <tr>\n",
       "      <th>11</th>\n",
       "      <td>7003.499363</td>\n",
       "      <td>56.0</td>\n",
       "      <td>3</td>\n",
       "      <td>ultra</td>\n",
       "    </tr>\n",
       "    <tr>\n",
       "      <th>...</th>\n",
       "      <th>...</th>\n",
       "      <td>...</td>\n",
       "      <td>...</td>\n",
       "      <td>...</td>\n",
       "      <td>...</td>\n",
       "    </tr>\n",
       "    <tr>\n",
       "      <th rowspan=\"5\" valign=\"top\">1534</th>\n",
       "      <th>6</th>\n",
       "      <td>3409.468534</td>\n",
       "      <td>26.0</td>\n",
       "      <td>2</td>\n",
       "      <td>free</td>\n",
       "    </tr>\n",
       "    <tr>\n",
       "      <th>8</th>\n",
       "      <td>7622.453034</td>\n",
       "      <td>48.0</td>\n",
       "      <td>2</td>\n",
       "      <td>free</td>\n",
       "    </tr>\n",
       "    <tr>\n",
       "      <th>9</th>\n",
       "      <td>4928.173852</td>\n",
       "      <td>23.0</td>\n",
       "      <td>1</td>\n",
       "      <td>free</td>\n",
       "    </tr>\n",
       "    <tr>\n",
       "      <th>11</th>\n",
       "      <td>13350.015305</td>\n",
       "      <td>78.0</td>\n",
       "      <td>4</td>\n",
       "      <td>free</td>\n",
       "    </tr>\n",
       "    <tr>\n",
       "      <th>12</th>\n",
       "      <td>2371.711192</td>\n",
       "      <td>16.0</td>\n",
       "      <td>1</td>\n",
       "      <td>free</td>\n",
       "    </tr>\n",
       "  </tbody>\n",
       "</table>\n",
       "<p>11331 rows × 4 columns</p>\n",
       "</div>"
      ],
      "text/plain": [
       "                   distance  duration  number_of_trips subscription_type\n",
       "user_id month                                                           \n",
       "1       1       7027.511294      42.0                2             ultra\n",
       "        4        754.159807       7.0                1             ultra\n",
       "        8       6723.470560      46.0                2             ultra\n",
       "        10      5809.911100      32.0                2             ultra\n",
       "        11      7003.499363      56.0                3             ultra\n",
       "...                     ...       ...              ...               ...\n",
       "1534    6       3409.468534      26.0                2              free\n",
       "        8       7622.453034      48.0                2              free\n",
       "        9       4928.173852      23.0                1              free\n",
       "        11     13350.015305      78.0                4              free\n",
       "        12      2371.711192      16.0                1              free\n",
       "\n",
       "[11331 rows x 4 columns]"
      ]
     },
     "execution_count": 34,
     "metadata": {},
     "output_type": "execute_result"
    }
   ],
   "source": [
    "#Создадим сводную таблицу\n",
    "dt_agg = pd.pivot_table(table_union, index=['user_id', 'month'], values = ['distance', 'name', 'duration', 'subscription_type'], aggfunc = {'distance': sum, 'name' : len, 'duration' : sum, 'subscription_type': max})\n",
    "dt_agg.columns = ['distance', 'duration', 'number_of_trips', 'subscription_type']\n",
    "\n",
    "dt_agg"
   ]
  },
  {
   "cell_type": "markdown",
   "id": "27df3e7e",
   "metadata": {},
   "source": [
    "**Добавим столбец с помесячной выручкой, которую принёс каждый пользователь.**"
   ]
  },
  {
   "cell_type": "code",
   "execution_count": 35,
   "id": "e1525bd8",
   "metadata": {},
   "outputs": [
    {
     "data": {
      "text/html": [
       "<div>\n",
       "<style scoped>\n",
       "    .dataframe tbody tr th:only-of-type {\n",
       "        vertical-align: middle;\n",
       "    }\n",
       "\n",
       "    .dataframe tbody tr th {\n",
       "        vertical-align: top;\n",
       "    }\n",
       "\n",
       "    .dataframe thead th {\n",
       "        text-align: right;\n",
       "    }\n",
       "</style>\n",
       "<table border=\"1\" class=\"dataframe\">\n",
       "  <thead>\n",
       "    <tr style=\"text-align: right;\">\n",
       "      <th></th>\n",
       "      <th></th>\n",
       "      <th>distance</th>\n",
       "      <th>duration</th>\n",
       "      <th>number_of_trips</th>\n",
       "      <th>subscription_type</th>\n",
       "      <th>monthly_revenue</th>\n",
       "    </tr>\n",
       "    <tr>\n",
       "      <th>user_id</th>\n",
       "      <th>month</th>\n",
       "      <th></th>\n",
       "      <th></th>\n",
       "      <th></th>\n",
       "      <th></th>\n",
       "      <th></th>\n",
       "    </tr>\n",
       "  </thead>\n",
       "  <tbody>\n",
       "    <tr>\n",
       "      <th rowspan=\"5\" valign=\"top\">1</th>\n",
       "      <th>1</th>\n",
       "      <td>7027.511294</td>\n",
       "      <td>42.0</td>\n",
       "      <td>2</td>\n",
       "      <td>ultra</td>\n",
       "      <td>451.0</td>\n",
       "    </tr>\n",
       "    <tr>\n",
       "      <th>4</th>\n",
       "      <td>754.159807</td>\n",
       "      <td>7.0</td>\n",
       "      <td>1</td>\n",
       "      <td>ultra</td>\n",
       "      <td>241.0</td>\n",
       "    </tr>\n",
       "    <tr>\n",
       "      <th>8</th>\n",
       "      <td>6723.470560</td>\n",
       "      <td>46.0</td>\n",
       "      <td>2</td>\n",
       "      <td>ultra</td>\n",
       "      <td>475.0</td>\n",
       "    </tr>\n",
       "    <tr>\n",
       "      <th>10</th>\n",
       "      <td>5809.911100</td>\n",
       "      <td>32.0</td>\n",
       "      <td>2</td>\n",
       "      <td>ultra</td>\n",
       "      <td>391.0</td>\n",
       "    </tr>\n",
       "    <tr>\n",
       "      <th>11</th>\n",
       "      <td>7003.499363</td>\n",
       "      <td>56.0</td>\n",
       "      <td>3</td>\n",
       "      <td>ultra</td>\n",
       "      <td>535.0</td>\n",
       "    </tr>\n",
       "    <tr>\n",
       "      <th>...</th>\n",
       "      <th>...</th>\n",
       "      <td>...</td>\n",
       "      <td>...</td>\n",
       "      <td>...</td>\n",
       "      <td>...</td>\n",
       "      <td>...</td>\n",
       "    </tr>\n",
       "    <tr>\n",
       "      <th rowspan=\"5\" valign=\"top\">1534</th>\n",
       "      <th>6</th>\n",
       "      <td>3409.468534</td>\n",
       "      <td>26.0</td>\n",
       "      <td>2</td>\n",
       "      <td>free</td>\n",
       "      <td>308.0</td>\n",
       "    </tr>\n",
       "    <tr>\n",
       "      <th>8</th>\n",
       "      <td>7622.453034</td>\n",
       "      <td>48.0</td>\n",
       "      <td>2</td>\n",
       "      <td>free</td>\n",
       "      <td>484.0</td>\n",
       "    </tr>\n",
       "    <tr>\n",
       "      <th>9</th>\n",
       "      <td>4928.173852</td>\n",
       "      <td>23.0</td>\n",
       "      <td>1</td>\n",
       "      <td>free</td>\n",
       "      <td>234.0</td>\n",
       "    </tr>\n",
       "    <tr>\n",
       "      <th>11</th>\n",
       "      <td>13350.015305</td>\n",
       "      <td>78.0</td>\n",
       "      <td>4</td>\n",
       "      <td>free</td>\n",
       "      <td>824.0</td>\n",
       "    </tr>\n",
       "    <tr>\n",
       "      <th>12</th>\n",
       "      <td>2371.711192</td>\n",
       "      <td>16.0</td>\n",
       "      <td>1</td>\n",
       "      <td>free</td>\n",
       "      <td>178.0</td>\n",
       "    </tr>\n",
       "  </tbody>\n",
       "</table>\n",
       "<p>11331 rows × 5 columns</p>\n",
       "</div>"
      ],
      "text/plain": [
       "                   distance  duration  number_of_trips subscription_type  \\\n",
       "user_id month                                                              \n",
       "1       1       7027.511294      42.0                2             ultra   \n",
       "        4        754.159807       7.0                1             ultra   \n",
       "        8       6723.470560      46.0                2             ultra   \n",
       "        10      5809.911100      32.0                2             ultra   \n",
       "        11      7003.499363      56.0                3             ultra   \n",
       "...                     ...       ...              ...               ...   \n",
       "1534    6       3409.468534      26.0                2              free   \n",
       "        8       7622.453034      48.0                2              free   \n",
       "        9       4928.173852      23.0                1              free   \n",
       "        11     13350.015305      78.0                4              free   \n",
       "        12      2371.711192      16.0                1              free   \n",
       "\n",
       "               monthly_revenue  \n",
       "user_id month                   \n",
       "1       1                451.0  \n",
       "        4                241.0  \n",
       "        8                475.0  \n",
       "        10               391.0  \n",
       "        11               535.0  \n",
       "...                        ...  \n",
       "1534    6                308.0  \n",
       "        8                484.0  \n",
       "        9                234.0  \n",
       "        11               824.0  \n",
       "        12               178.0  \n",
       "\n",
       "[11331 rows x 5 columns]"
      ]
     },
     "execution_count": 35,
     "metadata": {},
     "output_type": "execute_result"
    }
   ],
   "source": [
    "def monthly_revenue(row):\n",
    "    if row['subscription_type'] == 'free':\n",
    "        return 50 * row['number_of_trips'] +  8 * row['duration']\n",
    "    elif row['subscription_type'] == 'ultra':\n",
    "        return 6 * row['duration'] + 199\n",
    "    else:\n",
    "        return 0\n",
    "    \n",
    "dt_agg['monthly_revenue'] = dt_agg.apply(monthly_revenue, axis=1)\n",
    "dt_agg"
   ]
  },
  {
   "cell_type": "markdown",
   "id": "bd69d25e",
   "metadata": {},
   "source": [
    "**Вывод:** Мы создали датафрейм с агрегированными данными о поездках и добавили столбец с помесячной выручкой, которую принёс каждый пользователь."
   ]
  },
  {
   "cell_type": "markdown",
   "id": "41545ac0",
   "metadata": {},
   "source": [
    "#### Шаг 6. Проверка гипотез"
   ]
  },
  {
   "cell_type": "markdown",
   "id": "4287db68",
   "metadata": {},
   "source": [
    "**6.1 Проверим гипотезу: Тратят ли пользователи с подпиской больше времени на поездки?**"
   ]
  },
  {
   "cell_type": "markdown",
   "id": "30b75c9b",
   "metadata": {},
   "source": [
    "Сформулируем нулевую и альтернативную гипотезы:\n",
    "\n",
    "Нулевая гипотеза: H_0: Время поездки для людей с подпиской равно времени поездки для людей без подписки.\n",
    "\n",
    "Альтернативная гипотеза: H_1: Время поездки для людей с подпиской больше времени поездки для людей без подписки."
   ]
  },
  {
   "cell_type": "code",
   "execution_count": 36,
   "id": "23ea867b",
   "metadata": {},
   "outputs": [
    {
     "name": "stdout",
     "output_type": "stream",
     "text": [
      "p-значение: 1.2804098316645618e-34\n",
      "Отвергаем нулевую гипотезу\n"
     ]
    }
   ],
   "source": [
    "#Подготовим данные\n",
    "ultra_sub = dt_ultra['duration'] \n",
    "free_sub = dt_free['duration']\n",
    "alpha = 0.05\n",
    "#Проведем T-test\n",
    "results = st.ttest_ind(ultra_sub, free_sub, alternative = 'greater')\n",
    "\n",
    "print('p-значение:', results.pvalue)\n",
    "\n",
    "if results.pvalue < alpha:\n",
    "    print('Отвергаем нулевую гипотезу')\n",
    "else:\n",
    "    print('Не отвергаем нулевую гипотезу')"
   ]
  },
  {
   "cell_type": "markdown",
   "id": "00f5e5c4",
   "metadata": {},
   "source": [
    "**Вывод:** Время поездки для людей с подпиской больше времени поездки для людей без подписки."
   ]
  },
  {
   "cell_type": "markdown",
   "id": "42c07819",
   "metadata": {},
   "source": [
    "**6.2 Проверим гипотезу: Можно ли сказать, что среднее расстояние, которое проезжают пользователи с подпиской за одну поездку, не превышает 3130 метров?**"
   ]
  },
  {
   "cell_type": "markdown",
   "id": "e7638154",
   "metadata": {},
   "source": [
    "Сформулируем нулевую и альтернативную гипотезы:\n",
    "\n",
    "Нулевая гипотеза: H_0: Расстояние за один заезд пользователей с подпиской равно 3130 метров.\n",
    "\n",
    "Альтернативная гипотеза: H_1: Расстояние за один заезд пользователей с подпиской больше 3130 метров."
   ]
  },
  {
   "cell_type": "code",
   "execution_count": 37,
   "id": "5e3e17ad",
   "metadata": {},
   "outputs": [
    {
     "name": "stdout",
     "output_type": "stream",
     "text": [
      "p-значение: 0.9195368847849785\n",
      "Не отвергаем нулевую гипотезу\n"
     ]
    }
   ],
   "source": [
    "#Подготовим данные\n",
    "ultra_distance = dt_ultra['distance']\n",
    "star_meaning = 3130.0\n",
    "alpha = .05\n",
    "#Проведем T-test\n",
    "results = st.ttest_1samp(ultra_distance, star_meaning, alternative='greater')\n",
    "\n",
    "print('p-значение:', results.pvalue)\n",
    "\n",
    "if results.pvalue < alpha:\n",
    "    print('Отвергаем нулевую гипотезу')\n",
    "else:\n",
    "    print('Не отвергаем нулевую гипотезу')"
   ]
  },
  {
   "cell_type": "markdown",
   "id": "65817637",
   "metadata": {},
   "source": [
    "**Вывод:** Нельзя сказать, что среднее расстояние, которое проезжают пользователи с подпиской за одну поездку, превышает 3130 метров."
   ]
  },
  {
   "cell_type": "markdown",
   "id": "c706ed6a",
   "metadata": {},
   "source": [
    "**6.3 Проверьте гипотезу: Будет ли помесячная выручка от пользователей с подпиской по месяцам выше, чем выручка от пользователей без подписки?**"
   ]
  },
  {
   "cell_type": "markdown",
   "id": "d869b6be",
   "metadata": {},
   "source": [
    "Сформулируем нулевую и альтернативную гипотезы:\n",
    "\n",
    "Нулевая гипотеза: H_0: Помесячная выручка от пользователей с подпиской по месяцам равна выручке от пользователей без подписки.\n",
    "\n",
    "Альтернативная гипотеза: H_1: Помесячная выручка от пользователей с подпиской по месяцам больше выручки от пользователей без подписки."
   ]
  },
  {
   "cell_type": "code",
   "execution_count": 38,
   "id": "7ff2bbf6",
   "metadata": {},
   "outputs": [
    {
     "name": "stdout",
     "output_type": "stream",
     "text": [
      "p-значение: 1.8850394384715216e-31\n",
      "Отвергаем нулевую гипотезу\n"
     ]
    }
   ],
   "source": [
    "#Подготовим данные\n",
    "dt_agg_ultra = dt_agg.loc[dt_agg['subscription_type'] == 'ultra', 'monthly_revenue']\n",
    "dt_agg_free = dt_agg.loc[dt_agg['subscription_type'] == 'free', 'monthly_revenue']\n",
    "alpha = .05\n",
    "#Проведем T-test\n",
    "results = st.ttest_ind(dt_agg_ultra, dt_agg_free, alternative = 'greater')\n",
    "\n",
    "print('p-значение:', results.pvalue)\n",
    "\n",
    "if results.pvalue < alpha:\n",
    "    print('Отвергаем нулевую гипотезу')\n",
    "else:\n",
    "    print('Не отвергаем нулевую гипотезу')"
   ]
  },
  {
   "cell_type": "markdown",
   "id": "d51d1d74",
   "metadata": {},
   "source": [
    "**Вывод:** Помесячная выручка от пользователей с подпиской по месяцам выше, чем выручка от пользователей без подписки."
   ]
  },
  {
   "cell_type": "markdown",
   "id": "0ea52fab",
   "metadata": {},
   "source": [
    "**6.4 Представьте такую ситуацию: техническая команда сервиса обновила сервера, с которыми взаимодействует мобильное приложение. Она надеется, что из-за этого количество обращений в техподдержку значимо снизилось. Некоторый файл содержит для каждого пользователя данные о количестве обращений до обновления и после него. Какой тест вам понадобился бы для проверки этой гипотезы?**"
   ]
  },
  {
   "cell_type": "markdown",
   "id": "05e8b74f",
   "metadata": {},
   "source": [
    "**Вывод:** Здесь нужно использовать левосторонний тест о равенстве средних значений для зависимых выборок.\n",
    "\n",
    "Нулевая гипотеза: H_0: mu1 == mu2\n",
    "\n",
    "Альтернативная гипотеза: H_1: mu1 > mu2\n",
    "\n",
    "Так как выборка происходила по одним и тем же людям, метод, который будем использовать - **st.ttest_rel()**\n",
    "\n"
   ]
  },
  {
   "cell_type": "markdown",
   "id": "2b9a3406",
   "metadata": {},
   "source": [
    "**ОБЩИЙ ВЫВОД**"
   ]
  },
  {
   "cell_type": "markdown",
   "id": "02156d0d",
   "metadata": {},
   "source": [
    "**Выводы по работе: Исследовательский анализ данных**\n",
    "\n",
    "    - Наиболее часто встречаемый в датасете город это Пятигорск. Наименее встречаемый город - Москва.\n",
    "    - На диаграмме видно, что большая часть людей (54%) не пользуется платной подпиской.\n",
    "    - Как видно, график имеет распределение близкое к нормальному. Среднее и наиболее частое значение, это 25 лет. Старшим можно считать возраст выше 35 лет. Младшим - ниже 15 лет.\n",
    "    - Медианным растоянием за поездку можно считать значение в 3133 метра. Небольшим расстоянием можно считать 2543 метра. Большим можно считать расстояние выше 3776 метров. Максимальное расстояние 7211 метра. При этом довольно много поездок с расстоянием около 0.\n",
    "    - Распределение времени поездок близко к нормальному. Медианным временем поездки можно считать 17 минут. Быстрой поездкой можно считать поездку менее 13 минут. Долгой можно считать поездку более 21 минуты. Максимальное время поездки более 40 минут. Минимальное - 0.5 минуты.\n",
    "    \n",
    "**Выводы по работе: Объединение данных**\n",
    "\n",
    "    - На обоих графиках заметны два пика. Люди без подписки часто проезжают большие расстояния, чем люди с подпиской (есть значения более 7000 метров).\n",
    "    - Графики близки к нормальному распределению. При этом среднее время немного отличается для двух групп людей: для людей без подписки оно равно 17.5 минутам, а для людей с подпиской - 18.5 минутам. Можно сделать вывод, что люди с подпиской совершают более длительные заезды.\n",
    "    \n",
    "**Выводы по гипотезам**\n",
    "\n",
    "    - Время поездки для людей с подпиской больше времени поездки для людей без подписки.\n",
    "    - Нельзя сказать, что среднее расстояние, которое проезжают пользователи с подпиской за одну поездку, превышает 3130 метров.\n",
    "    - Помесячная выручка от пользователей с подпиской по месяцам выше, чем выручка от пользователей без подписки.\n",
    "    - Так как выборка происходила по одним и тем же людям, метод, который будем использовать - st.ttest_rel()\n",
    "    \n",
    "**Рекомендации по развитию аренды самокатов:**\n",
    "\n",
    "    - Продвигать свою подписку т.к. пользователи с подпиской в среднем приносят больше денег.\n",
    "    - Продвигать самокаты среди возрастной группы в 25 лет, т.к. пользователей этой возрастной группы больше всего.\n",
    "    - Делать стоянки для самокатов на расстоянии 3130 метров т.к. это оптимальное расстояние для расхода ресурса самоката. \n"
   ]
  }
 ],
 "metadata": {
  "ExecuteTimeLog": [
   {
    "duration": 48,
    "start_time": "2024-03-23T15:44:43.228Z"
   },
   {
    "duration": 409,
    "start_time": "2024-03-23T15:44:50.304Z"
   },
   {
    "duration": 209,
    "start_time": "2024-03-23T15:44:54.162Z"
   },
   {
    "duration": 26,
    "start_time": "2024-03-23T15:44:57.491Z"
   },
   {
    "duration": 19,
    "start_time": "2024-03-23T15:46:42.132Z"
   },
   {
    "duration": 15,
    "start_time": "2024-03-23T15:47:30.583Z"
   },
   {
    "duration": 34,
    "start_time": "2024-03-23T16:17:54.927Z"
   },
   {
    "duration": 7,
    "start_time": "2024-03-23T16:18:15.416Z"
   },
   {
    "duration": 54,
    "start_time": "2024-03-23T16:18:48.176Z"
   },
   {
    "duration": 5,
    "start_time": "2024-03-23T16:21:15.227Z"
   },
   {
    "duration": 11,
    "start_time": "2024-03-23T16:21:28.369Z"
   },
   {
    "duration": 12,
    "start_time": "2024-03-23T16:21:46.267Z"
   },
   {
    "duration": 5,
    "start_time": "2024-03-23T16:28:18.920Z"
   },
   {
    "duration": 8,
    "start_time": "2024-03-23T16:29:17.630Z"
   },
   {
    "duration": 4,
    "start_time": "2024-03-23T16:29:20.569Z"
   },
   {
    "duration": 6,
    "start_time": "2024-03-23T16:40:32.306Z"
   },
   {
    "duration": 8,
    "start_time": "2024-03-23T16:41:07.390Z"
   },
   {
    "duration": 17,
    "start_time": "2024-03-23T16:44:05.607Z"
   },
   {
    "duration": 9,
    "start_time": "2024-03-23T16:45:50.920Z"
   },
   {
    "duration": 8,
    "start_time": "2024-03-23T16:56:12.312Z"
   },
   {
    "duration": 6,
    "start_time": "2024-03-23T16:57:50.640Z"
   },
   {
    "duration": 5,
    "start_time": "2024-03-23T17:05:15.059Z"
   },
   {
    "duration": 475,
    "start_time": "2024-03-23T17:06:01.072Z"
   },
   {
    "duration": 120,
    "start_time": "2024-03-23T17:06:39.116Z"
   },
   {
    "duration": 217,
    "start_time": "2024-03-23T17:07:06.363Z"
   },
   {
    "duration": 167,
    "start_time": "2024-03-23T17:07:27.975Z"
   },
   {
    "duration": 13,
    "start_time": "2024-03-23T17:07:34.567Z"
   },
   {
    "duration": 19,
    "start_time": "2024-03-23T17:08:15.543Z"
   },
   {
    "duration": 12,
    "start_time": "2024-03-23T17:08:17.791Z"
   },
   {
    "duration": 7,
    "start_time": "2024-03-23T17:09:48.244Z"
   },
   {
    "duration": 120,
    "start_time": "2024-03-23T17:09:57.590Z"
   },
   {
    "duration": 8,
    "start_time": "2024-03-23T17:10:24.125Z"
   },
   {
    "duration": 113,
    "start_time": "2024-03-23T17:20:50.757Z"
   },
   {
    "duration": 109,
    "start_time": "2024-03-23T17:21:31.176Z"
   },
   {
    "duration": 109,
    "start_time": "2024-03-23T17:21:35.679Z"
   },
   {
    "duration": 118,
    "start_time": "2024-03-23T17:21:43.104Z"
   },
   {
    "duration": 112,
    "start_time": "2024-03-23T17:22:05.507Z"
   },
   {
    "duration": 120,
    "start_time": "2024-03-23T17:22:26.504Z"
   },
   {
    "duration": 128,
    "start_time": "2024-03-23T17:24:56.803Z"
   },
   {
    "duration": 129,
    "start_time": "2024-03-23T17:28:24.172Z"
   },
   {
    "duration": 423,
    "start_time": "2024-03-25T12:23:29.086Z"
   },
   {
    "duration": 305,
    "start_time": "2024-03-25T12:23:29.510Z"
   },
   {
    "duration": 25,
    "start_time": "2024-03-25T12:23:29.817Z"
   },
   {
    "duration": 18,
    "start_time": "2024-03-25T12:23:29.844Z"
   },
   {
    "duration": 15,
    "start_time": "2024-03-25T12:23:29.863Z"
   },
   {
    "duration": 8,
    "start_time": "2024-03-25T12:23:29.880Z"
   },
   {
    "duration": 12,
    "start_time": "2024-03-25T12:23:29.889Z"
   },
   {
    "duration": 11,
    "start_time": "2024-03-25T12:23:29.903Z"
   },
   {
    "duration": 9,
    "start_time": "2024-03-25T12:23:29.915Z"
   },
   {
    "duration": 19,
    "start_time": "2024-03-25T12:23:29.926Z"
   },
   {
    "duration": 9,
    "start_time": "2024-03-25T12:23:29.947Z"
   },
   {
    "duration": 26,
    "start_time": "2024-03-25T12:23:29.957Z"
   },
   {
    "duration": 53,
    "start_time": "2024-03-25T12:23:29.985Z"
   },
   {
    "duration": 30,
    "start_time": "2024-03-25T12:23:30.040Z"
   },
   {
    "duration": 604,
    "start_time": "2024-03-25T12:23:30.071Z"
   },
   {
    "duration": 4,
    "start_time": "2024-03-25T12:40:12.531Z"
   },
   {
    "duration": 6,
    "start_time": "2024-03-25T12:40:17.818Z"
   },
   {
    "duration": 407,
    "start_time": "2024-03-25T12:47:14.495Z"
   },
   {
    "duration": 66,
    "start_time": "2024-03-25T12:47:14.904Z"
   },
   {
    "duration": 72,
    "start_time": "2024-03-25T12:47:14.971Z"
   },
   {
    "duration": 0,
    "start_time": "2024-03-25T12:47:15.045Z"
   },
   {
    "duration": 0,
    "start_time": "2024-03-25T12:47:15.046Z"
   },
   {
    "duration": 0,
    "start_time": "2024-03-25T12:47:15.047Z"
   },
   {
    "duration": 0,
    "start_time": "2024-03-25T12:47:15.048Z"
   },
   {
    "duration": 0,
    "start_time": "2024-03-25T12:47:15.049Z"
   },
   {
    "duration": 0,
    "start_time": "2024-03-25T12:47:15.050Z"
   },
   {
    "duration": 0,
    "start_time": "2024-03-25T12:47:15.051Z"
   },
   {
    "duration": 0,
    "start_time": "2024-03-25T12:47:15.053Z"
   },
   {
    "duration": 0,
    "start_time": "2024-03-25T12:47:15.054Z"
   },
   {
    "duration": 0,
    "start_time": "2024-03-25T12:47:15.055Z"
   },
   {
    "duration": 0,
    "start_time": "2024-03-25T12:47:15.056Z"
   },
   {
    "duration": 0,
    "start_time": "2024-03-25T12:47:15.081Z"
   },
   {
    "duration": 0,
    "start_time": "2024-03-25T12:47:15.082Z"
   },
   {
    "duration": 3,
    "start_time": "2024-03-25T12:47:59.744Z"
   },
   {
    "duration": 95,
    "start_time": "2024-03-25T12:47:59.749Z"
   },
   {
    "duration": 28,
    "start_time": "2024-03-25T12:47:59.845Z"
   },
   {
    "duration": 40,
    "start_time": "2024-03-25T12:47:59.875Z"
   },
   {
    "duration": 15,
    "start_time": "2024-03-25T12:47:59.917Z"
   },
   {
    "duration": 9,
    "start_time": "2024-03-25T12:47:59.933Z"
   },
   {
    "duration": 26,
    "start_time": "2024-03-25T12:47:59.944Z"
   },
   {
    "duration": 26,
    "start_time": "2024-03-25T12:47:59.972Z"
   },
   {
    "duration": 102,
    "start_time": "2024-03-25T12:48:00.001Z"
   },
   {
    "duration": 64,
    "start_time": "2024-03-25T12:48:00.105Z"
   },
   {
    "duration": 43,
    "start_time": "2024-03-25T12:48:00.170Z"
   },
   {
    "duration": 156,
    "start_time": "2024-03-25T12:48:00.214Z"
   },
   {
    "duration": 140,
    "start_time": "2024-03-25T12:48:00.372Z"
   },
   {
    "duration": 58,
    "start_time": "2024-03-25T12:48:00.513Z"
   },
   {
    "duration": 457,
    "start_time": "2024-03-25T12:48:00.573Z"
   },
   {
    "duration": 6,
    "start_time": "2024-03-25T12:48:01.032Z"
   },
   {
    "duration": 81,
    "start_time": "2024-03-25T12:50:27.670Z"
   },
   {
    "duration": 86,
    "start_time": "2024-03-25T12:51:52.511Z"
   },
   {
    "duration": 88,
    "start_time": "2024-03-25T12:53:35.343Z"
   },
   {
    "duration": 103,
    "start_time": "2024-03-25T12:59:26.961Z"
   },
   {
    "duration": 172,
    "start_time": "2024-03-25T12:59:52.959Z"
   },
   {
    "duration": 5,
    "start_time": "2024-03-25T13:11:54.351Z"
   },
   {
    "duration": 5,
    "start_time": "2024-03-25T13:12:06.094Z"
   },
   {
    "duration": 16,
    "start_time": "2024-03-25T13:12:26.031Z"
   },
   {
    "duration": 6,
    "start_time": "2024-03-25T13:12:31.128Z"
   },
   {
    "duration": 152,
    "start_time": "2024-03-25T13:16:28.450Z"
   },
   {
    "duration": 169,
    "start_time": "2024-03-25T13:16:42.362Z"
   },
   {
    "duration": 157,
    "start_time": "2024-03-25T13:22:03.728Z"
   },
   {
    "duration": 168,
    "start_time": "2024-03-25T13:23:34.561Z"
   },
   {
    "duration": 156,
    "start_time": "2024-03-25T13:31:46.175Z"
   },
   {
    "duration": 166,
    "start_time": "2024-03-25T13:33:23.127Z"
   },
   {
    "duration": 9,
    "start_time": "2024-03-25T13:39:23.140Z"
   },
   {
    "duration": 8,
    "start_time": "2024-03-25T14:01:38.456Z"
   },
   {
    "duration": 141,
    "start_time": "2024-03-25T14:01:58.758Z"
   },
   {
    "duration": 9,
    "start_time": "2024-03-25T14:05:34.006Z"
   },
   {
    "duration": 32,
    "start_time": "2024-03-25T14:25:27.361Z"
   },
   {
    "duration": 10,
    "start_time": "2024-03-25T14:43:42.119Z"
   },
   {
    "duration": 20,
    "start_time": "2024-03-25T14:43:47.998Z"
   },
   {
    "duration": 136,
    "start_time": "2024-03-25T15:04:23.465Z"
   },
   {
    "duration": 163,
    "start_time": "2024-03-25T15:04:52.373Z"
   },
   {
    "duration": 178,
    "start_time": "2024-03-25T15:06:53.857Z"
   },
   {
    "duration": 21,
    "start_time": "2024-03-25T15:10:46.552Z"
   },
   {
    "duration": 273,
    "start_time": "2024-03-25T15:11:28.312Z"
   },
   {
    "duration": 200,
    "start_time": "2024-03-25T15:23:16.445Z"
   },
   {
    "duration": 215,
    "start_time": "2024-03-25T15:23:44.889Z"
   },
   {
    "duration": 212,
    "start_time": "2024-03-25T15:25:04.442Z"
   },
   {
    "duration": 205,
    "start_time": "2024-03-25T15:26:57.518Z"
   },
   {
    "duration": 172,
    "start_time": "2024-03-25T15:28:25.094Z"
   },
   {
    "duration": 97,
    "start_time": "2024-03-25T16:20:20.594Z"
   },
   {
    "duration": 95,
    "start_time": "2024-03-25T16:22:04.457Z"
   },
   {
    "duration": 90,
    "start_time": "2024-03-25T16:24:37.120Z"
   },
   {
    "duration": 90,
    "start_time": "2024-03-25T16:24:47.874Z"
   },
   {
    "duration": 96,
    "start_time": "2024-03-25T16:29:46.817Z"
   },
   {
    "duration": 90,
    "start_time": "2024-03-25T16:32:51.137Z"
   },
   {
    "duration": 409,
    "start_time": "2024-03-25T16:33:09.593Z"
   },
   {
    "duration": 95,
    "start_time": "2024-03-25T16:33:32.030Z"
   },
   {
    "duration": 849,
    "start_time": "2024-03-25T16:34:22.268Z"
   },
   {
    "duration": 866,
    "start_time": "2024-03-25T16:34:39.438Z"
   },
   {
    "duration": 876,
    "start_time": "2024-03-25T16:35:00.101Z"
   },
   {
    "duration": 9,
    "start_time": "2024-03-25T16:41:20.285Z"
   },
   {
    "duration": 991,
    "start_time": "2024-03-25T16:41:41.070Z"
   },
   {
    "duration": 837,
    "start_time": "2024-03-25T16:41:53.787Z"
   },
   {
    "duration": 9,
    "start_time": "2024-03-25T16:54:56.539Z"
   },
   {
    "duration": 142,
    "start_time": "2024-03-25T16:55:14.599Z"
   },
   {
    "duration": 470,
    "start_time": "2024-03-26T13:22:56.459Z"
   },
   {
    "duration": 303,
    "start_time": "2024-03-26T13:22:56.932Z"
   },
   {
    "duration": 26,
    "start_time": "2024-03-26T13:22:57.237Z"
   },
   {
    "duration": 38,
    "start_time": "2024-03-26T13:22:57.265Z"
   },
   {
    "duration": 19,
    "start_time": "2024-03-26T13:22:57.305Z"
   },
   {
    "duration": 29,
    "start_time": "2024-03-26T13:22:57.325Z"
   },
   {
    "duration": 44,
    "start_time": "2024-03-26T13:22:57.356Z"
   },
   {
    "duration": 29,
    "start_time": "2024-03-26T13:22:57.402Z"
   },
   {
    "duration": 29,
    "start_time": "2024-03-26T13:22:57.433Z"
   },
   {
    "duration": 30,
    "start_time": "2024-03-26T13:22:57.466Z"
   },
   {
    "duration": 19,
    "start_time": "2024-03-26T13:22:57.498Z"
   },
   {
    "duration": 22,
    "start_time": "2024-03-26T13:22:57.519Z"
   },
   {
    "duration": 28,
    "start_time": "2024-03-26T13:22:57.543Z"
   },
   {
    "duration": 37,
    "start_time": "2024-03-26T13:22:57.573Z"
   },
   {
    "duration": 649,
    "start_time": "2024-03-26T13:22:57.612Z"
   },
   {
    "duration": 6,
    "start_time": "2024-03-26T13:22:58.263Z"
   },
   {
    "duration": 156,
    "start_time": "2024-03-26T13:22:58.271Z"
   },
   {
    "duration": 5,
    "start_time": "2024-03-26T13:22:58.429Z"
   },
   {
    "duration": 206,
    "start_time": "2024-03-26T13:22:58.436Z"
   },
   {
    "duration": 178,
    "start_time": "2024-03-26T13:22:58.643Z"
   },
   {
    "duration": 10,
    "start_time": "2024-03-26T13:22:58.823Z"
   },
   {
    "duration": 251,
    "start_time": "2024-03-26T13:22:58.835Z"
   },
   {
    "duration": 11,
    "start_time": "2024-03-26T13:22:59.087Z"
   },
   {
    "duration": 72,
    "start_time": "2024-03-26T13:22:59.100Z"
   },
   {
    "duration": 34,
    "start_time": "2024-03-26T13:22:59.174Z"
   },
   {
    "duration": 40,
    "start_time": "2024-03-26T13:22:59.210Z"
   },
   {
    "duration": 221,
    "start_time": "2024-03-26T13:22:59.252Z"
   },
   {
    "duration": 179,
    "start_time": "2024-03-26T13:22:59.476Z"
   },
   {
    "duration": 235,
    "start_time": "2024-03-26T13:22:59.657Z"
   },
   {
    "duration": 244,
    "start_time": "2024-03-26T13:22:59.894Z"
   },
   {
    "duration": 1033,
    "start_time": "2024-03-26T13:23:00.140Z"
   },
   {
    "duration": 181,
    "start_time": "2024-03-26T13:23:01.176Z"
   },
   {
    "duration": 80,
    "start_time": "2024-03-26T13:46:09.082Z"
   },
   {
    "duration": 496,
    "start_time": "2024-03-26T13:47:03.421Z"
   },
   {
    "duration": 7,
    "start_time": "2024-03-26T14:04:22.556Z"
   },
   {
    "duration": 978,
    "start_time": "2024-03-26T14:14:34.247Z"
   },
   {
    "duration": 5,
    "start_time": "2024-03-26T14:14:52.805Z"
   },
   {
    "duration": 12,
    "start_time": "2024-03-26T14:22:33.066Z"
   },
   {
    "duration": 11,
    "start_time": "2024-03-26T14:24:52.621Z"
   },
   {
    "duration": 115,
    "start_time": "2024-03-26T14:25:03.099Z"
   },
   {
    "duration": 91,
    "start_time": "2024-03-26T14:25:11.562Z"
   },
   {
    "duration": 1017,
    "start_time": "2024-03-26T14:25:29.197Z"
   },
   {
    "duration": 1143,
    "start_time": "2024-03-26T14:43:55.897Z"
   },
   {
    "duration": 592,
    "start_time": "2024-03-26T14:44:20.426Z"
   },
   {
    "duration": 1052,
    "start_time": "2024-03-26T14:45:24.277Z"
   },
   {
    "duration": 158,
    "start_time": "2024-03-26T14:45:33.963Z"
   },
   {
    "duration": 637,
    "start_time": "2024-03-26T14:45:45.523Z"
   },
   {
    "duration": 594,
    "start_time": "2024-03-26T14:46:05.844Z"
   },
   {
    "duration": 10,
    "start_time": "2024-03-26T14:46:15.891Z"
   },
   {
    "duration": 1024,
    "start_time": "2024-03-26T14:46:47.483Z"
   },
   {
    "duration": 162,
    "start_time": "2024-03-26T14:46:53.660Z"
   },
   {
    "duration": 13,
    "start_time": "2024-03-26T14:46:57.636Z"
   },
   {
    "duration": 97,
    "start_time": "2024-03-26T15:08:38.369Z"
   },
   {
    "duration": 334,
    "start_time": "2024-03-26T16:13:59.401Z"
   },
   {
    "duration": 65,
    "start_time": "2024-03-26T16:13:59.736Z"
   },
   {
    "duration": 22,
    "start_time": "2024-03-26T16:13:59.802Z"
   },
   {
    "duration": 16,
    "start_time": "2024-03-26T16:13:59.826Z"
   },
   {
    "duration": 13,
    "start_time": "2024-03-26T16:13:59.843Z"
   },
   {
    "duration": 6,
    "start_time": "2024-03-26T16:13:59.857Z"
   },
   {
    "duration": 10,
    "start_time": "2024-03-26T16:13:59.864Z"
   },
   {
    "duration": 5,
    "start_time": "2024-03-26T16:13:59.875Z"
   },
   {
    "duration": 9,
    "start_time": "2024-03-26T16:13:59.881Z"
   },
   {
    "duration": 4,
    "start_time": "2024-03-26T16:13:59.892Z"
   },
   {
    "duration": 9,
    "start_time": "2024-03-26T16:13:59.897Z"
   },
   {
    "duration": 6,
    "start_time": "2024-03-26T16:13:59.907Z"
   },
   {
    "duration": 37,
    "start_time": "2024-03-26T16:13:59.915Z"
   },
   {
    "duration": 4,
    "start_time": "2024-03-26T16:13:59.953Z"
   },
   {
    "duration": 362,
    "start_time": "2024-03-26T16:13:59.958Z"
   },
   {
    "duration": 5,
    "start_time": "2024-03-26T16:14:00.321Z"
   },
   {
    "duration": 195,
    "start_time": "2024-03-26T16:14:00.327Z"
   },
   {
    "duration": 24,
    "start_time": "2024-03-26T16:14:00.523Z"
   },
   {
    "duration": 188,
    "start_time": "2024-03-26T16:14:00.549Z"
   },
   {
    "duration": 148,
    "start_time": "2024-03-26T16:14:00.738Z"
   },
   {
    "duration": 8,
    "start_time": "2024-03-26T16:14:00.887Z"
   },
   {
    "duration": 156,
    "start_time": "2024-03-26T16:14:00.896Z"
   },
   {
    "duration": 7,
    "start_time": "2024-03-26T16:14:01.053Z"
   },
   {
    "duration": 55,
    "start_time": "2024-03-26T16:14:01.062Z"
   },
   {
    "duration": 40,
    "start_time": "2024-03-26T16:14:01.119Z"
   },
   {
    "duration": 44,
    "start_time": "2024-03-26T16:14:01.160Z"
   },
   {
    "duration": 276,
    "start_time": "2024-03-26T16:14:01.205Z"
   },
   {
    "duration": 149,
    "start_time": "2024-03-26T16:14:01.484Z"
   },
   {
    "duration": 178,
    "start_time": "2024-03-26T16:14:01.635Z"
   },
   {
    "duration": 175,
    "start_time": "2024-03-26T16:14:01.814Z"
   },
   {
    "duration": 877,
    "start_time": "2024-03-26T16:14:01.991Z"
   },
   {
    "duration": 146,
    "start_time": "2024-03-26T16:14:02.870Z"
   },
   {
    "duration": 474,
    "start_time": "2024-03-26T16:14:03.018Z"
   },
   {
    "duration": 5,
    "start_time": "2024-03-26T16:14:03.494Z"
   },
   {
    "duration": 17,
    "start_time": "2024-03-26T16:14:03.500Z"
   },
   {
    "duration": 62,
    "start_time": "2024-03-26T17:59:54.893Z"
   },
   {
    "duration": 1307,
    "start_time": "2024-03-26T18:00:16.376Z"
   },
   {
    "duration": 210,
    "start_time": "2024-03-26T18:00:17.685Z"
   },
   {
    "duration": 24,
    "start_time": "2024-03-26T18:00:17.897Z"
   },
   {
    "duration": 19,
    "start_time": "2024-03-26T18:00:17.923Z"
   },
   {
    "duration": 14,
    "start_time": "2024-03-26T18:00:17.944Z"
   },
   {
    "duration": 15,
    "start_time": "2024-03-26T18:00:17.959Z"
   },
   {
    "duration": 9,
    "start_time": "2024-03-26T18:00:17.976Z"
   },
   {
    "duration": 28,
    "start_time": "2024-03-26T18:00:17.986Z"
   },
   {
    "duration": 8,
    "start_time": "2024-03-26T18:00:18.016Z"
   },
   {
    "duration": 13,
    "start_time": "2024-03-26T18:00:18.026Z"
   },
   {
    "duration": 16,
    "start_time": "2024-03-26T18:00:18.040Z"
   },
   {
    "duration": 14,
    "start_time": "2024-03-26T18:00:18.057Z"
   },
   {
    "duration": 22,
    "start_time": "2024-03-26T18:00:18.073Z"
   },
   {
    "duration": 5,
    "start_time": "2024-03-26T18:00:18.096Z"
   },
   {
    "duration": 164,
    "start_time": "2024-03-26T18:00:18.103Z"
   },
   {
    "duration": 5,
    "start_time": "2024-03-26T18:00:18.268Z"
   },
   {
    "duration": 118,
    "start_time": "2024-03-26T18:00:18.275Z"
   },
   {
    "duration": 5,
    "start_time": "2024-03-26T18:00:18.395Z"
   },
   {
    "duration": 175,
    "start_time": "2024-03-26T18:00:18.401Z"
   },
   {
    "duration": 172,
    "start_time": "2024-03-26T18:00:18.578Z"
   },
   {
    "duration": 9,
    "start_time": "2024-03-26T18:00:18.751Z"
   },
   {
    "duration": 175,
    "start_time": "2024-03-26T18:00:18.761Z"
   },
   {
    "duration": 9,
    "start_time": "2024-03-26T18:00:18.938Z"
   },
   {
    "duration": 34,
    "start_time": "2024-03-26T18:00:18.948Z"
   },
   {
    "duration": 42,
    "start_time": "2024-03-26T18:00:18.984Z"
   },
   {
    "duration": 19,
    "start_time": "2024-03-26T18:00:19.027Z"
   },
   {
    "duration": 190,
    "start_time": "2024-03-26T18:00:19.047Z"
   },
   {
    "duration": 167,
    "start_time": "2024-03-26T18:00:19.240Z"
   },
   {
    "duration": 202,
    "start_time": "2024-03-26T18:00:19.408Z"
   },
   {
    "duration": 183,
    "start_time": "2024-03-26T18:00:19.611Z"
   },
   {
    "duration": 1012,
    "start_time": "2024-03-26T18:00:19.795Z"
   },
   {
    "duration": 167,
    "start_time": "2024-03-26T18:00:20.809Z"
   },
   {
    "duration": 5,
    "start_time": "2024-03-26T18:00:20.978Z"
   },
   {
    "duration": 6,
    "start_time": "2024-03-26T18:00:20.984Z"
   },
   {
    "duration": 28,
    "start_time": "2024-03-26T18:00:20.991Z"
   },
   {
    "duration": 15,
    "start_time": "2024-03-26T18:01:40.153Z"
   },
   {
    "duration": 148,
    "start_time": "2024-03-26T18:03:43.688Z"
   },
   {
    "duration": 167,
    "start_time": "2024-03-26T18:04:04.836Z"
   },
   {
    "duration": 109,
    "start_time": "2024-03-26T18:04:09.968Z"
   },
   {
    "duration": 143,
    "start_time": "2024-03-26T18:04:19.257Z"
   },
   {
    "duration": 158,
    "start_time": "2024-03-26T18:04:24.776Z"
   },
   {
    "duration": 185,
    "start_time": "2024-03-26T18:05:08.824Z"
   },
   {
    "duration": 153,
    "start_time": "2024-03-26T18:05:12.306Z"
   },
   {
    "duration": 946,
    "start_time": "2024-03-26T18:09:53.500Z"
   },
   {
    "duration": 908,
    "start_time": "2024-03-26T18:10:02.029Z"
   },
   {
    "duration": 4,
    "start_time": "2024-03-26T18:10:08.074Z"
   },
   {
    "duration": 902,
    "start_time": "2024-03-26T18:10:10.906Z"
   },
   {
    "duration": 1002,
    "start_time": "2024-03-26T18:11:01.802Z"
   },
   {
    "duration": 5,
    "start_time": "2024-03-26T18:13:17.171Z"
   },
   {
    "duration": 182,
    "start_time": "2024-03-26T18:20:21.314Z"
   },
   {
    "duration": 203,
    "start_time": "2024-03-26T18:20:54.731Z"
   },
   {
    "duration": 192,
    "start_time": "2024-03-26T18:21:12.369Z"
   },
   {
    "duration": 4,
    "start_time": "2024-03-26T18:24:56.685Z"
   },
   {
    "duration": 4,
    "start_time": "2024-03-26T18:25:24.766Z"
   },
   {
    "duration": 6,
    "start_time": "2024-03-26T18:25:50.200Z"
   },
   {
    "duration": 61,
    "start_time": "2024-03-26T18:26:37.678Z"
   },
   {
    "duration": 6,
    "start_time": "2024-03-26T18:26:48.266Z"
   },
   {
    "duration": 4,
    "start_time": "2024-03-26T18:27:17.296Z"
   },
   {
    "duration": 34,
    "start_time": "2024-03-26T18:28:58.698Z"
   },
   {
    "duration": 16,
    "start_time": "2024-03-26T18:32:42.455Z"
   },
   {
    "duration": 35,
    "start_time": "2024-03-26T18:37:22.426Z"
   },
   {
    "duration": 1051,
    "start_time": "2024-03-26T20:23:47.455Z"
   },
   {
    "duration": 198,
    "start_time": "2024-03-26T20:23:48.508Z"
   },
   {
    "duration": 22,
    "start_time": "2024-03-26T20:23:48.708Z"
   },
   {
    "duration": 18,
    "start_time": "2024-03-26T20:23:48.732Z"
   },
   {
    "duration": 13,
    "start_time": "2024-03-26T20:23:48.752Z"
   },
   {
    "duration": 15,
    "start_time": "2024-03-26T20:23:48.767Z"
   },
   {
    "duration": 18,
    "start_time": "2024-03-26T20:23:48.784Z"
   },
   {
    "duration": 5,
    "start_time": "2024-03-26T20:23:48.803Z"
   },
   {
    "duration": 9,
    "start_time": "2024-03-26T20:23:48.810Z"
   },
   {
    "duration": 4,
    "start_time": "2024-03-26T20:23:48.822Z"
   },
   {
    "duration": 8,
    "start_time": "2024-03-26T20:23:48.828Z"
   },
   {
    "duration": 34,
    "start_time": "2024-03-26T20:23:48.838Z"
   },
   {
    "duration": 9,
    "start_time": "2024-03-26T20:23:48.874Z"
   },
   {
    "duration": 5,
    "start_time": "2024-03-26T20:23:48.885Z"
   },
   {
    "duration": 187,
    "start_time": "2024-03-26T20:23:48.891Z"
   },
   {
    "duration": 6,
    "start_time": "2024-03-26T20:23:49.079Z"
   },
   {
    "duration": 116,
    "start_time": "2024-03-26T20:23:49.086Z"
   },
   {
    "duration": 5,
    "start_time": "2024-03-26T20:23:49.203Z"
   },
   {
    "duration": 172,
    "start_time": "2024-03-26T20:23:49.210Z"
   },
   {
    "duration": 174,
    "start_time": "2024-03-26T20:23:49.383Z"
   },
   {
    "duration": 12,
    "start_time": "2024-03-26T20:23:49.558Z"
   },
   {
    "duration": 197,
    "start_time": "2024-03-26T20:23:49.572Z"
   },
   {
    "duration": 8,
    "start_time": "2024-03-26T20:23:49.770Z"
   },
   {
    "duration": 4,
    "start_time": "2024-03-26T20:23:49.780Z"
   },
   {
    "duration": 34,
    "start_time": "2024-03-26T20:23:49.785Z"
   },
   {
    "duration": 54,
    "start_time": "2024-03-26T20:23:49.821Z"
   },
   {
    "duration": 18,
    "start_time": "2024-03-26T20:23:49.876Z"
   },
   {
    "duration": 171,
    "start_time": "2024-03-26T20:23:49.897Z"
   },
   {
    "duration": 152,
    "start_time": "2024-03-26T20:23:50.070Z"
   },
   {
    "duration": 191,
    "start_time": "2024-03-26T20:23:50.223Z"
   },
   {
    "duration": 200,
    "start_time": "2024-03-26T20:23:50.416Z"
   },
   {
    "duration": 10,
    "start_time": "2024-03-26T20:23:50.618Z"
   },
   {
    "duration": 4,
    "start_time": "2024-03-26T20:23:50.629Z"
   },
   {
    "duration": 909,
    "start_time": "2024-03-26T20:23:50.634Z"
   },
   {
    "duration": 143,
    "start_time": "2024-03-26T20:23:51.545Z"
   },
   {
    "duration": 6,
    "start_time": "2024-03-26T20:23:51.689Z"
   },
   {
    "duration": 16,
    "start_time": "2024-03-26T20:23:51.697Z"
   },
   {
    "duration": 14,
    "start_time": "2024-03-26T20:23:51.715Z"
   }
  ],
  "kernelspec": {
   "display_name": "Python 3 (ipykernel)",
   "language": "python",
   "name": "python3"
  },
  "language_info": {
   "codemirror_mode": {
    "name": "ipython",
    "version": 3
   },
   "file_extension": ".py",
   "mimetype": "text/x-python",
   "name": "python",
   "nbconvert_exporter": "python",
   "pygments_lexer": "ipython3",
   "version": "3.9.21"
  },
  "toc": {
   "base_numbering": 1,
   "nav_menu": {},
   "number_sections": true,
   "sideBar": true,
   "skip_h1_title": true,
   "title_cell": "Table of Contents",
   "title_sidebar": "Contents",
   "toc_cell": false,
   "toc_position": {},
   "toc_section_display": true,
   "toc_window_display": true
  }
 },
 "nbformat": 4,
 "nbformat_minor": 5
}
