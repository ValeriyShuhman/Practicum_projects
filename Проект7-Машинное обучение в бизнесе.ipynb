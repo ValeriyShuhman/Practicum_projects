{
 "cells": [
  {
   "cell_type": "markdown",
   "metadata": {},
   "source": [
    "# Проект: Машинное обучение в бизнесе."
   ]
  },
  {
   "cell_type": "markdown",
   "metadata": {},
   "source": [
    "# Описание проекта"
   ]
  },
  {
   "cell_type": "markdown",
   "metadata": {},
   "source": [
    "# Выбор локации для скважины"
   ]
  },
  {
   "cell_type": "markdown",
   "metadata": {},
   "source": [
    "Допустим, вы работаете в добывающей компании «ГлавРосГосНефть». Нужно решить, где бурить новую скважину.\n",
    "\n",
    "Вам предоставлены пробы нефти в трёх регионах: в каждом 10 000 месторождений, где измерили качество нефти и объём её запасов. Постройте модель машинного обучения, которая поможет определить регион, где добыча принесёт наибольшую прибыль. Проанализируйте возможную прибыль и риски техникой *Bootstrap.*\n",
    "\n",
    "Шаги для выбора локации:\n",
    "\n",
    "- В избранном регионе ищут месторождения, для каждого определяют значения признаков;\n",
    "- Строят модель и оценивают объём запасов;\n",
    "- Выбирают месторождения с самым высокими оценками значений. Количество месторождений зависит от бюджета компании и стоимости разработки одной скважины;\n",
    "- Прибыль равна суммарной прибыли отобранных месторождений."
   ]
  },
  {
   "cell_type": "markdown",
   "metadata": {},
   "source": [
    "**Описание Данных.**"
   ]
  },
  {
   "cell_type": "markdown",
   "metadata": {},
   "source": [
    "Данные геологоразведки трёх регионов находятся в файлах:\n",
    "\n",
    " - /datasets/geo_data_0.csv.\n",
    " - /datasets/geo_data_1.csv.\n",
    " - /datasets/geo_data_2.csv.\n",
    "\n",
    "- **id** — уникальный идентификатор скважины;\n",
    "\n",
    "- **f0, f1, f2** — три признака точек (неважно, что они означают, но сами признаки значимы);\n",
    "\n",
    "- **product** — объём запасов в скважине (тыс. баррелей)"
   ]
  },
  {
   "cell_type": "markdown",
   "metadata": {},
   "source": [
    "**Условия задачи:**"
   ]
  },
  {
   "cell_type": "markdown",
   "metadata": {},
   "source": [
    " - Для обучения модели подходит только линейная регрессия (остальные — недостаточно предсказуемые).\n",
    " \n",
    " - При разведке региона исследуют 500 точек, из которых с помощью машинного обучения выбирают 200 лучших для разработки.\n",
    "\n",
    " - Бюджет на разработку скважин в регионе — 10 млрд рублей.\n",
    "\n",
    " - При нынешних ценах один баррель сырья приносит 450 рублей дохода. Доход с каждой единицы продукта составляет 450 тыс. рублей, поскольку объём указан в тысячах баррелей.\n",
    "\n",
    " - После оценки рисков нужно оставить лишь те регионы, в которых вероятность убытков меньше 2.5%. Среди них выбирают регион с наибольшей средней прибылью."
   ]
  },
  {
   "cell_type": "markdown",
   "metadata": {},
   "source": [
    "**План работы.**"
   ]
  },
  {
   "cell_type": "markdown",
   "metadata": {},
   "source": [
    "Загрузите и подготовьте данные. Поясните порядок действий.\n",
    "\n",
    "Обучите и проверьте модель для каждого региона:\n",
    "\n",
    " - 2.1. Разбейте данные на обучающую и валидационную выборки в соотношении 75:25.\n",
    " - 2.2. Обучите модель и сделайте предсказания на валидационной выборке.\n",
    " - 2.3. Сохраните предсказания и правильные ответы на валидационной выборке.\n",
    " - 2.4. Напечатайте на экране средний запас предсказанного сырья и RMSE модели.\n",
    " - 2.5. Проанализируйте результаты.\n",
    " \n",
    "Подготовьтесь к расчёту прибыли:\n",
    "\n",
    " - 3.1. Все ключевые значения для расчётов сохраните в отдельных переменных.\n",
    " - 3.2. Рассчитайте достаточный объём сырья для безубыточной разработки новой скважины. Сравните полученный объём сырья со средним запасом в каждом регионе. \n",
    " - 3.3. Напишите выводы по этапу подготовки расчёта прибыли.\n",
    " \n",
    "Напишите функцию для расчёта прибыли по выбранным скважинам и предсказаниям модели:\n",
    "\n",
    "\n",
    " - 4.1. Выберите скважины с максимальными значениями предсказаний. \n",
    " - 4.2. Просуммируйте целевое значение объёма сырья, соответствующее этим предсказаниям.\n",
    " - 4.3. Рассчитайте прибыль для полученного объёма сырья.\n",
    " \n",
    "Посчитайте риски и прибыль для каждого региона:\n",
    "\n",
    " - 5.1. Примените технику Bootstrap с 1000 выборок, чтобы найти распределение прибыли.\n",
    " - 5.2. Найдите среднюю прибыль, 95%-й доверительный интервал и риск убытков. Убыток — это отрицательная прибыль.\n",
    " - 5.3. Напишите выводы: предложите регион для разработки скважин и обоснуйте выбор."
   ]
  },
  {
   "cell_type": "markdown",
   "metadata": {},
   "source": [
    "## Загрузка и подготовка данных"
   ]
  },
  {
   "cell_type": "markdown",
   "metadata": {},
   "source": [
    "### Загрузим и изучим данные."
   ]
  },
  {
   "cell_type": "markdown",
   "metadata": {},
   "source": [
    "**Импортируем нужные библиотеки.**"
   ]
  },
  {
   "cell_type": "code",
   "execution_count": 1,
   "metadata": {},
   "outputs": [],
   "source": [
    "#Импортируем библиотеку pandas\n",
    "import pandas as pd\n",
    "#Импортируем библиотеку matplotlib\n",
    "import matplotlib.pyplot as plt\n",
    "#Импортируем библиотеку seaborn\n",
    "import seaborn as sns\n",
    "#Импортируем библиотеку numpy\n",
    "import numpy as np\n",
    "#Импортируем библиотеку sklearn\n",
    "!pip install scikit-learn==1.5.1 -q\n",
    "import sklearn\n",
    "#Импортируем классы для подготовки данных\n",
    "from sklearn.preprocessing import StandardScaler\n",
    "\n",
    "from sklearn.metrics import mean_squared_error\n",
    "from sklearn.linear_model import LinearRegression\n",
    "from sklearn.model_selection import train_test_split\n",
    "\n",
    "import warnings\n",
    "warnings.filterwarnings('ignore')"
   ]
  },
  {
   "cell_type": "markdown",
   "metadata": {},
   "source": [
    "**Считаем данные из csv-файлов в датафреймы и сохраним в переменные.**"
   ]
  },
  {
   "cell_type": "code",
   "execution_count": 2,
   "metadata": {},
   "outputs": [],
   "source": [
    "try:\n",
    "    data_0 = pd.read_csv('/datasets/geo_data_0.csv')\n",
    "except:\n",
    "    data_0 = pd.read_csv('https://code.s3.yandex.net/datasets/geo_data_0.csv')\n",
    "    print('Таблица /datasets/geo_data_0.csv не была загружена')\n",
    "    \n",
    "try:\n",
    "    data_1 = pd.read_csv('/datasets/geo_data_1.csv')\n",
    "except:\n",
    "    data_1 = pd.read_csv('https://code.s3.yandex.net/datasets/geo_data_1.csv')\n",
    "    print('Таблица /datasets/geo_data_1.csv не была загружена')\n",
    "    \n",
    "try:\n",
    "    data_2 = pd.read_csv('/datasets/geo_data_2.csv')\n",
    "except:\n",
    "    data_2 = pd.read_csv('https://code.s3.yandex.net/datasets/geo_data_2.csv')\n",
    "    print('Таблица /datasets/geo_data_2.csv не была загружена')"
   ]
  },
  {
   "cell_type": "markdown",
   "metadata": {},
   "source": [
    "**Выведем первые 5 строк датасетов data_0, data_1, data_2 и информацию о них.**"
   ]
  },
  {
   "cell_type": "code",
   "execution_count": 3,
   "metadata": {},
   "outputs": [
    {
     "data": {
      "text/plain": [
       "(100000, 5)"
      ]
     },
     "metadata": {},
     "output_type": "display_data"
    },
    {
     "name": "stdout",
     "output_type": "stream",
     "text": [
      "<class 'pandas.core.frame.DataFrame'>\n",
      "RangeIndex: 100000 entries, 0 to 99999\n",
      "Data columns (total 5 columns):\n",
      " #   Column   Non-Null Count   Dtype  \n",
      "---  ------   --------------   -----  \n",
      " 0   id       100000 non-null  object \n",
      " 1   f0       100000 non-null  float64\n",
      " 2   f1       100000 non-null  float64\n",
      " 3   f2       100000 non-null  float64\n",
      " 4   product  100000 non-null  float64\n",
      "dtypes: float64(4), object(1)\n",
      "memory usage: 3.8+ MB\n"
     ]
    },
    {
     "data": {
      "text/plain": [
       "None"
      ]
     },
     "metadata": {},
     "output_type": "display_data"
    },
    {
     "data": {
      "text/html": [
       "<div>\n",
       "<style scoped>\n",
       "    .dataframe tbody tr th:only-of-type {\n",
       "        vertical-align: middle;\n",
       "    }\n",
       "\n",
       "    .dataframe tbody tr th {\n",
       "        vertical-align: top;\n",
       "    }\n",
       "\n",
       "    .dataframe thead th {\n",
       "        text-align: right;\n",
       "    }\n",
       "</style>\n",
       "<table border=\"1\" class=\"dataframe\">\n",
       "  <thead>\n",
       "    <tr style=\"text-align: right;\">\n",
       "      <th></th>\n",
       "      <th>id</th>\n",
       "      <th>f0</th>\n",
       "      <th>f1</th>\n",
       "      <th>f2</th>\n",
       "      <th>product</th>\n",
       "    </tr>\n",
       "  </thead>\n",
       "  <tbody>\n",
       "    <tr>\n",
       "      <th>0</th>\n",
       "      <td>txEyH</td>\n",
       "      <td>0.705745</td>\n",
       "      <td>-0.497823</td>\n",
       "      <td>1.221170</td>\n",
       "      <td>105.280062</td>\n",
       "    </tr>\n",
       "    <tr>\n",
       "      <th>1</th>\n",
       "      <td>2acmU</td>\n",
       "      <td>1.334711</td>\n",
       "      <td>-0.340164</td>\n",
       "      <td>4.365080</td>\n",
       "      <td>73.037750</td>\n",
       "    </tr>\n",
       "    <tr>\n",
       "      <th>2</th>\n",
       "      <td>409Wp</td>\n",
       "      <td>1.022732</td>\n",
       "      <td>0.151990</td>\n",
       "      <td>1.419926</td>\n",
       "      <td>85.265647</td>\n",
       "    </tr>\n",
       "    <tr>\n",
       "      <th>3</th>\n",
       "      <td>iJLyR</td>\n",
       "      <td>-0.032172</td>\n",
       "      <td>0.139033</td>\n",
       "      <td>2.978566</td>\n",
       "      <td>168.620776</td>\n",
       "    </tr>\n",
       "    <tr>\n",
       "      <th>4</th>\n",
       "      <td>Xdl7t</td>\n",
       "      <td>1.988431</td>\n",
       "      <td>0.155413</td>\n",
       "      <td>4.751769</td>\n",
       "      <td>154.036647</td>\n",
       "    </tr>\n",
       "  </tbody>\n",
       "</table>\n",
       "</div>"
      ],
      "text/plain": [
       "      id        f0        f1        f2     product\n",
       "0  txEyH  0.705745 -0.497823  1.221170  105.280062\n",
       "1  2acmU  1.334711 -0.340164  4.365080   73.037750\n",
       "2  409Wp  1.022732  0.151990  1.419926   85.265647\n",
       "3  iJLyR -0.032172  0.139033  2.978566  168.620776\n",
       "4  Xdl7t  1.988431  0.155413  4.751769  154.036647"
      ]
     },
     "execution_count": 3,
     "metadata": {},
     "output_type": "execute_result"
    }
   ],
   "source": [
    "#Сделаем обзор датасета data_0\n",
    "display(data_0.shape)\n",
    "display(data_0.info())\n",
    "data_0.head()"
   ]
  },
  {
   "cell_type": "code",
   "execution_count": 4,
   "metadata": {},
   "outputs": [
    {
     "data": {
      "text/plain": [
       "(100000, 5)"
      ]
     },
     "metadata": {},
     "output_type": "display_data"
    },
    {
     "name": "stdout",
     "output_type": "stream",
     "text": [
      "<class 'pandas.core.frame.DataFrame'>\n",
      "RangeIndex: 100000 entries, 0 to 99999\n",
      "Data columns (total 5 columns):\n",
      " #   Column   Non-Null Count   Dtype  \n",
      "---  ------   --------------   -----  \n",
      " 0   id       100000 non-null  object \n",
      " 1   f0       100000 non-null  float64\n",
      " 2   f1       100000 non-null  float64\n",
      " 3   f2       100000 non-null  float64\n",
      " 4   product  100000 non-null  float64\n",
      "dtypes: float64(4), object(1)\n",
      "memory usage: 3.8+ MB\n"
     ]
    },
    {
     "data": {
      "text/plain": [
       "None"
      ]
     },
     "metadata": {},
     "output_type": "display_data"
    },
    {
     "data": {
      "text/html": [
       "<div>\n",
       "<style scoped>\n",
       "    .dataframe tbody tr th:only-of-type {\n",
       "        vertical-align: middle;\n",
       "    }\n",
       "\n",
       "    .dataframe tbody tr th {\n",
       "        vertical-align: top;\n",
       "    }\n",
       "\n",
       "    .dataframe thead th {\n",
       "        text-align: right;\n",
       "    }\n",
       "</style>\n",
       "<table border=\"1\" class=\"dataframe\">\n",
       "  <thead>\n",
       "    <tr style=\"text-align: right;\">\n",
       "      <th></th>\n",
       "      <th>id</th>\n",
       "      <th>f0</th>\n",
       "      <th>f1</th>\n",
       "      <th>f2</th>\n",
       "      <th>product</th>\n",
       "    </tr>\n",
       "  </thead>\n",
       "  <tbody>\n",
       "    <tr>\n",
       "      <th>0</th>\n",
       "      <td>kBEdx</td>\n",
       "      <td>-15.001348</td>\n",
       "      <td>-8.276000</td>\n",
       "      <td>-0.005876</td>\n",
       "      <td>3.179103</td>\n",
       "    </tr>\n",
       "    <tr>\n",
       "      <th>1</th>\n",
       "      <td>62mP7</td>\n",
       "      <td>14.272088</td>\n",
       "      <td>-3.475083</td>\n",
       "      <td>0.999183</td>\n",
       "      <td>26.953261</td>\n",
       "    </tr>\n",
       "    <tr>\n",
       "      <th>2</th>\n",
       "      <td>vyE1P</td>\n",
       "      <td>6.263187</td>\n",
       "      <td>-5.948386</td>\n",
       "      <td>5.001160</td>\n",
       "      <td>134.766305</td>\n",
       "    </tr>\n",
       "    <tr>\n",
       "      <th>3</th>\n",
       "      <td>KcrkZ</td>\n",
       "      <td>-13.081196</td>\n",
       "      <td>-11.506057</td>\n",
       "      <td>4.999415</td>\n",
       "      <td>137.945408</td>\n",
       "    </tr>\n",
       "    <tr>\n",
       "      <th>4</th>\n",
       "      <td>AHL4O</td>\n",
       "      <td>12.702195</td>\n",
       "      <td>-8.147433</td>\n",
       "      <td>5.004363</td>\n",
       "      <td>134.766305</td>\n",
       "    </tr>\n",
       "  </tbody>\n",
       "</table>\n",
       "</div>"
      ],
      "text/plain": [
       "      id         f0         f1        f2     product\n",
       "0  kBEdx -15.001348  -8.276000 -0.005876    3.179103\n",
       "1  62mP7  14.272088  -3.475083  0.999183   26.953261\n",
       "2  vyE1P   6.263187  -5.948386  5.001160  134.766305\n",
       "3  KcrkZ -13.081196 -11.506057  4.999415  137.945408\n",
       "4  AHL4O  12.702195  -8.147433  5.004363  134.766305"
      ]
     },
     "execution_count": 4,
     "metadata": {},
     "output_type": "execute_result"
    }
   ],
   "source": [
    "#Сделаем обзор датасета data_1\n",
    "display(data_1.shape)\n",
    "display(data_1.info())\n",
    "data_1.head()"
   ]
  },
  {
   "cell_type": "code",
   "execution_count": 5,
   "metadata": {},
   "outputs": [
    {
     "data": {
      "text/plain": [
       "(100000, 5)"
      ]
     },
     "metadata": {},
     "output_type": "display_data"
    },
    {
     "name": "stdout",
     "output_type": "stream",
     "text": [
      "<class 'pandas.core.frame.DataFrame'>\n",
      "RangeIndex: 100000 entries, 0 to 99999\n",
      "Data columns (total 5 columns):\n",
      " #   Column   Non-Null Count   Dtype  \n",
      "---  ------   --------------   -----  \n",
      " 0   id       100000 non-null  object \n",
      " 1   f0       100000 non-null  float64\n",
      " 2   f1       100000 non-null  float64\n",
      " 3   f2       100000 non-null  float64\n",
      " 4   product  100000 non-null  float64\n",
      "dtypes: float64(4), object(1)\n",
      "memory usage: 3.8+ MB\n"
     ]
    },
    {
     "data": {
      "text/plain": [
       "None"
      ]
     },
     "metadata": {},
     "output_type": "display_data"
    },
    {
     "data": {
      "text/html": [
       "<div>\n",
       "<style scoped>\n",
       "    .dataframe tbody tr th:only-of-type {\n",
       "        vertical-align: middle;\n",
       "    }\n",
       "\n",
       "    .dataframe tbody tr th {\n",
       "        vertical-align: top;\n",
       "    }\n",
       "\n",
       "    .dataframe thead th {\n",
       "        text-align: right;\n",
       "    }\n",
       "</style>\n",
       "<table border=\"1\" class=\"dataframe\">\n",
       "  <thead>\n",
       "    <tr style=\"text-align: right;\">\n",
       "      <th></th>\n",
       "      <th>id</th>\n",
       "      <th>f0</th>\n",
       "      <th>f1</th>\n",
       "      <th>f2</th>\n",
       "      <th>product</th>\n",
       "    </tr>\n",
       "  </thead>\n",
       "  <tbody>\n",
       "    <tr>\n",
       "      <th>0</th>\n",
       "      <td>fwXo0</td>\n",
       "      <td>-1.146987</td>\n",
       "      <td>0.963328</td>\n",
       "      <td>-0.828965</td>\n",
       "      <td>27.758673</td>\n",
       "    </tr>\n",
       "    <tr>\n",
       "      <th>1</th>\n",
       "      <td>WJtFt</td>\n",
       "      <td>0.262778</td>\n",
       "      <td>0.269839</td>\n",
       "      <td>-2.530187</td>\n",
       "      <td>56.069697</td>\n",
       "    </tr>\n",
       "    <tr>\n",
       "      <th>2</th>\n",
       "      <td>ovLUW</td>\n",
       "      <td>0.194587</td>\n",
       "      <td>0.289035</td>\n",
       "      <td>-5.586433</td>\n",
       "      <td>62.871910</td>\n",
       "    </tr>\n",
       "    <tr>\n",
       "      <th>3</th>\n",
       "      <td>q6cA6</td>\n",
       "      <td>2.236060</td>\n",
       "      <td>-0.553760</td>\n",
       "      <td>0.930038</td>\n",
       "      <td>114.572842</td>\n",
       "    </tr>\n",
       "    <tr>\n",
       "      <th>4</th>\n",
       "      <td>WPMUX</td>\n",
       "      <td>-0.515993</td>\n",
       "      <td>1.716266</td>\n",
       "      <td>5.899011</td>\n",
       "      <td>149.600746</td>\n",
       "    </tr>\n",
       "  </tbody>\n",
       "</table>\n",
       "</div>"
      ],
      "text/plain": [
       "      id        f0        f1        f2     product\n",
       "0  fwXo0 -1.146987  0.963328 -0.828965   27.758673\n",
       "1  WJtFt  0.262778  0.269839 -2.530187   56.069697\n",
       "2  ovLUW  0.194587  0.289035 -5.586433   62.871910\n",
       "3  q6cA6  2.236060 -0.553760  0.930038  114.572842\n",
       "4  WPMUX -0.515993  1.716266  5.899011  149.600746"
      ]
     },
     "execution_count": 5,
     "metadata": {},
     "output_type": "execute_result"
    }
   ],
   "source": [
    "#Сделаем обзор датасета data_2\n",
    "display(data_2.shape)\n",
    "display(data_2.info())\n",
    "data_2.head()"
   ]
  },
  {
   "cell_type": "markdown",
   "metadata": {},
   "source": [
    "**Сделаем выводы по обзору данных:**\n",
    "\n",
    " - В исследовани участвует три датасета.\n",
    " - Во всех датасетах одинаковое число строк и столбцов.\n",
    " - В датасетах не обнаружено пропусков.\n",
    " - В датасетах не обнаружено неправильных типов данных.\n",
    " - Данные в таблицах соответствуют описанию\n",
    " - Все названия столбцов приведены к змеиному регистру."
   ]
  },
  {
   "cell_type": "markdown",
   "metadata": {},
   "source": [
    "### Предобработка данных."
   ]
  },
  {
   "cell_type": "markdown",
   "metadata": {},
   "source": [
    "**Обработаем пропуски.**"
   ]
  },
  {
   "cell_type": "markdown",
   "metadata": {},
   "source": [
    "Из предварительного обзора данных мы знаем, что в датасетах нет пропусков. Но значения \"пробел\"(' ') возможны в столбцах типа 'object', которым представлен столбец 'id' во всех датасетах. Проверим, есть ли \"пробел\"(' ') в этих столбцах."
   ]
  },
  {
   "cell_type": "code",
   "execution_count": 6,
   "metadata": {},
   "outputs": [
    {
     "data": {
      "text/html": [
       "<div>\n",
       "<style scoped>\n",
       "    .dataframe tbody tr th:only-of-type {\n",
       "        vertical-align: middle;\n",
       "    }\n",
       "\n",
       "    .dataframe tbody tr th {\n",
       "        vertical-align: top;\n",
       "    }\n",
       "\n",
       "    .dataframe thead th {\n",
       "        text-align: right;\n",
       "    }\n",
       "</style>\n",
       "<table border=\"1\" class=\"dataframe\">\n",
       "  <thead>\n",
       "    <tr style=\"text-align: right;\">\n",
       "      <th></th>\n",
       "      <th>id</th>\n",
       "      <th>f0</th>\n",
       "      <th>f1</th>\n",
       "      <th>f2</th>\n",
       "      <th>product</th>\n",
       "    </tr>\n",
       "  </thead>\n",
       "  <tbody>\n",
       "  </tbody>\n",
       "</table>\n",
       "</div>"
      ],
      "text/plain": [
       "Empty DataFrame\n",
       "Columns: [id, f0, f1, f2, product]\n",
       "Index: []"
      ]
     },
     "execution_count": 6,
     "metadata": {},
     "output_type": "execute_result"
    }
   ],
   "source": [
    "#Проверим data_0 на наличие пробела\n",
    "space_0 = data_0[data_0['id'].str.contains(' ')]\n",
    "space_0"
   ]
  },
  {
   "cell_type": "code",
   "execution_count": 7,
   "metadata": {},
   "outputs": [
    {
     "data": {
      "text/html": [
       "<div>\n",
       "<style scoped>\n",
       "    .dataframe tbody tr th:only-of-type {\n",
       "        vertical-align: middle;\n",
       "    }\n",
       "\n",
       "    .dataframe tbody tr th {\n",
       "        vertical-align: top;\n",
       "    }\n",
       "\n",
       "    .dataframe thead th {\n",
       "        text-align: right;\n",
       "    }\n",
       "</style>\n",
       "<table border=\"1\" class=\"dataframe\">\n",
       "  <thead>\n",
       "    <tr style=\"text-align: right;\">\n",
       "      <th></th>\n",
       "      <th>id</th>\n",
       "      <th>f0</th>\n",
       "      <th>f1</th>\n",
       "      <th>f2</th>\n",
       "      <th>product</th>\n",
       "    </tr>\n",
       "  </thead>\n",
       "  <tbody>\n",
       "  </tbody>\n",
       "</table>\n",
       "</div>"
      ],
      "text/plain": [
       "Empty DataFrame\n",
       "Columns: [id, f0, f1, f2, product]\n",
       "Index: []"
      ]
     },
     "execution_count": 7,
     "metadata": {},
     "output_type": "execute_result"
    }
   ],
   "source": [
    "#Проверим data_1 на наличие пробела\n",
    "space_1 = data_1[data_1['id'].str.contains(' ')]\n",
    "space_1"
   ]
  },
  {
   "cell_type": "code",
   "execution_count": 8,
   "metadata": {},
   "outputs": [
    {
     "data": {
      "text/html": [
       "<div>\n",
       "<style scoped>\n",
       "    .dataframe tbody tr th:only-of-type {\n",
       "        vertical-align: middle;\n",
       "    }\n",
       "\n",
       "    .dataframe tbody tr th {\n",
       "        vertical-align: top;\n",
       "    }\n",
       "\n",
       "    .dataframe thead th {\n",
       "        text-align: right;\n",
       "    }\n",
       "</style>\n",
       "<table border=\"1\" class=\"dataframe\">\n",
       "  <thead>\n",
       "    <tr style=\"text-align: right;\">\n",
       "      <th></th>\n",
       "      <th>id</th>\n",
       "      <th>f0</th>\n",
       "      <th>f1</th>\n",
       "      <th>f2</th>\n",
       "      <th>product</th>\n",
       "    </tr>\n",
       "  </thead>\n",
       "  <tbody>\n",
       "  </tbody>\n",
       "</table>\n",
       "</div>"
      ],
      "text/plain": [
       "Empty DataFrame\n",
       "Columns: [id, f0, f1, f2, product]\n",
       "Index: []"
      ]
     },
     "execution_count": 8,
     "metadata": {},
     "output_type": "execute_result"
    }
   ],
   "source": [
    "#Проверим data_2 на наличие пробела\n",
    "space_2 = data_2[data_2['id'].str.contains(' ')]\n",
    "space_2"
   ]
  },
  {
   "cell_type": "markdown",
   "metadata": {},
   "source": [
    "**Найдем явные дубликаты.**"
   ]
  },
  {
   "cell_type": "code",
   "execution_count": 9,
   "metadata": {},
   "outputs": [
    {
     "name": "stdout",
     "output_type": "stream",
     "text": [
      "Количество явных дубликатов data_0: 0\n",
      "Количество явных дубликатов data_1: 0\n",
      "Количество явных дубликатов data_2: 0\n"
     ]
    }
   ],
   "source": [
    "#Посчитаем явные дубликаты\n",
    "print('Количество явных дубликатов data_0:', data_0.duplicated().sum())\n",
    "print('Количество явных дубликатов data_1:', data_1.duplicated().sum())\n",
    "print('Количество явных дубликатов data_2:', data_2.duplicated().sum())"
   ]
  },
  {
   "cell_type": "markdown",
   "metadata": {},
   "source": [
    "**Найдем неявные дубликаты.**"
   ]
  },
  {
   "cell_type": "markdown",
   "metadata": {},
   "source": [
    "В столбце 'id' не должно быть дубликатов, так как каждый элемент в столбце 'id' - уникальный идентификатор скважины."
   ]
  },
  {
   "cell_type": "markdown",
   "metadata": {},
   "source": [
    "**Рассмотрим дубликаты в столбце 'id' датасета data_0.**"
   ]
  },
  {
   "cell_type": "code",
   "execution_count": 10,
   "metadata": {},
   "outputs": [
    {
     "data": {
      "text/html": [
       "<div>\n",
       "<style scoped>\n",
       "    .dataframe tbody tr th:only-of-type {\n",
       "        vertical-align: middle;\n",
       "    }\n",
       "\n",
       "    .dataframe tbody tr th {\n",
       "        vertical-align: top;\n",
       "    }\n",
       "\n",
       "    .dataframe thead th {\n",
       "        text-align: right;\n",
       "    }\n",
       "</style>\n",
       "<table border=\"1\" class=\"dataframe\">\n",
       "  <thead>\n",
       "    <tr style=\"text-align: right;\">\n",
       "      <th></th>\n",
       "      <th>id</th>\n",
       "      <th>f0</th>\n",
       "      <th>f1</th>\n",
       "      <th>f2</th>\n",
       "      <th>product</th>\n",
       "    </tr>\n",
       "  </thead>\n",
       "  <tbody>\n",
       "    <tr>\n",
       "      <th>7530</th>\n",
       "      <td>HZww2</td>\n",
       "      <td>1.061194</td>\n",
       "      <td>-0.373969</td>\n",
       "      <td>10.430210</td>\n",
       "      <td>158.828695</td>\n",
       "    </tr>\n",
       "    <tr>\n",
       "      <th>41724</th>\n",
       "      <td>bxg6G</td>\n",
       "      <td>-0.823752</td>\n",
       "      <td>0.546319</td>\n",
       "      <td>3.630479</td>\n",
       "      <td>93.007798</td>\n",
       "    </tr>\n",
       "    <tr>\n",
       "      <th>51970</th>\n",
       "      <td>A5aEY</td>\n",
       "      <td>-0.180335</td>\n",
       "      <td>0.935548</td>\n",
       "      <td>-2.094773</td>\n",
       "      <td>33.020205</td>\n",
       "    </tr>\n",
       "    <tr>\n",
       "      <th>63593</th>\n",
       "      <td>QcMuo</td>\n",
       "      <td>0.635635</td>\n",
       "      <td>-0.473422</td>\n",
       "      <td>0.862670</td>\n",
       "      <td>64.578675</td>\n",
       "    </tr>\n",
       "    <tr>\n",
       "      <th>66136</th>\n",
       "      <td>74z30</td>\n",
       "      <td>1.084962</td>\n",
       "      <td>-0.312358</td>\n",
       "      <td>6.990771</td>\n",
       "      <td>127.643327</td>\n",
       "    </tr>\n",
       "    <tr>\n",
       "      <th>69163</th>\n",
       "      <td>AGS9W</td>\n",
       "      <td>-0.933795</td>\n",
       "      <td>0.116194</td>\n",
       "      <td>-3.655896</td>\n",
       "      <td>19.230453</td>\n",
       "    </tr>\n",
       "    <tr>\n",
       "      <th>75715</th>\n",
       "      <td>Tdehs</td>\n",
       "      <td>0.112079</td>\n",
       "      <td>0.430296</td>\n",
       "      <td>3.218993</td>\n",
       "      <td>60.964018</td>\n",
       "    </tr>\n",
       "    <tr>\n",
       "      <th>90815</th>\n",
       "      <td>fiKDv</td>\n",
       "      <td>0.049883</td>\n",
       "      <td>0.841313</td>\n",
       "      <td>6.394613</td>\n",
       "      <td>137.346586</td>\n",
       "    </tr>\n",
       "    <tr>\n",
       "      <th>92341</th>\n",
       "      <td>TtcGQ</td>\n",
       "      <td>0.110711</td>\n",
       "      <td>1.022689</td>\n",
       "      <td>0.911381</td>\n",
       "      <td>101.318008</td>\n",
       "    </tr>\n",
       "    <tr>\n",
       "      <th>97785</th>\n",
       "      <td>bsk9y</td>\n",
       "      <td>0.378429</td>\n",
       "      <td>0.005837</td>\n",
       "      <td>0.160827</td>\n",
       "      <td>160.637302</td>\n",
       "    </tr>\n",
       "  </tbody>\n",
       "</table>\n",
       "</div>"
      ],
      "text/plain": [
       "          id        f0        f1         f2     product\n",
       "7530   HZww2  1.061194 -0.373969  10.430210  158.828695\n",
       "41724  bxg6G -0.823752  0.546319   3.630479   93.007798\n",
       "51970  A5aEY -0.180335  0.935548  -2.094773   33.020205\n",
       "63593  QcMuo  0.635635 -0.473422   0.862670   64.578675\n",
       "66136  74z30  1.084962 -0.312358   6.990771  127.643327\n",
       "69163  AGS9W -0.933795  0.116194  -3.655896   19.230453\n",
       "75715  Tdehs  0.112079  0.430296   3.218993   60.964018\n",
       "90815  fiKDv  0.049883  0.841313   6.394613  137.346586\n",
       "92341  TtcGQ  0.110711  1.022689   0.911381  101.318008\n",
       "97785  bsk9y  0.378429  0.005837   0.160827  160.637302"
      ]
     },
     "metadata": {},
     "output_type": "display_data"
    },
    {
     "name": "stdout",
     "output_type": "stream",
     "text": [
      "<class 'pandas.core.frame.DataFrame'>\n",
      "Int64Index: 99990 entries, 0 to 99999\n",
      "Data columns (total 5 columns):\n",
      " #   Column   Non-Null Count  Dtype  \n",
      "---  ------   --------------  -----  \n",
      " 0   id       99990 non-null  object \n",
      " 1   f0       99990 non-null  float64\n",
      " 2   f1       99990 non-null  float64\n",
      " 3   f2       99990 non-null  float64\n",
      " 4   product  99990 non-null  float64\n",
      "dtypes: float64(4), object(1)\n",
      "memory usage: 4.6+ MB\n"
     ]
    },
    {
     "data": {
      "text/plain": [
       "(99990, 5)"
      ]
     },
     "metadata": {},
     "output_type": "display_data"
    }
   ],
   "source": [
    "#Вынесем все дублированные id в отдельный датасет\n",
    "dt_0_dup = data_0[data_0['id'].duplicated()]\n",
    "display(dt_0_dup)\n",
    "\n",
    "#Удалим дублированные id из датасета data_0\n",
    "data_0 = data_0.drop(dt_0_dup.index, axis=0)\n",
    "data_0.info()\n",
    "display(data_0.shape)"
   ]
  },
  {
   "cell_type": "markdown",
   "metadata": {},
   "source": [
    "**Рассмотрим дубликаты в столбце 'id' датасета data_1.**"
   ]
  },
  {
   "cell_type": "code",
   "execution_count": 11,
   "metadata": {},
   "outputs": [
    {
     "data": {
      "text/html": [
       "<div>\n",
       "<style scoped>\n",
       "    .dataframe tbody tr th:only-of-type {\n",
       "        vertical-align: middle;\n",
       "    }\n",
       "\n",
       "    .dataframe tbody tr th {\n",
       "        vertical-align: top;\n",
       "    }\n",
       "\n",
       "    .dataframe thead th {\n",
       "        text-align: right;\n",
       "    }\n",
       "</style>\n",
       "<table border=\"1\" class=\"dataframe\">\n",
       "  <thead>\n",
       "    <tr style=\"text-align: right;\">\n",
       "      <th></th>\n",
       "      <th>id</th>\n",
       "      <th>f0</th>\n",
       "      <th>f1</th>\n",
       "      <th>f2</th>\n",
       "      <th>product</th>\n",
       "    </tr>\n",
       "  </thead>\n",
       "  <tbody>\n",
       "    <tr>\n",
       "      <th>41906</th>\n",
       "      <td>LHZR0</td>\n",
       "      <td>-8.989672</td>\n",
       "      <td>-4.286607</td>\n",
       "      <td>2.009139</td>\n",
       "      <td>57.085625</td>\n",
       "    </tr>\n",
       "    <tr>\n",
       "      <th>82178</th>\n",
       "      <td>bfPNe</td>\n",
       "      <td>-6.202799</td>\n",
       "      <td>-4.820045</td>\n",
       "      <td>2.995107</td>\n",
       "      <td>84.038886</td>\n",
       "    </tr>\n",
       "    <tr>\n",
       "      <th>82873</th>\n",
       "      <td>wt4Uk</td>\n",
       "      <td>10.259972</td>\n",
       "      <td>-9.376355</td>\n",
       "      <td>4.994297</td>\n",
       "      <td>134.766305</td>\n",
       "    </tr>\n",
       "    <tr>\n",
       "      <th>84461</th>\n",
       "      <td>5ltQ6</td>\n",
       "      <td>18.213839</td>\n",
       "      <td>2.191999</td>\n",
       "      <td>3.993869</td>\n",
       "      <td>107.813044</td>\n",
       "    </tr>\n",
       "  </tbody>\n",
       "</table>\n",
       "</div>"
      ],
      "text/plain": [
       "          id         f0        f1        f2     product\n",
       "41906  LHZR0  -8.989672 -4.286607  2.009139   57.085625\n",
       "82178  bfPNe  -6.202799 -4.820045  2.995107   84.038886\n",
       "82873  wt4Uk  10.259972 -9.376355  4.994297  134.766305\n",
       "84461  5ltQ6  18.213839  2.191999  3.993869  107.813044"
      ]
     },
     "metadata": {},
     "output_type": "display_data"
    },
    {
     "name": "stdout",
     "output_type": "stream",
     "text": [
      "<class 'pandas.core.frame.DataFrame'>\n",
      "Int64Index: 99996 entries, 0 to 99999\n",
      "Data columns (total 5 columns):\n",
      " #   Column   Non-Null Count  Dtype  \n",
      "---  ------   --------------  -----  \n",
      " 0   id       99996 non-null  object \n",
      " 1   f0       99996 non-null  float64\n",
      " 2   f1       99996 non-null  float64\n",
      " 3   f2       99996 non-null  float64\n",
      " 4   product  99996 non-null  float64\n",
      "dtypes: float64(4), object(1)\n",
      "memory usage: 4.6+ MB\n"
     ]
    },
    {
     "data": {
      "text/plain": [
       "(99996, 5)"
      ]
     },
     "metadata": {},
     "output_type": "display_data"
    }
   ],
   "source": [
    "#Вынесем все дублированные id в отдельный датасет\n",
    "dt_1_dup = data_1[data_1['id'].duplicated()]\n",
    "display(dt_1_dup)\n",
    "\n",
    "#Удалим дублированные id из датасета data_1\n",
    "data_1 = data_1.drop(dt_1_dup.index, axis=0)\n",
    "data_1.info()\n",
    "display(data_1.shape)"
   ]
  },
  {
   "cell_type": "markdown",
   "metadata": {},
   "source": [
    "**Рассмотрим дубликаты в столбце 'id' датасета data_2.**"
   ]
  },
  {
   "cell_type": "code",
   "execution_count": 12,
   "metadata": {},
   "outputs": [
    {
     "data": {
      "text/html": [
       "<div>\n",
       "<style scoped>\n",
       "    .dataframe tbody tr th:only-of-type {\n",
       "        vertical-align: middle;\n",
       "    }\n",
       "\n",
       "    .dataframe tbody tr th {\n",
       "        vertical-align: top;\n",
       "    }\n",
       "\n",
       "    .dataframe thead th {\n",
       "        text-align: right;\n",
       "    }\n",
       "</style>\n",
       "<table border=\"1\" class=\"dataframe\">\n",
       "  <thead>\n",
       "    <tr style=\"text-align: right;\">\n",
       "      <th></th>\n",
       "      <th>id</th>\n",
       "      <th>f0</th>\n",
       "      <th>f1</th>\n",
       "      <th>f2</th>\n",
       "      <th>product</th>\n",
       "    </tr>\n",
       "  </thead>\n",
       "  <tbody>\n",
       "    <tr>\n",
       "      <th>43233</th>\n",
       "      <td>xCHr8</td>\n",
       "      <td>-0.847066</td>\n",
       "      <td>2.101796</td>\n",
       "      <td>5.597130</td>\n",
       "      <td>184.388641</td>\n",
       "    </tr>\n",
       "    <tr>\n",
       "      <th>49564</th>\n",
       "      <td>VF7Jo</td>\n",
       "      <td>-0.883115</td>\n",
       "      <td>0.560537</td>\n",
       "      <td>0.723601</td>\n",
       "      <td>136.233420</td>\n",
       "    </tr>\n",
       "    <tr>\n",
       "      <th>55967</th>\n",
       "      <td>KUPhW</td>\n",
       "      <td>1.211150</td>\n",
       "      <td>3.176408</td>\n",
       "      <td>5.543540</td>\n",
       "      <td>132.831802</td>\n",
       "    </tr>\n",
       "    <tr>\n",
       "      <th>95090</th>\n",
       "      <td>Vcm5J</td>\n",
       "      <td>2.587702</td>\n",
       "      <td>1.986875</td>\n",
       "      <td>2.482245</td>\n",
       "      <td>92.327572</td>\n",
       "    </tr>\n",
       "  </tbody>\n",
       "</table>\n",
       "</div>"
      ],
      "text/plain": [
       "          id        f0        f1        f2     product\n",
       "43233  xCHr8 -0.847066  2.101796  5.597130  184.388641\n",
       "49564  VF7Jo -0.883115  0.560537  0.723601  136.233420\n",
       "55967  KUPhW  1.211150  3.176408  5.543540  132.831802\n",
       "95090  Vcm5J  2.587702  1.986875  2.482245   92.327572"
      ]
     },
     "metadata": {},
     "output_type": "display_data"
    },
    {
     "name": "stdout",
     "output_type": "stream",
     "text": [
      "<class 'pandas.core.frame.DataFrame'>\n",
      "Int64Index: 99996 entries, 0 to 99999\n",
      "Data columns (total 5 columns):\n",
      " #   Column   Non-Null Count  Dtype  \n",
      "---  ------   --------------  -----  \n",
      " 0   id       99996 non-null  object \n",
      " 1   f0       99996 non-null  float64\n",
      " 2   f1       99996 non-null  float64\n",
      " 3   f2       99996 non-null  float64\n",
      " 4   product  99996 non-null  float64\n",
      "dtypes: float64(4), object(1)\n",
      "memory usage: 4.6+ MB\n"
     ]
    },
    {
     "data": {
      "text/plain": [
       "(99996, 5)"
      ]
     },
     "metadata": {},
     "output_type": "display_data"
    }
   ],
   "source": [
    "#Вынесем все дублированные id в отдельный датасет\n",
    "dt_2_dup = data_2[data_2['id'].duplicated()]\n",
    "display(dt_2_dup)\n",
    "\n",
    "#Удалим дублированные id из датасета data_2\n",
    "data_2 = data_2.drop(dt_2_dup.index, axis=0)\n",
    "data_2.info()\n",
    "display(data_2.shape)"
   ]
  },
  {
   "cell_type": "markdown",
   "metadata": {},
   "source": [
    "**Сделаем выводы по предобработке данных.**\n",
    "\n",
    " - Не было обнаружено строк со значением \"пробел\"(' ') в столбцах 'id' датасетов data_0, data_1 и data_2.\n",
    " - Явных дубликатов обнаружено не было.\n",
    " - Были обнаружены и удалены неявные дубликаты в столбцах 'id'."
   ]
  },
  {
   "cell_type": "markdown",
   "metadata": {},
   "source": [
    "### Исследовательский анализ данных."
   ]
  },
  {
   "cell_type": "code",
   "execution_count": 13,
   "metadata": {},
   "outputs": [],
   "source": [
    "#Напишем функцию для построения распределений признаков датасетов\n",
    "def distribution(data, fx):\n",
    "    data[fx].plot(kind='box', grid=True)\n",
    "    plt.show()\n",
    "\n",
    "    display(data[fx].describe())\n",
    "\n",
    "    data[fx].plot(kind='hist', grid=True, bins=30)\n",
    "    plt.title(f'Распределение признака {fx}')\n",
    "    plt.xlabel(f'Распределение {fx}')\n",
    "    plt.ylabel(f'Величина значений {fx}')"
   ]
  },
  {
   "cell_type": "markdown",
   "metadata": {},
   "source": [
    "**Исследуем каждый значимый признак датасета data_0 в отдельности.**"
   ]
  },
  {
   "cell_type": "code",
   "execution_count": 14,
   "metadata": {},
   "outputs": [
    {
     "data": {
      "image/png": "[encoded data removed]",
      "text/plain": [
       "<Figure size 432x288 with 1 Axes>"
      ]
     },
     "metadata": {
      "needs_background": "light"
     },
     "output_type": "display_data"
    },
    {
     "data": {
      "text/plain": [
       "count    99990.000000\n",
       "mean         0.500454\n",
       "std          0.871844\n",
       "min         -1.408605\n",
       "25%         -0.072572\n",
       "50%          0.502405\n",
       "75%          1.073626\n",
       "max          2.362331\n",
       "Name: f0, dtype: float64"
      ]
     },
     "metadata": {},
     "output_type": "display_data"
    },
    {
     "data": {
      "image/png": "[encoded data removed]",
      "text/plain": [
       "<Figure size 432x288 with 1 Axes>"
      ]
     },
     "metadata": {
      "needs_background": "light"
     },
     "output_type": "display_data"
    }
   ],
   "source": [
    "#Построим распределение и удалим аномальные значения для столбца 'f0'\n",
    "distribution(data_0, 'f0')"
   ]
  },
  {
   "cell_type": "markdown",
   "metadata": {},
   "source": [
    "**Вывод:** Аномальных значений не обнаружено. Все значения укладываются в 3 межквартильных размаха \"ящика с усами\". Медианное значение f0 равно 0.502405. Распределение значений имеет вид отличный от нормального."
   ]
  },
  {
   "cell_type": "code",
   "execution_count": 15,
   "metadata": {},
   "outputs": [
    {
     "data": {
      "image/png": "[encoded data removed]",
      "text/plain": [
       "<Figure size 432x288 with 1 Axes>"
      ]
     },
     "metadata": {
      "needs_background": "light"
     },
     "output_type": "display_data"
    },
    {
     "data": {
      "text/plain": [
       "count    99990.000000\n",
       "mean         0.250141\n",
       "std          0.504430\n",
       "min         -0.848218\n",
       "25%         -0.200877\n",
       "50%          0.250252\n",
       "75%          0.700640\n",
       "max          1.343769\n",
       "Name: f1, dtype: float64"
      ]
     },
     "metadata": {},
     "output_type": "display_data"
    },
    {
     "data": {
      "image/png": "[encoded data removed]",
      "text/plain": [
       "<Figure size 432x288 with 1 Axes>"
      ]
     },
     "metadata": {
      "needs_background": "light"
     },
     "output_type": "display_data"
    }
   ],
   "source": [
    "#Построим распределение и удалим аномальные значения для столбца 'f1'\n",
    "distribution(data_0, 'f1')"
   ]
  },
  {
   "cell_type": "markdown",
   "metadata": {},
   "source": [
    "**Вывод:** Аномальных значений не обнаружено. Все значения укладываются в 3 межквартильных размаха \"ящика с усами\". Медианное значение f1 равно 0.250252. Распределение значений имеет вид отличный от нормального."
   ]
  },
  {
   "cell_type": "code",
   "execution_count": 16,
   "metadata": {},
   "outputs": [
    {
     "data": {
      "image/png": "[encoded data removed]",
      "text/plain": [
       "<Figure size 432x288 with 1 Axes>"
      ]
     },
     "metadata": {
      "needs_background": "light"
     },
     "output_type": "display_data"
    },
    {
     "data": {
      "text/plain": [
       "count    99990.000000\n",
       "mean         2.502629\n",
       "std          3.248149\n",
       "min        -12.088328\n",
       "25%          0.287784\n",
       "50%          2.515969\n",
       "75%          4.715035\n",
       "max         16.003790\n",
       "Name: f2, dtype: float64"
      ]
     },
     "metadata": {},
     "output_type": "display_data"
    },
    {
     "data": {
      "image/png": "[encoded data removed]",
      "text/plain": [
       "<Figure size 432x288 with 1 Axes>"
      ]
     },
     "metadata": {
      "needs_background": "light"
     },
     "output_type": "display_data"
    }
   ],
   "source": [
    "#Построим распределение и удалим аномальные значения для столбца 'f2'\n",
    "distribution(data_0, 'f2')"
   ]
  },
  {
   "cell_type": "markdown",
   "metadata": {},
   "source": [
    "**Вывод:** Обнаружены выбросы в данных, но мы не будем их удалять, так как они имеют равномерный характер, и их удаление может повредить анализу, так как их слишком много. Не все значения укладываются в 3 межквартильных размаха \"ящика с усами\". Медианное значение f2 равно 2.515969. Распределение значений имеет вид близкий к нормальному."
   ]
  },
  {
   "cell_type": "code",
   "execution_count": 17,
   "metadata": {},
   "outputs": [
    {
     "data": {
      "image/png": "[encoded data removed]",
      "text/plain": [
       "<Figure size 432x288 with 1 Axes>"
      ]
     },
     "metadata": {
      "needs_background": "light"
     },
     "output_type": "display_data"
    },
    {
     "data": {
      "text/plain": [
       "count    99990.000000\n",
       "mean        92.499684\n",
       "std         44.288304\n",
       "min          0.000000\n",
       "25%         56.497069\n",
       "50%         91.847928\n",
       "75%        128.563699\n",
       "max        185.364347\n",
       "Name: product, dtype: float64"
      ]
     },
     "metadata": {},
     "output_type": "display_data"
    },
    {
     "data": {
      "image/png": "[encoded data removed]",
      "text/plain": [
       "<Figure size 432x288 with 1 Axes>"
      ]
     },
     "metadata": {
      "needs_background": "light"
     },
     "output_type": "display_data"
    }
   ],
   "source": [
    "#Построим распределение и удалим аномальные значения для столбца 'product'\n",
    "distribution(data_0, 'product')"
   ]
  },
  {
   "cell_type": "markdown",
   "metadata": {},
   "source": [
    "**Вывод:** Аномальных значений не обнаружено. Все значения укладываются в 3 межквартильных размаха \"ящика с усами\". Медианное значение product равно 91.847928. Распределение значений имеет вид отличный от нормального."
   ]
  },
  {
   "cell_type": "markdown",
   "metadata": {},
   "source": [
    "**Исследуем каждый значимый признак датасета data_1 в отдельности.**"
   ]
  },
  {
   "cell_type": "code",
   "execution_count": 18,
   "metadata": {},
   "outputs": [
    {
     "data": {
      "image/png": "[encoded data removed]",
      "text/plain": [
       "<Figure size 432x288 with 1 Axes>"
      ]
     },
     "metadata": {
      "needs_background": "light"
     },
     "output_type": "display_data"
    },
    {
     "data": {
      "text/plain": [
       "count    99996.000000\n",
       "mean         1.141209\n",
       "std          8.965815\n",
       "min        -31.609576\n",
       "25%         -6.298551\n",
       "50%          1.153055\n",
       "75%          8.620964\n",
       "max         29.421755\n",
       "Name: f0, dtype: float64"
      ]
     },
     "metadata": {},
     "output_type": "display_data"
    },
    {
     "data": {
      "image/png": "[encoded data removed]",
      "text/plain": [
       "<Figure size 432x288 with 1 Axes>"
      ]
     },
     "metadata": {
      "needs_background": "light"
     },
     "output_type": "display_data"
    }
   ],
   "source": [
    "#Построим распределение и удалим аномальные значения для столбца 'f0'\n",
    "distribution(data_1, 'f0')"
   ]
  },
  {
   "cell_type": "markdown",
   "metadata": {},
   "source": [
    "**Вывод:** Аномальных значений не обнаружено. Все значения укладываются в 3 межквартильных размаха \"ящика с усами\". Медианное значение f0 равно 1.153055. Распределение значений имеет вид отличный от нормального."
   ]
  },
  {
   "cell_type": "code",
   "execution_count": 19,
   "metadata": {},
   "outputs": [
    {
     "data": {
      "image/png": "[encoded data removed]",
      "text/plain": [
       "<Figure size 432x288 with 1 Axes>"
      ]
     },
     "metadata": {
      "needs_background": "light"
     },
     "output_type": "display_data"
    },
    {
     "data": {
      "text/plain": [
       "count    99996.000000\n",
       "mean        -4.796608\n",
       "std          5.119906\n",
       "min        -26.358598\n",
       "25%         -8.267985\n",
       "50%         -4.813172\n",
       "75%         -1.332816\n",
       "max         18.734063\n",
       "Name: f1, dtype: float64"
      ]
     },
     "metadata": {},
     "output_type": "display_data"
    },
    {
     "data": {
      "image/png": "[encoded data removed]",
      "text/plain": [
       "<Figure size 432x288 with 1 Axes>"
      ]
     },
     "metadata": {
      "needs_background": "light"
     },
     "output_type": "display_data"
    }
   ],
   "source": [
    "#Построим распределение и удалим аномальные значения для столбца 'f1'\n",
    "distribution(data_1, 'f1')"
   ]
  },
  {
   "cell_type": "markdown",
   "metadata": {},
   "source": [
    "**Вывод:** Обнаружены выбросы в данных, но мы не будем их удалять, так как они имеют равномерный характер, и их удаление может повредить анализу, так как их слишком много. Не все значения укладываются в 3 межквартильных размаха \"ящика с усами\". Медианное значение f1 равно -4.813172. Распределение значений имеет вид близкий к нормальному."
   ]
  },
  {
   "cell_type": "code",
   "execution_count": 20,
   "metadata": {},
   "outputs": [
    {
     "data": {
      "image/png": "[encoded data removed]",
      "text/plain": [
       "<Figure size 432x288 with 1 Axes>"
      ]
     },
     "metadata": {
      "needs_background": "light"
     },
     "output_type": "display_data"
    },
    {
     "data": {
      "text/plain": [
       "count    99996.000000\n",
       "mean         2.494501\n",
       "std          1.703579\n",
       "min         -0.018144\n",
       "25%          1.000021\n",
       "50%          2.011475\n",
       "75%          3.999904\n",
       "max          5.019721\n",
       "Name: f2, dtype: float64"
      ]
     },
     "metadata": {},
     "output_type": "display_data"
    },
    {
     "data": {
      "image/png": "[encoded data removed]",
      "text/plain": [
       "<Figure size 432x288 with 1 Axes>"
      ]
     },
     "metadata": {
      "needs_background": "light"
     },
     "output_type": "display_data"
    }
   ],
   "source": [
    "#Построим распределение и удалим аномальные значения для столбца 'f2'\n",
    "distribution(data_1, 'f2')"
   ]
  },
  {
   "cell_type": "markdown",
   "metadata": {},
   "source": [
    "**Вывод**: Аномальных значений не обнаружено. Все значения укладываются в 3 межквартильных размаха \"ящика с усами\". Медианное значение f2 равно 2.011475. Распределение значений имеет вид отличный от нормального."
   ]
  },
  {
   "cell_type": "code",
   "execution_count": 21,
   "metadata": {},
   "outputs": [
    {
     "data": {
      "image/png": "[encoded data removed]",
      "text/plain": [
       "<Figure size 432x288 with 1 Axes>"
      ]
     },
     "metadata": {
      "needs_background": "light"
     },
     "output_type": "display_data"
    },
    {
     "data": {
      "text/plain": [
       "count    99996.000000\n",
       "mean        68.823916\n",
       "std         45.944663\n",
       "min          0.000000\n",
       "25%         26.953261\n",
       "50%         57.085625\n",
       "75%        107.813044\n",
       "max        137.945408\n",
       "Name: product, dtype: float64"
      ]
     },
     "metadata": {},
     "output_type": "display_data"
    },
    {
     "data": {
      "image/png": "[encoded data removed]",
      "text/plain": [
       "<Figure size 432x288 with 1 Axes>"
      ]
     },
     "metadata": {
      "needs_background": "light"
     },
     "output_type": "display_data"
    }
   ],
   "source": [
    "#Построим распределение и удалим аномальные значения для столбца 'product'\n",
    "distribution(data_1, 'product')"
   ]
  },
  {
   "cell_type": "markdown",
   "metadata": {},
   "source": [
    "**Вывод:** Аномальных значений не обнаружено. Все значения укладываются в 3 межквартильных размаха \"ящика с усами\". Медианное значение product равно 57.085625. Распределение значений имеет вид отличный от нормального."
   ]
  },
  {
   "cell_type": "markdown",
   "metadata": {},
   "source": [
    "**Исследуем каждый значимый признак датасета data_2 в отдельности.**"
   ]
  },
  {
   "cell_type": "code",
   "execution_count": 22,
   "metadata": {},
   "outputs": [
    {
     "data": {
      "image/png": "[encoded data removed]",
      "text/plain": [
       "<Figure size 432x288 with 1 Axes>"
      ]
     },
     "metadata": {
      "needs_background": "light"
     },
     "output_type": "display_data"
    },
    {
     "data": {
      "text/plain": [
       "count    99996.000000\n",
       "mean         0.002002\n",
       "std          1.732052\n",
       "min         -8.760004\n",
       "25%         -1.162328\n",
       "50%          0.009424\n",
       "75%          1.158477\n",
       "max          7.238262\n",
       "Name: f0, dtype: float64"
      ]
     },
     "metadata": {},
     "output_type": "display_data"
    },
    {
     "data": {
      "image/png": "[encoded data removed]",
      "text/plain": [
       "<Figure size 432x288 with 1 Axes>"
      ]
     },
     "metadata": {
      "needs_background": "light"
     },
     "output_type": "display_data"
    }
   ],
   "source": [
    "#Построим распределение и удалим аномальные значения для столбца 'f0'\n",
    "distribution(data_2, 'f0')"
   ]
  },
  {
   "cell_type": "markdown",
   "metadata": {},
   "source": [
    "**Вывод:** Обнаружены выбросы в данных, но мы не будем их удалять, так как они имеют равномерный характер, и их удаление может повредить анализу, так как их слишком много. Не все значения укладываются в 3 межквартильных размаха \"ящика с усами\". Медианное значение f0 равно 0.009424. Распределение значений имеет вид близкий к нормальному. Мода распределения находится близко к нулю."
   ]
  },
  {
   "cell_type": "code",
   "execution_count": 23,
   "metadata": {},
   "outputs": [
    {
     "data": {
      "image/png": "[encoded data removed]",
      "text/plain": [
       "<Figure size 432x288 with 1 Axes>"
      ]
     },
     "metadata": {
      "needs_background": "light"
     },
     "output_type": "display_data"
    },
    {
     "data": {
      "text/plain": [
       "count    99996.000000\n",
       "mean        -0.002159\n",
       "std          1.730397\n",
       "min         -7.084020\n",
       "25%         -1.174841\n",
       "50%         -0.009661\n",
       "75%          1.163523\n",
       "max          7.844801\n",
       "Name: f1, dtype: float64"
      ]
     },
     "metadata": {},
     "output_type": "display_data"
    },
    {
     "data": {
      "image/png": "[encoded data removed]",
      "text/plain": [
       "<Figure size 432x288 with 1 Axes>"
      ]
     },
     "metadata": {
      "needs_background": "light"
     },
     "output_type": "display_data"
    }
   ],
   "source": [
    "#Построим распределение и удалим аномальные значения для столбца 'f1'\n",
    "distribution(data_2, 'f1')"
   ]
  },
  {
   "cell_type": "markdown",
   "metadata": {},
   "source": [
    "**Вывод:** Обнаружены выбросы в данных, но мы не будем их удалять, так как они имеют равномерный характер, и их удаление может повредить анализу, так как их слишком много. Не все значения укладываются в 3 межквартильных размаха \"ящика с усами\". Медианное значение f1 равно -0.009661. Распределение значений имеет вид близкий к нормальному. Мода распределения находится близко к нулю."
   ]
  },
  {
   "cell_type": "code",
   "execution_count": 24,
   "metadata": {},
   "outputs": [
    {
     "data": {
      "image/png": "[encoded data removed]",
      "text/plain": [
       "<Figure size 432x288 with 1 Axes>"
      ]
     },
     "metadata": {
      "needs_background": "light"
     },
     "output_type": "display_data"
    },
    {
     "data": {
      "text/plain": [
       "count    99996.000000\n",
       "mean         2.495084\n",
       "std          3.473482\n",
       "min        -11.970335\n",
       "25%          0.130269\n",
       "50%          2.484236\n",
       "75%          4.858720\n",
       "max         16.739402\n",
       "Name: f2, dtype: float64"
      ]
     },
     "metadata": {},
     "output_type": "display_data"
    },
    {
     "data": {
      "image/png": "[encoded data removed]",
      "text/plain": [
       "<Figure size 432x288 with 1 Axes>"
      ]
     },
     "metadata": {
      "needs_background": "light"
     },
     "output_type": "display_data"
    }
   ],
   "source": [
    "#Построим распределение и удалим аномальные значения для столбца 'f2'\n",
    "distribution(data_2, 'f2')"
   ]
  },
  {
   "cell_type": "markdown",
   "metadata": {},
   "source": [
    "Вывод: Обнаружены выбросы в данных, но мы не будем их удалять, так как они имеют равномерный характер, и их удаление может повредить анализу, так как их слишком много. Не все значения укладываются в 3 межквартильных размаха \"ящика с усами\". Медианное значение f2 равно 2.484236. Распределение значений имеет вид близкий к нормальному."
   ]
  },
  {
   "cell_type": "code",
   "execution_count": 25,
   "metadata": {},
   "outputs": [
    {
     "data": {
      "image/png": "[encoded data removed]",
      "text/plain": [
       "<Figure size 432x288 with 1 Axes>"
      ]
     },
     "metadata": {
      "needs_background": "light"
     },
     "output_type": "display_data"
    },
    {
     "data": {
      "text/plain": [
       "count    99996.000000\n",
       "mean        94.998342\n",
       "std         44.749573\n",
       "min          0.000000\n",
       "25%         59.450028\n",
       "50%         94.925026\n",
       "75%        130.586815\n",
       "max        190.029838\n",
       "Name: product, dtype: float64"
      ]
     },
     "metadata": {},
     "output_type": "display_data"
    },
    {
     "data": {
      "image/png": "[encoded data removed]",
      "text/plain": [
       "<Figure size 432x288 with 1 Axes>"
      ]
     },
     "metadata": {
      "needs_background": "light"
     },
     "output_type": "display_data"
    }
   ],
   "source": [
    "#Построим распределение и удалим аномальные значения для столбца 'product'\n",
    "distribution(data_2, 'product')"
   ]
  },
  {
   "cell_type": "markdown",
   "metadata": {},
   "source": [
    "**Вывод:** Аномальных значений не обнаружено. Все значения укладываются в 3 межквартильных размаха \"ящика с усами\". Медианное значение product равно 94.925026. Распределение значений имеет вид отличный от нормального."
   ]
  },
  {
   "cell_type": "markdown",
   "metadata": {},
   "source": [
    "**Оформим общий вывод по результатам шага.**"
   ]
  },
  {
   "cell_type": "markdown",
   "metadata": {},
   "source": [
    "**Вывод:** Некоторые входные признаки в датасетах наспределены не нормально. В датасетах почти нет аномальных значений. Были обнаружены выбросы в данных в небольших диапазонах значений, но мы не будем их убирать."
   ]
  },
  {
   "cell_type": "markdown",
   "metadata": {},
   "source": [
    "### Корреляционный анализ."
   ]
  },
  {
   "cell_type": "markdown",
   "metadata": {},
   "source": [
    "**Проведем корреляционный анализ данных в датасете data_0.**"
   ]
  },
  {
   "cell_type": "code",
   "execution_count": 26,
   "metadata": {},
   "outputs": [
    {
     "data": {
      "text/html": [
       "<div>\n",
       "<style scoped>\n",
       "    .dataframe tbody tr th:only-of-type {\n",
       "        vertical-align: middle;\n",
       "    }\n",
       "\n",
       "    .dataframe tbody tr th {\n",
       "        vertical-align: top;\n",
       "    }\n",
       "\n",
       "    .dataframe thead th {\n",
       "        text-align: right;\n",
       "    }\n",
       "</style>\n",
       "<table border=\"1\" class=\"dataframe\">\n",
       "  <thead>\n",
       "    <tr style=\"text-align: right;\">\n",
       "      <th></th>\n",
       "      <th>f0</th>\n",
       "      <th>f1</th>\n",
       "      <th>f2</th>\n",
       "      <th>product</th>\n",
       "    </tr>\n",
       "  </thead>\n",
       "  <tbody>\n",
       "    <tr>\n",
       "      <th>f0</th>\n",
       "      <td>1.000000</td>\n",
       "      <td>-0.471379</td>\n",
       "      <td>-0.002739</td>\n",
       "      <td>0.128379</td>\n",
       "    </tr>\n",
       "    <tr>\n",
       "      <th>f1</th>\n",
       "      <td>-0.471379</td>\n",
       "      <td>1.000000</td>\n",
       "      <td>0.001440</td>\n",
       "      <td>-0.181136</td>\n",
       "    </tr>\n",
       "    <tr>\n",
       "      <th>f2</th>\n",
       "      <td>-0.002739</td>\n",
       "      <td>0.001440</td>\n",
       "      <td>1.000000</td>\n",
       "      <td>0.486370</td>\n",
       "    </tr>\n",
       "    <tr>\n",
       "      <th>product</th>\n",
       "      <td>0.128379</td>\n",
       "      <td>-0.181136</td>\n",
       "      <td>0.486370</td>\n",
       "      <td>1.000000</td>\n",
       "    </tr>\n",
       "  </tbody>\n",
       "</table>\n",
       "</div>"
      ],
      "text/plain": [
       "               f0        f1        f2   product\n",
       "f0       1.000000 -0.471379 -0.002739  0.128379\n",
       "f1      -0.471379  1.000000  0.001440 -0.181136\n",
       "f2      -0.002739  0.001440  1.000000  0.486370\n",
       "product  0.128379 -0.181136  0.486370  1.000000"
      ]
     },
     "metadata": {},
     "output_type": "display_data"
    },
    {
     "data": {
      "text/plain": [
       "<AxesSubplot:>"
      ]
     },
     "execution_count": 26,
     "metadata": {},
     "output_type": "execute_result"
    },
    {
     "data": {
      "image/png": "[encoded data removed]",
      "text/plain": [
       "<Figure size 864x720 with 2 Axes>"
      ]
     },
     "metadata": {
      "needs_background": "light"
     },
     "output_type": "display_data"
    }
   ],
   "source": [
    "#Измерим корреляцию между признаками в датасете data_0\n",
    "#Уберем столбец 'id'\n",
    "data_0_corr = data_0.drop('id', axis=1)\n",
    "#Используем корреляцию Спирмана, так как не все признаки распределены нормально\n",
    "data_0_corr = data_0_corr.corr(method='spearman')\n",
    "display(data_0_corr)\n",
    "plt.figure(figsize=(12, 10))\n",
    "sns.heatmap(data_0_corr, annot=True, fmt='.2f')"
   ]
  },
  {
   "cell_type": "markdown",
   "metadata": {},
   "source": [
    "**Вывод:**\n",
    "\n",
    "Мы обнаружили среднюю корреляцию между параметрами:\n",
    " - 'f1' и 'f0' = -0.47.\n",
    " - 'product' и 'f2' = 0.49.\n",
    " \n",
    "Так же существует низкая корреляция между параметрами:\n",
    " - 'product' и 'f0' = 0.13.\n",
    " - 'product' и 'f2' = -0.18.\n",
    " \n",
    "Между остальными параметрами корреляции нет."
   ]
  },
  {
   "cell_type": "markdown",
   "metadata": {},
   "source": [
    "**Проведем корреляционный анализ данных в датасете data_1.**"
   ]
  },
  {
   "cell_type": "code",
   "execution_count": 27,
   "metadata": {},
   "outputs": [
    {
     "data": {
      "text/html": [
       "<div>\n",
       "<style scoped>\n",
       "    .dataframe tbody tr th:only-of-type {\n",
       "        vertical-align: middle;\n",
       "    }\n",
       "\n",
       "    .dataframe tbody tr th {\n",
       "        vertical-align: top;\n",
       "    }\n",
       "\n",
       "    .dataframe thead th {\n",
       "        text-align: right;\n",
       "    }\n",
       "</style>\n",
       "<table border=\"1\" class=\"dataframe\">\n",
       "  <thead>\n",
       "    <tr style=\"text-align: right;\">\n",
       "      <th></th>\n",
       "      <th>f0</th>\n",
       "      <th>f1</th>\n",
       "      <th>f2</th>\n",
       "      <th>product</th>\n",
       "    </tr>\n",
       "  </thead>\n",
       "  <tbody>\n",
       "    <tr>\n",
       "      <th>f0</th>\n",
       "      <td>1.000000</td>\n",
       "      <td>0.182247</td>\n",
       "      <td>-0.002024</td>\n",
       "      <td>-0.122901</td>\n",
       "    </tr>\n",
       "    <tr>\n",
       "      <th>f1</th>\n",
       "      <td>0.182247</td>\n",
       "      <td>1.000000</td>\n",
       "      <td>-0.003674</td>\n",
       "      <td>-0.033906</td>\n",
       "    </tr>\n",
       "    <tr>\n",
       "      <th>f2</th>\n",
       "      <td>-0.002024</td>\n",
       "      <td>-0.003674</td>\n",
       "      <td>1.000000</td>\n",
       "      <td>0.975604</td>\n",
       "    </tr>\n",
       "    <tr>\n",
       "      <th>product</th>\n",
       "      <td>-0.122901</td>\n",
       "      <td>-0.033906</td>\n",
       "      <td>0.975604</td>\n",
       "      <td>1.000000</td>\n",
       "    </tr>\n",
       "  </tbody>\n",
       "</table>\n",
       "</div>"
      ],
      "text/plain": [
       "               f0        f1        f2   product\n",
       "f0       1.000000  0.182247 -0.002024 -0.122901\n",
       "f1       0.182247  1.000000 -0.003674 -0.033906\n",
       "f2      -0.002024 -0.003674  1.000000  0.975604\n",
       "product -0.122901 -0.033906  0.975604  1.000000"
      ]
     },
     "metadata": {},
     "output_type": "display_data"
    },
    {
     "data": {
      "text/plain": [
       "<AxesSubplot:>"
      ]
     },
     "execution_count": 27,
     "metadata": {},
     "output_type": "execute_result"
    },
    {
     "data": {
      "image/png": "[encoded data removed]",
      "text/plain": [
       "<Figure size 864x720 with 2 Axes>"
      ]
     },
     "metadata": {
      "needs_background": "light"
     },
     "output_type": "display_data"
    }
   ],
   "source": [
    "#Измерим корреляцию между признаками в датасете data_1\n",
    "#Уберем столбец 'id'\n",
    "data_1_corr = data_1.drop('id', axis=1)\n",
    "#Используем корреляцию Спирмана, так как не все признаки распределены нормально\n",
    "data_1_corr = data_1_corr.corr(method='spearman')\n",
    "display(data_1_corr)\n",
    "plt.figure(figsize=(12, 10))\n",
    "sns.heatmap(data_1_corr, annot=True, fmt='.2f')"
   ]
  },
  {
   "cell_type": "markdown",
   "metadata": {},
   "source": [
    "**Вывод:**\n",
    "\n",
    "Мы обнаружили очень высокую степень корреляции между параметрами:\n",
    " - 'product' и 'f2' = 0.98.\n",
    " \n",
    "Так же существует низкая корреляция между параметрами:\n",
    " - 'f1' и 'f0' = 0.18.\n",
    " - 'product' и 'f0' = -0.12.\n",
    " \n",
    "Между остальными параметрами корреляции нет."
   ]
  },
  {
   "cell_type": "markdown",
   "metadata": {},
   "source": [
    "**Проведем корреляционный анализ данных в датасете data_2.**"
   ]
  },
  {
   "cell_type": "code",
   "execution_count": 28,
   "metadata": {},
   "outputs": [
    {
     "data": {
      "text/html": [
       "<div>\n",
       "<style scoped>\n",
       "    .dataframe tbody tr th:only-of-type {\n",
       "        vertical-align: middle;\n",
       "    }\n",
       "\n",
       "    .dataframe tbody tr th {\n",
       "        vertical-align: top;\n",
       "    }\n",
       "\n",
       "    .dataframe thead th {\n",
       "        text-align: right;\n",
       "    }\n",
       "</style>\n",
       "<table border=\"1\" class=\"dataframe\">\n",
       "  <thead>\n",
       "    <tr style=\"text-align: right;\">\n",
       "      <th></th>\n",
       "      <th>f0</th>\n",
       "      <th>f1</th>\n",
       "      <th>f2</th>\n",
       "      <th>product</th>\n",
       "    </tr>\n",
       "  </thead>\n",
       "  <tbody>\n",
       "    <tr>\n",
       "      <th>f0</th>\n",
       "      <td>1.000000</td>\n",
       "      <td>0.002471</td>\n",
       "      <td>0.000046</td>\n",
       "      <td>-0.002453</td>\n",
       "    </tr>\n",
       "    <tr>\n",
       "      <th>f1</th>\n",
       "      <td>0.002471</td>\n",
       "      <td>1.000000</td>\n",
       "      <td>0.000349</td>\n",
       "      <td>-0.001508</td>\n",
       "    </tr>\n",
       "    <tr>\n",
       "      <th>f2</th>\n",
       "      <td>0.000046</td>\n",
       "      <td>0.000349</td>\n",
       "      <td>1.000000</td>\n",
       "      <td>0.448459</td>\n",
       "    </tr>\n",
       "    <tr>\n",
       "      <th>product</th>\n",
       "      <td>-0.002453</td>\n",
       "      <td>-0.001508</td>\n",
       "      <td>0.448459</td>\n",
       "      <td>1.000000</td>\n",
       "    </tr>\n",
       "  </tbody>\n",
       "</table>\n",
       "</div>"
      ],
      "text/plain": [
       "               f0        f1        f2   product\n",
       "f0       1.000000  0.002471  0.000046 -0.002453\n",
       "f1       0.002471  1.000000  0.000349 -0.001508\n",
       "f2       0.000046  0.000349  1.000000  0.448459\n",
       "product -0.002453 -0.001508  0.448459  1.000000"
      ]
     },
     "metadata": {},
     "output_type": "display_data"
    },
    {
     "data": {
      "text/plain": [
       "<AxesSubplot:>"
      ]
     },
     "execution_count": 28,
     "metadata": {},
     "output_type": "execute_result"
    },
    {
     "data": {
      "image/png": "[encoded data removed]",
      "text/plain": [
       "<Figure size 864x720 with 2 Axes>"
      ]
     },
     "metadata": {
      "needs_background": "light"
     },
     "output_type": "display_data"
    }
   ],
   "source": [
    "#Измерим корреляцию между признаками в датасете data_2\n",
    "#Уберем столбец 'id'\n",
    "data_2_corr = data_2.drop('id', axis=1)\n",
    "#Используем корреляцию Спирмана, так как не все признаки распределены нормально\n",
    "data_2_corr = data_2_corr.corr(method='spearman')\n",
    "display(data_2_corr)\n",
    "plt.figure(figsize=(12, 10))\n",
    "sns.heatmap(data_2_corr, annot=True, fmt='.2f')"
   ]
  },
  {
   "cell_type": "markdown",
   "metadata": {},
   "source": [
    "**Вывод:**\n",
    "\n",
    "Мы обнаружили среднюю степень корреляции между параметрами:\n",
    " - 'product' и 'f2' = 0.45.\n",
    " \n",
    "Между остальными параметрами корреляции нет."
   ]
  },
  {
   "cell_type": "markdown",
   "metadata": {},
   "source": [
    "## Обучение и проверка модели"
   ]
  },
  {
   "cell_type": "markdown",
   "metadata": {},
   "source": [
    "### Подготовка признаков."
   ]
  },
  {
   "cell_type": "markdown",
   "metadata": {},
   "source": [
    "**Напишем функцию для выделения признаков и разбиения данных на выборки.**"
   ]
  },
  {
   "cell_type": "code",
   "execution_count": 29,
   "metadata": {},
   "outputs": [],
   "source": [
    "scaler = StandardScaler()"
   ]
  },
  {
   "cell_type": "code",
   "execution_count": 30,
   "metadata": {},
   "outputs": [],
   "source": [
    "def tr_te_sp_dt(data, size=0.25, rand=12345):\n",
    "    features = data.drop(['id','product'], axis=1)\n",
    "    target = data['product']\n",
    "    \n",
    "    features_train, features_valid, target_train, target_valid = train_test_split(features, target, \n",
    "                                                                                  test_size=size, random_state=rand)\n",
    "    scaler.fit(features_train)\n",
    "    \n",
    "    features_train = pd.DataFrame(scaler.transform(features_train), index=target_train)\n",
    "    \n",
    "    features_valid = pd.DataFrame(scaler.transform(features_valid), index=target_valid)\n",
    "    \n",
    "    return features_train, features_valid, target_train, target_valid  "
   ]
  },
  {
   "cell_type": "code",
   "execution_count": 31,
   "metadata": {
    "scrolled": true
   },
   "outputs": [
    {
     "name": "stdout",
     "output_type": "stream",
     "text": [
      "Размер обучающей выборки (74992, 3)\n",
      "Размер тестовой выборки (24998, 3)\n"
     ]
    }
   ],
   "source": [
    "#Первое месторождение data_0\n",
    "features_train_data_0, features_valid_data_0, target_train_data_0, target_valid_data_0 = tr_te_sp_dt(data_0, 0.25)\n",
    "print(f'Размер обучающей выборки {features_train_data_0.shape}')\n",
    "print(f'Размер тестовой выборки {features_valid_data_0.shape}')"
   ]
  },
  {
   "cell_type": "code",
   "execution_count": 32,
   "metadata": {},
   "outputs": [
    {
     "name": "stdout",
     "output_type": "stream",
     "text": [
      "Размер обучающей выборки (74997, 3)\n",
      "Размер тестовой выборки (24999, 3)\n"
     ]
    }
   ],
   "source": [
    "#Второе месторождение data_1\n",
    "features_train_data_1, features_valid_data_1, target_train_data_1, target_valid_data_1 = tr_te_sp_dt(data_1, 0.25)\n",
    "print(f'Размер обучающей выборки {features_train_data_1.shape}')\n",
    "print(f'Размер тестовой выборки {features_valid_data_1.shape}')"
   ]
  },
  {
   "cell_type": "code",
   "execution_count": 33,
   "metadata": {},
   "outputs": [
    {
     "name": "stdout",
     "output_type": "stream",
     "text": [
      "Размер обучающей выборки (74997, 3)\n",
      "Размер тестовой выборки (24999, 3)\n"
     ]
    }
   ],
   "source": [
    "#Третье месторождение data_2\n",
    "features_train_data_2, features_valid_data_2, target_train_data_2, target_valid_data_2 = tr_te_sp_dt(data_2, 0.25)\n",
    "print(f'Размер обучающей выборки {features_train_data_2.shape}')\n",
    "print(f'Размер тестовой выборки {features_valid_data_2.shape}')"
   ]
  },
  {
   "cell_type": "markdown",
   "metadata": {},
   "source": [
    "**Вывод:** \n",
    " - Данные подготовлены для дальнейшей работы с ними.\n",
    " - Размеры выборок соответствуют нашим ожиданиям."
   ]
  },
  {
   "cell_type": "markdown",
   "metadata": {},
   "source": [
    "### Обучение моделей."
   ]
  },
  {
   "cell_type": "code",
   "execution_count": 34,
   "metadata": {},
   "outputs": [],
   "source": [
    "model = LinearRegression()"
   ]
  },
  {
   "cell_type": "markdown",
   "metadata": {},
   "source": [
    "Обучим модели на данных каждого месторождения. В начале создадим словарь, для удобства восприятия. В дальнейшем создадим из него датасет."
   ]
  },
  {
   "cell_type": "code",
   "execution_count": 35,
   "metadata": {},
   "outputs": [],
   "source": [
    "rmse_dict = {'mean_true':[], 'mean_pred':[], 'rmse':[]}"
   ]
  },
  {
   "cell_type": "markdown",
   "metadata": {},
   "source": [
    "Создадим функцию для обучения модели, расчета среднего значения предсказаний и rmse."
   ]
  },
  {
   "cell_type": "code",
   "execution_count": 36,
   "metadata": {},
   "outputs": [],
   "source": [
    "def rmse_dt(pred, target, model):\n",
    "    mean_true = target.mean()\n",
    "    mean_pred = pred.mean()\n",
    "    rmse = mean_squared_error(target, pred, squared=False)\n",
    "    return mean_true, mean_pred, rmse"
   ]
  },
  {
   "cell_type": "markdown",
   "metadata": {},
   "source": [
    "Рассчитаем среднее значение предсказаний и rmse для всех трех регионов."
   ]
  },
  {
   "cell_type": "code",
   "execution_count": 37,
   "metadata": {},
   "outputs": [],
   "source": [
    "model_0 = model.fit(features_train_data_0, target_train_data_0)\n",
    "prediction_0 = pd.Series(model_0.predict(features_valid_data_0), index=target_valid_data_0.index)\n",
    "\n",
    "mean_true_0, mean_pred_0, rmse_0 = rmse_dt(prediction_0, target_valid_data_0, model_0)\n",
    "\n",
    "rmse_dict['mean_true'].append(mean_true_0)\n",
    "rmse_dict['mean_pred'].append(mean_pred_0)\n",
    "rmse_dict['rmse'].append(rmse_0)"
   ]
  },
  {
   "cell_type": "code",
   "execution_count": 38,
   "metadata": {},
   "outputs": [],
   "source": [
    "model_1 = model.fit(features_train_data_1, target_train_data_1)\n",
    "prediction_1 = pd.Series(model_1.predict(features_valid_data_1), index=target_valid_data_1.index)\n",
    "\n",
    "mean_true_1, mean_pred_1, rmse_1 = rmse_dt(prediction_1, target_valid_data_1, model_1)\n",
    "\n",
    "rmse_dict['mean_true'].append(mean_true_1)\n",
    "rmse_dict['mean_pred'].append(mean_pred_1)\n",
    "rmse_dict['rmse'].append(rmse_1)"
   ]
  },
  {
   "cell_type": "code",
   "execution_count": 39,
   "metadata": {},
   "outputs": [],
   "source": [
    "model_2 = model.fit(features_train_data_2, target_train_data_2)\n",
    "prediction_2 = pd.Series(model_2.predict(features_valid_data_2), index=target_valid_data_2.index)\n",
    "\n",
    "mean_true_2, mean_pred_2, rmse_2 = rmse_dt(prediction_2, target_valid_data_2, model_2)\n",
    "\n",
    "rmse_dict['mean_true'].append(mean_true_2)\n",
    "rmse_dict['mean_pred'].append(mean_pred_2)\n",
    "rmse_dict['rmse'].append(rmse_2)"
   ]
  },
  {
   "cell_type": "markdown",
   "metadata": {},
   "source": [
    "### Сохраним предсказания и правильные ответы на валидационной выборке."
   ]
  },
  {
   "cell_type": "code",
   "execution_count": 40,
   "metadata": {},
   "outputs": [],
   "source": [
    "all_data = pd.DataFrame(rmse_dict, index=['data_0', 'data_1', 'data_2'])"
   ]
  },
  {
   "cell_type": "markdown",
   "metadata": {},
   "source": [
    "### Напечатаем на экране средний запас предсказанного сырья и RMSE модели."
   ]
  },
  {
   "cell_type": "code",
   "execution_count": 41,
   "metadata": {},
   "outputs": [
    {
     "data": {
      "text/html": [
       "<div>\n",
       "<style scoped>\n",
       "    .dataframe tbody tr th:only-of-type {\n",
       "        vertical-align: middle;\n",
       "    }\n",
       "\n",
       "    .dataframe tbody tr th {\n",
       "        vertical-align: top;\n",
       "    }\n",
       "\n",
       "    .dataframe thead th {\n",
       "        text-align: right;\n",
       "    }\n",
       "</style>\n",
       "<table border=\"1\" class=\"dataframe\">\n",
       "  <thead>\n",
       "    <tr style=\"text-align: right;\">\n",
       "      <th></th>\n",
       "      <th>mean_true</th>\n",
       "      <th>mean_pred</th>\n",
       "      <th>rmse</th>\n",
       "    </tr>\n",
       "  </thead>\n",
       "  <tbody>\n",
       "    <tr>\n",
       "      <th>data_0</th>\n",
       "      <td>92.158205</td>\n",
       "      <td>92.789156</td>\n",
       "      <td>37.853527</td>\n",
       "    </tr>\n",
       "    <tr>\n",
       "      <th>data_1</th>\n",
       "      <td>69.186044</td>\n",
       "      <td>69.178320</td>\n",
       "      <td>0.892059</td>\n",
       "    </tr>\n",
       "    <tr>\n",
       "      <th>data_2</th>\n",
       "      <td>94.785109</td>\n",
       "      <td>94.865725</td>\n",
       "      <td>40.075851</td>\n",
       "    </tr>\n",
       "  </tbody>\n",
       "</table>\n",
       "</div>"
      ],
      "text/plain": [
       "        mean_true  mean_pred       rmse\n",
       "data_0  92.158205  92.789156  37.853527\n",
       "data_1  69.186044  69.178320   0.892059\n",
       "data_2  94.785109  94.865725  40.075851"
      ]
     },
     "execution_count": 41,
     "metadata": {},
     "output_type": "execute_result"
    }
   ],
   "source": [
    "all_data"
   ]
  },
  {
   "cell_type": "markdown",
   "metadata": {},
   "source": [
    "### Проанализируем результаты."
   ]
  },
  {
   "cell_type": "markdown",
   "metadata": {},
   "source": [
    "**Вывод:**\n",
    " - Мы обучили три модели для трех регионов и предсказали целевые признаки.\n",
    " - Была получена метрика RMSE.\n",
    " - Метрика RMSE в первом и третьем регионах значительно выше, чем во втором регионе (~39).\n",
    " - Во втором регионе метрика RMSE равна ~0.9.\n",
    " - Во втором регионе предсказанное среднее ниже чем в первом и третьем - 69 против ~94."
   ]
  },
  {
   "cell_type": "markdown",
   "metadata": {},
   "source": [
    "## Подготовка к расчёту прибыли"
   ]
  },
  {
   "cell_type": "markdown",
   "metadata": {},
   "source": [
    "### Все ключевые значения для расчётов сохраните в отдельных переменных."
   ]
  },
  {
   "cell_type": "code",
   "execution_count": 42,
   "metadata": {},
   "outputs": [],
   "source": [
    "#Бюджет на разработку скважин в регионе\n",
    "BUDGET = 10 ** 10\n",
    "#Количесвто точек, исследуемых при разведке\n",
    "QUANTITY_PIV = 500\n",
    "#Количесвто лучших точек, выбранных для разработки\n",
    "BEST_PIV = 200\n",
    "#Цена тысячи баррелей нефти\n",
    "BAR_1000 = 450000"
   ]
  },
  {
   "cell_type": "markdown",
   "metadata": {},
   "source": [
    "### Рассчитаем достаточный объём сырья для безубыточной разработки новой скважины. Сравним полученный объём сырья со средним запасом в каждом регионе."
   ]
  },
  {
   "cell_type": "code",
   "execution_count": 43,
   "metadata": {
    "scrolled": true
   },
   "outputs": [
    {
     "name": "stdout",
     "output_type": "stream",
     "text": [
      "Объем для безубыточной разработки новой скважины: 111.11111111111111\n"
     ]
    }
   ],
   "source": [
    "volume_raw_mat = BUDGET / (BEST_PIV * BAR_1000)\n",
    "print(f'Объем для безубыточной разработки новой скважины: {volume_raw_mat}')"
   ]
  },
  {
   "cell_type": "markdown",
   "metadata": {},
   "source": [
    "Объем для безубыточной разработки новой скважины больше среднего количества сырья на скважину во всех трех регионах."
   ]
  },
  {
   "cell_type": "markdown",
   "metadata": {},
   "source": [
    "### Напишем выводы по этапу подготовки расчёта прибыли."
   ]
  },
  {
   "cell_type": "markdown",
   "metadata": {},
   "source": [
    "**Вывод:**\n",
    " - Мы посчитали объем для безубыточной разработки новой скважины, он оказался выше средних запасов нефти во всех регионах.\n",
    " - У нас в данных несколько тысяч точек, хотя компания может разведать 500 точек и выбрать из них 200 лучших, поэтому средний запас может быть больше объема для безубыточной разработки у 200 лучших точек."
   ]
  },
  {
   "cell_type": "markdown",
   "metadata": {},
   "source": [
    "## Расчёт прибыли и рисков "
   ]
  },
  {
   "cell_type": "markdown",
   "metadata": {},
   "source": [
    "**Напишем функцию для расчёта прибыли по выбранным скважинам и предсказаниям модели.**"
   ]
  },
  {
   "cell_type": "code",
   "execution_count": 44,
   "metadata": {},
   "outputs": [],
   "source": [
    "def profit(target, probab, count, prise):\n",
    "    \n",
    "    probs_sorted = probab.sort_values(ascending=False)\n",
    "    selected = target[probs_sorted.index][:count]\n",
    "    \n",
    "    return prise * selected.sum() - BUDGET"
   ]
  },
  {
   "cell_type": "markdown",
   "metadata": {},
   "source": [
    "## Применим технику Bootstrap с 1000 выборок, чтобы найти распределение прибыли."
   ]
  },
  {
   "cell_type": "code",
   "execution_count": 45,
   "metadata": {},
   "outputs": [],
   "source": [
    "state = np.random.RandomState(12345)"
   ]
  },
  {
   "cell_type": "code",
   "execution_count": 46,
   "metadata": {},
   "outputs": [],
   "source": [
    "def bootstrap(target, valid, count, state):\n",
    "    values = []\n",
    "    for i in range(1000):\n",
    "        target_subsample = target.sample(n=count, replace=True, random_state=state)\n",
    "        probs_subsample = valid[target_subsample.index]\n",
    "        x = profit(target_subsample, probs_subsample, BEST_PIV, BAR_1000)\n",
    "        values.append(x)\n",
    "        \n",
    "    values = pd.Series(values)\n",
    "    return values"
   ]
  },
  {
   "cell_type": "markdown",
   "metadata": {},
   "source": [
    "**Рассчитаем средную прибыль для 1000 различных вариантов разведки в первом регионе:**"
   ]
  },
  {
   "cell_type": "code",
   "execution_count": 47,
   "metadata": {
    "scrolled": true
   },
   "outputs": [
    {
     "name": "stdout",
     "output_type": "stream",
     "text": [
      "Средняя выручка: 409428038.62143606\n",
      "Доверительный интервал (95%): [-131536028.70166382, 944395582.7546725]\n",
      "Риск убытков в %: 7.1\n"
     ]
    }
   ],
   "source": [
    "val_0 = bootstrap(target_valid_data_0, prediction_0, QUANTITY_PIV, state)\n",
    "\n",
    "mean_0 = val_0.mean()\n",
    "min_0 = val_0.quantile(0.025)\n",
    "max_0 = val_0.quantile(0.975)\n",
    "risk_0 = (val_0 < 0).mean() * 100\n",
    "\n",
    "print(\"Средняя выручка:\", mean_0)\n",
    "print(\"Доверительный интервал (95%):\", [min_0, max_0])\n",
    "print(\"Риск убытков в %:\", risk_0)"
   ]
  },
  {
   "cell_type": "markdown",
   "metadata": {},
   "source": [
    "**Рассчитаем средную прибыль для 1000 различных вариантов разведки во втором регионе:**"
   ]
  },
  {
   "cell_type": "code",
   "execution_count": 48,
   "metadata": {},
   "outputs": [
    {
     "name": "stdout",
     "output_type": "stream",
     "text": [
      "Средняя выручка: 536400199.43510306\n",
      "Доверительный интервал (95%): [112954247.12370124, 998504156.6468805]\n",
      "Риск убытков в %: 0.3\n"
     ]
    }
   ],
   "source": [
    "val_1 = bootstrap(target_valid_data_1, prediction_1, QUANTITY_PIV, state)\n",
    "\n",
    "mean_1 = val_1.mean()\n",
    "min_1 = val_1.quantile(0.025)\n",
    "max_1 = val_1.quantile(0.975)\n",
    "risk_1 = (val_1 < 0).mean() * 100\n",
    "\n",
    "print(\"Средняя выручка:\", mean_1)\n",
    "print(\"Доверительный интервал (95%):\", [min_1, max_1])\n",
    "print(\"Риск убытков в %:\", risk_1)"
   ]
  },
  {
   "cell_type": "markdown",
   "metadata": {},
   "source": [
    "**Рассчитаем средную прибыль для 1000 различных вариантов разведки в третьем регионе:**"
   ]
  },
  {
   "cell_type": "code",
   "execution_count": 49,
   "metadata": {},
   "outputs": [
    {
     "name": "stdout",
     "output_type": "stream",
     "text": [
      "Средняя выручка: 339478034.1977997\n",
      "Доверительный интервал (95%): [-224089221.7440758, 847067587.6863929]\n",
      "Риск убытков в %: 11.799999999999999\n"
     ]
    }
   ],
   "source": [
    "val_2 = bootstrap(target_valid_data_2, prediction_2, QUANTITY_PIV, state)\n",
    "\n",
    "mean_2 = val_2.mean()\n",
    "min_2 = val_2.quantile(0.025)\n",
    "max_2 = val_2.quantile(0.975)\n",
    "risk_2 = (val_2 < 0).mean() * 100\n",
    "\n",
    "print(\"Средняя выручка:\", mean_2)\n",
    "print(\"Доверительный интервал (95%):\", [min_2, max_2])\n",
    "print(\"Риск убытков в %:\", risk_2)"
   ]
  },
  {
   "cell_type": "markdown",
   "metadata": {},
   "source": [
    "**Создадим датасет с всеми найденными характеристиками месторождений.**"
   ]
  },
  {
   "cell_type": "code",
   "execution_count": 50,
   "metadata": {},
   "outputs": [],
   "source": [
    "result_dict = {'Минимальная выручка':[min_0, min_1, min_2], \n",
    "              'Средняя выручка':[mean_0, mean_1, mean_2],\n",
    "              'Максимальна выручка':[max_0, max_1, max_2],\n",
    "              'Риск убытков в %' : [risk_0, risk_1, risk_2]}\n",
    "index = ['Первый регион', 'Второй регион', 'Третий регион']\n",
    "result_data = pd.DataFrame(data=result_dict, index=index)"
   ]
  },
  {
   "cell_type": "code",
   "execution_count": 51,
   "metadata": {
    "scrolled": true
   },
   "outputs": [
    {
     "data": {
      "text/html": [
       "<div>\n",
       "<style scoped>\n",
       "    .dataframe tbody tr th:only-of-type {\n",
       "        vertical-align: middle;\n",
       "    }\n",
       "\n",
       "    .dataframe tbody tr th {\n",
       "        vertical-align: top;\n",
       "    }\n",
       "\n",
       "    .dataframe thead th {\n",
       "        text-align: right;\n",
       "    }\n",
       "</style>\n",
       "<table border=\"1\" class=\"dataframe\">\n",
       "  <thead>\n",
       "    <tr style=\"text-align: right;\">\n",
       "      <th></th>\n",
       "      <th>Минимальная выручка</th>\n",
       "      <th>Средняя выручка</th>\n",
       "      <th>Максимальна выручка</th>\n",
       "      <th>Риск убытков в %</th>\n",
       "    </tr>\n",
       "  </thead>\n",
       "  <tbody>\n",
       "    <tr>\n",
       "      <th>Первый регион</th>\n",
       "      <td>-1.315360e+08</td>\n",
       "      <td>4.094280e+08</td>\n",
       "      <td>9.443956e+08</td>\n",
       "      <td>7.1</td>\n",
       "    </tr>\n",
       "    <tr>\n",
       "      <th>Второй регион</th>\n",
       "      <td>1.129542e+08</td>\n",
       "      <td>5.364002e+08</td>\n",
       "      <td>9.985042e+08</td>\n",
       "      <td>0.3</td>\n",
       "    </tr>\n",
       "    <tr>\n",
       "      <th>Третий регион</th>\n",
       "      <td>-2.240892e+08</td>\n",
       "      <td>3.394780e+08</td>\n",
       "      <td>8.470676e+08</td>\n",
       "      <td>11.8</td>\n",
       "    </tr>\n",
       "  </tbody>\n",
       "</table>\n",
       "</div>"
      ],
      "text/plain": [
       "               Минимальная выручка  Средняя выручка  Максимальна выручка  \\\n",
       "Первый регион        -1.315360e+08     4.094280e+08         9.443956e+08   \n",
       "Второй регион         1.129542e+08     5.364002e+08         9.985042e+08   \n",
       "Третий регион        -2.240892e+08     3.394780e+08         8.470676e+08   \n",
       "\n",
       "               Риск убытков в %  \n",
       "Первый регион               7.1  \n",
       "Второй регион               0.3  \n",
       "Третий регион              11.8  "
      ]
     },
     "execution_count": 51,
     "metadata": {},
     "output_type": "execute_result"
    }
   ],
   "source": [
    "result_data"
   ]
  },
  {
   "cell_type": "markdown",
   "metadata": {},
   "source": [
    "## Общий вывод."
   ]
  },
  {
   "cell_type": "markdown",
   "metadata": {},
   "source": [
    "**Сделаем общий вывод по проделанному исследованию.**"
   ]
  },
  {
   "cell_type": "markdown",
   "metadata": {},
   "source": [
    "Мы исследовали три датасета с регионами для разработки скважин. Мы искали регион с наиболее подходящими для разработки скважинами, опираясь на риск убытков и выработку нефти.\n",
    "\n",
    "Сделаем выводы по обзору данных:\n",
    "\n",
    "- В исследовани участвует три датасета.\n",
    "- Во всех датасетах одинаковое число строк и столбцов.\n",
    "- В датасетах не обнаружено пропусков.\n",
    "- В датасетах не обнаружено неправильных типов данных.\n",
    "- Данные в таблицах соответствуют описанию\n",
    "- Все названия столбцов приведены к змеиному регистру.\n",
    "\n",
    "Сделаем выводы по предобработке данных.\n",
    "\n",
    "- Не было обнаружено строк со значением \"пробел\"(' ') в столбцах 'id' датасетов data_0, data_1 и data_2.\n",
    "- Явных дубликатов обнаружено не было.\n",
    "- Были обнаружены и удалены неявные дубликаты в столбцах 'id'.\n",
    "\n",
    "Сделаем вывод по исследовательскому анализу данных:\n",
    "\n",
    "- Некоторые входные признаки в датасетах наспределены не нормально. В датасетах почти нет аномальных значений. Были обнаружены выбросы в данных в небольших диапазонах значений, но мы не будем их убирать.\n",
    "\n",
    "Сделаем выводы по подготовке к расчёту прибыли:\n",
    "\n",
    "- Мы посчитали объем для безубыточной разработки новой скважины, он оказался выше средних запасов нефти во всех регионах.\n",
    "- У нас в данных несколько тысяч точек, хотя компания может разведать 500 точек и выбрать из них 200 лучших, поэтому средний запас может быть больше объема для безубыточной разработки у 200 лучших точек."
   ]
  },
  {
   "cell_type": "code",
   "execution_count": 52,
   "metadata": {
    "scrolled": true
   },
   "outputs": [
    {
     "data": {
      "text/html": [
       "<div>\n",
       "<style scoped>\n",
       "    .dataframe tbody tr th:only-of-type {\n",
       "        vertical-align: middle;\n",
       "    }\n",
       "\n",
       "    .dataframe tbody tr th {\n",
       "        vertical-align: top;\n",
       "    }\n",
       "\n",
       "    .dataframe thead th {\n",
       "        text-align: right;\n",
       "    }\n",
       "</style>\n",
       "<table border=\"1\" class=\"dataframe\">\n",
       "  <thead>\n",
       "    <tr style=\"text-align: right;\">\n",
       "      <th></th>\n",
       "      <th>Минимальная выручка</th>\n",
       "      <th>Средняя выручка</th>\n",
       "      <th>Максимальна выручка</th>\n",
       "      <th>Риск убытков в %</th>\n",
       "    </tr>\n",
       "  </thead>\n",
       "  <tbody>\n",
       "    <tr>\n",
       "      <th>Первый регион</th>\n",
       "      <td>-1.315360e+08</td>\n",
       "      <td>4.094280e+08</td>\n",
       "      <td>9.443956e+08</td>\n",
       "      <td>7.1</td>\n",
       "    </tr>\n",
       "    <tr>\n",
       "      <th>Второй регион</th>\n",
       "      <td>1.129542e+08</td>\n",
       "      <td>5.364002e+08</td>\n",
       "      <td>9.985042e+08</td>\n",
       "      <td>0.3</td>\n",
       "    </tr>\n",
       "    <tr>\n",
       "      <th>Третий регион</th>\n",
       "      <td>-2.240892e+08</td>\n",
       "      <td>3.394780e+08</td>\n",
       "      <td>8.470676e+08</td>\n",
       "      <td>11.8</td>\n",
       "    </tr>\n",
       "  </tbody>\n",
       "</table>\n",
       "</div>"
      ],
      "text/plain": [
       "               Минимальная выручка  Средняя выручка  Максимальна выручка  \\\n",
       "Первый регион        -1.315360e+08     4.094280e+08         9.443956e+08   \n",
       "Второй регион         1.129542e+08     5.364002e+08         9.985042e+08   \n",
       "Третий регион        -2.240892e+08     3.394780e+08         8.470676e+08   \n",
       "\n",
       "               Риск убытков в %  \n",
       "Первый регион               7.1  \n",
       "Второй регион               0.3  \n",
       "Третий регион              11.8  "
      ]
     },
     "execution_count": 52,
     "metadata": {},
     "output_type": "execute_result"
    }
   ],
   "source": [
    "result_data"
   ]
  },
  {
   "cell_type": "markdown",
   "metadata": {},
   "source": [
    "Исходя из проведенного нами исследования можно сделать вывод, что наилучшим регионом для разработки является **второй регион**.\n",
    "\n",
    "Это обосновывается тем, что:\n",
    "\n",
    "- Минимальная выручка во втором регионе - положительная.\n",
    "- Средняя выручка во втором регионе выше, чем в остальных.\n",
    "- Максимальная выручка во втором регионе выше, чем в остальных.\n",
    "- Риск убытков во втором регионе сильно меньше, чем в первом и третьем - 0.3% против 7.1% в первом, и 11.8% в третьем.\n"
   ]
  },
  {
   "cell_type": "markdown",
   "metadata": {},
   "source": [
    "Поставьте 'x' в выполненных пунктах. Далее нажмите Shift+Enter."
   ]
  },
  {
   "cell_type": "markdown",
   "metadata": {},
   "source": [
    "- [x]  Jupyter Notebook открыт\n",
    "- [x]  Весь код выполняется без ошибок\n",
    "- [x]  Ячейки с кодом расположены в порядке исполнения\n",
    "- [x]  Выполнен шаг 1: данные подготовлены\n",
    "- [x]  Выполнен шаг 2: модели обучены и проверены\n",
    "    - [x]  Данные корректно разбиты на обучающую и валидационную выборки\n",
    "    - [x]  Модели обучены, предсказания сделаны\n",
    "    - [x]  Предсказания и правильные ответы на валидационной выборке сохранены\n",
    "    - [x]  На экране напечатаны результаты\n",
    "    - [x]  Сделаны выводы\n",
    "- [x]  Выполнен шаг 3: проведена подготовка к расчёту прибыли\n",
    "    - [x]  Для всех ключевых значений созданы константы Python\n",
    "    - [x]  Посчитано минимальное среднее количество продукта в месторождениях региона, достаточное для разработки\n",
    "    - [x]  По предыдущему пункту сделаны выводы\n",
    "    - [x]  Написана функция расчёта прибыли\n",
    "- [x]  Выполнен шаг 4: посчитаны риски и прибыль\n",
    "    - [x]  Проведена процедура *Bootstrap*\n",
    "    - [x]  Все параметры бутстрепа соответствуют условию\n",
    "    - [x]  Найдены все нужные величины\n",
    "    - [x]  Предложен регион для разработки месторождения\n",
    "    - [x]  Выбор региона обоснован"
   ]
  },
  {
   "cell_type": "markdown",
   "metadata": {},
   "source": [
    "<div class=\"alert alert-block alert-warning\">\n",
    "<b>Спасибо за ревью.</b>\n",
    "</div>"
   ]
  },
  {
   "cell_type": "code",
   "execution_count": null,
   "metadata": {},
   "outputs": [],
   "source": []
  }
 ],
 "metadata": {
  "ExecuteTimeLog": [
   {
    "duration": 11841,
    "start_time": "2024-10-11T13:26:17.108Z"
   },
   {
    "duration": 1749,
    "start_time": "2024-10-11T13:29:28.841Z"
   },
   {
    "duration": 30,
    "start_time": "2024-10-11T13:29:49.593Z"
   },
   {
    "duration": 417,
    "start_time": "2024-10-11T13:36:55.987Z"
   },
   {
    "duration": 312,
    "start_time": "2024-10-11T13:37:03.502Z"
   },
   {
    "duration": 399,
    "start_time": "2024-10-11T13:37:09.709Z"
   },
   {
    "duration": 3752,
    "start_time": "2024-10-11T13:38:05.634Z"
   },
   {
    "duration": 426,
    "start_time": "2024-10-11T13:38:13.150Z"
   },
   {
    "duration": 30,
    "start_time": "2024-10-11T13:42:02.624Z"
   },
   {
    "duration": 106,
    "start_time": "2024-10-11T13:42:51.920Z"
   },
   {
    "duration": 421,
    "start_time": "2024-10-11T13:43:04.889Z"
   },
   {
    "duration": 24,
    "start_time": "2024-10-11T13:43:08.201Z"
   },
   {
    "duration": 25,
    "start_time": "2024-10-11T13:43:10.721Z"
   },
   {
    "duration": 24,
    "start_time": "2024-10-11T13:46:20.554Z"
   },
   {
    "duration": 3,
    "start_time": "2024-10-11T14:07:46.095Z"
   },
   {
    "duration": 13,
    "start_time": "2024-10-11T14:07:55.255Z"
   },
   {
    "duration": 11,
    "start_time": "2024-10-11T14:08:07.279Z"
   },
   {
    "duration": 5,
    "start_time": "2024-10-11T14:08:17.631Z"
   },
   {
    "duration": 12,
    "start_time": "2024-10-11T14:08:30.431Z"
   },
   {
    "duration": 3,
    "start_time": "2024-10-11T14:08:38.319Z"
   },
   {
    "duration": 4,
    "start_time": "2024-10-11T14:08:40.360Z"
   },
   {
    "duration": 3,
    "start_time": "2024-10-11T14:08:54.751Z"
   },
   {
    "duration": 6,
    "start_time": "2024-10-11T14:08:56.512Z"
   },
   {
    "duration": 9,
    "start_time": "2024-10-11T14:09:12.640Z"
   },
   {
    "duration": 3,
    "start_time": "2024-10-11T14:09:21.448Z"
   },
   {
    "duration": 8,
    "start_time": "2024-10-11T14:09:22.944Z"
   },
   {
    "duration": 8,
    "start_time": "2024-10-11T14:09:57.660Z"
   },
   {
    "duration": 12,
    "start_time": "2024-10-11T14:10:21.409Z"
   },
   {
    "duration": 13,
    "start_time": "2024-10-11T14:18:48.302Z"
   },
   {
    "duration": 1009,
    "start_time": "2024-10-11T14:18:53.166Z"
   },
   {
    "duration": 14,
    "start_time": "2024-10-11T14:19:12.942Z"
   },
   {
    "duration": 49,
    "start_time": "2024-10-11T14:26:22.753Z"
   },
   {
    "duration": 42,
    "start_time": "2024-10-11T14:26:30.633Z"
   },
   {
    "duration": 41,
    "start_time": "2024-10-11T14:26:35.290Z"
   },
   {
    "duration": 37,
    "start_time": "2024-10-11T14:26:39.386Z"
   },
   {
    "duration": 36,
    "start_time": "2024-10-11T14:26:57.746Z"
   },
   {
    "duration": 35,
    "start_time": "2024-10-11T14:28:57.076Z"
   },
   {
    "duration": 42,
    "start_time": "2024-10-11T14:29:13.091Z"
   },
   {
    "duration": 43,
    "start_time": "2024-10-11T14:30:31.309Z"
   },
   {
    "duration": 134,
    "start_time": "2024-10-11T14:39:11.370Z"
   },
   {
    "duration": 3744,
    "start_time": "2024-10-11T14:39:37.850Z"
   },
   {
    "duration": 411,
    "start_time": "2024-10-11T14:39:41.597Z"
   },
   {
    "duration": 29,
    "start_time": "2024-10-11T14:39:42.010Z"
   },
   {
    "duration": 33,
    "start_time": "2024-10-11T14:39:42.041Z"
   },
   {
    "duration": 23,
    "start_time": "2024-10-11T14:39:42.076Z"
   },
   {
    "duration": 70,
    "start_time": "2024-10-11T14:39:42.100Z"
   },
   {
    "duration": 102,
    "start_time": "2024-10-11T14:39:42.171Z"
   },
   {
    "duration": 41,
    "start_time": "2024-10-11T14:39:42.274Z"
   },
   {
    "duration": 138,
    "start_time": "2024-10-11T14:39:46.786Z"
   },
   {
    "duration": 45,
    "start_time": "2024-10-11T14:40:58.132Z"
   },
   {
    "duration": 46,
    "start_time": "2024-10-11T14:41:11.723Z"
   },
   {
    "duration": 51,
    "start_time": "2024-10-11T14:41:26.811Z"
   },
   {
    "duration": 50,
    "start_time": "2024-10-11T14:41:36.092Z"
   },
   {
    "duration": 113,
    "start_time": "2024-10-11T14:55:04.453Z"
   },
   {
    "duration": 23,
    "start_time": "2024-10-11T14:55:14.861Z"
   },
   {
    "duration": 32,
    "start_time": "2024-10-11T14:55:30.005Z"
   },
   {
    "duration": 36,
    "start_time": "2024-10-11T15:28:52.059Z"
   },
   {
    "duration": 978,
    "start_time": "2024-10-11T15:28:55.930Z"
   },
   {
    "duration": 32,
    "start_time": "2024-10-11T15:29:13.546Z"
   },
   {
    "duration": 980,
    "start_time": "2024-10-11T15:30:04.779Z"
   },
   {
    "duration": 14,
    "start_time": "2024-10-11T15:30:28.710Z"
   },
   {
    "duration": 12,
    "start_time": "2024-10-11T15:31:02.916Z"
   },
   {
    "duration": 20,
    "start_time": "2024-10-11T15:31:15.884Z"
   },
   {
    "duration": 25,
    "start_time": "2024-10-11T15:31:34.403Z"
   },
   {
    "duration": 110,
    "start_time": "2024-10-11T15:35:51.790Z"
   },
   {
    "duration": 149,
    "start_time": "2024-10-11T15:37:00.552Z"
   },
   {
    "duration": 1084,
    "start_time": "2024-10-11T15:37:19.191Z"
   },
   {
    "duration": 1105,
    "start_time": "2024-10-11T15:37:24.983Z"
   },
   {
    "duration": 121,
    "start_time": "2024-10-11T15:37:34.952Z"
   },
   {
    "duration": 23,
    "start_time": "2024-10-11T15:39:40.777Z"
   },
   {
    "duration": 36,
    "start_time": "2024-10-11T15:40:27.225Z"
   },
   {
    "duration": 21,
    "start_time": "2024-10-11T15:40:34.466Z"
   },
   {
    "duration": 29,
    "start_time": "2024-10-11T15:45:04.675Z"
   },
   {
    "duration": 33,
    "start_time": "2024-10-11T15:45:43.421Z"
   },
   {
    "duration": 40,
    "start_time": "2024-10-11T15:46:09.904Z"
   },
   {
    "duration": 23,
    "start_time": "2024-10-11T15:46:47.838Z"
   },
   {
    "duration": 28,
    "start_time": "2024-10-11T15:46:52.374Z"
   },
   {
    "duration": 53,
    "start_time": "2024-10-11T15:46:56.630Z"
   },
   {
    "duration": 43,
    "start_time": "2024-10-11T15:49:31.648Z"
   },
   {
    "duration": 47,
    "start_time": "2024-10-11T15:51:24.313Z"
   },
   {
    "duration": 42,
    "start_time": "2024-10-11T15:51:48.913Z"
   },
   {
    "duration": 28,
    "start_time": "2024-10-11T15:52:10.538Z"
   },
   {
    "duration": 40,
    "start_time": "2024-10-11T15:52:16.274Z"
   },
   {
    "duration": 62,
    "start_time": "2024-10-11T15:52:35.811Z"
   },
   {
    "duration": 46,
    "start_time": "2024-10-11T16:06:28.635Z"
   },
   {
    "duration": 52,
    "start_time": "2024-10-11T16:09:24.621Z"
   },
   {
    "duration": 33,
    "start_time": "2024-10-11T16:09:39.037Z"
   },
   {
    "duration": 35,
    "start_time": "2024-10-11T16:09:59.838Z"
   },
   {
    "duration": 56,
    "start_time": "2024-10-11T16:10:24.446Z"
   },
   {
    "duration": 44,
    "start_time": "2024-10-11T16:11:50.102Z"
   },
   {
    "duration": 45,
    "start_time": "2024-10-11T16:12:18.182Z"
   },
   {
    "duration": 42,
    "start_time": "2024-10-11T16:12:34.263Z"
   },
   {
    "duration": 54,
    "start_time": "2024-10-11T16:21:37.509Z"
   },
   {
    "duration": 58,
    "start_time": "2024-10-11T16:22:23.686Z"
   },
   {
    "duration": 40,
    "start_time": "2024-10-11T16:22:27.093Z"
   },
   {
    "duration": 47,
    "start_time": "2024-10-11T16:22:56.758Z"
   },
   {
    "duration": 3817,
    "start_time": "2024-10-11T16:23:31.572Z"
   },
   {
    "duration": 445,
    "start_time": "2024-10-11T16:23:35.392Z"
   },
   {
    "duration": 50,
    "start_time": "2024-10-11T16:23:35.839Z"
   },
   {
    "duration": 25,
    "start_time": "2024-10-11T16:23:35.891Z"
   },
   {
    "duration": 90,
    "start_time": "2024-10-11T16:23:35.918Z"
   },
   {
    "duration": 43,
    "start_time": "2024-10-11T16:23:36.010Z"
   },
   {
    "duration": 47,
    "start_time": "2024-10-11T16:23:36.054Z"
   },
   {
    "duration": 58,
    "start_time": "2024-10-11T16:23:36.103Z"
   },
   {
    "duration": 161,
    "start_time": "2024-10-11T16:23:36.163Z"
   },
   {
    "duration": 58,
    "start_time": "2024-10-11T16:23:55.862Z"
   },
   {
    "duration": 49,
    "start_time": "2024-10-11T16:28:00.281Z"
   },
   {
    "duration": 47,
    "start_time": "2024-10-11T16:30:50.843Z"
   },
   {
    "duration": 3771,
    "start_time": "2024-10-11T17:42:25.207Z"
   },
   {
    "duration": 428,
    "start_time": "2024-10-11T17:42:28.980Z"
   },
   {
    "duration": 44,
    "start_time": "2024-10-11T17:42:29.409Z"
   },
   {
    "duration": 24,
    "start_time": "2024-10-11T17:42:29.455Z"
   },
   {
    "duration": 70,
    "start_time": "2024-10-11T17:42:29.483Z"
   },
   {
    "duration": 42,
    "start_time": "2024-10-11T17:42:29.555Z"
   },
   {
    "duration": 57,
    "start_time": "2024-10-11T17:42:29.599Z"
   },
   {
    "duration": 44,
    "start_time": "2024-10-11T17:42:29.658Z"
   },
   {
    "duration": 217,
    "start_time": "2024-10-11T17:42:29.704Z"
   },
   {
    "duration": 54,
    "start_time": "2024-10-11T17:42:29.922Z"
   },
   {
    "duration": 78,
    "start_time": "2024-10-11T17:42:29.978Z"
   },
   {
    "duration": 67,
    "start_time": "2024-10-11T17:42:30.059Z"
   },
   {
    "duration": 3894,
    "start_time": "2024-10-11T18:04:44.586Z"
   },
   {
    "duration": 463,
    "start_time": "2024-10-11T18:04:48.483Z"
   },
   {
    "duration": 43,
    "start_time": "2024-10-11T18:04:48.948Z"
   },
   {
    "duration": 24,
    "start_time": "2024-10-11T18:04:48.993Z"
   },
   {
    "duration": 57,
    "start_time": "2024-10-11T18:04:49.020Z"
   },
   {
    "duration": 47,
    "start_time": "2024-10-11T18:04:49.078Z"
   },
   {
    "duration": 69,
    "start_time": "2024-10-11T18:04:49.127Z"
   },
   {
    "duration": 58,
    "start_time": "2024-10-11T18:04:49.198Z"
   },
   {
    "duration": 172,
    "start_time": "2024-10-11T18:04:49.258Z"
   },
   {
    "duration": 58,
    "start_time": "2024-10-11T18:04:49.432Z"
   },
   {
    "duration": 69,
    "start_time": "2024-10-11T18:04:49.492Z"
   },
   {
    "duration": 47,
    "start_time": "2024-10-11T18:04:49.564Z"
   },
   {
    "duration": 4,
    "start_time": "2024-10-11T18:05:00.498Z"
   },
   {
    "duration": 339,
    "start_time": "2024-10-11T18:05:09.986Z"
   },
   {
    "duration": 8443,
    "start_time": "2024-10-14T14:09:48.081Z"
   },
   {
    "duration": 833,
    "start_time": "2024-10-14T14:09:56.526Z"
   },
   {
    "duration": 25,
    "start_time": "2024-10-14T14:09:57.361Z"
   },
   {
    "duration": 23,
    "start_time": "2024-10-14T14:09:57.388Z"
   },
   {
    "duration": 19,
    "start_time": "2024-10-14T14:09:57.412Z"
   },
   {
    "duration": 36,
    "start_time": "2024-10-14T14:09:57.432Z"
   },
   {
    "duration": 59,
    "start_time": "2024-10-14T14:09:57.469Z"
   },
   {
    "duration": 35,
    "start_time": "2024-10-14T14:09:57.529Z"
   },
   {
    "duration": 149,
    "start_time": "2024-10-14T14:09:57.566Z"
   },
   {
    "duration": 38,
    "start_time": "2024-10-14T14:09:57.717Z"
   },
   {
    "duration": 149,
    "start_time": "2024-10-14T14:09:57.757Z"
   },
   {
    "duration": 38,
    "start_time": "2024-10-14T14:09:57.908Z"
   },
   {
    "duration": 286,
    "start_time": "2024-10-14T14:15:07.322Z"
   },
   {
    "duration": 282,
    "start_time": "2024-10-14T14:16:41.757Z"
   },
   {
    "duration": 270,
    "start_time": "2024-10-14T14:38:12.880Z"
   },
   {
    "duration": 313,
    "start_time": "2024-10-14T14:38:28.986Z"
   },
   {
    "duration": 240,
    "start_time": "2024-10-14T14:40:37.955Z"
   },
   {
    "duration": 70,
    "start_time": "2024-10-14T14:43:27.909Z"
   },
   {
    "duration": 3,
    "start_time": "2024-10-14T14:43:39.982Z"
   },
   {
    "duration": 262,
    "start_time": "2024-10-14T14:44:00.654Z"
   },
   {
    "duration": 4,
    "start_time": "2024-10-14T14:46:48.677Z"
   },
   {
    "duration": 271,
    "start_time": "2024-10-14T14:48:07.725Z"
   },
   {
    "duration": 236,
    "start_time": "2024-10-14T14:48:30.256Z"
   },
   {
    "duration": 238,
    "start_time": "2024-10-14T14:48:48.184Z"
   },
   {
    "duration": 3,
    "start_time": "2024-10-14T14:55:46.724Z"
   },
   {
    "duration": 352,
    "start_time": "2024-10-14T14:55:49.909Z"
   },
   {
    "duration": 234,
    "start_time": "2024-10-14T14:55:57.997Z"
   },
   {
    "duration": 238,
    "start_time": "2024-10-14T14:56:06.221Z"
   },
   {
    "duration": 271,
    "start_time": "2024-10-14T14:58:40.175Z"
   },
   {
    "duration": 859,
    "start_time": "2024-10-14T15:00:10.840Z"
   },
   {
    "duration": 251,
    "start_time": "2024-10-14T15:00:59.816Z"
   },
   {
    "duration": 268,
    "start_time": "2024-10-14T16:07:55.553Z"
   },
   {
    "duration": 253,
    "start_time": "2024-10-14T16:12:30.971Z"
   },
   {
    "duration": 243,
    "start_time": "2024-10-14T16:15:01.606Z"
   },
   {
    "duration": 356,
    "start_time": "2024-10-14T16:17:34.527Z"
   },
   {
    "duration": 289,
    "start_time": "2024-10-14T16:19:51.210Z"
   },
   {
    "duration": 8829,
    "start_time": "2024-10-15T14:42:53.209Z"
   },
   {
    "duration": 1853,
    "start_time": "2024-10-15T14:43:02.041Z"
   },
   {
    "duration": 30,
    "start_time": "2024-10-15T14:43:03.896Z"
   },
   {
    "duration": 25,
    "start_time": "2024-10-15T14:43:03.928Z"
   },
   {
    "duration": 51,
    "start_time": "2024-10-15T14:43:03.956Z"
   },
   {
    "duration": 44,
    "start_time": "2024-10-15T14:43:04.008Z"
   },
   {
    "duration": 63,
    "start_time": "2024-10-15T14:43:04.054Z"
   },
   {
    "duration": 46,
    "start_time": "2024-10-15T14:43:04.120Z"
   },
   {
    "duration": 171,
    "start_time": "2024-10-15T14:43:04.168Z"
   },
   {
    "duration": 44,
    "start_time": "2024-10-15T14:43:04.340Z"
   },
   {
    "duration": 57,
    "start_time": "2024-10-15T14:43:04.398Z"
   },
   {
    "duration": 53,
    "start_time": "2024-10-15T14:43:04.457Z"
   },
   {
    "duration": 4,
    "start_time": "2024-10-15T14:43:04.512Z"
   },
   {
    "duration": 352,
    "start_time": "2024-10-15T14:43:04.518Z"
   },
   {
    "duration": 288,
    "start_time": "2024-10-15T14:43:04.871Z"
   },
   {
    "duration": 291,
    "start_time": "2024-10-15T14:43:05.161Z"
   },
   {
    "duration": 397,
    "start_time": "2024-10-15T14:43:05.453Z"
   },
   {
    "duration": 318,
    "start_time": "2024-10-15T14:43:05.852Z"
   },
   {
    "duration": 293,
    "start_time": "2024-10-15T14:43:06.172Z"
   },
   {
    "duration": 310,
    "start_time": "2024-10-15T14:43:06.466Z"
   },
   {
    "duration": 328,
    "start_time": "2024-10-15T14:43:06.778Z"
   },
   {
    "duration": 346,
    "start_time": "2024-10-15T14:43:17.203Z"
   },
   {
    "duration": 3762,
    "start_time": "2024-10-15T16:38:06.809Z"
   },
   {
    "duration": 429,
    "start_time": "2024-10-15T16:38:10.573Z"
   },
   {
    "duration": 30,
    "start_time": "2024-10-15T16:38:11.004Z"
   },
   {
    "duration": 23,
    "start_time": "2024-10-15T16:38:11.036Z"
   },
   {
    "duration": 47,
    "start_time": "2024-10-15T16:38:11.061Z"
   },
   {
    "duration": 62,
    "start_time": "2024-10-15T16:38:11.110Z"
   },
   {
    "duration": 44,
    "start_time": "2024-10-15T16:38:11.173Z"
   },
   {
    "duration": 43,
    "start_time": "2024-10-15T16:38:11.218Z"
   },
   {
    "duration": 159,
    "start_time": "2024-10-15T16:38:11.263Z"
   },
   {
    "duration": 46,
    "start_time": "2024-10-15T16:38:11.424Z"
   },
   {
    "duration": 66,
    "start_time": "2024-10-15T16:38:11.471Z"
   },
   {
    "duration": 67,
    "start_time": "2024-10-15T16:38:11.538Z"
   },
   {
    "duration": 5,
    "start_time": "2024-10-15T16:38:11.607Z"
   },
   {
    "duration": 353,
    "start_time": "2024-10-15T16:38:11.613Z"
   },
   {
    "duration": 290,
    "start_time": "2024-10-15T16:38:11.968Z"
   },
   {
    "duration": 294,
    "start_time": "2024-10-15T16:38:12.260Z"
   },
   {
    "duration": 401,
    "start_time": "2024-10-15T16:38:12.556Z"
   },
   {
    "duration": 308,
    "start_time": "2024-10-15T16:38:12.959Z"
   },
   {
    "duration": 288,
    "start_time": "2024-10-15T16:38:13.269Z"
   },
   {
    "duration": 301,
    "start_time": "2024-10-15T16:38:13.559Z"
   },
   {
    "duration": 325,
    "start_time": "2024-10-15T16:38:13.862Z"
   },
   {
    "duration": 321,
    "start_time": "2024-10-15T16:38:14.189Z"
   },
   {
    "duration": 392,
    "start_time": "2024-10-15T16:38:20.672Z"
   },
   {
    "duration": 272,
    "start_time": "2024-10-15T16:39:23.393Z"
   },
   {
    "duration": 293,
    "start_time": "2024-10-15T16:40:13.064Z"
   },
   {
    "duration": 485,
    "start_time": "2024-10-15T16:47:42.606Z"
   },
   {
    "duration": 368,
    "start_time": "2024-10-16T16:28:00.192Z"
   },
   {
    "duration": 451,
    "start_time": "2024-10-16T16:29:24.295Z"
   },
   {
    "duration": 372,
    "start_time": "2024-10-16T16:29:31.796Z"
   },
   {
    "duration": 414,
    "start_time": "2024-10-16T16:30:08.797Z"
   },
   {
    "duration": 394,
    "start_time": "2024-10-16T16:34:01.776Z"
   },
   {
    "duration": 336,
    "start_time": "2024-10-16T16:38:55.730Z"
   },
   {
    "duration": 8375,
    "start_time": "2024-10-18T15:50:40.211Z"
   },
   {
    "duration": 1804,
    "start_time": "2024-10-18T15:50:48.588Z"
   },
   {
    "duration": 30,
    "start_time": "2024-10-18T15:50:50.393Z"
   },
   {
    "duration": 22,
    "start_time": "2024-10-18T15:50:50.424Z"
   },
   {
    "duration": 69,
    "start_time": "2024-10-18T15:50:50.448Z"
   },
   {
    "duration": 43,
    "start_time": "2024-10-18T15:50:50.519Z"
   },
   {
    "duration": 58,
    "start_time": "2024-10-18T15:50:50.563Z"
   },
   {
    "duration": 45,
    "start_time": "2024-10-18T15:50:50.622Z"
   },
   {
    "duration": 161,
    "start_time": "2024-10-18T15:50:50.669Z"
   },
   {
    "duration": 47,
    "start_time": "2024-10-18T15:50:50.831Z"
   },
   {
    "duration": 61,
    "start_time": "2024-10-18T15:50:50.880Z"
   },
   {
    "duration": 65,
    "start_time": "2024-10-18T15:50:50.942Z"
   },
   {
    "duration": 4,
    "start_time": "2024-10-18T15:50:51.009Z"
   },
   {
    "duration": 381,
    "start_time": "2024-10-18T15:50:51.016Z"
   },
   {
    "duration": 284,
    "start_time": "2024-10-18T15:50:51.399Z"
   },
   {
    "duration": 293,
    "start_time": "2024-10-18T15:50:51.684Z"
   },
   {
    "duration": 400,
    "start_time": "2024-10-18T15:50:51.979Z"
   },
   {
    "duration": 304,
    "start_time": "2024-10-18T15:50:52.381Z"
   },
   {
    "duration": 297,
    "start_time": "2024-10-18T15:50:52.686Z"
   },
   {
    "duration": 301,
    "start_time": "2024-10-18T15:50:52.985Z"
   },
   {
    "duration": 321,
    "start_time": "2024-10-18T15:50:53.288Z"
   },
   {
    "duration": 318,
    "start_time": "2024-10-18T15:50:53.611Z"
   },
   {
    "duration": 399,
    "start_time": "2024-10-18T15:50:53.931Z"
   },
   {
    "duration": 292,
    "start_time": "2024-10-18T15:50:54.331Z"
   },
   {
    "duration": 319,
    "start_time": "2024-10-18T15:50:54.625Z"
   },
   {
    "duration": 52,
    "start_time": "2024-10-18T15:50:54.947Z"
   },
   {
    "duration": 0,
    "start_time": "2024-10-18T15:50:55.001Z"
   },
   {
    "duration": 3751,
    "start_time": "2024-10-18T15:51:29.212Z"
   },
   {
    "duration": 425,
    "start_time": "2024-10-18T15:51:32.965Z"
   },
   {
    "duration": 36,
    "start_time": "2024-10-18T15:51:33.391Z"
   },
   {
    "duration": 23,
    "start_time": "2024-10-18T15:51:33.430Z"
   },
   {
    "duration": 52,
    "start_time": "2024-10-18T15:51:33.455Z"
   },
   {
    "duration": 42,
    "start_time": "2024-10-18T15:51:33.509Z"
   },
   {
    "duration": 58,
    "start_time": "2024-10-18T15:51:33.552Z"
   },
   {
    "duration": 41,
    "start_time": "2024-10-18T15:51:33.611Z"
   },
   {
    "duration": 162,
    "start_time": "2024-10-18T15:51:33.653Z"
   },
   {
    "duration": 45,
    "start_time": "2024-10-18T15:51:33.817Z"
   },
   {
    "duration": 61,
    "start_time": "2024-10-18T15:51:33.863Z"
   },
   {
    "duration": 45,
    "start_time": "2024-10-18T15:51:33.926Z"
   },
   {
    "duration": 26,
    "start_time": "2024-10-18T15:51:33.972Z"
   },
   {
    "duration": 378,
    "start_time": "2024-10-18T15:51:34.000Z"
   },
   {
    "duration": 274,
    "start_time": "2024-10-18T15:51:34.380Z"
   },
   {
    "duration": 294,
    "start_time": "2024-10-18T15:51:34.656Z"
   },
   {
    "duration": 389,
    "start_time": "2024-10-18T15:51:34.952Z"
   },
   {
    "duration": 302,
    "start_time": "2024-10-18T15:51:35.343Z"
   },
   {
    "duration": 279,
    "start_time": "2024-10-18T15:51:35.647Z"
   },
   {
    "duration": 300,
    "start_time": "2024-10-18T15:51:35.928Z"
   },
   {
    "duration": 318,
    "start_time": "2024-10-18T15:51:36.230Z"
   },
   {
    "duration": 323,
    "start_time": "2024-10-18T15:51:36.549Z"
   },
   {
    "duration": 407,
    "start_time": "2024-10-18T15:51:36.874Z"
   },
   {
    "duration": 299,
    "start_time": "2024-10-18T15:51:37.283Z"
   },
   {
    "duration": 309,
    "start_time": "2024-10-18T15:51:37.584Z"
   },
   {
    "duration": 497,
    "start_time": "2024-10-18T15:51:37.897Z"
   },
   {
    "duration": 436,
    "start_time": "2024-10-18T15:51:38.399Z"
   },
   {
    "duration": 416,
    "start_time": "2024-10-18T15:52:09.154Z"
   },
   {
    "duration": 3694,
    "start_time": "2024-10-18T16:41:39.562Z"
   },
   {
    "duration": 419,
    "start_time": "2024-10-18T16:41:43.258Z"
   },
   {
    "duration": 31,
    "start_time": "2024-10-18T16:41:43.679Z"
   },
   {
    "duration": 70,
    "start_time": "2024-10-18T16:41:43.711Z"
   },
   {
    "duration": 24,
    "start_time": "2024-10-18T16:41:43.783Z"
   },
   {
    "duration": 42,
    "start_time": "2024-10-18T16:41:43.809Z"
   },
   {
    "duration": 50,
    "start_time": "2024-10-18T16:41:43.853Z"
   },
   {
    "duration": 55,
    "start_time": "2024-10-18T16:41:43.904Z"
   },
   {
    "duration": 189,
    "start_time": "2024-10-18T16:41:43.960Z"
   },
   {
    "duration": 52,
    "start_time": "2024-10-18T16:41:44.151Z"
   },
   {
    "duration": 45,
    "start_time": "2024-10-18T16:41:44.204Z"
   },
   {
    "duration": 69,
    "start_time": "2024-10-18T16:41:44.251Z"
   },
   {
    "duration": 5,
    "start_time": "2024-10-18T16:41:44.321Z"
   },
   {
    "duration": 339,
    "start_time": "2024-10-18T16:41:44.328Z"
   },
   {
    "duration": 278,
    "start_time": "2024-10-18T16:41:44.669Z"
   },
   {
    "duration": 386,
    "start_time": "2024-10-18T16:41:44.948Z"
   },
   {
    "duration": 299,
    "start_time": "2024-10-18T16:41:45.336Z"
   },
   {
    "duration": 307,
    "start_time": "2024-10-18T16:41:45.637Z"
   },
   {
    "duration": 278,
    "start_time": "2024-10-18T16:41:45.946Z"
   },
   {
    "duration": 300,
    "start_time": "2024-10-18T16:41:46.225Z"
   },
   {
    "duration": 327,
    "start_time": "2024-10-18T16:41:46.526Z"
   },
   {
    "duration": 404,
    "start_time": "2024-10-18T16:41:46.855Z"
   },
   {
    "duration": 297,
    "start_time": "2024-10-18T16:41:47.260Z"
   },
   {
    "duration": 284,
    "start_time": "2024-10-18T16:41:47.558Z"
   },
   {
    "duration": 300,
    "start_time": "2024-10-18T16:41:47.844Z"
   },
   {
    "duration": 462,
    "start_time": "2024-10-18T16:41:48.146Z"
   },
   {
    "duration": 419,
    "start_time": "2024-10-18T16:41:48.610Z"
   },
   {
    "duration": 400,
    "start_time": "2024-10-18T16:41:49.031Z"
   },
   {
    "duration": 3835,
    "start_time": "2024-10-18T16:54:25.496Z"
   },
   {
    "duration": 451,
    "start_time": "2024-10-18T16:54:29.334Z"
   },
   {
    "duration": 40,
    "start_time": "2024-10-18T16:54:29.787Z"
   },
   {
    "duration": 26,
    "start_time": "2024-10-18T16:54:29.829Z"
   },
   {
    "duration": 51,
    "start_time": "2024-10-18T16:54:29.858Z"
   },
   {
    "duration": 48,
    "start_time": "2024-10-18T16:54:29.912Z"
   },
   {
    "duration": 72,
    "start_time": "2024-10-18T16:54:29.962Z"
   },
   {
    "duration": 44,
    "start_time": "2024-10-18T16:54:30.036Z"
   },
   {
    "duration": 158,
    "start_time": "2024-10-18T16:54:30.081Z"
   },
   {
    "duration": 58,
    "start_time": "2024-10-18T16:54:30.241Z"
   },
   {
    "duration": 77,
    "start_time": "2024-10-18T16:54:30.300Z"
   },
   {
    "duration": 48,
    "start_time": "2024-10-18T16:54:30.379Z"
   },
   {
    "duration": 15,
    "start_time": "2024-10-18T16:54:30.428Z"
   },
   {
    "duration": 334,
    "start_time": "2024-10-18T16:54:30.446Z"
   },
   {
    "duration": 291,
    "start_time": "2024-10-18T16:54:30.782Z"
   },
   {
    "duration": 382,
    "start_time": "2024-10-18T16:54:31.075Z"
   },
   {
    "duration": 322,
    "start_time": "2024-10-18T16:54:31.459Z"
   },
   {
    "duration": 329,
    "start_time": "2024-10-18T16:54:31.783Z"
   },
   {
    "duration": 307,
    "start_time": "2024-10-18T16:54:32.114Z"
   },
   {
    "duration": 317,
    "start_time": "2024-10-18T16:54:32.422Z"
   },
   {
    "duration": 328,
    "start_time": "2024-10-18T16:54:32.741Z"
   },
   {
    "duration": 409,
    "start_time": "2024-10-18T16:54:33.071Z"
   },
   {
    "duration": 310,
    "start_time": "2024-10-18T16:54:33.481Z"
   },
   {
    "duration": 294,
    "start_time": "2024-10-18T16:54:33.797Z"
   },
   {
    "duration": 318,
    "start_time": "2024-10-18T16:54:34.093Z"
   },
   {
    "duration": 487,
    "start_time": "2024-10-18T16:54:34.413Z"
   },
   {
    "duration": 423,
    "start_time": "2024-10-18T16:54:34.902Z"
   },
   {
    "duration": 406,
    "start_time": "2024-10-18T16:54:35.327Z"
   },
   {
    "duration": 116,
    "start_time": "2024-10-18T17:21:49.795Z"
   },
   {
    "duration": 3842,
    "start_time": "2024-10-18T17:22:28.016Z"
   },
   {
    "duration": 431,
    "start_time": "2024-10-18T17:22:31.860Z"
   },
   {
    "duration": 31,
    "start_time": "2024-10-18T17:22:32.292Z"
   },
   {
    "duration": 24,
    "start_time": "2024-10-18T17:22:32.324Z"
   },
   {
    "duration": 53,
    "start_time": "2024-10-18T17:22:32.350Z"
   },
   {
    "duration": 42,
    "start_time": "2024-10-18T17:22:32.405Z"
   },
   {
    "duration": 65,
    "start_time": "2024-10-18T17:22:32.448Z"
   },
   {
    "duration": 56,
    "start_time": "2024-10-18T17:22:32.514Z"
   },
   {
    "duration": 145,
    "start_time": "2024-10-18T17:22:32.571Z"
   },
   {
    "duration": 45,
    "start_time": "2024-10-18T17:22:32.718Z"
   },
   {
    "duration": 66,
    "start_time": "2024-10-18T17:22:32.765Z"
   },
   {
    "duration": 68,
    "start_time": "2024-10-18T17:22:32.833Z"
   },
   {
    "duration": 5,
    "start_time": "2024-10-18T17:22:32.903Z"
   },
   {
    "duration": 359,
    "start_time": "2024-10-18T17:22:32.912Z"
   },
   {
    "duration": 279,
    "start_time": "2024-10-18T17:22:33.273Z"
   },
   {
    "duration": 382,
    "start_time": "2024-10-18T17:22:33.554Z"
   },
   {
    "duration": 310,
    "start_time": "2024-10-18T17:22:33.938Z"
   },
   {
    "duration": 318,
    "start_time": "2024-10-18T17:22:34.250Z"
   },
   {
    "duration": 285,
    "start_time": "2024-10-18T17:22:34.570Z"
   },
   {
    "duration": 304,
    "start_time": "2024-10-18T17:22:34.857Z"
   },
   {
    "duration": 314,
    "start_time": "2024-10-18T17:22:35.162Z"
   },
   {
    "duration": 408,
    "start_time": "2024-10-18T17:22:35.478Z"
   },
   {
    "duration": 302,
    "start_time": "2024-10-18T17:22:35.888Z"
   },
   {
    "duration": 277,
    "start_time": "2024-10-18T17:22:36.197Z"
   },
   {
    "duration": 299,
    "start_time": "2024-10-18T17:22:36.475Z"
   },
   {
    "duration": 504,
    "start_time": "2024-10-18T17:22:36.776Z"
   },
   {
    "duration": 396,
    "start_time": "2024-10-18T17:22:37.282Z"
   },
   {
    "duration": 443,
    "start_time": "2024-10-18T17:22:37.679Z"
   },
   {
    "duration": 3,
    "start_time": "2024-10-18T17:22:38.124Z"
   },
   {
    "duration": 5,
    "start_time": "2024-10-18T17:22:42.910Z"
   },
   {
    "duration": 136,
    "start_time": "2024-10-18T17:23:38.448Z"
   },
   {
    "duration": 59,
    "start_time": "2024-10-18T17:23:57.071Z"
   },
   {
    "duration": 4,
    "start_time": "2024-10-18T17:25:32.714Z"
   },
   {
    "duration": 57,
    "start_time": "2024-10-18T17:25:35.522Z"
   },
   {
    "duration": 4,
    "start_time": "2024-10-18T17:26:42.091Z"
   },
   {
    "duration": 117,
    "start_time": "2024-10-18T17:26:44.227Z"
   },
   {
    "duration": 21,
    "start_time": "2024-10-18T17:28:55.164Z"
   },
   {
    "duration": 22,
    "start_time": "2024-10-18T17:29:41.117Z"
   },
   {
    "duration": 6,
    "start_time": "2024-10-18T17:33:17.527Z"
   },
   {
    "duration": 25,
    "start_time": "2024-10-18T17:33:18.318Z"
   },
   {
    "duration": 21,
    "start_time": "2024-10-18T17:33:18.999Z"
   },
   {
    "duration": 20,
    "start_time": "2024-10-18T17:33:19.703Z"
   },
   {
    "duration": 3,
    "start_time": "2024-10-18T17:36:16.257Z"
   },
   {
    "duration": 3,
    "start_time": "2024-10-18T17:37:45.441Z"
   },
   {
    "duration": 3,
    "start_time": "2024-10-18T17:40:19.931Z"
   },
   {
    "duration": 3,
    "start_time": "2024-10-18T17:43:56.854Z"
   },
   {
    "duration": 175,
    "start_time": "2024-10-18T17:45:35.727Z"
   },
   {
    "duration": 3,
    "start_time": "2024-10-18T17:46:06.431Z"
   },
   {
    "duration": 17,
    "start_time": "2024-10-18T17:46:08.601Z"
   },
   {
    "duration": 4,
    "start_time": "2024-10-18T17:46:24.200Z"
   },
   {
    "duration": 3693,
    "start_time": "2024-10-18T17:47:34.860Z"
   },
   {
    "duration": 445,
    "start_time": "2024-10-18T17:47:38.555Z"
   },
   {
    "duration": 31,
    "start_time": "2024-10-18T17:47:39.001Z"
   },
   {
    "duration": 23,
    "start_time": "2024-10-18T17:47:39.036Z"
   },
   {
    "duration": 49,
    "start_time": "2024-10-18T17:47:39.060Z"
   },
   {
    "duration": 45,
    "start_time": "2024-10-18T17:47:39.111Z"
   },
   {
    "duration": 81,
    "start_time": "2024-10-18T17:47:39.159Z"
   },
   {
    "duration": 42,
    "start_time": "2024-10-18T17:47:39.242Z"
   },
   {
    "duration": 156,
    "start_time": "2024-10-18T17:47:39.286Z"
   },
   {
    "duration": 44,
    "start_time": "2024-10-18T17:47:39.444Z"
   },
   {
    "duration": 45,
    "start_time": "2024-10-18T17:47:39.498Z"
   },
   {
    "duration": 60,
    "start_time": "2024-10-18T17:47:39.545Z"
   },
   {
    "duration": 4,
    "start_time": "2024-10-18T17:47:39.607Z"
   },
   {
    "duration": 364,
    "start_time": "2024-10-18T17:47:39.612Z"
   },
   {
    "duration": 278,
    "start_time": "2024-10-18T17:47:39.977Z"
   },
   {
    "duration": 366,
    "start_time": "2024-10-18T17:47:40.256Z"
   },
   {
    "duration": 308,
    "start_time": "2024-10-18T17:47:40.623Z"
   },
   {
    "duration": 318,
    "start_time": "2024-10-18T17:47:40.933Z"
   },
   {
    "duration": 286,
    "start_time": "2024-10-18T17:47:41.253Z"
   },
   {
    "duration": 302,
    "start_time": "2024-10-18T17:47:41.541Z"
   },
   {
    "duration": 325,
    "start_time": "2024-10-18T17:47:41.845Z"
   },
   {
    "duration": 410,
    "start_time": "2024-10-18T17:47:42.171Z"
   },
   {
    "duration": 317,
    "start_time": "2024-10-18T17:47:42.583Z"
   },
   {
    "duration": 289,
    "start_time": "2024-10-18T17:47:42.902Z"
   },
   {
    "duration": 299,
    "start_time": "2024-10-18T17:47:43.192Z"
   },
   {
    "duration": 500,
    "start_time": "2024-10-18T17:47:43.493Z"
   },
   {
    "duration": 419,
    "start_time": "2024-10-18T17:47:43.995Z"
   },
   {
    "duration": 411,
    "start_time": "2024-10-18T17:47:44.418Z"
   },
   {
    "duration": 3,
    "start_time": "2024-10-18T17:47:44.831Z"
   },
   {
    "duration": 7,
    "start_time": "2024-10-18T17:47:44.835Z"
   },
   {
    "duration": 28,
    "start_time": "2024-10-18T17:47:44.843Z"
   },
   {
    "duration": 39,
    "start_time": "2024-10-18T17:47:44.873Z"
   },
   {
    "duration": 21,
    "start_time": "2024-10-18T17:47:44.913Z"
   },
   {
    "duration": 2,
    "start_time": "2024-10-18T17:47:44.936Z"
   },
   {
    "duration": 5,
    "start_time": "2024-10-18T17:47:44.939Z"
   },
   {
    "duration": 117,
    "start_time": "2024-10-18T17:47:44.945Z"
   },
   {
    "duration": 141,
    "start_time": "2024-10-18T17:47:45.064Z"
   },
   {
    "duration": 93,
    "start_time": "2024-10-18T17:47:45.207Z"
   },
   {
    "duration": 16,
    "start_time": "2024-10-18T17:49:15.643Z"
   },
   {
    "duration": 3,
    "start_time": "2024-10-18T17:49:31.914Z"
   },
   {
    "duration": 247,
    "start_time": "2024-10-18T17:50:30.954Z"
   },
   {
    "duration": 3,
    "start_time": "2024-10-18T17:51:07.387Z"
   },
   {
    "duration": 3,
    "start_time": "2024-10-18T17:51:20.515Z"
   },
   {
    "duration": 15,
    "start_time": "2024-10-18T17:51:22.380Z"
   },
   {
    "duration": 16,
    "start_time": "2024-10-18T17:51:23.651Z"
   },
   {
    "duration": 16,
    "start_time": "2024-10-18T17:51:24.372Z"
   },
   {
    "duration": 17,
    "start_time": "2024-10-18T17:52:30.989Z"
   },
   {
    "duration": 3829,
    "start_time": "2024-10-18T17:52:49.822Z"
   },
   {
    "duration": 422,
    "start_time": "2024-10-18T17:52:53.653Z"
   },
   {
    "duration": 37,
    "start_time": "2024-10-18T17:52:54.077Z"
   },
   {
    "duration": 24,
    "start_time": "2024-10-18T17:52:54.116Z"
   },
   {
    "duration": 24,
    "start_time": "2024-10-18T17:52:54.142Z"
   },
   {
    "duration": 71,
    "start_time": "2024-10-18T17:52:54.167Z"
   },
   {
    "duration": 89,
    "start_time": "2024-10-18T17:52:54.240Z"
   },
   {
    "duration": 44,
    "start_time": "2024-10-18T17:52:54.330Z"
   },
   {
    "duration": 162,
    "start_time": "2024-10-18T17:52:54.375Z"
   },
   {
    "duration": 59,
    "start_time": "2024-10-18T17:52:54.540Z"
   },
   {
    "duration": 46,
    "start_time": "2024-10-18T17:52:54.600Z"
   },
   {
    "duration": 66,
    "start_time": "2024-10-18T17:52:54.647Z"
   },
   {
    "duration": 3,
    "start_time": "2024-10-18T17:52:54.714Z"
   },
   {
    "duration": 351,
    "start_time": "2024-10-18T17:52:54.719Z"
   },
   {
    "duration": 278,
    "start_time": "2024-10-18T17:52:55.071Z"
   },
   {
    "duration": 369,
    "start_time": "2024-10-18T17:52:55.350Z"
   },
   {
    "duration": 304,
    "start_time": "2024-10-18T17:52:55.721Z"
   },
   {
    "duration": 317,
    "start_time": "2024-10-18T17:52:56.026Z"
   },
   {
    "duration": 296,
    "start_time": "2024-10-18T17:52:56.345Z"
   },
   {
    "duration": 303,
    "start_time": "2024-10-18T17:52:56.643Z"
   },
   {
    "duration": 319,
    "start_time": "2024-10-18T17:52:56.948Z"
   },
   {
    "duration": 399,
    "start_time": "2024-10-18T17:52:57.269Z"
   },
   {
    "duration": 300,
    "start_time": "2024-10-18T17:52:57.670Z"
   },
   {
    "duration": 281,
    "start_time": "2024-10-18T17:52:57.972Z"
   },
   {
    "duration": 329,
    "start_time": "2024-10-18T17:52:58.255Z"
   },
   {
    "duration": 498,
    "start_time": "2024-10-18T17:52:58.585Z"
   },
   {
    "duration": 463,
    "start_time": "2024-10-18T17:52:59.085Z"
   },
   {
    "duration": 403,
    "start_time": "2024-10-18T17:52:59.552Z"
   },
   {
    "duration": 3,
    "start_time": "2024-10-18T17:52:59.956Z"
   },
   {
    "duration": 4,
    "start_time": "2024-10-18T17:52:59.961Z"
   },
   {
    "duration": 41,
    "start_time": "2024-10-18T17:52:59.966Z"
   },
   {
    "duration": 22,
    "start_time": "2024-10-18T17:53:00.009Z"
   },
   {
    "duration": 50,
    "start_time": "2024-10-18T17:53:00.033Z"
   },
   {
    "duration": 65,
    "start_time": "2024-10-18T17:53:00.085Z"
   },
   {
    "duration": 150,
    "start_time": "2024-10-18T17:53:00.151Z"
   },
   {
    "duration": 48,
    "start_time": "2024-10-18T17:53:00.302Z"
   },
   {
    "duration": 250,
    "start_time": "2024-10-18T17:53:00.352Z"
   },
   {
    "duration": 108,
    "start_time": "2024-10-18T17:53:00.604Z"
   },
   {
    "duration": 188,
    "start_time": "2024-10-18T17:53:00.714Z"
   },
   {
    "duration": 3,
    "start_time": "2024-10-18T17:53:04.020Z"
   },
   {
    "duration": 8,
    "start_time": "2024-10-18T17:57:31.534Z"
   },
   {
    "duration": 7967,
    "start_time": "2024-10-19T18:34:21.579Z"
   },
   {
    "duration": 864,
    "start_time": "2024-10-19T18:34:29.548Z"
   },
   {
    "duration": 26,
    "start_time": "2024-10-19T18:34:30.413Z"
   },
   {
    "duration": 37,
    "start_time": "2024-10-19T18:34:30.440Z"
   },
   {
    "duration": 39,
    "start_time": "2024-10-19T18:34:30.480Z"
   },
   {
    "duration": 93,
    "start_time": "2024-10-19T18:34:30.521Z"
   },
   {
    "duration": 37,
    "start_time": "2024-10-19T18:34:30.616Z"
   },
   {
    "duration": 35,
    "start_time": "2024-10-19T18:34:30.654Z"
   },
   {
    "duration": 126,
    "start_time": "2024-10-19T18:34:30.691Z"
   },
   {
    "duration": 40,
    "start_time": "2024-10-19T18:34:30.818Z"
   },
   {
    "duration": 34,
    "start_time": "2024-10-19T18:34:30.859Z"
   },
   {
    "duration": 34,
    "start_time": "2024-10-19T18:34:30.894Z"
   },
   {
    "duration": 13,
    "start_time": "2024-10-19T18:34:30.930Z"
   },
   {
    "duration": 273,
    "start_time": "2024-10-19T18:34:30.957Z"
   },
   {
    "duration": 223,
    "start_time": "2024-10-19T18:34:31.231Z"
   },
   {
    "duration": 292,
    "start_time": "2024-10-19T18:34:31.456Z"
   },
   {
    "duration": 256,
    "start_time": "2024-10-19T18:34:31.749Z"
   },
   {
    "duration": 260,
    "start_time": "2024-10-19T18:34:32.007Z"
   },
   {
    "duration": 254,
    "start_time": "2024-10-19T18:34:32.269Z"
   },
   {
    "duration": 255,
    "start_time": "2024-10-19T18:34:32.524Z"
   },
   {
    "duration": 328,
    "start_time": "2024-10-19T18:34:32.780Z"
   },
   {
    "duration": 251,
    "start_time": "2024-10-19T18:34:33.111Z"
   },
   {
    "duration": 250,
    "start_time": "2024-10-19T18:34:33.363Z"
   },
   {
    "duration": 248,
    "start_time": "2024-10-19T18:34:33.615Z"
   },
   {
    "duration": 251,
    "start_time": "2024-10-19T18:34:33.865Z"
   },
   {
    "duration": 413,
    "start_time": "2024-10-19T18:34:34.117Z"
   },
   {
    "duration": 366,
    "start_time": "2024-10-19T18:34:34.531Z"
   },
   {
    "duration": 447,
    "start_time": "2024-10-19T18:34:34.898Z"
   },
   {
    "duration": 2,
    "start_time": "2024-10-19T18:34:35.346Z"
   },
   {
    "duration": 22,
    "start_time": "2024-10-19T18:34:35.357Z"
   },
   {
    "duration": 114,
    "start_time": "2024-10-19T18:34:35.381Z"
   },
   {
    "duration": 26,
    "start_time": "2024-10-19T18:34:35.496Z"
   },
   {
    "duration": 18,
    "start_time": "2024-10-19T18:34:35.523Z"
   },
   {
    "duration": 3,
    "start_time": "2024-10-19T18:34:35.542Z"
   },
   {
    "duration": 10,
    "start_time": "2024-10-19T18:34:35.546Z"
   },
   {
    "duration": 34,
    "start_time": "2024-10-19T18:34:35.557Z"
   },
   {
    "duration": 27,
    "start_time": "2024-10-19T18:34:35.592Z"
   },
   {
    "duration": 139,
    "start_time": "2024-10-19T18:34:35.621Z"
   },
   {
    "duration": 200,
    "start_time": "2024-10-19T18:34:35.762Z"
   },
   {
    "duration": 4,
    "start_time": "2024-10-19T18:34:35.963Z"
   },
   {
    "duration": 99,
    "start_time": "2024-10-19T18:34:36.064Z"
   },
   {
    "duration": 2,
    "start_time": "2024-10-19T18:34:48.462Z"
   },
   {
    "duration": 3,
    "start_time": "2024-10-19T18:35:18.169Z"
   },
   {
    "duration": 3,
    "start_time": "2024-10-19T18:36:48.865Z"
   },
   {
    "duration": 3,
    "start_time": "2024-10-19T18:56:08.213Z"
   },
   {
    "duration": 2,
    "start_time": "2024-10-19T18:59:24.713Z"
   },
   {
    "duration": 3,
    "start_time": "2024-10-19T19:00:48.905Z"
   },
   {
    "duration": 3,
    "start_time": "2024-10-19T19:02:17.384Z"
   },
   {
    "duration": 106,
    "start_time": "2024-10-19T19:03:51.251Z"
   },
   {
    "duration": 3623,
    "start_time": "2024-10-19T19:04:20.974Z"
   },
   {
    "duration": 324,
    "start_time": "2024-10-19T19:04:24.599Z"
   },
   {
    "duration": 33,
    "start_time": "2024-10-19T19:04:24.925Z"
   },
   {
    "duration": 18,
    "start_time": "2024-10-19T19:04:24.959Z"
   },
   {
    "duration": 17,
    "start_time": "2024-10-19T19:04:24.978Z"
   },
   {
    "duration": 32,
    "start_time": "2024-10-19T19:04:24.996Z"
   },
   {
    "duration": 56,
    "start_time": "2024-10-19T19:04:25.029Z"
   },
   {
    "duration": 32,
    "start_time": "2024-10-19T19:04:25.086Z"
   },
   {
    "duration": 121,
    "start_time": "2024-10-19T19:04:25.120Z"
   },
   {
    "duration": 40,
    "start_time": "2024-10-19T19:04:25.244Z"
   },
   {
    "duration": 33,
    "start_time": "2024-10-19T19:04:25.286Z"
   },
   {
    "duration": 114,
    "start_time": "2024-10-19T19:04:25.320Z"
   },
   {
    "duration": 3,
    "start_time": "2024-10-19T19:04:25.436Z"
   },
   {
    "duration": 267,
    "start_time": "2024-10-19T19:04:25.440Z"
   },
   {
    "duration": 212,
    "start_time": "2024-10-19T19:04:25.709Z"
   },
   {
    "duration": 283,
    "start_time": "2024-10-19T19:04:25.922Z"
   },
   {
    "duration": 242,
    "start_time": "2024-10-19T19:04:26.207Z"
   },
   {
    "duration": 254,
    "start_time": "2024-10-19T19:04:26.450Z"
   },
   {
    "duration": 225,
    "start_time": "2024-10-19T19:04:26.706Z"
   },
   {
    "duration": 238,
    "start_time": "2024-10-19T19:04:26.932Z"
   },
   {
    "duration": 246,
    "start_time": "2024-10-19T19:04:27.171Z"
   },
   {
    "duration": 309,
    "start_time": "2024-10-19T19:04:27.419Z"
   },
   {
    "duration": 239,
    "start_time": "2024-10-19T19:04:27.729Z"
   },
   {
    "duration": 220,
    "start_time": "2024-10-19T19:04:27.970Z"
   },
   {
    "duration": 256,
    "start_time": "2024-10-19T19:04:28.191Z"
   },
   {
    "duration": 455,
    "start_time": "2024-10-19T19:04:28.448Z"
   },
   {
    "duration": 341,
    "start_time": "2024-10-19T19:04:28.904Z"
   },
   {
    "duration": 362,
    "start_time": "2024-10-19T19:04:29.248Z"
   },
   {
    "duration": 2,
    "start_time": "2024-10-19T19:04:29.612Z"
   },
   {
    "duration": 5,
    "start_time": "2024-10-19T19:04:29.615Z"
   },
   {
    "duration": 19,
    "start_time": "2024-10-19T19:04:29.621Z"
   },
   {
    "duration": 17,
    "start_time": "2024-10-19T19:04:29.656Z"
   },
   {
    "duration": 17,
    "start_time": "2024-10-19T19:04:29.674Z"
   },
   {
    "duration": 2,
    "start_time": "2024-10-19T19:04:29.692Z"
   },
   {
    "duration": 4,
    "start_time": "2024-10-19T19:04:29.695Z"
   },
   {
    "duration": 5,
    "start_time": "2024-10-19T19:04:29.700Z"
   },
   {
    "duration": 81,
    "start_time": "2024-10-19T19:04:29.706Z"
   },
   {
    "duration": 169,
    "start_time": "2024-10-19T19:04:29.789Z"
   },
   {
    "duration": 11,
    "start_time": "2024-10-19T19:04:29.959Z"
   },
   {
    "duration": 88,
    "start_time": "2024-10-19T19:04:29.971Z"
   },
   {
    "duration": 98,
    "start_time": "2024-10-19T19:04:30.061Z"
   },
   {
    "duration": 53,
    "start_time": "2024-10-19T19:04:30.161Z"
   },
   {
    "duration": 41,
    "start_time": "2024-10-19T19:04:30.216Z"
   },
   {
    "duration": 2,
    "start_time": "2024-10-19T19:04:37.612Z"
   },
   {
    "duration": 2,
    "start_time": "2024-10-19T19:04:39.259Z"
   },
   {
    "duration": 3,
    "start_time": "2024-10-19T19:04:39.819Z"
   },
   {
    "duration": 1013,
    "start_time": "2024-10-19T19:04:40.290Z"
   },
   {
    "duration": 976,
    "start_time": "2024-10-19T19:05:45.708Z"
   },
   {
    "duration": 970,
    "start_time": "2024-10-19T19:05:51.460Z"
   },
   {
    "duration": 966,
    "start_time": "2024-10-19T19:14:09.833Z"
   },
   {
    "duration": 990,
    "start_time": "2024-10-19T19:15:24.070Z"
   },
   {
    "duration": 99,
    "start_time": "2024-10-19T19:20:06.789Z"
   },
   {
    "duration": 4,
    "start_time": "2024-10-19T19:20:30.917Z"
   },
   {
    "duration": 7,
    "start_time": "2024-10-19T19:20:39.269Z"
   },
   {
    "duration": 3584,
    "start_time": "2024-10-19T19:21:15.162Z"
   },
   {
    "duration": 330,
    "start_time": "2024-10-19T19:21:18.748Z"
   },
   {
    "duration": 23,
    "start_time": "2024-10-19T19:21:19.079Z"
   },
   {
    "duration": 18,
    "start_time": "2024-10-19T19:21:19.104Z"
   },
   {
    "duration": 40,
    "start_time": "2024-10-19T19:21:19.123Z"
   },
   {
    "duration": 32,
    "start_time": "2024-10-19T19:21:19.165Z"
   },
   {
    "duration": 33,
    "start_time": "2024-10-19T19:21:19.199Z"
   },
   {
    "duration": 49,
    "start_time": "2024-10-19T19:21:19.233Z"
   },
   {
    "duration": 120,
    "start_time": "2024-10-19T19:21:19.283Z"
   },
   {
    "duration": 35,
    "start_time": "2024-10-19T19:21:19.405Z"
   },
   {
    "duration": 51,
    "start_time": "2024-10-19T19:21:19.442Z"
   },
   {
    "duration": 35,
    "start_time": "2024-10-19T19:21:19.494Z"
   },
   {
    "duration": 67,
    "start_time": "2024-10-19T19:21:19.531Z"
   },
   {
    "duration": 286,
    "start_time": "2024-10-19T19:21:19.600Z"
   },
   {
    "duration": 227,
    "start_time": "2024-10-19T19:21:19.887Z"
   },
   {
    "duration": 302,
    "start_time": "2024-10-19T19:21:20.115Z"
   },
   {
    "duration": 244,
    "start_time": "2024-10-19T19:21:20.419Z"
   },
   {
    "duration": 249,
    "start_time": "2024-10-19T19:21:20.664Z"
   },
   {
    "duration": 233,
    "start_time": "2024-10-19T19:21:20.914Z"
   },
   {
    "duration": 246,
    "start_time": "2024-10-19T19:21:21.148Z"
   },
   {
    "duration": 252,
    "start_time": "2024-10-19T19:21:21.395Z"
   },
   {
    "duration": 317,
    "start_time": "2024-10-19T19:21:21.648Z"
   },
   {
    "duration": 242,
    "start_time": "2024-10-19T19:21:21.967Z"
   },
   {
    "duration": 232,
    "start_time": "2024-10-19T19:21:22.211Z"
   },
   {
    "duration": 243,
    "start_time": "2024-10-19T19:21:22.445Z"
   },
   {
    "duration": 425,
    "start_time": "2024-10-19T19:21:22.689Z"
   },
   {
    "duration": 344,
    "start_time": "2024-10-19T19:21:23.115Z"
   },
   {
    "duration": 383,
    "start_time": "2024-10-19T19:21:23.462Z"
   },
   {
    "duration": 2,
    "start_time": "2024-10-19T19:21:23.847Z"
   },
   {
    "duration": 11,
    "start_time": "2024-10-19T19:21:23.850Z"
   },
   {
    "duration": 23,
    "start_time": "2024-10-19T19:21:23.863Z"
   },
   {
    "duration": 18,
    "start_time": "2024-10-19T19:21:23.888Z"
   },
   {
    "duration": 18,
    "start_time": "2024-10-19T19:21:23.907Z"
   },
   {
    "duration": 3,
    "start_time": "2024-10-19T19:21:23.927Z"
   },
   {
    "duration": 2,
    "start_time": "2024-10-19T19:21:23.957Z"
   },
   {
    "duration": 3,
    "start_time": "2024-10-19T19:21:23.961Z"
   },
   {
    "duration": 98,
    "start_time": "2024-10-19T19:21:23.965Z"
   },
   {
    "duration": 99,
    "start_time": "2024-10-19T19:21:24.065Z"
   },
   {
    "duration": 103,
    "start_time": "2024-10-19T19:21:24.166Z"
   },
   {
    "duration": 3,
    "start_time": "2024-10-19T19:21:24.270Z"
   },
   {
    "duration": 85,
    "start_time": "2024-10-19T19:21:24.274Z"
   },
   {
    "duration": 4,
    "start_time": "2024-10-19T19:21:24.361Z"
   },
   {
    "duration": 3,
    "start_time": "2024-10-19T19:21:24.457Z"
   },
   {
    "duration": 7,
    "start_time": "2024-10-19T19:21:24.461Z"
   },
   {
    "duration": 3,
    "start_time": "2024-10-19T19:21:24.469Z"
   },
   {
    "duration": 5,
    "start_time": "2024-10-19T19:21:24.473Z"
   },
   {
    "duration": 1027,
    "start_time": "2024-10-19T19:21:24.479Z"
   },
   {
    "duration": 972,
    "start_time": "2024-10-19T19:21:25.508Z"
   },
   {
    "duration": 978,
    "start_time": "2024-10-19T19:21:26.481Z"
   },
   {
    "duration": 3,
    "start_time": "2024-10-19T19:21:27.461Z"
   },
   {
    "duration": 7,
    "start_time": "2024-10-19T19:21:56.654Z"
   },
   {
    "duration": 7,
    "start_time": "2024-10-19T19:34:18.031Z"
   },
   {
    "duration": 3556,
    "start_time": "2024-10-19T19:44:05.459Z"
   },
   {
    "duration": 324,
    "start_time": "2024-10-19T19:44:09.018Z"
   },
   {
    "duration": 23,
    "start_time": "2024-10-19T19:44:09.343Z"
   },
   {
    "duration": 18,
    "start_time": "2024-10-19T19:44:09.367Z"
   },
   {
    "duration": 17,
    "start_time": "2024-10-19T19:44:09.386Z"
   },
   {
    "duration": 55,
    "start_time": "2024-10-19T19:44:09.405Z"
   },
   {
    "duration": 101,
    "start_time": "2024-10-19T19:44:09.461Z"
   },
   {
    "duration": 50,
    "start_time": "2024-10-19T19:44:09.563Z"
   },
   {
    "duration": 137,
    "start_time": "2024-10-19T19:44:09.614Z"
   },
   {
    "duration": 34,
    "start_time": "2024-10-19T19:44:09.757Z"
   },
   {
    "duration": 36,
    "start_time": "2024-10-19T19:44:09.792Z"
   },
   {
    "duration": 53,
    "start_time": "2024-10-19T19:44:09.829Z"
   },
   {
    "duration": 3,
    "start_time": "2024-10-19T19:44:09.884Z"
   },
   {
    "duration": 286,
    "start_time": "2024-10-19T19:44:09.890Z"
   },
   {
    "duration": 224,
    "start_time": "2024-10-19T19:44:10.178Z"
   },
   {
    "duration": 301,
    "start_time": "2024-10-19T19:44:10.403Z"
   },
   {
    "duration": 252,
    "start_time": "2024-10-19T19:44:10.706Z"
   },
   {
    "duration": 250,
    "start_time": "2024-10-19T19:44:10.960Z"
   },
   {
    "duration": 229,
    "start_time": "2024-10-19T19:44:11.212Z"
   },
   {
    "duration": 249,
    "start_time": "2024-10-19T19:44:11.442Z"
   },
   {
    "duration": 275,
    "start_time": "2024-10-19T19:44:11.693Z"
   },
   {
    "duration": 310,
    "start_time": "2024-10-19T19:44:11.970Z"
   },
   {
    "duration": 246,
    "start_time": "2024-10-19T19:44:12.282Z"
   },
   {
    "duration": 229,
    "start_time": "2024-10-19T19:44:12.530Z"
   },
   {
    "duration": 245,
    "start_time": "2024-10-19T19:44:12.761Z"
   },
   {
    "duration": 429,
    "start_time": "2024-10-19T19:44:13.008Z"
   },
   {
    "duration": 344,
    "start_time": "2024-10-19T19:44:13.438Z"
   },
   {
    "duration": 376,
    "start_time": "2024-10-19T19:44:13.783Z"
   },
   {
    "duration": 3,
    "start_time": "2024-10-19T19:44:14.160Z"
   },
   {
    "duration": 6,
    "start_time": "2024-10-19T19:44:14.164Z"
   },
   {
    "duration": 20,
    "start_time": "2024-10-19T19:44:14.171Z"
   },
   {
    "duration": 18,
    "start_time": "2024-10-19T19:44:14.193Z"
   },
   {
    "duration": 95,
    "start_time": "2024-10-19T19:44:14.212Z"
   },
   {
    "duration": 3,
    "start_time": "2024-10-19T19:44:14.308Z"
   },
   {
    "duration": 6,
    "start_time": "2024-10-19T19:44:14.312Z"
   },
   {
    "duration": 8,
    "start_time": "2024-10-19T19:44:14.319Z"
   },
   {
    "duration": 30,
    "start_time": "2024-10-19T19:44:14.329Z"
   },
   {
    "duration": 107,
    "start_time": "2024-10-19T19:44:14.361Z"
   },
   {
    "duration": 96,
    "start_time": "2024-10-19T19:44:14.470Z"
   },
   {
    "duration": 92,
    "start_time": "2024-10-19T19:44:14.568Z"
   },
   {
    "duration": 96,
    "start_time": "2024-10-19T19:44:14.665Z"
   },
   {
    "duration": 55,
    "start_time": "2024-10-19T19:44:14.763Z"
   },
   {
    "duration": 6,
    "start_time": "2024-10-19T19:44:14.819Z"
   },
   {
    "duration": 10,
    "start_time": "2024-10-19T19:44:14.827Z"
   },
   {
    "duration": 5,
    "start_time": "2024-10-19T19:44:14.838Z"
   },
   {
    "duration": 21,
    "start_time": "2024-10-19T19:44:14.844Z"
   },
   {
    "duration": 1016,
    "start_time": "2024-10-19T19:44:14.867Z"
   },
   {
    "duration": 998,
    "start_time": "2024-10-19T19:44:15.885Z"
   },
   {
    "duration": 970,
    "start_time": "2024-10-19T19:44:16.884Z"
   },
   {
    "duration": 4,
    "start_time": "2024-10-19T19:44:17.855Z"
   },
   {
    "duration": 38,
    "start_time": "2024-10-19T19:44:17.860Z"
   },
   {
    "duration": 27,
    "start_time": "2024-10-19T19:44:17.899Z"
   },
   {
    "duration": 8272,
    "start_time": "2024-10-20T08:18:32.240Z"
   },
   {
    "duration": 1793,
    "start_time": "2024-10-20T08:18:40.514Z"
   },
   {
    "duration": 30,
    "start_time": "2024-10-20T08:18:42.309Z"
   },
   {
    "duration": 23,
    "start_time": "2024-10-20T08:18:42.340Z"
   },
   {
    "duration": 23,
    "start_time": "2024-10-20T08:18:42.365Z"
   },
   {
    "duration": 41,
    "start_time": "2024-10-20T08:18:42.389Z"
   },
   {
    "duration": 57,
    "start_time": "2024-10-20T08:18:42.431Z"
   },
   {
    "duration": 40,
    "start_time": "2024-10-20T08:18:42.489Z"
   },
   {
    "duration": 154,
    "start_time": "2024-10-20T08:18:42.530Z"
   },
   {
    "duration": 45,
    "start_time": "2024-10-20T08:18:42.685Z"
   },
   {
    "duration": 61,
    "start_time": "2024-10-20T08:18:42.731Z"
   },
   {
    "duration": 61,
    "start_time": "2024-10-20T08:18:42.793Z"
   },
   {
    "duration": 3,
    "start_time": "2024-10-20T08:18:42.856Z"
   },
   {
    "duration": 378,
    "start_time": "2024-10-20T08:18:42.862Z"
   },
   {
    "duration": 284,
    "start_time": "2024-10-20T08:18:43.242Z"
   },
   {
    "duration": 383,
    "start_time": "2024-10-20T08:18:43.528Z"
   },
   {
    "duration": 324,
    "start_time": "2024-10-20T08:18:43.913Z"
   },
   {
    "duration": 294,
    "start_time": "2024-10-20T08:18:44.239Z"
   },
   {
    "duration": 282,
    "start_time": "2024-10-20T08:18:44.535Z"
   },
   {
    "duration": 299,
    "start_time": "2024-10-20T08:18:44.819Z"
   },
   {
    "duration": 320,
    "start_time": "2024-10-20T08:18:45.120Z"
   },
   {
    "duration": 412,
    "start_time": "2024-10-20T08:18:45.442Z"
   },
   {
    "duration": 303,
    "start_time": "2024-10-20T08:18:45.856Z"
   },
   {
    "duration": 285,
    "start_time": "2024-10-20T08:18:46.161Z"
   },
   {
    "duration": 293,
    "start_time": "2024-10-20T08:18:46.447Z"
   },
   {
    "duration": 484,
    "start_time": "2024-10-20T08:18:46.742Z"
   },
   {
    "duration": 376,
    "start_time": "2024-10-20T08:18:47.228Z"
   },
   {
    "duration": 387,
    "start_time": "2024-10-20T08:18:47.605Z"
   },
   {
    "duration": 3,
    "start_time": "2024-10-20T08:18:47.994Z"
   },
   {
    "duration": 4,
    "start_time": "2024-10-20T08:18:47.999Z"
   },
   {
    "duration": 22,
    "start_time": "2024-10-20T08:18:48.005Z"
   },
   {
    "duration": 42,
    "start_time": "2024-10-20T08:18:48.029Z"
   },
   {
    "duration": 161,
    "start_time": "2024-10-20T08:18:48.072Z"
   },
   {
    "duration": 3,
    "start_time": "2024-10-20T08:18:48.234Z"
   },
   {
    "duration": 4,
    "start_time": "2024-10-20T08:18:48.238Z"
   },
   {
    "duration": 5,
    "start_time": "2024-10-20T08:18:48.251Z"
   },
   {
    "duration": 18,
    "start_time": "2024-10-20T08:18:48.257Z"
   },
   {
    "duration": 105,
    "start_time": "2024-10-20T08:18:48.351Z"
   },
   {
    "duration": 105,
    "start_time": "2024-10-20T08:18:48.459Z"
   },
   {
    "duration": 96,
    "start_time": "2024-10-20T08:18:48.656Z"
   },
   {
    "duration": 17,
    "start_time": "2024-10-20T08:18:48.756Z"
   },
   {
    "duration": 11,
    "start_time": "2024-10-20T08:18:48.775Z"
   },
   {
    "duration": 7,
    "start_time": "2024-10-20T08:18:48.788Z"
   },
   {
    "duration": 7,
    "start_time": "2024-10-20T08:18:48.796Z"
   },
   {
    "duration": 18,
    "start_time": "2024-10-20T08:18:48.804Z"
   },
   {
    "duration": 7,
    "start_time": "2024-10-20T08:18:48.823Z"
   },
   {
    "duration": 1447,
    "start_time": "2024-10-20T08:18:53.705Z"
   },
   {
    "duration": 1281,
    "start_time": "2024-10-20T08:19:06.265Z"
   },
   {
    "duration": 1311,
    "start_time": "2024-10-20T08:19:33.178Z"
   },
   {
    "duration": 1288,
    "start_time": "2024-10-20T08:20:01.889Z"
   },
   {
    "duration": 1288,
    "start_time": "2024-10-20T08:20:18.385Z"
   },
   {
    "duration": 3764,
    "start_time": "2024-10-20T08:20:48.843Z"
   },
   {
    "duration": 416,
    "start_time": "2024-10-20T08:20:52.609Z"
   },
   {
    "duration": 41,
    "start_time": "2024-10-20T08:20:53.027Z"
   },
   {
    "duration": 37,
    "start_time": "2024-10-20T08:20:53.070Z"
   },
   {
    "duration": 22,
    "start_time": "2024-10-20T08:20:53.109Z"
   },
   {
    "duration": 56,
    "start_time": "2024-10-20T08:20:53.153Z"
   },
   {
    "duration": 53,
    "start_time": "2024-10-20T08:20:53.210Z"
   },
   {
    "duration": 40,
    "start_time": "2024-10-20T08:20:53.266Z"
   },
   {
    "duration": 169,
    "start_time": "2024-10-20T08:20:53.308Z"
   },
   {
    "duration": 43,
    "start_time": "2024-10-20T08:20:53.479Z"
   },
   {
    "duration": 59,
    "start_time": "2024-10-20T08:20:53.524Z"
   },
   {
    "duration": 49,
    "start_time": "2024-10-20T08:20:53.585Z"
   },
   {
    "duration": 18,
    "start_time": "2024-10-20T08:20:53.635Z"
   },
   {
    "duration": 413,
    "start_time": "2024-10-20T08:20:53.654Z"
   },
   {
    "duration": 278,
    "start_time": "2024-10-20T08:20:54.070Z"
   },
   {
    "duration": 355,
    "start_time": "2024-10-20T08:20:54.351Z"
   },
   {
    "duration": 294,
    "start_time": "2024-10-20T08:20:54.707Z"
   },
   {
    "duration": 309,
    "start_time": "2024-10-20T08:20:55.003Z"
   },
   {
    "duration": 285,
    "start_time": "2024-10-20T08:20:55.314Z"
   },
   {
    "duration": 308,
    "start_time": "2024-10-20T08:20:55.600Z"
   },
   {
    "duration": 323,
    "start_time": "2024-10-20T08:20:55.909Z"
   },
   {
    "duration": 390,
    "start_time": "2024-10-20T08:20:56.234Z"
   },
   {
    "duration": 292,
    "start_time": "2024-10-20T08:20:56.625Z"
   },
   {
    "duration": 283,
    "start_time": "2024-10-20T08:20:56.919Z"
   },
   {
    "duration": 295,
    "start_time": "2024-10-20T08:20:57.204Z"
   },
   {
    "duration": 503,
    "start_time": "2024-10-20T08:20:57.501Z"
   },
   {
    "duration": 408,
    "start_time": "2024-10-20T08:20:58.005Z"
   },
   {
    "duration": 445,
    "start_time": "2024-10-20T08:20:58.416Z"
   },
   {
    "duration": 4,
    "start_time": "2024-10-20T08:20:58.863Z"
   },
   {
    "duration": 83,
    "start_time": "2024-10-20T08:20:58.869Z"
   },
   {
    "duration": 30,
    "start_time": "2024-10-20T08:20:58.954Z"
   },
   {
    "duration": 28,
    "start_time": "2024-10-20T08:20:58.986Z"
   },
   {
    "duration": 147,
    "start_time": "2024-10-20T08:20:59.015Z"
   },
   {
    "duration": 3,
    "start_time": "2024-10-20T08:20:59.164Z"
   },
   {
    "duration": 17,
    "start_time": "2024-10-20T08:20:59.169Z"
   },
   {
    "duration": 28,
    "start_time": "2024-10-20T08:20:59.188Z"
   },
   {
    "duration": 338,
    "start_time": "2024-10-20T08:20:59.217Z"
   },
   {
    "duration": 98,
    "start_time": "2024-10-20T08:20:59.557Z"
   },
   {
    "duration": 109,
    "start_time": "2024-10-20T08:20:59.657Z"
   },
   {
    "duration": 87,
    "start_time": "2024-10-20T08:20:59.768Z"
   },
   {
    "duration": 96,
    "start_time": "2024-10-20T08:20:59.858Z"
   },
   {
    "duration": 11,
    "start_time": "2024-10-20T08:20:59.955Z"
   },
   {
    "duration": 12,
    "start_time": "2024-10-20T08:20:59.967Z"
   },
   {
    "duration": 13,
    "start_time": "2024-10-20T08:20:59.981Z"
   },
   {
    "duration": 31,
    "start_time": "2024-10-20T08:20:59.995Z"
   },
   {
    "duration": 30,
    "start_time": "2024-10-20T08:21:00.028Z"
   },
   {
    "duration": 1402,
    "start_time": "2024-10-20T08:21:03.427Z"
   },
   {
    "duration": 1312,
    "start_time": "2024-10-20T08:21:24.251Z"
   },
   {
    "duration": 1342,
    "start_time": "2024-10-20T08:21:39.180Z"
   },
   {
    "duration": 3433,
    "start_time": "2024-10-20T08:22:04.195Z"
   },
   {
    "duration": 401,
    "start_time": "2024-10-20T08:22:07.630Z"
   },
   {
    "duration": 36,
    "start_time": "2024-10-20T08:22:08.033Z"
   },
   {
    "duration": 22,
    "start_time": "2024-10-20T08:22:08.071Z"
   },
   {
    "duration": 68,
    "start_time": "2024-10-20T08:22:08.094Z"
   },
   {
    "duration": 40,
    "start_time": "2024-10-20T08:22:08.163Z"
   },
   {
    "duration": 61,
    "start_time": "2024-10-20T08:22:08.204Z"
   },
   {
    "duration": 40,
    "start_time": "2024-10-20T08:22:08.267Z"
   },
   {
    "duration": 139,
    "start_time": "2024-10-20T08:22:08.308Z"
   },
   {
    "duration": 43,
    "start_time": "2024-10-20T08:22:08.453Z"
   },
   {
    "duration": 60,
    "start_time": "2024-10-20T08:22:08.497Z"
   },
   {
    "duration": 47,
    "start_time": "2024-10-20T08:22:08.558Z"
   },
   {
    "duration": 4,
    "start_time": "2024-10-20T08:22:08.607Z"
   },
   {
    "duration": 354,
    "start_time": "2024-10-20T08:22:08.612Z"
   },
   {
    "duration": 272,
    "start_time": "2024-10-20T08:22:08.967Z"
   },
   {
    "duration": 362,
    "start_time": "2024-10-20T08:22:09.241Z"
   },
   {
    "duration": 300,
    "start_time": "2024-10-20T08:22:09.604Z"
   },
   {
    "duration": 324,
    "start_time": "2024-10-20T08:22:09.905Z"
   },
   {
    "duration": 286,
    "start_time": "2024-10-20T08:22:10.230Z"
   },
   {
    "duration": 294,
    "start_time": "2024-10-20T08:22:10.518Z"
   },
   {
    "duration": 304,
    "start_time": "2024-10-20T08:22:10.814Z"
   },
   {
    "duration": 392,
    "start_time": "2024-10-20T08:22:11.120Z"
   },
   {
    "duration": 286,
    "start_time": "2024-10-20T08:22:11.514Z"
   },
   {
    "duration": 276,
    "start_time": "2024-10-20T08:22:11.802Z"
   },
   {
    "duration": 299,
    "start_time": "2024-10-20T08:22:12.079Z"
   },
   {
    "duration": 454,
    "start_time": "2024-10-20T08:22:12.379Z"
   },
   {
    "duration": 398,
    "start_time": "2024-10-20T08:22:12.835Z"
   },
   {
    "duration": 423,
    "start_time": "2024-10-20T08:22:13.237Z"
   },
   {
    "duration": 3,
    "start_time": "2024-10-20T08:22:13.661Z"
   },
   {
    "duration": 6,
    "start_time": "2024-10-20T08:22:13.665Z"
   },
   {
    "duration": 29,
    "start_time": "2024-10-20T08:22:13.672Z"
   },
   {
    "duration": 20,
    "start_time": "2024-10-20T08:22:13.702Z"
   },
   {
    "duration": 42,
    "start_time": "2024-10-20T08:22:13.723Z"
   },
   {
    "duration": 2,
    "start_time": "2024-10-20T08:22:13.767Z"
   },
   {
    "duration": 4,
    "start_time": "2024-10-20T08:22:13.770Z"
   },
   {
    "duration": 4,
    "start_time": "2024-10-20T08:22:13.776Z"
   },
   {
    "duration": 275,
    "start_time": "2024-10-20T08:22:13.781Z"
   },
   {
    "duration": 194,
    "start_time": "2024-10-20T08:22:14.058Z"
   },
   {
    "duration": 107,
    "start_time": "2024-10-20T08:22:14.254Z"
   },
   {
    "duration": 90,
    "start_time": "2024-10-20T08:22:14.363Z"
   },
   {
    "duration": 102,
    "start_time": "2024-10-20T08:22:14.455Z"
   },
   {
    "duration": 7,
    "start_time": "2024-10-20T08:22:14.559Z"
   },
   {
    "duration": 6,
    "start_time": "2024-10-20T08:22:14.567Z"
   },
   {
    "duration": 4,
    "start_time": "2024-10-20T08:22:14.574Z"
   },
   {
    "duration": 4,
    "start_time": "2024-10-20T08:22:14.579Z"
   },
   {
    "duration": 6,
    "start_time": "2024-10-20T08:22:14.584Z"
   },
   {
    "duration": 1343,
    "start_time": "2024-10-20T08:22:14.591Z"
   },
   {
    "duration": 1285,
    "start_time": "2024-10-20T08:22:15.936Z"
   },
   {
    "duration": 1286,
    "start_time": "2024-10-20T08:22:17.223Z"
   },
   {
    "duration": 5,
    "start_time": "2024-10-20T08:22:18.511Z"
   },
   {
    "duration": 17,
    "start_time": "2024-10-20T08:22:18.517Z"
   },
   {
    "duration": 22,
    "start_time": "2024-10-20T08:22:18.535Z"
   },
   {
    "duration": 1287,
    "start_time": "2024-10-20T08:23:00.932Z"
   },
   {
    "duration": 3470,
    "start_time": "2024-10-20T08:24:15.861Z"
   },
   {
    "duration": 404,
    "start_time": "2024-10-20T08:24:19.333Z"
   },
   {
    "duration": 36,
    "start_time": "2024-10-20T08:24:19.739Z"
   },
   {
    "duration": 28,
    "start_time": "2024-10-20T08:24:19.778Z"
   },
   {
    "duration": 48,
    "start_time": "2024-10-20T08:24:19.808Z"
   },
   {
    "duration": 40,
    "start_time": "2024-10-20T08:24:19.857Z"
   },
   {
    "duration": 58,
    "start_time": "2024-10-20T08:24:19.898Z"
   },
   {
    "duration": 40,
    "start_time": "2024-10-20T08:24:19.957Z"
   },
   {
    "duration": 150,
    "start_time": "2024-10-20T08:24:19.999Z"
   },
   {
    "duration": 43,
    "start_time": "2024-10-20T08:24:20.153Z"
   },
   {
    "duration": 60,
    "start_time": "2024-10-20T08:24:20.197Z"
   },
   {
    "duration": 43,
    "start_time": "2024-10-20T08:24:20.259Z"
   },
   {
    "duration": 3,
    "start_time": "2024-10-20T08:24:20.304Z"
   },
   {
    "duration": 337,
    "start_time": "2024-10-20T08:24:20.309Z"
   },
   {
    "duration": 255,
    "start_time": "2024-10-20T08:24:20.651Z"
   },
   {
    "duration": 369,
    "start_time": "2024-10-20T08:24:20.908Z"
   },
   {
    "duration": 286,
    "start_time": "2024-10-20T08:24:21.279Z"
   },
   {
    "duration": 290,
    "start_time": "2024-10-20T08:24:21.566Z"
   },
   {
    "duration": 274,
    "start_time": "2024-10-20T08:24:21.858Z"
   },
   {
    "duration": 284,
    "start_time": "2024-10-20T08:24:22.134Z"
   },
   {
    "duration": 304,
    "start_time": "2024-10-20T08:24:22.420Z"
   },
   {
    "duration": 368,
    "start_time": "2024-10-20T08:24:22.725Z"
   },
   {
    "duration": 277,
    "start_time": "2024-10-20T08:24:23.095Z"
   },
   {
    "duration": 260,
    "start_time": "2024-10-20T08:24:23.374Z"
   },
   {
    "duration": 319,
    "start_time": "2024-10-20T08:24:23.636Z"
   },
   {
    "duration": 466,
    "start_time": "2024-10-20T08:24:23.958Z"
   },
   {
    "duration": 372,
    "start_time": "2024-10-20T08:24:24.426Z"
   },
   {
    "duration": 392,
    "start_time": "2024-10-20T08:24:24.802Z"
   },
   {
    "duration": 3,
    "start_time": "2024-10-20T08:24:25.196Z"
   },
   {
    "duration": 9,
    "start_time": "2024-10-20T08:24:25.200Z"
   },
   {
    "duration": 30,
    "start_time": "2024-10-20T08:24:25.211Z"
   },
   {
    "duration": 27,
    "start_time": "2024-10-20T08:24:25.243Z"
   },
   {
    "duration": 22,
    "start_time": "2024-10-20T08:24:25.272Z"
   },
   {
    "duration": 2,
    "start_time": "2024-10-20T08:24:25.296Z"
   },
   {
    "duration": 8,
    "start_time": "2024-10-20T08:24:25.300Z"
   },
   {
    "duration": 111,
    "start_time": "2024-10-20T08:24:25.309Z"
   },
   {
    "duration": 34,
    "start_time": "2024-10-20T08:24:25.421Z"
   },
   {
    "duration": 200,
    "start_time": "2024-10-20T08:24:25.457Z"
   },
   {
    "duration": 202,
    "start_time": "2024-10-20T08:24:25.659Z"
   },
   {
    "duration": 4,
    "start_time": "2024-10-20T08:24:25.952Z"
   },
   {
    "duration": 45,
    "start_time": "2024-10-20T08:24:25.957Z"
   },
   {
    "duration": 3,
    "start_time": "2024-10-20T08:24:26.004Z"
   },
   {
    "duration": 13,
    "start_time": "2024-10-20T08:24:26.008Z"
   },
   {
    "duration": 3,
    "start_time": "2024-10-20T08:24:26.023Z"
   },
   {
    "duration": 11,
    "start_time": "2024-10-20T08:24:26.028Z"
   },
   {
    "duration": 4,
    "start_time": "2024-10-20T08:24:26.040Z"
   },
   {
    "duration": 1370,
    "start_time": "2024-10-20T08:24:28.132Z"
   },
   {
    "duration": 1221,
    "start_time": "2024-10-20T08:24:36.148Z"
   },
   {
    "duration": 1352,
    "start_time": "2024-10-20T08:24:57.630Z"
   },
   {
    "duration": 1244,
    "start_time": "2024-10-20T08:25:29.837Z"
   },
   {
    "duration": 1283,
    "start_time": "2024-10-20T08:25:38.670Z"
   },
   {
    "duration": 3540,
    "start_time": "2024-10-20T08:26:05.518Z"
   },
   {
    "duration": 417,
    "start_time": "2024-10-20T08:26:09.061Z"
   },
   {
    "duration": 31,
    "start_time": "2024-10-20T08:26:09.479Z"
   },
   {
    "duration": 46,
    "start_time": "2024-10-20T08:26:09.511Z"
   },
   {
    "duration": 24,
    "start_time": "2024-10-20T08:26:09.560Z"
   },
   {
    "duration": 65,
    "start_time": "2024-10-20T08:26:09.585Z"
   },
   {
    "duration": 66,
    "start_time": "2024-10-20T08:26:09.652Z"
   },
   {
    "duration": 50,
    "start_time": "2024-10-20T08:26:09.720Z"
   },
   {
    "duration": 152,
    "start_time": "2024-10-20T08:26:09.771Z"
   },
   {
    "duration": 53,
    "start_time": "2024-10-20T08:26:09.925Z"
   },
   {
    "duration": 47,
    "start_time": "2024-10-20T08:26:09.979Z"
   },
   {
    "duration": 78,
    "start_time": "2024-10-20T08:26:10.028Z"
   },
   {
    "duration": 20,
    "start_time": "2024-10-20T08:26:10.108Z"
   },
   {
    "duration": 346,
    "start_time": "2024-10-20T08:26:10.132Z"
   },
   {
    "duration": 276,
    "start_time": "2024-10-20T08:26:10.479Z"
   },
   {
    "duration": 401,
    "start_time": "2024-10-20T08:26:10.757Z"
   },
   {
    "duration": 310,
    "start_time": "2024-10-20T08:26:11.160Z"
   },
   {
    "duration": 303,
    "start_time": "2024-10-20T08:26:11.471Z"
   },
   {
    "duration": 283,
    "start_time": "2024-10-20T08:26:11.776Z"
   },
   {
    "duration": 297,
    "start_time": "2024-10-20T08:26:12.060Z"
   },
   {
    "duration": 299,
    "start_time": "2024-10-20T08:26:12.359Z"
   },
   {
    "duration": 387,
    "start_time": "2024-10-20T08:26:12.660Z"
   },
   {
    "duration": 298,
    "start_time": "2024-10-20T08:26:13.049Z"
   },
   {
    "duration": 270,
    "start_time": "2024-10-20T08:26:13.351Z"
   },
   {
    "duration": 314,
    "start_time": "2024-10-20T08:26:13.622Z"
   },
   {
    "duration": 477,
    "start_time": "2024-10-20T08:26:13.939Z"
   },
   {
    "duration": 382,
    "start_time": "2024-10-20T08:26:14.418Z"
   },
   {
    "duration": 384,
    "start_time": "2024-10-20T08:26:14.801Z"
   },
   {
    "duration": 3,
    "start_time": "2024-10-20T08:26:15.186Z"
   },
   {
    "duration": 27,
    "start_time": "2024-10-20T08:26:15.190Z"
   },
   {
    "duration": 43,
    "start_time": "2024-10-20T08:26:15.219Z"
   },
   {
    "duration": 22,
    "start_time": "2024-10-20T08:26:15.263Z"
   },
   {
    "duration": 123,
    "start_time": "2024-10-20T08:26:15.286Z"
   },
   {
    "duration": 2,
    "start_time": "2024-10-20T08:26:15.411Z"
   },
   {
    "duration": 19,
    "start_time": "2024-10-20T08:26:15.415Z"
   },
   {
    "duration": 5,
    "start_time": "2024-10-20T08:26:15.436Z"
   },
   {
    "duration": 213,
    "start_time": "2024-10-20T08:26:15.443Z"
   },
   {
    "duration": 105,
    "start_time": "2024-10-20T08:26:15.658Z"
   },
   {
    "duration": 189,
    "start_time": "2024-10-20T08:26:15.766Z"
   },
   {
    "duration": 6,
    "start_time": "2024-10-20T08:26:15.957Z"
   },
   {
    "duration": 9,
    "start_time": "2024-10-20T08:26:16.055Z"
   },
   {
    "duration": 79,
    "start_time": "2024-10-20T08:26:16.066Z"
   },
   {
    "duration": 10,
    "start_time": "2024-10-20T08:26:16.147Z"
   },
   {
    "duration": 8,
    "start_time": "2024-10-20T08:26:16.158Z"
   },
   {
    "duration": 19,
    "start_time": "2024-10-20T08:26:16.168Z"
   },
   {
    "duration": 12,
    "start_time": "2024-10-20T08:26:16.189Z"
   },
   {
    "duration": 1345,
    "start_time": "2024-10-20T08:26:19.973Z"
   },
   {
    "duration": 1386,
    "start_time": "2024-10-20T08:26:38.815Z"
   },
   {
    "duration": 1348,
    "start_time": "2024-10-20T08:26:43.374Z"
   },
   {
    "duration": 3572,
    "start_time": "2024-10-20T08:27:07.768Z"
   },
   {
    "duration": 414,
    "start_time": "2024-10-20T08:27:11.343Z"
   },
   {
    "duration": 30,
    "start_time": "2024-10-20T08:27:11.759Z"
   },
   {
    "duration": 23,
    "start_time": "2024-10-20T08:27:11.790Z"
   },
   {
    "duration": 45,
    "start_time": "2024-10-20T08:27:11.815Z"
   },
   {
    "duration": 43,
    "start_time": "2024-10-20T08:27:11.861Z"
   },
   {
    "duration": 62,
    "start_time": "2024-10-20T08:27:11.906Z"
   },
   {
    "duration": 43,
    "start_time": "2024-10-20T08:27:11.969Z"
   },
   {
    "duration": 155,
    "start_time": "2024-10-20T08:27:12.013Z"
   },
   {
    "duration": 46,
    "start_time": "2024-10-20T08:27:12.170Z"
   },
   {
    "duration": 64,
    "start_time": "2024-10-20T08:27:12.217Z"
   },
   {
    "duration": 45,
    "start_time": "2024-10-20T08:27:12.283Z"
   },
   {
    "duration": 24,
    "start_time": "2024-10-20T08:27:12.329Z"
   },
   {
    "duration": 340,
    "start_time": "2024-10-20T08:27:12.357Z"
   },
   {
    "duration": 274,
    "start_time": "2024-10-20T08:27:12.698Z"
   },
   {
    "duration": 357,
    "start_time": "2024-10-20T08:27:12.974Z"
   },
   {
    "duration": 287,
    "start_time": "2024-10-20T08:27:13.333Z"
   },
   {
    "duration": 301,
    "start_time": "2024-10-20T08:27:13.622Z"
   },
   {
    "duration": 286,
    "start_time": "2024-10-20T08:27:13.925Z"
   },
   {
    "duration": 280,
    "start_time": "2024-10-20T08:27:14.213Z"
   },
   {
    "duration": 297,
    "start_time": "2024-10-20T08:27:14.494Z"
   },
   {
    "duration": 393,
    "start_time": "2024-10-20T08:27:14.793Z"
   },
   {
    "duration": 280,
    "start_time": "2024-10-20T08:27:15.187Z"
   },
   {
    "duration": 271,
    "start_time": "2024-10-20T08:27:15.469Z"
   },
   {
    "duration": 282,
    "start_time": "2024-10-20T08:27:15.741Z"
   },
   {
    "duration": 495,
    "start_time": "2024-10-20T08:27:16.025Z"
   },
   {
    "duration": 368,
    "start_time": "2024-10-20T08:27:16.522Z"
   },
   {
    "duration": 381,
    "start_time": "2024-10-20T08:27:16.892Z"
   },
   {
    "duration": 3,
    "start_time": "2024-10-20T08:27:17.275Z"
   },
   {
    "duration": 10,
    "start_time": "2024-10-20T08:27:17.280Z"
   },
   {
    "duration": 24,
    "start_time": "2024-10-20T08:27:17.292Z"
   },
   {
    "duration": 42,
    "start_time": "2024-10-20T08:27:17.318Z"
   },
   {
    "duration": 116,
    "start_time": "2024-10-20T08:27:17.362Z"
   },
   {
    "duration": 3,
    "start_time": "2024-10-20T08:27:17.480Z"
   },
   {
    "duration": 10,
    "start_time": "2024-10-20T08:27:17.485Z"
   },
   {
    "duration": 13,
    "start_time": "2024-10-20T08:27:17.496Z"
   },
   {
    "duration": 45,
    "start_time": "2024-10-20T08:27:17.511Z"
   },
   {
    "duration": 106,
    "start_time": "2024-10-20T08:27:17.558Z"
   },
   {
    "duration": 192,
    "start_time": "2024-10-20T08:27:17.666Z"
   },
   {
    "duration": 5,
    "start_time": "2024-10-20T08:27:17.860Z"
   },
   {
    "duration": 99,
    "start_time": "2024-10-20T08:27:17.957Z"
   },
   {
    "duration": 3,
    "start_time": "2024-10-20T08:27:18.057Z"
   },
   {
    "duration": 6,
    "start_time": "2024-10-20T08:27:18.061Z"
   },
   {
    "duration": 21,
    "start_time": "2024-10-20T08:27:18.068Z"
   },
   {
    "duration": 56,
    "start_time": "2024-10-20T08:27:18.090Z"
   },
   {
    "duration": 3,
    "start_time": "2024-10-20T08:27:18.148Z"
   },
   {
    "duration": 1289,
    "start_time": "2024-10-20T08:27:21.687Z"
   },
   {
    "duration": 3484,
    "start_time": "2024-10-20T08:28:17.414Z"
   },
   {
    "duration": 413,
    "start_time": "2024-10-20T08:28:20.900Z"
   },
   {
    "duration": 44,
    "start_time": "2024-10-20T08:28:21.314Z"
   },
   {
    "duration": 26,
    "start_time": "2024-10-20T08:28:21.360Z"
   },
   {
    "duration": 23,
    "start_time": "2024-10-20T08:28:21.389Z"
   },
   {
    "duration": 71,
    "start_time": "2024-10-20T08:28:21.413Z"
   },
   {
    "duration": 48,
    "start_time": "2024-10-20T08:28:21.485Z"
   },
   {
    "duration": 55,
    "start_time": "2024-10-20T08:28:21.535Z"
   },
   {
    "duration": 171,
    "start_time": "2024-10-20T08:28:21.592Z"
   },
   {
    "duration": 44,
    "start_time": "2024-10-20T08:28:21.764Z"
   },
   {
    "duration": 69,
    "start_time": "2024-10-20T08:28:21.810Z"
   },
   {
    "duration": 45,
    "start_time": "2024-10-20T08:28:21.881Z"
   },
   {
    "duration": 3,
    "start_time": "2024-10-20T08:28:21.927Z"
   },
   {
    "duration": 333,
    "start_time": "2024-10-20T08:28:21.951Z"
   },
   {
    "duration": 269,
    "start_time": "2024-10-20T08:28:22.286Z"
   },
   {
    "duration": 385,
    "start_time": "2024-10-20T08:28:22.557Z"
   },
   {
    "duration": 299,
    "start_time": "2024-10-20T08:28:22.943Z"
   },
   {
    "duration": 312,
    "start_time": "2024-10-20T08:28:23.244Z"
   },
   {
    "duration": 295,
    "start_time": "2024-10-20T08:28:23.558Z"
   },
   {
    "duration": 334,
    "start_time": "2024-10-20T08:28:23.855Z"
   },
   {
    "duration": 316,
    "start_time": "2024-10-20T08:28:24.191Z"
   },
   {
    "duration": 410,
    "start_time": "2024-10-20T08:28:24.509Z"
   },
   {
    "duration": 308,
    "start_time": "2024-10-20T08:28:24.920Z"
   },
   {
    "duration": 315,
    "start_time": "2024-10-20T08:28:25.231Z"
   },
   {
    "duration": 304,
    "start_time": "2024-10-20T08:28:25.551Z"
   },
   {
    "duration": 499,
    "start_time": "2024-10-20T08:28:25.857Z"
   },
   {
    "duration": 434,
    "start_time": "2024-10-20T08:28:26.358Z"
   },
   {
    "duration": 397,
    "start_time": "2024-10-20T08:28:26.794Z"
   },
   {
    "duration": 3,
    "start_time": "2024-10-20T08:28:27.193Z"
   },
   {
    "duration": 8,
    "start_time": "2024-10-20T08:28:27.197Z"
   },
   {
    "duration": 34,
    "start_time": "2024-10-20T08:28:27.206Z"
   },
   {
    "duration": 26,
    "start_time": "2024-10-20T08:28:27.242Z"
   },
   {
    "duration": 120,
    "start_time": "2024-10-20T08:28:27.270Z"
   },
   {
    "duration": 3,
    "start_time": "2024-10-20T08:28:27.392Z"
   },
   {
    "duration": 32,
    "start_time": "2024-10-20T08:28:27.396Z"
   },
   {
    "duration": 5,
    "start_time": "2024-10-20T08:28:27.430Z"
   },
   {
    "duration": 122,
    "start_time": "2024-10-20T08:28:27.437Z"
   },
   {
    "duration": 105,
    "start_time": "2024-10-20T08:28:27.562Z"
   },
   {
    "duration": 105,
    "start_time": "2024-10-20T08:28:27.754Z"
   },
   {
    "duration": 87,
    "start_time": "2024-10-20T08:28:27.866Z"
   },
   {
    "duration": 97,
    "start_time": "2024-10-20T08:28:27.961Z"
   },
   {
    "duration": 7,
    "start_time": "2024-10-20T08:28:28.059Z"
   },
   {
    "duration": 5,
    "start_time": "2024-10-20T08:28:28.067Z"
   },
   {
    "duration": 66,
    "start_time": "2024-10-20T08:28:28.073Z"
   },
   {
    "duration": 8,
    "start_time": "2024-10-20T08:28:28.141Z"
   },
   {
    "duration": 5,
    "start_time": "2024-10-20T08:28:28.150Z"
   },
   {
    "duration": 1277,
    "start_time": "2024-10-20T08:28:28.157Z"
   },
   {
    "duration": 1323,
    "start_time": "2024-10-20T08:28:29.435Z"
   },
   {
    "duration": 1324,
    "start_time": "2024-10-20T08:28:30.760Z"
   },
   {
    "duration": 5,
    "start_time": "2024-10-20T08:28:32.085Z"
   },
   {
    "duration": 69,
    "start_time": "2024-10-20T08:28:32.091Z"
   },
   {
    "duration": 9,
    "start_time": "2024-10-20T08:28:32.162Z"
   },
   {
    "duration": 105,
    "start_time": "2024-10-20T08:31:11.897Z"
   },
   {
    "duration": 10,
    "start_time": "2024-10-20T08:31:17.112Z"
   },
   {
    "duration": 5,
    "start_time": "2024-10-20T08:32:00.194Z"
   },
   {
    "duration": 68,
    "start_time": "2024-10-20T08:32:35.714Z"
   },
   {
    "duration": 3499,
    "start_time": "2024-10-20T08:34:38.592Z"
   },
   {
    "duration": 402,
    "start_time": "2024-10-20T08:34:42.093Z"
   },
   {
    "duration": 27,
    "start_time": "2024-10-20T08:34:42.497Z"
   },
   {
    "duration": 37,
    "start_time": "2024-10-20T08:34:42.526Z"
   },
   {
    "duration": 22,
    "start_time": "2024-10-20T08:34:42.564Z"
   },
   {
    "duration": 40,
    "start_time": "2024-10-20T08:34:42.587Z"
   },
   {
    "duration": 60,
    "start_time": "2024-10-20T08:34:42.629Z"
   },
   {
    "duration": 46,
    "start_time": "2024-10-20T08:34:42.691Z"
   },
   {
    "duration": 146,
    "start_time": "2024-10-20T08:34:42.739Z"
   },
   {
    "duration": 45,
    "start_time": "2024-10-20T08:34:42.888Z"
   },
   {
    "duration": 103,
    "start_time": "2024-10-20T08:34:42.935Z"
   },
   {
    "duration": 46,
    "start_time": "2024-10-20T08:34:43.040Z"
   },
   {
    "duration": 84,
    "start_time": "2024-10-20T08:34:43.088Z"
   },
   {
    "duration": 316,
    "start_time": "2024-10-20T08:34:43.173Z"
   },
   {
    "duration": 261,
    "start_time": "2024-10-20T08:34:43.491Z"
   },
   {
    "duration": 384,
    "start_time": "2024-10-20T08:34:43.754Z"
   },
   {
    "duration": 286,
    "start_time": "2024-10-20T08:34:44.140Z"
   },
   {
    "duration": 286,
    "start_time": "2024-10-20T08:34:44.427Z"
   },
   {
    "duration": 262,
    "start_time": "2024-10-20T08:34:44.714Z"
   },
   {
    "duration": 290,
    "start_time": "2024-10-20T08:34:44.977Z"
   },
   {
    "duration": 308,
    "start_time": "2024-10-20T08:34:45.268Z"
   },
   {
    "duration": 393,
    "start_time": "2024-10-20T08:34:45.577Z"
   },
   {
    "duration": 290,
    "start_time": "2024-10-20T08:34:45.972Z"
   },
   {
    "duration": 266,
    "start_time": "2024-10-20T08:34:46.263Z"
   },
   {
    "duration": 285,
    "start_time": "2024-10-20T08:34:46.531Z"
   },
   {
    "duration": 472,
    "start_time": "2024-10-20T08:34:46.817Z"
   },
   {
    "duration": 383,
    "start_time": "2024-10-20T08:34:47.290Z"
   },
   {
    "duration": 403,
    "start_time": "2024-10-20T08:34:47.676Z"
   },
   {
    "duration": 3,
    "start_time": "2024-10-20T08:34:48.081Z"
   },
   {
    "duration": 114,
    "start_time": "2024-10-20T08:34:48.085Z"
   },
   {
    "duration": 33,
    "start_time": "2024-10-20T08:34:48.201Z"
   },
   {
    "duration": 21,
    "start_time": "2024-10-20T08:34:48.235Z"
   },
   {
    "duration": 21,
    "start_time": "2024-10-20T08:34:48.258Z"
   },
   {
    "duration": 3,
    "start_time": "2024-10-20T08:34:48.280Z"
   },
   {
    "duration": 17,
    "start_time": "2024-10-20T08:34:48.284Z"
   },
   {
    "duration": 4,
    "start_time": "2024-10-20T08:34:48.302Z"
   },
   {
    "duration": 252,
    "start_time": "2024-10-20T08:34:48.308Z"
   },
   {
    "duration": 100,
    "start_time": "2024-10-20T08:34:48.562Z"
   },
   {
    "duration": 188,
    "start_time": "2024-10-20T08:34:48.664Z"
   },
   {
    "duration": 5,
    "start_time": "2024-10-20T08:34:48.854Z"
   },
   {
    "duration": 131,
    "start_time": "2024-10-20T08:34:48.862Z"
   },
   {
    "duration": 54,
    "start_time": "2024-10-20T08:34:48.995Z"
   },
   {
    "duration": 0,
    "start_time": "2024-10-20T08:34:49.051Z"
   },
   {
    "duration": 0,
    "start_time": "2024-10-20T08:34:49.052Z"
   },
   {
    "duration": 0,
    "start_time": "2024-10-20T08:34:49.053Z"
   },
   {
    "duration": 0,
    "start_time": "2024-10-20T08:34:49.054Z"
   },
   {
    "duration": 0,
    "start_time": "2024-10-20T08:34:49.055Z"
   },
   {
    "duration": 0,
    "start_time": "2024-10-20T08:34:49.056Z"
   },
   {
    "duration": 0,
    "start_time": "2024-10-20T08:34:49.057Z"
   },
   {
    "duration": 0,
    "start_time": "2024-10-20T08:34:49.057Z"
   },
   {
    "duration": 0,
    "start_time": "2024-10-20T08:34:49.058Z"
   },
   {
    "duration": 0,
    "start_time": "2024-10-20T08:34:49.059Z"
   },
   {
    "duration": 3517,
    "start_time": "2024-10-20T08:35:21.788Z"
   },
   {
    "duration": 419,
    "start_time": "2024-10-20T08:35:25.307Z"
   },
   {
    "duration": 37,
    "start_time": "2024-10-20T08:35:25.728Z"
   },
   {
    "duration": 23,
    "start_time": "2024-10-20T08:35:25.767Z"
   },
   {
    "duration": 25,
    "start_time": "2024-10-20T08:35:25.792Z"
   },
   {
    "duration": 68,
    "start_time": "2024-10-20T08:35:25.819Z"
   },
   {
    "duration": 41,
    "start_time": "2024-10-20T08:35:25.888Z"
   },
   {
    "duration": 58,
    "start_time": "2024-10-20T08:35:25.931Z"
   },
   {
    "duration": 146,
    "start_time": "2024-10-20T08:35:25.990Z"
   },
   {
    "duration": 44,
    "start_time": "2024-10-20T08:35:26.138Z"
   },
   {
    "duration": 44,
    "start_time": "2024-10-20T08:35:26.183Z"
   },
   {
    "duration": 44,
    "start_time": "2024-10-20T08:35:26.252Z"
   },
   {
    "duration": 3,
    "start_time": "2024-10-20T08:35:26.298Z"
   },
   {
    "duration": 341,
    "start_time": "2024-10-20T08:35:26.304Z"
   },
   {
    "duration": 268,
    "start_time": "2024-10-20T08:35:26.646Z"
   },
   {
    "duration": 379,
    "start_time": "2024-10-20T08:35:26.916Z"
   },
   {
    "duration": 305,
    "start_time": "2024-10-20T08:35:27.297Z"
   },
   {
    "duration": 309,
    "start_time": "2024-10-20T08:35:27.604Z"
   },
   {
    "duration": 304,
    "start_time": "2024-10-20T08:35:27.915Z"
   },
   {
    "duration": 301,
    "start_time": "2024-10-20T08:35:28.222Z"
   },
   {
    "duration": 300,
    "start_time": "2024-10-20T08:35:28.524Z"
   },
   {
    "duration": 390,
    "start_time": "2024-10-20T08:35:28.826Z"
   },
   {
    "duration": 290,
    "start_time": "2024-10-20T08:35:29.218Z"
   },
   {
    "duration": 266,
    "start_time": "2024-10-20T08:35:29.510Z"
   },
   {
    "duration": 286,
    "start_time": "2024-10-20T08:35:29.778Z"
   },
   {
    "duration": 464,
    "start_time": "2024-10-20T08:35:30.066Z"
   },
   {
    "duration": 390,
    "start_time": "2024-10-20T08:35:30.532Z"
   },
   {
    "duration": 393,
    "start_time": "2024-10-20T08:35:30.924Z"
   },
   {
    "duration": 3,
    "start_time": "2024-10-20T08:35:31.319Z"
   },
   {
    "duration": 19,
    "start_time": "2024-10-20T08:35:31.324Z"
   },
   {
    "duration": 36,
    "start_time": "2024-10-20T08:35:31.345Z"
   },
   {
    "duration": 24,
    "start_time": "2024-10-20T08:35:31.382Z"
   },
   {
    "duration": 124,
    "start_time": "2024-10-20T08:35:31.408Z"
   },
   {
    "duration": 3,
    "start_time": "2024-10-20T08:35:31.534Z"
   },
   {
    "duration": 15,
    "start_time": "2024-10-20T08:35:31.538Z"
   },
   {
    "duration": 3,
    "start_time": "2024-10-20T08:35:31.555Z"
   },
   {
    "duration": 100,
    "start_time": "2024-10-20T08:35:31.560Z"
   },
   {
    "duration": 194,
    "start_time": "2024-10-20T08:35:31.662Z"
   },
   {
    "duration": 106,
    "start_time": "2024-10-20T08:35:31.859Z"
   },
   {
    "duration": 91,
    "start_time": "2024-10-20T08:35:31.967Z"
   },
   {
    "duration": 96,
    "start_time": "2024-10-20T08:35:32.063Z"
   },
   {
    "duration": 5,
    "start_time": "2024-10-20T08:35:32.160Z"
   },
   {
    "duration": 118,
    "start_time": "2024-10-20T08:35:32.167Z"
   },
   {
    "duration": 0,
    "start_time": "2024-10-20T08:35:32.287Z"
   },
   {
    "duration": 0,
    "start_time": "2024-10-20T08:35:32.288Z"
   },
   {
    "duration": 0,
    "start_time": "2024-10-20T08:35:32.289Z"
   },
   {
    "duration": 0,
    "start_time": "2024-10-20T08:35:32.290Z"
   },
   {
    "duration": 0,
    "start_time": "2024-10-20T08:35:32.291Z"
   },
   {
    "duration": 0,
    "start_time": "2024-10-20T08:35:32.292Z"
   },
   {
    "duration": 0,
    "start_time": "2024-10-20T08:35:32.293Z"
   },
   {
    "duration": 0,
    "start_time": "2024-10-20T08:35:32.294Z"
   },
   {
    "duration": 0,
    "start_time": "2024-10-20T08:35:32.295Z"
   },
   {
    "duration": 3414,
    "start_time": "2024-10-20T08:35:58.580Z"
   },
   {
    "duration": 406,
    "start_time": "2024-10-20T08:36:01.996Z"
   },
   {
    "duration": 32,
    "start_time": "2024-10-20T08:36:02.403Z"
   },
   {
    "duration": 42,
    "start_time": "2024-10-20T08:36:02.437Z"
   },
   {
    "duration": 23,
    "start_time": "2024-10-20T08:36:02.482Z"
   },
   {
    "duration": 65,
    "start_time": "2024-10-20T08:36:02.507Z"
   },
   {
    "duration": 41,
    "start_time": "2024-10-20T08:36:02.573Z"
   },
   {
    "duration": 54,
    "start_time": "2024-10-20T08:36:02.616Z"
   },
   {
    "duration": 140,
    "start_time": "2024-10-20T08:36:02.672Z"
   },
   {
    "duration": 53,
    "start_time": "2024-10-20T08:36:02.814Z"
   },
   {
    "duration": 44,
    "start_time": "2024-10-20T08:36:02.868Z"
   },
   {
    "duration": 86,
    "start_time": "2024-10-20T08:36:02.914Z"
   },
   {
    "duration": 36,
    "start_time": "2024-10-20T08:36:03.002Z"
   },
   {
    "duration": 330,
    "start_time": "2024-10-20T08:36:03.041Z"
   },
   {
    "duration": 268,
    "start_time": "2024-10-20T08:36:03.372Z"
   },
   {
    "duration": 403,
    "start_time": "2024-10-20T08:36:03.641Z"
   },
   {
    "duration": 292,
    "start_time": "2024-10-20T08:36:04.051Z"
   },
   {
    "duration": 299,
    "start_time": "2024-10-20T08:36:04.345Z"
   },
   {
    "duration": 270,
    "start_time": "2024-10-20T08:36:04.651Z"
   },
   {
    "duration": 285,
    "start_time": "2024-10-20T08:36:04.923Z"
   },
   {
    "duration": 308,
    "start_time": "2024-10-20T08:36:05.209Z"
   },
   {
    "duration": 400,
    "start_time": "2024-10-20T08:36:05.518Z"
   },
   {
    "duration": 285,
    "start_time": "2024-10-20T08:36:05.920Z"
   },
   {
    "duration": 264,
    "start_time": "2024-10-20T08:36:06.206Z"
   },
   {
    "duration": 291,
    "start_time": "2024-10-20T08:36:06.472Z"
   },
   {
    "duration": 464,
    "start_time": "2024-10-20T08:36:06.765Z"
   },
   {
    "duration": 375,
    "start_time": "2024-10-20T08:36:07.230Z"
   },
   {
    "duration": 373,
    "start_time": "2024-10-20T08:36:07.607Z"
   },
   {
    "duration": 2,
    "start_time": "2024-10-20T08:36:07.982Z"
   },
   {
    "duration": 9,
    "start_time": "2024-10-20T08:36:07.986Z"
   },
   {
    "duration": 35,
    "start_time": "2024-10-20T08:36:07.996Z"
   },
   {
    "duration": 25,
    "start_time": "2024-10-20T08:36:08.032Z"
   },
   {
    "duration": 120,
    "start_time": "2024-10-20T08:36:08.058Z"
   },
   {
    "duration": 2,
    "start_time": "2024-10-20T08:36:08.180Z"
   },
   {
    "duration": 13,
    "start_time": "2024-10-20T08:36:08.183Z"
   },
   {
    "duration": 3,
    "start_time": "2024-10-20T08:36:08.197Z"
   },
   {
    "duration": 152,
    "start_time": "2024-10-20T08:36:08.202Z"
   },
   {
    "duration": 101,
    "start_time": "2024-10-20T08:36:08.356Z"
   },
   {
    "duration": 192,
    "start_time": "2024-10-20T08:36:08.460Z"
   },
   {
    "duration": 94,
    "start_time": "2024-10-20T08:36:08.658Z"
   },
   {
    "duration": 13,
    "start_time": "2024-10-20T08:36:08.756Z"
   },
   {
    "duration": 4,
    "start_time": "2024-10-20T08:36:08.771Z"
   },
   {
    "duration": 5,
    "start_time": "2024-10-20T08:36:08.777Z"
   },
   {
    "duration": 7,
    "start_time": "2024-10-20T08:36:08.784Z"
   },
   {
    "duration": 14,
    "start_time": "2024-10-20T08:36:08.792Z"
   },
   {
    "duration": 19,
    "start_time": "2024-10-20T08:36:08.807Z"
   },
   {
    "duration": 1359,
    "start_time": "2024-10-20T08:36:08.827Z"
   },
   {
    "duration": 1329,
    "start_time": "2024-10-20T08:36:10.188Z"
   },
   {
    "duration": 1309,
    "start_time": "2024-10-20T08:36:11.519Z"
   },
   {
    "duration": 4,
    "start_time": "2024-10-20T08:36:12.829Z"
   },
   {
    "duration": 19,
    "start_time": "2024-10-20T08:36:12.834Z"
   },
   {
    "duration": 8,
    "start_time": "2024-10-20T08:36:12.854Z"
   },
   {
    "duration": 3482,
    "start_time": "2024-10-20T08:38:18.516Z"
   },
   {
    "duration": 404,
    "start_time": "2024-10-20T08:38:22.000Z"
   },
   {
    "duration": 27,
    "start_time": "2024-10-20T08:38:22.406Z"
   },
   {
    "duration": 32,
    "start_time": "2024-10-20T08:38:22.435Z"
   },
   {
    "duration": 21,
    "start_time": "2024-10-20T08:38:22.469Z"
   },
   {
    "duration": 60,
    "start_time": "2024-10-20T08:38:22.492Z"
   },
   {
    "duration": 41,
    "start_time": "2024-10-20T08:38:22.553Z"
   },
   {
    "duration": 58,
    "start_time": "2024-10-20T08:38:22.595Z"
   },
   {
    "duration": 126,
    "start_time": "2024-10-20T08:38:22.654Z"
   },
   {
    "duration": 41,
    "start_time": "2024-10-20T08:38:22.782Z"
   },
   {
    "duration": 59,
    "start_time": "2024-10-20T08:38:22.824Z"
   },
   {
    "duration": 41,
    "start_time": "2024-10-20T08:38:22.884Z"
   },
   {
    "duration": 48,
    "start_time": "2024-10-20T08:38:22.926Z"
   },
   {
    "duration": 350,
    "start_time": "2024-10-20T08:38:22.977Z"
   },
   {
    "duration": 265,
    "start_time": "2024-10-20T08:38:23.328Z"
   },
   {
    "duration": 394,
    "start_time": "2024-10-20T08:38:23.595Z"
   },
   {
    "duration": 294,
    "start_time": "2024-10-20T08:38:23.991Z"
   },
   {
    "duration": 305,
    "start_time": "2024-10-20T08:38:24.286Z"
   },
   {
    "duration": 286,
    "start_time": "2024-10-20T08:38:24.592Z"
   },
   {
    "duration": 280,
    "start_time": "2024-10-20T08:38:24.879Z"
   },
   {
    "duration": 333,
    "start_time": "2024-10-20T08:38:25.160Z"
   },
   {
    "duration": 414,
    "start_time": "2024-10-20T08:38:25.494Z"
   },
   {
    "duration": 293,
    "start_time": "2024-10-20T08:38:25.910Z"
   },
   {
    "duration": 281,
    "start_time": "2024-10-20T08:38:26.205Z"
   },
   {
    "duration": 304,
    "start_time": "2024-10-20T08:38:26.487Z"
   },
   {
    "duration": 438,
    "start_time": "2024-10-20T08:38:26.793Z"
   },
   {
    "duration": 390,
    "start_time": "2024-10-20T08:38:27.233Z"
   },
   {
    "duration": 391,
    "start_time": "2024-10-20T08:38:27.625Z"
   },
   {
    "duration": 3,
    "start_time": "2024-10-20T08:38:28.018Z"
   },
   {
    "duration": 24,
    "start_time": "2024-10-20T08:38:28.023Z"
   },
   {
    "duration": 27,
    "start_time": "2024-10-20T08:38:28.049Z"
   },
   {
    "duration": 22,
    "start_time": "2024-10-20T08:38:28.077Z"
   },
   {
    "duration": 123,
    "start_time": "2024-10-20T08:38:28.100Z"
   },
   {
    "duration": 3,
    "start_time": "2024-10-20T08:38:28.224Z"
   },
   {
    "duration": 4,
    "start_time": "2024-10-20T08:38:28.228Z"
   },
   {
    "duration": 3,
    "start_time": "2024-10-20T08:38:28.233Z"
   },
   {
    "duration": 215,
    "start_time": "2024-10-20T08:38:28.237Z"
   },
   {
    "duration": 102,
    "start_time": "2024-10-20T08:38:28.454Z"
   },
   {
    "duration": 106,
    "start_time": "2024-10-20T08:38:28.558Z"
   },
   {
    "duration": 87,
    "start_time": "2024-10-20T08:38:28.666Z"
   },
   {
    "duration": 93,
    "start_time": "2024-10-20T08:38:28.762Z"
   },
   {
    "duration": 4,
    "start_time": "2024-10-20T08:38:28.856Z"
   },
   {
    "duration": 9,
    "start_time": "2024-10-20T08:38:28.861Z"
   },
   {
    "duration": 3,
    "start_time": "2024-10-20T08:38:28.871Z"
   },
   {
    "duration": 8,
    "start_time": "2024-10-20T08:38:28.875Z"
   },
   {
    "duration": 8,
    "start_time": "2024-10-20T08:38:28.885Z"
   },
   {
    "duration": 1302,
    "start_time": "2024-10-20T08:38:28.894Z"
   },
   {
    "duration": 1275,
    "start_time": "2024-10-20T08:38:30.197Z"
   },
   {
    "duration": 1290,
    "start_time": "2024-10-20T08:38:31.473Z"
   },
   {
    "duration": 4,
    "start_time": "2024-10-20T08:38:32.764Z"
   },
   {
    "duration": 11,
    "start_time": "2024-10-20T08:38:32.769Z"
   },
   {
    "duration": 23,
    "start_time": "2024-10-20T08:38:32.782Z"
   }
  ],
  "kernelspec": {
   "display_name": "Python 3 (ipykernel)",
   "language": "python",
   "name": "python3"
  },
  "language_info": {
   "codemirror_mode": {
    "name": "ipython",
    "version": 3
   },
   "file_extension": ".py",
   "mimetype": "text/x-python",
   "name": "python",
   "nbconvert_exporter": "python",
   "pygments_lexer": "ipython3",
   "version": "3.9.21"
  },
  "toc": {
   "base_numbering": 1,
   "nav_menu": {},
   "number_sections": true,
   "sideBar": true,
   "skip_h1_title": true,
   "title_cell": "Table of Contents",
   "title_sidebar": "Contents",
   "toc_cell": false,
   "toc_position": {},
   "toc_section_display": true,
   "toc_window_display": false
  }
 },
 "nbformat": 4,
 "nbformat_minor": 4
}
