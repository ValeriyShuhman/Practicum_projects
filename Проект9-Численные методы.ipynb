{
 "cells": [
  {
   "cell_type": "markdown",
   "metadata": {},
   "source": [
    "**Проект: Определение стоимости автомобилей.**"
   ]
  },
  {
   "cell_type": "markdown",
   "metadata": {},
   "source": [
    "# Определение стоимости автомобилей"
   ]
  },
  {
   "cell_type": "markdown",
   "metadata": {},
   "source": [
    "Сервис по продаже автомобилей с пробегом «Не бит, не крашен» разрабатывает приложение для привлечения новых клиентов. В нём можно быстро узнать рыночную стоимость своего автомобиля. В вашем распоряжении исторические данные: технические характеристики, комплектации и цены автомобилей. Вам нужно построить модель для определения стоимости. \n",
    "\n",
    "Заказчику важны:\n",
    "\n",
    "- качество предсказания;\n",
    "- скорость предсказания;\n",
    "- время обучения."
   ]
  },
  {
   "cell_type": "markdown",
   "metadata": {},
   "source": [
    "# Инструкция по выполнению проекта"
   ]
  },
  {
   "cell_type": "markdown",
   "metadata": {},
   "source": [
    "Чтобы усилить исследование, не ограничивайтесь градиентным бустингом. Попробуйте более простые модели — иногда они работают лучше. Эти редкие случаи легко пропустить, если всегда применять только бустинг. \n",
    "\n",
    "Поэкспериментируйте и сравните характеристики моделей: время обучения, время предсказания, точность результата."
   ]
  },
  {
   "cell_type": "markdown",
   "metadata": {},
   "source": [
    "# Основные шаги:"
   ]
  },
  {
   "cell_type": "markdown",
   "metadata": {},
   "source": [
    "- 1. Загрузите данные, путь к файлу: /datasets/autos.csv.\n",
    "- 2. Изучите данные. Заполните пропущенные значения и обработайте аномалии в столбцах. Если среди признаков имеются неинформативные, удалите их.\n",
    "- 3. Подготовьте выборки для обучения моделей.\n",
    "- 4. Обучите разные модели, одна из которых — LightGBM, как минимум одна — не бустинг. Для каждой модели попробуйте разные гиперпараметры.\n",
    "- 5. Проанализируйте время обучения, время предсказания и качество моделей.\n",
    "- 6. Опираясь на критерии заказчика, выберите лучшую модель, проверьте её качество на тестовой выборке.\n",
    "\n",
    "Примечания:\n",
    "\n",
    "- Для оценки качества моделей применяйте метрику RMSE.\n",
    "- Значение метрики RMSE должно быть меньше 2500.\n",
    "- Самостоятельно освойте библиотеку LightGBM и её средствами постройте модели градиентного бустинга.\n",
    "- Время выполнения ячейки кода Jupyter Notebook можно получить специальной командой. Найдите её.\n",
    "- Модель градиентного бустинга может долго обучаться, поэтому измените у неё только два-три параметра.\n",
    "- Если перестанет работать Jupyter Notebook, удалите лишние переменные оператором del."
   ]
  },
  {
   "cell_type": "markdown",
   "metadata": {},
   "source": [
    "# Описание данных"
   ]
  },
  {
   "cell_type": "markdown",
   "metadata": {},
   "source": [
    "Данные находятся в файле /datasets/autos.csv\n",
    "\n",
    "**Признаки**\n",
    "\n",
    "- **DateCrawled** — дата скачивания анкеты из базы\n",
    "- **VehicleType** — тип автомобильного кузова\n",
    "- **RegistrationYear** — год регистрации автомобиля\n",
    "- **Gearbox** — тип коробки передач\n",
    "- **Power** — мощность (л. с.)\n",
    "- **Model** — модель автомобиля\n",
    "- **Kilometer** — пробег (км)\n",
    "- **RegistrationMonth** — месяц регистрации автомобиля\n",
    "- **FuelType** — тип топлива\n",
    "- **Brand** — марка автомобиля\n",
    "- **Repaired** — была машина в ремонте или нет\n",
    "- **DateCreated** — дата создания анкеты\n",
    "- **NumberOfPictures** — количество фотографий автомобиля\n",
    "- **PostalCode** — почтовый индекс владельца анкеты (пользователя)\n",
    "- **LastSeen** — дата последней активности пользователя\n",
    "\n",
    "**Целевой признак**\n",
    "\n",
    "- Price — цена (евро)"
   ]
  },
  {
   "cell_type": "markdown",
   "metadata": {},
   "source": [
    "## Подготовка данных"
   ]
  },
  {
   "cell_type": "markdown",
   "metadata": {},
   "source": [
    "### Загрузим и изучим данные."
   ]
  },
  {
   "cell_type": "markdown",
   "metadata": {},
   "source": [
    "**Импортируем нужные библиотеки.**"
   ]
  },
  {
   "cell_type": "code",
   "execution_count": 1,
   "metadata": {},
   "outputs": [],
   "source": [
    "# Импортируем нужные библиотеки\n",
    "import pandas as pd\n",
    "import numpy as np\n",
    "import seaborn as sns\n",
    "import matplotlib.pyplot as plt\n",
    "import math\n",
    "import time\n",
    "\n",
    "# Импортируем модели из библиотеки sklearn\n",
    "from sklearn.linear_model import LinearRegression\n",
    "from sklearn.tree import DecisionTreeRegressor\n",
    "from sklearn.ensemble import RandomForestRegressor\n",
    "from sklearn.dummy import DummyRegressor\n",
    "\n",
    "# Импортируем методы для разбиения на выборки и обработки признаков\n",
    "from sklearn.model_selection import train_test_split\n",
    "\n",
    "from sklearn.preprocessing import StandardScaler\n",
    "from sklearn.preprocessing import OrdinalEncoder\n",
    "\n",
    "from sklearn.model_selection import GridSearchCV\n",
    "\n",
    "from sklearn.preprocessing import OneHotEncoder\n",
    "from sklearn.preprocessing import LabelEncoder\n",
    "\n",
    "from sklearn.base import BaseEstimator\n",
    "\n",
    "# Импортируем метрики\n",
    "from sklearn.metrics import mean_squared_error as mse\n",
    "from sklearn.metrics import make_scorer\n",
    "\n",
    "# Импортируем библиотеки для бустинга\n",
    "from catboost import CatBoostRegressor\n",
    "from lightgbm import LGBMRegressor\n",
    "import lightgbm as lgbm\n",
    "\n",
    "import warnings\n",
    "warnings.filterwarnings('ignore')\n",
    "\n",
    "# Зададим random_state\n",
    "RANDOM_STATE = 42"
   ]
  },
  {
   "cell_type": "markdown",
   "metadata": {},
   "source": [
    "**Считаем данные из csv-файлов в датафреймы и сохраним в переменные.**"
   ]
  },
  {
   "cell_type": "code",
   "execution_count": 2,
   "metadata": {},
   "outputs": [],
   "source": [
    "try:\n",
    "    data_0 = pd.read_csv('/datasets/autos.csv')\n",
    "except:\n",
    "    data_0 = pd.read_csv('https://code.s3.yandex.net/datasets/autos.csv')\n",
    "    print('Таблица /datasets/autos.csv не была загружена')"
   ]
  },
  {
   "cell_type": "markdown",
   "metadata": {},
   "source": [
    "**Выведем первые 5 строк датасета data_0 и информацию о них.**"
   ]
  },
  {
   "cell_type": "code",
   "execution_count": 3,
   "metadata": {},
   "outputs": [
    {
     "data": {
      "text/plain": [
       "(354369, 16)"
      ]
     },
     "metadata": {},
     "output_type": "display_data"
    },
    {
     "name": "stdout",
     "output_type": "stream",
     "text": [
      "<class 'pandas.core.frame.DataFrame'>\n",
      "RangeIndex: 354369 entries, 0 to 354368\n",
      "Data columns (total 16 columns):\n",
      " #   Column             Non-Null Count   Dtype \n",
      "---  ------             --------------   ----- \n",
      " 0   DateCrawled        354369 non-null  object\n",
      " 1   Price              354369 non-null  int64 \n",
      " 2   VehicleType        316879 non-null  object\n",
      " 3   RegistrationYear   354369 non-null  int64 \n",
      " 4   Gearbox            334536 non-null  object\n",
      " 5   Power              354369 non-null  int64 \n",
      " 6   Model              334664 non-null  object\n",
      " 7   Kilometer          354369 non-null  int64 \n",
      " 8   RegistrationMonth  354369 non-null  int64 \n",
      " 9   FuelType           321474 non-null  object\n",
      " 10  Brand              354369 non-null  object\n",
      " 11  Repaired           283215 non-null  object\n",
      " 12  DateCreated        354369 non-null  object\n",
      " 13  NumberOfPictures   354369 non-null  int64 \n",
      " 14  PostalCode         354369 non-null  int64 \n",
      " 15  LastSeen           354369 non-null  object\n",
      "dtypes: int64(7), object(9)\n",
      "memory usage: 43.3+ MB\n"
     ]
    },
    {
     "data": {
      "text/plain": [
       "None"
      ]
     },
     "metadata": {},
     "output_type": "display_data"
    },
    {
     "data": {
      "text/html": [
       "<div>\n",
       "<style scoped>\n",
       "    .dataframe tbody tr th:only-of-type {\n",
       "        vertical-align: middle;\n",
       "    }\n",
       "\n",
       "    .dataframe tbody tr th {\n",
       "        vertical-align: top;\n",
       "    }\n",
       "\n",
       "    .dataframe thead th {\n",
       "        text-align: right;\n",
       "    }\n",
       "</style>\n",
       "<table border=\"1\" class=\"dataframe\">\n",
       "  <thead>\n",
       "    <tr style=\"text-align: right;\">\n",
       "      <th></th>\n",
       "      <th>DateCrawled</th>\n",
       "      <th>Price</th>\n",
       "      <th>VehicleType</th>\n",
       "      <th>RegistrationYear</th>\n",
       "      <th>Gearbox</th>\n",
       "      <th>Power</th>\n",
       "      <th>Model</th>\n",
       "      <th>Kilometer</th>\n",
       "      <th>RegistrationMonth</th>\n",
       "      <th>FuelType</th>\n",
       "      <th>Brand</th>\n",
       "      <th>Repaired</th>\n",
       "      <th>DateCreated</th>\n",
       "      <th>NumberOfPictures</th>\n",
       "      <th>PostalCode</th>\n",
       "      <th>LastSeen</th>\n",
       "    </tr>\n",
       "  </thead>\n",
       "  <tbody>\n",
       "    <tr>\n",
       "      <th>0</th>\n",
       "      <td>2016-03-24 11:52:17</td>\n",
       "      <td>480</td>\n",
       "      <td>NaN</td>\n",
       "      <td>1993</td>\n",
       "      <td>manual</td>\n",
       "      <td>0</td>\n",
       "      <td>golf</td>\n",
       "      <td>150000</td>\n",
       "      <td>0</td>\n",
       "      <td>petrol</td>\n",
       "      <td>volkswagen</td>\n",
       "      <td>NaN</td>\n",
       "      <td>2016-03-24 00:00:00</td>\n",
       "      <td>0</td>\n",
       "      <td>70435</td>\n",
       "      <td>2016-04-07 03:16:57</td>\n",
       "    </tr>\n",
       "    <tr>\n",
       "      <th>1</th>\n",
       "      <td>2016-03-24 10:58:45</td>\n",
       "      <td>18300</td>\n",
       "      <td>coupe</td>\n",
       "      <td>2011</td>\n",
       "      <td>manual</td>\n",
       "      <td>190</td>\n",
       "      <td>NaN</td>\n",
       "      <td>125000</td>\n",
       "      <td>5</td>\n",
       "      <td>gasoline</td>\n",
       "      <td>audi</td>\n",
       "      <td>yes</td>\n",
       "      <td>2016-03-24 00:00:00</td>\n",
       "      <td>0</td>\n",
       "      <td>66954</td>\n",
       "      <td>2016-04-07 01:46:50</td>\n",
       "    </tr>\n",
       "    <tr>\n",
       "      <th>2</th>\n",
       "      <td>2016-03-14 12:52:21</td>\n",
       "      <td>9800</td>\n",
       "      <td>suv</td>\n",
       "      <td>2004</td>\n",
       "      <td>auto</td>\n",
       "      <td>163</td>\n",
       "      <td>grand</td>\n",
       "      <td>125000</td>\n",
       "      <td>8</td>\n",
       "      <td>gasoline</td>\n",
       "      <td>jeep</td>\n",
       "      <td>NaN</td>\n",
       "      <td>2016-03-14 00:00:00</td>\n",
       "      <td>0</td>\n",
       "      <td>90480</td>\n",
       "      <td>2016-04-05 12:47:46</td>\n",
       "    </tr>\n",
       "    <tr>\n",
       "      <th>3</th>\n",
       "      <td>2016-03-17 16:54:04</td>\n",
       "      <td>1500</td>\n",
       "      <td>small</td>\n",
       "      <td>2001</td>\n",
       "      <td>manual</td>\n",
       "      <td>75</td>\n",
       "      <td>golf</td>\n",
       "      <td>150000</td>\n",
       "      <td>6</td>\n",
       "      <td>petrol</td>\n",
       "      <td>volkswagen</td>\n",
       "      <td>no</td>\n",
       "      <td>2016-03-17 00:00:00</td>\n",
       "      <td>0</td>\n",
       "      <td>91074</td>\n",
       "      <td>2016-03-17 17:40:17</td>\n",
       "    </tr>\n",
       "    <tr>\n",
       "      <th>4</th>\n",
       "      <td>2016-03-31 17:25:20</td>\n",
       "      <td>3600</td>\n",
       "      <td>small</td>\n",
       "      <td>2008</td>\n",
       "      <td>manual</td>\n",
       "      <td>69</td>\n",
       "      <td>fabia</td>\n",
       "      <td>90000</td>\n",
       "      <td>7</td>\n",
       "      <td>gasoline</td>\n",
       "      <td>skoda</td>\n",
       "      <td>no</td>\n",
       "      <td>2016-03-31 00:00:00</td>\n",
       "      <td>0</td>\n",
       "      <td>60437</td>\n",
       "      <td>2016-04-06 10:17:21</td>\n",
       "    </tr>\n",
       "  </tbody>\n",
       "</table>\n",
       "</div>"
      ],
      "text/plain": [
       "           DateCrawled  Price VehicleType  RegistrationYear Gearbox  Power  \\\n",
       "0  2016-03-24 11:52:17    480         NaN              1993  manual      0   \n",
       "1  2016-03-24 10:58:45  18300       coupe              2011  manual    190   \n",
       "2  2016-03-14 12:52:21   9800         suv              2004    auto    163   \n",
       "3  2016-03-17 16:54:04   1500       small              2001  manual     75   \n",
       "4  2016-03-31 17:25:20   3600       small              2008  manual     69   \n",
       "\n",
       "   Model  Kilometer  RegistrationMonth  FuelType       Brand Repaired  \\\n",
       "0   golf     150000                  0    petrol  volkswagen      NaN   \n",
       "1    NaN     125000                  5  gasoline        audi      yes   \n",
       "2  grand     125000                  8  gasoline        jeep      NaN   \n",
       "3   golf     150000                  6    petrol  volkswagen       no   \n",
       "4  fabia      90000                  7  gasoline       skoda       no   \n",
       "\n",
       "           DateCreated  NumberOfPictures  PostalCode             LastSeen  \n",
       "0  2016-03-24 00:00:00                 0       70435  2016-04-07 03:16:57  \n",
       "1  2016-03-24 00:00:00                 0       66954  2016-04-07 01:46:50  \n",
       "2  2016-03-14 00:00:00                 0       90480  2016-04-05 12:47:46  \n",
       "3  2016-03-17 00:00:00                 0       91074  2016-03-17 17:40:17  \n",
       "4  2016-03-31 00:00:00                 0       60437  2016-04-06 10:17:21  "
      ]
     },
     "execution_count": 3,
     "metadata": {},
     "output_type": "execute_result"
    }
   ],
   "source": [
    "#Сделаем обзор датасета data_0\n",
    "display(data_0.shape)\n",
    "display(data_0.info())\n",
    "data_0.head()"
   ]
  },
  {
   "cell_type": "markdown",
   "metadata": {},
   "source": [
    "**Сделаем выводы по обзору данных:**\n",
    "\n",
    " - В исследовани участвует один датасет.\n",
    " - В столбцах датасета разное количество значений.\n",
    " - В датасете обнаружены пропуски.\n",
    " - В датасете обнаружены неправильные типы данных.\n",
    " - Данные в таблице соответствуют описанию.\n",
    " - Названия столбцов не приведены к змеиному регистру.\n",
    " - Мы можем определить следующие признаки неинформативными для моделей машинного обучения:\n",
    " - 1.DateCrawled — дата скачивания анкеты из базы.\n",
    " - 2.RegistrationMonth — месяц регистрации автомобиля.\n",
    " - 3.DateCreated — дата создания анкеты.\n",
    " - 4.NumberOfPictures — количество фотографий автомобиля (признак содержит только нули).\n",
    " - 5.PostalCode — почтовый индекс владельца анкеты.\n",
    " - 6.LastSeen — дата последней активности пользователя."
   ]
  },
  {
   "cell_type": "markdown",
   "metadata": {},
   "source": [
    "### Предобработка данных."
   ]
  },
  {
   "cell_type": "markdown",
   "metadata": {},
   "source": [
    "**Приведем названия столбцов к змеиному регистру.**"
   ]
  },
  {
   "cell_type": "code",
   "execution_count": 4,
   "metadata": {},
   "outputs": [
    {
     "name": "stdout",
     "output_type": "stream",
     "text": [
      "Столбцы data_0: Index(['date_crawled', 'price', 'vehicle_type', 'registration_year', 'gearbox',\n",
      "       'power', 'model', 'kilometer', 'registration_month', 'fuel_type',\n",
      "       'brand', 'repaired', 'date_created', 'number_of_pictures',\n",
      "       'postal_code', 'last_seen'],\n",
      "      dtype='object')\n"
     ]
    }
   ],
   "source": [
    "#Приводим все столбцы к нижнему регистру\n",
    "data_0.columns = ['date_crawled', 'price', 'vehicle_type', 'registration_year',\n",
    "       'gearbox', 'power', 'model',\n",
    "       'kilometer', 'registration_month',\n",
    "       'fuel_type',\n",
    "       'brand', 'repaired',\n",
    "       'date_created', 'number_of_pictures', 'postal_code',\n",
    "       'last_seen']\n",
    "                   \n",
    "print('Столбцы data_0:', data_0.columns)"
   ]
  },
  {
   "cell_type": "code",
   "execution_count": 5,
   "metadata": {},
   "outputs": [
    {
     "data": {
      "text/html": [
       "<div>\n",
       "<style scoped>\n",
       "    .dataframe tbody tr th:only-of-type {\n",
       "        vertical-align: middle;\n",
       "    }\n",
       "\n",
       "    .dataframe tbody tr th {\n",
       "        vertical-align: top;\n",
       "    }\n",
       "\n",
       "    .dataframe thead th {\n",
       "        text-align: right;\n",
       "    }\n",
       "</style>\n",
       "<table border=\"1\" class=\"dataframe\">\n",
       "  <thead>\n",
       "    <tr style=\"text-align: right;\">\n",
       "      <th></th>\n",
       "      <th>date_crawled</th>\n",
       "      <th>price</th>\n",
       "      <th>vehicle_type</th>\n",
       "      <th>registration_year</th>\n",
       "      <th>gearbox</th>\n",
       "      <th>power</th>\n",
       "      <th>model</th>\n",
       "      <th>kilometer</th>\n",
       "      <th>registration_month</th>\n",
       "      <th>fuel_type</th>\n",
       "      <th>brand</th>\n",
       "      <th>repaired</th>\n",
       "      <th>date_created</th>\n",
       "      <th>number_of_pictures</th>\n",
       "      <th>postal_code</th>\n",
       "      <th>last_seen</th>\n",
       "    </tr>\n",
       "  </thead>\n",
       "  <tbody>\n",
       "    <tr>\n",
       "      <th>0</th>\n",
       "      <td>2016-03-24 11:52:17</td>\n",
       "      <td>480</td>\n",
       "      <td>NaN</td>\n",
       "      <td>1993</td>\n",
       "      <td>manual</td>\n",
       "      <td>0</td>\n",
       "      <td>golf</td>\n",
       "      <td>150000</td>\n",
       "      <td>0</td>\n",
       "      <td>petrol</td>\n",
       "      <td>volkswagen</td>\n",
       "      <td>NaN</td>\n",
       "      <td>2016-03-24 00:00:00</td>\n",
       "      <td>0</td>\n",
       "      <td>70435</td>\n",
       "      <td>2016-04-07 03:16:57</td>\n",
       "    </tr>\n",
       "    <tr>\n",
       "      <th>1</th>\n",
       "      <td>2016-03-24 10:58:45</td>\n",
       "      <td>18300</td>\n",
       "      <td>coupe</td>\n",
       "      <td>2011</td>\n",
       "      <td>manual</td>\n",
       "      <td>190</td>\n",
       "      <td>NaN</td>\n",
       "      <td>125000</td>\n",
       "      <td>5</td>\n",
       "      <td>gasoline</td>\n",
       "      <td>audi</td>\n",
       "      <td>yes</td>\n",
       "      <td>2016-03-24 00:00:00</td>\n",
       "      <td>0</td>\n",
       "      <td>66954</td>\n",
       "      <td>2016-04-07 01:46:50</td>\n",
       "    </tr>\n",
       "    <tr>\n",
       "      <th>2</th>\n",
       "      <td>2016-03-14 12:52:21</td>\n",
       "      <td>9800</td>\n",
       "      <td>suv</td>\n",
       "      <td>2004</td>\n",
       "      <td>auto</td>\n",
       "      <td>163</td>\n",
       "      <td>grand</td>\n",
       "      <td>125000</td>\n",
       "      <td>8</td>\n",
       "      <td>gasoline</td>\n",
       "      <td>jeep</td>\n",
       "      <td>NaN</td>\n",
       "      <td>2016-03-14 00:00:00</td>\n",
       "      <td>0</td>\n",
       "      <td>90480</td>\n",
       "      <td>2016-04-05 12:47:46</td>\n",
       "    </tr>\n",
       "    <tr>\n",
       "      <th>3</th>\n",
       "      <td>2016-03-17 16:54:04</td>\n",
       "      <td>1500</td>\n",
       "      <td>small</td>\n",
       "      <td>2001</td>\n",
       "      <td>manual</td>\n",
       "      <td>75</td>\n",
       "      <td>golf</td>\n",
       "      <td>150000</td>\n",
       "      <td>6</td>\n",
       "      <td>petrol</td>\n",
       "      <td>volkswagen</td>\n",
       "      <td>no</td>\n",
       "      <td>2016-03-17 00:00:00</td>\n",
       "      <td>0</td>\n",
       "      <td>91074</td>\n",
       "      <td>2016-03-17 17:40:17</td>\n",
       "    </tr>\n",
       "    <tr>\n",
       "      <th>4</th>\n",
       "      <td>2016-03-31 17:25:20</td>\n",
       "      <td>3600</td>\n",
       "      <td>small</td>\n",
       "      <td>2008</td>\n",
       "      <td>manual</td>\n",
       "      <td>69</td>\n",
       "      <td>fabia</td>\n",
       "      <td>90000</td>\n",
       "      <td>7</td>\n",
       "      <td>gasoline</td>\n",
       "      <td>skoda</td>\n",
       "      <td>no</td>\n",
       "      <td>2016-03-31 00:00:00</td>\n",
       "      <td>0</td>\n",
       "      <td>60437</td>\n",
       "      <td>2016-04-06 10:17:21</td>\n",
       "    </tr>\n",
       "  </tbody>\n",
       "</table>\n",
       "</div>"
      ],
      "text/plain": [
       "          date_crawled  price vehicle_type  registration_year gearbox  power  \\\n",
       "0  2016-03-24 11:52:17    480          NaN               1993  manual      0   \n",
       "1  2016-03-24 10:58:45  18300        coupe               2011  manual    190   \n",
       "2  2016-03-14 12:52:21   9800          suv               2004    auto    163   \n",
       "3  2016-03-17 16:54:04   1500        small               2001  manual     75   \n",
       "4  2016-03-31 17:25:20   3600        small               2008  manual     69   \n",
       "\n",
       "   model  kilometer  registration_month fuel_type       brand repaired  \\\n",
       "0   golf     150000                   0    petrol  volkswagen      NaN   \n",
       "1    NaN     125000                   5  gasoline        audi      yes   \n",
       "2  grand     125000                   8  gasoline        jeep      NaN   \n",
       "3   golf     150000                   6    petrol  volkswagen       no   \n",
       "4  fabia      90000                   7  gasoline       skoda       no   \n",
       "\n",
       "          date_created  number_of_pictures  postal_code            last_seen  \n",
       "0  2016-03-24 00:00:00                   0        70435  2016-04-07 03:16:57  \n",
       "1  2016-03-24 00:00:00                   0        66954  2016-04-07 01:46:50  \n",
       "2  2016-03-14 00:00:00                   0        90480  2016-04-05 12:47:46  \n",
       "3  2016-03-17 00:00:00                   0        91074  2016-03-17 17:40:17  \n",
       "4  2016-03-31 00:00:00                   0        60437  2016-04-06 10:17:21  "
      ]
     },
     "execution_count": 5,
     "metadata": {},
     "output_type": "execute_result"
    }
   ],
   "source": [
    "data_0.head()"
   ]
  },
  {
   "cell_type": "markdown",
   "metadata": {},
   "source": [
    "**Найдем явные дубликаты.**"
   ]
  },
  {
   "cell_type": "code",
   "execution_count": 6,
   "metadata": {},
   "outputs": [
    {
     "name": "stdout",
     "output_type": "stream",
     "text": [
      "Количество явных дубликатов data_0: 4\n"
     ]
    }
   ],
   "source": [
    "#Посчитаем явные дубликаты\n",
    "print('Количество явных дубликатов data_0:', data_0.duplicated().sum())"
   ]
  },
  {
   "cell_type": "code",
   "execution_count": 7,
   "metadata": {},
   "outputs": [
    {
     "name": "stdout",
     "output_type": "stream",
     "text": [
      "Количество явных дубликатов data_0: 0\n"
     ]
    }
   ],
   "source": [
    "#Удалим явные дубликаты\n",
    "data_0 = data_0.drop_duplicates()\n",
    "print('Количество явных дубликатов data_0:', data_0.duplicated().sum())"
   ]
  },
  {
   "cell_type": "markdown",
   "metadata": {},
   "source": [
    "**Найдем неявные дубликаты.**"
   ]
  },
  {
   "cell_type": "code",
   "execution_count": 8,
   "metadata": {},
   "outputs": [
    {
     "name": "stdout",
     "output_type": "stream",
     "text": [
      "Количество неявных дубликатов data_0: 0\n"
     ]
    },
    {
     "data": {
      "text/html": [
       "<div>\n",
       "<style scoped>\n",
       "    .dataframe tbody tr th:only-of-type {\n",
       "        vertical-align: middle;\n",
       "    }\n",
       "\n",
       "    .dataframe tbody tr th {\n",
       "        vertical-align: top;\n",
       "    }\n",
       "\n",
       "    .dataframe thead th {\n",
       "        text-align: right;\n",
       "    }\n",
       "</style>\n",
       "<table border=\"1\" class=\"dataframe\">\n",
       "  <thead>\n",
       "    <tr style=\"text-align: right;\">\n",
       "      <th></th>\n",
       "      <th>date_crawled</th>\n",
       "      <th>price</th>\n",
       "      <th>vehicle_type</th>\n",
       "      <th>registration_year</th>\n",
       "      <th>gearbox</th>\n",
       "      <th>power</th>\n",
       "      <th>model</th>\n",
       "      <th>kilometer</th>\n",
       "      <th>registration_month</th>\n",
       "      <th>fuel_type</th>\n",
       "      <th>brand</th>\n",
       "      <th>repaired</th>\n",
       "      <th>date_created</th>\n",
       "      <th>number_of_pictures</th>\n",
       "      <th>postal_code</th>\n",
       "      <th>last_seen</th>\n",
       "    </tr>\n",
       "  </thead>\n",
       "  <tbody>\n",
       "    <tr>\n",
       "      <th>0</th>\n",
       "      <td>2016-03-24 11:52:17</td>\n",
       "      <td>480</td>\n",
       "      <td>NaN</td>\n",
       "      <td>1993</td>\n",
       "      <td>manual</td>\n",
       "      <td>0</td>\n",
       "      <td>golf</td>\n",
       "      <td>150000</td>\n",
       "      <td>0</td>\n",
       "      <td>petrol</td>\n",
       "      <td>volkswagen</td>\n",
       "      <td>NaN</td>\n",
       "      <td>2016-03-24 00:00:00</td>\n",
       "      <td>0</td>\n",
       "      <td>70435</td>\n",
       "      <td>2016-04-07 03:16:57</td>\n",
       "    </tr>\n",
       "    <tr>\n",
       "      <th>1</th>\n",
       "      <td>2016-03-24 10:58:45</td>\n",
       "      <td>18300</td>\n",
       "      <td>coupe</td>\n",
       "      <td>2011</td>\n",
       "      <td>manual</td>\n",
       "      <td>190</td>\n",
       "      <td>NaN</td>\n",
       "      <td>125000</td>\n",
       "      <td>5</td>\n",
       "      <td>gasoline</td>\n",
       "      <td>audi</td>\n",
       "      <td>yes</td>\n",
       "      <td>2016-03-24 00:00:00</td>\n",
       "      <td>0</td>\n",
       "      <td>66954</td>\n",
       "      <td>2016-04-07 01:46:50</td>\n",
       "    </tr>\n",
       "    <tr>\n",
       "      <th>2</th>\n",
       "      <td>2016-03-14 12:52:21</td>\n",
       "      <td>9800</td>\n",
       "      <td>suv</td>\n",
       "      <td>2004</td>\n",
       "      <td>auto</td>\n",
       "      <td>163</td>\n",
       "      <td>grand</td>\n",
       "      <td>125000</td>\n",
       "      <td>8</td>\n",
       "      <td>gasoline</td>\n",
       "      <td>jeep</td>\n",
       "      <td>NaN</td>\n",
       "      <td>2016-03-14 00:00:00</td>\n",
       "      <td>0</td>\n",
       "      <td>90480</td>\n",
       "      <td>2016-04-05 12:47:46</td>\n",
       "    </tr>\n",
       "    <tr>\n",
       "      <th>3</th>\n",
       "      <td>2016-03-17 16:54:04</td>\n",
       "      <td>1500</td>\n",
       "      <td>small</td>\n",
       "      <td>2001</td>\n",
       "      <td>manual</td>\n",
       "      <td>75</td>\n",
       "      <td>golf</td>\n",
       "      <td>150000</td>\n",
       "      <td>6</td>\n",
       "      <td>petrol</td>\n",
       "      <td>volkswagen</td>\n",
       "      <td>no</td>\n",
       "      <td>2016-03-17 00:00:00</td>\n",
       "      <td>0</td>\n",
       "      <td>91074</td>\n",
       "      <td>2016-03-17 17:40:17</td>\n",
       "    </tr>\n",
       "    <tr>\n",
       "      <th>4</th>\n",
       "      <td>2016-03-31 17:25:20</td>\n",
       "      <td>3600</td>\n",
       "      <td>small</td>\n",
       "      <td>2008</td>\n",
       "      <td>manual</td>\n",
       "      <td>69</td>\n",
       "      <td>fabia</td>\n",
       "      <td>90000</td>\n",
       "      <td>7</td>\n",
       "      <td>gasoline</td>\n",
       "      <td>skoda</td>\n",
       "      <td>no</td>\n",
       "      <td>2016-03-31 00:00:00</td>\n",
       "      <td>0</td>\n",
       "      <td>60437</td>\n",
       "      <td>2016-04-06 10:17:21</td>\n",
       "    </tr>\n",
       "  </tbody>\n",
       "</table>\n",
       "</div>"
      ],
      "text/plain": [
       "          date_crawled  price vehicle_type  registration_year gearbox  power  \\\n",
       "0  2016-03-24 11:52:17    480          NaN               1993  manual      0   \n",
       "1  2016-03-24 10:58:45  18300        coupe               2011  manual    190   \n",
       "2  2016-03-14 12:52:21   9800          suv               2004    auto    163   \n",
       "3  2016-03-17 16:54:04   1500        small               2001  manual     75   \n",
       "4  2016-03-31 17:25:20   3600        small               2008  manual     69   \n",
       "\n",
       "   model  kilometer  registration_month fuel_type       brand repaired  \\\n",
       "0   golf     150000                   0    petrol  volkswagen      NaN   \n",
       "1    NaN     125000                   5  gasoline        audi      yes   \n",
       "2  grand     125000                   8  gasoline        jeep      NaN   \n",
       "3   golf     150000                   6    petrol  volkswagen       no   \n",
       "4  fabia      90000                   7  gasoline       skoda       no   \n",
       "\n",
       "          date_created  number_of_pictures  postal_code            last_seen  \n",
       "0  2016-03-24 00:00:00                   0        70435  2016-04-07 03:16:57  \n",
       "1  2016-03-24 00:00:00                   0        66954  2016-04-07 01:46:50  \n",
       "2  2016-03-14 00:00:00                   0        90480  2016-04-05 12:47:46  \n",
       "3  2016-03-17 00:00:00                   0        91074  2016-03-17 17:40:17  \n",
       "4  2016-03-31 00:00:00                   0        60437  2016-04-06 10:17:21  "
      ]
     },
     "execution_count": 8,
     "metadata": {},
     "output_type": "execute_result"
    }
   ],
   "source": [
    "#Найдем количество неявных дубликатов для data_fm\n",
    "data_0['vehicle_type'] = data_0['vehicle_type'].str.lower()\n",
    "data_0['gearbox'] = data_0['gearbox'].str.lower()\n",
    "data_0['model'] = data_0['model'].str.lower()\n",
    "data_0['fuel_type'] = data_0['fuel_type'].str.lower()\n",
    "data_0['brand'] = data_0['brand'].str.lower()\n",
    "data_0['repaired'] = data_0['repaired'].str.lower()\n",
    "print('Количество неявных дубликатов data_0:', data_0.duplicated().sum())\n",
    "data_0.head()"
   ]
  },
  {
   "cell_type": "markdown",
   "metadata": {},
   "source": [
    "**Рассмотрим уникальные значения категориальных столбцов в датафрейме data_0.**"
   ]
  },
  {
   "cell_type": "code",
   "execution_count": 9,
   "metadata": {},
   "outputs": [
    {
     "name": "stdout",
     "output_type": "stream",
     "text": [
      "столбец - vehicle_type:  ['bus' 'convertible' 'coupe' 'other' 'sedan' 'small' 'suv' 'wagon' nan] \n",
      "\n",
      "столбец - gearbox:  ['auto' 'manual' nan] \n",
      "\n",
      "столбец - model:  ['100' '145' '147' '156' '159' '1_reihe' '1er' '200' '2_reihe' '300c'\n",
      " '3_reihe' '3er' '4_reihe' '500' '5_reihe' '5er' '601' '6_reihe' '6er'\n",
      " '7er' '80' '850' '90' '900' '9000' '911' 'a1' 'a2' 'a3' 'a4' 'a5' 'a6'\n",
      " 'a8' 'a_klasse' 'accord' 'agila' 'alhambra' 'almera' 'altea' 'amarok'\n",
      " 'antara' 'arosa' 'astra' 'auris' 'avensis' 'aveo' 'aygo' 'b_klasse'\n",
      " 'b_max' 'beetle' 'berlingo' 'bora' 'boxster' 'bravo' 'c1' 'c2' 'c3' 'c4'\n",
      " 'c5' 'c_klasse' 'c_max' 'c_reihe' 'caddy' 'calibra' 'captiva' 'carisma'\n",
      " 'carnival' 'cayenne' 'cc' 'ceed' 'charade' 'cherokee' 'citigo' 'civic'\n",
      " 'cl' 'clio' 'clk' 'clubman' 'colt' 'combo' 'cooper' 'cordoba' 'corolla'\n",
      " 'corsa' 'cr_reihe' 'croma' 'crossfire' 'cuore' 'cx_reihe' 'defender'\n",
      " 'delta' 'discovery' 'doblo' 'ducato' 'duster' 'e_klasse' 'elefantino'\n",
      " 'eos' 'escort' 'espace' 'exeo' 'fabia' 'fiesta' 'focus' 'forester'\n",
      " 'forfour' 'fortwo' 'fox' 'freelander' 'fusion' 'g_klasse' 'galant'\n",
      " 'galaxy' 'getz' 'gl' 'glk' 'golf' 'grand' 'i3' 'i_reihe' 'ibiza'\n",
      " 'impreza' 'insignia' 'jazz' 'jetta' 'jimny' 'juke' 'justy' 'ka' 'kadett'\n",
      " 'kaefer' 'kalina' 'kalos' 'kangoo' 'kappa' 'kuga' 'laguna' 'lancer'\n",
      " 'lanos' 'legacy' 'leon' 'lodgy' 'logan' 'lupo' 'lybra' 'm_klasse'\n",
      " 'm_reihe' 'materia' 'matiz' 'megane' 'meriva' 'micra' 'mii' 'modus'\n",
      " 'mondeo' 'move' 'musa' 'mustang' 'mx_reihe' 'navara' 'niva' 'note'\n",
      " 'nubira' 'octavia' 'omega' 'one' 'other' 'outlander' 'pajero' 'panda'\n",
      " 'passat' 'phaeton' 'picanto' 'polo' 'primera' 'ptcruiser' 'punto' 'q3'\n",
      " 'q5' 'q7' 'qashqai' 'r19' 'range_rover' 'range_rover_evoque'\n",
      " 'range_rover_sport' 'rangerover' 'rav' 'rio' 'roadster' 'roomster'\n",
      " 'rx_reihe' 's60' 's_klasse' 's_max' 's_type' 'samara' 'sandero' 'santa'\n",
      " 'scenic' 'scirocco' 'seicento' 'serie_1' 'serie_2' 'serie_3' 'sharan'\n",
      " 'signum' 'sirion' 'sl' 'slk' 'sorento' 'spark' 'spider' 'sportage'\n",
      " 'sprinter' 'stilo' 'superb' 'swift' 'terios' 'tigra' 'tiguan' 'toledo'\n",
      " 'touareg' 'touran' 'transit' 'transporter' 'tt' 'tucson' 'twingo' 'up'\n",
      " 'v40' 'v50' 'v60' 'v70' 'v_klasse' 'vectra' 'verso' 'viano' 'vito'\n",
      " 'vivaro' 'voyager' 'wrangler' 'x_reihe' 'x_trail' 'x_type' 'xc_reihe'\n",
      " 'yaris' 'yeti' 'ypsilon' 'z_reihe' 'zafira' nan] \n",
      "\n",
      "столбец - fuel_type:  ['cng' 'electric' 'gasoline' 'hybrid' 'lpg' 'other' 'petrol' nan] \n",
      "\n",
      "столбец - brand:  ['alfa_romeo' 'audi' 'bmw' 'chevrolet' 'chrysler' 'citroen' 'dacia'\n",
      " 'daewoo' 'daihatsu' 'fiat' 'ford' 'honda' 'hyundai' 'jaguar' 'jeep' 'kia'\n",
      " 'lada' 'lancia' 'land_rover' 'mazda' 'mercedes_benz' 'mini' 'mitsubishi'\n",
      " 'nissan' 'opel' 'peugeot' 'porsche' 'renault' 'rover' 'saab' 'seat'\n",
      " 'skoda' 'smart' 'sonstige_autos' 'subaru' 'suzuki' 'toyota' 'trabant'\n",
      " 'volkswagen' 'volvo'] \n",
      "\n",
      "столбец - repaired:  ['no' 'yes' nan] \n",
      "\n"
     ]
    }
   ],
   "source": [
    "#Выведем уникальные значения для категориальных столбцов в датафрейме data_0\n",
    "print('столбец - vehicle_type: ', data_0['vehicle_type'].sort_values().unique(), '\\n')\n",
    "print('столбец - gearbox: ', data_0['gearbox'].sort_values().unique(), '\\n')\n",
    "print('столбец - model: ', data_0['model'].sort_values().unique(), '\\n')\n",
    "print('столбец - fuel_type: ', data_0['fuel_type'].sort_values().unique(), '\\n')\n",
    "print('столбец - brand: ', data_0['brand'].sort_values().unique(), '\\n')\n",
    "print('столбец - repaired: ', data_0['repaired'].sort_values().unique(), '\\n')"
   ]
  },
  {
   "cell_type": "markdown",
   "metadata": {},
   "source": [
    "**Обработаем пропуски.**"
   ]
  },
  {
   "cell_type": "code",
   "execution_count": 10,
   "metadata": {},
   "outputs": [
    {
     "name": "stdout",
     "output_type": "stream",
     "text": [
      "Всего объектов: 354365\n",
      "\n",
      "Количество объектов с пропусками в признаках:\n",
      "vehicle_type (object)\t= 37490 (10%)\n",
      "gearbox (object)\t= 19833 (5%)\n",
      "model (object)\t= 19705 (5%)\n",
      "fuel_type (object)\t= 32895 (9%)\n",
      "repaired (object)\t= 71154 (20%)\n"
     ]
    }
   ],
   "source": [
    "# Подсчёт пропусков\n",
    "data_shape = data_0.shape[0]\n",
    "print('Всего объектов:', data_shape) \n",
    "print() \n",
    "print('Количество объектов с пропусками в признаках:') \n",
    "for i in data_0.columns:\n",
    "    if data_shape - data_0[i].loc[data_0[i].notna()].shape[0] > 0:\n",
    "        _a = data_shape - data_0[i].loc[data_0[i].notna()].shape[0]\n",
    "        _b = int((1 - data_0[i].loc[data_0[i].notna()].shape[0] / data_shape) * 100) \n",
    "        _c = data_0[i].dtype\n",
    "        print(f'{i} ({_c})\\t= {_a} ({_b}%)') "
   ]
  },
  {
   "cell_type": "code",
   "execution_count": 11,
   "metadata": {},
   "outputs": [],
   "source": [
    "# Заменим пропуски\n",
    "# на значение \"not_found\" \n",
    "for i in data_0.columns:\n",
    "    if data_shape - data_0[i].loc[data_0[i].notna()].shape[0] > 0:\n",
    "        data_0.loc[data_0[i].isna(), i] = 'not_found'"
   ]
  },
  {
   "cell_type": "code",
   "execution_count": 12,
   "metadata": {},
   "outputs": [],
   "source": [
    "# Заменим значения \"other\" на \"not_found\" \n",
    "# для объединения отсутствующей информации в признаках \"vehicle_type\", \"model\" и \"fuel_type\"\n",
    "data_0.loc[\n",
    "    (data_0['vehicle_type'] == 'other') | \n",
    "    (data_0['model'] == 'other') |\n",
    "    (data_0['fuel_type'] == 'other'), \n",
    "    ['vehicle_type', 'model', 'fuel_type'] \n",
    "] = 'not_found' "
   ]
  },
  {
   "cell_type": "code",
   "execution_count": 13,
   "metadata": {},
   "outputs": [],
   "source": [
    "# Удалим неинформативные признаки\n",
    "data_0 = data_0.drop([\n",
    "    'date_crawled', \n",
    "    'registration_month', \n",
    "    'date_created', \n",
    "    'number_of_pictures', \n",
    "    'postal_code', \n",
    "    'last_seen'\n",
    "], axis=1)"
   ]
  },
  {
   "cell_type": "code",
   "execution_count": 14,
   "metadata": {
    "scrolled": true
   },
   "outputs": [
    {
     "data": {
      "text/html": [
       "<div>\n",
       "<style scoped>\n",
       "    .dataframe tbody tr th:only-of-type {\n",
       "        vertical-align: middle;\n",
       "    }\n",
       "\n",
       "    .dataframe tbody tr th {\n",
       "        vertical-align: top;\n",
       "    }\n",
       "\n",
       "    .dataframe thead th {\n",
       "        text-align: right;\n",
       "    }\n",
       "</style>\n",
       "<table border=\"1\" class=\"dataframe\">\n",
       "  <thead>\n",
       "    <tr style=\"text-align: right;\">\n",
       "      <th></th>\n",
       "      <th>price</th>\n",
       "      <th>vehicle_type</th>\n",
       "      <th>registration_year</th>\n",
       "      <th>gearbox</th>\n",
       "      <th>power</th>\n",
       "      <th>model</th>\n",
       "      <th>kilometer</th>\n",
       "      <th>fuel_type</th>\n",
       "      <th>brand</th>\n",
       "      <th>repaired</th>\n",
       "    </tr>\n",
       "  </thead>\n",
       "  <tbody>\n",
       "    <tr>\n",
       "      <th>0</th>\n",
       "      <td>480</td>\n",
       "      <td>not_found</td>\n",
       "      <td>1993</td>\n",
       "      <td>manual</td>\n",
       "      <td>0</td>\n",
       "      <td>golf</td>\n",
       "      <td>150000</td>\n",
       "      <td>petrol</td>\n",
       "      <td>volkswagen</td>\n",
       "      <td>not_found</td>\n",
       "    </tr>\n",
       "    <tr>\n",
       "      <th>1</th>\n",
       "      <td>18300</td>\n",
       "      <td>coupe</td>\n",
       "      <td>2011</td>\n",
       "      <td>manual</td>\n",
       "      <td>190</td>\n",
       "      <td>not_found</td>\n",
       "      <td>125000</td>\n",
       "      <td>gasoline</td>\n",
       "      <td>audi</td>\n",
       "      <td>yes</td>\n",
       "    </tr>\n",
       "    <tr>\n",
       "      <th>2</th>\n",
       "      <td>9800</td>\n",
       "      <td>suv</td>\n",
       "      <td>2004</td>\n",
       "      <td>auto</td>\n",
       "      <td>163</td>\n",
       "      <td>grand</td>\n",
       "      <td>125000</td>\n",
       "      <td>gasoline</td>\n",
       "      <td>jeep</td>\n",
       "      <td>not_found</td>\n",
       "    </tr>\n",
       "    <tr>\n",
       "      <th>3</th>\n",
       "      <td>1500</td>\n",
       "      <td>small</td>\n",
       "      <td>2001</td>\n",
       "      <td>manual</td>\n",
       "      <td>75</td>\n",
       "      <td>golf</td>\n",
       "      <td>150000</td>\n",
       "      <td>petrol</td>\n",
       "      <td>volkswagen</td>\n",
       "      <td>no</td>\n",
       "    </tr>\n",
       "    <tr>\n",
       "      <th>4</th>\n",
       "      <td>3600</td>\n",
       "      <td>small</td>\n",
       "      <td>2008</td>\n",
       "      <td>manual</td>\n",
       "      <td>69</td>\n",
       "      <td>fabia</td>\n",
       "      <td>90000</td>\n",
       "      <td>gasoline</td>\n",
       "      <td>skoda</td>\n",
       "      <td>no</td>\n",
       "    </tr>\n",
       "  </tbody>\n",
       "</table>\n",
       "</div>"
      ],
      "text/plain": [
       "   price vehicle_type  registration_year gearbox  power      model  kilometer  \\\n",
       "0    480    not_found               1993  manual      0       golf     150000   \n",
       "1  18300        coupe               2011  manual    190  not_found     125000   \n",
       "2   9800          suv               2004    auto    163      grand     125000   \n",
       "3   1500        small               2001  manual     75       golf     150000   \n",
       "4   3600        small               2008  manual     69      fabia      90000   \n",
       "\n",
       "  fuel_type       brand   repaired  \n",
       "0    petrol  volkswagen  not_found  \n",
       "1  gasoline        audi        yes  \n",
       "2  gasoline        jeep  not_found  \n",
       "3    petrol  volkswagen         no  \n",
       "4  gasoline       skoda         no  "
      ]
     },
     "execution_count": 14,
     "metadata": {},
     "output_type": "execute_result"
    }
   ],
   "source": [
    "data_0.head()"
   ]
  },
  {
   "cell_type": "markdown",
   "metadata": {},
   "source": [
    "**Рассмотрим уникальные значения количественных столбцов в датафрейме data_0.**"
   ]
  },
  {
   "cell_type": "code",
   "execution_count": 15,
   "metadata": {},
   "outputs": [
    {
     "name": "stdout",
     "output_type": "stream",
     "text": [
      "столбец - price:  [    0     1     2 ... 19998 19999 20000] \n",
      "\n",
      "столбец - registration_year:  [1000 1001 1039 1111 1200 1234 1253 1255 1300 1400 1500 1600 1602 1688\n",
      " 1800 1910 1915 1919 1920 1923 1925 1927 1928 1929 1930 1931 1932 1933\n",
      " 1934 1935 1936 1937 1938 1940 1941 1942 1943 1944 1945 1946 1947 1948\n",
      " 1949 1950 1951 1952 1953 1954 1955 1956 1957 1958 1959 1960 1961 1962\n",
      " 1963 1964 1965 1966 1967 1968 1969 1970 1971 1972 1973 1974 1975 1976\n",
      " 1977 1978 1979 1980 1981 1982 1983 1984 1985 1986 1987 1988 1989 1990\n",
      " 1991 1992 1993 1994 1995 1996 1997 1998 1999 2000 2001 2002 2003 2004\n",
      " 2005 2006 2007 2008 2009 2010 2011 2012 2013 2014 2015 2016 2017 2018\n",
      " 2019 2066 2200 2222 2290 2500 2800 2900 3000 3200 3500 3700 3800 4000\n",
      " 4100 4500 4800 5000 5300 5555 5600 5900 5911 6000 6500 7000 7100 7500\n",
      " 7800 8000 8200 8455 8500 8888 9000 9229 9450 9996 9999] \n",
      "\n",
      "столбец - power:  [    0     1     2     3     4     5     6     7     8     9    10    11\n",
      "    12    13    14    15    16    17    18    19    20    21    22    23\n",
      "    24    25    26    27    28    29    30    31    32    33    34    35\n",
      "    36    37    38    39    40    41    42    43    44    45    46    47\n",
      "    48    49    50    51    52    53    54    55    56    57    58    59\n",
      "    60    61    62    63    64    65    66    67    68    69    70    71\n",
      "    72    73    74    75    76    77    78    79    80    81    82    83\n",
      "    84    85    86    87    88    89    90    91    92    93    94    95\n",
      "    96    97    98    99   100   101   102   103   104   105   106   107\n",
      "   108   109   110   111   112   113   114   115   116   117   118   119\n",
      "   120   121   122   123   124   125   126   127   128   129   130   131\n",
      "   132   133   134   135   136   137   138   139   140   141   142   143\n",
      "   144   145   146   147   148   149   150   151   152   153   154   155\n",
      "   156   157   158   159   160   161   162   163   164   165   166   167\n",
      "   168   169   170   171   172   173   174   175   176   177   178   179\n",
      "   180   181   182   183   184   185   186   187   188   189   190   191\n",
      "   192   193   194   195   196   197   198   199   200   201   202   203\n",
      "   204   205   206   207   208   209   210   211   212   213   214   215\n",
      "   216   217   218   219   220   221   222   223   224   225   226   227\n",
      "   228   229   230   231   232   233   234   235   236   237   238   239\n",
      "   240   241   242   243   244   245   246   247   248   249   250   251\n",
      "   252   253   254   255   256   257   258   259   260   261   262   264\n",
      "   265   266   267   268   269   270   271   272   273   274   275   276\n",
      "   277   278   279   280   281   282   283   284   285   286   287   288\n",
      "   289   290   292   293   294   295   296   297   298   299   300   301\n",
      "   303   304   305   306   307   308   309   310   311   313   314   315\n",
      "   316   317   318   320   321   322   323   324   325   326   327   328\n",
      "   329   330   331   332   333   334   335   336   337   338   339   340\n",
      "   341   343   344   345   346   347   348   349   350   351   352   353\n",
      "   354   355   356   357   358   360   361   362   363   364   365   367\n",
      "   368   370   371   374   375   376   377   379   380   381   382   385\n",
      "   386   387   388   390   392   394   396   398   399   400   401   402\n",
      "   405   408   409   411   416   420   421   425   426   428   430   431\n",
      "   435   440   442   445   449   450   454   457   459   460   475   476\n",
      "   485   487   489   490   500   504   505   507   508   510   514   515\n",
      "   517   519   520   521   525   530   540   541   544   550   551   553\n",
      "   560   572   574   579   580   584   585   599   600   601   602   603\n",
      "   604   606   607   610   612   620   640   645   650   651   671   678\n",
      "   682   685   696   700   702   703   732   743   750   751   754   771\n",
      "   776   800   805   808   850   851   871   900   901   902   903   907\n",
      "   909   923   950   952   953   960   998   999  1000  1001  1002  1003\n",
      "  1004  1005  1011  1012  1016  1017  1021  1024  1054  1055  1056  1062\n",
      "  1079  1082  1090  1100  1102  1103  1105  1111  1115  1120  1149  1151\n",
      "  1158  1160  1162  1164  1199  1200  1202  1221  1223  1230  1239  1240\n",
      "  1241  1250  1252  1256  1275  1288  1299  1300  1312  1317  1324  1339\n",
      "  1351  1360  1362  1363  1367  1390  1394  1398  1399  1400  1401  1403\n",
      "  1405  1416  1432  1433  1436  1500  1501  1502  1503  1506  1521  1548\n",
      "  1595  1596  1597  1598  1600  1625  1631  1653  1659  1689  1700  1701\n",
      "  1703  1704  1707  1753  1771  1779  1780  1781  1783  1793  1796  1799\n",
      "  1800  1801  1870  1895  1896  1900  1910  1920  1922  1933  1937  1968\n",
      "  1986  1988  1992  1993  1995  1998  1999  2000  2004  2005  2007  2009\n",
      "  2016  2017  2018  2172  2200  2201  2331  2340  2389  2402  2461  2598\n",
      "  2729  2789  2792  2799  3000  3199  3454  3500  3750  4400  4507  4700\n",
      "  5000  5411  5420  5575  5809  5815  5867  6006  6010  6011  6012  6018\n",
      "  6045  6062  6226  6512  6920  7508  7511  7512  7515  7518  7529  7544\n",
      "  8011  8259  8404  8500  9000  9007  9010  9011  9012  9013  9710 10000\n",
      " 10110 10218 10311 10317 10520 10522 10710 10910 10912 11011 11025 11111\n",
      " 11509 11530 11635 12012 12510 12512 12684 13616 13636 14009 15001 15016\n",
      " 15017 15020 15033 16011 16051 16311 16312 17011 17019 17410 17700 17932\n",
      " 19208 19211 19312 20000] \n",
      "\n",
      "столбец - kilometer:  [  5000  10000  20000  30000  40000  50000  60000  70000  80000  90000\n",
      " 100000 125000 150000] \n",
      "\n"
     ]
    }
   ],
   "source": [
    "#Выведем уникальные значения для категориальных столбцов в датафрейме data_0\n",
    "print('столбец - price: ', data_0['price'].sort_values().unique(), '\\n')\n",
    "print('столбец - registration_year: ', data_0['registration_year'].sort_values().unique(), '\\n')\n",
    "print('столбец - power: ', data_0['power'].sort_values().unique(), '\\n')\n",
    "print('столбец - kilometer: ', data_0['kilometer'].sort_values().unique(), '\\n')"
   ]
  },
  {
   "cell_type": "markdown",
   "metadata": {},
   "source": [
    "Мы обнаружили, что для признака \"power\" существуют значения равные нулю \"0\", и значения больше \"5000\", чего не может быть. Посчитаем их количество."
   ]
  },
  {
   "cell_type": "code",
   "execution_count": 16,
   "metadata": {
    "scrolled": true
   },
   "outputs": [
    {
     "data": {
      "text/plain": [
       "40225"
      ]
     },
     "execution_count": 16,
     "metadata": {},
     "output_type": "execute_result"
    }
   ],
   "source": [
    "df_power_0 = data_0[data_0['power'] == 0]\n",
    "df_power_0.shape[0]"
   ]
  },
  {
   "cell_type": "code",
   "execution_count": 17,
   "metadata": {},
   "outputs": [
    {
     "name": "stdout",
     "output_type": "stream",
     "text": [
      "столбец - power:  [   1    2    3    4    5    6    7    8    9   10   11   12   13   14\n",
      "   15   16   17   18   19   20   21   22   23   24   25   26   27   28\n",
      "   29   30   31   32   33   34   35   36   37   38   39   40   41   42\n",
      "   43   44   45   46   47   48   49   50   51   52   53   54   55   56\n",
      "   57   58   59   60   61   62   63   64   65   66   67   68   69   70\n",
      "   71   72   73   74   75   76   77   78   79   80   81   82   83   84\n",
      "   85   86   87   88   89   90   91   92   93   94   95   96   97   98\n",
      "   99  100  101  102  103  104  105  106  107  108  109  110  111  112\n",
      "  113  114  115  116  117  118  119  120  121  122  123  124  125  126\n",
      "  127  128  129  130  131  132  133  134  135  136  137  138  139  140\n",
      "  141  142  143  144  145  146  147  148  149  150  151  152  153  154\n",
      "  155  156  157  158  159  160  161  162  163  164  165  166  167  168\n",
      "  169  170  171  172  173  174  175  176  177  178  179  180  181  182\n",
      "  183  184  185  186  187  188  189  190  191  192  193  194  195  196\n",
      "  197  198  199  200  201  202  203  204  205  206  207  208  209  210\n",
      "  211  212  213  214  215  216  217  218  219  220  221  222  223  224\n",
      "  225  226  227  228  229  230  231  232  233  234  235  236  237  238\n",
      "  239  240  241  242  243  244  245  246  247  248  249  250  251  252\n",
      "  253  254  255  256  257  258  259  260  261  262  264  265  266  267\n",
      "  268  269  270  271  272  273  274  275  276  277  278  279  280  281\n",
      "  282  283  284  285  286  287  288  289  290  292  293  294  295  296\n",
      "  297  298  299  300  301  303  304  305  306  307  308  309  310  311\n",
      "  313  314  315  316  317  318  320  321  322  323  324  325  326  327\n",
      "  328  329  330  331  332  333  334  335  336  337  338  339  340  341\n",
      "  343  344  345  346  347  348  349  350  351  352  353  354  355  356\n",
      "  357  358  360  361  362  363  364  365  367  368  370  371  374  375\n",
      "  376  377  379  380  381  382  385  386  387  388  390  392  394  396\n",
      "  398  399  400  401  402  405  408  409  411  416  420  421  425  426\n",
      "  428  430  431  435  440  442  445  449  450  454  457  459  460  475\n",
      "  476  485  487  489  490  500  504  505  507  508  510  514  515  517\n",
      "  519  520  521  525  530  540  541  544  550  551  553  560  572  574\n",
      "  579  580  584  585  599  600  601  602  603  604  606  607  610  612\n",
      "  620  640  645  650  651  671  678  682  685  696  700  702  703  732\n",
      "  743  750  751  754  771  776  800  805  808  850  851  871  900  901\n",
      "  902  903  907  909  923  950  952  953  960  998  999 1000 1001 1002\n",
      " 1003 1004 1005 1011 1012 1016 1017 1021 1024 1054 1055 1056 1062 1079\n",
      " 1082 1090 1100 1102 1103 1105 1111 1115 1120 1149 1151 1158 1160 1162\n",
      " 1164 1199 1200 1202 1221 1223 1230 1239 1240 1241 1250 1252 1256 1275\n",
      " 1288 1299 1300 1312 1317 1324 1339 1351 1360 1362 1363 1367 1390 1394\n",
      " 1398 1399 1400 1401 1403 1405 1416 1432 1433 1436 1500 1501 1502 1503\n",
      " 1506 1521 1548 1595 1596 1597 1598 1600 1625 1631 1653 1659 1689 1700\n",
      " 1701 1703 1704 1707 1753 1771 1779 1780 1781 1783 1793 1796 1799 1800\n",
      " 1801 1870 1895 1896 1900 1910 1920 1922 1933 1937 1968 1986 1988 1992\n",
      " 1993 1995 1998 1999 2000 2004 2005 2007 2009 2016 2017 2018 2172 2200\n",
      " 2201 2331 2340 2389 2402 2461 2598 2729 2789 2792 2799 3000 3199 3454\n",
      " 3500 3750 4400 4507 4700 5000] \n",
      "\n"
     ]
    }
   ],
   "source": [
    "# Заменим невозможные данные признака \"power\" медианой для связки признаков \"brand\" и \"model\"\n",
    "power_median = data_0.pivot_table(values='power', index=['brand', 'model'], aggfunc='median')\n",
    "\n",
    "for i in power_median.index:\n",
    "    data_0['power'] = np.where(\n",
    "        ((data_0['power'] < 1) | (data_0['power'] > 5000)) & \n",
    "        ((data_0['brand'] == i[0]) & (data_0['model'] == i[1])), \n",
    "        power_median.loc[i], \n",
    "        data_0['power'])\n",
    "\n",
    "    \n",
    "data_0['power'] = data_0['power'].astype('int')\n",
    "\n",
    "# Удалим нулевые значения для автомобилей без модели или бренда\n",
    "data_0 = data_0[data_0['power'] != 0]\n",
    "print('столбец - power: ', data_0['power'].sort_values().unique(), '\\n')"
   ]
  },
  {
   "cell_type": "markdown",
   "metadata": {},
   "source": [
    "Так же мы обнаружили в столбце \"registration_year\" года больше 2024, и меньше 1900, что невозможно. Удалим их."
   ]
  },
  {
   "cell_type": "code",
   "execution_count": 18,
   "metadata": {
    "scrolled": true
   },
   "outputs": [
    {
     "name": "stdout",
     "output_type": "stream",
     "text": [
      "столбец - registration_year:  [1910 1915 1919 1920 1923 1925 1927 1928 1929 1930 1931 1932 1933 1934\n",
      " 1935 1936 1937 1938 1940 1941 1942 1943 1944 1945 1946 1947 1948 1949\n",
      " 1950 1951 1952 1953 1954 1955 1956 1957 1958 1959 1960 1961 1962 1963\n",
      " 1964 1965 1966 1967 1968 1969 1970 1971 1972 1973 1974 1975 1976 1977\n",
      " 1978 1979 1980 1981 1982 1983 1984 1985 1986 1987 1988 1989 1990 1991\n",
      " 1992 1993 1994 1995 1996 1997 1998 1999 2000 2001 2002 2003 2004 2005\n",
      " 2006 2007 2008 2009 2010 2011 2012 2013 2014 2015 2016 2017 2018 2019] \n",
      "\n"
     ]
    }
   ],
   "source": [
    "data_0 = data_0[data_0['registration_year'] <= 2024]\n",
    "data_0 = data_0[data_0['registration_year'] >= 1900]\n",
    "print('столбец - registration_year: ', data_0['registration_year'].sort_values().unique(), '\\n')"
   ]
  },
  {
   "cell_type": "markdown",
   "metadata": {},
   "source": [
    "**Проверим результаты предобработки данных.**"
   ]
  },
  {
   "cell_type": "code",
   "execution_count": 19,
   "metadata": {
    "scrolled": true
   },
   "outputs": [
    {
     "name": "stdout",
     "output_type": "stream",
     "text": [
      "<class 'pandas.core.frame.DataFrame'>\n",
      "Int64Index: 354077 entries, 0 to 354368\n",
      "Data columns (total 10 columns):\n",
      " #   Column             Non-Null Count   Dtype \n",
      "---  ------             --------------   ----- \n",
      " 0   price              354077 non-null  int64 \n",
      " 1   vehicle_type       354077 non-null  object\n",
      " 2   registration_year  354077 non-null  int64 \n",
      " 3   gearbox            354077 non-null  object\n",
      " 4   power              354077 non-null  int64 \n",
      " 5   model              354077 non-null  object\n",
      " 6   kilometer          354077 non-null  int64 \n",
      " 7   fuel_type          354077 non-null  object\n",
      " 8   brand              354077 non-null  object\n",
      " 9   repaired           354077 non-null  object\n",
      "dtypes: int64(4), object(6)\n",
      "memory usage: 29.7+ MB\n"
     ]
    }
   ],
   "source": [
    "data_0.info()"
   ]
  },
  {
   "cell_type": "markdown",
   "metadata": {},
   "source": [
    "**Сделаем выводы по предобработке данных.**\n",
    "\n",
    "- Все столбцы и значения в категориальных столбцах были переведены в змеиный регистр.\n",
    "- Были обнаружены и удалены явные дубликаты.\n",
    "- Неявных дубликатов обнаружено не было.\n",
    "- Значения Nan в датасете были заменены на 'not_found'.\n",
    "- Значения в столбце 'power' выше 5000 и ниже 1 были заменены на медианные по группе признаков 'model' и 'brand'."
   ]
  },
  {
   "cell_type": "markdown",
   "metadata": {},
   "source": [
    "### Исследовательский анализ данных."
   ]
  },
  {
   "cell_type": "code",
   "execution_count": 20,
   "metadata": {},
   "outputs": [],
   "source": [
    "#Напишем функцию для построения распределений признаков датасетов\n",
    "def distribution(data, fx):\n",
    "    data[fx].plot(kind='box', grid=True)\n",
    "    plt.show()\n",
    "\n",
    "    display(data[fx].describe())\n",
    "\n",
    "    data[fx].plot(kind='hist', grid=True, bins=30)\n",
    "    plt.title(f'Распределение признака {fx}')\n",
    "    plt.xlabel(f'Распределение {fx}')\n",
    "    plt.ylabel(f'Величина значений {fx}')"
   ]
  },
  {
   "cell_type": "markdown",
   "metadata": {},
   "source": [
    "**Исследуем каждый значимый признак датасета data_0 в отдельности.**"
   ]
  },
  {
   "cell_type": "code",
   "execution_count": 21,
   "metadata": {},
   "outputs": [
    {
     "data": {
      "image/png": "[encoded data removed]",
      "text/plain": [
       "<Figure size 432x288 with 1 Axes>"
      ]
     },
     "metadata": {
      "needs_background": "light"
     },
     "output_type": "display_data"
    },
    {
     "data": {
      "text/plain": [
       "count    354077.000000\n",
       "mean       4418.710484\n",
       "std        4514.324828\n",
       "min           0.000000\n",
       "25%        1050.000000\n",
       "50%        2700.000000\n",
       "75%        6400.000000\n",
       "max       20000.000000\n",
       "Name: price, dtype: float64"
      ]
     },
     "metadata": {},
     "output_type": "display_data"
    },
    {
     "data": {
      "image/png": "[encoded data removed]",
      "text/plain": [
       "<Figure size 432x288 with 1 Axes>"
      ]
     },
     "metadata": {
      "needs_background": "light"
     },
     "output_type": "display_data"
    }
   ],
   "source": [
    "#Построим распределение и удалим аномальные значения для столбца 'price'\n",
    "distribution(data_0, 'price')"
   ]
  },
  {
   "cell_type": "markdown",
   "metadata": {},
   "source": [
    "**Вывод:** Обнаружены выбросы в данных, но мы не будем их удалять, так как они имеют равномерный характер, и их удаление может повредить анализу, так как их слишком много. Не все значения укладываются в 3 межквартильных размаха \"ящика с усами\". Медианное значение price равно 2700.0. Распределение значений имеет вид отличный от нормального."
   ]
  },
  {
   "cell_type": "code",
   "execution_count": 22,
   "metadata": {},
   "outputs": [
    {
     "data": {
      "image/png": "[encoded data removed]",
      "text/plain": [
       "<Figure size 432x288 with 1 Axes>"
      ]
     },
     "metadata": {
      "needs_background": "light"
     },
     "output_type": "display_data"
    },
    {
     "data": {
      "text/plain": [
       "count    354077.000000\n",
       "mean       2003.092548\n",
       "std           7.515648\n",
       "min        1910.000000\n",
       "25%        1999.000000\n",
       "50%        2003.000000\n",
       "75%        2008.000000\n",
       "max        2019.000000\n",
       "Name: registration_year, dtype: float64"
      ]
     },
     "metadata": {},
     "output_type": "display_data"
    },
    {
     "data": {
      "image/png": "[encoded data removed]",
      "text/plain": [
       "<Figure size 432x288 with 1 Axes>"
      ]
     },
     "metadata": {
      "needs_background": "light"
     },
     "output_type": "display_data"
    }
   ],
   "source": [
    "#Построим распределение и удалим аномальные значения для столбца 'registration_year'\n",
    "distribution(data_0, 'registration_year')"
   ]
  },
  {
   "cell_type": "markdown",
   "metadata": {},
   "source": [
    "**Вывод:** Обнаружены выбросы в данных, но мы не будем их удалять, так как они имеют равномерный характер, и их удаление может повредить анализу, так как их слишком много. Не все значения укладываются в 3 межквартильных размаха \"ящика с усами\". Медианное значение registration_year равно 2003.0. Распределение значений имеет вид близкий к нормальному."
   ]
  },
  {
   "cell_type": "code",
   "execution_count": 23,
   "metadata": {},
   "outputs": [
    {
     "data": {
      "image/png": "[encoded data removed]",
      "text/plain": [
       "<Figure size 432x288 with 1 Axes>"
      ]
     },
     "metadata": {
      "needs_background": "light"
     },
     "output_type": "display_data"
    },
    {
     "data": {
      "text/plain": [
       "count    354077.000000\n",
       "mean        119.053443\n",
       "std          68.006554\n",
       "min           1.000000\n",
       "25%          75.000000\n",
       "50%         109.000000\n",
       "75%         143.000000\n",
       "max        5000.000000\n",
       "Name: power, dtype: float64"
      ]
     },
     "metadata": {},
     "output_type": "display_data"
    },
    {
     "data": {
      "image/png": "[encoded data removed]",
      "text/plain": [
       "<Figure size 432x288 with 1 Axes>"
      ]
     },
     "metadata": {
      "needs_background": "light"
     },
     "output_type": "display_data"
    }
   ],
   "source": [
    "#Построим распределение и удалим аномальные значения для столбца 'power'\n",
    "distribution(data_0, 'power')"
   ]
  },
  {
   "cell_type": "markdown",
   "metadata": {},
   "source": [
    "**Вывод:** Обнаружены выбросы в данных, но мы не будем их удалять, так как они имеют равномерный характер, и их удаление может повредить анализу, так как их слишком много. Не все значения укладываются в 3 межквартильных размаха \"ящика с усами\". Медианное значение power равно 109.0. Распределение значений имеет вид близкий к нормальному."
   ]
  },
  {
   "cell_type": "code",
   "execution_count": 24,
   "metadata": {},
   "outputs": [
    {
     "data": {
      "image/png": "[encoded data removed]",
      "text/plain": [
       "<Figure size 432x288 with 1 Axes>"
      ]
     },
     "metadata": {
      "needs_background": "light"
     },
     "output_type": "display_data"
    },
    {
     "data": {
      "text/plain": [
       "count    354077.000000\n",
       "mean     128289.397504\n",
       "std       37801.024969\n",
       "min        5000.000000\n",
       "25%      125000.000000\n",
       "50%      150000.000000\n",
       "75%      150000.000000\n",
       "max      150000.000000\n",
       "Name: kilometer, dtype: float64"
      ]
     },
     "metadata": {},
     "output_type": "display_data"
    },
    {
     "data": {
      "image/png": "[encoded data removed]",
      "text/plain": [
       "<Figure size 432x288 with 1 Axes>"
      ]
     },
     "metadata": {
      "needs_background": "light"
     },
     "output_type": "display_data"
    }
   ],
   "source": [
    "#Построим распределение и удалим аномальные значения для столбца 'kilometer'\n",
    "distribution(data_0, 'kilometer')"
   ]
  },
  {
   "cell_type": "markdown",
   "metadata": {},
   "source": [
    "**Вывод:** Обнаружены выбросы в данных, но мы не будем их удалять, так как они имеют равномерный характер, и их удаление может повредить анализу, так как их слишком много. Не все значения укладываются в 3 межквартильных размаха \"ящика с усами\". Медианное значение kilometer равно 150000.0. Распределение значений имеет вид отличный от нормального."
   ]
  },
  {
   "cell_type": "code",
   "execution_count": 25,
   "metadata": {},
   "outputs": [
    {
     "data": {
      "text/plain": [
       "vehicle_type\n",
       "bus            24591\n",
       "convertible    18766\n",
       "coupe          13403\n",
       "not_found      62451\n",
       "sedan          85990\n",
       "small          76296\n",
       "suv             9720\n",
       "wagon          62860\n",
       "Name: vehicle_type, dtype: int64"
      ]
     },
     "metadata": {},
     "output_type": "display_data"
    },
    {
     "name": "stdout",
     "output_type": "stream",
     "text": [
      "354077\n"
     ]
    },
    {
     "data": {
      "image/png": "[encoded data removed]",
      "text/plain": [
       "<Figure size 936x432 with 1 Axes>"
      ]
     },
     "metadata": {
      "needs_background": "light"
     },
     "output_type": "display_data"
    }
   ],
   "source": [
    "#Проверим распределение показателей и построим график для столбца 'vehicle_type'\n",
    "display(data_0.groupby('vehicle_type')['vehicle_type'].count())\n",
    "\n",
    "plt.figure(figsize=(13, 6))\n",
    "sns.countplot(data_0['vehicle_type'].sort_values(ascending=False))\n",
    "plt.title('Распределение типа автомобильного кузова')\n",
    "plt.xlabel('Тип автомобильного кузова')\n",
    "plt.ylabel('Количество автомобильных кузовов одного типа')\n",
    "print(data_0['vehicle_type'].count())"
   ]
  },
  {
   "cell_type": "markdown",
   "metadata": {},
   "source": [
    "**Вывод:** Распределение типа автомобильного кузова представлено 8 категориями - 'bus', 'convertible', 'coupe', 'not_found', 'sedan', 'small', 'suv', 'wagon'. Здесь можно примерно оценить распределение предпочтений автомобилистов. Больше всего предпочитают 'sedan' - более 80 тысяч. Меньше всего предпочитают 'suv' - около 10 тысяч."
   ]
  },
  {
   "cell_type": "code",
   "execution_count": 26,
   "metadata": {},
   "outputs": [
    {
     "data": {
      "text/plain": [
       "gearbox\n",
       "auto          66276\n",
       "manual       268180\n",
       "not_found     19621\n",
       "Name: gearbox, dtype: int64"
      ]
     },
     "metadata": {},
     "output_type": "display_data"
    },
    {
     "name": "stdout",
     "output_type": "stream",
     "text": [
      "354077\n"
     ]
    },
    {
     "data": {
      "image/png": "[encoded data removed]",
      "text/plain": [
       "<Figure size 936x432 with 1 Axes>"
      ]
     },
     "metadata": {
      "needs_background": "light"
     },
     "output_type": "display_data"
    }
   ],
   "source": [
    "#Проверим распределение показателей и построим график для столбца 'gearbox'\n",
    "display(data_0.groupby('gearbox')['gearbox'].count())\n",
    "\n",
    "plt.figure(figsize=(13, 6))\n",
    "sns.countplot(data_0['gearbox'].sort_values(ascending=False))\n",
    "plt.title('Распределение типов коробки передач')\n",
    "plt.xlabel('Типы коробки передач')\n",
    "plt.ylabel('Количество коробок передач одного типа')\n",
    "print(data_0['gearbox'].count())"
   ]
  },
  {
   "cell_type": "markdown",
   "metadata": {},
   "source": [
    "**Вывод:** Распределение типов коробки передач представлено 3 категориями - 'auto', 'manual', 'not_found'. Здесь можно примерно оценить распределение предпочтений автомобилистов. Больше всего предпочитают 'manual' - более 250 тысяч. Меньше всего предпочитают 'auto' - около 55 тысяч."
   ]
  },
  {
   "cell_type": "code",
   "execution_count": 27,
   "metadata": {},
   "outputs": [
    {
     "data": {
      "text/plain": [
       "model\n",
       "range_rover_evoque        2\n",
       "rangerover                3\n",
       "serie_3                   4\n",
       "serie_2                   5\n",
       "samara                    5\n",
       "                      ...  \n",
       "corsa                 12542\n",
       "polo                  13039\n",
       "3er                   19556\n",
       "golf                  29026\n",
       "not_found             46104\n",
       "Name: model, Length: 249, dtype: int64"
      ]
     },
     "metadata": {},
     "output_type": "display_data"
    },
    {
     "name": "stdout",
     "output_type": "stream",
     "text": [
      "354077\n"
     ]
    },
    {
     "data": {
      "image/png": "[encoded data removed]",
      "text/plain": [
       "<Figure size 936x432 with 1 Axes>"
      ]
     },
     "metadata": {
      "needs_background": "light"
     },
     "output_type": "display_data"
    }
   ],
   "source": [
    "#Проверим распределение показателей и построим график для топ 10 столбца 'model'\n",
    "display(data_0.groupby('model')['model'].count().sort_values())\n",
    "\n",
    "plt.figure(figsize=(13, 6))\n",
    "sns.countplot(x='model', data=data_0, order=pd.value_counts(data_0['model']).iloc[1:11].index)\n",
    "plt.title('Распределение 10 наиболее популярных моделей автомобиля')\n",
    "plt.xlabel('Модель автомобиля')\n",
    "plt.ylabel('Количество моделей автомобиля одного типа')\n",
    "print(data_0['model'].count())"
   ]
  },
  {
   "cell_type": "markdown",
   "metadata": {},
   "source": [
    "**Вывод:** Распределение популярных моделей автомобиля представлено множеством категорий. 5 наиболее популярных это - 'golf', '3er', 'polo', 'corsa' и 'astra'. Можно примерно оценить распределение предпочтений автомобилистов. Больше всего предпочитают 'golf' - более 280 тысяч. Меньше всего предпочитают 'range_rover_evoque' - 2 человека."
   ]
  },
  {
   "cell_type": "code",
   "execution_count": 28,
   "metadata": {},
   "outputs": [
    {
     "data": {
      "text/plain": [
       "fuel_type\n",
       "cng             518\n",
       "electric         44\n",
       "gasoline      91817\n",
       "hybrid          157\n",
       "lpg            4636\n",
       "not_found     57535\n",
       "petrol       199370\n",
       "Name: fuel_type, dtype: int64"
      ]
     },
     "metadata": {},
     "output_type": "display_data"
    },
    {
     "name": "stdout",
     "output_type": "stream",
     "text": [
      "354077\n"
     ]
    },
    {
     "data": {
      "image/png": "[encoded data removed]",
      "text/plain": [
       "<Figure size 936x432 with 1 Axes>"
      ]
     },
     "metadata": {
      "needs_background": "light"
     },
     "output_type": "display_data"
    }
   ],
   "source": [
    "#Проверим распределение показателей и построим график для столбца 'fuel_type'\n",
    "display(data_0.groupby('fuel_type')['fuel_type'].count())\n",
    "\n",
    "plt.figure(figsize=(13, 6))\n",
    "sns.countplot(data_0['fuel_type'].sort_values(ascending=False))\n",
    "plt.title('Распределение типов топлива')\n",
    "plt.xlabel('Типы топлива')\n",
    "plt.ylabel('Количество автомобилей с топливом одного типа')\n",
    "print(data_0['fuel_type'].count())"
   ]
  },
  {
   "cell_type": "markdown",
   "metadata": {},
   "source": [
    "**Вывод:** Распределение типов топлива автомобиля представлено 7 категориями - 'cng', 'electric', 'gasoline', 'hybrid', 'lpg', 'not_found', 'petrol'. Можно примерно оценить распределение предпочтений автомобилистов. Больше всего предпочитают 'petrol' - около 200 тысяч. Меньше всего предпочитают 'hybrid' - 157 человек."
   ]
  },
  {
   "cell_type": "code",
   "execution_count": 29,
   "metadata": {
    "scrolled": true
   },
   "outputs": [
    {
     "data": {
      "text/plain": [
       "brand\n",
       "lada                217\n",
       "lancia              471\n",
       "trabant             478\n",
       "rover               485\n",
       "jaguar              505\n",
       "saab                525\n",
       "land_rover          542\n",
       "daewoo              542\n",
       "jeep                676\n",
       "porsche             756\n",
       "subaru              759\n",
       "daihatsu            806\n",
       "dacia               900\n",
       "chrysler           1438\n",
       "chevrolet          1752\n",
       "alfa_romeo         2312\n",
       "suzuki             2322\n",
       "kia                2465\n",
       "honda              2817\n",
       "mitsubishi         3019\n",
       "mini               3201\n",
       "volvo              3210\n",
       "sonstige_autos     3338\n",
       "hyundai            3586\n",
       "toyota             4606\n",
       "nissan             4941\n",
       "citroen            5145\n",
       "smart              5246\n",
       "skoda              5498\n",
       "mazda              5609\n",
       "seat               6906\n",
       "fiat               9637\n",
       "peugeot           10996\n",
       "renault           17923\n",
       "ford              25174\n",
       "audi              29451\n",
       "mercedes_benz     32032\n",
       "bmw               36902\n",
       "opel              39913\n",
       "volkswagen        76976\n",
       "Name: brand, dtype: int64"
      ]
     },
     "metadata": {},
     "output_type": "display_data"
    },
    {
     "name": "stdout",
     "output_type": "stream",
     "text": [
      "354077\n"
     ]
    },
    {
     "data": {
      "image/png": "[encoded data removed]",
      "text/plain": [
       "<Figure size 936x432 with 1 Axes>"
      ]
     },
     "metadata": {
      "needs_background": "light"
     },
     "output_type": "display_data"
    }
   ],
   "source": [
    "#Проверим распределение показателей и построим график для столбца 'brand'\n",
    "display(data_0.groupby('brand')['brand'].count().sort_values())\n",
    "\n",
    "plt.figure(figsize=(13, 6))\n",
    "sns.countplot(data_0['brand'].sort_values(ascending=False))\n",
    "plt.title('Распределение марок автомобилей')\n",
    "plt.xlabel('Марки автомобилей')\n",
    "plt.ylabel('Количество марок автомобилей одного типа')\n",
    "plt.xticks(rotation = 90)\n",
    "print(data_0['brand'].count())"
   ]
  },
  {
   "cell_type": "markdown",
   "metadata": {},
   "source": [
    "**Вывод:** Распределение марок автомобилей представлено множеством категорий. 5 наиболее популярных, это - 'volkswagen', 'opel', 'bmw', 'mercedes_benz', 'audi'. Можно примерно оценить распределение предпочтений автомобилистов. Больше всего предпочитают 'volkswagen' - около 75 тысяч. Меньше всего предпочитают 'lada' - 217 человек."
   ]
  },
  {
   "cell_type": "code",
   "execution_count": 30,
   "metadata": {},
   "outputs": [
    {
     "data": {
      "text/plain": [
       "repaired\n",
       "no           247122\n",
       "not_found     70916\n",
       "yes           36039\n",
       "Name: repaired, dtype: int64"
      ]
     },
     "metadata": {},
     "output_type": "display_data"
    },
    {
     "name": "stdout",
     "output_type": "stream",
     "text": [
      "354077\n"
     ]
    },
    {
     "data": {
      "image/png": "[encoded data removed]",
      "text/plain": [
       "<Figure size 936x432 with 1 Axes>"
      ]
     },
     "metadata": {
      "needs_background": "light"
     },
     "output_type": "display_data"
    }
   ],
   "source": [
    "#Проверим распределение показателей и построим график для столбца 'repaired'\n",
    "display(data_0.groupby('repaired')['repaired'].count())\n",
    "\n",
    "plt.figure(figsize=(13, 6))\n",
    "sns.countplot(data_0['repaired'].sort_values(ascending=False))\n",
    "plt.title('Распределение показателей: была машина в ремонте или нет')\n",
    "plt.xlabel('Была машина в ремонте или нет')\n",
    "plt.ylabel('Количество показателей: была машина в ремонте или нет')\n",
    "print(data_0['repaired'].count())"
   ]
  },
  {
   "cell_type": "markdown",
   "metadata": {},
   "source": [
    "**Вывод:** Распределение показателей: была машина в ремонте или нет представлено тремя типами - 'yes', 'no', 'not_found'. Машин бывших в ремонте - 36039, не ремонтировавшихся машин - 247122."
   ]
  },
  {
   "cell_type": "markdown",
   "metadata": {},
   "source": [
    "**Оформим общий вывод по результатам шага.**"
   ]
  },
  {
   "cell_type": "markdown",
   "metadata": {},
   "source": [
    "**Вывод:** \n",
    "- Некоторые входные признаки в датасетах распределены не нормально.\n",
    "- В датасетах были обнаружены аномальные значения, мы не стали их убирать, т.к. из-за их количества это может повредить данным. \n",
    "- Мы изучили категориальные переменные и увидели предпочтения автомобилистов."
   ]
  },
  {
   "cell_type": "markdown",
   "metadata": {},
   "source": [
    "### Корреляционный анализ."
   ]
  },
  {
   "cell_type": "markdown",
   "metadata": {},
   "source": [
    "**Проведем корреляционный анализ данных в датасете data_0.**"
   ]
  },
  {
   "cell_type": "code",
   "execution_count": 31,
   "metadata": {},
   "outputs": [
    {
     "data": {
      "text/html": [
       "<div>\n",
       "<style scoped>\n",
       "    .dataframe tbody tr th:only-of-type {\n",
       "        vertical-align: middle;\n",
       "    }\n",
       "\n",
       "    .dataframe tbody tr th {\n",
       "        vertical-align: top;\n",
       "    }\n",
       "\n",
       "    .dataframe thead th {\n",
       "        text-align: right;\n",
       "    }\n",
       "</style>\n",
       "<table border=\"1\" class=\"dataframe\">\n",
       "  <thead>\n",
       "    <tr style=\"text-align: right;\">\n",
       "      <th></th>\n",
       "      <th>registration_year</th>\n",
       "      <th>power</th>\n",
       "      <th>kilometer</th>\n",
       "    </tr>\n",
       "  </thead>\n",
       "  <tbody>\n",
       "    <tr>\n",
       "      <th>registration_year</th>\n",
       "      <td>1.000000</td>\n",
       "      <td>0.157707</td>\n",
       "      <td>-0.295658</td>\n",
       "    </tr>\n",
       "    <tr>\n",
       "      <th>power</th>\n",
       "      <td>0.157707</td>\n",
       "      <td>1.000000</td>\n",
       "      <td>0.121073</td>\n",
       "    </tr>\n",
       "    <tr>\n",
       "      <th>kilometer</th>\n",
       "      <td>-0.295658</td>\n",
       "      <td>0.121073</td>\n",
       "      <td>1.000000</td>\n",
       "    </tr>\n",
       "  </tbody>\n",
       "</table>\n",
       "</div>"
      ],
      "text/plain": [
       "                   registration_year     power  kilometer\n",
       "registration_year           1.000000  0.157707  -0.295658\n",
       "power                       0.157707  1.000000   0.121073\n",
       "kilometer                  -0.295658  0.121073   1.000000"
      ]
     },
     "metadata": {},
     "output_type": "display_data"
    },
    {
     "data": {
      "text/plain": [
       "<AxesSubplot:>"
      ]
     },
     "execution_count": 31,
     "metadata": {},
     "output_type": "execute_result"
    },
    {
     "data": {
      "image/png": "[encoded data removed]",
      "text/plain": [
       "<Figure size 864x720 with 2 Axes>"
      ]
     },
     "metadata": {
      "needs_background": "light"
     },
     "output_type": "display_data"
    }
   ],
   "source": [
    "#Измерим корреляцию между признаками в датасете data_0\n",
    "#Уберем столбец 'id'\n",
    "data_0_corr = data_0.drop('price', axis=1)\n",
    "#Используем корреляцию Спирмана, так как не все признаки распределены нормально\n",
    "data_0_corr = data_0_corr.corr(method='spearman')\n",
    "display(data_0_corr)\n",
    "plt.figure(figsize=(12, 10))\n",
    "sns.heatmap(data_0_corr, annot=True, fmt='.2f')"
   ]
  },
  {
   "cell_type": "markdown",
   "metadata": {},
   "source": [
    "**Вывод:**\n",
    "\n",
    "Мы обнаружили среднюю корреляцию между параметрами:\n",
    " - 'kilometer' и 'registration_year' = -0.30.\n",
    " \n",
    "Так же существует низкая корреляция между параметрами:\n",
    " - 'power' и 'registration_year' = 0.16.\n",
    " - 'kilometer' и 'power' = 0.12.\n",
    " \n",
    "Между остальными параметрами корреляции нет."
   ]
  },
  {
   "cell_type": "markdown",
   "metadata": {},
   "source": [
    "## Обучение моделей"
   ]
  },
  {
   "cell_type": "markdown",
   "metadata": {},
   "source": [
    "### Подготовка признаков."
   ]
  },
  {
   "cell_type": "code",
   "execution_count": 32,
   "metadata": {},
   "outputs": [
    {
     "data": {
      "text/html": [
       "<div>\n",
       "<style scoped>\n",
       "    .dataframe tbody tr th:only-of-type {\n",
       "        vertical-align: middle;\n",
       "    }\n",
       "\n",
       "    .dataframe tbody tr th {\n",
       "        vertical-align: top;\n",
       "    }\n",
       "\n",
       "    .dataframe thead th {\n",
       "        text-align: right;\n",
       "    }\n",
       "</style>\n",
       "<table border=\"1\" class=\"dataframe\">\n",
       "  <thead>\n",
       "    <tr style=\"text-align: right;\">\n",
       "      <th></th>\n",
       "      <th>price</th>\n",
       "      <th>vehicle_type</th>\n",
       "      <th>registration_year</th>\n",
       "      <th>gearbox</th>\n",
       "      <th>power</th>\n",
       "      <th>model</th>\n",
       "      <th>kilometer</th>\n",
       "      <th>fuel_type</th>\n",
       "      <th>brand</th>\n",
       "      <th>repaired</th>\n",
       "    </tr>\n",
       "  </thead>\n",
       "  <tbody>\n",
       "    <tr>\n",
       "      <th>0</th>\n",
       "      <td>480</td>\n",
       "      <td>not_found</td>\n",
       "      <td>1993</td>\n",
       "      <td>manual</td>\n",
       "      <td>95</td>\n",
       "      <td>golf</td>\n",
       "      <td>150000</td>\n",
       "      <td>petrol</td>\n",
       "      <td>volkswagen</td>\n",
       "      <td>not_found</td>\n",
       "    </tr>\n",
       "    <tr>\n",
       "      <th>1</th>\n",
       "      <td>18300</td>\n",
       "      <td>coupe</td>\n",
       "      <td>2011</td>\n",
       "      <td>manual</td>\n",
       "      <td>190</td>\n",
       "      <td>not_found</td>\n",
       "      <td>125000</td>\n",
       "      <td>gasoline</td>\n",
       "      <td>audi</td>\n",
       "      <td>yes</td>\n",
       "    </tr>\n",
       "    <tr>\n",
       "      <th>2</th>\n",
       "      <td>9800</td>\n",
       "      <td>suv</td>\n",
       "      <td>2004</td>\n",
       "      <td>auto</td>\n",
       "      <td>163</td>\n",
       "      <td>grand</td>\n",
       "      <td>125000</td>\n",
       "      <td>gasoline</td>\n",
       "      <td>jeep</td>\n",
       "      <td>not_found</td>\n",
       "    </tr>\n",
       "    <tr>\n",
       "      <th>3</th>\n",
       "      <td>1500</td>\n",
       "      <td>small</td>\n",
       "      <td>2001</td>\n",
       "      <td>manual</td>\n",
       "      <td>75</td>\n",
       "      <td>golf</td>\n",
       "      <td>150000</td>\n",
       "      <td>petrol</td>\n",
       "      <td>volkswagen</td>\n",
       "      <td>no</td>\n",
       "    </tr>\n",
       "    <tr>\n",
       "      <th>4</th>\n",
       "      <td>3600</td>\n",
       "      <td>small</td>\n",
       "      <td>2008</td>\n",
       "      <td>manual</td>\n",
       "      <td>69</td>\n",
       "      <td>fabia</td>\n",
       "      <td>90000</td>\n",
       "      <td>gasoline</td>\n",
       "      <td>skoda</td>\n",
       "      <td>no</td>\n",
       "    </tr>\n",
       "  </tbody>\n",
       "</table>\n",
       "</div>"
      ],
      "text/plain": [
       "   price vehicle_type  registration_year gearbox  power      model  kilometer  \\\n",
       "0    480    not_found               1993  manual     95       golf     150000   \n",
       "1  18300        coupe               2011  manual    190  not_found     125000   \n",
       "2   9800          suv               2004    auto    163      grand     125000   \n",
       "3   1500        small               2001  manual     75       golf     150000   \n",
       "4   3600        small               2008  manual     69      fabia      90000   \n",
       "\n",
       "  fuel_type       brand   repaired  \n",
       "0    petrol  volkswagen  not_found  \n",
       "1  gasoline        audi        yes  \n",
       "2  gasoline        jeep  not_found  \n",
       "3    petrol  volkswagen         no  \n",
       "4  gasoline       skoda         no  "
      ]
     },
     "execution_count": 32,
     "metadata": {},
     "output_type": "execute_result"
    }
   ],
   "source": [
    "data_0.head()"
   ]
  },
  {
   "cell_type": "code",
   "execution_count": 33,
   "metadata": {},
   "outputs": [
    {
     "data": {
      "text/html": [
       "<div>\n",
       "<style scoped>\n",
       "    .dataframe tbody tr th:only-of-type {\n",
       "        vertical-align: middle;\n",
       "    }\n",
       "\n",
       "    .dataframe tbody tr th {\n",
       "        vertical-align: top;\n",
       "    }\n",
       "\n",
       "    .dataframe thead th {\n",
       "        text-align: right;\n",
       "    }\n",
       "</style>\n",
       "<table border=\"1\" class=\"dataframe\">\n",
       "  <thead>\n",
       "    <tr style=\"text-align: right;\">\n",
       "      <th></th>\n",
       "      <th>registration_year</th>\n",
       "      <th>power</th>\n",
       "      <th>kilometer</th>\n",
       "      <th>vehicle_type</th>\n",
       "      <th>gearbox</th>\n",
       "      <th>model</th>\n",
       "      <th>fuel_type</th>\n",
       "      <th>brand</th>\n",
       "      <th>repaired</th>\n",
       "    </tr>\n",
       "  </thead>\n",
       "  <tbody>\n",
       "    <tr>\n",
       "      <th>0</th>\n",
       "      <td>1993</td>\n",
       "      <td>95</td>\n",
       "      <td>150000</td>\n",
       "      <td>not_found</td>\n",
       "      <td>manual</td>\n",
       "      <td>golf</td>\n",
       "      <td>petrol</td>\n",
       "      <td>volkswagen</td>\n",
       "      <td>not_found</td>\n",
       "    </tr>\n",
       "    <tr>\n",
       "      <th>1</th>\n",
       "      <td>2011</td>\n",
       "      <td>190</td>\n",
       "      <td>125000</td>\n",
       "      <td>coupe</td>\n",
       "      <td>manual</td>\n",
       "      <td>not_found</td>\n",
       "      <td>gasoline</td>\n",
       "      <td>audi</td>\n",
       "      <td>yes</td>\n",
       "    </tr>\n",
       "    <tr>\n",
       "      <th>2</th>\n",
       "      <td>2004</td>\n",
       "      <td>163</td>\n",
       "      <td>125000</td>\n",
       "      <td>suv</td>\n",
       "      <td>auto</td>\n",
       "      <td>grand</td>\n",
       "      <td>gasoline</td>\n",
       "      <td>jeep</td>\n",
       "      <td>not_found</td>\n",
       "    </tr>\n",
       "    <tr>\n",
       "      <th>3</th>\n",
       "      <td>2001</td>\n",
       "      <td>75</td>\n",
       "      <td>150000</td>\n",
       "      <td>small</td>\n",
       "      <td>manual</td>\n",
       "      <td>golf</td>\n",
       "      <td>petrol</td>\n",
       "      <td>volkswagen</td>\n",
       "      <td>no</td>\n",
       "    </tr>\n",
       "    <tr>\n",
       "      <th>4</th>\n",
       "      <td>2008</td>\n",
       "      <td>69</td>\n",
       "      <td>90000</td>\n",
       "      <td>small</td>\n",
       "      <td>manual</td>\n",
       "      <td>fabia</td>\n",
       "      <td>gasoline</td>\n",
       "      <td>skoda</td>\n",
       "      <td>no</td>\n",
       "    </tr>\n",
       "  </tbody>\n",
       "</table>\n",
       "</div>"
      ],
      "text/plain": [
       "   registration_year  power  kilometer vehicle_type gearbox      model  \\\n",
       "0               1993     95     150000    not_found  manual       golf   \n",
       "1               2011    190     125000        coupe  manual  not_found   \n",
       "2               2004    163     125000          suv    auto      grand   \n",
       "3               2001     75     150000        small  manual       golf   \n",
       "4               2008     69      90000        small  manual      fabia   \n",
       "\n",
       "  fuel_type       brand   repaired  \n",
       "0    petrol  volkswagen  not_found  \n",
       "1  gasoline        audi        yes  \n",
       "2  gasoline        jeep  not_found  \n",
       "3    petrol  volkswagen         no  \n",
       "4  gasoline       skoda         no  "
      ]
     },
     "execution_count": 33,
     "metadata": {},
     "output_type": "execute_result"
    }
   ],
   "source": [
    "# Определим категориальные признаки\n",
    "cat_features = ['vehicle_type', 'gearbox', 'model', 'fuel_type', 'brand', 'repaired']\n",
    "\n",
    "# Определим количественные признаки\n",
    "num_features = ['registration_year', 'power', 'kilometer']\n",
    "\n",
    "data = data_0[num_features + cat_features];\n",
    "data.head()"
   ]
  },
  {
   "cell_type": "code",
   "execution_count": 34,
   "metadata": {},
   "outputs": [
    {
     "data": {
      "text/html": [
       "<div>\n",
       "<style scoped>\n",
       "    .dataframe tbody tr th:only-of-type {\n",
       "        vertical-align: middle;\n",
       "    }\n",
       "\n",
       "    .dataframe tbody tr th {\n",
       "        vertical-align: top;\n",
       "    }\n",
       "\n",
       "    .dataframe thead th {\n",
       "        text-align: right;\n",
       "    }\n",
       "</style>\n",
       "<table border=\"1\" class=\"dataframe\">\n",
       "  <thead>\n",
       "    <tr style=\"text-align: right;\">\n",
       "      <th></th>\n",
       "      <th>registration_year</th>\n",
       "      <th>power</th>\n",
       "      <th>kilometer</th>\n",
       "      <th>vehicle_type_convertible</th>\n",
       "      <th>vehicle_type_coupe</th>\n",
       "      <th>vehicle_type_not_found</th>\n",
       "      <th>vehicle_type_sedan</th>\n",
       "      <th>vehicle_type_small</th>\n",
       "      <th>vehicle_type_suv</th>\n",
       "      <th>vehicle_type_wagon</th>\n",
       "      <th>...</th>\n",
       "      <th>brand_smart</th>\n",
       "      <th>brand_sonstige_autos</th>\n",
       "      <th>brand_subaru</th>\n",
       "      <th>brand_suzuki</th>\n",
       "      <th>brand_toyota</th>\n",
       "      <th>brand_trabant</th>\n",
       "      <th>brand_volkswagen</th>\n",
       "      <th>brand_volvo</th>\n",
       "      <th>repaired_not_found</th>\n",
       "      <th>repaired_yes</th>\n",
       "    </tr>\n",
       "  </thead>\n",
       "  <tbody>\n",
       "    <tr>\n",
       "      <th>0</th>\n",
       "      <td>1993</td>\n",
       "      <td>95</td>\n",
       "      <td>150000</td>\n",
       "      <td>0</td>\n",
       "      <td>0</td>\n",
       "      <td>1</td>\n",
       "      <td>0</td>\n",
       "      <td>0</td>\n",
       "      <td>0</td>\n",
       "      <td>0</td>\n",
       "      <td>...</td>\n",
       "      <td>0</td>\n",
       "      <td>0</td>\n",
       "      <td>0</td>\n",
       "      <td>0</td>\n",
       "      <td>0</td>\n",
       "      <td>0</td>\n",
       "      <td>1</td>\n",
       "      <td>0</td>\n",
       "      <td>1</td>\n",
       "      <td>0</td>\n",
       "    </tr>\n",
       "    <tr>\n",
       "      <th>1</th>\n",
       "      <td>2011</td>\n",
       "      <td>190</td>\n",
       "      <td>125000</td>\n",
       "      <td>0</td>\n",
       "      <td>1</td>\n",
       "      <td>0</td>\n",
       "      <td>0</td>\n",
       "      <td>0</td>\n",
       "      <td>0</td>\n",
       "      <td>0</td>\n",
       "      <td>...</td>\n",
       "      <td>0</td>\n",
       "      <td>0</td>\n",
       "      <td>0</td>\n",
       "      <td>0</td>\n",
       "      <td>0</td>\n",
       "      <td>0</td>\n",
       "      <td>0</td>\n",
       "      <td>0</td>\n",
       "      <td>0</td>\n",
       "      <td>1</td>\n",
       "    </tr>\n",
       "    <tr>\n",
       "      <th>2</th>\n",
       "      <td>2004</td>\n",
       "      <td>163</td>\n",
       "      <td>125000</td>\n",
       "      <td>0</td>\n",
       "      <td>0</td>\n",
       "      <td>0</td>\n",
       "      <td>0</td>\n",
       "      <td>0</td>\n",
       "      <td>1</td>\n",
       "      <td>0</td>\n",
       "      <td>...</td>\n",
       "      <td>0</td>\n",
       "      <td>0</td>\n",
       "      <td>0</td>\n",
       "      <td>0</td>\n",
       "      <td>0</td>\n",
       "      <td>0</td>\n",
       "      <td>0</td>\n",
       "      <td>0</td>\n",
       "      <td>1</td>\n",
       "      <td>0</td>\n",
       "    </tr>\n",
       "    <tr>\n",
       "      <th>3</th>\n",
       "      <td>2001</td>\n",
       "      <td>75</td>\n",
       "      <td>150000</td>\n",
       "      <td>0</td>\n",
       "      <td>0</td>\n",
       "      <td>0</td>\n",
       "      <td>0</td>\n",
       "      <td>1</td>\n",
       "      <td>0</td>\n",
       "      <td>0</td>\n",
       "      <td>...</td>\n",
       "      <td>0</td>\n",
       "      <td>0</td>\n",
       "      <td>0</td>\n",
       "      <td>0</td>\n",
       "      <td>0</td>\n",
       "      <td>0</td>\n",
       "      <td>1</td>\n",
       "      <td>0</td>\n",
       "      <td>0</td>\n",
       "      <td>0</td>\n",
       "    </tr>\n",
       "    <tr>\n",
       "      <th>4</th>\n",
       "      <td>2008</td>\n",
       "      <td>69</td>\n",
       "      <td>90000</td>\n",
       "      <td>0</td>\n",
       "      <td>0</td>\n",
       "      <td>0</td>\n",
       "      <td>0</td>\n",
       "      <td>1</td>\n",
       "      <td>0</td>\n",
       "      <td>0</td>\n",
       "      <td>...</td>\n",
       "      <td>0</td>\n",
       "      <td>0</td>\n",
       "      <td>0</td>\n",
       "      <td>0</td>\n",
       "      <td>0</td>\n",
       "      <td>0</td>\n",
       "      <td>0</td>\n",
       "      <td>0</td>\n",
       "      <td>0</td>\n",
       "      <td>0</td>\n",
       "    </tr>\n",
       "  </tbody>\n",
       "</table>\n",
       "<p>5 rows × 307 columns</p>\n",
       "</div>"
      ],
      "text/plain": [
       "   registration_year  power  kilometer  vehicle_type_convertible  \\\n",
       "0               1993     95     150000                         0   \n",
       "1               2011    190     125000                         0   \n",
       "2               2004    163     125000                         0   \n",
       "3               2001     75     150000                         0   \n",
       "4               2008     69      90000                         0   \n",
       "\n",
       "   vehicle_type_coupe  vehicle_type_not_found  vehicle_type_sedan  \\\n",
       "0                   0                       1                   0   \n",
       "1                   1                       0                   0   \n",
       "2                   0                       0                   0   \n",
       "3                   0                       0                   0   \n",
       "4                   0                       0                   0   \n",
       "\n",
       "   vehicle_type_small  vehicle_type_suv  vehicle_type_wagon  ...  brand_smart  \\\n",
       "0                   0                 0                   0  ...            0   \n",
       "1                   0                 0                   0  ...            0   \n",
       "2                   0                 1                   0  ...            0   \n",
       "3                   1                 0                   0  ...            0   \n",
       "4                   1                 0                   0  ...            0   \n",
       "\n",
       "   brand_sonstige_autos  brand_subaru  brand_suzuki  brand_toyota  \\\n",
       "0                     0             0             0             0   \n",
       "1                     0             0             0             0   \n",
       "2                     0             0             0             0   \n",
       "3                     0             0             0             0   \n",
       "4                     0             0             0             0   \n",
       "\n",
       "   brand_trabant  brand_volkswagen  brand_volvo  repaired_not_found  \\\n",
       "0              0                 1            0                   1   \n",
       "1              0                 0            0                   0   \n",
       "2              0                 0            0                   1   \n",
       "3              0                 1            0                   0   \n",
       "4              0                 0            0                   0   \n",
       "\n",
       "   repaired_yes  \n",
       "0             0  \n",
       "1             1  \n",
       "2             0  \n",
       "3             0  \n",
       "4             0  \n",
       "\n",
       "[5 rows x 307 columns]"
      ]
     },
     "execution_count": 34,
     "metadata": {},
     "output_type": "execute_result"
    }
   ],
   "source": [
    "# Выделим входные признаки и целевой\n",
    "features = data\n",
    "target = data_0['price']\n",
    "\n",
    "# Подготовим категориальные признаки, используем OHE\n",
    "features_ohe = pd.get_dummies(features, columns=cat_features, drop_first=True)\n",
    "features_ohe.head()"
   ]
  },
  {
   "cell_type": "code",
   "execution_count": 35,
   "metadata": {},
   "outputs": [],
   "source": [
    "# Разделим датасет на выборки\n",
    "def train_valid_test_func(features, target):\n",
    "    features_train, valid_test_features, target_train, valid_test_target = train_test_split(features, \n",
    "                                                                                            target, \n",
    "                                                                                            test_size=0.4, \n",
    "                                                                                            random_state=RANDOM_STATE)\n",
    "\n",
    "    # Отделим тестовую выборку от валидационной\n",
    "    features_valid, features_test, target_valid, target_test = train_test_split(valid_test_features, \n",
    "                                                                                valid_test_target, \n",
    "                                                                                test_size=0.5, \n",
    "                                                                                random_state=RANDOM_STATE)\n",
    "\n",
    "    del valid_test_features, valid_test_target\n",
    "    \n",
    "    # Проверим результат\n",
    "    print('target_test = {}, target_valid = {}, target_train = {}'.format(target_test.count(), \n",
    "                                                                                   target_valid.count(), \n",
    "                                                                                   target_train.count()))\n",
    "    \n",
    "    return features_train, target_train, features_valid, target_valid, features_test, target_test"
   ]
  },
  {
   "cell_type": "code",
   "execution_count": 36,
   "metadata": {},
   "outputs": [
    {
     "name": "stdout",
     "output_type": "stream",
     "text": [
      "target_test = 70816, target_valid = 70815, target_train = 212446\n"
     ]
    }
   ],
   "source": [
    "# Разделим выборку на обучающую и тестовую\n",
    "features_train, target_train, features_valid, target_valid, features_test, target_test = train_valid_test_func(features_ohe, target)"
   ]
  },
  {
   "cell_type": "code",
   "execution_count": 37,
   "metadata": {},
   "outputs": [
    {
     "data": {
      "text/html": [
       "<div>\n",
       "<style scoped>\n",
       "    .dataframe tbody tr th:only-of-type {\n",
       "        vertical-align: middle;\n",
       "    }\n",
       "\n",
       "    .dataframe tbody tr th {\n",
       "        vertical-align: top;\n",
       "    }\n",
       "\n",
       "    .dataframe thead th {\n",
       "        text-align: right;\n",
       "    }\n",
       "</style>\n",
       "<table border=\"1\" class=\"dataframe\">\n",
       "  <thead>\n",
       "    <tr style=\"text-align: right;\">\n",
       "      <th></th>\n",
       "      <th>registration_year</th>\n",
       "      <th>power</th>\n",
       "      <th>kilometer</th>\n",
       "      <th>vehicle_type_convertible</th>\n",
       "      <th>vehicle_type_coupe</th>\n",
       "      <th>vehicle_type_not_found</th>\n",
       "      <th>vehicle_type_sedan</th>\n",
       "      <th>vehicle_type_small</th>\n",
       "      <th>vehicle_type_suv</th>\n",
       "      <th>vehicle_type_wagon</th>\n",
       "      <th>...</th>\n",
       "      <th>brand_smart</th>\n",
       "      <th>brand_sonstige_autos</th>\n",
       "      <th>brand_subaru</th>\n",
       "      <th>brand_suzuki</th>\n",
       "      <th>brand_toyota</th>\n",
       "      <th>brand_trabant</th>\n",
       "      <th>brand_volkswagen</th>\n",
       "      <th>brand_volvo</th>\n",
       "      <th>repaired_not_found</th>\n",
       "      <th>repaired_yes</th>\n",
       "    </tr>\n",
       "  </thead>\n",
       "  <tbody>\n",
       "    <tr>\n",
       "      <th>351594</th>\n",
       "      <td>0.919719</td>\n",
       "      <td>0.175800</td>\n",
       "      <td>0.574749</td>\n",
       "      <td>0</td>\n",
       "      <td>0</td>\n",
       "      <td>0</td>\n",
       "      <td>0</td>\n",
       "      <td>0</td>\n",
       "      <td>0</td>\n",
       "      <td>1</td>\n",
       "      <td>...</td>\n",
       "      <td>0</td>\n",
       "      <td>0</td>\n",
       "      <td>0</td>\n",
       "      <td>0</td>\n",
       "      <td>0</td>\n",
       "      <td>0</td>\n",
       "      <td>1</td>\n",
       "      <td>0</td>\n",
       "      <td>0</td>\n",
       "      <td>0</td>\n",
       "    </tr>\n",
       "    <tr>\n",
       "      <th>294747</th>\n",
       "      <td>-0.941031</td>\n",
       "      <td>-0.264691</td>\n",
       "      <td>0.574749</td>\n",
       "      <td>0</td>\n",
       "      <td>0</td>\n",
       "      <td>0</td>\n",
       "      <td>0</td>\n",
       "      <td>1</td>\n",
       "      <td>0</td>\n",
       "      <td>0</td>\n",
       "      <td>...</td>\n",
       "      <td>0</td>\n",
       "      <td>0</td>\n",
       "      <td>0</td>\n",
       "      <td>0</td>\n",
       "      <td>0</td>\n",
       "      <td>0</td>\n",
       "      <td>1</td>\n",
       "      <td>0</td>\n",
       "      <td>0</td>\n",
       "      <td>1</td>\n",
       "    </tr>\n",
       "    <tr>\n",
       "      <th>260658</th>\n",
       "      <td>-0.675210</td>\n",
       "      <td>-0.426204</td>\n",
       "      <td>-0.748553</td>\n",
       "      <td>0</td>\n",
       "      <td>0</td>\n",
       "      <td>0</td>\n",
       "      <td>1</td>\n",
       "      <td>0</td>\n",
       "      <td>0</td>\n",
       "      <td>0</td>\n",
       "      <td>...</td>\n",
       "      <td>0</td>\n",
       "      <td>0</td>\n",
       "      <td>0</td>\n",
       "      <td>0</td>\n",
       "      <td>0</td>\n",
       "      <td>0</td>\n",
       "      <td>0</td>\n",
       "      <td>0</td>\n",
       "      <td>0</td>\n",
       "      <td>0</td>\n",
       "    </tr>\n",
       "    <tr>\n",
       "      <th>201090</th>\n",
       "      <td>-0.143567</td>\n",
       "      <td>-0.646449</td>\n",
       "      <td>-0.086902</td>\n",
       "      <td>0</td>\n",
       "      <td>0</td>\n",
       "      <td>0</td>\n",
       "      <td>0</td>\n",
       "      <td>1</td>\n",
       "      <td>0</td>\n",
       "      <td>0</td>\n",
       "      <td>...</td>\n",
       "      <td>0</td>\n",
       "      <td>0</td>\n",
       "      <td>0</td>\n",
       "      <td>0</td>\n",
       "      <td>0</td>\n",
       "      <td>0</td>\n",
       "      <td>0</td>\n",
       "      <td>0</td>\n",
       "      <td>1</td>\n",
       "      <td>0</td>\n",
       "    </tr>\n",
       "    <tr>\n",
       "      <th>172280</th>\n",
       "      <td>1.717183</td>\n",
       "      <td>-0.646449</td>\n",
       "      <td>0.574749</td>\n",
       "      <td>0</td>\n",
       "      <td>0</td>\n",
       "      <td>1</td>\n",
       "      <td>0</td>\n",
       "      <td>0</td>\n",
       "      <td>0</td>\n",
       "      <td>0</td>\n",
       "      <td>...</td>\n",
       "      <td>0</td>\n",
       "      <td>0</td>\n",
       "      <td>0</td>\n",
       "      <td>0</td>\n",
       "      <td>0</td>\n",
       "      <td>0</td>\n",
       "      <td>1</td>\n",
       "      <td>0</td>\n",
       "      <td>1</td>\n",
       "      <td>0</td>\n",
       "    </tr>\n",
       "  </tbody>\n",
       "</table>\n",
       "<p>5 rows × 307 columns</p>\n",
       "</div>"
      ],
      "text/plain": [
       "        registration_year     power  kilometer  vehicle_type_convertible  \\\n",
       "351594           0.919719  0.175800   0.574749                         0   \n",
       "294747          -0.941031 -0.264691   0.574749                         0   \n",
       "260658          -0.675210 -0.426204  -0.748553                         0   \n",
       "201090          -0.143567 -0.646449  -0.086902                         0   \n",
       "172280           1.717183 -0.646449   0.574749                         0   \n",
       "\n",
       "        vehicle_type_coupe  vehicle_type_not_found  vehicle_type_sedan  \\\n",
       "351594                   0                       0                   0   \n",
       "294747                   0                       0                   0   \n",
       "260658                   0                       0                   1   \n",
       "201090                   0                       0                   0   \n",
       "172280                   0                       1                   0   \n",
       "\n",
       "        vehicle_type_small  vehicle_type_suv  vehicle_type_wagon  ...  \\\n",
       "351594                   0                 0                   1  ...   \n",
       "294747                   1                 0                   0  ...   \n",
       "260658                   0                 0                   0  ...   \n",
       "201090                   1                 0                   0  ...   \n",
       "172280                   0                 0                   0  ...   \n",
       "\n",
       "        brand_smart  brand_sonstige_autos  brand_subaru  brand_suzuki  \\\n",
       "351594            0                     0             0             0   \n",
       "294747            0                     0             0             0   \n",
       "260658            0                     0             0             0   \n",
       "201090            0                     0             0             0   \n",
       "172280            0                     0             0             0   \n",
       "\n",
       "        brand_toyota  brand_trabant  brand_volkswagen  brand_volvo  \\\n",
       "351594             0              0                 1            0   \n",
       "294747             0              0                 1            0   \n",
       "260658             0              0                 0            0   \n",
       "201090             0              0                 0            0   \n",
       "172280             0              0                 1            0   \n",
       "\n",
       "        repaired_not_found  repaired_yes  \n",
       "351594                   0             0  \n",
       "294747                   0             1  \n",
       "260658                   0             0  \n",
       "201090                   1             0  \n",
       "172280                   1             0  \n",
       "\n",
       "[5 rows x 307 columns]"
      ]
     },
     "execution_count": 37,
     "metadata": {},
     "output_type": "execute_result"
    }
   ],
   "source": [
    "# Скалируем количественные признаки\n",
    "scaler = StandardScaler()\n",
    "\n",
    "scaler.fit(features_train[num_features])\n",
    "\n",
    "features_train[num_features] = scaler.transform(features_train[num_features])\n",
    "features_valid[num_features] = scaler.transform(features_valid[num_features])\n",
    "\n",
    "features_train.head()"
   ]
  },
  {
   "cell_type": "code",
   "execution_count": 38,
   "metadata": {},
   "outputs": [],
   "source": [
    "# Определим функцию для подсчета RMSE\n",
    "def rmse(target, predicted):\n",
    "    return mse(target, predicted) ** 0.5"
   ]
  },
  {
   "cell_type": "markdown",
   "metadata": {},
   "source": [
    "### Обучим модели."
   ]
  },
  {
   "cell_type": "markdown",
   "metadata": {},
   "source": [
    "**Протестируем модели: LinearRegression и RandomForestRegressor**"
   ]
  },
  {
   "cell_type": "code",
   "execution_count": 39,
   "metadata": {},
   "outputs": [],
   "source": [
    "# Напишем класс в котором будем сохранять параметры обучения и RMSE\n",
    "\n",
    "class ParamRemember:\n",
    "    def __init__(self, name, model):\n",
    "        self.name = name\n",
    "        self.model = model\n",
    "    \n",
    "    def fit(self, features, target):\n",
    "        start = time.time()    \n",
    "        self.model.fit(features, target)\n",
    "        end = time.time() - start\n",
    "        self.fitTime = end\n",
    "    \n",
    "    def predict(self, features, target):\n",
    "        start = time.time()  \n",
    "        predicted = self.model.predict(features)\n",
    "        end = time.time() - start\n",
    "        self.predictedTime = end\n",
    "        self.rmse = rmse(target, predicted)\n",
    "    \n",
    "    def getResult(self):\n",
    "        return self.name, self.fitTime, self.predictedTime, self.rmse"
   ]
  },
  {
   "cell_type": "code",
   "execution_count": 40,
   "metadata": {},
   "outputs": [],
   "source": [
    "# Создадим переменную, где будут храниться результаты\n",
    "    \n",
    "result = []"
   ]
  },
  {
   "cell_type": "code",
   "execution_count": 41,
   "metadata": {},
   "outputs": [],
   "source": [
    "# Создадим функцию для вывода данных моделей\n",
    "def show_result(result):\n",
    "    print('|{: >25}|{: >25}|{: >25}|{: >25}|'.format('Модель', 'Время обучения', 'Время предсказания', 'RMSE'))\n",
    "    for info in result:\n",
    "        print('|{: >25}|{: >25.5f}|{: >25.5f}|{: >25.5f}|'.format(info[0], info[1], info[2], info[3]))"
   ]
  },
  {
   "cell_type": "markdown",
   "metadata": {},
   "source": [
    "**Обучим LinearRegression**"
   ]
  },
  {
   "cell_type": "code",
   "execution_count": 42,
   "metadata": {},
   "outputs": [],
   "source": [
    "# # Обучим модель LinearRegression\n",
    "model_linreg = LinearRegression()\n",
    "\n",
    "model_linreg_param = ParamRemember('LinearRegression', model_linreg)\n",
    "model_linreg_param.fit(features_train, target_train)\n",
    "model_linreg_param.predict(features_valid, target_valid)\n",
    "\n",
    "result.append(model_linreg_param.getResult())"
   ]
  },
  {
   "cell_type": "code",
   "execution_count": 43,
   "metadata": {},
   "outputs": [
    {
     "name": "stdout",
     "output_type": "stream",
     "text": [
      "|                   Модель|           Время обучения|       Время предсказания|                     RMSE|\n",
      "|         LinearRegression|                 18.73126|                  0.21181|               2946.19042|\n"
     ]
    }
   ],
   "source": [
    "# Посмотрим на промежуточный результат\n",
    "show_result(result)"
   ]
  },
  {
   "cell_type": "markdown",
   "metadata": {},
   "source": [
    "**Обучим RandomForestRegressor**"
   ]
  },
  {
   "cell_type": "code",
   "execution_count": 44,
   "metadata": {},
   "outputs": [
    {
     "name": "stdout",
     "output_type": "stream",
     "text": [
      "target_test = 70816, target_valid = 70815, target_train = 212446\n"
     ]
    },
    {
     "data": {
      "text/html": [
       "<div>\n",
       "<style scoped>\n",
       "    .dataframe tbody tr th:only-of-type {\n",
       "        vertical-align: middle;\n",
       "    }\n",
       "\n",
       "    .dataframe tbody tr th {\n",
       "        vertical-align: top;\n",
       "    }\n",
       "\n",
       "    .dataframe thead th {\n",
       "        text-align: right;\n",
       "    }\n",
       "</style>\n",
       "<table border=\"1\" class=\"dataframe\">\n",
       "  <thead>\n",
       "    <tr style=\"text-align: right;\">\n",
       "      <th></th>\n",
       "      <th>registration_year</th>\n",
       "      <th>power</th>\n",
       "      <th>kilometer</th>\n",
       "      <th>vehicle_type</th>\n",
       "      <th>gearbox</th>\n",
       "      <th>model</th>\n",
       "      <th>fuel_type</th>\n",
       "      <th>brand</th>\n",
       "      <th>repaired</th>\n",
       "    </tr>\n",
       "  </thead>\n",
       "  <tbody>\n",
       "    <tr>\n",
       "      <th>351594</th>\n",
       "      <td>0.919719</td>\n",
       "      <td>0.175800</td>\n",
       "      <td>0.574749</td>\n",
       "      <td>wagon</td>\n",
       "      <td>manual</td>\n",
       "      <td>passat</td>\n",
       "      <td>gasoline</td>\n",
       "      <td>volkswagen</td>\n",
       "      <td>no</td>\n",
       "    </tr>\n",
       "    <tr>\n",
       "      <th>294747</th>\n",
       "      <td>-0.941031</td>\n",
       "      <td>-0.264691</td>\n",
       "      <td>0.574749</td>\n",
       "      <td>small</td>\n",
       "      <td>manual</td>\n",
       "      <td>golf</td>\n",
       "      <td>not_found</td>\n",
       "      <td>volkswagen</td>\n",
       "      <td>yes</td>\n",
       "    </tr>\n",
       "    <tr>\n",
       "      <th>260658</th>\n",
       "      <td>-0.675210</td>\n",
       "      <td>-0.426204</td>\n",
       "      <td>-0.748553</td>\n",
       "      <td>sedan</td>\n",
       "      <td>manual</td>\n",
       "      <td>escort</td>\n",
       "      <td>petrol</td>\n",
       "      <td>ford</td>\n",
       "      <td>no</td>\n",
       "    </tr>\n",
       "    <tr>\n",
       "      <th>201090</th>\n",
       "      <td>-0.143567</td>\n",
       "      <td>-0.646449</td>\n",
       "      <td>-0.086902</td>\n",
       "      <td>small</td>\n",
       "      <td>manual</td>\n",
       "      <td>ibiza</td>\n",
       "      <td>petrol</td>\n",
       "      <td>seat</td>\n",
       "      <td>not_found</td>\n",
       "    </tr>\n",
       "    <tr>\n",
       "      <th>172280</th>\n",
       "      <td>1.717183</td>\n",
       "      <td>-0.646449</td>\n",
       "      <td>0.574749</td>\n",
       "      <td>not_found</td>\n",
       "      <td>manual</td>\n",
       "      <td>golf</td>\n",
       "      <td>petrol</td>\n",
       "      <td>volkswagen</td>\n",
       "      <td>not_found</td>\n",
       "    </tr>\n",
       "  </tbody>\n",
       "</table>\n",
       "</div>"
      ],
      "text/plain": [
       "        registration_year     power  kilometer vehicle_type gearbox   model  \\\n",
       "351594           0.919719  0.175800   0.574749        wagon  manual  passat   \n",
       "294747          -0.941031 -0.264691   0.574749        small  manual    golf   \n",
       "260658          -0.675210 -0.426204  -0.748553        sedan  manual  escort   \n",
       "201090          -0.143567 -0.646449  -0.086902        small  manual   ibiza   \n",
       "172280           1.717183 -0.646449   0.574749    not_found  manual    golf   \n",
       "\n",
       "        fuel_type       brand   repaired  \n",
       "351594   gasoline  volkswagen         no  \n",
       "294747  not_found  volkswagen        yes  \n",
       "260658     petrol        ford         no  \n",
       "201090     petrol        seat  not_found  \n",
       "172280     petrol  volkswagen  not_found  "
      ]
     },
     "execution_count": 44,
     "metadata": {},
     "output_type": "execute_result"
    }
   ],
   "source": [
    "pd.options.mode.chained_assignment = None\n",
    "\n",
    "# Выделим входные признаки и целевой\n",
    "features = data\n",
    "target = data_0['price']\n",
    "\n",
    "# Разделим выборку на обучающую и тестовую\n",
    "features_train, target_train, features_valid, target_valid, features_test, target_test = train_valid_test_func(features, target)\n",
    "\n",
    "# Скалируем количественные признаки\n",
    "scaler = StandardScaler()\n",
    "\n",
    "scaler.fit(features_train[num_features])\n",
    "\n",
    "features_train[num_features] = scaler.transform(features_train[num_features])\n",
    "features_valid[num_features] = scaler.transform(features_valid[num_features])\n",
    "\n",
    "features_train.head()"
   ]
  },
  {
   "cell_type": "code",
   "execution_count": 45,
   "metadata": {},
   "outputs": [
    {
     "data": {
      "text/html": [
       "<div>\n",
       "<style scoped>\n",
       "    .dataframe tbody tr th:only-of-type {\n",
       "        vertical-align: middle;\n",
       "    }\n",
       "\n",
       "    .dataframe tbody tr th {\n",
       "        vertical-align: top;\n",
       "    }\n",
       "\n",
       "    .dataframe thead th {\n",
       "        text-align: right;\n",
       "    }\n",
       "</style>\n",
       "<table border=\"1\" class=\"dataframe\">\n",
       "  <thead>\n",
       "    <tr style=\"text-align: right;\">\n",
       "      <th></th>\n",
       "      <th>registration_year</th>\n",
       "      <th>power</th>\n",
       "      <th>kilometer</th>\n",
       "      <th>vehicle_type</th>\n",
       "      <th>gearbox</th>\n",
       "      <th>model</th>\n",
       "      <th>fuel_type</th>\n",
       "      <th>brand</th>\n",
       "      <th>repaired</th>\n",
       "    </tr>\n",
       "  </thead>\n",
       "  <tbody>\n",
       "    <tr>\n",
       "      <th>351594</th>\n",
       "      <td>0.919719</td>\n",
       "      <td>0.175800</td>\n",
       "      <td>0.574749</td>\n",
       "      <td>7.0</td>\n",
       "      <td>1.0</td>\n",
       "      <td>170.0</td>\n",
       "      <td>2.0</td>\n",
       "      <td>38.0</td>\n",
       "      <td>0.0</td>\n",
       "    </tr>\n",
       "    <tr>\n",
       "      <th>294747</th>\n",
       "      <td>-0.941031</td>\n",
       "      <td>-0.264691</td>\n",
       "      <td>0.574749</td>\n",
       "      <td>5.0</td>\n",
       "      <td>1.0</td>\n",
       "      <td>116.0</td>\n",
       "      <td>5.0</td>\n",
       "      <td>38.0</td>\n",
       "      <td>2.0</td>\n",
       "    </tr>\n",
       "    <tr>\n",
       "      <th>260658</th>\n",
       "      <td>-0.675210</td>\n",
       "      <td>-0.426204</td>\n",
       "      <td>-0.748553</td>\n",
       "      <td>4.0</td>\n",
       "      <td>1.0</td>\n",
       "      <td>98.0</td>\n",
       "      <td>6.0</td>\n",
       "      <td>10.0</td>\n",
       "      <td>0.0</td>\n",
       "    </tr>\n",
       "    <tr>\n",
       "      <th>201090</th>\n",
       "      <td>-0.143567</td>\n",
       "      <td>-0.646449</td>\n",
       "      <td>-0.086902</td>\n",
       "      <td>5.0</td>\n",
       "      <td>1.0</td>\n",
       "      <td>120.0</td>\n",
       "      <td>6.0</td>\n",
       "      <td>30.0</td>\n",
       "      <td>1.0</td>\n",
       "    </tr>\n",
       "    <tr>\n",
       "      <th>172280</th>\n",
       "      <td>1.717183</td>\n",
       "      <td>-0.646449</td>\n",
       "      <td>0.574749</td>\n",
       "      <td>3.0</td>\n",
       "      <td>1.0</td>\n",
       "      <td>116.0</td>\n",
       "      <td>6.0</td>\n",
       "      <td>38.0</td>\n",
       "      <td>1.0</td>\n",
       "    </tr>\n",
       "  </tbody>\n",
       "</table>\n",
       "</div>"
      ],
      "text/plain": [
       "        registration_year     power  kilometer  vehicle_type  gearbox  model  \\\n",
       "351594           0.919719  0.175800   0.574749           7.0      1.0  170.0   \n",
       "294747          -0.941031 -0.264691   0.574749           5.0      1.0  116.0   \n",
       "260658          -0.675210 -0.426204  -0.748553           4.0      1.0   98.0   \n",
       "201090          -0.143567 -0.646449  -0.086902           5.0      1.0  120.0   \n",
       "172280           1.717183 -0.646449   0.574749           3.0      1.0  116.0   \n",
       "\n",
       "        fuel_type  brand  repaired  \n",
       "351594        2.0   38.0       0.0  \n",
       "294747        5.0   38.0       2.0  \n",
       "260658        6.0   10.0       0.0  \n",
       "201090        6.0   30.0       1.0  \n",
       "172280        6.0   38.0       1.0  "
      ]
     },
     "execution_count": 45,
     "metadata": {},
     "output_type": "execute_result"
    }
   ],
   "source": [
    "# Обработаем категориальные признаки для RandomForestRegressor\n",
    "features_train_rfr = features_train.copy()\n",
    "features_valid_rfr = features_valid.copy()\n",
    "\n",
    "# Определим категориальные признаки\n",
    "cat_features_rfr = ['vehicle_type', 'gearbox', 'model', 'fuel_type', 'brand', 'repaired']\n",
    "\n",
    "# Подготовим категориальные признаки, используем OrdinalEncoder\n",
    "encoder = OrdinalEncoder()\n",
    "\n",
    "encoder.fit(features_train_rfr[cat_features_rfr])\n",
    "\n",
    "features_train_rfr[cat_features_rfr] = encoder.transform(features_train_rfr[cat_features_rfr])\n",
    "features_valid_rfr[cat_features_rfr] = encoder.transform(features_valid_rfr[cat_features_rfr])\n",
    "\n",
    "features_train_rfr.head()"
   ]
  },
  {
   "cell_type": "code",
   "execution_count": 46,
   "metadata": {},
   "outputs": [
    {
     "name": "stdout",
     "output_type": "stream",
     "text": [
      "CPU times: user 46.7 s, sys: 0 ns, total: 46.7 s\n",
      "Wall time: 46.7 s\n"
     ]
    },
    {
     "data": {
      "text/plain": [
       "{'max_depth': 7,\n",
       " 'min_samples_leaf': 1,\n",
       " 'min_samples_split': 2,\n",
       " 'n_estimators': 10}"
      ]
     },
     "execution_count": 46,
     "metadata": {},
     "output_type": "execute_result"
    }
   ],
   "source": [
    "%%time\n",
    "\n",
    "# Обучим модель RandomForestRegressor, и с помощью %%time узнаем время обучения\n",
    "params = {'n_estimators': range(5,11,5),\n",
    "          'max_depth': range(1,8,3), \n",
    "          'min_samples_leaf': range(1,5,2), \n",
    "          'min_samples_split': range(2,6,2)}\n",
    "\n",
    "model = RandomForestRegressor()\n",
    "\n",
    "grid_sear_cv = GridSearchCV(model, \n",
    "                            params, \n",
    "                            cv=3, \n",
    "                            scoring='neg_mean_squared_error')\n",
    "\n",
    "grid_sear_cv.fit(features_train_rfr, target_train)\n",
    "\n",
    "grid_sear_cv.best_params_"
   ]
  },
  {
   "cell_type": "code",
   "execution_count": 47,
   "metadata": {},
   "outputs": [],
   "source": [
    "# Проверим RandomForestRegressor\n",
    "model_forest = RandomForestRegressor(max_depth=7, \n",
    "                                     min_samples_leaf=3, \n",
    "                                     min_samples_split=4, \n",
    "                                     n_estimators=10, \n",
    "                                     random_state=RANDOM_STATE)\n",
    "\n",
    "model_forest_param = ParamRemember('RandomForestRegressor', model_forest)\n",
    "model_forest_param.fit(features_train_rfr, target_train)\n",
    "model_forest_param.predict(features_valid_rfr, target_valid)\n",
    "\n",
    "result.append(model_forest_param.getResult())"
   ]
  },
  {
   "cell_type": "code",
   "execution_count": 48,
   "metadata": {},
   "outputs": [
    {
     "name": "stdout",
     "output_type": "stream",
     "text": [
      "|                   Модель|           Время обучения|       Время предсказания|                     RMSE|\n",
      "|         LinearRegression|                 18.73126|                  0.21181|               2946.19042|\n",
      "|    RandomForestRegressor|                  2.00783|                  0.04333|               2266.72068|\n"
     ]
    }
   ],
   "source": [
    "# Посмотрим на промежуточный результат\n",
    "show_result(result)"
   ]
  },
  {
   "cell_type": "markdown",
   "metadata": {},
   "source": [
    "### Подготовка признаков для градиентного бустинга."
   ]
  },
  {
   "cell_type": "code",
   "execution_count": 49,
   "metadata": {
    "scrolled": true
   },
   "outputs": [
    {
     "name": "stdout",
     "output_type": "stream",
     "text": [
      "target_test = 70816, target_valid = 70815, target_train = 212446\n"
     ]
    },
    {
     "data": {
      "text/html": [
       "<div>\n",
       "<style scoped>\n",
       "    .dataframe tbody tr th:only-of-type {\n",
       "        vertical-align: middle;\n",
       "    }\n",
       "\n",
       "    .dataframe tbody tr th {\n",
       "        vertical-align: top;\n",
       "    }\n",
       "\n",
       "    .dataframe thead th {\n",
       "        text-align: right;\n",
       "    }\n",
       "</style>\n",
       "<table border=\"1\" class=\"dataframe\">\n",
       "  <thead>\n",
       "    <tr style=\"text-align: right;\">\n",
       "      <th></th>\n",
       "      <th>registration_year</th>\n",
       "      <th>power</th>\n",
       "      <th>kilometer</th>\n",
       "      <th>vehicle_type</th>\n",
       "      <th>gearbox</th>\n",
       "      <th>model</th>\n",
       "      <th>fuel_type</th>\n",
       "      <th>brand</th>\n",
       "      <th>repaired</th>\n",
       "    </tr>\n",
       "  </thead>\n",
       "  <tbody>\n",
       "    <tr>\n",
       "      <th>351594</th>\n",
       "      <td>0.919719</td>\n",
       "      <td>0.175800</td>\n",
       "      <td>0.574749</td>\n",
       "      <td>wagon</td>\n",
       "      <td>manual</td>\n",
       "      <td>passat</td>\n",
       "      <td>gasoline</td>\n",
       "      <td>volkswagen</td>\n",
       "      <td>no</td>\n",
       "    </tr>\n",
       "    <tr>\n",
       "      <th>294747</th>\n",
       "      <td>-0.941031</td>\n",
       "      <td>-0.264691</td>\n",
       "      <td>0.574749</td>\n",
       "      <td>small</td>\n",
       "      <td>manual</td>\n",
       "      <td>golf</td>\n",
       "      <td>not_found</td>\n",
       "      <td>volkswagen</td>\n",
       "      <td>yes</td>\n",
       "    </tr>\n",
       "    <tr>\n",
       "      <th>260658</th>\n",
       "      <td>-0.675210</td>\n",
       "      <td>-0.426204</td>\n",
       "      <td>-0.748553</td>\n",
       "      <td>sedan</td>\n",
       "      <td>manual</td>\n",
       "      <td>escort</td>\n",
       "      <td>petrol</td>\n",
       "      <td>ford</td>\n",
       "      <td>no</td>\n",
       "    </tr>\n",
       "    <tr>\n",
       "      <th>201090</th>\n",
       "      <td>-0.143567</td>\n",
       "      <td>-0.646449</td>\n",
       "      <td>-0.086902</td>\n",
       "      <td>small</td>\n",
       "      <td>manual</td>\n",
       "      <td>ibiza</td>\n",
       "      <td>petrol</td>\n",
       "      <td>seat</td>\n",
       "      <td>not_found</td>\n",
       "    </tr>\n",
       "    <tr>\n",
       "      <th>172280</th>\n",
       "      <td>1.717183</td>\n",
       "      <td>-0.646449</td>\n",
       "      <td>0.574749</td>\n",
       "      <td>not_found</td>\n",
       "      <td>manual</td>\n",
       "      <td>golf</td>\n",
       "      <td>petrol</td>\n",
       "      <td>volkswagen</td>\n",
       "      <td>not_found</td>\n",
       "    </tr>\n",
       "  </tbody>\n",
       "</table>\n",
       "</div>"
      ],
      "text/plain": [
       "        registration_year     power  kilometer vehicle_type gearbox   model  \\\n",
       "351594           0.919719  0.175800   0.574749        wagon  manual  passat   \n",
       "294747          -0.941031 -0.264691   0.574749        small  manual    golf   \n",
       "260658          -0.675210 -0.426204  -0.748553        sedan  manual  escort   \n",
       "201090          -0.143567 -0.646449  -0.086902        small  manual   ibiza   \n",
       "172280           1.717183 -0.646449   0.574749    not_found  manual    golf   \n",
       "\n",
       "        fuel_type       brand   repaired  \n",
       "351594   gasoline  volkswagen         no  \n",
       "294747  not_found  volkswagen        yes  \n",
       "260658     petrol        ford         no  \n",
       "201090     petrol        seat  not_found  \n",
       "172280     petrol  volkswagen  not_found  "
      ]
     },
     "execution_count": 49,
     "metadata": {},
     "output_type": "execute_result"
    }
   ],
   "source": [
    "pd.options.mode.chained_assignment = None\n",
    "\n",
    "# Выделим входные признаки и целевой\n",
    "features = data\n",
    "target = data_0['price']\n",
    "\n",
    "# Разделим выборку на обучающую и тестовую\n",
    "features_train, target_train, features_valid, target_valid, features_test, target_test = train_valid_test_func(features, target)\n",
    "\n",
    "# Скалируем количественные признаки\n",
    "scaler = StandardScaler()\n",
    "\n",
    "scaler.fit(features_train[num_features])\n",
    "\n",
    "features_train[num_features] = scaler.transform(features_train[num_features])\n",
    "features_valid[num_features] = scaler.transform(features_valid[num_features])\n",
    "features_test[num_features] = scaler.transform(features_test[num_features])\n",
    "\n",
    "features_train.head()"
   ]
  },
  {
   "cell_type": "code",
   "execution_count": 50,
   "metadata": {},
   "outputs": [
    {
     "data": {
      "text/html": [
       "<div>\n",
       "<style scoped>\n",
       "    .dataframe tbody tr th:only-of-type {\n",
       "        vertical-align: middle;\n",
       "    }\n",
       "\n",
       "    .dataframe tbody tr th {\n",
       "        vertical-align: top;\n",
       "    }\n",
       "\n",
       "    .dataframe thead th {\n",
       "        text-align: right;\n",
       "    }\n",
       "</style>\n",
       "<table border=\"1\" class=\"dataframe\">\n",
       "  <thead>\n",
       "    <tr style=\"text-align: right;\">\n",
       "      <th></th>\n",
       "      <th>registration_year</th>\n",
       "      <th>power</th>\n",
       "      <th>kilometer</th>\n",
       "      <th>vehicle_type</th>\n",
       "      <th>gearbox</th>\n",
       "      <th>model</th>\n",
       "      <th>fuel_type</th>\n",
       "      <th>brand</th>\n",
       "      <th>repaired</th>\n",
       "    </tr>\n",
       "  </thead>\n",
       "  <tbody>\n",
       "    <tr>\n",
       "      <th>351594</th>\n",
       "      <td>0.919719</td>\n",
       "      <td>0.175800</td>\n",
       "      <td>0.574749</td>\n",
       "      <td>7.0</td>\n",
       "      <td>1.0</td>\n",
       "      <td>170.0</td>\n",
       "      <td>2.0</td>\n",
       "      <td>38.0</td>\n",
       "      <td>0.0</td>\n",
       "    </tr>\n",
       "    <tr>\n",
       "      <th>294747</th>\n",
       "      <td>-0.941031</td>\n",
       "      <td>-0.264691</td>\n",
       "      <td>0.574749</td>\n",
       "      <td>5.0</td>\n",
       "      <td>1.0</td>\n",
       "      <td>116.0</td>\n",
       "      <td>5.0</td>\n",
       "      <td>38.0</td>\n",
       "      <td>2.0</td>\n",
       "    </tr>\n",
       "    <tr>\n",
       "      <th>260658</th>\n",
       "      <td>-0.675210</td>\n",
       "      <td>-0.426204</td>\n",
       "      <td>-0.748553</td>\n",
       "      <td>4.0</td>\n",
       "      <td>1.0</td>\n",
       "      <td>98.0</td>\n",
       "      <td>6.0</td>\n",
       "      <td>10.0</td>\n",
       "      <td>0.0</td>\n",
       "    </tr>\n",
       "    <tr>\n",
       "      <th>201090</th>\n",
       "      <td>-0.143567</td>\n",
       "      <td>-0.646449</td>\n",
       "      <td>-0.086902</td>\n",
       "      <td>5.0</td>\n",
       "      <td>1.0</td>\n",
       "      <td>120.0</td>\n",
       "      <td>6.0</td>\n",
       "      <td>30.0</td>\n",
       "      <td>1.0</td>\n",
       "    </tr>\n",
       "    <tr>\n",
       "      <th>172280</th>\n",
       "      <td>1.717183</td>\n",
       "      <td>-0.646449</td>\n",
       "      <td>0.574749</td>\n",
       "      <td>3.0</td>\n",
       "      <td>1.0</td>\n",
       "      <td>116.0</td>\n",
       "      <td>6.0</td>\n",
       "      <td>38.0</td>\n",
       "      <td>1.0</td>\n",
       "    </tr>\n",
       "  </tbody>\n",
       "</table>\n",
       "</div>"
      ],
      "text/plain": [
       "        registration_year     power  kilometer  vehicle_type  gearbox  model  \\\n",
       "351594           0.919719  0.175800   0.574749           7.0      1.0  170.0   \n",
       "294747          -0.941031 -0.264691   0.574749           5.0      1.0  116.0   \n",
       "260658          -0.675210 -0.426204  -0.748553           4.0      1.0   98.0   \n",
       "201090          -0.143567 -0.646449  -0.086902           5.0      1.0  120.0   \n",
       "172280           1.717183 -0.646449   0.574749           3.0      1.0  116.0   \n",
       "\n",
       "        fuel_type  brand  repaired  \n",
       "351594        2.0   38.0       0.0  \n",
       "294747        5.0   38.0       2.0  \n",
       "260658        6.0   10.0       0.0  \n",
       "201090        6.0   30.0       1.0  \n",
       "172280        6.0   38.0       1.0  "
      ]
     },
     "execution_count": 50,
     "metadata": {},
     "output_type": "execute_result"
    }
   ],
   "source": [
    "# Обработаем категориальные признаки для LGBM\n",
    "features_train_lgbm = features_train.copy()\n",
    "features_valid_lgbm = features_valid.copy()\n",
    "features_test_lgbm = features_test.copy()\n",
    "\n",
    "# Определим категориальные признаки\n",
    "cat_features_lgbm = ['vehicle_type', 'gearbox', 'model', 'fuel_type', 'brand', 'repaired']\n",
    "\n",
    "# Подготовим категориальные признаки, используем OrdinalEncoder\n",
    "encoder = OrdinalEncoder()\n",
    "\n",
    "encoder.fit(features_train_lgbm[cat_features_lgbm])\n",
    "\n",
    "features_train_lgbm[cat_features_lgbm] = encoder.transform(features_train_lgbm[cat_features_lgbm])\n",
    "features_valid_lgbm[cat_features_lgbm] = encoder.transform(features_valid_lgbm[cat_features_lgbm])\n",
    "features_test_lgbm[cat_features_lgbm] = encoder.transform(features_test_lgbm[cat_features_lgbm])\n",
    "\n",
    "features_train_lgbm.head()"
   ]
  },
  {
   "cell_type": "markdown",
   "metadata": {},
   "source": [
    "**Обучим LightGBM**"
   ]
  },
  {
   "cell_type": "code",
   "execution_count": 51,
   "metadata": {},
   "outputs": [
    {
     "name": "stdout",
     "output_type": "stream",
     "text": [
      "CPU times: user 4min 5s, sys: 895 ms, total: 4min 6s\n",
      "Wall time: 4min 9s\n"
     ]
    },
    {
     "data": {
      "text/plain": [
       "{'learning_rate': 0.1778279410038923, 'n_estimators': 60, 'num_leaves': 40}"
      ]
     },
     "execution_count": 51,
     "metadata": {},
     "output_type": "execute_result"
    }
   ],
   "source": [
    "%%time\n",
    "\n",
    "# Обучим модель LGBMRegressor, и с помощью %%time узнаем время обучения\n",
    "lgbm = LGBMRegressor(boosting_type='gbdt', \n",
    "                     verbose=-1, \n",
    "                     seed=RANDOM_STATE)\n",
    "\n",
    "lgbm_params = {'learning_rate': np.logspace(-3, 0, 5), \n",
    "              'n_estimators': range(20, 61, 20), \n",
    "              'num_leaves': range(20, 41, 10)}\n",
    "\n",
    "grid_lgbm = GridSearchCV(lgbm, \n",
    "                         lgbm_params, \n",
    "                         cv=3, \n",
    "                         scoring='neg_mean_squared_error')\n",
    "\n",
    "grid_lgbm.fit(features_train_lgbm, target_train);\n",
    "\n",
    "grid_lgbm.best_params_"
   ]
  },
  {
   "cell_type": "code",
   "execution_count": 52,
   "metadata": {},
   "outputs": [],
   "source": [
    "# Проверим LGBMRegressor\n",
    "model_lgbm = grid_lgbm.best_estimator_\n",
    "\n",
    "model_lgbm_param = ParamRemember('LGBMRegressor', model_lgbm)\n",
    "model_lgbm_param.fit(features_train_lgbm, target_train)\n",
    "model_lgbm_param.predict(features_valid_lgbm, target_valid)\n",
    "\n",
    "result.append(model_lgbm_param.getResult())"
   ]
  },
  {
   "cell_type": "markdown",
   "metadata": {},
   "source": [
    "**Обучим CatBoostRegressor**"
   ]
  },
  {
   "cell_type": "code",
   "execution_count": 53,
   "metadata": {},
   "outputs": [
    {
     "name": "stdout",
     "output_type": "stream",
     "text": [
      "CPU times: user 3min 41s, sys: 2.88 s, total: 3min 44s\n",
      "Wall time: 4min 43s\n"
     ]
    },
    {
     "data": {
      "text/plain": [
       "{'depth': 9, 'iterations': 40, 'learning_rate': 1.0}"
      ]
     },
     "execution_count": 53,
     "metadata": {},
     "output_type": "execute_result"
    }
   ],
   "source": [
    "%%time\n",
    "\n",
    "# Обучим модель CatBoostRegressor, и с помощью %%time узнаем время обучения\n",
    "cat_br = CatBoostRegressor(loss_function='RMSE',\n",
    "                        silent=True, \n",
    "                        cat_features=cat_features, \n",
    "                        random_seed=RANDOM_STATE)\n",
    "\n",
    "cat_br_params = {'learning_rate': np.logspace(-3, 0, 5),\n",
    "              'iterations': range(20, 60, 20),\n",
    "              'depth': range(5,10,2)}\n",
    "\n",
    "grid_cat_br = GridSearchCV(cat_br, \n",
    "                        cat_br_params, \n",
    "                        cv=3, \n",
    "                        scoring='neg_mean_squared_error')\n",
    "\n",
    "grid_cat_br.fit(features_train, target_train);\n",
    "\n",
    "grid_cat_br.best_params_"
   ]
  },
  {
   "cell_type": "code",
   "execution_count": 54,
   "metadata": {},
   "outputs": [],
   "source": [
    "# Проверим CatBoostRegressor\n",
    "model_cat_br = grid_cat_br.best_estimator_\n",
    "_\n",
    "model_cat_br_param = ParamRemember(' CatBoostRegressor', model_cat_br)\n",
    "model_cat_br_param.fit(features_train, target_train)\n",
    "model_cat_br_param.predict(features_valid, target_valid)\n",
    "\n",
    "result.append(model_cat_br_param.getResult())"
   ]
  },
  {
   "cell_type": "markdown",
   "metadata": {},
   "source": [
    "## Анализ моделей"
   ]
  },
  {
   "cell_type": "code",
   "execution_count": 55,
   "metadata": {},
   "outputs": [
    {
     "name": "stdout",
     "output_type": "stream",
     "text": [
      "|                   Модель|           Время обучения|       Время предсказания|                     RMSE|\n",
      "|         LinearRegression|                 18.73126|                  0.21181|               2946.19042|\n",
      "|    RandomForestRegressor|                  2.00783|                  0.04333|               2266.72068|\n",
      "|            LGBMRegressor|                  2.79772|                  0.39948|               1859.82358|\n",
      "|        CatBoostRegressor|                  5.94739|                  0.16386|               1894.66772|\n"
     ]
    }
   ],
   "source": [
    "# Посмотрим на промежуточный результат\n",
    "show_result(result)"
   ]
  },
  {
   "cell_type": "markdown",
   "metadata": {},
   "source": [
    "Для использования в данном проекте были выбраны следующие модели: RandomForestRegressor, LinearRegression, LGBMRegressor и CatBoostRegressor.\n",
    "\n",
    "По критерию минимального параметра RMSE в качестве лучшей модели после обучения была выбрана модель LGBMRegressor с параметрами {'learning_rate': 0.1778279410038923, 'n_estimators': 60, 'num_leaves': 40}. Ее показатели на тестовой выборке:\n",
    "\n",
    "- RMSE: 1859.82358\n",
    "- Время обучения: (без учёта подбора гиперпараметров): 3.14019с\n",
    "- Время предсказания: 0.39982с\n",
    "\n",
    "Эта модель несильно проигрывает во времени обучения и предсказания модели RandomForestRegressor, зато качественно выигрывает в показателе RMSE. Мы предлагаем её, как лучшую из протестированных моделей."
   ]
  },
  {
   "cell_type": "markdown",
   "metadata": {},
   "source": [
    "**Протестируем выбранную нами модель с гиперпараметрами на тестовой выборке.**"
   ]
  },
  {
   "cell_type": "code",
   "execution_count": 56,
   "metadata": {},
   "outputs": [
    {
     "name": "stdout",
     "output_type": "stream",
     "text": [
      "CPU times: user 3.21 s, sys: 9 ms, total: 3.22 s\n",
      "Wall time: 3.21 s\n"
     ]
    },
    {
     "data": {
      "text/plain": [
       "1836.9439958774658"
      ]
     },
     "execution_count": 56,
     "metadata": {},
     "output_type": "execute_result"
    }
   ],
   "source": [
    "%%time\n",
    "\n",
    "# Обучим модель LGBMRegressor, и с помощью %%time узнаем время обучения\n",
    "lgbm = LGBMRegressor(boosting_type='gbdt', \n",
    "                     verbose=-1, \n",
    "                     seed=42,\n",
    "                     learning_rate=0.1778279410038923,\n",
    "                     n_estimators=60,\n",
    "                     num_leaves=40)\n",
    "\n",
    "\n",
    "lgbm.fit(features_train_lgbm, target_train)\n",
    "\n",
    "predictions = lgbm.predict(features_test_lgbm)\n",
    "\n",
    "lgbm_rmse = rmse(target_test, predictions)\n",
    "lgbm_rmse"
   ]
  },
  {
   "cell_type": "markdown",
   "metadata": {},
   "source": [
    "RMSE на тестовой выборке оказался ниже, чем 2500 (1836.94) а время предсказания меньше, чем на валидационной выборке. Учитывая то, что заказчика интересуют время обучения и предсказания, и RMSE ниже 2500 для эксплуатации можем предложить модель:\n",
    "\n",
    "- LGBMRegressor с параметрами: {'learning_rate': 0.1778279410038923, 'n_estimators': 60, 'num_leaves': 40}."
   ]
  },
  {
   "cell_type": "markdown",
   "metadata": {},
   "source": [
    "## Общий вывод."
   ]
  },
  {
   "cell_type": "markdown",
   "metadata": {},
   "source": [
    "**Сделаем общий вывод по проделанному исследованию.**"
   ]
  },
  {
   "cell_type": "markdown",
   "metadata": {},
   "source": [
    "Мы исследовали датасет с данными о технических характеристиках, комплектации и ценах других автомобилей. Мы создавали модель, которая умеет определять рыночную стоимость автомобиля.\n",
    "\n",
    "Заказчику были важны критерии:\n",
    "\n",
    "- качество предсказания;\n",
    "- время обучения модели;\n",
    "- время предсказания модели.\n",
    "\n",
    "**Сделаем выводы по обзору данных:**\n",
    "\n",
    " - В исследовани участвует один датасет.\n",
    " - В столбцах датасета разное количество значений.\n",
    " - В датасете обнаружены пропуски.\n",
    " - В датасете обнаружены неправильные типы данных.\n",
    " - Данные в таблице соответствуют описанию.\n",
    " - Названия столбцов не приведены к змеиному регистру.\n",
    " - Мы можем определить следующие признаки неинформативными для моделей машинного обучения:\n",
    " - 1.DateCrawled — дата скачивания анкеты из базы.\n",
    " - 2.RegistrationMonth — месяц регистрации автомобиля.\n",
    " - 3.DateCreated — дата создания анкеты.\n",
    " - 4.NumberOfPictures — количество фотографий автомобиля (признак содержит только нули).\n",
    " - 5.PostalCode — почтовый индекс владельца анкеты.\n",
    " - 6.LastSeen — дата последней активности пользователя.\n",
    " \n",
    "**Сделаем выводы по предобработке данных:**\n",
    "\n",
    "- Все столбцы и значения в категориальных столбцах были переведены в змеиный регистр.\n",
    "- Были обнаружены и удалены явные дубликаты.\n",
    "- Неявных дубликатов обнаружено не было.\n",
    "- Значения Nan в датасете были заменены на 'not_found'.\n",
    "- Значения в столбце 'power' выше 5000 и ниже 1 были заменены на медианные по группе признаков 'model' и 'brand'.\n",
    "\n",
    "**Сделаем вывод по исследовательскому анализу данных:**\n",
    "\n",
    "- Некоторые входные признаки в датасетах распределены не нормально.\n",
    "- В датасетах были обнаружены аномальные значения, мы не стали их убирать, т.к. из-за их количества это может повредить данным. \n",
    "- Мы изучили категориальные переменные и увидели предпочтения автомобилистов.\n",
    "\n",
    "**Сделаем вывод по корреляционному анализу данных:**\n",
    "\n",
    "Мы обнаружили среднюю корреляцию между параметрами:\n",
    " - 'kilometer' и 'registration_year' = -0.30.\n",
    " \n",
    "Так же существует низкая корреляция между параметрами:\n",
    " - 'power' и 'registration_year' = 0.16.\n",
    " - 'kilometer' и 'power' = 0.12.\n",
    " \n",
    "Между остальными параметрами корреляции нет.\n",
    "\n",
    " - Мы использовали корреляцию Спирмана, так как некоторые данные распределены не нормально.\n",
    " \n",
    "**Вывод по анализу моделей:**\n",
    "\n",
    "Для использования в данном проекте были выбраны следующие модели: RandomForestRegressor, LinearRegression, LGBMRegressor и CatBoostRegressor.\n",
    "\n",
    "По критерию минимального параметра RMSE в качестве лучшей модели после обучения была выбрана модель LGBMRegressor с параметрами {'learning_rate': 0.1778279410038923, 'n_estimators': 60, 'num_leaves': 40}. Ее показатели на тестовой выборке:\n",
    "\n",
    "- RMSE: 1859.82358\n",
    "- Время обучения: (без учёта подбора гиперпараметров): 3.14019с\n",
    "- Время предсказания: 0.39982с\n",
    "\n",
    "Эта модель несильно проигрывает во времени обучения и предсказания модели RandomForestRegressor, зато качественно выигрывает в показателе RMSE. Мы предлагаем её, как лучшую из протестированных моделей.\n",
    "\n",
    "**Вывод по тестированию модели:**\n",
    "\n",
    "RMSE на тестовой выборке оказался ниже, чем 2500 (1836.94) а время предсказания меньше, чем на валидационной выборке. Учитывая то, что заказчика интересуют время обучения и предсказания, и RMSE ниже 2500 для эксплуатации можем предложить модель:\n",
    "\n",
    "- LGBMRegressor с параметрами: {'learning_rate': 0.1778279410038923, 'n_estimators': 60, 'num_leaves': 40}."
   ]
  }
 ],
 "metadata": {
  "ExecuteTimeLog": [
   {
    "duration": 100,
    "start_time": "2025-01-06T18:20:23.462Z"
   },
   {
    "duration": 1915,
    "start_time": "2025-01-06T18:20:43.312Z"
   },
   {
    "duration": 42,
    "start_time": "2025-01-06T18:21:41.827Z"
   },
   {
    "duration": 53,
    "start_time": "2025-01-07T15:32:03.829Z"
   },
   {
    "duration": 1800,
    "start_time": "2025-01-07T15:32:23.676Z"
   },
   {
    "duration": 2848,
    "start_time": "2025-01-07T15:32:27.292Z"
   },
   {
    "duration": 169,
    "start_time": "2025-01-07T15:33:21.210Z"
   },
   {
    "duration": 81,
    "start_time": "2025-01-07T15:47:54.391Z"
   },
   {
    "duration": 5,
    "start_time": "2025-01-07T15:48:08.671Z"
   },
   {
    "duration": 14,
    "start_time": "2025-01-07T15:48:17.592Z"
   },
   {
    "duration": 5,
    "start_time": "2025-01-07T15:48:37.017Z"
   },
   {
    "duration": 14,
    "start_time": "2025-01-07T15:51:14.539Z"
   },
   {
    "duration": 496,
    "start_time": "2025-01-07T15:57:54.115Z"
   },
   {
    "duration": 935,
    "start_time": "2025-01-07T15:59:08.191Z"
   },
   {
    "duration": 1167,
    "start_time": "2025-01-07T16:03:53.168Z"
   },
   {
    "duration": 1197,
    "start_time": "2025-01-07T16:04:09.265Z"
   },
   {
    "duration": 1210,
    "start_time": "2025-01-07T16:09:43.422Z"
   },
   {
    "duration": 2655,
    "start_time": "2025-01-07T16:11:10.947Z"
   },
   {
    "duration": 2709,
    "start_time": "2025-01-07T16:12:06.174Z"
   },
   {
    "duration": 144,
    "start_time": "2025-01-07T16:20:34.541Z"
   },
   {
    "duration": 119,
    "start_time": "2025-01-07T16:29:05.028Z"
   },
   {
    "duration": 502,
    "start_time": "2025-01-07T16:29:22.276Z"
   },
   {
    "duration": 381,
    "start_time": "2025-01-07T17:26:06.616Z"
   },
   {
    "duration": 10,
    "start_time": "2025-01-07T17:29:21.253Z"
   },
   {
    "duration": 103,
    "start_time": "2025-01-07T17:29:33.557Z"
   },
   {
    "duration": 37,
    "start_time": "2025-01-07T17:31:44.957Z"
   },
   {
    "duration": 11,
    "start_time": "2025-01-07T17:31:55.614Z"
   },
   {
    "duration": 1252,
    "start_time": "2025-01-07T17:39:38.610Z"
   },
   {
    "duration": 1326,
    "start_time": "2025-01-07T17:39:52.578Z"
   },
   {
    "duration": 1194,
    "start_time": "2025-01-07T17:40:42.734Z"
   },
   {
    "duration": 1271,
    "start_time": "2025-01-07T17:40:53.766Z"
   },
   {
    "duration": 1202,
    "start_time": "2025-01-07T17:41:02.391Z"
   },
   {
    "duration": 103,
    "start_time": "2025-01-07T17:41:09.488Z"
   },
   {
    "duration": 31,
    "start_time": "2025-01-07T17:41:30.825Z"
   },
   {
    "duration": 16,
    "start_time": "2025-01-07T17:41:39.162Z"
   },
   {
    "duration": 26,
    "start_time": "2025-01-07T17:42:36.236Z"
   },
   {
    "duration": 24,
    "start_time": "2025-01-07T17:42:48.510Z"
   },
   {
    "duration": 25,
    "start_time": "2025-01-07T17:43:00.414Z"
   },
   {
    "duration": 25,
    "start_time": "2025-01-07T17:43:07.478Z"
   },
   {
    "duration": 24,
    "start_time": "2025-01-07T17:43:13.479Z"
   },
   {
    "duration": 20,
    "start_time": "2025-01-07T17:43:18.992Z"
   },
   {
    "duration": 20,
    "start_time": "2025-01-07T17:43:24.119Z"
   },
   {
    "duration": 123,
    "start_time": "2025-01-07T17:51:18.444Z"
   },
   {
    "duration": 128,
    "start_time": "2025-01-07T17:57:57.164Z"
   },
   {
    "duration": 12,
    "start_time": "2025-01-07T18:03:24.672Z"
   },
   {
    "duration": 7184,
    "start_time": "2025-01-07T18:03:39.393Z"
   },
   {
    "duration": 146,
    "start_time": "2025-01-07T18:05:48.209Z"
   },
   {
    "duration": 142,
    "start_time": "2025-01-07T18:12:17.601Z"
   },
   {
    "duration": 7097,
    "start_time": "2025-01-07T18:12:28.513Z"
   },
   {
    "duration": 7101,
    "start_time": "2025-01-07T18:13:22.876Z"
   },
   {
    "duration": 7084,
    "start_time": "2025-01-07T18:14:27.768Z"
   },
   {
    "duration": 6976,
    "start_time": "2025-01-07T18:16:48.401Z"
   },
   {
    "duration": 7087,
    "start_time": "2025-01-07T18:21:01.784Z"
   },
   {
    "duration": 7049,
    "start_time": "2025-01-07T18:21:21.322Z"
   },
   {
    "duration": 1588,
    "start_time": "2025-01-07T18:21:38.963Z"
   },
   {
    "duration": 938,
    "start_time": "2025-01-07T18:21:40.553Z"
   },
   {
    "duration": 186,
    "start_time": "2025-01-07T18:21:41.492Z"
   },
   {
    "duration": 4,
    "start_time": "2025-01-07T18:21:41.680Z"
   },
   {
    "duration": 14,
    "start_time": "2025-01-07T18:21:41.686Z"
   },
   {
    "duration": 502,
    "start_time": "2025-01-07T18:21:41.701Z"
   },
   {
    "duration": 1010,
    "start_time": "2025-01-07T18:21:42.205Z"
   },
   {
    "duration": 1156,
    "start_time": "2025-01-07T18:21:43.217Z"
   },
   {
    "duration": 2749,
    "start_time": "2025-01-07T18:21:44.375Z"
   },
   {
    "duration": 474,
    "start_time": "2025-01-07T18:21:47.126Z"
   },
   {
    "duration": 378,
    "start_time": "2025-01-07T18:21:47.602Z"
   },
   {
    "duration": 116,
    "start_time": "2025-01-07T18:21:47.982Z"
   },
   {
    "duration": 35,
    "start_time": "2025-01-07T18:21:48.100Z"
   },
   {
    "duration": 37,
    "start_time": "2025-01-07T18:21:48.137Z"
   },
   {
    "duration": 136,
    "start_time": "2025-01-07T18:21:48.176Z"
   },
   {
    "duration": 17,
    "start_time": "2025-01-07T18:21:48.314Z"
   },
   {
    "duration": 7087,
    "start_time": "2025-01-07T18:21:51.084Z"
   },
   {
    "duration": 7141,
    "start_time": "2025-01-07T18:24:07.276Z"
   },
   {
    "duration": 1612,
    "start_time": "2025-01-07T18:24:24.942Z"
   },
   {
    "duration": 939,
    "start_time": "2025-01-07T18:24:26.556Z"
   },
   {
    "duration": 181,
    "start_time": "2025-01-07T18:24:27.497Z"
   },
   {
    "duration": 5,
    "start_time": "2025-01-07T18:24:27.679Z"
   },
   {
    "duration": 41,
    "start_time": "2025-01-07T18:24:27.686Z"
   },
   {
    "duration": 493,
    "start_time": "2025-01-07T18:24:27.728Z"
   },
   {
    "duration": 1007,
    "start_time": "2025-01-07T18:24:28.222Z"
   },
   {
    "duration": 1165,
    "start_time": "2025-01-07T18:24:29.231Z"
   },
   {
    "duration": 2752,
    "start_time": "2025-01-07T18:24:30.398Z"
   },
   {
    "duration": 492,
    "start_time": "2025-01-07T18:24:33.152Z"
   },
   {
    "duration": 379,
    "start_time": "2025-01-07T18:24:33.646Z"
   },
   {
    "duration": 123,
    "start_time": "2025-01-07T18:24:34.027Z"
   },
   {
    "duration": 43,
    "start_time": "2025-01-07T18:24:34.152Z"
   },
   {
    "duration": 19,
    "start_time": "2025-01-07T18:24:34.197Z"
   },
   {
    "duration": 190,
    "start_time": "2025-01-07T18:24:34.218Z"
   },
   {
    "duration": 20,
    "start_time": "2025-01-07T18:24:34.410Z"
   },
   {
    "duration": 7192,
    "start_time": "2025-01-07T18:24:36.465Z"
   },
   {
    "duration": 7058,
    "start_time": "2025-01-07T18:26:13.719Z"
   },
   {
    "duration": 583,
    "start_time": "2025-01-07T20:22:50.748Z"
   },
   {
    "duration": 447,
    "start_time": "2025-01-07T20:23:28.542Z"
   },
   {
    "duration": 134,
    "start_time": "2025-01-07T20:25:11.136Z"
   },
   {
    "duration": 1393,
    "start_time": "2025-01-07T20:25:56.675Z"
   },
   {
    "duration": 1476,
    "start_time": "2025-01-07T20:27:27.624Z"
   },
   {
    "duration": 1072,
    "start_time": "2025-01-07T20:28:12.211Z"
   },
   {
    "duration": 1131,
    "start_time": "2025-01-07T20:30:19.427Z"
   },
   {
    "duration": 1080,
    "start_time": "2025-01-07T20:30:30.779Z"
   },
   {
    "duration": 128,
    "start_time": "2025-01-07T20:30:49.709Z"
   },
   {
    "duration": 1513,
    "start_time": "2025-01-07T20:31:14.909Z"
   },
   {
    "duration": 121,
    "start_time": "2025-01-07T20:31:39.831Z"
   },
   {
    "duration": 1483,
    "start_time": "2025-01-07T20:35:38.174Z"
   },
   {
    "duration": 1414,
    "start_time": "2025-01-07T20:35:56.087Z"
   },
   {
    "duration": 1426,
    "start_time": "2025-01-07T20:36:15.344Z"
   },
   {
    "duration": 169,
    "start_time": "2025-01-07T20:37:12.764Z"
   },
   {
    "duration": 153,
    "start_time": "2025-01-07T20:37:29.948Z"
   },
   {
    "duration": 155,
    "start_time": "2025-01-07T20:38:06.663Z"
   },
   {
    "duration": 755,
    "start_time": "2025-01-07T20:38:20.287Z"
   },
   {
    "duration": 443,
    "start_time": "2025-01-07T20:38:27.016Z"
   },
   {
    "duration": 1402,
    "start_time": "2025-01-07T20:38:47.153Z"
   },
   {
    "duration": 719,
    "start_time": "2025-01-07T20:40:36.360Z"
   },
   {
    "duration": 128,
    "start_time": "2025-01-07T20:41:34.236Z"
   },
   {
    "duration": 137,
    "start_time": "2025-01-07T20:41:54.756Z"
   },
   {
    "duration": 1490,
    "start_time": "2025-01-07T20:42:04.613Z"
   },
   {
    "duration": 130,
    "start_time": "2025-01-07T20:42:14.021Z"
   },
   {
    "duration": 1329,
    "start_time": "2025-01-07T20:42:23.998Z"
   },
   {
    "duration": 1367,
    "start_time": "2025-01-07T20:42:32.335Z"
   },
   {
    "duration": 121,
    "start_time": "2025-01-07T20:42:44.671Z"
   },
   {
    "duration": 126,
    "start_time": "2025-01-07T20:42:54.239Z"
   },
   {
    "duration": 147,
    "start_time": "2025-01-07T20:43:15.713Z"
   },
   {
    "duration": 115,
    "start_time": "2025-01-07T20:43:23.513Z"
   },
   {
    "duration": 118,
    "start_time": "2025-01-07T20:43:30.738Z"
   },
   {
    "duration": 115,
    "start_time": "2025-01-07T20:43:48.908Z"
   },
   {
    "duration": 115,
    "start_time": "2025-01-07T20:44:02.348Z"
   },
   {
    "duration": 148,
    "start_time": "2025-01-07T20:44:18.156Z"
   },
   {
    "duration": 88,
    "start_time": "2025-01-07T20:44:29.222Z"
   },
   {
    "duration": 762,
    "start_time": "2025-01-07T20:48:09.987Z"
   },
   {
    "duration": 1388,
    "start_time": "2025-01-07T20:48:17.700Z"
   },
   {
    "duration": 456,
    "start_time": "2025-01-07T20:48:36.669Z"
   },
   {
    "duration": 124,
    "start_time": "2025-01-07T20:48:44.286Z"
   },
   {
    "duration": 160,
    "start_time": "2025-01-07T20:54:12.497Z"
   },
   {
    "duration": 1382,
    "start_time": "2025-01-07T20:54:59.372Z"
   },
   {
    "duration": 1391,
    "start_time": "2025-01-07T20:55:14.637Z"
   },
   {
    "duration": 1429,
    "start_time": "2025-01-07T20:55:49.271Z"
   },
   {
    "duration": 125,
    "start_time": "2025-01-07T20:56:26.329Z"
   },
   {
    "duration": 125,
    "start_time": "2025-01-07T20:56:55.803Z"
   },
   {
    "duration": 120,
    "start_time": "2025-01-07T20:57:09.731Z"
   },
   {
    "duration": 1500,
    "start_time": "2025-01-07T21:01:17.804Z"
   },
   {
    "duration": 912,
    "start_time": "2025-01-07T21:01:19.305Z"
   },
   {
    "duration": 185,
    "start_time": "2025-01-07T21:01:20.218Z"
   },
   {
    "duration": 4,
    "start_time": "2025-01-07T21:01:20.405Z"
   },
   {
    "duration": 13,
    "start_time": "2025-01-07T21:01:20.411Z"
   },
   {
    "duration": 518,
    "start_time": "2025-01-07T21:01:20.425Z"
   },
   {
    "duration": 1031,
    "start_time": "2025-01-07T21:01:20.944Z"
   },
   {
    "duration": 1169,
    "start_time": "2025-01-07T21:01:21.977Z"
   },
   {
    "duration": 2751,
    "start_time": "2025-01-07T21:01:23.148Z"
   },
   {
    "duration": 479,
    "start_time": "2025-01-07T21:01:25.902Z"
   },
   {
    "duration": 408,
    "start_time": "2025-01-07T21:01:26.382Z"
   },
   {
    "duration": 121,
    "start_time": "2025-01-07T21:01:26.792Z"
   },
   {
    "duration": 38,
    "start_time": "2025-01-07T21:01:26.915Z"
   },
   {
    "duration": 20,
    "start_time": "2025-01-07T21:01:26.955Z"
   },
   {
    "duration": 137,
    "start_time": "2025-01-07T21:01:26.976Z"
   },
   {
    "duration": 19,
    "start_time": "2025-01-07T21:01:27.115Z"
   },
   {
    "duration": 149,
    "start_time": "2025-01-07T21:01:30.940Z"
   },
   {
    "duration": 143,
    "start_time": "2025-01-07T21:01:53.998Z"
   },
   {
    "duration": 156,
    "start_time": "2025-01-07T21:02:14.102Z"
   },
   {
    "duration": 148,
    "start_time": "2025-01-07T21:02:53.057Z"
   },
   {
    "duration": 242,
    "start_time": "2025-01-07T21:03:38.084Z"
   },
   {
    "duration": 146,
    "start_time": "2025-01-07T21:04:40.632Z"
   },
   {
    "duration": 116,
    "start_time": "2025-01-07T21:05:36.707Z"
   },
   {
    "duration": 135,
    "start_time": "2025-01-07T21:05:41.804Z"
   },
   {
    "duration": 141,
    "start_time": "2025-01-07T21:05:56.964Z"
   },
   {
    "duration": 191,
    "start_time": "2025-01-07T21:06:06.685Z"
   },
   {
    "duration": 178,
    "start_time": "2025-01-07T21:06:35.207Z"
   },
   {
    "duration": 149,
    "start_time": "2025-01-07T21:07:14.161Z"
   },
   {
    "duration": 138,
    "start_time": "2025-01-07T21:08:39.742Z"
   },
   {
    "duration": 156,
    "start_time": "2025-01-07T21:47:57.388Z"
   },
   {
    "duration": 154,
    "start_time": "2025-01-07T21:49:18.273Z"
   },
   {
    "duration": 185,
    "start_time": "2025-01-07T21:50:29.765Z"
   },
   {
    "duration": 192,
    "start_time": "2025-01-07T21:51:48.466Z"
   },
   {
    "duration": 181,
    "start_time": "2025-01-07T21:52:35.126Z"
   },
   {
    "duration": 187,
    "start_time": "2025-01-07T21:53:09.151Z"
   },
   {
    "duration": 185,
    "start_time": "2025-01-07T21:53:29.416Z"
   },
   {
    "duration": 139,
    "start_time": "2025-01-07T21:53:51.202Z"
   },
   {
    "duration": 144,
    "start_time": "2025-01-07T21:54:18.875Z"
   },
   {
    "duration": 185,
    "start_time": "2025-01-07T21:54:36.820Z"
   },
   {
    "duration": 64951,
    "start_time": "2025-01-07T21:55:08.382Z"
   },
   {
    "duration": 27429,
    "start_time": "2025-01-07T21:56:17.835Z"
   },
   {
    "duration": 133,
    "start_time": "2025-01-07T21:59:03.133Z"
   },
   {
    "duration": 140,
    "start_time": "2025-01-07T21:59:41.943Z"
   },
   {
    "duration": 205,
    "start_time": "2025-01-07T22:00:19.129Z"
   },
   {
    "duration": 210,
    "start_time": "2025-01-07T22:00:24.185Z"
   },
   {
    "duration": 1547,
    "start_time": "2025-01-07T22:00:53.802Z"
   },
   {
    "duration": 938,
    "start_time": "2025-01-07T22:00:55.351Z"
   },
   {
    "duration": 190,
    "start_time": "2025-01-07T22:00:56.291Z"
   },
   {
    "duration": 5,
    "start_time": "2025-01-07T22:00:56.483Z"
   },
   {
    "duration": 16,
    "start_time": "2025-01-07T22:00:56.490Z"
   },
   {
    "duration": 538,
    "start_time": "2025-01-07T22:00:56.508Z"
   },
   {
    "duration": 1032,
    "start_time": "2025-01-07T22:00:57.048Z"
   },
   {
    "duration": 1152,
    "start_time": "2025-01-07T22:00:58.082Z"
   },
   {
    "duration": 2826,
    "start_time": "2025-01-07T22:00:59.236Z"
   },
   {
    "duration": 481,
    "start_time": "2025-01-07T22:01:02.063Z"
   },
   {
    "duration": 392,
    "start_time": "2025-01-07T22:01:02.545Z"
   },
   {
    "duration": 108,
    "start_time": "2025-01-07T22:01:02.939Z"
   },
   {
    "duration": 50,
    "start_time": "2025-01-07T22:01:03.049Z"
   },
   {
    "duration": 32,
    "start_time": "2025-01-07T22:01:03.101Z"
   },
   {
    "duration": 143,
    "start_time": "2025-01-07T22:01:03.136Z"
   },
   {
    "duration": 19,
    "start_time": "2025-01-07T22:01:03.280Z"
   },
   {
    "duration": 226,
    "start_time": "2025-01-07T22:01:07.947Z"
   },
   {
    "duration": 213,
    "start_time": "2025-01-07T22:01:14.916Z"
   },
   {
    "duration": 106,
    "start_time": "2025-01-07T22:04:45.648Z"
   },
   {
    "duration": 1762,
    "start_time": "2025-01-07T22:04:51.089Z"
   },
   {
    "duration": 12788,
    "start_time": "2025-01-07T22:05:10.090Z"
   },
   {
    "duration": 12867,
    "start_time": "2025-01-07T22:06:00.341Z"
   },
   {
    "duration": 12829,
    "start_time": "2025-01-07T22:06:50.320Z"
   },
   {
    "duration": 135,
    "start_time": "2025-01-07T22:07:26.674Z"
   },
   {
    "duration": 12929,
    "start_time": "2025-01-07T22:08:04.349Z"
   },
   {
    "duration": 12926,
    "start_time": "2025-01-07T22:08:59.632Z"
   },
   {
    "duration": 185,
    "start_time": "2025-01-07T22:13:30.224Z"
   },
   {
    "duration": 1546,
    "start_time": "2025-01-07T22:13:47.145Z"
   },
   {
    "duration": 901,
    "start_time": "2025-01-07T22:13:48.693Z"
   },
   {
    "duration": 185,
    "start_time": "2025-01-07T22:13:49.596Z"
   },
   {
    "duration": 5,
    "start_time": "2025-01-07T22:13:49.783Z"
   },
   {
    "duration": 54,
    "start_time": "2025-01-07T22:13:49.789Z"
   },
   {
    "duration": 488,
    "start_time": "2025-01-07T22:13:49.845Z"
   },
   {
    "duration": 1012,
    "start_time": "2025-01-07T22:13:50.334Z"
   },
   {
    "duration": 1150,
    "start_time": "2025-01-07T22:13:51.347Z"
   },
   {
    "duration": 2735,
    "start_time": "2025-01-07T22:13:52.499Z"
   },
   {
    "duration": 486,
    "start_time": "2025-01-07T22:13:55.236Z"
   },
   {
    "duration": 414,
    "start_time": "2025-01-07T22:13:55.724Z"
   },
   {
    "duration": 106,
    "start_time": "2025-01-07T22:13:56.140Z"
   },
   {
    "duration": 43,
    "start_time": "2025-01-07T22:13:56.248Z"
   },
   {
    "duration": 50,
    "start_time": "2025-01-07T22:13:56.293Z"
   },
   {
    "duration": 123,
    "start_time": "2025-01-07T22:13:56.345Z"
   },
   {
    "duration": 21,
    "start_time": "2025-01-07T22:13:56.470Z"
   },
   {
    "duration": 186,
    "start_time": "2025-01-07T22:14:01.194Z"
   },
   {
    "duration": 12816,
    "start_time": "2025-01-07T22:16:48.789Z"
   },
   {
    "duration": 12808,
    "start_time": "2025-01-07T22:18:36.291Z"
   },
   {
    "duration": 107,
    "start_time": "2025-01-07T22:26:22.807Z"
   },
   {
    "duration": 12995,
    "start_time": "2025-01-07T22:26:35.392Z"
   },
   {
    "duration": 12828,
    "start_time": "2025-01-07T22:27:14.019Z"
   },
   {
    "duration": 13190,
    "start_time": "2025-01-07T22:27:48.725Z"
   },
   {
    "duration": 1724,
    "start_time": "2025-01-08T14:02:14.243Z"
   },
   {
    "duration": 3056,
    "start_time": "2025-01-08T14:02:15.970Z"
   },
   {
    "duration": 170,
    "start_time": "2025-01-08T14:02:19.028Z"
   },
   {
    "duration": 4,
    "start_time": "2025-01-08T14:02:19.200Z"
   },
   {
    "duration": 15,
    "start_time": "2025-01-08T14:02:19.206Z"
   },
   {
    "duration": 495,
    "start_time": "2025-01-08T14:02:19.222Z"
   },
   {
    "duration": 979,
    "start_time": "2025-01-08T14:02:19.719Z"
   },
   {
    "duration": 1139,
    "start_time": "2025-01-08T14:02:20.699Z"
   },
   {
    "duration": 2782,
    "start_time": "2025-01-08T14:02:21.839Z"
   },
   {
    "duration": 477,
    "start_time": "2025-01-08T14:02:24.623Z"
   },
   {
    "duration": 374,
    "start_time": "2025-01-08T14:02:25.102Z"
   },
   {
    "duration": 117,
    "start_time": "2025-01-08T14:02:25.477Z"
   },
   {
    "duration": 42,
    "start_time": "2025-01-08T14:02:25.596Z"
   },
   {
    "duration": 13,
    "start_time": "2025-01-08T14:02:25.641Z"
   },
   {
    "duration": 119,
    "start_time": "2025-01-08T14:02:25.656Z"
   },
   {
    "duration": 18,
    "start_time": "2025-01-08T14:02:25.776Z"
   },
   {
    "duration": 13147,
    "start_time": "2025-01-08T14:02:33.964Z"
   },
   {
    "duration": 13155,
    "start_time": "2025-01-08T14:05:21.685Z"
   },
   {
    "duration": 12669,
    "start_time": "2025-01-08T14:08:10.008Z"
   },
   {
    "duration": 12497,
    "start_time": "2025-01-08T14:09:08.835Z"
   },
   {
    "duration": 98,
    "start_time": "2025-01-08T14:11:28.947Z"
   },
   {
    "duration": 4,
    "start_time": "2025-01-08T16:15:15.510Z"
   },
   {
    "duration": 402,
    "start_time": "2025-01-08T16:15:17.558Z"
   },
   {
    "duration": 415,
    "start_time": "2025-01-08T16:18:03.585Z"
   },
   {
    "duration": 1532,
    "start_time": "2025-01-08T16:19:02.819Z"
   },
   {
    "duration": 893,
    "start_time": "2025-01-08T16:19:04.353Z"
   },
   {
    "duration": 171,
    "start_time": "2025-01-08T16:19:05.247Z"
   },
   {
    "duration": 5,
    "start_time": "2025-01-08T16:19:05.420Z"
   },
   {
    "duration": 16,
    "start_time": "2025-01-08T16:19:05.438Z"
   },
   {
    "duration": 510,
    "start_time": "2025-01-08T16:19:05.456Z"
   },
   {
    "duration": 1042,
    "start_time": "2025-01-08T16:19:05.968Z"
   },
   {
    "duration": 1136,
    "start_time": "2025-01-08T16:19:07.012Z"
   },
   {
    "duration": 2738,
    "start_time": "2025-01-08T16:19:08.150Z"
   },
   {
    "duration": 458,
    "start_time": "2025-01-08T16:19:10.890Z"
   },
   {
    "duration": 387,
    "start_time": "2025-01-08T16:19:11.350Z"
   },
   {
    "duration": 111,
    "start_time": "2025-01-08T16:19:11.739Z"
   },
   {
    "duration": 37,
    "start_time": "2025-01-08T16:19:11.852Z"
   },
   {
    "duration": 14,
    "start_time": "2025-01-08T16:19:11.893Z"
   },
   {
    "duration": 114,
    "start_time": "2025-01-08T16:19:11.909Z"
   },
   {
    "duration": 27,
    "start_time": "2025-01-08T16:19:12.025Z"
   },
   {
    "duration": 12774,
    "start_time": "2025-01-08T16:19:12.054Z"
   },
   {
    "duration": 143,
    "start_time": "2025-01-08T16:19:24.829Z"
   },
   {
    "duration": 103,
    "start_time": "2025-01-08T16:19:24.973Z"
   },
   {
    "duration": 4,
    "start_time": "2025-01-08T16:19:25.077Z"
   },
   {
    "duration": 401,
    "start_time": "2025-01-08T16:19:25.082Z"
   },
   {
    "duration": 440,
    "start_time": "2025-01-08T16:19:36.836Z"
   },
   {
    "duration": 330,
    "start_time": "2025-01-08T16:20:14.039Z"
   },
   {
    "duration": 383,
    "start_time": "2025-01-08T16:20:31.600Z"
   },
   {
    "duration": 223,
    "start_time": "2025-01-08T16:22:03.758Z"
   },
   {
    "duration": 1098,
    "start_time": "2025-01-08T16:22:54.849Z"
   },
   {
    "duration": 1543,
    "start_time": "2025-01-08T16:23:55.940Z"
   },
   {
    "duration": 955,
    "start_time": "2025-01-08T16:23:57.487Z"
   },
   {
    "duration": 185,
    "start_time": "2025-01-08T16:23:58.444Z"
   },
   {
    "duration": 5,
    "start_time": "2025-01-08T16:23:58.636Z"
   },
   {
    "duration": 27,
    "start_time": "2025-01-08T16:23:58.643Z"
   },
   {
    "duration": 504,
    "start_time": "2025-01-08T16:23:58.672Z"
   },
   {
    "duration": 1008,
    "start_time": "2025-01-08T16:23:59.178Z"
   },
   {
    "duration": 1183,
    "start_time": "2025-01-08T16:24:00.188Z"
   },
   {
    "duration": 2936,
    "start_time": "2025-01-08T16:24:01.373Z"
   },
   {
    "duration": 487,
    "start_time": "2025-01-08T16:24:04.312Z"
   },
   {
    "duration": 382,
    "start_time": "2025-01-08T16:24:04.800Z"
   },
   {
    "duration": 115,
    "start_time": "2025-01-08T16:24:05.184Z"
   },
   {
    "duration": 39,
    "start_time": "2025-01-08T16:24:05.301Z"
   },
   {
    "duration": 33,
    "start_time": "2025-01-08T16:24:05.342Z"
   },
   {
    "duration": 121,
    "start_time": "2025-01-08T16:24:05.376Z"
   },
   {
    "duration": 19,
    "start_time": "2025-01-08T16:24:05.498Z"
   },
   {
    "duration": 12921,
    "start_time": "2025-01-08T16:24:05.519Z"
   },
   {
    "duration": 151,
    "start_time": "2025-01-08T16:24:18.441Z"
   },
   {
    "duration": 102,
    "start_time": "2025-01-08T16:24:18.594Z"
   },
   {
    "duration": 4,
    "start_time": "2025-01-08T16:24:18.697Z"
   },
   {
    "duration": 403,
    "start_time": "2025-01-08T16:24:18.703Z"
   },
   {
    "duration": 444,
    "start_time": "2025-01-08T16:24:19.108Z"
   },
   {
    "duration": 338,
    "start_time": "2025-01-08T16:24:19.554Z"
   },
   {
    "duration": 389,
    "start_time": "2025-01-08T16:24:19.893Z"
   },
   {
    "duration": 1085,
    "start_time": "2025-01-08T16:24:44.023Z"
   },
   {
    "duration": 853,
    "start_time": "2025-01-08T16:25:38.435Z"
   },
   {
    "duration": 4909,
    "start_time": "2025-01-08T16:26:29.109Z"
   },
   {
    "duration": 5221,
    "start_time": "2025-01-08T16:28:18.893Z"
   },
   {
    "duration": 5290,
    "start_time": "2025-01-08T16:29:06.664Z"
   },
   {
    "duration": 5299,
    "start_time": "2025-01-08T16:29:20.856Z"
   },
   {
    "duration": 5153,
    "start_time": "2025-01-08T16:29:51.058Z"
   },
   {
    "duration": 5332,
    "start_time": "2025-01-08T16:30:37.629Z"
   },
   {
    "duration": 162,
    "start_time": "2025-01-08T16:31:14.943Z"
   },
   {
    "duration": 54,
    "start_time": "2025-01-08T16:31:19.008Z"
   },
   {
    "duration": 4787,
    "start_time": "2025-01-08T16:31:38.105Z"
   },
   {
    "duration": 4687,
    "start_time": "2025-01-08T16:32:03.106Z"
   },
   {
    "duration": 442,
    "start_time": "2025-01-08T16:33:01.926Z"
   },
   {
    "duration": 261,
    "start_time": "2025-01-08T16:33:38.471Z"
   },
   {
    "duration": 106,
    "start_time": "2025-01-08T16:34:03.553Z"
   },
   {
    "duration": 1268,
    "start_time": "2025-01-08T16:34:15.810Z"
   },
   {
    "duration": 1347,
    "start_time": "2025-01-08T16:34:23.859Z"
   },
   {
    "duration": 196,
    "start_time": "2025-01-08T16:34:34.675Z"
   },
   {
    "duration": 247,
    "start_time": "2025-01-08T16:35:16.470Z"
   },
   {
    "duration": 259,
    "start_time": "2025-01-08T16:36:07.320Z"
   },
   {
    "duration": 259,
    "start_time": "2025-01-08T16:39:09.123Z"
   },
   {
    "duration": 98,
    "start_time": "2025-01-08T16:39:15.404Z"
   },
   {
    "duration": 253,
    "start_time": "2025-01-08T16:39:24.164Z"
   },
   {
    "duration": 1308,
    "start_time": "2025-01-08T16:42:03.326Z"
   },
   {
    "duration": 77,
    "start_time": "2025-01-08T16:42:42.432Z"
   },
   {
    "duration": 1361,
    "start_time": "2025-01-08T16:42:49.128Z"
   },
   {
    "duration": 239,
    "start_time": "2025-01-08T16:42:54.801Z"
   },
   {
    "duration": 239,
    "start_time": "2025-01-08T16:43:10.865Z"
   },
   {
    "duration": 189,
    "start_time": "2025-01-08T16:44:23.063Z"
   },
   {
    "duration": 226,
    "start_time": "2025-01-08T16:44:37.384Z"
   },
   {
    "duration": 259,
    "start_time": "2025-01-08T16:45:43.507Z"
   },
   {
    "duration": 3172,
    "start_time": "2025-01-08T16:46:00.819Z"
   },
   {
    "duration": 272,
    "start_time": "2025-01-08T16:46:50.135Z"
   },
   {
    "duration": 269,
    "start_time": "2025-01-08T16:47:13.000Z"
   },
   {
    "duration": 4934,
    "start_time": "2025-01-08T16:47:21.609Z"
   },
   {
    "duration": 264,
    "start_time": "2025-01-08T16:49:35.128Z"
   },
   {
    "duration": 218,
    "start_time": "2025-01-08T16:49:40.449Z"
   },
   {
    "duration": 65,
    "start_time": "2025-01-08T18:51:41.596Z"
   },
   {
    "duration": 1884,
    "start_time": "2025-01-08T18:51:51.596Z"
   },
   {
    "duration": 2977,
    "start_time": "2025-01-08T18:51:53.483Z"
   },
   {
    "duration": 183,
    "start_time": "2025-01-08T18:51:56.462Z"
   },
   {
    "duration": 5,
    "start_time": "2025-01-08T18:51:56.647Z"
   },
   {
    "duration": 16,
    "start_time": "2025-01-08T18:51:56.655Z"
   },
   {
    "duration": 529,
    "start_time": "2025-01-08T18:51:56.673Z"
   },
   {
    "duration": 1041,
    "start_time": "2025-01-08T18:51:57.204Z"
   },
   {
    "duration": 1164,
    "start_time": "2025-01-08T18:51:58.247Z"
   },
   {
    "duration": 5,
    "start_time": "2025-01-08T18:52:20.663Z"
   },
   {
    "duration": 937,
    "start_time": "2025-01-08T18:52:20.669Z"
   },
   {
    "duration": 182,
    "start_time": "2025-01-08T18:52:21.607Z"
   },
   {
    "duration": 4,
    "start_time": "2025-01-08T18:52:21.790Z"
   },
   {
    "duration": 110,
    "start_time": "2025-01-08T18:52:21.796Z"
   },
   {
    "duration": 490,
    "start_time": "2025-01-08T18:52:21.908Z"
   },
   {
    "duration": 932,
    "start_time": "2025-01-08T18:52:22.400Z"
   },
   {
    "duration": 1124,
    "start_time": "2025-01-08T18:52:23.336Z"
   },
   {
    "duration": 2904,
    "start_time": "2025-01-08T18:52:24.461Z"
   },
   {
    "duration": 517,
    "start_time": "2025-01-08T18:52:27.367Z"
   },
   {
    "duration": 399,
    "start_time": "2025-01-08T18:52:27.885Z"
   },
   {
    "duration": 121,
    "start_time": "2025-01-08T18:52:28.286Z"
   },
   {
    "duration": 31,
    "start_time": "2025-01-08T18:52:28.408Z"
   },
   {
    "duration": 13,
    "start_time": "2025-01-08T18:52:28.440Z"
   },
   {
    "duration": 134,
    "start_time": "2025-01-08T18:52:28.456Z"
   },
   {
    "duration": 19,
    "start_time": "2025-01-08T18:52:28.592Z"
   },
   {
    "duration": 13823,
    "start_time": "2025-01-08T18:52:28.612Z"
   },
   {
    "duration": 119,
    "start_time": "2025-01-08T18:52:42.442Z"
   },
   {
    "duration": 111,
    "start_time": "2025-01-08T18:52:42.563Z"
   },
   {
    "duration": 60,
    "start_time": "2025-01-08T18:52:42.677Z"
   },
   {
    "duration": 409,
    "start_time": "2025-01-08T18:52:42.739Z"
   },
   {
    "duration": 365,
    "start_time": "2025-01-08T18:52:43.151Z"
   },
   {
    "duration": 475,
    "start_time": "2025-01-08T18:52:43.520Z"
   },
   {
    "duration": 389,
    "start_time": "2025-01-08T18:52:43.996Z"
   },
   {
    "duration": 1259,
    "start_time": "2025-01-08T18:52:44.387Z"
   },
   {
    "duration": 923,
    "start_time": "2025-01-08T18:52:45.648Z"
   },
   {
    "duration": 1649,
    "start_time": "2025-01-08T18:53:09.142Z"
   },
   {
    "duration": 949,
    "start_time": "2025-01-08T18:53:10.793Z"
   },
   {
    "duration": 173,
    "start_time": "2025-01-08T18:53:11.745Z"
   },
   {
    "duration": 15,
    "start_time": "2025-01-08T18:53:11.920Z"
   },
   {
    "duration": 30,
    "start_time": "2025-01-08T18:53:11.941Z"
   },
   {
    "duration": 510,
    "start_time": "2025-01-08T18:53:11.973Z"
   },
   {
    "duration": 995,
    "start_time": "2025-01-08T18:53:12.485Z"
   },
   {
    "duration": 1190,
    "start_time": "2025-01-08T18:53:13.482Z"
   },
   {
    "duration": 2986,
    "start_time": "2025-01-08T18:53:14.674Z"
   },
   {
    "duration": 543,
    "start_time": "2025-01-08T18:53:17.663Z"
   },
   {
    "duration": 470,
    "start_time": "2025-01-08T18:53:18.208Z"
   },
   {
    "duration": 125,
    "start_time": "2025-01-08T18:53:18.684Z"
   },
   {
    "duration": 45,
    "start_time": "2025-01-08T18:53:18.812Z"
   },
   {
    "duration": 44,
    "start_time": "2025-01-08T18:53:18.859Z"
   },
   {
    "duration": 153,
    "start_time": "2025-01-08T18:53:18.905Z"
   },
   {
    "duration": 24,
    "start_time": "2025-01-08T18:53:19.060Z"
   },
   {
    "duration": 16205,
    "start_time": "2025-01-08T18:53:19.086Z"
   },
   {
    "duration": 147,
    "start_time": "2025-01-08T18:53:35.293Z"
   },
   {
    "duration": 130,
    "start_time": "2025-01-08T18:53:35.454Z"
   },
   {
    "duration": 5,
    "start_time": "2025-01-08T18:53:35.586Z"
   },
   {
    "duration": 491,
    "start_time": "2025-01-08T18:53:35.593Z"
   },
   {
    "duration": 507,
    "start_time": "2025-01-08T18:53:36.086Z"
   },
   {
    "duration": 433,
    "start_time": "2025-01-08T18:53:36.595Z"
   },
   {
    "duration": 444,
    "start_time": "2025-01-08T18:53:37.030Z"
   },
   {
    "duration": 1231,
    "start_time": "2025-01-08T18:53:37.476Z"
   },
   {
    "duration": 1077,
    "start_time": "2025-01-08T18:53:38.708Z"
   },
   {
    "duration": 4520,
    "start_time": "2025-01-08T18:53:44.796Z"
   },
   {
    "duration": 3428,
    "start_time": "2025-01-08T18:54:15.525Z"
   },
   {
    "duration": 3476,
    "start_time": "2025-01-08T18:54:51.885Z"
   },
   {
    "duration": 1215,
    "start_time": "2025-01-08T18:55:20.877Z"
   },
   {
    "duration": 1100,
    "start_time": "2025-01-08T18:55:43.425Z"
   },
   {
    "duration": 1061,
    "start_time": "2025-01-08T18:55:49.614Z"
   },
   {
    "duration": 5730,
    "start_time": "2025-01-08T18:56:05.144Z"
   },
   {
    "duration": 162,
    "start_time": "2025-01-08T18:57:50.889Z"
   },
   {
    "duration": 4391,
    "start_time": "2025-01-08T18:58:04.927Z"
   },
   {
    "duration": 3796,
    "start_time": "2025-01-08T18:58:25.838Z"
   },
   {
    "duration": 4413,
    "start_time": "2025-01-08T18:58:58.692Z"
   },
   {
    "duration": 1510,
    "start_time": "2025-01-08T18:59:38.909Z"
   },
   {
    "duration": 306,
    "start_time": "2025-01-08T18:59:48.927Z"
   },
   {
    "duration": 87,
    "start_time": "2025-01-08T19:01:45.374Z"
   },
   {
    "duration": 120,
    "start_time": "2025-01-08T19:01:52.558Z"
   },
   {
    "duration": 104,
    "start_time": "2025-01-08T19:02:18.440Z"
   },
   {
    "duration": 77,
    "start_time": "2025-01-08T19:02:26.893Z"
   },
   {
    "duration": 100,
    "start_time": "2025-01-08T19:02:37.468Z"
   },
   {
    "duration": 257,
    "start_time": "2025-01-08T19:02:50.927Z"
   },
   {
    "duration": 327,
    "start_time": "2025-01-08T19:03:10.696Z"
   },
   {
    "duration": 105,
    "start_time": "2025-01-08T19:07:20.520Z"
   },
   {
    "duration": 263,
    "start_time": "2025-01-08T19:08:09.799Z"
   },
   {
    "duration": 132,
    "start_time": "2025-01-08T19:08:50.255Z"
   },
   {
    "duration": 108,
    "start_time": "2025-01-08T19:09:09.825Z"
   },
   {
    "duration": 102,
    "start_time": "2025-01-08T19:09:47.026Z"
   },
   {
    "duration": 1974,
    "start_time": "2025-01-08T19:09:58.298Z"
   },
   {
    "duration": 290,
    "start_time": "2025-01-08T19:10:21.459Z"
   },
   {
    "duration": 125,
    "start_time": "2025-01-08T19:11:03.947Z"
   },
   {
    "duration": 274,
    "start_time": "2025-01-08T19:14:21.605Z"
   },
   {
    "duration": 247,
    "start_time": "2025-01-08T19:15:57.859Z"
   },
   {
    "duration": 126,
    "start_time": "2025-01-08T19:16:23.002Z"
   },
   {
    "duration": 226,
    "start_time": "2025-01-08T19:16:48.590Z"
   },
   {
    "duration": 106,
    "start_time": "2025-01-08T19:17:29.467Z"
   },
   {
    "duration": 264,
    "start_time": "2025-01-08T19:19:31.421Z"
   },
   {
    "duration": 273,
    "start_time": "2025-01-08T19:20:27.948Z"
   },
   {
    "duration": 257,
    "start_time": "2025-01-08T19:20:35.342Z"
   },
   {
    "duration": 280,
    "start_time": "2025-01-08T19:20:47.313Z"
   },
   {
    "duration": 264,
    "start_time": "2025-01-08T19:21:21.191Z"
   },
   {
    "duration": 317,
    "start_time": "2025-01-08T19:21:28.020Z"
   },
   {
    "duration": 246,
    "start_time": "2025-01-08T19:21:34.143Z"
   },
   {
    "duration": 112,
    "start_time": "2025-01-08T19:21:50.317Z"
   },
   {
    "duration": 120,
    "start_time": "2025-01-08T19:22:06.059Z"
   },
   {
    "duration": 398,
    "start_time": "2025-01-08T19:22:22.427Z"
   },
   {
    "duration": 134,
    "start_time": "2025-01-08T19:22:55.360Z"
   },
   {
    "duration": 118,
    "start_time": "2025-01-08T19:23:07.866Z"
   },
   {
    "duration": 260,
    "start_time": "2025-01-08T19:23:24.442Z"
   },
   {
    "duration": 516,
    "start_time": "2025-01-08T19:25:25.706Z"
   },
   {
    "duration": 517,
    "start_time": "2025-01-08T19:25:35.704Z"
   },
   {
    "duration": 503,
    "start_time": "2025-01-08T19:26:57.999Z"
   },
   {
    "duration": 4111,
    "start_time": "2025-01-08T19:29:01.278Z"
   },
   {
    "duration": 4853,
    "start_time": "2025-01-08T19:29:27.207Z"
   },
   {
    "duration": 596,
    "start_time": "2025-01-08T19:30:47.773Z"
   },
   {
    "duration": 929,
    "start_time": "2025-01-08T19:32:17.449Z"
   },
   {
    "duration": 1794,
    "start_time": "2025-01-08T19:32:59.645Z"
   },
   {
    "duration": 1663,
    "start_time": "2025-01-08T19:33:28.749Z"
   },
   {
    "duration": 1626,
    "start_time": "2025-01-08T19:34:18.742Z"
   },
   {
    "duration": 782,
    "start_time": "2025-01-08T19:35:12.723Z"
   },
   {
    "duration": 1117,
    "start_time": "2025-01-08T19:43:54.652Z"
   },
   {
    "duration": 1137,
    "start_time": "2025-01-08T19:44:21.954Z"
   },
   {
    "duration": 1025,
    "start_time": "2025-01-08T19:45:23.458Z"
   },
   {
    "duration": 462,
    "start_time": "2025-01-08T19:46:35.660Z"
   },
   {
    "duration": 430,
    "start_time": "2025-01-08T19:46:56.513Z"
   },
   {
    "duration": 892,
    "start_time": "2025-01-08T19:47:51.987Z"
   },
   {
    "duration": 1692,
    "start_time": "2025-01-08T19:48:53.287Z"
   },
   {
    "duration": 827,
    "start_time": "2025-01-08T19:51:29.754Z"
   },
   {
    "duration": 547,
    "start_time": "2025-01-08T20:04:21.571Z"
   },
   {
    "duration": 470,
    "start_time": "2025-01-08T20:05:03.117Z"
   },
   {
    "duration": 1526,
    "start_time": "2025-01-08T20:08:28.923Z"
   },
   {
    "duration": 626,
    "start_time": "2025-01-08T20:49:14.244Z"
   },
   {
    "duration": 1459,
    "start_time": "2025-01-08T21:40:05.987Z"
   },
   {
    "duration": 899,
    "start_time": "2025-01-08T21:40:07.448Z"
   },
   {
    "duration": 189,
    "start_time": "2025-01-08T21:40:08.349Z"
   },
   {
    "duration": 5,
    "start_time": "2025-01-08T21:40:08.540Z"
   },
   {
    "duration": 136,
    "start_time": "2025-01-08T21:40:08.546Z"
   },
   {
    "duration": 504,
    "start_time": "2025-01-08T21:40:08.684Z"
   },
   {
    "duration": 951,
    "start_time": "2025-01-08T21:40:09.190Z"
   },
   {
    "duration": 1104,
    "start_time": "2025-01-08T21:40:10.144Z"
   },
   {
    "duration": 2809,
    "start_time": "2025-01-08T21:40:11.250Z"
   },
   {
    "duration": 460,
    "start_time": "2025-01-08T21:40:14.061Z"
   },
   {
    "duration": 382,
    "start_time": "2025-01-08T21:40:14.523Z"
   },
   {
    "duration": 105,
    "start_time": "2025-01-08T21:40:14.907Z"
   },
   {
    "duration": 34,
    "start_time": "2025-01-08T21:40:15.014Z"
   },
   {
    "duration": 46,
    "start_time": "2025-01-08T21:40:15.050Z"
   },
   {
    "duration": 147,
    "start_time": "2025-01-08T21:40:15.097Z"
   },
   {
    "duration": 18,
    "start_time": "2025-01-08T21:40:15.246Z"
   },
   {
    "duration": 12704,
    "start_time": "2025-01-08T21:40:15.265Z"
   },
   {
    "duration": 142,
    "start_time": "2025-01-08T21:40:27.971Z"
   },
   {
    "duration": 123,
    "start_time": "2025-01-08T21:40:28.115Z"
   },
   {
    "duration": 5,
    "start_time": "2025-01-08T21:40:28.243Z"
   },
   {
    "duration": 410,
    "start_time": "2025-01-08T21:40:28.250Z"
   },
   {
    "duration": 448,
    "start_time": "2025-01-08T21:40:28.662Z"
   },
   {
    "duration": 349,
    "start_time": "2025-01-08T21:40:29.112Z"
   },
   {
    "duration": 396,
    "start_time": "2025-01-08T21:40:29.463Z"
   },
   {
    "duration": 176,
    "start_time": "2025-01-08T21:40:29.861Z"
   },
   {
    "duration": 0,
    "start_time": "2025-01-08T21:40:30.039Z"
   },
   {
    "duration": 0,
    "start_time": "2025-01-08T21:40:30.040Z"
   },
   {
    "duration": 0,
    "start_time": "2025-01-08T21:40:30.041Z"
   },
   {
    "duration": 0,
    "start_time": "2025-01-08T21:40:30.043Z"
   },
   {
    "duration": 0,
    "start_time": "2025-01-08T21:40:30.044Z"
   },
   {
    "duration": 0,
    "start_time": "2025-01-08T21:40:30.045Z"
   },
   {
    "duration": 1527,
    "start_time": "2025-01-08T21:50:21.067Z"
   },
   {
    "duration": 904,
    "start_time": "2025-01-08T21:50:22.596Z"
   },
   {
    "duration": 179,
    "start_time": "2025-01-08T21:50:23.502Z"
   },
   {
    "duration": 4,
    "start_time": "2025-01-08T21:50:23.683Z"
   },
   {
    "duration": 15,
    "start_time": "2025-01-08T21:50:23.689Z"
   },
   {
    "duration": 533,
    "start_time": "2025-01-08T21:50:23.705Z"
   },
   {
    "duration": 980,
    "start_time": "2025-01-08T21:50:24.239Z"
   },
   {
    "duration": 1155,
    "start_time": "2025-01-08T21:50:25.220Z"
   },
   {
    "duration": 2764,
    "start_time": "2025-01-08T21:50:26.377Z"
   },
   {
    "duration": 465,
    "start_time": "2025-01-08T21:50:29.143Z"
   },
   {
    "duration": 367,
    "start_time": "2025-01-08T21:50:29.610Z"
   },
   {
    "duration": 110,
    "start_time": "2025-01-08T21:50:29.979Z"
   },
   {
    "duration": 42,
    "start_time": "2025-01-08T21:50:30.090Z"
   },
   {
    "duration": 100,
    "start_time": "2025-01-08T21:50:30.135Z"
   },
   {
    "duration": 121,
    "start_time": "2025-01-08T21:50:30.237Z"
   },
   {
    "duration": 20,
    "start_time": "2025-01-08T21:50:30.359Z"
   },
   {
    "duration": 12601,
    "start_time": "2025-01-08T21:50:30.380Z"
   },
   {
    "duration": 141,
    "start_time": "2025-01-08T21:50:42.983Z"
   },
   {
    "duration": 105,
    "start_time": "2025-01-08T21:50:43.125Z"
   },
   {
    "duration": 5,
    "start_time": "2025-01-08T21:50:43.231Z"
   },
   {
    "duration": 431,
    "start_time": "2025-01-08T21:50:43.237Z"
   },
   {
    "duration": 431,
    "start_time": "2025-01-08T21:50:43.670Z"
   },
   {
    "duration": 351,
    "start_time": "2025-01-08T21:50:44.103Z"
   },
   {
    "duration": 382,
    "start_time": "2025-01-08T21:50:44.456Z"
   },
   {
    "duration": 1096,
    "start_time": "2025-01-08T21:50:44.840Z"
   },
   {
    "duration": 894,
    "start_time": "2025-01-08T21:50:45.938Z"
   },
   {
    "duration": 435,
    "start_time": "2025-01-08T21:50:46.834Z"
   },
   {
    "duration": 907,
    "start_time": "2025-01-08T21:50:47.271Z"
   },
   {
    "duration": 1632,
    "start_time": "2025-01-08T21:50:48.179Z"
   },
   {
    "duration": 858,
    "start_time": "2025-01-08T21:50:49.812Z"
   },
   {
    "duration": 479,
    "start_time": "2025-01-08T21:50:50.671Z"
   },
   {
    "duration": 11,
    "start_time": "2025-01-08T22:27:09.063Z"
   },
   {
    "duration": 42,
    "start_time": "2025-01-08T22:31:53.246Z"
   },
   {
    "duration": 44,
    "start_time": "2025-01-08T22:34:09.331Z"
   },
   {
    "duration": 919,
    "start_time": "2025-01-08T22:39:33.023Z"
   },
   {
    "duration": 271,
    "start_time": "2025-01-08T22:46:45.380Z"
   },
   {
    "duration": 29,
    "start_time": "2025-01-08T22:47:14.044Z"
   },
   {
    "duration": 31,
    "start_time": "2025-01-08T22:48:12.283Z"
   },
   {
    "duration": 186,
    "start_time": "2025-01-08T22:48:25.253Z"
   },
   {
    "duration": 336,
    "start_time": "2025-01-08T22:53:13.779Z"
   },
   {
    "duration": 337,
    "start_time": "2025-01-08T22:55:47.225Z"
   },
   {
    "duration": 325,
    "start_time": "2025-01-08T22:56:11.406Z"
   },
   {
    "duration": 313,
    "start_time": "2025-01-08T22:56:25.579Z"
   },
   {
    "duration": 323,
    "start_time": "2025-01-08T22:59:08.684Z"
   },
   {
    "duration": 1631,
    "start_time": "2025-01-08T23:06:08.299Z"
   },
   {
    "duration": 961,
    "start_time": "2025-01-08T23:06:09.932Z"
   },
   {
    "duration": 1518,
    "start_time": "2025-01-08T23:11:33.489Z"
   },
   {
    "duration": 899,
    "start_time": "2025-01-08T23:11:35.009Z"
   },
   {
    "duration": 192,
    "start_time": "2025-01-08T23:11:35.909Z"
   },
   {
    "duration": 5,
    "start_time": "2025-01-08T23:11:36.102Z"
   },
   {
    "duration": 42,
    "start_time": "2025-01-08T23:11:36.108Z"
   },
   {
    "duration": 510,
    "start_time": "2025-01-08T23:11:36.151Z"
   },
   {
    "duration": 1001,
    "start_time": "2025-01-08T23:11:36.663Z"
   },
   {
    "duration": 1124,
    "start_time": "2025-01-08T23:11:37.665Z"
   },
   {
    "duration": 2728,
    "start_time": "2025-01-08T23:11:38.791Z"
   },
   {
    "duration": 470,
    "start_time": "2025-01-08T23:11:41.529Z"
   },
   {
    "duration": 375,
    "start_time": "2025-01-08T23:11:42.000Z"
   },
   {
    "duration": 110,
    "start_time": "2025-01-08T23:11:42.376Z"
   },
   {
    "duration": 43,
    "start_time": "2025-01-08T23:11:42.487Z"
   },
   {
    "duration": 14,
    "start_time": "2025-01-08T23:11:42.532Z"
   },
   {
    "duration": 142,
    "start_time": "2025-01-08T23:11:42.547Z"
   },
   {
    "duration": 19,
    "start_time": "2025-01-08T23:11:42.690Z"
   },
   {
    "duration": 12528,
    "start_time": "2025-01-08T23:11:42.711Z"
   },
   {
    "duration": 143,
    "start_time": "2025-01-08T23:11:55.241Z"
   },
   {
    "duration": 107,
    "start_time": "2025-01-08T23:11:55.386Z"
   },
   {
    "duration": 5,
    "start_time": "2025-01-08T23:11:55.495Z"
   },
   {
    "duration": 414,
    "start_time": "2025-01-08T23:11:55.502Z"
   },
   {
    "duration": 453,
    "start_time": "2025-01-08T23:11:55.918Z"
   },
   {
    "duration": 362,
    "start_time": "2025-01-08T23:11:56.373Z"
   },
   {
    "duration": 389,
    "start_time": "2025-01-08T23:11:56.736Z"
   },
   {
    "duration": 1066,
    "start_time": "2025-01-08T23:11:57.126Z"
   },
   {
    "duration": 848,
    "start_time": "2025-01-08T23:11:58.194Z"
   },
   {
    "duration": 452,
    "start_time": "2025-01-08T23:11:59.044Z"
   },
   {
    "duration": 913,
    "start_time": "2025-01-08T23:11:59.499Z"
   },
   {
    "duration": 1711,
    "start_time": "2025-01-08T23:12:00.413Z"
   },
   {
    "duration": 918,
    "start_time": "2025-01-08T23:12:02.126Z"
   },
   {
    "duration": 496,
    "start_time": "2025-01-08T23:12:03.045Z"
   },
   {
    "duration": 10,
    "start_time": "2025-01-08T23:12:03.542Z"
   },
   {
    "duration": 74,
    "start_time": "2025-01-08T23:12:03.554Z"
   },
   {
    "duration": 874,
    "start_time": "2025-01-08T23:12:03.629Z"
   },
   {
    "duration": 290,
    "start_time": "2025-01-08T23:12:04.505Z"
   },
   {
    "duration": 345,
    "start_time": "2025-01-08T23:12:04.796Z"
   },
   {
    "duration": 501876,
    "start_time": "2025-01-08T23:12:42.579Z"
   },
   {
    "duration": 5,
    "start_time": "2025-01-08T23:35:46.164Z"
   },
   {
    "duration": 5,
    "start_time": "2025-01-08T23:35:59.868Z"
   },
   {
    "duration": 112,
    "start_time": "2025-01-08T23:40:43.429Z"
   },
   {
    "duration": 3,
    "start_time": "2025-01-08T23:43:34.278Z"
   },
   {
    "duration": 4,
    "start_time": "2025-01-08T23:43:35.134Z"
   },
   {
    "duration": 4,
    "start_time": "2025-01-08T23:46:13.616Z"
   },
   {
    "duration": 2,
    "start_time": "2025-01-08T23:46:17.688Z"
   },
   {
    "duration": 5,
    "start_time": "2025-01-08T23:46:18.648Z"
   },
   {
    "duration": 10,
    "start_time": "2025-01-08T23:46:24.920Z"
   },
   {
    "duration": 14,
    "start_time": "2025-01-08T23:46:37.698Z"
   },
   {
    "duration": 5,
    "start_time": "2025-01-08T23:46:56.906Z"
   },
   {
    "duration": 14,
    "start_time": "2025-01-08T23:47:04.371Z"
   },
   {
    "duration": 5,
    "start_time": "2025-01-08T23:47:26.468Z"
   },
   {
    "duration": 2,
    "start_time": "2025-01-08T23:47:29.420Z"
   },
   {
    "duration": 3,
    "start_time": "2025-01-08T23:47:30.197Z"
   },
   {
    "duration": 22842,
    "start_time": "2025-01-08T23:47:32.573Z"
   },
   {
    "duration": 6,
    "start_time": "2025-01-08T23:49:36.219Z"
   },
   {
    "duration": 3,
    "start_time": "2025-01-08T23:49:57.364Z"
   },
   {
    "duration": 4,
    "start_time": "2025-01-08T23:50:22.735Z"
   },
   {
    "duration": 23926,
    "start_time": "2025-01-08T23:50:30.631Z"
   },
   {
    "duration": 30751,
    "start_time": "2025-01-08T23:51:34.786Z"
   },
   {
    "duration": 4,
    "start_time": "2025-01-08T23:52:27.510Z"
   },
   {
    "duration": 29468,
    "start_time": "2025-01-08T23:55:40.762Z"
   },
   {
    "duration": 4,
    "start_time": "2025-01-08T23:56:21.389Z"
   },
   {
    "duration": 3,
    "start_time": "2025-01-08T23:56:35.510Z"
   },
   {
    "duration": 24035,
    "start_time": "2025-01-08T23:56:49.510Z"
   },
   {
    "duration": 24502,
    "start_time": "2025-01-08T23:57:19.929Z"
   },
   {
    "duration": 3,
    "start_time": "2025-01-08T23:57:48.019Z"
   },
   {
    "duration": 4,
    "start_time": "2025-01-08T23:59:13.992Z"
   },
   {
    "duration": 3,
    "start_time": "2025-01-08T23:59:22.384Z"
   },
   {
    "duration": 3,
    "start_time": "2025-01-08T23:59:25.689Z"
   },
   {
    "duration": 3,
    "start_time": "2025-01-08T23:59:40.825Z"
   },
   {
    "duration": 397,
    "start_time": "2025-01-09T00:19:16.041Z"
   },
   {
    "duration": 2706,
    "start_time": "2025-01-09T00:23:16.833Z"
   },
   {
    "duration": 106376,
    "start_time": "2025-01-09T00:28:01.673Z"
   },
   {
    "duration": 13211,
    "start_time": "2025-01-09T00:30:04.522Z"
   },
   {
    "duration": 128,
    "start_time": "2025-01-09T00:30:49.253Z"
   },
   {
    "duration": 88,
    "start_time": "2025-01-09T00:30:53.916Z"
   },
   {
    "duration": 98,
    "start_time": "2025-01-09T00:32:16.674Z"
   },
   {
    "duration": 86,
    "start_time": "2025-01-09T00:32:27.882Z"
   },
   {
    "duration": 14672,
    "start_time": "2025-01-09T00:33:06.461Z"
   },
   {
    "duration": 267719,
    "start_time": "2025-01-09T00:33:39.615Z"
   },
   {
    "duration": 2539,
    "start_time": "2025-01-09T00:39:14.307Z"
   },
   {
    "duration": 267133,
    "start_time": "2025-01-09T00:39:21.804Z"
   },
   {
    "duration": 3665,
    "start_time": "2025-01-09T00:44:02.269Z"
   },
   {
    "duration": 4,
    "start_time": "2025-01-09T00:44:33.127Z"
   },
   {
    "duration": 33427,
    "start_time": "2025-01-09T00:48:49.423Z"
   },
   {
    "duration": 328185,
    "start_time": "2025-01-09T00:51:56.618Z"
   },
   {
    "duration": 5418,
    "start_time": "2025-01-09T01:13:14.312Z"
   },
   {
    "duration": 40,
    "start_time": "2025-01-09T01:13:22.642Z"
   },
   {
    "duration": 10,
    "start_time": "2025-01-09T01:13:41.626Z"
   },
   {
    "duration": 7197,
    "start_time": "2025-01-09T01:13:54.603Z"
   },
   {
    "duration": 3,
    "start_time": "2025-01-09T01:14:08.852Z"
   },
   {
    "duration": 4,
    "start_time": "2025-01-09T01:14:40.085Z"
   },
   {
    "duration": 3,
    "start_time": "2025-01-09T01:15:26.576Z"
   },
   {
    "duration": 4,
    "start_time": "2025-01-09T01:15:31.544Z"
   },
   {
    "duration": 92,
    "start_time": "2025-01-09T01:24:35.339Z"
   },
   {
    "duration": 97,
    "start_time": "2025-01-09T01:24:54.860Z"
   },
   {
    "duration": 1456,
    "start_time": "2025-01-09T01:32:42.917Z"
   },
   {
    "duration": 880,
    "start_time": "2025-01-09T01:32:44.375Z"
   },
   {
    "duration": 179,
    "start_time": "2025-01-09T01:32:45.257Z"
   },
   {
    "duration": 5,
    "start_time": "2025-01-09T01:32:45.437Z"
   },
   {
    "duration": 31,
    "start_time": "2025-01-09T01:32:45.443Z"
   },
   {
    "duration": 499,
    "start_time": "2025-01-09T01:32:45.475Z"
   },
   {
    "duration": 954,
    "start_time": "2025-01-09T01:32:45.976Z"
   },
   {
    "duration": 1084,
    "start_time": "2025-01-09T01:32:46.932Z"
   },
   {
    "duration": 2673,
    "start_time": "2025-01-09T01:32:48.017Z"
   },
   {
    "duration": 456,
    "start_time": "2025-01-09T01:32:50.691Z"
   },
   {
    "duration": 372,
    "start_time": "2025-01-09T01:32:51.149Z"
   },
   {
    "duration": 113,
    "start_time": "2025-01-09T01:32:51.523Z"
   },
   {
    "duration": 33,
    "start_time": "2025-01-09T01:32:51.638Z"
   },
   {
    "duration": 12,
    "start_time": "2025-01-09T01:32:51.674Z"
   },
   {
    "duration": 122,
    "start_time": "2025-01-09T01:32:51.688Z"
   },
   {
    "duration": 27,
    "start_time": "2025-01-09T01:32:51.811Z"
   },
   {
    "duration": 12219,
    "start_time": "2025-01-09T01:32:51.840Z"
   },
   {
    "duration": 149,
    "start_time": "2025-01-09T01:33:04.060Z"
   },
   {
    "duration": 95,
    "start_time": "2025-01-09T01:33:04.211Z"
   },
   {
    "duration": 24,
    "start_time": "2025-01-09T01:33:04.308Z"
   },
   {
    "duration": 367,
    "start_time": "2025-01-09T01:33:04.334Z"
   },
   {
    "duration": 423,
    "start_time": "2025-01-09T01:33:04.702Z"
   },
   {
    "duration": 324,
    "start_time": "2025-01-09T01:33:05.129Z"
   },
   {
    "duration": 377,
    "start_time": "2025-01-09T01:33:05.455Z"
   },
   {
    "duration": 1096,
    "start_time": "2025-01-09T01:33:05.834Z"
   },
   {
    "duration": 834,
    "start_time": "2025-01-09T01:33:06.932Z"
   },
   {
    "duration": 435,
    "start_time": "2025-01-09T01:33:07.768Z"
   },
   {
    "duration": 882,
    "start_time": "2025-01-09T01:33:08.205Z"
   },
   {
    "duration": 1631,
    "start_time": "2025-01-09T01:33:09.088Z"
   },
   {
    "duration": 841,
    "start_time": "2025-01-09T01:33:10.720Z"
   },
   {
    "duration": 483,
    "start_time": "2025-01-09T01:33:11.562Z"
   },
   {
    "duration": 15,
    "start_time": "2025-01-09T01:33:12.047Z"
   },
   {
    "duration": 58,
    "start_time": "2025-01-09T01:33:12.063Z"
   },
   {
    "duration": 961,
    "start_time": "2025-01-09T01:33:12.122Z"
   },
   {
    "duration": 282,
    "start_time": "2025-01-09T01:33:13.084Z"
   },
   {
    "duration": 337,
    "start_time": "2025-01-09T01:33:13.367Z"
   },
   {
    "duration": 3,
    "start_time": "2025-01-09T01:33:13.706Z"
   },
   {
    "duration": 117,
    "start_time": "2025-01-09T01:33:13.710Z"
   },
   {
    "duration": 33,
    "start_time": "2025-01-09T01:33:13.829Z"
   },
   {
    "duration": 12,
    "start_time": "2025-01-09T01:33:13.864Z"
   },
   {
    "duration": 479298,
    "start_time": "2025-01-09T01:33:13.879Z"
   },
   {
    "duration": 23082,
    "start_time": "2025-01-09T01:41:13.178Z"
   },
   {
    "duration": 24169,
    "start_time": "2025-01-09T01:41:36.261Z"
   },
   {
    "duration": 4,
    "start_time": "2025-01-09T01:42:00.433Z"
   },
   {
    "duration": 480,
    "start_time": "2025-01-09T01:42:00.439Z"
   },
   {
    "duration": 2564,
    "start_time": "2025-01-09T01:42:00.921Z"
   },
   {
    "duration": 264043,
    "start_time": "2025-01-09T01:42:03.487Z"
   },
   {
    "duration": 3608,
    "start_time": "2025-01-09T01:46:27.532Z"
   },
   {
    "duration": 329701,
    "start_time": "2025-01-09T01:46:31.142Z"
   },
   {
    "duration": 7047,
    "start_time": "2025-01-09T01:52:00.845Z"
   },
   {
    "duration": 3,
    "start_time": "2025-01-09T01:52:07.894Z"
   },
   {
    "duration": 66,
    "start_time": "2025-01-09T07:56:06.062Z"
   },
   {
    "duration": 64,
    "start_time": "2025-01-09T07:56:07.564Z"
   },
   {
    "duration": 76,
    "start_time": "2025-01-09T07:56:09.224Z"
   },
   {
    "duration": 1682,
    "start_time": "2025-01-09T18:45:16.941Z"
   },
   {
    "duration": 2915,
    "start_time": "2025-01-09T18:45:18.625Z"
   },
   {
    "duration": 172,
    "start_time": "2025-01-09T18:45:21.542Z"
   },
   {
    "duration": 5,
    "start_time": "2025-01-09T18:45:21.716Z"
   },
   {
    "duration": 29,
    "start_time": "2025-01-09T18:45:21.723Z"
   },
   {
    "duration": 482,
    "start_time": "2025-01-09T18:45:21.754Z"
   },
   {
    "duration": 975,
    "start_time": "2025-01-09T18:45:22.238Z"
   },
   {
    "duration": 1098,
    "start_time": "2025-01-09T18:45:23.215Z"
   },
   {
    "duration": 2472,
    "start_time": "2025-01-09T18:45:24.315Z"
   },
   {
    "duration": 456,
    "start_time": "2025-01-09T18:45:26.789Z"
   },
   {
    "duration": 357,
    "start_time": "2025-01-09T18:45:27.247Z"
   },
   {
    "duration": 104,
    "start_time": "2025-01-09T18:45:27.605Z"
   },
   {
    "duration": 34,
    "start_time": "2025-01-09T18:45:27.711Z"
   },
   {
    "duration": 21,
    "start_time": "2025-01-09T18:45:27.749Z"
   },
   {
    "duration": 144,
    "start_time": "2025-01-09T18:45:27.772Z"
   },
   {
    "duration": 17,
    "start_time": "2025-01-09T18:45:27.917Z"
   },
   {
    "duration": 12885,
    "start_time": "2025-01-09T18:45:27.935Z"
   },
   {
    "duration": 135,
    "start_time": "2025-01-09T18:45:40.822Z"
   },
   {
    "duration": 111,
    "start_time": "2025-01-09T18:45:40.959Z"
   },
   {
    "duration": 5,
    "start_time": "2025-01-09T18:45:41.072Z"
   },
   {
    "duration": 407,
    "start_time": "2025-01-09T18:45:41.079Z"
   },
   {
    "duration": 428,
    "start_time": "2025-01-09T18:45:41.488Z"
   },
   {
    "duration": 347,
    "start_time": "2025-01-09T18:45:41.918Z"
   },
   {
    "duration": 406,
    "start_time": "2025-01-09T18:45:42.270Z"
   },
   {
    "duration": 1019,
    "start_time": "2025-01-09T18:45:42.678Z"
   },
   {
    "duration": 1019,
    "start_time": "2025-01-09T18:45:43.699Z"
   },
   {
    "duration": 450,
    "start_time": "2025-01-09T18:45:44.720Z"
   },
   {
    "duration": 870,
    "start_time": "2025-01-09T18:45:45.172Z"
   },
   {
    "duration": 1503,
    "start_time": "2025-01-09T18:45:46.044Z"
   },
   {
    "duration": 831,
    "start_time": "2025-01-09T18:45:47.549Z"
   },
   {
    "duration": 548,
    "start_time": "2025-01-09T18:45:48.382Z"
   },
   {
    "duration": 11,
    "start_time": "2025-01-09T18:45:48.932Z"
   },
   {
    "duration": 52,
    "start_time": "2025-01-09T18:45:48.944Z"
   },
   {
    "duration": 798,
    "start_time": "2025-01-09T18:45:48.997Z"
   },
   {
    "duration": 268,
    "start_time": "2025-01-09T18:45:49.796Z"
   },
   {
    "duration": 129,
    "start_time": "2025-01-09T18:45:50.065Z"
   },
   {
    "duration": 462,
    "start_time": "2025-01-09T18:46:51.461Z"
   },
   {
    "duration": 434,
    "start_time": "2025-01-09T18:49:47.480Z"
   },
   {
    "duration": 455,
    "start_time": "2025-01-09T18:51:57.984Z"
   },
   {
    "duration": 1506,
    "start_time": "2025-01-09T19:25:32.169Z"
   },
   {
    "duration": 922,
    "start_time": "2025-01-09T19:25:33.677Z"
   },
   {
    "duration": 185,
    "start_time": "2025-01-09T19:25:34.600Z"
   },
   {
    "duration": 4,
    "start_time": "2025-01-09T19:25:34.787Z"
   },
   {
    "duration": 27,
    "start_time": "2025-01-09T19:25:34.793Z"
   },
   {
    "duration": 500,
    "start_time": "2025-01-09T19:25:34.821Z"
   },
   {
    "duration": 1039,
    "start_time": "2025-01-09T19:25:35.322Z"
   },
   {
    "duration": 1209,
    "start_time": "2025-01-09T19:25:36.363Z"
   },
   {
    "duration": 2757,
    "start_time": "2025-01-09T19:25:37.573Z"
   },
   {
    "duration": 478,
    "start_time": "2025-01-09T19:25:40.332Z"
   },
   {
    "duration": 380,
    "start_time": "2025-01-09T19:25:40.812Z"
   },
   {
    "duration": 124,
    "start_time": "2025-01-09T19:25:41.193Z"
   },
   {
    "duration": 36,
    "start_time": "2025-01-09T19:25:41.319Z"
   },
   {
    "duration": 15,
    "start_time": "2025-01-09T19:25:41.372Z"
   },
   {
    "duration": 141,
    "start_time": "2025-01-09T19:25:41.389Z"
   },
   {
    "duration": 18,
    "start_time": "2025-01-09T19:25:41.533Z"
   },
   {
    "duration": 13445,
    "start_time": "2025-01-09T19:25:41.552Z"
   },
   {
    "duration": 130,
    "start_time": "2025-01-09T19:25:54.999Z"
   },
   {
    "duration": 103,
    "start_time": "2025-01-09T19:25:55.131Z"
   },
   {
    "duration": 8,
    "start_time": "2025-01-09T19:25:55.236Z"
   },
   {
    "duration": 401,
    "start_time": "2025-01-09T19:25:55.245Z"
   },
   {
    "duration": 483,
    "start_time": "2025-01-09T19:25:55.648Z"
   },
   {
    "duration": 346,
    "start_time": "2025-01-09T19:25:56.132Z"
   },
   {
    "duration": 427,
    "start_time": "2025-01-09T19:25:56.482Z"
   },
   {
    "duration": 969,
    "start_time": "2025-01-09T19:25:56.911Z"
   },
   {
    "duration": 838,
    "start_time": "2025-01-09T19:25:57.882Z"
   },
   {
    "duration": 469,
    "start_time": "2025-01-09T19:25:58.721Z"
   },
   {
    "duration": 917,
    "start_time": "2025-01-09T19:25:59.192Z"
   },
   {
    "duration": 1600,
    "start_time": "2025-01-09T19:26:00.111Z"
   },
   {
    "duration": 928,
    "start_time": "2025-01-09T19:26:01.714Z"
   },
   {
    "duration": 474,
    "start_time": "2025-01-09T19:26:02.644Z"
   },
   {
    "duration": 11,
    "start_time": "2025-01-09T19:26:03.120Z"
   },
   {
    "duration": 59,
    "start_time": "2025-01-09T19:26:03.133Z"
   },
   {
    "duration": 878,
    "start_time": "2025-01-09T19:26:03.193Z"
   },
   {
    "duration": 146,
    "start_time": "2025-01-09T19:26:04.073Z"
   },
   {
    "duration": 0,
    "start_time": "2025-01-09T19:26:04.221Z"
   },
   {
    "duration": 0,
    "start_time": "2025-01-09T19:26:04.222Z"
   },
   {
    "duration": 0,
    "start_time": "2025-01-09T19:26:04.223Z"
   },
   {
    "duration": 0,
    "start_time": "2025-01-09T19:26:04.224Z"
   },
   {
    "duration": 0,
    "start_time": "2025-01-09T19:26:04.225Z"
   },
   {
    "duration": 0,
    "start_time": "2025-01-09T19:26:04.226Z"
   },
   {
    "duration": 563,
    "start_time": "2025-01-09T19:27:24.263Z"
   },
   {
    "duration": 265,
    "start_time": "2025-01-09T19:27:32.119Z"
   },
   {
    "duration": 155,
    "start_time": "2025-01-09T19:27:33.551Z"
   },
   {
    "duration": 5,
    "start_time": "2025-01-09T19:27:39.112Z"
   },
   {
    "duration": 5,
    "start_time": "2025-01-09T19:27:40.560Z"
   },
   {
    "duration": 3,
    "start_time": "2025-01-09T19:27:42.103Z"
   },
   {
    "duration": 4,
    "start_time": "2025-01-09T19:27:43.032Z"
   },
   {
    "duration": 184,
    "start_time": "2025-01-09T19:27:46.448Z"
   },
   {
    "duration": 11767,
    "start_time": "2025-01-09T19:40:56.360Z"
   },
   {
    "duration": 1465,
    "start_time": "2025-01-09T19:44:23.294Z"
   },
   {
    "duration": 901,
    "start_time": "2025-01-09T19:44:24.761Z"
   },
   {
    "duration": 219,
    "start_time": "2025-01-09T19:44:25.664Z"
   },
   {
    "duration": 5,
    "start_time": "2025-01-09T19:44:25.884Z"
   },
   {
    "duration": 119,
    "start_time": "2025-01-09T19:44:25.891Z"
   },
   {
    "duration": 492,
    "start_time": "2025-01-09T19:44:26.012Z"
   },
   {
    "duration": 1041,
    "start_time": "2025-01-09T19:44:26.505Z"
   },
   {
    "duration": 1128,
    "start_time": "2025-01-09T19:44:27.547Z"
   },
   {
    "duration": 2660,
    "start_time": "2025-01-09T19:44:28.677Z"
   },
   {
    "duration": 479,
    "start_time": "2025-01-09T19:44:31.338Z"
   },
   {
    "duration": 373,
    "start_time": "2025-01-09T19:44:31.818Z"
   },
   {
    "duration": 112,
    "start_time": "2025-01-09T19:44:32.194Z"
   },
   {
    "duration": 36,
    "start_time": "2025-01-09T19:44:32.307Z"
   },
   {
    "duration": 103,
    "start_time": "2025-01-09T19:44:32.346Z"
   },
   {
    "duration": 140,
    "start_time": "2025-01-09T19:44:32.450Z"
   },
   {
    "duration": 17,
    "start_time": "2025-01-09T19:44:32.592Z"
   },
   {
    "duration": 13000,
    "start_time": "2025-01-09T19:44:32.610Z"
   },
   {
    "duration": 146,
    "start_time": "2025-01-09T19:44:45.611Z"
   },
   {
    "duration": 133,
    "start_time": "2025-01-09T19:44:45.759Z"
   },
   {
    "duration": 90,
    "start_time": "2025-01-09T19:44:45.894Z"
   },
   {
    "duration": 401,
    "start_time": "2025-01-09T19:44:45.986Z"
   },
   {
    "duration": 456,
    "start_time": "2025-01-09T19:44:46.389Z"
   },
   {
    "duration": 335,
    "start_time": "2025-01-09T19:44:46.847Z"
   },
   {
    "duration": 391,
    "start_time": "2025-01-09T19:44:47.184Z"
   },
   {
    "duration": 1021,
    "start_time": "2025-01-09T19:44:47.576Z"
   },
   {
    "duration": 848,
    "start_time": "2025-01-09T19:44:48.598Z"
   },
   {
    "duration": 466,
    "start_time": "2025-01-09T19:44:49.448Z"
   },
   {
    "duration": 839,
    "start_time": "2025-01-09T19:44:49.916Z"
   },
   {
    "duration": 1527,
    "start_time": "2025-01-09T19:44:50.756Z"
   },
   {
    "duration": 867,
    "start_time": "2025-01-09T19:44:52.285Z"
   },
   {
    "duration": 484,
    "start_time": "2025-01-09T19:44:53.153Z"
   },
   {
    "duration": 11,
    "start_time": "2025-01-09T19:44:53.639Z"
   },
   {
    "duration": 54,
    "start_time": "2025-01-09T19:44:53.652Z"
   },
   {
    "duration": 833,
    "start_time": "2025-01-09T19:44:53.708Z"
   },
   {
    "duration": 555,
    "start_time": "2025-01-09T19:44:54.544Z"
   },
   {
    "duration": 280,
    "start_time": "2025-01-09T19:44:55.102Z"
   },
   {
    "duration": 154,
    "start_time": "2025-01-09T19:44:55.384Z"
   },
   {
    "duration": 3,
    "start_time": "2025-01-09T19:44:55.541Z"
   },
   {
    "duration": 5,
    "start_time": "2025-01-09T19:44:55.546Z"
   },
   {
    "duration": 18,
    "start_time": "2025-01-09T19:44:55.553Z"
   },
   {
    "duration": 15,
    "start_time": "2025-01-09T19:44:55.576Z"
   },
   {
    "duration": 12014,
    "start_time": "2025-01-09T19:45:02.575Z"
   },
   {
    "duration": 1410,
    "start_time": "2025-01-09T19:54:11.908Z"
   },
   {
    "duration": 915,
    "start_time": "2025-01-09T19:54:13.321Z"
   },
   {
    "duration": 188,
    "start_time": "2025-01-09T19:54:14.238Z"
   },
   {
    "duration": 4,
    "start_time": "2025-01-09T19:54:14.428Z"
   },
   {
    "duration": 36,
    "start_time": "2025-01-09T19:54:14.434Z"
   },
   {
    "duration": 516,
    "start_time": "2025-01-09T19:54:14.472Z"
   },
   {
    "duration": 1082,
    "start_time": "2025-01-09T19:54:14.990Z"
   },
   {
    "duration": 1154,
    "start_time": "2025-01-09T19:54:16.074Z"
   },
   {
    "duration": 2605,
    "start_time": "2025-01-09T19:54:17.230Z"
   },
   {
    "duration": 475,
    "start_time": "2025-01-09T19:54:19.838Z"
   },
   {
    "duration": 371,
    "start_time": "2025-01-09T19:54:20.315Z"
   },
   {
    "duration": 116,
    "start_time": "2025-01-09T19:54:20.688Z"
   },
   {
    "duration": 37,
    "start_time": "2025-01-09T19:54:20.806Z"
   },
   {
    "duration": 26,
    "start_time": "2025-01-09T19:54:20.845Z"
   },
   {
    "duration": 130,
    "start_time": "2025-01-09T19:54:20.873Z"
   },
   {
    "duration": 17,
    "start_time": "2025-01-09T19:54:21.004Z"
   },
   {
    "duration": 12988,
    "start_time": "2025-01-09T19:54:21.022Z"
   },
   {
    "duration": 144,
    "start_time": "2025-01-09T19:54:34.012Z"
   },
   {
    "duration": 120,
    "start_time": "2025-01-09T19:54:34.158Z"
   },
   {
    "duration": 4,
    "start_time": "2025-01-09T19:54:34.279Z"
   },
   {
    "duration": 403,
    "start_time": "2025-01-09T19:54:34.285Z"
   },
   {
    "duration": 438,
    "start_time": "2025-01-09T19:54:34.689Z"
   },
   {
    "duration": 349,
    "start_time": "2025-01-09T19:54:35.129Z"
   },
   {
    "duration": 428,
    "start_time": "2025-01-09T19:54:35.479Z"
   },
   {
    "duration": 1076,
    "start_time": "2025-01-09T19:54:35.908Z"
   },
   {
    "duration": 828,
    "start_time": "2025-01-09T19:54:36.985Z"
   },
   {
    "duration": 447,
    "start_time": "2025-01-09T19:54:37.815Z"
   },
   {
    "duration": 839,
    "start_time": "2025-01-09T19:54:38.272Z"
   },
   {
    "duration": 1527,
    "start_time": "2025-01-09T19:54:39.112Z"
   },
   {
    "duration": 872,
    "start_time": "2025-01-09T19:54:40.641Z"
   },
   {
    "duration": 478,
    "start_time": "2025-01-09T19:54:41.515Z"
   },
   {
    "duration": 12,
    "start_time": "2025-01-09T19:54:41.995Z"
   },
   {
    "duration": 99,
    "start_time": "2025-01-09T19:54:42.009Z"
   },
   {
    "duration": 14,
    "start_time": "2025-01-09T19:54:42.110Z"
   },
   {
    "duration": 137,
    "start_time": "2025-01-09T19:54:42.126Z"
   },
   {
    "duration": 0,
    "start_time": "2025-01-09T19:54:42.265Z"
   },
   {
    "duration": 0,
    "start_time": "2025-01-09T19:54:42.266Z"
   },
   {
    "duration": 0,
    "start_time": "2025-01-09T19:54:42.267Z"
   },
   {
    "duration": 0,
    "start_time": "2025-01-09T19:54:42.268Z"
   },
   {
    "duration": 0,
    "start_time": "2025-01-09T19:54:42.269Z"
   },
   {
    "duration": 0,
    "start_time": "2025-01-09T19:54:42.271Z"
   },
   {
    "duration": 0,
    "start_time": "2025-01-09T19:54:42.272Z"
   },
   {
    "duration": 12,
    "start_time": "2025-01-09T19:55:42.511Z"
   },
   {
    "duration": 4,
    "start_time": "2025-01-09T19:56:00.177Z"
   },
   {
    "duration": 277,
    "start_time": "2025-01-09T19:56:01.912Z"
   },
   {
    "duration": 148,
    "start_time": "2025-01-09T19:56:04.528Z"
   },
   {
    "duration": 11,
    "start_time": "2025-01-09T19:56:08.096Z"
   },
   {
    "duration": 12,
    "start_time": "2025-01-09T19:57:02.971Z"
   },
   {
    "duration": 289,
    "start_time": "2025-01-09T19:57:10.604Z"
   },
   {
    "duration": 276,
    "start_time": "2025-01-09T19:59:28.716Z"
   },
   {
    "duration": 887,
    "start_time": "2025-01-09T20:03:52.828Z"
   },
   {
    "duration": 930,
    "start_time": "2025-01-09T20:04:18.493Z"
   },
   {
    "duration": 914,
    "start_time": "2025-01-09T20:06:11.101Z"
   },
   {
    "duration": 901,
    "start_time": "2025-01-09T20:10:32.197Z"
   },
   {
    "duration": 4173,
    "start_time": "2025-01-09T20:10:37.261Z"
   },
   {
    "duration": 1524,
    "start_time": "2025-01-09T20:11:08.007Z"
   },
   {
    "duration": 918,
    "start_time": "2025-01-09T20:11:09.533Z"
   },
   {
    "duration": 185,
    "start_time": "2025-01-09T20:11:10.453Z"
   },
   {
    "duration": 4,
    "start_time": "2025-01-09T20:11:10.640Z"
   },
   {
    "duration": 74,
    "start_time": "2025-01-09T20:11:10.646Z"
   },
   {
    "duration": 511,
    "start_time": "2025-01-09T20:11:10.722Z"
   },
   {
    "duration": 1104,
    "start_time": "2025-01-09T20:11:11.235Z"
   },
   {
    "duration": 1155,
    "start_time": "2025-01-09T20:11:12.341Z"
   },
   {
    "duration": 2751,
    "start_time": "2025-01-09T20:11:13.497Z"
   },
   {
    "duration": 492,
    "start_time": "2025-01-09T20:11:16.251Z"
   },
   {
    "duration": 379,
    "start_time": "2025-01-09T20:11:16.744Z"
   },
   {
    "duration": 111,
    "start_time": "2025-01-09T20:11:17.125Z"
   },
   {
    "duration": 44,
    "start_time": "2025-01-09T20:11:17.238Z"
   },
   {
    "duration": 32,
    "start_time": "2025-01-09T20:11:17.284Z"
   },
   {
    "duration": 125,
    "start_time": "2025-01-09T20:11:17.318Z"
   },
   {
    "duration": 17,
    "start_time": "2025-01-09T20:11:17.445Z"
   },
   {
    "duration": 12930,
    "start_time": "2025-01-09T20:11:17.470Z"
   },
   {
    "duration": 132,
    "start_time": "2025-01-09T20:11:30.402Z"
   },
   {
    "duration": 106,
    "start_time": "2025-01-09T20:11:30.535Z"
   },
   {
    "duration": 26,
    "start_time": "2025-01-09T20:11:30.642Z"
   },
   {
    "duration": 397,
    "start_time": "2025-01-09T20:11:30.669Z"
   },
   {
    "duration": 438,
    "start_time": "2025-01-09T20:11:31.070Z"
   },
   {
    "duration": 354,
    "start_time": "2025-01-09T20:11:31.509Z"
   },
   {
    "duration": 406,
    "start_time": "2025-01-09T20:11:31.864Z"
   },
   {
    "duration": 1061,
    "start_time": "2025-01-09T20:11:32.272Z"
   },
   {
    "duration": 877,
    "start_time": "2025-01-09T20:11:33.334Z"
   },
   {
    "duration": 459,
    "start_time": "2025-01-09T20:11:34.213Z"
   },
   {
    "duration": 875,
    "start_time": "2025-01-09T20:11:34.677Z"
   },
   {
    "duration": 1670,
    "start_time": "2025-01-09T20:11:35.554Z"
   },
   {
    "duration": 885,
    "start_time": "2025-01-09T20:11:37.226Z"
   },
   {
    "duration": 504,
    "start_time": "2025-01-09T20:11:38.113Z"
   },
   {
    "duration": 11,
    "start_time": "2025-01-09T20:11:38.619Z"
   },
   {
    "duration": 78,
    "start_time": "2025-01-09T20:11:38.631Z"
   },
   {
    "duration": 5,
    "start_time": "2025-01-09T20:11:38.710Z"
   },
   {
    "duration": 13,
    "start_time": "2025-01-09T20:11:38.716Z"
   },
   {
    "duration": 273,
    "start_time": "2025-01-09T20:11:38.730Z"
   },
   {
    "duration": 154,
    "start_time": "2025-01-09T20:11:39.005Z"
   },
   {
    "duration": 4357,
    "start_time": "2025-01-09T20:11:43.153Z"
   },
   {
    "duration": 1469,
    "start_time": "2025-01-09T20:16:49.347Z"
   },
   {
    "duration": 898,
    "start_time": "2025-01-09T20:16:50.818Z"
   },
   {
    "duration": 184,
    "start_time": "2025-01-09T20:16:51.718Z"
   },
   {
    "duration": 5,
    "start_time": "2025-01-09T20:16:51.904Z"
   },
   {
    "duration": 14,
    "start_time": "2025-01-09T20:16:51.910Z"
   },
   {
    "duration": 508,
    "start_time": "2025-01-09T20:16:51.925Z"
   },
   {
    "duration": 1027,
    "start_time": "2025-01-09T20:16:52.435Z"
   },
   {
    "duration": 1177,
    "start_time": "2025-01-09T20:16:53.463Z"
   },
   {
    "duration": 2742,
    "start_time": "2025-01-09T20:16:54.642Z"
   },
   {
    "duration": 491,
    "start_time": "2025-01-09T20:16:57.387Z"
   },
   {
    "duration": 374,
    "start_time": "2025-01-09T20:16:57.880Z"
   },
   {
    "duration": 115,
    "start_time": "2025-01-09T20:16:58.255Z"
   },
   {
    "duration": 39,
    "start_time": "2025-01-09T20:16:58.372Z"
   },
   {
    "duration": 12,
    "start_time": "2025-01-09T20:16:58.413Z"
   },
   {
    "duration": 147,
    "start_time": "2025-01-09T20:16:58.427Z"
   },
   {
    "duration": 18,
    "start_time": "2025-01-09T20:16:58.576Z"
   },
   {
    "duration": 13051,
    "start_time": "2025-01-09T20:16:58.596Z"
   },
   {
    "duration": 144,
    "start_time": "2025-01-09T20:17:11.649Z"
   },
   {
    "duration": 106,
    "start_time": "2025-01-09T20:17:11.794Z"
   },
   {
    "duration": 4,
    "start_time": "2025-01-09T20:17:11.902Z"
   },
   {
    "duration": 407,
    "start_time": "2025-01-09T20:17:11.908Z"
   },
   {
    "duration": 416,
    "start_time": "2025-01-09T20:17:12.316Z"
   },
   {
    "duration": 343,
    "start_time": "2025-01-09T20:17:12.734Z"
   },
   {
    "duration": 400,
    "start_time": "2025-01-09T20:17:13.078Z"
   },
   {
    "duration": 1054,
    "start_time": "2025-01-09T20:17:13.479Z"
   },
   {
    "duration": 896,
    "start_time": "2025-01-09T20:17:14.534Z"
   },
   {
    "duration": 506,
    "start_time": "2025-01-09T20:17:15.432Z"
   },
   {
    "duration": 931,
    "start_time": "2025-01-09T20:17:15.941Z"
   },
   {
    "duration": 1665,
    "start_time": "2025-01-09T20:17:16.874Z"
   },
   {
    "duration": 861,
    "start_time": "2025-01-09T20:17:18.541Z"
   },
   {
    "duration": 491,
    "start_time": "2025-01-09T20:17:19.403Z"
   },
   {
    "duration": 12,
    "start_time": "2025-01-09T20:17:19.896Z"
   },
   {
    "duration": 46,
    "start_time": "2025-01-09T20:17:19.910Z"
   },
   {
    "duration": 118,
    "start_time": "2025-01-09T20:17:19.969Z"
   },
   {
    "duration": 0,
    "start_time": "2025-01-09T20:17:20.089Z"
   },
   {
    "duration": 1,
    "start_time": "2025-01-09T20:17:20.091Z"
   },
   {
    "duration": 0,
    "start_time": "2025-01-09T20:17:20.093Z"
   },
   {
    "duration": 0,
    "start_time": "2025-01-09T20:17:20.094Z"
   },
   {
    "duration": 0,
    "start_time": "2025-01-09T20:17:20.096Z"
   },
   {
    "duration": 0,
    "start_time": "2025-01-09T20:17:20.098Z"
   },
   {
    "duration": 0,
    "start_time": "2025-01-09T20:17:20.099Z"
   },
   {
    "duration": 1436,
    "start_time": "2025-01-09T20:19:47.814Z"
   },
   {
    "duration": 918,
    "start_time": "2025-01-09T20:19:49.252Z"
   },
   {
    "duration": 178,
    "start_time": "2025-01-09T20:19:50.172Z"
   },
   {
    "duration": 5,
    "start_time": "2025-01-09T20:19:50.351Z"
   },
   {
    "duration": 12,
    "start_time": "2025-01-09T20:19:50.371Z"
   },
   {
    "duration": 511,
    "start_time": "2025-01-09T20:19:50.384Z"
   },
   {
    "duration": 1015,
    "start_time": "2025-01-09T20:19:50.897Z"
   },
   {
    "duration": 1141,
    "start_time": "2025-01-09T20:19:51.913Z"
   },
   {
    "duration": 2756,
    "start_time": "2025-01-09T20:19:53.056Z"
   },
   {
    "duration": 489,
    "start_time": "2025-01-09T20:19:55.815Z"
   },
   {
    "duration": 384,
    "start_time": "2025-01-09T20:19:56.306Z"
   },
   {
    "duration": 137,
    "start_time": "2025-01-09T20:19:56.693Z"
   },
   {
    "duration": 43,
    "start_time": "2025-01-09T20:19:56.832Z"
   },
   {
    "duration": 16,
    "start_time": "2025-01-09T20:19:56.878Z"
   },
   {
    "duration": 133,
    "start_time": "2025-01-09T20:19:56.896Z"
   },
   {
    "duration": 18,
    "start_time": "2025-01-09T20:19:57.031Z"
   },
   {
    "duration": 13220,
    "start_time": "2025-01-09T20:19:57.051Z"
   },
   {
    "duration": 157,
    "start_time": "2025-01-09T20:20:10.273Z"
   },
   {
    "duration": 107,
    "start_time": "2025-01-09T20:20:10.431Z"
   },
   {
    "duration": 4,
    "start_time": "2025-01-09T20:20:10.540Z"
   },
   {
    "duration": 427,
    "start_time": "2025-01-09T20:20:10.546Z"
   },
   {
    "duration": 449,
    "start_time": "2025-01-09T20:20:10.975Z"
   },
   {
    "duration": 366,
    "start_time": "2025-01-09T20:20:11.426Z"
   },
   {
    "duration": 399,
    "start_time": "2025-01-09T20:20:11.793Z"
   },
   {
    "duration": 1065,
    "start_time": "2025-01-09T20:20:12.193Z"
   },
   {
    "duration": 929,
    "start_time": "2025-01-09T20:20:13.260Z"
   },
   {
    "duration": 511,
    "start_time": "2025-01-09T20:20:14.191Z"
   },
   {
    "duration": 994,
    "start_time": "2025-01-09T20:20:14.704Z"
   },
   {
    "duration": 1922,
    "start_time": "2025-01-09T20:20:15.700Z"
   },
   {
    "duration": 948,
    "start_time": "2025-01-09T20:20:17.624Z"
   },
   {
    "duration": 523,
    "start_time": "2025-01-09T20:20:18.574Z"
   },
   {
    "duration": 11,
    "start_time": "2025-01-09T20:20:19.099Z"
   },
   {
    "duration": 54,
    "start_time": "2025-01-09T20:20:19.111Z"
   },
   {
    "duration": 961,
    "start_time": "2025-01-09T20:20:19.167Z"
   },
   {
    "duration": 4,
    "start_time": "2025-01-09T20:20:20.130Z"
   },
   {
    "duration": 577,
    "start_time": "2025-01-09T20:20:20.136Z"
   },
   {
    "duration": 166,
    "start_time": "2025-01-09T20:20:20.715Z"
   },
   {
    "duration": 3,
    "start_time": "2025-01-09T20:20:20.883Z"
   },
   {
    "duration": 12,
    "start_time": "2025-01-09T20:20:20.888Z"
   },
   {
    "duration": 13,
    "start_time": "2025-01-09T20:20:20.901Z"
   },
   {
    "duration": 16,
    "start_time": "2025-01-09T20:20:20.917Z"
   },
   {
    "duration": 18446,
    "start_time": "2025-01-09T20:20:33.940Z"
   },
   {
    "duration": 3,
    "start_time": "2025-01-09T20:21:03.245Z"
   },
   {
    "duration": 430,
    "start_time": "2025-01-09T20:31:29.293Z"
   },
   {
    "duration": 1837,
    "start_time": "2025-01-09T20:31:31.556Z"
   },
   {
    "duration": 324,
    "start_time": "2025-01-09T20:31:48.453Z"
   },
   {
    "duration": 287,
    "start_time": "2025-01-09T20:32:07.926Z"
   },
   {
    "duration": 1602,
    "start_time": "2025-01-09T20:33:47.203Z"
   },
   {
    "duration": 872,
    "start_time": "2025-01-09T20:33:48.807Z"
   },
   {
    "duration": 169,
    "start_time": "2025-01-09T20:33:49.681Z"
   },
   {
    "duration": 4,
    "start_time": "2025-01-09T20:33:49.852Z"
   },
   {
    "duration": 23,
    "start_time": "2025-01-09T20:33:49.858Z"
   },
   {
    "duration": 494,
    "start_time": "2025-01-09T20:33:49.882Z"
   },
   {
    "duration": 983,
    "start_time": "2025-01-09T20:33:50.378Z"
   },
   {
    "duration": 1131,
    "start_time": "2025-01-09T20:33:51.362Z"
   },
   {
    "duration": 2748,
    "start_time": "2025-01-09T20:33:52.496Z"
   },
   {
    "duration": 477,
    "start_time": "2025-01-09T20:33:55.246Z"
   },
   {
    "duration": 405,
    "start_time": "2025-01-09T20:33:55.725Z"
   },
   {
    "duration": 114,
    "start_time": "2025-01-09T20:33:56.132Z"
   },
   {
    "duration": 50,
    "start_time": "2025-01-09T20:33:56.248Z"
   },
   {
    "duration": 14,
    "start_time": "2025-01-09T20:33:56.301Z"
   },
   {
    "duration": 114,
    "start_time": "2025-01-09T20:33:56.317Z"
   },
   {
    "duration": 18,
    "start_time": "2025-01-09T20:33:56.433Z"
   },
   {
    "duration": 12900,
    "start_time": "2025-01-09T20:33:56.453Z"
   },
   {
    "duration": 145,
    "start_time": "2025-01-09T20:34:09.355Z"
   },
   {
    "duration": 105,
    "start_time": "2025-01-09T20:34:09.502Z"
   },
   {
    "duration": 4,
    "start_time": "2025-01-09T20:34:09.608Z"
   },
   {
    "duration": 404,
    "start_time": "2025-01-09T20:34:09.613Z"
   },
   {
    "duration": 442,
    "start_time": "2025-01-09T20:34:10.019Z"
   },
   {
    "duration": 351,
    "start_time": "2025-01-09T20:34:10.463Z"
   },
   {
    "duration": 395,
    "start_time": "2025-01-09T20:34:10.816Z"
   },
   {
    "duration": 1047,
    "start_time": "2025-01-09T20:34:11.213Z"
   },
   {
    "duration": 820,
    "start_time": "2025-01-09T20:34:12.262Z"
   },
   {
    "duration": 449,
    "start_time": "2025-01-09T20:34:13.084Z"
   },
   {
    "duration": 905,
    "start_time": "2025-01-09T20:34:13.534Z"
   },
   {
    "duration": 1691,
    "start_time": "2025-01-09T20:34:14.441Z"
   },
   {
    "duration": 905,
    "start_time": "2025-01-09T20:34:16.134Z"
   },
   {
    "duration": 482,
    "start_time": "2025-01-09T20:34:17.041Z"
   },
   {
    "duration": 11,
    "start_time": "2025-01-09T20:34:17.524Z"
   },
   {
    "duration": 51,
    "start_time": "2025-01-09T20:34:17.536Z"
   },
   {
    "duration": 830,
    "start_time": "2025-01-09T20:34:17.589Z"
   },
   {
    "duration": 3,
    "start_time": "2025-01-09T20:34:35.027Z"
   },
   {
    "duration": 5,
    "start_time": "2025-01-09T20:34:36.578Z"
   },
   {
    "duration": 2,
    "start_time": "2025-01-09T20:34:37.699Z"
   },
   {
    "duration": 4,
    "start_time": "2025-01-09T20:34:38.914Z"
   },
   {
    "duration": 124,
    "start_time": "2025-01-09T20:34:45.132Z"
   },
   {
    "duration": 11,
    "start_time": "2025-01-09T20:36:34.418Z"
   },
   {
    "duration": 5,
    "start_time": "2025-01-09T20:36:47.787Z"
   },
   {
    "duration": 419,
    "start_time": "2025-01-09T20:36:58.244Z"
   },
   {
    "duration": 1773,
    "start_time": "2025-01-09T20:37:01.107Z"
   },
   {
    "duration": 1781,
    "start_time": "2025-01-09T20:38:39.241Z"
   },
   {
    "duration": 1816,
    "start_time": "2025-01-09T20:38:43.585Z"
   },
   {
    "duration": 446,
    "start_time": "2025-01-09T20:38:50.890Z"
   },
   {
    "duration": 1839,
    "start_time": "2025-01-09T20:38:54.751Z"
   },
   {
    "duration": 5,
    "start_time": "2025-01-09T20:39:35.365Z"
   },
   {
    "duration": 4,
    "start_time": "2025-01-09T20:39:44.534Z"
   },
   {
    "duration": 442,
    "start_time": "2025-01-09T20:39:57.911Z"
   },
   {
    "duration": 2051,
    "start_time": "2025-01-09T20:40:00.542Z"
   },
   {
    "duration": 427,
    "start_time": "2025-01-09T20:40:29.408Z"
   },
   {
    "duration": 2029,
    "start_time": "2025-01-09T20:40:33.281Z"
   },
   {
    "duration": 115,
    "start_time": "2025-01-09T20:41:51.310Z"
   },
   {
    "duration": 46571,
    "start_time": "2025-01-09T20:42:45.440Z"
   },
   {
    "duration": 2010,
    "start_time": "2025-01-09T20:46:09.477Z"
   },
   {
    "duration": 46359,
    "start_time": "2025-01-09T20:47:00.656Z"
   },
   {
    "duration": 2092,
    "start_time": "2025-01-09T20:50:19.379Z"
   },
   {
    "duration": 3,
    "start_time": "2025-01-09T20:50:22.916Z"
   },
   {
    "duration": 2187,
    "start_time": "2025-01-09T20:52:15.755Z"
   },
   {
    "duration": 1414,
    "start_time": "2025-01-09T20:53:00.406Z"
   },
   {
    "duration": 837,
    "start_time": "2025-01-09T20:53:01.822Z"
   },
   {
    "duration": 191,
    "start_time": "2025-01-09T20:53:02.661Z"
   },
   {
    "duration": 5,
    "start_time": "2025-01-09T20:53:02.854Z"
   },
   {
    "duration": 13,
    "start_time": "2025-01-09T20:53:02.871Z"
   },
   {
    "duration": 468,
    "start_time": "2025-01-09T20:53:02.886Z"
   },
   {
    "duration": 971,
    "start_time": "2025-01-09T20:53:03.356Z"
   },
   {
    "duration": 1096,
    "start_time": "2025-01-09T20:53:04.329Z"
   },
   {
    "duration": 2604,
    "start_time": "2025-01-09T20:53:05.427Z"
   },
   {
    "duration": 453,
    "start_time": "2025-01-09T20:53:08.034Z"
   },
   {
    "duration": 354,
    "start_time": "2025-01-09T20:53:08.489Z"
   },
   {
    "duration": 103,
    "start_time": "2025-01-09T20:53:08.845Z"
   },
   {
    "duration": 44,
    "start_time": "2025-01-09T20:53:08.950Z"
   },
   {
    "duration": 12,
    "start_time": "2025-01-09T20:53:08.996Z"
   },
   {
    "duration": 161,
    "start_time": "2025-01-09T20:53:09.010Z"
   },
   {
    "duration": 17,
    "start_time": "2025-01-09T20:53:09.173Z"
   },
   {
    "duration": 12754,
    "start_time": "2025-01-09T20:53:09.192Z"
   },
   {
    "duration": 123,
    "start_time": "2025-01-09T20:53:21.948Z"
   },
   {
    "duration": 104,
    "start_time": "2025-01-09T20:53:22.073Z"
   },
   {
    "duration": 3,
    "start_time": "2025-01-09T20:53:22.179Z"
   },
   {
    "duration": 386,
    "start_time": "2025-01-09T20:53:22.184Z"
   },
   {
    "duration": 420,
    "start_time": "2025-01-09T20:53:22.572Z"
   },
   {
    "duration": 339,
    "start_time": "2025-01-09T20:53:22.994Z"
   },
   {
    "duration": 382,
    "start_time": "2025-01-09T20:53:23.335Z"
   },
   {
    "duration": 1002,
    "start_time": "2025-01-09T20:53:23.719Z"
   },
   {
    "duration": 835,
    "start_time": "2025-01-09T20:53:24.723Z"
   },
   {
    "duration": 478,
    "start_time": "2025-01-09T20:53:25.560Z"
   },
   {
    "duration": 855,
    "start_time": "2025-01-09T20:53:26.041Z"
   },
   {
    "duration": 1489,
    "start_time": "2025-01-09T20:53:26.897Z"
   },
   {
    "duration": 854,
    "start_time": "2025-01-09T20:53:28.388Z"
   },
   {
    "duration": 454,
    "start_time": "2025-01-09T20:53:29.244Z"
   },
   {
    "duration": 11,
    "start_time": "2025-01-09T20:53:29.700Z"
   },
   {
    "duration": 42,
    "start_time": "2025-01-09T20:53:29.712Z"
   },
   {
    "duration": 848,
    "start_time": "2025-01-09T20:53:29.756Z"
   },
   {
    "duration": 4,
    "start_time": "2025-01-09T20:53:30.606Z"
   },
   {
    "duration": 567,
    "start_time": "2025-01-09T20:53:30.611Z"
   },
   {
    "duration": 152,
    "start_time": "2025-01-09T20:53:31.179Z"
   },
   {
    "duration": 3,
    "start_time": "2025-01-09T20:53:31.332Z"
   },
   {
    "duration": 41,
    "start_time": "2025-01-09T20:53:31.336Z"
   },
   {
    "duration": 15,
    "start_time": "2025-01-09T20:53:31.378Z"
   },
   {
    "duration": 8,
    "start_time": "2025-01-09T20:53:31.394Z"
   },
   {
    "duration": 19572,
    "start_time": "2025-01-09T20:53:31.403Z"
   },
   {
    "duration": 92,
    "start_time": "2025-01-09T20:53:50.977Z"
   },
   {
    "duration": 435,
    "start_time": "2025-01-09T20:53:51.071Z"
   },
   {
    "duration": 1751,
    "start_time": "2025-01-09T20:53:51.507Z"
   },
   {
    "duration": 204,
    "start_time": "2025-01-09T20:53:53.260Z"
   },
   {
    "duration": 2036,
    "start_time": "2025-01-09T20:53:53.466Z"
   },
   {
    "duration": 41615,
    "start_time": "2025-01-09T20:54:26.259Z"
   },
   {
    "duration": 47153,
    "start_time": "2025-01-09T20:56:10.626Z"
   },
   {
    "duration": 47701,
    "start_time": "2025-01-09T20:59:50.792Z"
   },
   {
    "duration": 2052,
    "start_time": "2025-01-09T21:01:45.800Z"
   },
   {
    "duration": 3,
    "start_time": "2025-01-09T21:01:49.455Z"
   },
   {
    "duration": 409,
    "start_time": "2025-01-09T21:04:40.465Z"
   },
   {
    "duration": 1806,
    "start_time": "2025-01-09T21:04:42.113Z"
   },
   {
    "duration": 262015,
    "start_time": "2025-01-09T21:05:11.259Z"
   },
   {
    "duration": 3338,
    "start_time": "2025-01-09T21:12:16.636Z"
   },
   {
    "duration": 3545,
    "start_time": "2025-01-09T21:12:53.935Z"
   },
   {
    "duration": 289165,
    "start_time": "2025-01-09T21:14:34.197Z"
   },
   {
    "duration": 6217,
    "start_time": "2025-01-09T21:19:40.503Z"
   },
   {
    "duration": 3,
    "start_time": "2025-01-09T21:19:50.480Z"
   },
   {
    "duration": 43,
    "start_time": "2025-01-09T21:29:09.273Z"
   },
   {
    "duration": 403,
    "start_time": "2025-01-09T21:31:22.994Z"
   },
   {
    "duration": 5,
    "start_time": "2025-01-09T21:35:08.655Z"
   },
   {
    "duration": 89,
    "start_time": "2025-01-09T21:36:39.477Z"
   },
   {
    "duration": 134,
    "start_time": "2025-01-09T21:37:34.753Z"
   },
   {
    "duration": 3806,
    "start_time": "2025-01-09T21:47:04.483Z"
   },
   {
    "duration": 3793,
    "start_time": "2025-01-09T21:47:35.389Z"
   },
   {
    "duration": 2699,
    "start_time": "2025-01-09T21:48:07.479Z"
   },
   {
    "duration": 3360,
    "start_time": "2025-01-09T21:48:18.312Z"
   },
   {
    "duration": 3395,
    "start_time": "2025-01-09T21:50:03.285Z"
   },
   {
    "duration": 3399,
    "start_time": "2025-01-09T21:50:36.080Z"
   },
   {
    "duration": 3404,
    "start_time": "2025-01-09T21:50:55.874Z"
   },
   {
    "duration": 6023,
    "start_time": "2025-01-09T21:54:21.093Z"
   },
   {
    "duration": 6076,
    "start_time": "2025-01-09T21:54:52.007Z"
   },
   {
    "duration": 3226,
    "start_time": "2025-01-09T21:55:30.449Z"
   },
   {
    "duration": 3066,
    "start_time": "2025-01-09T21:59:00.606Z"
   },
   {
    "duration": 2624,
    "start_time": "2025-01-09T21:59:11.655Z"
   },
   {
    "duration": 753,
    "start_time": "2025-01-09T21:59:28.120Z"
   },
   {
    "duration": 1605,
    "start_time": "2025-01-09T22:05:57.378Z"
   },
   {
    "duration": 898,
    "start_time": "2025-01-09T22:05:58.985Z"
   },
   {
    "duration": 186,
    "start_time": "2025-01-09T22:05:59.885Z"
   },
   {
    "duration": 5,
    "start_time": "2025-01-09T22:06:00.073Z"
   },
   {
    "duration": 85,
    "start_time": "2025-01-09T22:06:00.079Z"
   },
   {
    "duration": 554,
    "start_time": "2025-01-09T22:06:00.165Z"
   },
   {
    "duration": 950,
    "start_time": "2025-01-09T22:06:00.720Z"
   },
   {
    "duration": 1108,
    "start_time": "2025-01-09T22:06:01.672Z"
   },
   {
    "duration": 2629,
    "start_time": "2025-01-09T22:06:02.782Z"
   },
   {
    "duration": 515,
    "start_time": "2025-01-09T22:06:05.414Z"
   },
   {
    "duration": 405,
    "start_time": "2025-01-09T22:06:05.931Z"
   },
   {
    "duration": 117,
    "start_time": "2025-01-09T22:06:06.337Z"
   },
   {
    "duration": 45,
    "start_time": "2025-01-09T22:06:06.455Z"
   },
   {
    "duration": 26,
    "start_time": "2025-01-09T22:06:06.501Z"
   },
   {
    "duration": 165,
    "start_time": "2025-01-09T22:06:06.528Z"
   },
   {
    "duration": 25,
    "start_time": "2025-01-09T22:06:06.695Z"
   },
   {
    "duration": 12913,
    "start_time": "2025-01-09T22:06:06.721Z"
   },
   {
    "duration": 135,
    "start_time": "2025-01-09T22:06:19.635Z"
   },
   {
    "duration": 108,
    "start_time": "2025-01-09T22:06:19.772Z"
   },
   {
    "duration": 4,
    "start_time": "2025-01-09T22:06:19.882Z"
   },
   {
    "duration": 402,
    "start_time": "2025-01-09T22:06:19.888Z"
   },
   {
    "duration": 428,
    "start_time": "2025-01-09T22:06:20.292Z"
   },
   {
    "duration": 344,
    "start_time": "2025-01-09T22:06:20.721Z"
   },
   {
    "duration": 388,
    "start_time": "2025-01-09T22:06:21.070Z"
   },
   {
    "duration": 987,
    "start_time": "2025-01-09T22:06:21.460Z"
   },
   {
    "duration": 846,
    "start_time": "2025-01-09T22:06:22.448Z"
   },
   {
    "duration": 429,
    "start_time": "2025-01-09T22:06:23.295Z"
   },
   {
    "duration": 903,
    "start_time": "2025-01-09T22:06:23.727Z"
   },
   {
    "duration": 1622,
    "start_time": "2025-01-09T22:06:24.632Z"
   },
   {
    "duration": 902,
    "start_time": "2025-01-09T22:06:26.256Z"
   },
   {
    "duration": 489,
    "start_time": "2025-01-09T22:06:27.159Z"
   },
   {
    "duration": 11,
    "start_time": "2025-01-09T22:06:27.649Z"
   },
   {
    "duration": 66,
    "start_time": "2025-01-09T22:06:27.661Z"
   },
   {
    "duration": 815,
    "start_time": "2025-01-09T22:06:27.728Z"
   },
   {
    "duration": 5,
    "start_time": "2025-01-09T22:06:28.544Z"
   },
   {
    "duration": 573,
    "start_time": "2025-01-09T22:06:28.550Z"
   },
   {
    "duration": 169,
    "start_time": "2025-01-09T22:06:29.124Z"
   },
   {
    "duration": 3,
    "start_time": "2025-01-09T22:06:29.295Z"
   },
   {
    "duration": 17,
    "start_time": "2025-01-09T22:06:29.299Z"
   },
   {
    "duration": 40,
    "start_time": "2025-01-09T22:06:29.318Z"
   },
   {
    "duration": 39,
    "start_time": "2025-01-09T22:06:29.360Z"
   },
   {
    "duration": 18182,
    "start_time": "2025-01-09T22:06:29.401Z"
   },
   {
    "duration": 96,
    "start_time": "2025-01-09T22:06:47.675Z"
   },
   {
    "duration": 449,
    "start_time": "2025-01-09T22:06:47.773Z"
   },
   {
    "duration": 1937,
    "start_time": "2025-01-09T22:06:48.224Z"
   },
   {
    "duration": 47752,
    "start_time": "2025-01-09T22:06:50.171Z"
   },
   {
    "duration": 2094,
    "start_time": "2025-01-09T22:07:37.925Z"
   },
   {
    "duration": 4,
    "start_time": "2025-01-09T22:07:40.020Z"
   },
   {
    "duration": 549,
    "start_time": "2025-01-09T22:07:40.026Z"
   },
   {
    "duration": 2343,
    "start_time": "2025-01-09T22:07:40.577Z"
   },
   {
    "duration": 304458,
    "start_time": "2025-01-09T22:07:42.922Z"
   },
   {
    "duration": 3307,
    "start_time": "2025-01-09T22:12:47.381Z"
   },
   {
    "duration": 286463,
    "start_time": "2025-01-09T22:12:50.690Z"
   },
   {
    "duration": 5926,
    "start_time": "2025-01-09T22:17:37.155Z"
   },
   {
    "duration": 3,
    "start_time": "2025-01-09T22:17:43.083Z"
   },
   {
    "duration": 76581,
    "start_time": "2025-01-09T22:21:23.007Z"
   },
   {
    "duration": 1553,
    "start_time": "2025-01-09T22:50:01.803Z"
   },
   {
    "duration": 929,
    "start_time": "2025-01-09T22:50:03.358Z"
   },
   {
    "duration": 172,
    "start_time": "2025-01-09T22:50:04.288Z"
   },
   {
    "duration": 10,
    "start_time": "2025-01-09T22:50:04.461Z"
   },
   {
    "duration": 80,
    "start_time": "2025-01-09T22:50:04.473Z"
   },
   {
    "duration": 550,
    "start_time": "2025-01-09T22:50:04.554Z"
   },
   {
    "duration": 1022,
    "start_time": "2025-01-09T22:50:05.106Z"
   },
   {
    "duration": 1175,
    "start_time": "2025-01-09T22:50:06.129Z"
   },
   {
    "duration": 2780,
    "start_time": "2025-01-09T22:50:07.305Z"
   },
   {
    "duration": 513,
    "start_time": "2025-01-09T22:50:10.087Z"
   },
   {
    "duration": 396,
    "start_time": "2025-01-09T22:50:10.602Z"
   },
   {
    "duration": 116,
    "start_time": "2025-01-09T22:50:10.999Z"
   },
   {
    "duration": 35,
    "start_time": "2025-01-09T22:50:11.117Z"
   },
   {
    "duration": 20,
    "start_time": "2025-01-09T22:50:11.157Z"
   },
   {
    "duration": 152,
    "start_time": "2025-01-09T22:50:11.179Z"
   },
   {
    "duration": 20,
    "start_time": "2025-01-09T22:50:11.333Z"
   },
   {
    "duration": 13038,
    "start_time": "2025-01-09T22:50:11.355Z"
   },
   {
    "duration": 148,
    "start_time": "2025-01-09T22:50:24.395Z"
   },
   {
    "duration": 108,
    "start_time": "2025-01-09T22:50:24.545Z"
   },
   {
    "duration": 5,
    "start_time": "2025-01-09T22:50:24.655Z"
   },
   {
    "duration": 392,
    "start_time": "2025-01-09T22:50:24.671Z"
   },
   {
    "duration": 433,
    "start_time": "2025-01-09T22:50:25.065Z"
   },
   {
    "duration": 366,
    "start_time": "2025-01-09T22:50:25.500Z"
   },
   {
    "duration": 386,
    "start_time": "2025-01-09T22:50:25.871Z"
   },
   {
    "duration": 1033,
    "start_time": "2025-01-09T22:50:26.259Z"
   },
   {
    "duration": 844,
    "start_time": "2025-01-09T22:50:27.293Z"
   },
   {
    "duration": 448,
    "start_time": "2025-01-09T22:50:28.139Z"
   },
   {
    "duration": 886,
    "start_time": "2025-01-09T22:50:28.589Z"
   },
   {
    "duration": 1661,
    "start_time": "2025-01-09T22:50:29.477Z"
   },
   {
    "duration": 890,
    "start_time": "2025-01-09T22:50:31.139Z"
   },
   {
    "duration": 479,
    "start_time": "2025-01-09T22:50:32.030Z"
   },
   {
    "duration": 11,
    "start_time": "2025-01-09T22:50:32.510Z"
   },
   {
    "duration": 74,
    "start_time": "2025-01-09T22:50:32.522Z"
   },
   {
    "duration": 831,
    "start_time": "2025-01-09T22:50:32.598Z"
   },
   {
    "duration": 4,
    "start_time": "2025-01-09T22:50:33.431Z"
   },
   {
    "duration": 562,
    "start_time": "2025-01-09T22:50:33.437Z"
   },
   {
    "duration": 180,
    "start_time": "2025-01-09T22:50:34.000Z"
   },
   {
    "duration": 4,
    "start_time": "2025-01-09T22:50:34.182Z"
   },
   {
    "duration": 5,
    "start_time": "2025-01-09T22:50:34.188Z"
   },
   {
    "duration": 10,
    "start_time": "2025-01-09T22:50:34.195Z"
   },
   {
    "duration": 3,
    "start_time": "2025-01-09T22:50:34.209Z"
   },
   {
    "duration": 19058,
    "start_time": "2025-01-09T22:50:34.213Z"
   },
   {
    "duration": 5,
    "start_time": "2025-01-09T22:50:53.273Z"
   },
   {
    "duration": 526,
    "start_time": "2025-01-09T22:50:53.280Z"
   },
   {
    "duration": 2079,
    "start_time": "2025-01-09T22:50:53.808Z"
   },
   {
    "duration": 46739,
    "start_time": "2025-01-09T22:50:55.889Z"
   },
   {
    "duration": 2056,
    "start_time": "2025-01-09T22:51:42.629Z"
   },
   {
    "duration": 3,
    "start_time": "2025-01-09T22:51:44.687Z"
   },
   {
    "duration": 471,
    "start_time": "2025-01-09T22:51:44.692Z"
   },
   {
    "duration": 2436,
    "start_time": "2025-01-09T22:51:45.164Z"
   },
   {
    "duration": 249672,
    "start_time": "2025-01-09T22:51:47.602Z"
   },
   {
    "duration": 3202,
    "start_time": "2025-01-09T22:55:57.276Z"
   },
   {
    "duration": 283843,
    "start_time": "2025-01-09T22:56:00.479Z"
   },
   {
    "duration": 6116,
    "start_time": "2025-01-09T23:00:44.323Z"
   },
   {
    "duration": 4,
    "start_time": "2025-01-09T23:00:50.440Z"
   },
   {
    "duration": 3238,
    "start_time": "2025-01-09T23:00:50.445Z"
   }
  ],
  "kernelspec": {
   "display_name": "Python 3 (ipykernel)",
   "language": "python",
   "name": "python3"
  },
  "language_info": {
   "codemirror_mode": {
    "name": "ipython",
    "version": 3
   },
   "file_extension": ".py",
   "mimetype": "text/x-python",
   "name": "python",
   "nbconvert_exporter": "python",
   "pygments_lexer": "ipython3",
   "version": "3.9.21"
  },
  "toc": {
   "base_numbering": 1,
   "nav_menu": {},
   "number_sections": true,
   "sideBar": true,
   "skip_h1_title": true,
   "title_cell": "Table of Contents",
   "title_sidebar": "Contents",
   "toc_cell": false,
   "toc_position": {},
   "toc_section_display": true,
   "toc_window_display": false
  }
 },
 "nbformat": 4,
 "nbformat_minor": 4
}
